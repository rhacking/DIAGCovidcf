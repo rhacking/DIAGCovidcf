{
 "cells": [
  {
   "cell_type": "code",
   "execution_count": 1,
   "id": "authorized-regular",
   "metadata": {},
   "outputs": [],
   "source": [
    "import pandas as pd"
   ]
  },
  {
   "cell_type": "code",
   "execution_count": 2,
   "id": "indie-cricket",
   "metadata": {},
   "outputs": [],
   "source": [
    "df = pd.read_csv('data_steven_anon.csv')"
   ]
  },
  {
   "cell_type": "code",
   "execution_count": 4,
   "id": "alert-pharmacy",
   "metadata": {},
   "outputs": [],
   "source": [
    "input_features = (['dem_pat_age_at_inclusion', 'dem_pat_gender', 'dem_pat_BMI'] \n",
    "                    + list(df.columns[df.columns.str.startswith('med_hist')].values)\n",
    "                    + list(df.columns[df.columns.str.startswith('adm') & ~df.columns.isin(['adm_date', 'adm_dept', 'adm_hosp_date'])].values))"
   ]
  },
  {
   "cell_type": "code",
   "execution_count": 25,
   "id": "greatest-atmosphere",
   "metadata": {},
   "outputs": [],
   "source": [
    "X = df[input_features]\n",
    "y = df['COVID_and_prob_and_pos']"
   ]
  },
  {
   "cell_type": "code",
   "execution_count": 26,
   "id": "moderate-horizon",
   "metadata": {},
   "outputs": [
    {
     "data": {
      "text/plain": [
       "1    314\n",
       "0    120\n",
       "Name: COVID_and_prob_and_pos, dtype: int64"
      ]
     },
     "execution_count": 26,
     "metadata": {},
     "output_type": "execute_result"
    }
   ],
   "source": [
    "y.value_counts()"
   ]
  },
  {
   "cell_type": "code",
   "execution_count": 98,
   "id": "traditional-scope",
   "metadata": {},
   "outputs": [
    {
     "name": "stderr",
     "output_type": "stream",
     "text": [
      "Exception ignored in: <function Booster.__del__ at 0x0000016E02467678>\n",
      "Traceback (most recent call last):\n",
      "  File \"c:\\users\\roel\\.virtualenvs\\diagcovid-ckc2berq\\lib\\site-packages\\lightgbm\\basic.py\", line 2288, in __del__\n",
      "    _safe_call(_LIB.LGBM_BoosterFree(self.handle))\n",
      "OSError: exception: access violation writing 0x0000000000000000\n"
     ]
    },
    {
     "data": {
      "text/plain": [
       "0.6796875"
      ]
     },
     "execution_count": 98,
     "metadata": {},
     "output_type": "execute_result"
    }
   ],
   "source": [
    "from sklearn.model_selection import cross_val_score\n",
    "from sklearn.ensemble import BaggingClassifier\n",
    "from lightgbm.sklearn import LGBMClassifier\n",
    "clf = LGBMClassifier(n_jobs=-1)\n",
    "clf = BaggingClassifier(clf, n_estimators=500, bootstrap_features=True)\n",
    "cross_val_score(clf, X_train, y_train, scoring='roc_auc', cv=7).mean()"
   ]
  },
  {
   "cell_type": "code",
   "execution_count": 43,
   "id": "stuck-cosmetic",
   "metadata": {},
   "outputs": [],
   "source": [
    "X_train, y_train = X[df.institute_abbreviation == 'RUNMC'], y[df.institute_abbreviation == 'RUNMC']\n",
    "X_test, y_test = X[df.institute_abbreviation != 'RUNMC'], y[df.institute_abbreviation != 'RUNMC']"
   ]
  },
  {
   "cell_type": "code",
   "execution_count": 51,
   "id": "representative-revision",
   "metadata": {},
   "outputs": [
    {
     "data": {
      "text/plain": [
       "BaggingClassifier(base_estimator=LGBMClassifier(), bootstrap_features=True,\n",
       "                  n_estimators=3000)"
      ]
     },
     "execution_count": 51,
     "metadata": {},
     "output_type": "execute_result"
    }
   ],
   "source": [
    "clf = LGBMClassifier(n_jobs=-1)\n",
    "clf = BaggingClassifier(clf, n_estimators=3000, bootstrap_features=True)\n",
    "clf.fit(X_train, y_train)"
   ]
  },
  {
   "cell_type": "code",
   "execution_count": 79,
   "id": "durable-forge",
   "metadata": {},
   "outputs": [
    {
     "data": {
      "text/plain": [
       "0.8821119356833642"
      ]
     },
     "execution_count": 79,
     "metadata": {},
     "output_type": "execute_result"
    }
   ],
   "source": [
    "from sklearn.metrics import roc_auc_score\n",
    "roc_auc_score(y_test, clf.predict_proba(X_test)[:, 1])"
   ]
  },
  {
   "cell_type": "code",
   "execution_count": 84,
   "id": "invalid-middle",
   "metadata": {},
   "outputs": [],
   "source": [
    "import re\n",
    "class PasswordFilter(object):\n",
    "    def __init__(self, strings_to_filter, stream):\n",
    "        self.stream = stream\n",
    "        self.strings_to_filter = strings_to_filter\n",
    "\n",
    "    def __getattr__(self, attr_name):\n",
    "        return getattr(self.stream, attr_name)\n",
    "\n",
    "    def write(self, data):\n",
    "        if data.strip() == '' and '\\n' in data:\n",
    "            return\n",
    "        for string in self.strings_to_filter:\n",
    "            if string in data:\n",
    "                return\n",
    "        self.stream.write(data)\n",
    "        self.stream.flush()\n",
    "\n",
    "    def flush(self):\n",
    "        self.stream.flush()"
   ]
  },
  {
   "cell_type": "code",
   "execution_count": 63,
   "id": "north-duplicate",
   "metadata": {},
   "outputs": [],
   "source": [
    "import sys\n",
    "old_out = sys.stdout"
   ]
  },
  {
   "cell_type": "code",
   "execution_count": 85,
   "id": "objective-edition",
   "metadata": {},
   "outputs": [],
   "source": [
    "filter_words = ['[LightGBM]']\n",
    "sys.stdout = PasswordFilter(filter_words, old_out)"
   ]
  },
  {
   "cell_type": "code",
   "execution_count": 99,
   "id": "ordinary-console",
   "metadata": {
    "colab": {
     "base_uri": "https://localhost:8080/"
    },
    "id": "O-KBTNCjtTie",
    "outputId": "29b2354b-f1af-47f9-9281-7b0c6cbddcbb"
   },
   "outputs": [],
   "source": [
    "import lightgbm as lgb\n",
    "\n",
    "import optuna\n",
    "import numpy as np\n",
    "\n",
    "from sklearn.model_selection import cross_val_score, RepeatedStratifiedKFold\n",
    "import warnings\n",
    "\n",
    "# 1. Define an objective function to be maximized.\n",
    "def objective(trial):\n",
    "    # 2. Suggest values of the hyperparameters using a trial object.\n",
    "    param = {\n",
    "        'objective': 'binary',\n",
    "        'metric': 'auc',\n",
    "        'verbosity': -1,\n",
    "        'boosting_type': trial.suggest_categorical('boosting_type', ['gbdt', 'dart', 'rf', 'goss']),\n",
    "        'lambda_l1': trial.suggest_loguniform('lambda_l1', 1e-10, 100.0),\n",
    "        'lambda_l2': trial.suggest_loguniform('lambda_l2', 1e-10, 100.0),\n",
    "        'num_leaves': trial.suggest_int('num_leaves', 2, 400),\n",
    "        'max_depth': trial.suggest_int('max_depth', 0, 40), \n",
    "        'feature_fraction': trial.suggest_uniform('feature_fraction', 0.01, 1.0),\n",
    "        'feature_fraction_bynode': trial.suggest_uniform('feature_fraction_bynode', 0.01, 1.0), \n",
    "        'min_child_samples': trial.suggest_int('min_child_samples', 2, 200),\n",
    "        'linear_tree': trial.suggest_categorical('linear_tree', [False, True]), \n",
    "        'feature_pre_filter': False, \n",
    "        'max_bin': trial.suggest_int('max_bin', 7, 511), \n",
    "        'extra_trees': trial.suggest_categorical('extra_trees', [False, True]), \n",
    "        'path_smooth': trial.suggest_loguniform('path_smooth', 1e-12, 100), \n",
    "        'learning_rate': trial.suggest_loguniform('learning_rate', 1e-30, 1), \n",
    "        'min_gain_to_split': trial.suggest_loguniform('min_gain_to_split', 1e-20, 100), \n",
    "        'min_sum_hessian_in_leaf': trial.suggest_loguniform('min_sum_hessian_in_leaf', 1e-6, 1e2), \n",
    "        'num_boost_round': trial.suggest_int('num_boost_round', 2, 600)\n",
    "    }\n",
    "    \n",
    "    if param['boosting_type'] != 'goss':\n",
    "        not_goss_params = {\n",
    "            'bagging_fraction': trial.suggest_uniform('bagging_fraction', 0.01, 0.999999),\n",
    "            'bagging_freq': trial.suggest_int('bagging_freq', 1, 100),\n",
    "        }\n",
    "        param.update(not_goss_params)\n",
    "\n",
    "    if param['boosting_type'] == 'dart':\n",
    "        dart_params = {\n",
    "          'drop_rate': trial.suggest_uniform('drop_rate', 0.01, 1.0), \n",
    "          'max_drop': trial.suggest_int('max_drop', 0, 200), \n",
    "          'skip_drop': trial.suggest_uniform('skip_drop', 0.001, 1.0), \n",
    "          'xgboost_dart_mode': trial.suggest_categorical('xgboost_dart_mode', [False, True]), \n",
    "          'uniform_drop': trial.suggest_categorical('uniform_drop', [False, True])\n",
    "        }\n",
    "\n",
    "        param.update(dart_params)\n",
    "    \n",
    "    clf = LGBMClassifier(n_jobs=-1, **param)\n",
    "#     clf = BaggingClassifier(LGBMClassifier(n_jobs=-1, **param), n_estimators=55, \n",
    "#                             bootstrap=trial.suggest_categorical('bootstrap', [False, True]), \n",
    "#                             bootstrap_features=trial.suggest_categorical('bootstrap_features', [False, True]), \n",
    "#                            max_samples=trial.suggest_uniform('max_samples', 0.01, 1.0), \n",
    "#                            max_features=trial.suggest_uniform('max_features', 0.01, 1.0))\n",
    "    with warnings.catch_warnings():\n",
    "        warnings.filterwarnings('ignore')\n",
    "        return cross_val_score(clf, (X_train), y_train, cv=RepeatedStratifiedKFold(n_repeats=5), scoring='roc_auc').mean()\n",
    "#     aucs = []\n",
    "#     for i in range(5):\n",
    "#         train_data = lgb.Dataset(imputer.transform(X_train), label=y_train)\n",
    "#         aucs.append(lgb.cv(param, train_data, num_boost_round=num_boost_round, nfold=7)['auc-mean'][-1])\n",
    "#     # auc = roc_auc_score(split_data(test)[1], bst.predict(split_data(test)[0]))\n",
    "#     return np.mean(aucs)"
   ]
  },
  {
   "cell_type": "code",
   "execution_count": 60,
   "id": "considerable-renewal",
   "metadata": {
    "colab": {
     "base_uri": "https://localhost:8080/"
    },
    "id": "O-KBTNCjtTie",
    "outputId": "29b2354b-f1af-47f9-9281-7b0c6cbddcbb"
   },
   "outputs": [
    {
     "name": "stderr",
     "output_type": "stream",
     "text": [
      "\u001b[32m[I 2021-05-17 20:45:10,586]\u001b[0m A new study created in memory with name: no-name-74bb4595-8822-457b-b076-a4722588b820\u001b[0m\n"
     ]
    }
   ],
   "source": [
    "# 3. Create a study object and optimize the objective function.\n",
    "study = optuna.create_study(direction='maximize')"
   ]
  },
  {
   "cell_type": "code",
   "execution_count": 92,
   "id": "pharmaceutical-surveillance",
   "metadata": {},
   "outputs": [
    {
     "name": "stderr",
     "output_type": "stream",
     "text": [
      "c:\\users\\roel\\.virtualenvs\\diagcovid-ckc2berq\\lib\\site-packages\\ipykernel_launcher.py:15: ExperimentalWarning: enqueue_trial is experimental (supported from v1.2.0). The interface can change in the future.\n",
      "  from ipykernel import kernelapp as app\n",
      "c:\\users\\roel\\.virtualenvs\\diagcovid-ckc2berq\\lib\\site-packages\\optuna\\study.py:857: ExperimentalWarning: create_trial is experimental (supported from v2.0.0). The interface can change in the future.\n",
      "  create_trial(state=TrialState.WAITING, system_attrs={\"fixed_params\": params})\n",
      "c:\\users\\roel\\.virtualenvs\\diagcovid-ckc2berq\\lib\\site-packages\\optuna\\study.py:857: ExperimentalWarning: add_trial is experimental (supported from v2.0.0). The interface can change in the future.\n",
      "  create_trial(state=TrialState.WAITING, system_attrs={\"fixed_params\": params})\n"
     ]
    }
   ],
   "source": [
    "study.enqueue_trial({'boosting_type': 'gbdt',\n",
    " 'lambda_l1': 0.0,\n",
    " 'lambda_l2': 0.0,\n",
    " 'num_leaves': 31,\n",
    " 'max_depth': 0,\n",
    " 'feature_fraction': 1,\n",
    " 'feature_fraction_bynode': 1,\n",
    " 'min_child_samples': 20,\n",
    " 'linear_tree': False,\n",
    " 'max_bin': 255,\n",
    " 'extra_trees': False,\n",
    " 'num_boost_round': 100, \n",
    " 'path_smooth': 0, \n",
    " 'bagging_fraction': 0.999999, \n",
    " 'bagging_freq': 99})"
   ]
  },
  {
   "cell_type": "code",
   "execution_count": 181,
   "id": "elder-cause",
   "metadata": {
    "colab": {
     "base_uri": "https://localhost:8080/"
    },
    "id": "XV8gJ8SWupnx",
    "outputId": "946c6ab7-bbb9-4110-fdcf-6d853e0bbacc",
    "scrolled": true,
    "tags": []
   },
   "outputs": [
    {
     "name": "stderr",
     "output_type": "stream",
     "text": [
      "\u001b[32m[I 2021-05-17 21:53:50,745]\u001b[0m Trial 258 finished with value: 0.7440098814229249 and parameters: {'boosting_type': 'rf', 'lambda_l1': 5.120755697322511e-08, 'lambda_l2': 1.0651948732605134e-08, 'num_leaves': 378, 'max_depth': 27, 'feature_fraction': 0.8327870430943521, 'feature_fraction_bynode': 0.24685101199335172, 'min_child_samples': 2, 'linear_tree': False, 'max_bin': 120, 'extra_trees': True, 'path_smooth': 2.3588408540715134e-10, 'learning_rate': 2.5748967294104398e-26, 'min_gain_to_split': 2.4719026585779106e-18, 'min_sum_hessian_in_leaf': 0.0002489329259289947, 'num_boost_round': 559, 'bagging_fraction': 0.8898115064685196, 'bagging_freq': 79}. Best is trial 231 with value: 0.7646126482213438.\u001b[0m\n",
      "\u001b[32m[I 2021-05-17 21:53:56,216]\u001b[0m Trial 259 finished with value: 0.7444051383399208 and parameters: {'boosting_type': 'rf', 'lambda_l1': 1.9231214679087477e-08, 'lambda_l2': 3.925056283102334e-09, 'num_leaves': 359, 'max_depth': 31, 'feature_fraction': 0.8733243416387816, 'feature_fraction_bynode': 0.26473636722931604, 'min_child_samples': 5, 'linear_tree': False, 'max_bin': 131, 'extra_trees': True, 'path_smooth': 4.675980800211981e-10, 'learning_rate': 1.9450999527824704e-25, 'min_gain_to_split': 2.053773607774149e-17, 'min_sum_hessian_in_leaf': 0.0001657986159357426, 'num_boost_round': 538, 'bagging_fraction': 0.9211285144776972, 'bagging_freq': 84}. Best is trial 231 with value: 0.7646126482213438.\u001b[0m\n",
      "\u001b[32m[I 2021-05-17 21:54:01,135]\u001b[0m Trial 260 finished with value: 0.7215823451910408 and parameters: {'boosting_type': 'rf', 'lambda_l1': 5.640563994199144e-09, 'lambda_l2': 3.582619445869351e-08, 'num_leaves': 369, 'max_depth': 28, 'feature_fraction': 0.8931848640356032, 'feature_fraction_bynode': 0.2874965536528778, 'min_child_samples': 2, 'linear_tree': False, 'max_bin': 145, 'extra_trees': True, 'path_smooth': 94.92682068254561, 'learning_rate': 1.1425843767000649e-24, 'min_gain_to_split': 9.93248140959676e-19, 'min_sum_hessian_in_leaf': 9.769113578632387e-05, 'num_boost_round': 567, 'bagging_fraction': 0.9433725927784229, 'bagging_freq': 77}. Best is trial 231 with value: 0.7646126482213438.\u001b[0m\n",
      "\u001b[32m[I 2021-05-17 21:54:04,504]\u001b[0m Trial 261 finished with value: 0.7194749670619235 and parameters: {'boosting_type': 'rf', 'lambda_l1': 1.2257765805314787e-08, 'lambda_l2': 8.39450840132319e-08, 'num_leaves': 381, 'max_depth': 27, 'feature_fraction': 0.8527463033183712, 'feature_fraction_bynode': 0.31621458031274996, 'min_child_samples': 10, 'linear_tree': False, 'max_bin': 107, 'extra_trees': True, 'path_smooth': 4.93231955845515e-10, 'learning_rate': 5.559417172472659e-26, 'min_gain_to_split': 9.276777982645636e-17, 'min_sum_hessian_in_leaf': 0.00021738742296625895, 'num_boost_round': 548, 'bagging_fraction': 0.9264536008499302, 'bagging_freq': 81}. Best is trial 231 with value: 0.7646126482213438.\u001b[0m\n",
      "\u001b[32m[I 2021-05-17 21:54:08,940]\u001b[0m Trial 262 finished with value: 0.7396060606060607 and parameters: {'boosting_type': 'rf', 'lambda_l1': 3.286274922795525e-09, 'lambda_l2': 8.466839084380017e-09, 'num_leaves': 352, 'max_depth': 26, 'feature_fraction': 0.7937364237544378, 'feature_fraction_bynode': 0.23630209224452253, 'min_child_samples': 6, 'linear_tree': False, 'max_bin': 91, 'extra_trees': True, 'path_smooth': 1.483822736634244e-10, 'learning_rate': 9.960310505867512e-28, 'min_gain_to_split': 7.385131243823162e-18, 'min_sum_hessian_in_leaf': 0.00037171966213241206, 'num_boost_round': 527, 'bagging_fraction': 0.893774023818898, 'bagging_freq': 93}. Best is trial 231 with value: 0.7646126482213438.\u001b[0m\n",
      "\u001b[32m[I 2021-05-17 21:54:20,504]\u001b[0m Trial 263 finished with value: 0.7388063241106719 and parameters: {'boosting_type': 'rf', 'lambda_l1': 2.4707433811522643e-08, 'lambda_l2': 1.773507346254614e-08, 'num_leaves': 364, 'max_depth': 29, 'feature_fraction': 0.8823416059651521, 'feature_fraction_bynode': 0.34067584805552775, 'min_child_samples': 2, 'linear_tree': False, 'max_bin': 124, 'extra_trees': True, 'path_smooth': 8.485269090489607e-10, 'learning_rate': 7.636806670430642e-25, 'min_gain_to_split': 1.1100731406025479e-15, 'min_sum_hessian_in_leaf': 0.0001459438253509241, 'num_boost_round': 532, 'bagging_fraction': 0.9559321567572584, 'bagging_freq': 83}. Best is trial 231 with value: 0.7646126482213438.\u001b[0m\n",
      "\u001b[32m[I 2021-05-17 21:54:22,909]\u001b[0m Trial 264 finished with value: 0.5 and parameters: {'boosting_type': 'goss', 'lambda_l1': 8.432890925458943e-09, 'lambda_l2': 5.444284442476503e-09, 'num_leaves': 375, 'max_depth': 25, 'feature_fraction': 0.8389438062722552, 'feature_fraction_bynode': 0.29954500535640094, 'min_child_samples': 9, 'linear_tree': False, 'max_bin': 154, 'extra_trees': True, 'path_smooth': 1.8387686052602293e-09, 'learning_rate': 9.231292594747362e-27, 'min_gain_to_split': 3.067754138389554e-17, 'min_sum_hessian_in_leaf': 0.0011728397008934303, 'num_boost_round': 554}. Best is trial 231 with value: 0.7646126482213438.\u001b[0m\n",
      "\u001b[32m[I 2021-05-17 21:54:33,936]\u001b[0m Trial 265 finished with value: 0.7559466403162055 and parameters: {'boosting_type': 'rf', 'lambda_l1': 5.8648202468324306e-08, 'lambda_l2': 2.367114211765467e-09, 'num_leaves': 357, 'max_depth': 29, 'feature_fraction': 0.8640454283450046, 'feature_fraction_bynode': 0.26624088684066327, 'min_child_samples': 2, 'linear_tree': False, 'max_bin': 138, 'extra_trees': True, 'path_smooth': 4.826494021004413e-09, 'learning_rate': 1.7719934968397025e-25, 'min_gain_to_split': 2.7089071430740913e-16, 'min_sum_hessian_in_leaf': 0.00045857979002093027, 'num_boost_round': 542, 'bagging_fraction': 0.9116135661528517, 'bagging_freq': 79}. Best is trial 231 with value: 0.7646126482213438.\u001b[0m\n",
      "\u001b[32m[I 2021-05-17 21:54:45,828]\u001b[0m Trial 266 finished with value: 0.7531166007905139 and parameters: {'boosting_type': 'rf', 'lambda_l1': 1.333713539180921e-07, 'lambda_l2': 9.896121479804285e-10, 'num_leaves': 348, 'max_depth': 28, 'feature_fraction': 0.8619486541176651, 'feature_fraction_bynode': 0.27138156034190597, 'min_child_samples': 2, 'linear_tree': False, 'max_bin': 134, 'extra_trees': True, 'path_smooth': 6.354711096962032e-09, 'learning_rate': 2.2282163456698746e-25, 'min_gain_to_split': 3.6576242354028755e-16, 'min_sum_hessian_in_leaf': 0.00045609836962037537, 'num_boost_round': 571, 'bagging_fraction': 0.9444557634244392, 'bagging_freq': 80}. Best is trial 231 with value: 0.7646126482213438.\u001b[0m\n",
      "\u001b[32m[I 2021-05-17 21:54:46,641]\u001b[0m Trial 267 finished with value: 0.6234505928853755 and parameters: {'boosting_type': 'rf', 'lambda_l1': 2.5364441942577893e-07, 'lambda_l2': 8.831389705534869e-10, 'num_leaves': 348, 'max_depth': 30, 'feature_fraction': 0.8534017557221377, 'feature_fraction_bynode': 0.2667297306869281, 'min_child_samples': 66, 'linear_tree': False, 'max_bin': 139, 'extra_trees': True, 'path_smooth': 5.56912085182265e-09, 'learning_rate': 1.197218139351618e-25, 'min_gain_to_split': 3.3121392436450943e-16, 'min_sum_hessian_in_leaf': 0.0004245818404963336, 'num_boost_round': 581, 'bagging_fraction': 0.922767029368195, 'bagging_freq': 86}. Best is trial 231 with value: 0.7646126482213438.\u001b[0m\n",
      "\u001b[32m[I 2021-05-17 21:55:15,094]\u001b[0m Trial 268 finished with value: 0.5 and parameters: {'boosting_type': 'dart', 'lambda_l1': 1.215815232174133e-07, 'lambda_l2': 1.1318687819104637e-09, 'num_leaves': 356, 'max_depth': 28, 'feature_fraction': 0.8069414150461863, 'feature_fraction_bynode': 0.3117145261792038, 'min_child_samples': 2, 'linear_tree': False, 'max_bin': 134, 'extra_trees': True, 'path_smooth': 1.0945091348594471e-08, 'learning_rate': 4.24355302713218e-26, 'min_gain_to_split': 1.4579146534260048e-15, 'min_sum_hessian_in_leaf': 0.000315592364218502, 'num_boost_round': 573, 'bagging_fraction': 0.9454500847345462, 'bagging_freq': 80, 'drop_rate': 0.23600930716815305, 'max_drop': 99, 'skip_drop': 0.4502812002279757, 'xgboost_dart_mode': True, 'uniform_drop': True}. Best is trial 231 with value: 0.7646126482213438.\u001b[0m\n",
      "\u001b[32m[I 2021-05-17 21:55:25,498]\u001b[0m Trial 269 finished with value: 0.7355032938076417 and parameters: {'boosting_type': 'rf', 'lambda_l1': 5.30153389207973e-07, 'lambda_l2': 2.2520113586622796e-09, 'num_leaves': 345, 'max_depth': 27, 'feature_fraction': 0.7683806725986652, 'feature_fraction_bynode': 0.2898393691525347, 'min_child_samples': 2, 'linear_tree': False, 'max_bin': 147, 'extra_trees': True, 'path_smooth': 4.41220850913637e-09, 'learning_rate': 2.689119060708001e-25, 'min_gain_to_split': 6.406009670638374e-16, 'min_sum_hessian_in_leaf': 0.00021471786506986124, 'num_boost_round': 562, 'bagging_fraction': 0.8210981750288753, 'bagging_freq': 83}. Best is trial 231 with value: 0.7646126482213438.\u001b[0m\n",
      "\u001b[32m[I 2021-05-17 21:55:28,203]\u001b[0m Trial 270 finished with value: 0.7103221343873517 and parameters: {'boosting_type': 'rf', 'lambda_l1': 9.881458582870757e-08, 'lambda_l2': 2.448798598281488e-10, 'num_leaves': 358, 'max_depth': 31, 'feature_fraction': 0.8360859032325445, 'feature_fraction_bynode': 0.32553339575089557, 'min_child_samples': 13, 'linear_tree': False, 'max_bin': 129, 'extra_trees': True, 'path_smooth': 1.0248248030205941e-08, 'learning_rate': 3.670704920300891e-27, 'min_gain_to_split': 2.692635719708693e-15, 'min_sum_hessian_in_leaf': 0.0004663427159617343, 'num_boost_round': 547, 'bagging_fraction': 0.932073130552756, 'bagging_freq': 95}. Best is trial 231 with value: 0.7646126482213438.\u001b[0m\n",
      "\u001b[32m[I 2021-05-17 21:55:32,853]\u001b[0m Trial 271 finished with value: 0.7511660079051383 and parameters: {'boosting_type': 'rf', 'lambda_l1': 6.054545307740096e-08, 'lambda_l2': 2.5744930945346936e-09, 'num_leaves': 336, 'max_depth': 26, 'feature_fraction': 0.8694042423753553, 'feature_fraction_bynode': 0.2558604837830595, 'min_child_samples': 6, 'linear_tree': False, 'max_bin': 139, 'extra_trees': True, 'path_smooth': 3.531778532097221e-08, 'learning_rate': 2.3375384848558491e-26, 'min_gain_to_split': 1.9808735246880505e-16, 'min_sum_hessian_in_leaf': 0.0005577861006395895, 'num_boost_round': 566, 'bagging_fraction': 0.9114263376093892, 'bagging_freq': 99}. Best is trial 231 with value: 0.7646126482213438.\u001b[0m\n",
      "\u001b[32m[I 2021-05-17 21:55:36,395]\u001b[0m Trial 272 finished with value: 0.740629117259552 and parameters: {'boosting_type': 'rf', 'lambda_l1': 8.426022230165132e-08, 'lambda_l2': 2.4905713907823807e-09, 'num_leaves': 337, 'max_depth': 26, 'feature_fraction': 0.8701441424735895, 'feature_fraction_bynode': 0.25976401702761115, 'min_child_samples': 9, 'linear_tree': False, 'max_bin': 119, 'extra_trees': True, 'path_smooth': 2.720937912274519e-09, 'learning_rate': 3.011416028126659e-26, 'min_gain_to_split': 2.0906754191644482e-16, 'min_sum_hessian_in_leaf': 0.0006286764911393474, 'num_boost_round': 592, 'bagging_fraction': 0.9143992533097999, 'bagging_freq': 98}. Best is trial 231 with value: 0.7646126482213438.\u001b[0m\n",
      "\u001b[32m[I 2021-05-17 21:55:41,929]\u001b[0m Trial 273 finished with value: 0.7511666666666668 and parameters: {'boosting_type': 'rf', 'lambda_l1': 5.636782132476067e-08, 'lambda_l2': 5.508659313777104e-10, 'num_leaves': 335, 'max_depth': 25, 'feature_fraction': 0.865089560784401, 'feature_fraction_bynode': 0.2527366363233418, 'min_child_samples': 5, 'linear_tree': False, 'max_bin': 140, 'extra_trees': True, 'path_smooth': 2.5898691599063188e-08, 'learning_rate': 9.90825027041002e-27, 'min_gain_to_split': 1.2172652307201842e-16, 'min_sum_hessian_in_leaf': 0.0005662303369046869, 'num_boost_round': 578, 'bagging_fraction': 0.9464832804218006, 'bagging_freq': 100}. Best is trial 231 with value: 0.7646126482213438.\u001b[0m\n",
      "\u001b[32m[I 2021-05-17 21:55:53,117]\u001b[0m Trial 274 finished with value: 0.7347819499341238 and parameters: {'boosting_type': 'rf', 'lambda_l1': 1.393702206402163e-07, 'lambda_l2': 6.469525406515791e-10, 'num_leaves': 333, 'max_depth': 25, 'feature_fraction': 0.9031572918519237, 'feature_fraction_bynode': 0.22435344752988448, 'min_child_samples': 2, 'linear_tree': False, 'max_bin': 138, 'extra_trees': True, 'path_smooth': 2.398074829097353e-08, 'learning_rate': 1.52406205606406e-26, 'min_gain_to_split': 1.2624537523111403e-16, 'min_sum_hessian_in_leaf': 0.0007469901838693205, 'num_boost_round': 586, 'bagging_fraction': 0.9513684588242678, 'bagging_freq': 100}. Best is trial 231 with value: 0.7646126482213438.\u001b[0m\n",
      "\u001b[32m[I 2021-05-17 21:56:04,295]\u001b[0m Trial 275 finished with value: 0.7443517786561266 and parameters: {'boosting_type': 'rf', 'lambda_l1': 5.768510581563665e-08, 'lambda_l2': 4.5899495278924187e-10, 'num_leaves': 319, 'max_depth': 24, 'feature_fraction': 0.8743976645124628, 'feature_fraction_bynode': 0.2574770315154465, 'min_child_samples': 2, 'linear_tree': False, 'max_bin': 128, 'extra_trees': True, 'path_smooth': 4.0727231771682923e-08, 'learning_rate': 4.431554292293068e-27, 'min_gain_to_split': 8.484561988092945e-17, 'min_sum_hessian_in_leaf': 0.0004926561395075999, 'num_boost_round': 572, 'bagging_fraction': 0.9684899802826388, 'bagging_freq': 99}. Best is trial 231 with value: 0.7646126482213438.\u001b[0m\n",
      "\u001b[32m[I 2021-05-17 21:56:08,950]\u001b[0m Trial 276 finished with value: 0.7302812911725955 and parameters: {'boosting_type': 'rf', 'lambda_l1': 1.7954503194061303e-07, 'lambda_l2': 2.7772559864080125e-10, 'num_leaves': 330, 'max_depth': 25, 'feature_fraction': 0.8555149840128857, 'feature_fraction_bynode': 0.21409923221413749, 'min_child_samples': 6, 'linear_tree': False, 'max_bin': 141, 'extra_trees': True, 'path_smooth': 1.740156097877649e-08, 'learning_rate': 1.0931976574922635e-27, 'min_gain_to_split': 2.8772890220785305e-16, 'min_sum_hessian_in_leaf': 0.0008227885791358697, 'num_boost_round': 597, 'bagging_fraction': 0.9407690661156036, 'bagging_freq': 80}. Best is trial 231 with value: 0.7646126482213438.\u001b[0m\n",
      "\u001b[32m[I 2021-05-17 21:56:11,911]\u001b[0m Trial 277 finished with value: 0.7231422924901187 and parameters: {'boosting_type': 'rf', 'lambda_l1': 6.84002502590628e-08, 'lambda_l2': 1.5110925064703978e-09, 'num_leaves': 344, 'max_depth': 26, 'feature_fraction': 0.8860100703491011, 'feature_fraction_bynode': 0.24127151152956725, 'min_child_samples': 12, 'linear_tree': False, 'max_bin': 123, 'extra_trees': True, 'path_smooth': 8.217953307930078e-09, 'learning_rate': 1.3375691571773512e-25, 'min_gain_to_split': 2.2515754582557374e-18, 'min_sum_hessian_in_leaf': 0.00032408836972103443, 'num_boost_round': 578, 'bagging_fraction': 0.9750598643560302, 'bagging_freq': 100}. Best is trial 231 with value: 0.7646126482213438.\u001b[0m\n",
      "\u001b[32m[I 2021-05-17 21:56:13,168]\u001b[0m Trial 278 finished with value: 0.5 and parameters: {'boosting_type': 'gbdt', 'lambda_l1': 3.23525263086308e-07, 'lambda_l2': 9.275495479199e-10, 'num_leaves': 337, 'max_depth': 25, 'feature_fraction': 0.9099412366518221, 'feature_fraction_bynode': 0.27265902553662436, 'min_child_samples': 79, 'linear_tree': True, 'max_bin': 113, 'extra_trees': True, 'path_smooth': 5.3667537021827333e-08, 'learning_rate': 1.034799749640893e-26, 'min_gain_to_split': 1.2238250631650224e-17, 'min_sum_hessian_in_leaf': 0.000595580399500749, 'num_boost_round': 567, 'bagging_fraction': 0.9998967121820734, 'bagging_freq': 81}. Best is trial 231 with value: 0.7646126482213438.\u001b[0m\n",
      "\u001b[32m[I 2021-05-17 21:56:24,438]\u001b[0m Trial 279 finished with value: 0.7314268774703556 and parameters: {'boosting_type': 'rf', 'lambda_l1': 3.844992826064012e-08, 'lambda_l2': 1.50522781060954e-09, 'num_leaves': 352, 'max_depth': 27, 'feature_fraction': 0.8652979575649453, 'feature_fraction_bynode': 0.25256408931421365, 'min_child_samples': 2, 'linear_tree': False, 'max_bin': 134, 'extra_trees': True, 'path_smooth': 2.7004634831112796e-08, 'learning_rate': 4.0180011438169595e-26, 'min_gain_to_split': 1.473356154374258e-16, 'min_sum_hessian_in_leaf': 0.00041476396478966495, 'num_boost_round': 558, 'bagging_fraction': 0.9511115274147109, 'bagging_freq': 99}. Best is trial 231 with value: 0.7646126482213438.\u001b[0m\n",
      "\u001b[32m[I 2021-05-17 21:56:25,183]\u001b[0m Trial 280 finished with value: 0.5 and parameters: {'boosting_type': 'rf', 'lambda_l1': 3.825234865318555e-08, 'lambda_l2': 1.525564960426471e-10, 'num_leaves': 345, 'max_depth': 26, 'feature_fraction': 0.8951652883931769, 'feature_fraction_bynode': 0.2801870981542656, 'min_child_samples': 163, 'linear_tree': False, 'max_bin': 147, 'extra_trees': True, 'path_smooth': 2.2603694123350603e-09, 'learning_rate': 1.251673093012271e-25, 'min_gain_to_split': 6.508058087777942e-18, 'min_sum_hessian_in_leaf': 0.0002846805469377336, 'num_boost_round': 542, 'bagging_fraction': 0.9241745727296036, 'bagging_freq': 78}. Best is trial 231 with value: 0.7646126482213438.\u001b[0m\n",
      "\u001b[32m[I 2021-05-17 21:56:30,133]\u001b[0m Trial 281 finished with value: 0.7443866930171278 and parameters: {'boosting_type': 'rf', 'lambda_l1': 6.945313703540579e-08, 'lambda_l2': 2.694063628315085e-09, 'num_leaves': 352, 'max_depth': 24, 'feature_fraction': 0.8741907024559457, 'feature_fraction_bynode': 0.2531873054530079, 'min_child_samples': 6, 'linear_tree': False, 'max_bin': 119, 'extra_trees': True, 'path_smooth': 1.282841465282814e-08, 'learning_rate': 3.0991079485537694e-25, 'min_gain_to_split': 6.410329550910363e-17, 'min_sum_hessian_in_leaf': 0.0008735769144097344, 'num_boost_round': 578, 'bagging_fraction': 0.9660956350459609, 'bagging_freq': 82}. Best is trial 231 with value: 0.7646126482213438.\u001b[0m\n",
      "\u001b[32m[I 2021-05-17 21:56:40,899]\u001b[0m Trial 282 finished with value: 0.7404743083003953 and parameters: {'boosting_type': 'rf', 'lambda_l1': 3.19371593013125e-08, 'lambda_l2': 3.9923351286646356e-10, 'num_leaves': 306, 'max_depth': 28, 'feature_fraction': 0.8488356969415967, 'feature_fraction_bynode': 0.3524113059678557, 'min_child_samples': 2, 'linear_tree': False, 'max_bin': 130, 'extra_trees': True, 'path_smooth': 4.8665796966997444e-09, 'learning_rate': 2.4268824860958214e-28, 'min_gain_to_split': 4.397615283663998e-06, 'min_sum_hessian_in_leaf': 0.0005264471595639589, 'num_boost_round': 561, 'bagging_fraction': 0.9396770557580116, 'bagging_freq': 79}. Best is trial 231 with value: 0.7646126482213438.\u001b[0m\n",
      "\u001b[32m[I 2021-05-17 21:56:44,267]\u001b[0m Trial 283 finished with value: 0.7279255599472991 and parameters: {'boosting_type': 'rf', 'lambda_l1': 2.3874439105019172e-08, 'lambda_l2': 1.1321087283687372e-07, 'num_leaves': 340, 'max_depth': 27, 'feature_fraction': 0.8823431718841541, 'feature_fraction_bynode': 0.2777195641866209, 'min_child_samples': 9, 'linear_tree': False, 'max_bin': 147, 'extra_trees': True, 'path_smooth': 4.09206745955537e-08, 'learning_rate': 2.1236026462970573e-26, 'min_gain_to_split': 5.410238437408966e-16, 'min_sum_hessian_in_leaf': 0.00044824947109085286, 'num_boost_round': 548, 'bagging_fraction': 0.9131043188838359, 'bagging_freq': 87}. Best is trial 231 with value: 0.7646126482213438.\u001b[0m\n",
      "\u001b[32m[I 2021-05-17 21:56:49,441]\u001b[0m Trial 284 finished with value: 0.7319769433465084 and parameters: {'boosting_type': 'rf', 'lambda_l1': 1.2331270432350756e-07, 'lambda_l2': 3.0719138854459317e-09, 'num_leaves': 357, 'max_depth': 21, 'feature_fraction': 0.9092276386919784, 'feature_fraction_bynode': 0.5000899733872703, 'min_child_samples': 5, 'linear_tree': False, 'max_bin': 138, 'extra_trees': True, 'path_smooth': 1.6150484727752186e-09, 'learning_rate': 1.0208471942710796e-24, 'min_gain_to_split': 1.743847971521577e-17, 'min_sum_hessian_in_leaf': 0.0003314919984974803, 'num_boost_round': 535, 'bagging_fraction': 0.9856092318377618, 'bagging_freq': 100}. Best is trial 231 with value: 0.7646126482213438.\u001b[0m\n",
      "\u001b[32m[I 2021-05-17 21:56:51,655]\u001b[0m Trial 285 finished with value: 0.7246422924901187 and parameters: {'boosting_type': 'rf', 'lambda_l1': 6.476447701206653e-08, 'lambda_l2': 8.470435072049339e-10, 'num_leaves': 324, 'max_depth': 26, 'feature_fraction': 0.8554902294408016, 'feature_fraction_bynode': 0.2309349731403904, 'min_child_samples': 15, 'linear_tree': False, 'max_bin': 113, 'extra_trees': True, 'path_smooth': 3.447085852344876e-09, 'learning_rate': 2.937976764292333e-27, 'min_gain_to_split': 5.090970471108169e-19, 'min_sum_hessian_in_leaf': 0.0006484247563464236, 'num_boost_round': 505, 'bagging_fraction': 0.9567705420666145, 'bagging_freq': 84}. Best is trial 231 with value: 0.7646126482213438.\u001b[0m\n",
      "\u001b[32m[I 2021-05-17 21:56:53,786]\u001b[0m Trial 286 finished with value: 0.718663372859025 and parameters: {'boosting_type': 'rf', 'lambda_l1': 1.986124446846111e-09, 'lambda_l2': 6.460283189229524e-09, 'num_leaves': 348, 'max_depth': 23, 'feature_fraction': 0.8722116862500703, 'feature_fraction_bynode': 0.29227568405069576, 'min_child_samples': 2, 'linear_tree': False, 'max_bin': 155, 'extra_trees': True, 'path_smooth': 9.321856760979627e-09, 'learning_rate': 7.158721187488756e-26, 'min_gain_to_split': 2.4228009134801822, 'min_sum_hessian_in_leaf': 0.0009242837466915981, 'num_boost_round': 563, 'bagging_fraction': 0.932890449365016, 'bagging_freq': 98}. Best is trial 231 with value: 0.7646126482213438.\u001b[0m\n",
      "\u001b[32m[I 2021-05-17 21:56:57,068]\u001b[0m Trial 287 finished with value: 0.7325085638998684 and parameters: {'boosting_type': 'rf', 'lambda_l1': 2.3494112941942057e-08, 'lambda_l2': 1.5406769716461362e-09, 'num_leaves': 364, 'max_depth': 30, 'feature_fraction': 0.827171357724906, 'feature_fraction_bynode': 0.2707710769511062, 'min_child_samples': 10, 'linear_tree': False, 'max_bin': 130, 'extra_trees': True, 'path_smooth': 1.9275311730156035e-08, 'learning_rate': 3.057148526680091e-25, 'min_gain_to_split': 4.512232506925684e-18, 'min_sum_hessian_in_leaf': 0.0002266663537841156, 'num_boost_round': 517, 'bagging_fraction': 0.9999676859042457, 'bagging_freq': 79}. Best is trial 231 with value: 0.7646126482213438.\u001b[0m\n",
      "\u001b[32m[I 2021-05-17 21:57:02,059]\u001b[0m Trial 288 finished with value: 0.7593412384716732 and parameters: {'boosting_type': 'rf', 'lambda_l1': 5.376188903732389e-08, 'lambda_l2': 9.284380026545769e-09, 'num_leaves': 334, 'max_depth': 29, 'feature_fraction': 0.8972414425883495, 'feature_fraction_bynode': 0.33012596387686666, 'min_child_samples': 5, 'linear_tree': False, 'max_bin': 120, 'extra_trees': True, 'path_smooth': 5.422630267510773e-10, 'learning_rate': 1.0559177391022277e-26, 'min_gain_to_split': 2.3965789248679434e-16, 'min_sum_hessian_in_leaf': 0.0005633459268105303, 'num_boost_round': 495, 'bagging_fraction': 0.9753570799625065, 'bagging_freq': 76}. Best is trial 231 with value: 0.7646126482213438.\u001b[0m\n",
      "\u001b[32m[I 2021-05-17 21:57:06,033]\u001b[0m Trial 289 finished with value: 0.7192476943346509 and parameters: {'boosting_type': 'rf', 'lambda_l1': 2.44298007537452e-07, 'lambda_l2': 4.001055340631912e-08, 'num_leaves': 366, 'max_depth': 29, 'feature_fraction': 0.9168433170588555, 'feature_fraction_bynode': 0.333668534956162, 'min_child_samples': 7, 'linear_tree': False, 'max_bin': 120, 'extra_trees': True, 'path_smooth': 6.949971682605654e-10, 'learning_rate': 7.753796635770417e-27, 'min_gain_to_split': 3.1854242121725163e-16, 'min_sum_hessian_in_leaf': 0.0006552035019135754, 'num_boost_round': 493, 'bagging_fraction': 0.9800635168006885, 'bagging_freq': 76}. Best is trial 231 with value: 0.7646126482213438.\u001b[0m\n",
      "\u001b[32m[I 2021-05-17 21:57:08,841]\u001b[0m Trial 290 finished with value: 0.7285665349143611 and parameters: {'boosting_type': 'rf', 'lambda_l1': 4.8093186951850964e-08, 'lambda_l2': 1.046704415736365e-08, 'num_leaves': 341, 'max_depth': 30, 'feature_fraction': 0.8998256315486505, 'feature_fraction_bynode': 0.3175443010696015, 'min_child_samples': 13, 'linear_tree': False, 'max_bin': 104, 'extra_trees': True, 'path_smooth': 4.4329847014202683e-10, 'learning_rate': 5.556297979912275e-28, 'min_gain_to_split': 1.7855640415151242e-18, 'min_sum_hessian_in_leaf': 0.0009621818114999201, 'num_boost_round': 551, 'bagging_fraction': 0.9648788750991673, 'bagging_freq': 74}. Best is trial 231 with value: 0.7646126482213438.\u001b[0m\n",
      "\u001b[32m[I 2021-05-17 21:57:14,002]\u001b[0m Trial 291 finished with value: 0.7267391304347826 and parameters: {'boosting_type': 'rf', 'lambda_l1': 9.535375052715126e-08, 'lambda_l2': 3.9272364053646206e-09, 'num_leaves': 328, 'max_depth': 25, 'feature_fraction': 0.639050722070216, 'feature_fraction_bynode': 0.3580921286906076, 'min_child_samples': 5, 'linear_tree': False, 'max_bin': 110, 'extra_trees': True, 'path_smooth': 1.3569467755444066e-09, 'learning_rate': 2.5774096327796127e-26, 'min_gain_to_split': 1.5496215713283947e-16, 'min_sum_hessian_in_leaf': 0.0005134941556140311, 'num_boost_round': 493, 'bagging_fraction': 0.9860155559301838, 'bagging_freq': 77}. Best is trial 231 with value: 0.7646126482213438.\u001b[0m\n",
      "\u001b[32m[I 2021-05-17 21:57:16,205]\u001b[0m Trial 292 finished with value: 0.719233860342556 and parameters: {'boosting_type': 'rf', 'lambda_l1': 4.937367786180678e-09, 'lambda_l2': 8.494632364425648e-09, 'num_leaves': 338, 'max_depth': 22, 'feature_fraction': 0.8886393639639297, 'feature_fraction_bynode': 0.24269934155020811, 'min_child_samples': 9, 'linear_tree': False, 'max_bin': 124, 'extra_trees': True, 'path_smooth': 2.4842995534421275e-10, 'learning_rate': 2.1505707568370664e-27, 'min_gain_to_split': 7.321245524678744e-15, 'min_sum_hessian_in_leaf': 0.00030491945507439273, 'num_boost_round': 334, 'bagging_fraction': 0.9516156669088396, 'bagging_freq': 81}. Best is trial 231 with value: 0.7646126482213438.\u001b[0m\n",
      "\u001b[32m[I 2021-05-17 21:57:29,182]\u001b[0m Trial 293 finished with value: 0.7293695652173912 and parameters: {'boosting_type': 'rf', 'lambda_l1': 4.912836569537603e-08, 'lambda_l2': 2.256577609920032e-08, 'num_leaves': 313, 'max_depth': 28, 'feature_fraction': 0.9245307521574774, 'feature_fraction_bynode': 0.20462305804409606, 'min_child_samples': 2, 'linear_tree': False, 'max_bin': 139, 'extra_trees': True, 'path_smooth': 8.761599827632009e-10, 'learning_rate': 7.988142731951212e-26, 'min_gain_to_split': 6.106317073391231e-16, 'min_sum_hessian_in_leaf': 0.0010954162273207918, 'num_boost_round': 585, 'bagging_fraction': 0.9421456117842395, 'bagging_freq': 76}. Best is trial 231 with value: 0.7646126482213438.\u001b[0m\n",
      "\u001b[32m[I 2021-05-17 21:57:35,886]\u001b[0m Trial 294 finished with value: 0.7294696969696969 and parameters: {'boosting_type': 'rf', 'lambda_l1': 9.570141804954236e-09, 'lambda_l2': 6.222032909164712e-08, 'num_leaves': 360, 'max_depth': 27, 'feature_fraction': 0.8396869791108768, 'feature_fraction_bynode': 0.33255517868609197, 'min_child_samples': 5, 'linear_tree': False, 'max_bin': 131, 'extra_trees': True, 'path_smooth': 1.1745867298164352e-10, 'learning_rate': 7.28999396648731e-27, 'min_gain_to_split': 2.4525028372643927e-17, 'min_sum_hessian_in_leaf': 0.0004038709554762179, 'num_boost_round': 535, 'bagging_fraction': 0.9984565714125874, 'bagging_freq': 79}. Best is trial 231 with value: 0.7646126482213438.\u001b[0m\n",
      "\u001b[32m[I 2021-05-17 21:57:47,064]\u001b[0m Trial 295 finished with value: 0.7608445322793149 and parameters: {'boosting_type': 'rf', 'lambda_l1': 2.789264141576906e-09, 'lambda_l2': 2.3265127401499855e-09, 'num_leaves': 333, 'max_depth': 29, 'feature_fraction': 0.8992126965942666, 'feature_fraction_bynode': 0.2862155689919714, 'min_child_samples': 2, 'linear_tree': False, 'max_bin': 122, 'extra_trees': True, 'path_smooth': 2.2995224389573794e-09, 'learning_rate': 2.803518312304963e-25, 'min_gain_to_split': 7.146078456183042e-17, 'min_sum_hessian_in_leaf': 0.0006347168400783845, 'num_boost_round': 570, 'bagging_fraction': 0.9690262290370228, 'bagging_freq': 81}. Best is trial 231 with value: 0.7646126482213438.\u001b[0m\n",
      "\u001b[32m[I 2021-05-17 21:57:49,248]\u001b[0m Trial 296 finished with value: 0.5 and parameters: {'boosting_type': 'goss', 'lambda_l1': 1.3729616057291196e-09, 'lambda_l2': 2.2213461975042253e-09, 'num_leaves': 325, 'max_depth': 29, 'feature_fraction': 0.9045390869497895, 'feature_fraction_bynode': 0.31497106241040057, 'min_child_samples': 11, 'linear_tree': False, 'max_bin': 142, 'extra_trees': True, 'path_smooth': 2.319068680860258e-09, 'learning_rate': 3.73059269140453e-25, 'min_gain_to_split': 6.764911649613108e-17, 'min_sum_hessian_in_leaf': 0.0007120822176768523, 'num_boost_round': 565}. Best is trial 231 with value: 0.7646126482213438.\u001b[0m\n",
      "\u001b[32m[I 2021-05-17 21:57:50,023]\u001b[0m Trial 297 finished with value: 0.5 and parameters: {'boosting_type': 'rf', 'lambda_l1': 3.924321356033344e-09, 'lambda_l2': 1.3951144266382592e-09, 'num_leaves': 333, 'max_depth': 31, 'feature_fraction': 0.9334587015757597, 'feature_fraction_bynode': 0.25695680177891383, 'min_child_samples': 102, 'linear_tree': False, 'max_bin': 124, 'extra_trees': True, 'path_smooth': 5.246114006419412e-09, 'learning_rate': 1.1086944707315393e-24, 'min_gain_to_split': 2.096037710173846e-16, 'min_sum_hessian_in_leaf': 0.0011897813624919269, 'num_boost_round': 578, 'bagging_fraction': 0.9713175372012056, 'bagging_freq': 83}. Best is trial 231 with value: 0.7646126482213438.\u001b[0m\n",
      "\u001b[32m[I 2021-05-17 21:57:52,255]\u001b[0m Trial 298 finished with value: 0.7283557312252964 and parameters: {'boosting_type': 'rf', 'lambda_l1': 5.995258642064768e-10, 'lambda_l2': 2.8654531941839195e-09, 'num_leaves': 331, 'max_depth': 30, 'feature_fraction': 0.8864258688126759, 'feature_fraction_bynode': 0.37002229329355024, 'min_child_samples': 16, 'linear_tree': False, 'max_bin': 97, 'extra_trees': True, 'path_smooth': 2.980251202570896e-09, 'learning_rate': 1.7650175796558798e-25, 'min_gain_to_split': 8.829113093249896e-16, 'min_sum_hessian_in_leaf': 0.0005680021749466566, 'num_boost_round': 504, 'bagging_fraction': 0.9990217340790865, 'bagging_freq': 85}. Best is trial 231 with value: 0.7646126482213438.\u001b[0m\n",
      "\u001b[32m[I 2021-05-17 21:57:57,347]\u001b[0m Trial 299 finished with value: 0.7242483530961792 and parameters: {'boosting_type': 'rf', 'lambda_l1': 2.8214619422461468e-09, 'lambda_l2': 4.9823722800124915e-09, 'num_leaves': 319, 'max_depth': 24, 'feature_fraction': 0.9042316779307443, 'feature_fraction_bynode': 0.227012931652712, 'min_child_samples': 6, 'linear_tree': False, 'max_bin': 134, 'extra_trees': True, 'path_smooth': 1.2801926414336238e-09, 'learning_rate': 8.756097988463792e-26, 'min_gain_to_split': 4.137773433124866e-17, 'min_sum_hessian_in_leaf': 0.0006982434731449327, 'num_boost_round': 595, 'bagging_fraction': 0.9623277280056265, 'bagging_freq': 94}. Best is trial 231 with value: 0.7646126482213438.\u001b[0m\n",
      "\u001b[32m[I 2021-05-17 21:58:09,152]\u001b[0m Trial 300 finished with value: 0.7631706192358366 and parameters: {'boosting_type': 'rf', 'lambda_l1': 2.593618300830899e-09, 'lambda_l2': 5.717139942848149e-10, 'num_leaves': 345, 'max_depth': 29, 'feature_fraction': 0.8710350562739997, 'feature_fraction_bynode': 0.3019097456223696, 'min_child_samples': 2, 'linear_tree': False, 'max_bin': 149, 'extra_trees': True, 'path_smooth': 8.224085991110224e-09, 'learning_rate': 8.173218387520758e-25, 'min_gain_to_split': 2.446636924152116e-16, 'min_sum_hessian_in_leaf': 0.00043121515454942527, 'num_boost_round': 527, 'bagging_fraction': 0.9809390065759598, 'bagging_freq': 82}. Best is trial 231 with value: 0.7646126482213438.\u001b[0m\n",
      "\u001b[32m[I 2021-05-17 21:58:12,322]\u001b[0m Trial 301 finished with value: 0.7222180500658761 and parameters: {'boosting_type': 'rf', 'lambda_l1': 1.9732963973883835e-09, 'lambda_l2': 5.648348484757819e-10, 'num_leaves': 346, 'max_depth': 29, 'feature_fraction': 0.8787033761005183, 'feature_fraction_bynode': 0.3431510121260533, 'min_child_samples': 9, 'linear_tree': False, 'max_bin': 149, 'extra_trees': True, 'path_smooth': 5.8380743393225165e-09, 'learning_rate': 1.800697079319058e-24, 'min_gain_to_split': 3.5394455648465383e-16, 'min_sum_hessian_in_leaf': 0.0004658341543628701, 'num_boost_round': 481, 'bagging_fraction': 0.9863174383917541, 'bagging_freq': 83}. Best is trial 231 with value: 0.7646126482213438.\u001b[0m\n",
      "\u001b[32m[I 2021-05-17 21:59:28,035]\u001b[0m Trial 302 finished with value: 0.5 and parameters: {'boosting_type': 'dart', 'lambda_l1': 4.519534938659839e-09, 'lambda_l2': 1.0012937917087908e-09, 'num_leaves': 335, 'max_depth': 30, 'feature_fraction': 0.9232595084750592, 'feature_fraction_bynode': 0.3056865127871815, 'min_child_samples': 2, 'linear_tree': False, 'max_bin': 143, 'extra_trees': True, 'path_smooth': 9.334642876623114e-09, 'learning_rate': 1.1743787175278823e-23, 'min_gain_to_split': 1.519685750294349e-15, 'min_sum_hessian_in_leaf': 0.0008764862111097706, 'num_boost_round': 529, 'bagging_fraction': 0.9745436282605472, 'bagging_freq': 82, 'drop_rate': 0.8230525994983382, 'max_drop': 200, 'skip_drop': 0.1501054365561148, 'xgboost_dart_mode': True, 'uniform_drop': True}. Best is trial 231 with value: 0.7646126482213438.\u001b[0m\n",
      "\u001b[32m[I 2021-05-17 21:59:32,704]\u001b[0m Trial 303 finished with value: 0.7535882740447957 and parameters: {'boosting_type': 'rf', 'lambda_l1': 1.311351284981197e-09, 'lambda_l2': 5.685845654635265e-10, 'num_leaves': 340, 'max_depth': 29, 'feature_fraction': 0.8697094255788597, 'feature_fraction_bynode': 0.32328731581034587, 'min_child_samples': 6, 'linear_tree': False, 'max_bin': 154, 'extra_trees': True, 'path_smooth': 6.828334204065746e-08, 'learning_rate': 6.250972901758159e-24, 'min_gain_to_split': 1.4407850574360496e-16, 'min_sum_hessian_in_leaf': 0.001434508979669339, 'num_boost_round': 512, 'bagging_fraction': 0.9520468067827174, 'bagging_freq': 87}. Best is trial 231 with value: 0.7646126482213438.\u001b[0m\n",
      "\u001b[32m[I 2021-05-17 21:59:35,360]\u001b[0m Trial 304 finished with value: 0.7217779973649541 and parameters: {'boosting_type': 'rf', 'lambda_l1': 8.756722564879073e-10, 'lambda_l2': 5.922420258584218e-10, 'num_leaves': 349, 'max_depth': 29, 'feature_fraction': 0.8662575076603972, 'feature_fraction_bynode': 0.292539729914037, 'min_child_samples': 12, 'linear_tree': False, 'max_bin': 167, 'extra_trees': True, 'path_smooth': 6.837836044167051e-08, 'learning_rate': 7.57863712944117e-24, 'min_gain_to_split': 1.3098250866767586e-16, 'min_sum_hessian_in_leaf': 0.001503131930138368, 'num_boost_round': 499, 'bagging_fraction': 0.9402988236959753, 'bagging_freq': 86}. Best is trial 231 with value: 0.7646126482213438.\u001b[0m\n",
      "\u001b[32m[I 2021-05-17 21:59:37,574]\u001b[0m Trial 305 finished with value: 0.5 and parameters: {'boosting_type': 'gbdt', 'lambda_l1': 1.68355657076038e-09, 'lambda_l2': 1.5494958419115194e-09, 'num_leaves': 340, 'max_depth': 32, 'feature_fraction': 0.8853607465102823, 'feature_fraction_bynode': 0.3143893883778287, 'min_child_samples': 18, 'linear_tree': False, 'max_bin': 129, 'extra_trees': True, 'path_smooth': 3.7129257481654824e-08, 'learning_rate': 4.542035098641953e-24, 'min_gain_to_split': 7.361284117912952e-17, 'min_sum_hessian_in_leaf': 0.0012864504118724805, 'num_boost_round': 511, 'bagging_fraction': 0.9845675530997764, 'bagging_freq': 88}. Best is trial 231 with value: 0.7646126482213438.\u001b[0m\n",
      "\u001b[32m[I 2021-05-17 21:59:44,288]\u001b[0m Trial 306 finished with value: 0.6940289855072465 and parameters: {'boosting_type': 'rf', 'lambda_l1': 5.445956338277276e-10, 'lambda_l2': 3.240812894960329e-10, 'num_leaves': 348, 'max_depth': 31, 'feature_fraction': 0.8613768073004865, 'feature_fraction_bynode': 0.2694372949699021, 'min_child_samples': 6, 'linear_tree': True, 'max_bin': 141, 'extra_trees': True, 'path_smooth': 2.5367524468876534e-09, 'learning_rate': 7.6597318089814e-25, 'min_gain_to_split': 3.060948306836445e-16, 'min_sum_hessian_in_leaf': 0.0022161616939624113, 'num_boost_round': 489, 'bagging_fraction': 0.9596844900790727, 'bagging_freq': 84}. Best is trial 231 with value: 0.7646126482213438.\u001b[0m\n",
      "\u001b[32m[I 2021-05-17 21:59:47,649]\u001b[0m Trial 307 finished with value: 0.7331712779973649 and parameters: {'boosting_type': 'rf', 'lambda_l1': 1.5601302471649052e-09, 'lambda_l2': 6.62977467564357e-10, 'num_leaves': 358, 'max_depth': 29, 'feature_fraction': 0.8612432947169163, 'feature_fraction_bynode': 0.2974311481484855, 'min_child_samples': 8, 'linear_tree': False, 'max_bin': 153, 'extra_trees': True, 'path_smooth': 4.331524423883278e-09, 'learning_rate': 4.6725557410623955e-23, 'min_gain_to_split': 1.6021655641345572e-16, 'min_sum_hessian_in_leaf': 0.0010980617490540748, 'num_boost_round': 463, 'bagging_fraction': 0.9295230384927282, 'bagging_freq': 81}. Best is trial 231 with value: 0.7646126482213438.\u001b[0m\n",
      "\u001b[32m[I 2021-05-17 21:59:48,615]\u001b[0m Trial 308 finished with value: 0.5234288537549407 and parameters: {'boosting_type': 'rf', 'lambda_l1': 2.7100866558242704e-09, 'lambda_l2': 3.207012833798664e-09, 'num_leaves': 391, 'max_depth': 30, 'feature_fraction': 0.893030789061574, 'feature_fraction_bynode': 0.2602908801810161, 'min_child_samples': 5, 'linear_tree': False, 'max_bin': 119, 'extra_trees': True, 'path_smooth': 7.521666294419784e-08, 'learning_rate': 1.8868347339820224e-24, 'min_gain_to_split': 20.718326444974377, 'min_sum_hessian_in_leaf': 0.0007860758736086202, 'num_boost_round': 517, 'bagging_fraction': 0.9988303209383468, 'bagging_freq': 85}. Best is trial 231 with value: 0.7646126482213438.\u001b[0m\n",
      "\u001b[32m[I 2021-05-17 21:59:51,484]\u001b[0m Trial 309 finished with value: 0.7202220026350461 and parameters: {'boosting_type': 'rf', 'lambda_l1': 9.584472597026657e-10, 'lambda_l2': 2.113192676870719e-09, 'num_leaves': 355, 'max_depth': 29, 'feature_fraction': 0.8775133313102219, 'feature_fraction_bynode': 0.3185153203633935, 'min_child_samples': 12, 'linear_tree': False, 'max_bin': 133, 'extra_trees': True, 'path_smooth': 1.4054949098015162e-09, 'learning_rate': 4.681762545836859e-25, 'min_gain_to_split': 4.3579519902652485e-17, 'min_sum_hessian_in_leaf': 0.0005606848235749513, 'num_boost_round': 525, 'bagging_fraction': 0.9499834726370298, 'bagging_freq': 91}. Best is trial 231 with value: 0.7646126482213438.\u001b[0m\n",
      "\u001b[32m[I 2021-05-17 22:00:01,857]\u001b[0m Trial 310 finished with value: 0.7472859025032937 and parameters: {'boosting_type': 'rf', 'lambda_l1': 4.0447220661132043e-10, 'lambda_l2': 1.0101311408260677e-09, 'num_leaves': 341, 'max_depth': 22, 'feature_fraction': 0.8505019303750401, 'feature_fraction_bynode': 0.2905471099188439, 'min_child_samples': 2, 'linear_tree': False, 'max_bin': 145, 'extra_trees': True, 'path_smooth': 8.851323708115092e-09, 'learning_rate': 7.614105797900021e-24, 'min_gain_to_split': 4.491965627985907e-16, 'min_sum_hessian_in_leaf': 0.11070289733294916, 'num_boost_round': 505, 'bagging_fraction': 0.9714867675901947, 'bagging_freq': 82}. Best is trial 231 with value: 0.7646126482213438.\u001b[0m\n",
      "\u001b[32m[I 2021-05-17 22:00:04,714]\u001b[0m Trial 311 finished with value: 0.7050592885375495 and parameters: {'boosting_type': 'rf', 'lambda_l1': 2.9336038115734395e-09, 'lambda_l2': 5.540401178844924e-09, 'num_leaves': 384, 'max_depth': 23, 'feature_fraction': 0.9082268170330774, 'feature_fraction_bynode': 0.25245317597810457, 'min_child_samples': 9, 'linear_tree': False, 'max_bin': 122, 'extra_trees': True, 'path_smooth': 2.3049559886522515e-09, 'learning_rate': 8.172977860816636e-25, 'min_gain_to_split': 1.5895041559124223e-17, 'min_sum_hessian_in_leaf': 0.0014837877793962393, 'num_boost_round': 540, 'bagging_fraction': 0.7368985495495709, 'bagging_freq': 80}. Best is trial 231 with value: 0.7646126482213438.\u001b[0m\n",
      "\u001b[32m[I 2021-05-17 22:00:14,795]\u001b[0m Trial 312 finished with value: 0.7490862977602109 and parameters: {'boosting_type': 'rf', 'lambda_l1': 4.990931785202429e-09, 'lambda_l2': 1.8418982009380088e-09, 'num_leaves': 328, 'max_depth': 30, 'feature_fraction': 0.8822941678200743, 'feature_fraction_bynode': 0.21897663179050147, 'min_child_samples': 2, 'linear_tree': False, 'max_bin': 164, 'extra_trees': True, 'path_smooth': 2.570469879909625e-08, 'learning_rate': 2.9504311042655316e-25, 'min_gain_to_split': 8.508944270580952e-17, 'min_sum_hessian_in_leaf': 0.0008458170884232578, 'num_boost_round': 525, 'bagging_fraction': 0.9321825190896363, 'bagging_freq': 96}. Best is trial 231 with value: 0.7646126482213438.\u001b[0m\n",
      "\u001b[32m[I 2021-05-17 22:00:19,434]\u001b[0m Trial 313 finished with value: 0.7243504611330698 and parameters: {'boosting_type': 'rf', 'lambda_l1': 9.030246999289731e-10, 'lambda_l2': 8.231562050951343e-09, 'num_leaves': 353, 'max_depth': 28, 'feature_fraction': 0.9387694623653633, 'feature_fraction_bynode': 0.34728724239973235, 'min_child_samples': 6, 'linear_tree': False, 'max_bin': 135, 'extra_trees': True, 'path_smooth': 4.567073968196226e-09, 'learning_rate': 2.5282961476613475e-24, 'min_gain_to_split': 2.751305561967258e-17, 'min_sum_hessian_in_leaf': 0.00040780484596853573, 'num_boost_round': 541, 'bagging_fraction': 0.9547642760225583, 'bagging_freq': 84}. Best is trial 231 with value: 0.7646126482213438.\u001b[0m\n",
      "\u001b[32m[I 2021-05-17 22:00:30,310]\u001b[0m Trial 314 finished with value: 0.7424301712779975 and parameters: {'boosting_type': 'rf', 'lambda_l1': 2.850464260058001e-09, 'lambda_l2': 4.3923627121648725e-09, 'num_leaves': 345, 'max_depth': 25, 'feature_fraction': 0.8490276857694827, 'feature_fraction_bynode': 0.4058107089709766, 'min_child_samples': 2, 'linear_tree': False, 'max_bin': 154, 'extra_trees': True, 'path_smooth': 9.22460642803923e-10, 'learning_rate': 6.214681026838678e-26, 'min_gain_to_split': 7.92427259351821e-16, 'min_sum_hessian_in_leaf': 0.01811088474046528, 'num_boost_round': 571, 'bagging_fraction': 0.9809372736500945, 'bagging_freq': 94}. Best is trial 231 with value: 0.7646126482213438.\u001b[0m\n",
      "\u001b[32m[I 2021-05-17 22:00:31,276]\u001b[0m Trial 315 finished with value: 0.5 and parameters: {'boosting_type': 'rf', 'lambda_l1': 85.4970426551634, 'lambda_l2': 1.0993268488258926e-09, 'num_leaves': 372, 'max_depth': 28, 'feature_fraction': 0.8669283968229855, 'feature_fraction_bynode': 0.2777951198290921, 'min_child_samples': 15, 'linear_tree': False, 'max_bin': 113, 'extra_trees': True, 'path_smooth': 1.3283106311516208e-08, 'learning_rate': 8.161757914026991e-23, 'min_gain_to_split': 1.6702104274793741e-16, 'min_sum_hessian_in_leaf': 0.0005185792598299732, 'num_boost_round': 511, 'bagging_fraction': 0.9167224248123198, 'bagging_freq': 79}. Best is trial 231 with value: 0.7646126482213438.\u001b[0m\n",
      "\u001b[32m[I 2021-05-17 22:00:35,683]\u001b[0m Trial 316 finished with value: 0.7159011857707509 and parameters: {'boosting_type': 'rf', 'lambda_l1': 1.541568576243786e-09, 'lambda_l2': 5.284743870359893e-10, 'num_leaves': 336, 'max_depth': 31, 'feature_fraction': 0.896558764267581, 'feature_fraction_bynode': 0.32955745292855826, 'min_child_samples': 6, 'linear_tree': False, 'max_bin': 128, 'extra_trees': True, 'path_smooth': 1.898356836688652e-09, 'learning_rate': 1.0566433421446337e-23, 'min_gain_to_split': 5.4801429989621006e-17, 'min_sum_hessian_in_leaf': 0.00030312638935486494, 'num_boost_round': 499, 'bagging_fraction': 0.9477425785155522, 'bagging_freq': 87}. Best is trial 231 with value: 0.7646126482213438.\u001b[0m\n",
      "\u001b[32m[I 2021-05-17 22:00:46,709]\u001b[0m Trial 317 finished with value: 0.7525625823451911 and parameters: {'boosting_type': 'rf', 'lambda_l1': 6.621374172848498e-09, 'lambda_l2': 2.7056184662871874e-09, 'num_leaves': 360, 'max_depth': 29, 'feature_fraction': 0.8723144907537808, 'feature_fraction_bynode': 0.30447696885429537, 'min_child_samples': 2, 'linear_tree': False, 'max_bin': 143, 'extra_trees': True, 'path_smooth': 7.1742726952432e-09, 'learning_rate': 5.148314900837797e-22, 'min_gain_to_split': 1.4776379794022003e-17, 'min_sum_hessian_in_leaf': 0.0006932934200502173, 'num_boost_round': 541, 'bagging_fraction': 0.9700783519751461, 'bagging_freq': 82}. Best is trial 231 with value: 0.7646126482213438.\u001b[0m\n",
      "\u001b[32m[I 2021-05-17 22:00:58,589]\u001b[0m Trial 318 finished with value: 0.7509229249011858 and parameters: {'boosting_type': 'rf', 'lambda_l1': 7.260720855394353e-09, 'lambda_l2': 2.5355042807336547e-10, 'num_leaves': 382, 'max_depth': 29, 'feature_fraction': 0.919564738267982, 'feature_fraction_bynode': 0.3051473169066407, 'min_child_samples': 2, 'linear_tree': False, 'max_bin': 148, 'extra_trees': True, 'path_smooth': 7.886773301792319e-09, 'learning_rate': 4.262743482565859e-22, 'min_gain_to_split': 1.2663103744002023e-17, 'min_sum_hessian_in_leaf': 0.0007438328398229799, 'num_boost_round': 561, 'bagging_fraction': 0.9975111978330281, 'bagging_freq': 82}. Best is trial 231 with value: 0.7646126482213438.\u001b[0m\n",
      "\u001b[32m[I 2021-05-17 22:00:59,366]\u001b[0m Trial 319 finished with value: 0.5 and parameters: {'boosting_type': 'rf', 'lambda_l1': 6.854289995094288e-09, 'lambda_l2': 1.7786947859332673e-10, 'num_leaves': 388, 'max_depth': 30, 'feature_fraction': 0.9240806520177194, 'feature_fraction_bynode': 0.31261112392100504, 'min_child_samples': 45, 'linear_tree': False, 'max_bin': 162, 'extra_trees': True, 'path_smooth': 6.925014134475407e-09, 'learning_rate': 9.732863524021322e-22, 'min_gain_to_split': 1.8345692225002208e-17, 'min_sum_hessian_in_leaf': 0.0010476708359770145, 'num_boost_round': 562, 'bagging_fraction': 0.39180365848503756, 'bagging_freq': 83}. Best is trial 231 with value: 0.7646126482213438.\u001b[0m\n",
      "\u001b[32m[I 2021-05-17 22:01:11,509]\u001b[0m Trial 320 finished with value: 0.7644604743083003 and parameters: {'boosting_type': 'rf', 'lambda_l1': 1.2667758986145867e-08, 'lambda_l2': 4.549695685418641e-10, 'num_leaves': 383, 'max_depth': 29, 'feature_fraction': 0.9432223600237089, 'feature_fraction_bynode': 0.30221202130626484, 'min_child_samples': 2, 'linear_tree': False, 'max_bin': 149, 'extra_trees': True, 'path_smooth': 1.0373907373108962e-08, 'learning_rate': 4.929459096944128e-22, 'min_gain_to_split': 1.637980171327021e-17, 'min_sum_hessian_in_leaf': 0.00197027605480887, 'num_boost_round': 572, 'bagging_fraction': 0.9943885336664366, 'bagging_freq': 82}. Best is trial 231 with value: 0.7646126482213438.\u001b[0m\n",
      "\u001b[32m[I 2021-05-17 22:01:15,393]\u001b[0m Trial 321 finished with value: 0.7244189723320159 and parameters: {'boosting_type': 'rf', 'lambda_l1': 1.0068327109339987e-08, 'lambda_l2': 4.736928975619928e-10, 'num_leaves': 394, 'max_depth': 28, 'feature_fraction': 0.9443036691228416, 'feature_fraction_bynode': 0.37960699032942, 'min_child_samples': 9, 'linear_tree': False, 'max_bin': 153, 'extra_trees': True, 'path_smooth': 1.7831109265797577e-08, 'learning_rate': 2.981443743034291e-22, 'min_gain_to_split': 4.9636209464116386e-17, 'min_sum_hessian_in_leaf': 0.001962773165789178, 'num_boost_round': 588, 'bagging_fraction': 0.9995228623880269, 'bagging_freq': 77}. Best is trial 231 with value: 0.7646126482213438.\u001b[0m\n",
      "\u001b[32m[I 2021-05-17 22:01:27,053]\u001b[0m Trial 322 finished with value: 0.7548280632411069 and parameters: {'boosting_type': 'rf', 'lambda_l1': 1.4617229391155689e-08, 'lambda_l2': 9.570611338714525e-10, 'num_leaves': 372, 'max_depth': 29, 'feature_fraction': 0.9499881260478197, 'feature_fraction_bynode': 0.3472091671688148, 'min_child_samples': 2, 'linear_tree': False, 'max_bin': 240, 'extra_trees': True, 'path_smooth': 3.9342247070428295e-09, 'learning_rate': 1.0148583608284565e-22, 'min_gain_to_split': 1.0624232266682891e-16, 'min_sum_hessian_in_leaf': 0.0019209447215728494, 'num_boost_round': 551, 'bagging_fraction': 0.9794354538985964, 'bagging_freq': 86}. Best is trial 231 with value: 0.7646126482213438.\u001b[0m\n",
      "\u001b[32m[I 2021-05-17 22:01:37,146]\u001b[0m Trial 323 finished with value: 0.7248432147562582 and parameters: {'boosting_type': 'rf', 'lambda_l1': 1.1296329756541338e-08, 'lambda_l2': 3.663473954392725e-10, 'num_leaves': 372, 'max_depth': 32, 'feature_fraction': 0.9561130830417603, 'feature_fraction_bynode': 0.5617930597258798, 'min_child_samples': 2, 'linear_tree': False, 'max_bin': 220, 'extra_trees': True, 'path_smooth': 3.981118948817944e-09, 'learning_rate': 1.6062866487074691e-22, 'min_gain_to_split': 3.259704462726209e-17, 'min_sum_hessian_in_leaf': 0.002325535370474364, 'num_boost_round': 549, 'bagging_fraction': 0.9671024711295598, 'bagging_freq': 87}. Best is trial 231 with value: 0.7646126482213438.\u001b[0m\n",
      "\u001b[32m[I 2021-05-17 22:01:38,475]\u001b[0m Trial 324 finished with value: 0.6891442687747036 and parameters: {'boosting_type': 'rf', 'lambda_l1': 4.230673489176274e-09, 'lambda_l2': 8.43233068661742e-10, 'num_leaves': 381, 'max_depth': 31, 'feature_fraction': 0.9898265665045906, 'feature_fraction_bynode': 0.35615360237535865, 'min_child_samples': 59, 'linear_tree': False, 'max_bin': 275, 'extra_trees': True, 'path_smooth': 2.8443749064813643e-09, 'learning_rate': 9.455562330271007e-22, 'min_gain_to_split': 2.20100127183683e-18, 'min_sum_hessian_in_leaf': 0.003910190341861336, 'num_boost_round': 598, 'bagging_fraction': 0.9829678363891395, 'bagging_freq': 84}. Best is trial 231 with value: 0.7646126482213438.\u001b[0m\n",
      "\u001b[32m[I 2021-05-17 22:01:43,274]\u001b[0m Trial 325 finished with value: 0.7512417654808958 and parameters: {'boosting_type': 'rf', 'lambda_l1': 1.2412857650420377e-08, 'lambda_l2': 6.834208125923614e-10, 'num_leaves': 372, 'max_depth': 29, 'feature_fraction': 0.9478867860673271, 'feature_fraction_bynode': 0.3436287360978747, 'min_child_samples': 5, 'linear_tree': False, 'max_bin': 246, 'extra_trees': True, 'path_smooth': 1.4064497900659648e-12, 'learning_rate': 5.542843470999251e-23, 'min_gain_to_split': 7.903340596589876e-17, 'min_sum_hessian_in_leaf': 0.00317891758954205, 'num_boost_round': 449, 'bagging_fraction': 0.9847764589812666, 'bagging_freq': 86}. Best is trial 231 with value: 0.7646126482213438.\u001b[0m\n",
      "\u001b[32m[I 2021-05-17 22:01:52,670]\u001b[0m Trial 326 finished with value: 0.7349683794466402 and parameters: {'boosting_type': 'rf', 'lambda_l1': 1.510309983866599e-08, 'lambda_l2': 1.2945052900608007e-09, 'num_leaves': 370, 'max_depth': 30, 'feature_fraction': 0.9839062362428915, 'feature_fraction_bynode': 0.3439233317946251, 'min_child_samples': 2, 'linear_tree': False, 'max_bin': 234, 'extra_trees': True, 'path_smooth': 2.8457848279959484e-12, 'learning_rate': 7.744168078087487e-23, 'min_gain_to_split': 1.5899106903023107e-17, 'min_sum_hessian_in_leaf': 0.004271104440199673, 'num_boost_round': 474, 'bagging_fraction': 0.9992870067578365, 'bagging_freq': 86}. Best is trial 231 with value: 0.7646126482213438.\u001b[0m\n",
      "\u001b[32m[I 2021-05-17 22:02:02,611]\u001b[0m Trial 327 finished with value: 0.7579466403162055 and parameters: {'boosting_type': 'rf', 'lambda_l1': 5.227858045133451e-09, 'lambda_l2': 1.0257830307927835e-08, 'num_leaves': 391, 'max_depth': 29, 'feature_fraction': 0.9578109319607623, 'feature_fraction_bynode': 0.33080910228431054, 'min_child_samples': 2, 'linear_tree': False, 'max_bin': 319, 'extra_trees': True, 'path_smooth': 4.819460339978275e-09, 'learning_rate': 3.1152426002590456e-23, 'min_gain_to_split': 5.498735917171935e-18, 'min_sum_hessian_in_leaf': 0.0025349170579412068, 'num_boost_round': 461, 'bagging_fraction': 0.9822290785988709, 'bagging_freq': 88}. Best is trial 231 with value: 0.7646126482213438.\u001b[0m\n",
      "\u001b[32m[I 2021-05-17 22:02:04,624]\u001b[0m Trial 328 finished with value: 0.5 and parameters: {'boosting_type': 'goss', 'lambda_l1': 0.0019936128307716113, 'lambda_l2': 1.068826165430443e-08, 'num_leaves': 389, 'max_depth': 29, 'feature_fraction': 0.9602241488522177, 'feature_fraction_bynode': 0.3721228895152997, 'min_child_samples': 9, 'linear_tree': False, 'max_bin': 173, 'extra_trees': True, 'path_smooth': 3.2540222925513802e-09, 'learning_rate': 3.388101127127827e-23, 'min_gain_to_split': 9.9191699287028e-19, 'min_sum_hessian_in_leaf': 0.002890352321471542, 'num_boost_round': 454}. Best is trial 231 with value: 0.7646126482213438.\u001b[0m\n",
      "\u001b[32m[I 2021-05-17 22:02:14,322]\u001b[0m Trial 329 finished with value: 0.7411969696969698 and parameters: {'boosting_type': 'rf', 'lambda_l1': 2.799060206830214e-09, 'lambda_l2': 8.088627512160073e-10, 'num_leaves': 393, 'max_depth': 30, 'feature_fraction': 0.9550230984793031, 'feature_fraction_bynode': 0.3258739678341692, 'min_child_samples': 2, 'linear_tree': False, 'max_bin': 317, 'extra_trees': True, 'path_smooth': 7.739584173149147e-09, 'learning_rate': 1.9517791323120966e-22, 'min_gain_to_split': 4.216540477504447e-18, 'min_sum_hessian_in_leaf': 0.0032528499691354498, 'num_boost_round': 453, 'bagging_fraction': 0.9843872908420999, 'bagging_freq': 89}. Best is trial 231 with value: 0.7646126482213438.\u001b[0m\n",
      "\u001b[32m[I 2021-05-17 22:02:17,039]\u001b[0m Trial 330 finished with value: 0.7094077733860342 and parameters: {'boosting_type': 'rf', 'lambda_l1': 1.4199306089096383e-08, 'lambda_l2': 3.291098528177411e-10, 'num_leaves': 382, 'max_depth': 29, 'feature_fraction': 0.9715318806415557, 'feature_fraction_bynode': 0.3476928064941532, 'min_child_samples': 12, 'linear_tree': False, 'max_bin': 291, 'extra_trees': True, 'path_smooth': 1.1800491556082184e-12, 'learning_rate': 3.7864708800149166e-23, 'min_gain_to_split': 6.182525757614592e-18, 'min_sum_hessian_in_leaf': 0.0015971663268158247, 'num_boost_round': 469, 'bagging_fraction': 0.999714349638799, 'bagging_freq': 88}. Best is trial 231 with value: 0.7646126482213438.\u001b[0m\n",
      "\u001b[32m[I 2021-05-17 22:02:19,706]\u001b[0m Trial 331 finished with value: 0.7234202898550725 and parameters: {'boosting_type': 'rf', 'lambda_l1': 5.7853162989956994e-09, 'lambda_l2': 1.5133101846238665e-08, 'num_leaves': 400, 'max_depth': 31, 'feature_fraction': 0.9374737855995939, 'feature_fraction_bynode': 0.3262330192110888, 'min_child_samples': 6, 'linear_tree': False, 'max_bin': 246, 'extra_trees': True, 'path_smooth': 4.403710546039516e-09, 'learning_rate': 6.7344860030046125e-22, 'min_gain_to_split': 1.2030543181559784e-17, 'min_sum_hessian_in_leaf': 0.007601591926973404, 'num_boost_round': 451, 'bagging_fraction': 0.5424476761543152, 'bagging_freq': 86}. Best is trial 231 with value: 0.7646126482213438.\u001b[0m\n",
      "\u001b[32m[I 2021-05-17 22:02:30,099]\u001b[0m Trial 332 finished with value: 0.7456436100131753 and parameters: {'boosting_type': 'rf', 'lambda_l1': 1.261846277322866e-09, 'lambda_l2': 7.46091756926403e-09, 'num_leaves': 383, 'max_depth': 30, 'feature_fraction': 0.996697072176262, 'feature_fraction_bynode': 0.30601159168186304, 'min_child_samples': 2, 'linear_tree': False, 'max_bin': 261, 'extra_trees': True, 'path_smooth': 1.0664669310549629e-08, 'learning_rate': 2.6879141680245882e-21, 'min_gain_to_split': 2.8164516087697805e-19, 'min_sum_hessian_in_leaf': 0.002136947932614583, 'num_boost_round': 483, 'bagging_fraction': 0.9989840882299235, 'bagging_freq': 85}. Best is trial 231 with value: 0.7646126482213438.\u001b[0m\n",
      "\u001b[32m[I 2021-05-17 22:02:35,039]\u001b[0m Trial 333 finished with value: 0.5 and parameters: {'boosting_type': 'dart', 'lambda_l1': 4.639883411943719e-09, 'lambda_l2': 1.5704466117412064e-09, 'num_leaves': 378, 'max_depth': 29, 'feature_fraction': 0.9506688487804936, 'feature_fraction_bynode': 0.35579970872110567, 'min_child_samples': 9, 'linear_tree': False, 'max_bin': 306, 'extra_trees': True, 'path_smooth': 1.9100442434937297e-09, 'learning_rate': 2.2125951287813464e-23, 'min_gain_to_split': 1.3770881415984315e-18, 'min_sum_hessian_in_leaf': 0.00256639701221899, 'num_boost_round': 426, 'bagging_fraction': 0.9786974235927512, 'bagging_freq': 84, 'drop_rate': 0.688221101462714, 'max_drop': 48, 'skip_drop': 0.8081660644005352, 'xgboost_dart_mode': True, 'uniform_drop': True}. Best is trial 231 with value: 0.7646126482213438.\u001b[0m\n",
      "\u001b[32m[I 2021-05-17 22:02:44,325]\u001b[0m Trial 334 finished with value: 0.7296304347826087 and parameters: {'boosting_type': 'rf', 'lambda_l1': 1.5940585644486945e-08, 'lambda_l2': 5.515173883687541e-09, 'num_leaves': 374, 'max_depth': 33, 'feature_fraction': 0.9381944208490304, 'feature_fraction_bynode': 0.38918612745828834, 'min_child_samples': 2, 'linear_tree': False, 'max_bin': 283, 'extra_trees': True, 'path_smooth': 8.334379907260334e-10, 'learning_rate': 1.5726716711299862e-22, 'min_gain_to_split': 2.873166668624335e-17, 'min_sum_hessian_in_leaf': 0.0016682764844414971, 'num_boost_round': 472, 'bagging_fraction': 0.971849444142849, 'bagging_freq': 89}. Best is trial 231 with value: 0.7646126482213438.\u001b[0m\n",
      "\u001b[32m[I 2021-05-17 22:02:48,662]\u001b[0m Trial 335 finished with value: 0.7288583662714098 and parameters: {'boosting_type': 'rf', 'lambda_l1': 2.0946935588488058e-09, 'lambda_l2': 2.035261143133093e-08, 'num_leaves': 226, 'max_depth': 28, 'feature_fraction': 0.9837442054636439, 'feature_fraction_bynode': 0.32882231216181834, 'min_child_samples': 6, 'linear_tree': False, 'max_bin': 234, 'extra_trees': True, 'path_smooth': 1.299283475817143e-11, 'learning_rate': 1.079743601419919e-23, 'min_gain_to_split': 3.799183951368988e-18, 'min_sum_hessian_in_leaf': 0.003248821579962712, 'num_boost_round': 481, 'bagging_fraction': 0.9992321358599148, 'bagging_freq': 82}. Best is trial 231 with value: 0.7646126482213438.\u001b[0m\n",
      "\u001b[32m[I 2021-05-17 22:02:49,981]\u001b[0m Trial 336 finished with value: 0.5 and parameters: {'boosting_type': 'rf', 'lambda_l1': 3.189803603710556e-10, 'lambda_l2': 2.0230314690202356e-10, 'num_leaves': 391, 'max_depth': 29, 'feature_fraction': 0.9685606669668703, 'feature_fraction_bynode': 0.300388445039876, 'min_child_samples': 196, 'linear_tree': True, 'max_bin': 79, 'extra_trees': True, 'path_smooth': 3.1826906697299985e-09, 'learning_rate': 3.2838930860936383e-23, 'min_gain_to_split': 7.856759663916358e-17, 'min_sum_hessian_in_leaf': 0.005592725062997002, 'num_boost_round': 448, 'bagging_fraction': 0.9722036096824962, 'bagging_freq': 87}. Best is trial 231 with value: 0.7646126482213438.\u001b[0m\n",
      "\u001b[32m[I 2021-05-17 22:02:59,195]\u001b[0m Trial 337 finished with value: 0.7429881422924902 and parameters: {'boosting_type': 'rf', 'lambda_l1': 6.098202854022843e-10, 'lambda_l2': 2.9096735467138685e-09, 'num_leaves': 370, 'max_depth': 28, 'feature_fraction': 0.9300014184256716, 'feature_fraction_bynode': 0.30938531497540644, 'min_child_samples': 2, 'linear_tree': False, 'max_bin': 244, 'extra_trees': True, 'path_smooth': 5.956154794958294e-11, 'learning_rate': 1.3003013424142647e-22, 'min_gain_to_split': 3.5827009264415855e-16, 'min_sum_hessian_in_leaf': 0.03997678484192959, 'num_boost_round': 438, 'bagging_fraction': 0.9842186127250627, 'bagging_freq': 80}. Best is trial 231 with value: 0.7646126482213438.\u001b[0m\n",
      "\u001b[32m[I 2021-05-17 22:03:01,963]\u001b[0m Trial 338 finished with value: 0.5 and parameters: {'boosting_type': 'gbdt', 'lambda_l1': 4.023628466701844e-05, 'lambda_l2': 1.0534421868260918e-08, 'num_leaves': 398, 'max_depth': 30, 'feature_fraction': 0.9141027474856049, 'feature_fraction_bynode': 0.28943248224205764, 'min_child_samples': 12, 'linear_tree': False, 'max_bin': 343, 'extra_trees': True, 'path_smooth': 6.477207673125269e-09, 'learning_rate': 5.6315727784422394e-24, 'min_gain_to_split': 1.900532690558704e-17, 'min_sum_hessian_in_leaf': 0.0019131221075366198, 'num_boost_round': 490, 'bagging_fraction': 0.9666229001213339, 'bagging_freq': 83}. Best is trial 231 with value: 0.7646126482213438.\u001b[0m\n",
      "\u001b[32m[I 2021-05-17 22:03:07,168]\u001b[0m Trial 339 finished with value: 0.7481831357048749 and parameters: {'boosting_type': 'rf', 'lambda_l1': 7.051227026882385e-09, 'lambda_l2': 6.881433650692869e-10, 'num_leaves': 363, 'max_depth': 29, 'feature_fraction': 0.948101978104024, 'feature_fraction_bynode': 0.32224728355966076, 'min_child_samples': 6, 'linear_tree': False, 'max_bin': 250, 'extra_trees': True, 'path_smooth': 1.4791925086325567e-09, 'learning_rate': 5.9533088903096085e-22, 'min_gain_to_split': 1.1486372596552429e-16, 'min_sum_hessian_in_leaf': 0.0013596664200418733, 'num_boost_round': 526, 'bagging_fraction': 0.9861227763198092, 'bagging_freq': 85}. Best is trial 231 with value: 0.7646126482213438.\u001b[0m\n",
      "\u001b[32m[I 2021-05-17 22:03:11,724]\u001b[0m Trial 340 finished with value: 0.7291277997364953 and parameters: {'boosting_type': 'rf', 'lambda_l1': 1.7031195807997948e-08, 'lambda_l2': 1.0940815125956836e-09, 'num_leaves': 378, 'max_depth': 31, 'feature_fraction': 0.9258949468458944, 'feature_fraction_bynode': 0.3396703980432444, 'min_child_samples': 5, 'linear_tree': False, 'max_bin': 101, 'extra_trees': True, 'path_smooth': 5.643102679624145e-12, 'learning_rate': 5.573203142069785e-23, 'min_gain_to_split': 5.006650303704481e-18, 'min_sum_hessian_in_leaf': 0.004009427314367892, 'num_boost_round': 458, 'bagging_fraction': 0.966193491865772, 'bagging_freq': 74}. Best is trial 231 with value: 0.7646126482213438.\u001b[0m\n",
      "\u001b[32m[I 2021-05-17 22:03:21,244]\u001b[0m Trial 341 finished with value: 0.7360395256916996 and parameters: {'boosting_type': 'rf', 'lambda_l1': 3.6090565514197113e-09, 'lambda_l2': 2.2556130716638044e-09, 'num_leaves': 384, 'max_depth': 29, 'feature_fraction': 0.9054114522923316, 'feature_fraction_bynode': 0.3591397980855633, 'min_child_samples': 2, 'linear_tree': False, 'max_bin': 182, 'extra_trees': True, 'path_smooth': 1.3725437640251956e-08, 'learning_rate': 6.472243905541121e-24, 'min_gain_to_split': 5.570658451680843e-16, 'min_sum_hessian_in_leaf': 0.0023501624774493112, 'num_boost_round': 464, 'bagging_fraction': 0.9993116327194046, 'bagging_freq': 79}. Best is trial 231 with value: 0.7646126482213438.\u001b[0m\n",
      "\u001b[32m[I 2021-05-17 22:03:24,937]\u001b[0m Trial 342 finished with value: 0.7287977602108036 and parameters: {'boosting_type': 'rf', 'lambda_l1': 1.075896530388502e-08, 'lambda_l2': 6.120009883468072e-09, 'num_leaves': 370, 'max_depth': 28, 'feature_fraction': 0.9724181462294003, 'feature_fraction_bynode': 0.28294786018181783, 'min_child_samples': 9, 'linear_tree': False, 'max_bin': 363, 'extra_trees': True, 'path_smooth': 7.544226686971865e-10, 'learning_rate': 2.7391442157970867e-24, 'min_gain_to_split': 9.393777170353504e-18, 'min_sum_hessian_in_leaf': 0.0011351343844372144, 'num_boost_round': 543, 'bagging_fraction': 0.9562298090608845, 'bagging_freq': 81}. Best is trial 231 with value: 0.7646126482213438.\u001b[0m\n",
      "\u001b[32m[I 2021-05-17 22:03:36,315]\u001b[0m Trial 343 finished with value: 0.7286613965744401 and parameters: {'boosting_type': 'rf', 'lambda_l1': 2.2034189392872534e-08, 'lambda_l2': 3.570448525724945e-08, 'num_leaves': 361, 'max_depth': 28, 'feature_fraction': 0.9964047528983186, 'feature_fraction_bynode': 0.3007378965437959, 'min_child_samples': 2, 'linear_tree': False, 'max_bin': 272, 'extra_trees': True, 'path_smooth': 2.34859288600495e-09, 'learning_rate': 2.7656076704975365e-23, 'min_gain_to_split': 5.1523335455128536e-17, 'min_sum_hessian_in_leaf': 0.0013826156582397008, 'num_boost_round': 519, 'bagging_fraction': 0.9999110001613113, 'bagging_freq': 76}. Best is trial 231 with value: 0.7646126482213438.\u001b[0m\n",
      "\u001b[32m[I 2021-05-17 22:03:37,071]\u001b[0m Trial 344 finished with value: 0.5 and parameters: {'boosting_type': 'rf', 'lambda_l1': 1.292819005509545e-09, 'lambda_l2': 1.3334558481800328e-07, 'num_leaves': 389, 'max_depth': 30, 'feature_fraction': 0.9488001275942615, 'feature_fraction_bynode': 0.31481700865535517, 'min_child_samples': 136, 'linear_tree': False, 'max_bin': 54, 'extra_trees': True, 'path_smooth': 6.581329220308819e-09, 'learning_rate': 6.444590657546833e-21, 'min_gain_to_split': 1.8682799817304398e-16, 'min_sum_hessian_in_leaf': 0.003294205476836767, 'num_boost_round': 531, 'bagging_fraction': 0.9800837025896784, 'bagging_freq': 82}. Best is trial 231 with value: 0.7646126482213438.\u001b[0m\n",
      "\u001b[32m[I 2021-05-17 22:03:39,607]\u001b[0m Trial 345 finished with value: 0.7030296442687747 and parameters: {'boosting_type': 'rf', 'lambda_l1': 2.261500614802923e-09, 'lambda_l2': 1.3102874470597296e-08, 'num_leaves': 375, 'max_depth': 21, 'feature_fraction': 0.9218870650804739, 'feature_fraction_bynode': 0.2774583872290319, 'min_child_samples': 15, 'linear_tree': False, 'max_bin': 170, 'extra_trees': True, 'path_smooth': 3.851517948628352e-09, 'learning_rate': 1.7634874100742304e-24, 'min_gain_to_split': 1.8548494977052834e-18, 'min_sum_hessian_in_leaf': 0.009662709849256455, 'num_boost_round': 554, 'bagging_fraction': 0.9485711230507478, 'bagging_freq': 78}. Best is trial 231 with value: 0.7646126482213438.\u001b[0m\n",
      "\u001b[32m[I 2021-05-17 22:03:44,314]\u001b[0m Trial 346 finished with value: 0.7239512516469039 and parameters: {'boosting_type': 'rf', 'lambda_l1': 5.531252830281397e-09, 'lambda_l2': 3.581614604585397e-10, 'num_leaves': 356, 'max_depth': 29, 'feature_fraction': 0.8992043256444574, 'feature_fraction_bynode': 0.3300758724544319, 'min_child_samples': 6, 'linear_tree': False, 'max_bin': 264, 'extra_trees': True, 'path_smooth': 1.2960841507715888e-08, 'learning_rate': 1.77500990316707e-22, 'min_gain_to_split': 2.1874744036629566e-17, 'min_sum_hessian_in_leaf': 0.001718188086464442, 'num_boost_round': 517, 'bagging_fraction': 0.9661864324243485, 'bagging_freq': 86}. Best is trial 231 with value: 0.7646126482213438.\u001b[0m\n",
      "\u001b[32m[I 2021-05-17 22:03:54,699]\u001b[0m Trial 347 finished with value: 0.7570408432147562 and parameters: {'boosting_type': 'rf', 'lambda_l1': 1.1708859213191017e-08, 'lambda_l2': 3.88818614317305e-09, 'num_leaves': 365, 'max_depth': 31, 'feature_fraction': 0.9369915794585328, 'feature_fraction_bynode': 0.2906143326191623, 'min_child_samples': 2, 'linear_tree': False, 'max_bin': 110, 'extra_trees': True, 'path_smooth': 3.1552331596581727e-10, 'learning_rate': 6.7291070275232e-24, 'min_gain_to_split': 1.428582294469858e-15, 'min_sum_hessian_in_leaf': 0.0009885028548078756, 'num_boost_round': 489, 'bagging_fraction': 0.9557171399194213, 'bagging_freq': 84}. Best is trial 231 with value: 0.7646126482213438.\u001b[0m\n",
      "\u001b[32m[I 2021-05-17 22:04:04,790]\u001b[0m Trial 348 finished with value: 0.7374571805006588 and parameters: {'boosting_type': 'rf', 'lambda_l1': 2.8852300929165565e-08, 'lambda_l2': 4.8416442252047205e-09, 'num_leaves': 363, 'max_depth': 31, 'feature_fraction': 0.9104967875506623, 'feature_fraction_bynode': 0.2926344818795065, 'min_child_samples': 2, 'linear_tree': False, 'max_bin': 91, 'extra_trees': True, 'path_smooth': 1.7415981888159008e-10, 'learning_rate': 9.359534050202828e-24, 'min_gain_to_split': 5.0170907650144846e-15, 'min_sum_hessian_in_leaf': 0.0008984139659546602, 'num_boost_round': 490, 'bagging_fraction': 0.9294984364363044, 'bagging_freq': 80}. Best is trial 231 with value: 0.7646126482213438.\u001b[0m\n",
      "\u001b[32m[I 2021-05-17 22:04:10,404]\u001b[0m Trial 349 finished with value: 0.744268115942029 and parameters: {'boosting_type': 'rf', 'lambda_l1': 3.3017030452048874e-09, 'lambda_l2': 3.2782488956060542e-09, 'num_leaves': 353, 'max_depth': 30, 'feature_fraction': 0.8934284436139469, 'feature_fraction_bynode': 0.2738309392523503, 'min_child_samples': 2, 'linear_tree': False, 'max_bin': 198, 'extra_trees': True, 'path_smooth': 2.7649958720460863e-10, 'learning_rate': 1.1323198266818054e-24, 'min_gain_to_split': 3.176473865398222e-15, 'min_sum_hessian_in_leaf': 0.0009521777115658909, 'num_boost_round': 498, 'bagging_fraction': 0.4810030962659603, 'bagging_freq': 83}. Best is trial 231 with value: 0.7646126482213438.\u001b[0m\n",
      "\u001b[32m[I 2021-05-17 22:04:14,007]\u001b[0m Trial 350 finished with value: 0.7182246376811594 and parameters: {'boosting_type': 'rf', 'lambda_l1': 7.849205846609239e-10, 'lambda_l2': 9.105558297930232e-09, 'num_leaves': 348, 'max_depth': 33, 'feature_fraction': 0.9114061810197397, 'feature_fraction_bynode': 0.30110642095542633, 'min_child_samples': 9, 'linear_tree': False, 'max_bin': 110, 'extra_trees': True, 'path_smooth': 4.6555091835661394e-10, 'learning_rate': 5.13166631675442e-24, 'min_gain_to_split': 6.259402632668662e-16, 'min_sum_hessian_in_leaf': 0.001074581389675057, 'num_boost_round': 534, 'bagging_fraction': 0.9543228949880151, 'bagging_freq': 90}. Best is trial 231 with value: 0.7646126482213438.\u001b[0m\n",
      "\u001b[32m[I 2021-05-17 22:04:25,397]\u001b[0m Trial 351 finished with value: 0.7481014492753623 and parameters: {'boosting_type': 'rf', 'lambda_l1': 7.422841673513352e-09, 'lambda_l2': 1.652884749023312e-09, 'num_leaves': 400, 'max_depth': 19, 'feature_fraction': 0.9331338383088257, 'feature_fraction_bynode': 0.27323991812364185, 'min_child_samples': 2, 'linear_tree': False, 'max_bin': 102, 'extra_trees': True, 'path_smooth': 9.927233080099479e-11, 'learning_rate': 4.8318708619638575e-25, 'min_gain_to_split': 1.9623261968847255e-15, 'min_sum_hessian_in_leaf': 0.0007479690522000962, 'num_boost_round': 513, 'bagging_fraction': 0.9999323086732165, 'bagging_freq': 81}. Best is trial 231 with value: 0.7646126482213438.\u001b[0m\n",
      "\u001b[32m[I 2021-05-17 22:04:27,842]\u001b[0m Trial 352 finished with value: 0.7178590250329381 and parameters: {'boosting_type': 'rf', 'lambda_l1': 1.932910624488224e-08, 'lambda_l2': 2.42834775851099e-08, 'num_leaves': 128, 'max_depth': 30, 'feature_fraction': 0.8864151635448523, 'feature_fraction_bynode': 0.30800326284649865, 'min_child_samples': 12, 'linear_tree': False, 'max_bin': 117, 'extra_trees': True, 'path_smooth': 2.973513633218001e-10, 'learning_rate': 1.4111485798496493e-23, 'min_gain_to_split': 2.84537394109961e-16, 'min_sum_hessian_in_leaf': 0.0012486737552278116, 'num_boost_round': 482, 'bagging_fraction': 0.9328872913991673, 'bagging_freq': 84}. Best is trial 231 with value: 0.7646126482213438.\u001b[0m\n",
      "\u001b[32m[I 2021-05-17 22:04:38,718]\u001b[0m Trial 353 finished with value: 0.733465744400527 and parameters: {'boosting_type': 'rf', 'lambda_l1': 9.92604809908283e-09, 'lambda_l2': 4.234621853545713e-09, 'num_leaves': 190, 'max_depth': 32, 'feature_fraction': 0.9687669045795422, 'feature_fraction_bynode': 0.2843608354568058, 'min_child_samples': 2, 'linear_tree': False, 'max_bin': 110, 'extra_trees': True, 'path_smooth': 7.436096551749224e-10, 'learning_rate': 7.230612036760392e-25, 'min_gain_to_split': 1.1831113661665742e-15, 'min_sum_hessian_in_leaf': 0.0003769287543935236, 'num_boost_round': 546, 'bagging_fraction': 0.9574495438827615, 'bagging_freq': 78}. Best is trial 231 with value: 0.7646126482213438.\u001b[0m\n",
      "\u001b[32m[I 2021-05-17 22:04:42,431]\u001b[0m Trial 354 finished with value: 0.717395256916996 and parameters: {'boosting_type': 'rf', 'lambda_l1': 2.0681120499119723e-09, 'lambda_l2': 7.392198602490128e-09, 'num_leaves': 364, 'max_depth': 20, 'feature_fraction': 0.9296720316819308, 'feature_fraction_bynode': 0.31863026014389584, 'min_child_samples': 8, 'linear_tree': False, 'max_bin': 325, 'extra_trees': True, 'path_smooth': 1.2680000085833494e-09, 'learning_rate': 2.6255760462302546e-24, 'min_gain_to_split': 8.735910816309315e-18, 'min_sum_hessian_in_leaf': 0.0017550308698939614, 'num_boost_round': 498, 'bagging_fraction': 0.9688279883220738, 'bagging_freq': 76}. Best is trial 231 with value: 0.7646126482213438.\u001b[0m\n",
      "\u001b[32m[I 2021-05-17 22:04:47,006]\u001b[0m Trial 355 finished with value: 0.727600790513834 and parameters: {'boosting_type': 'rf', 'lambda_l1': 4.475218048361386e-09, 'lambda_l2': 1.6973361608746054e-08, 'num_leaves': 382, 'max_depth': 28, 'feature_fraction': 0.8939011918196383, 'feature_fraction_bynode': 0.2919839979267433, 'min_child_samples': 6, 'linear_tree': False, 'max_bin': 83, 'extra_trees': True, 'path_smooth': 4.3620702325547854e-10, 'learning_rate': 1.4676407709710846e-21, 'min_gain_to_split': 8.194642438248309e-19, 'min_sum_hessian_in_leaf': 0.0006702617570446273, 'num_boost_round': 527, 'bagging_fraction': 0.9245385609289644, 'bagging_freq': 80}. Best is trial 231 with value: 0.7646126482213438.\u001b[0m\n",
      "\u001b[32m[I 2021-05-17 22:04:57,481]\u001b[0m Trial 356 finished with value: 0.7448886693017127 and parameters: {'boosting_type': 'rf', 'lambda_l1': 2.828889874689235e-08, 'lambda_l2': 2.7225989900149632e-09, 'num_leaves': 356, 'max_depth': 31, 'feature_fraction': 0.9992808773720832, 'feature_fraction_bynode': 0.2674921585137373, 'min_child_samples': 2, 'linear_tree': False, 'max_bin': 158, 'extra_trees': True, 'path_smooth': 1.6219720023959257e-09, 'learning_rate': 1.46102013242363e-23, 'min_gain_to_split': 8.4279227185448e-15, 'min_sum_hessian_in_leaf': 0.00040550628499236177, 'num_boost_round': 508, 'bagging_fraction': 0.9453417149391806, 'bagging_freq': 82}. Best is trial 231 with value: 0.7646126482213438.\u001b[0m\n",
      "\u001b[32m[I 2021-05-17 22:04:59,916]\u001b[0m Trial 357 finished with value: 0.7326238471673255 and parameters: {'boosting_type': 'rf', 'lambda_l1': 1.6409549175386663e-08, 'lambda_l2': 1.561647308896464e-09, 'num_leaves': 367, 'max_depth': 27, 'feature_fraction': 0.9127413594129185, 'feature_fraction_bynode': 0.31920859945825664, 'min_child_samples': 6, 'linear_tree': False, 'max_bin': 354, 'extra_trees': True, 'path_smooth': 8.800049536110225e-10, 'learning_rate': 1.9509687866386795e-24, 'min_gain_to_split': 2.9803623685823785e-18, 'min_sum_hessian_in_leaf': 0.0008628534214920487, 'num_boost_round': 245, 'bagging_fraction': 0.9791493759771187, 'bagging_freq': 84}. Best is trial 231 with value: 0.7646126482213438.\u001b[0m\n",
      "\u001b[32m[I 2021-05-17 22:05:04,978]\u001b[0m Trial 358 finished with value: 0.5 and parameters: {'boosting_type': 'goss', 'lambda_l1': 7.1817361210235485e-09, 'lambda_l2': 1.0632076040899517e-08, 'num_leaves': 377, 'max_depth': 30, 'feature_fraction': 0.8834488664315157, 'feature_fraction_bynode': 0.26863424049083434, 'min_child_samples': 2, 'linear_tree': False, 'max_bin': 123, 'extra_trees': True, 'path_smooth': 2.2786094399238926e-09, 'learning_rate': 2.2876128074462926e-25, 'min_gain_to_split': 3.012098497570473e-17, 'min_sum_hessian_in_leaf': 0.00028872185364322265, 'num_boost_round': 553}. Best is trial 231 with value: 0.7646126482213438.\u001b[0m\n",
      "\u001b[32m[I 2021-05-17 22:05:07,192]\u001b[0m Trial 359 finished with value: 0.7121014492753622 and parameters: {'boosting_type': 'rf', 'lambda_l1': 1.5673261775135682e-09, 'lambda_l2': 4.381499078068608e-09, 'num_leaves': 350, 'max_depth': 29, 'feature_fraction': 0.9633129452026269, 'feature_fraction_bynode': 0.30007821733182705, 'min_child_samples': 18, 'linear_tree': False, 'max_bin': 118, 'extra_trees': True, 'path_smooth': 2.298272566156893e-10, 'learning_rate': 4.752496960508646e-24, 'min_gain_to_split': 1.1046721355063337e-07, 'min_sum_hessian_in_leaf': 0.0006053381112083744, 'num_boost_round': 539, 'bagging_fraction': 0.9479181925091187, 'bagging_freq': 79}. Best is trial 231 with value: 0.7646126482213438.\u001b[0m\n",
      "\u001b[32m[I 2021-05-17 22:05:10,402]\u001b[0m Trial 360 finished with value: 0.7214446640316204 and parameters: {'boosting_type': 'rf', 'lambda_l1': 4.917804764912265e-10, 'lambda_l2': 2.848083882263762e-08, 'num_leaves': 390, 'max_depth': 28, 'feature_fraction': 0.9323002468687311, 'feature_fraction_bynode': 0.2869938389386051, 'min_child_samples': 11, 'linear_tree': False, 'max_bin': 94, 'extra_trees': True, 'path_smooth': 5.0182918118603135e-09, 'learning_rate': 6.065703907942335e-25, 'min_gain_to_split': 2.1708993746201337e-16, 'min_sum_hessian_in_leaf': 0.001507587655743459, 'num_boost_round': 569, 'bagging_fraction': 0.9166268275030647, 'bagging_freq': 73}. Best is trial 231 with value: 0.7646126482213438.\u001b[0m\n",
      "\u001b[32m[I 2021-05-17 22:05:21,842]\u001b[0m Trial 361 finished with value: 0.7573484848484848 and parameters: {'boosting_type': 'rf', 'lambda_l1': 3.234210353061861e-08, 'lambda_l2': 1.8556526798651682e-07, 'num_leaves': 360, 'max_depth': 31, 'feature_fraction': 0.8799781241266552, 'feature_fraction_bynode': 0.33126868956454647, 'min_child_samples': 2, 'linear_tree': False, 'max_bin': 165, 'extra_trees': True, 'path_smooth': 5.1975461951497e-10, 'learning_rate': 6.631421450957953e-23, 'min_gain_to_split': 1.2856094361429412e-15, 'min_sum_hessian_in_leaf': 0.0012110841622235914, 'num_boost_round': 529, 'bagging_fraction': 0.9994023059535388, 'bagging_freq': 50}. Best is trial 231 with value: 0.7646126482213438.\u001b[0m\n",
      "\u001b[32m[I 2021-05-17 22:05:32,316]\u001b[0m Trial 362 finished with value: 0.7425968379446641 and parameters: {'boosting_type': 'rf', 'lambda_l1': 3.984092962055629e-08, 'lambda_l2': 1.5968481833986482e-07, 'num_leaves': 372, 'max_depth': 32, 'feature_fraction': 0.8794352987769769, 'feature_fraction_bynode': 0.3714130219412759, 'min_child_samples': 2, 'linear_tree': False, 'max_bin': 145, 'extra_trees': True, 'path_smooth': 1.6415974769597304, 'learning_rate': 2.937869112908205e-22, 'min_gain_to_split': 2.859874892333032e-15, 'min_sum_hessian_in_leaf': 0.0025167717598797907, 'num_boost_round': 520, 'bagging_fraction': 0.9949158094155502, 'bagging_freq': 54}. Best is trial 231 with value: 0.7646126482213438.\u001b[0m\n",
      "\u001b[32m[I 2021-05-17 22:05:35,857]\u001b[0m Trial 363 finished with value: 0.7406936758893281 and parameters: {'boosting_type': 'rf', 'lambda_l1': 3.167302800053161e-08, 'lambda_l2': 2.3747645026342565e-07, 'num_leaves': 358, 'max_depth': 32, 'feature_fraction': 0.8970701933694337, 'feature_fraction_bynode': 0.3288652577486089, 'min_child_samples': 9, 'linear_tree': False, 'max_bin': 105, 'extra_trees': True, 'path_smooth': 5.072394475637826e-10, 'learning_rate': 4.884113335773892e-23, 'min_gain_to_split': 2.924313228868082e-14, 'min_sum_hessian_in_leaf': 0.001045590833356444, 'num_boost_round': 533, 'bagging_fraction': 0.9657754133706242, 'bagging_freq': 48}. Best is trial 231 with value: 0.7646126482213438.\u001b[0m\n",
      "\u001b[32m[I 2021-05-17 22:05:39,618]\u001b[0m Trial 364 finished with value: 0.731862977602108 and parameters: {'boosting_type': 'rf', 'lambda_l1': 1.1055893144130798e-09, 'lambda_l2': 3.6103907380119505e-07, 'num_leaves': 346, 'max_depth': 31, 'feature_fraction': 0.8531097276178465, 'feature_fraction_bynode': 0.3518268466572178, 'min_child_samples': 2, 'linear_tree': False, 'max_bin': 131, 'extra_trees': True, 'path_smooth': 1.7516485268901757e-10, 'learning_rate': 1.5406644668833258e-22, 'min_gain_to_split': 1.2135194380729863e-15, 'min_sum_hessian_in_leaf': 0.0013717922122685818, 'num_boost_round': 552, 'bagging_fraction': 0.2500095769564775, 'bagging_freq': 52}. Best is trial 231 with value: 0.7646126482213438.\u001b[0m\n",
      "\u001b[32m[I 2021-05-17 22:05:44,025]\u001b[0m Trial 365 finished with value: 0.7345606060606059 and parameters: {'boosting_type': 'rf', 'lambda_l1': 2.718506448030755e-09, 'lambda_l2': 2.4720919888565964e-09, 'num_leaves': 383, 'max_depth': 31, 'feature_fraction': 0.8718417321447228, 'feature_fraction_bynode': 0.24751102882464932, 'min_child_samples': 6, 'linear_tree': False, 'max_bin': 150, 'extra_trees': True, 'path_smooth': 6.657592665221666e-10, 'learning_rate': 1.3518604322874657e-21, 'min_gain_to_split': 7.641987941644749e-16, 'min_sum_hessian_in_leaf': 0.0017623683739836618, 'num_boost_round': 511, 'bagging_fraction': 0.9371833406615434, 'bagging_freq': 88}. Best is trial 231 with value: 0.7646126482213438.\u001b[0m\n",
      "\u001b[32m[I 2021-05-17 22:05:46,534]\u001b[0m Trial 366 finished with value: 0.6501903820816863 and parameters: {'boosting_type': 'rf', 'lambda_l1': 1.617771639703744e-08, 'lambda_l2': 5.708375704109267e-07, 'num_leaves': 369, 'max_depth': 30, 'feature_fraction': 0.9010833897351971, 'feature_fraction_bynode': 0.33034205040582365, 'min_child_samples': 6, 'linear_tree': True, 'max_bin': 164, 'extra_trees': True, 'path_smooth': 1.236926023189997e-09, 'learning_rate': 1.4389830242228515e-25, 'min_gain_to_split': 2.108545165877096e-15, 'min_sum_hessian_in_leaf': 0.0008600680134823795, 'num_boost_round': 527, 'bagging_fraction': 0.17420290235857538, 'bagging_freq': 46}. Best is trial 231 with value: 0.7646126482213438.\u001b[0m\n",
      "\u001b[32m[I 2021-05-17 22:05:57,872]\u001b[0m Trial 367 finished with value: 0.7474934123847167 and parameters: {'boosting_type': 'rf', 'lambda_l1': 6.6470436666925475e-09, 'lambda_l2': 1.2576651098660176e-07, 'num_leaves': 355, 'max_depth': 29, 'feature_fraction': 0.879884770505185, 'feature_fraction_bynode': 0.30500469330450086, 'min_child_samples': 2, 'linear_tree': False, 'max_bin': 122, 'extra_trees': True, 'path_smooth': 8.524446552606214e-11, 'learning_rate': 1.68603675091009e-23, 'min_gain_to_split': 4.514251625572482e-16, 'min_sum_hessian_in_leaf': 0.0022527517753844445, 'num_boost_round': 540, 'bagging_fraction': 0.9847409073826291, 'bagging_freq': 51}. Best is trial 231 with value: 0.7646126482213438.\u001b[0m\n",
      "\u001b[32m[I 2021-05-17 22:06:04,431]\u001b[0m Trial 368 finished with value: 0.5 and parameters: {'boosting_type': 'dart', 'lambda_l1': 2.743105647548913e-08, 'lambda_l2': 8.803583919200071e-08, 'num_leaves': 165, 'max_depth': 33, 'feature_fraction': 0.8485118677841114, 'feature_fraction_bynode': 0.2653611596195875, 'min_child_samples': 14, 'linear_tree': False, 'max_bin': 137, 'extra_trees': True, 'path_smooth': 4.496928131044798e-10, 'learning_rate': 1.8279914581139884e-24, 'min_gain_to_split': 8.781318998313313e-15, 'min_sum_hessian_in_leaf': 0.0010748135946702438, 'num_boost_round': 555, 'bagging_fraction': 0.9990114758915026, 'bagging_freq': 78, 'drop_rate': 0.14555391421531833, 'max_drop': 157, 'skip_drop': 0.6327821447030559, 'xgboost_dart_mode': False, 'uniform_drop': True}. Best is trial 231 with value: 0.7646126482213438.\u001b[0m\n",
      "\u001b[32m[I 2021-05-17 22:06:06,333]\u001b[0m Trial 369 finished with value: 0.6786067193675889 and parameters: {'boosting_type': 'rf', 'lambda_l1': 4.7702190892615155, 'lambda_l2': 34.12070062152737, 'num_leaves': 376, 'max_depth': 27, 'feature_fraction': 0.9095709272830301, 'feature_fraction_bynode': 0.29349111127094374, 'min_child_samples': 2, 'linear_tree': False, 'max_bin': 110, 'extra_trees': True, 'path_smooth': 2.1111113332227855e-09, 'learning_rate': 4.7716047229437175e-23, 'min_gain_to_split': 1.086946462553927e-17, 'min_sum_hessian_in_leaf': 0.0006698885379185849, 'num_boost_round': 569, 'bagging_fraction': 0.957798939655742, 'bagging_freq': 46}. Best is trial 231 with value: 0.7646126482213438.\u001b[0m\n",
      "\u001b[32m[I 2021-05-17 22:06:09,685]\u001b[0m Trial 370 finished with value: 0.7398194993412385 and parameters: {'boosting_type': 'rf', 'lambda_l1': 1.0278380641905769e-08, 'lambda_l2': 5.999502556649613e-09, 'num_leaves': 393, 'max_depth': 28, 'feature_fraction': 0.8293739771826593, 'feature_fraction_bynode': 0.33950600356731697, 'min_child_samples': 9, 'linear_tree': False, 'max_bin': 61, 'extra_trees': True, 'path_smooth': 2.568918870703539e-10, 'learning_rate': 3.8381883918135532e-25, 'min_gain_to_split': 1.5120360574553397e-16, 'min_sum_hessian_in_leaf': 0.8167165070368968, 'num_boost_round': 504, 'bagging_fraction': 0.9127195229697406, 'bagging_freq': 82}. Best is trial 231 with value: 0.7646126482213438.\u001b[0m\n",
      "\u001b[32m[I 2021-05-17 22:06:12,905]\u001b[0m Trial 371 finished with value: 0.5 and parameters: {'boosting_type': 'gbdt', 'lambda_l1': 4.078717953732618e-09, 'lambda_l2': 1.275400105753562e-09, 'num_leaves': 360, 'max_depth': 30, 'feature_fraction': 0.8644875755276966, 'feature_fraction_bynode': 0.43095045965886725, 'min_child_samples': 6, 'linear_tree': False, 'max_bin': 159, 'extra_trees': True, 'path_smooth': 9.505291115920112e-10, 'learning_rate': 1.2293005842433128e-24, 'min_gain_to_split': 4.101006573986603e-18, 'min_sum_hessian_in_leaf': 0.000491838393304926, 'num_boost_round': 521, 'bagging_fraction': 0.593959885027495, 'bagging_freq': 75}. Best is trial 231 with value: 0.7646126482213438.\u001b[0m\n",
      "\u001b[32m[I 2021-05-17 22:06:24,305]\u001b[0m Trial 372 finished with value: 0.7452667984189724 and parameters: {'boosting_type': 'rf', 'lambda_l1': 6.169060988041344e-10, 'lambda_l2': 3.3499768331733082e-09, 'num_leaves': 368, 'max_depth': 34, 'feature_fraction': 0.8888297163441061, 'feature_fraction_bynode': 0.28350545708490626, 'min_child_samples': 2, 'linear_tree': False, 'max_bin': 69, 'extra_trees': True, 'path_smooth': 3.4870951886812524e-09, 'learning_rate': 4.957808664716422e-22, 'min_gain_to_split': 5.064440452931868e-19, 'min_sum_hessian_in_leaf': 0.0015294405858103741, 'num_boost_round': 540, 'bagging_fraction': 0.9743836119040402, 'bagging_freq': 85}. Best is trial 231 with value: 0.7646126482213438.\u001b[0m\n",
      "\u001b[32m[I 2021-05-17 22:06:27,485]\u001b[0m Trial 373 finished with value: 0.7243201581027666 and parameters: {'boosting_type': 'rf', 'lambda_l1': 1.8373146037697114e-08, 'lambda_l2': 7.714932896415052e-09, 'num_leaves': 343, 'max_depth': 29, 'feature_fraction': 0.9186080252974815, 'feature_fraction_bynode': 0.3216328250222518, 'min_child_samples': 11, 'linear_tree': False, 'max_bin': 127, 'extra_trees': True, 'path_smooth': 1.3451414000512717e-10, 'learning_rate': 1.8634977303752626e-25, 'min_gain_to_split': 4.954945468599809e-16, 'min_sum_hessian_in_leaf': 0.19477444042461245, 'num_boost_round': 561, 'bagging_fraction': 0.9412603044508256, 'bagging_freq': 81}. Best is trial 231 with value: 0.7646126482213438.\u001b[0m\n",
      "\u001b[32m[I 2021-05-17 22:06:38,733]\u001b[0m Trial 374 finished with value: 0.7360210803689065 and parameters: {'boosting_type': 'rf', 'lambda_l1': 3.511383613926298e-08, 'lambda_l2': 2.9098438354694605e-07, 'num_leaves': 385, 'max_depth': 28, 'feature_fraction': 0.8646727585519617, 'feature_fraction_bynode': 0.23667904649214438, 'min_child_samples': 2, 'linear_tree': False, 'max_bin': 144, 'extra_trees': True, 'path_smooth': 1.4659980816888716e-09, 'learning_rate': 1.0640051398983472e-23, 'min_gain_to_split': 3.7399384424753465e-11, 'min_sum_hessian_in_leaf': 0.004381547833720621, 'num_boost_round': 528, 'bagging_fraction': 0.9997081302183548, 'bagging_freq': 84}. Best is trial 231 with value: 0.7646126482213438.\u001b[0m\n",
      "\u001b[32m[I 2021-05-17 22:06:43,513]\u001b[0m Trial 375 finished with value: 0.7395849802371542 and parameters: {'boosting_type': 'rf', 'lambda_l1': 3.528914345259831e-09, 'lambda_l2': 1.1167325933452426e-09, 'num_leaves': 400, 'max_depth': 30, 'feature_fraction': 0.8984553975133345, 'feature_fraction_bynode': 0.3652703228287131, 'min_child_samples': 6, 'linear_tree': False, 'max_bin': 99, 'extra_trees': True, 'path_smooth': 7.027663689172406e-09, 'learning_rate': 7.620177309713081e-26, 'min_gain_to_split': 3.283814782203926e-17, 'min_sum_hessian_in_leaf': 0.0008083772623375039, 'num_boost_round': 546, 'bagging_fraction': 0.9592719981912877, 'bagging_freq': 79}. Best is trial 231 with value: 0.7646126482213438.\u001b[0m\n",
      "\u001b[32m[I 2021-05-17 22:06:55,757]\u001b[0m Trial 376 finished with value: 0.752475625823452 and parameters: {'boosting_type': 'rf', 'lambda_l1': 9.777731319820953e-09, 'lambda_l2': 1.8503348268860777e-09, 'num_leaves': 365, 'max_depth': 27, 'feature_fraction': 0.9368241009079668, 'feature_fraction_bynode': 0.26351302616745126, 'min_child_samples': 2, 'linear_tree': False, 'max_bin': 118, 'extra_trees': True, 'path_smooth': 3.620810299566507e-11, 'learning_rate': 4.993485505312328e-23, 'min_gain_to_split': 1.1142153385767654e-15, 'min_sum_hessian_in_leaf': 0.0023254372481414215, 'num_boost_round': 577, 'bagging_fraction': 0.9815203342940245, 'bagging_freq': 49}. Best is trial 231 with value: 0.7646126482213438.\u001b[0m\n",
      "\u001b[32m[I 2021-05-17 22:06:59,428]\u001b[0m Trial 377 finished with value: 0.7271054018445323 and parameters: {'boosting_type': 'rf', 'lambda_l1': 6.041460123279339e-09, 'lambda_l2': 2.2555630750367307e-09, 'num_leaves': 349, 'max_depth': 27, 'feature_fraction': 0.9390380109489161, 'feature_fraction_bynode': 0.2678148872997058, 'min_child_samples': 9, 'linear_tree': False, 'max_bin': 396, 'extra_trees': True, 'path_smooth': 5.384350578594982e-11, 'learning_rate': 4.5759199736603876e-21, 'min_gain_to_split': 5.062141365503352e-15, 'min_sum_hessian_in_leaf': 0.0023431356112790513, 'num_boost_round': 583, 'bagging_fraction': 0.9254444088130869, 'bagging_freq': 87}. Best is trial 231 with value: 0.7646126482213438.\u001b[0m\n",
      "\u001b[32m[I 2021-05-17 22:07:05,507]\u001b[0m Trial 378 finished with value: 0.7458682476943348 and parameters: {'boosting_type': 'rf', 'lambda_l1': 9.044343405788352e-09, 'lambda_l2': 7.045583239271878e-10, 'num_leaves': 364, 'max_depth': 27, 'feature_fraction': 0.9184797545070263, 'feature_fraction_bynode': 0.31360858640981476, 'min_child_samples': 5, 'linear_tree': False, 'max_bin': 116, 'extra_trees': True, 'path_smooth': 5.091432826607362e-11, 'learning_rate': 1.0098257953978636e-22, 'min_gain_to_split': 9.139230027025889e-16, 'min_sum_hessian_in_leaf': 0.0030456961322782167, 'num_boost_round': 569, 'bagging_fraction': 0.9815228664779622, 'bagging_freq': 48}. Best is trial 231 with value: 0.7646126482213438.\u001b[0m\n",
      "\u001b[32m[I 2021-05-17 22:07:07,348]\u001b[0m Trial 379 finished with value: 0.6895750988142292 and parameters: {'boosting_type': 'rf', 'lambda_l1': 1.3209332179241624e-08, 'lambda_l2': 1.9197926492870303e-09, 'num_leaves': 353, 'max_depth': 29, 'feature_fraction': 0.8816242571508122, 'feature_fraction_bynode': 0.2914711227423391, 'min_child_samples': 2, 'linear_tree': False, 'max_bin': 375, 'extra_trees': True, 'path_smooth': 1.131494002225243e-08, 'learning_rate': 8.712076888084153e-23, 'min_gain_to_split': 2.0391573138633334e-15, 'min_sum_hessian_in_leaf': 7.496802435517099, 'num_boost_round': 579, 'bagging_fraction': 0.9967570352657659, 'bagging_freq': 53}. Best is trial 231 with value: 0.7646126482213438.\u001b[0m\n",
      "\u001b[32m[I 2021-05-17 22:07:10,055]\u001b[0m Trial 380 finished with value: 0.7275685111989459 and parameters: {'boosting_type': 'rf', 'lambda_l1': 2.422482869329531e-08, 'lambda_l2': 4.068891017343763e-09, 'num_leaves': 379, 'max_depth': 28, 'feature_fraction': 0.8427593310838978, 'feature_fraction_bynode': 0.2633454113217309, 'min_child_samples': 15, 'linear_tree': False, 'max_bin': 132, 'extra_trees': True, 'path_smooth': 1.733616403435976e-11, 'learning_rate': 5.089142624993015e-22, 'min_gain_to_split': 1.8714439095476185e-14, 'min_sum_hessian_in_leaf': 0.00564096745427036, 'num_boost_round': 598, 'bagging_fraction': 0.9461253015185084, 'bagging_freq': 52}. Best is trial 231 with value: 0.7646126482213438.\u001b[0m\n",
      "\u001b[32m[I 2021-05-17 22:07:22,199]\u001b[0m Trial 381 finished with value: 0.7233306982872201 and parameters: {'boosting_type': 'rf', 'lambda_l1': 1.0375817913232444e-08, 'lambda_l2': 4.796431910715953e-10, 'num_leaves': 342, 'max_depth': 31, 'feature_fraction': 0.9014835464363713, 'feature_fraction_bynode': 0.30787968815292455, 'min_child_samples': 2, 'linear_tree': False, 'max_bin': 117, 'extra_trees': True, 'path_smooth': 2.2961316891406215e-11, 'learning_rate': 3.412550270145544e-23, 'min_gain_to_split': 3.339248495609992e-16, 'min_sum_hessian_in_leaf': 0.0016331193455942474, 'num_boost_round': 587, 'bagging_fraction': 0.9768252872299883, 'bagging_freq': 48}. Best is trial 231 with value: 0.7646126482213438.\u001b[0m\n",
      "\u001b[32m[I 2021-05-17 22:07:26,020]\u001b[0m Trial 382 finished with value: 0.7322384716732543 and parameters: {'boosting_type': 'rf', 'lambda_l1': 4.359309572593756e-08, 'lambda_l2': 1.2051927205712598e-09, 'num_leaves': 360, 'max_depth': 28, 'feature_fraction': 0.8630698201371688, 'feature_fraction_bynode': 0.2825604088762663, 'min_child_samples': 8, 'linear_tree': False, 'max_bin': 128, 'extra_trees': True, 'path_smooth': 6.216842384536633e-10, 'learning_rate': 2.7213063173659236e-22, 'min_gain_to_split': 1.3219499344483536e-15, 'min_sum_hessian_in_leaf': 0.0021499480888624487, 'num_boost_round': 554, 'bagging_fraction': 0.9051339082279738, 'bagging_freq': 51}. Best is trial 231 with value: 0.7646126482213438.\u001b[0m\n",
      "\u001b[32m[I 2021-05-17 22:07:37,277]\u001b[0m Trial 383 finished with value: 0.7260862977602107 and parameters: {'boosting_type': 'rf', 'lambda_l1': 2.0183242746283802e-08, 'lambda_l2': 2.5937287881361193e-10, 'num_leaves': 365, 'max_depth': 27, 'feature_fraction': 0.9256932905250423, 'feature_fraction_bynode': 0.34396508024632555, 'min_child_samples': 2, 'linear_tree': False, 'max_bin': 105, 'extra_trees': True, 'path_smooth': 3.348946426129435e-10, 'learning_rate': 4.6569864712688786e-24, 'min_gain_to_split': 8.746851127754074e-17, 'min_sum_hessian_in_leaf': 0.0012855409849991477, 'num_boost_round': 572, 'bagging_fraction': 0.9584035082311042, 'bagging_freq': 44}. Best is trial 231 with value: 0.7646126482213438.\u001b[0m\n",
      "\u001b[32m[I 2021-05-17 22:07:39,956]\u001b[0m Trial 384 finished with value: 0.7082444005270092 and parameters: {'boosting_type': 'rf', 'lambda_l1': 5.465910779852415e-09, 'lambda_l2': 3.3191742056858054e-09, 'num_leaves': 375, 'max_depth': 29, 'feature_fraction': 0.8866580306242691, 'feature_fraction_bynode': 0.30309313277241684, 'min_child_samples': 12, 'linear_tree': False, 'max_bin': 151, 'extra_trees': True, 'path_smooth': 3.513108791153441e-09, 'learning_rate': 7.424994813102431e-26, 'min_gain_to_split': 2.0608635703808235e-16, 'min_sum_hessian_in_leaf': 0.002893994626663636, 'num_boost_round': 490, 'bagging_fraction': 0.927518841210115, 'bagging_freq': 49}. Best is trial 231 with value: 0.7646126482213438.\u001b[0m\n",
      "\u001b[32m[I 2021-05-17 22:07:45,129]\u001b[0m Trial 385 finished with value: 0.7395750988142292 and parameters: {'boosting_type': 'rf', 'lambda_l1': 1.3996977300557194e-08, 'lambda_l2': 1.1249554096030723e-08, 'num_leaves': 353, 'max_depth': 28, 'feature_fraction': 0.9464820006005218, 'feature_fraction_bynode': 0.2536390742471358, 'min_child_samples': 6, 'linear_tree': False, 'max_bin': 138, 'extra_trees': True, 'path_smooth': 1.4334192943490108e-10, 'learning_rate': 0.07757248500751796, 'min_gain_to_split': 4.780777671101158e-15, 'min_sum_hessian_in_leaf': 0.001116077196401008, 'num_boost_round': 544, 'bagging_fraction': 0.9990365181952949, 'bagging_freq': 83}. Best is trial 231 with value: 0.7646126482213438.\u001b[0m\n",
      "\u001b[32m[I 2021-05-17 22:07:45,983]\u001b[0m Trial 386 finished with value: 0.5 and parameters: {'boosting_type': 'rf', 'lambda_l1': 2.7788283034818727e-09, 'lambda_l2': 5.154609317402376e-09, 'num_leaves': 390, 'max_depth': 30, 'feature_fraction': 0.8278150305360996, 'feature_fraction_bynode': 0.3258775634683969, 'min_child_samples': 72, 'linear_tree': False, 'max_bin': 123, 'extra_trees': True, 'path_smooth': 1.1888808212925087e-09, 'learning_rate': 5.963108877484314e-25, 'min_gain_to_split': 4.824021909484188e-16, 'min_sum_hessian_in_leaf': 0.004192740906970111, 'num_boost_round': 561, 'bagging_fraction': 0.9729021396192441, 'bagging_freq': 46}. Best is trial 231 with value: 0.7646126482213438.\u001b[0m\n",
      "\u001b[32m[I 2021-05-17 22:07:55,889]\u001b[0m Trial 387 finished with value: 0.7391284584980238 and parameters: {'boosting_type': 'rf', 'lambda_l1': 8.649308004859761e-09, 'lambda_l2': 1.9364196697667713e-09, 'num_leaves': 345, 'max_depth': 32, 'feature_fraction': 0.8505711864955035, 'feature_fraction_bynode': 0.3892833911602906, 'min_child_samples': 2, 'linear_tree': False, 'max_bin': 114, 'extra_trees': True, 'path_smooth': 5.893887715214654e-09, 'learning_rate': 2.1636491986779022e-23, 'min_gain_to_split': 7.405492499332635e-17, 'min_sum_hessian_in_leaf': 0.014510389424515463, 'num_boost_round': 514, 'bagging_fraction': 0.9448891539652234, 'bagging_freq': 49}. Best is trial 231 with value: 0.7646126482213438.\u001b[0m\n",
      "\u001b[32m[I 2021-05-17 22:08:00,457]\u001b[0m Trial 388 finished with value: 0.7440724637681159 and parameters: {'boosting_type': 'rf', 'lambda_l1': 1.2599264431474923e-06, 'lambda_l2': 7.158605420198805e-09, 'num_leaves': 366, 'max_depth': 26, 'feature_fraction': 0.8736095458099232, 'feature_fraction_bynode': 0.2864316861974084, 'min_child_samples': 6, 'linear_tree': False, 'max_bin': 168, 'extra_trees': True, 'path_smooth': 2.5481923915831502e-09, 'learning_rate': 4.024082880726574e-15, 'min_gain_to_split': 1.5218336417957476e-15, 'min_sum_hessian_in_leaf': 0.0007103438402032018, 'num_boost_round': 497, 'bagging_fraction': 0.9975599527685107, 'bagging_freq': 56}. Best is trial 231 with value: 0.7646126482213438.\u001b[0m\n",
      "\u001b[32m[I 2021-05-17 22:08:02,751]\u001b[0m Trial 389 finished with value: 0.5 and parameters: {'boosting_type': 'goss', 'lambda_l1': 5.234111376691961e-06, 'lambda_l2': 8.377847172942958e-10, 'num_leaves': 380, 'max_depth': 29, 'feature_fraction': 0.9119647740941522, 'feature_fraction_bynode': 0.26768017537584604, 'min_child_samples': 10, 'linear_tree': False, 'max_bin': 140, 'extra_trees': True, 'path_smooth': 1.401323891094982e-08, 'learning_rate': 1.6219398903908513e-24, 'min_gain_to_split': 2.1097433070659224e-17, 'min_sum_hessian_in_leaf': 0.00027847839749445074, 'num_boost_round': 559}. Best is trial 231 with value: 0.7646126482213438.\u001b[0m\n",
      "\u001b[32m[I 2021-05-17 22:08:12,149]\u001b[0m Trial 390 finished with value: 0.7461501976284586 and parameters: {'boosting_type': 'rf', 'lambda_l1': 1.0770540652481975e-07, 'lambda_l2': 3.1337812031330002e-09, 'num_leaves': 359, 'max_depth': 27, 'feature_fraction': 0.5581859467087031, 'feature_fraction_bynode': 0.31148127010493665, 'min_child_samples': 2, 'linear_tree': False, 'max_bin': 154, 'extra_trees': True, 'path_smooth': 3.9771439481676466e-10, 'learning_rate': 1.6315298779185636e-26, 'min_gain_to_split': 1.6379744873522006e-16, 'min_sum_hessian_in_leaf': 0.0016709741622956617, 'num_boost_round': 533, 'bagging_fraction': 0.9103738505456662, 'bagging_freq': 81}. Best is trial 231 with value: 0.7646126482213438.\u001b[0m\n",
      "\u001b[32m[I 2021-05-17 22:08:14,030]\u001b[0m Trial 391 finished with value: 0.730800395256917 and parameters: {'boosting_type': 'rf', 'lambda_l1': 3.786241989632465e-08, 'lambda_l2': 1.4005832958437684e-08, 'num_leaves': 324, 'max_depth': 30, 'feature_fraction': 0.8921535507219066, 'feature_fraction_bynode': 0.3557292077109273, 'min_child_samples': 6, 'linear_tree': False, 'max_bin': 131, 'extra_trees': True, 'path_smooth': 3.3122127198721125e-11, 'learning_rate': 1.9481489644684953e-25, 'min_gain_to_split': 4.3388268230630495e-17, 'min_sum_hessian_in_leaf': 0.0003992014597516017, 'num_boost_round': 198, 'bagging_fraction': 0.9599784836583278, 'bagging_freq': 42}. Best is trial 231 with value: 0.7646126482213438.\u001b[0m\n",
      "\u001b[32m[I 2021-05-17 22:08:19,575]\u001b[0m Trial 392 finished with value: 0.7293814229249013 and parameters: {'boosting_type': 'rf', 'lambda_l1': 4.70842979668265e-09, 'lambda_l2': 1.3483480506445666e-09, 'num_leaves': 372, 'max_depth': 31, 'feature_fraction': 0.9295353546373918, 'feature_fraction_bynode': 0.33328896432542043, 'min_child_samples': 2, 'linear_tree': False, 'max_bin': 190, 'extra_trees': True, 'path_smooth': 1.771858191347688e-09, 'learning_rate': 2.7435690791182916e-21, 'min_gain_to_split': 4.958684801244301e-16, 'min_sum_hessian_in_leaf': 0.0011589363022243893, 'num_boost_round': 285, 'bagging_fraction': 0.9321273933427042, 'bagging_freq': 85}. Best is trial 231 with value: 0.7646126482213438.\u001b[0m\n",
      "\u001b[32m[I 2021-05-17 22:08:24,246]\u001b[0m Trial 393 finished with value: 0.7047160737812912 and parameters: {'boosting_type': 'rf', 'lambda_l1': 1.7252298026430433e-08, 'lambda_l2': 3.874073051021552e-10, 'num_leaves': 338, 'max_depth': 29, 'feature_fraction': 0.8730802582091637, 'feature_fraction_bynode': 0.28802433767215724, 'min_child_samples': 10, 'linear_tree': True, 'max_bin': 97, 'extra_trees': True, 'path_smooth': 7.534530101001241e-10, 'learning_rate': 8.061072561063423e-24, 'min_gain_to_split': 1.0431039897802164e-17, 'min_sum_hessian_in_leaf': 0.0005308969690660212, 'num_boost_round': 508, 'bagging_fraction': 0.9990720238890808, 'bagging_freq': 88}. Best is trial 231 with value: 0.7646126482213438.\u001b[0m\n",
      "\u001b[32m[I 2021-05-17 22:08:52,492]\u001b[0m Trial 394 finished with value: 0.5 and parameters: {'boosting_type': 'dart', 'lambda_l1': 1.9477614893837886e-09, 'lambda_l2': 6.079622514902629e-09, 'num_leaves': 350, 'max_depth': 28, 'feature_fraction': 0.9033336895629195, 'feature_fraction_bynode': 0.25100134969928883, 'min_child_samples': 5, 'linear_tree': False, 'max_bin': 109, 'extra_trees': True, 'path_smooth': 6.988613750045265e-09, 'learning_rate': 6.854953107132503e-23, 'min_gain_to_split': 1.3169475913840194e-16, 'min_sum_hessian_in_leaf': 0.0020896363119448443, 'num_boost_round': 577, 'bagging_fraction': 0.980250417790937, 'bagging_freq': 77, 'drop_rate': 0.5068611732242373, 'max_drop': 106, 'skip_drop': 0.3788717195616257, 'xgboost_dart_mode': True, 'uniform_drop': False}. Best is trial 231 with value: 0.7646126482213438.\u001b[0m\n",
      "\u001b[32m[I 2021-05-17 22:08:54,452]\u001b[0m Trial 395 finished with value: 0.690461791831357 and parameters: {'boosting_type': 'rf', 'lambda_l1': 1.139059050583978e-05, 'lambda_l2': 2.1681708616887464e-09, 'num_leaves': 5, 'max_depth': 29, 'feature_fraction': 0.8511114468798252, 'feature_fraction_bynode': 0.3091614873433901, 'min_child_samples': 19, 'linear_tree': False, 'max_bin': 179, 'extra_trees': True, 'path_smooth': 4.685636952237062e-09, 'learning_rate': 5.784120599443515e-26, 'min_gain_to_split': 1.5743525947450445e-15, 'min_sum_hessian_in_leaf': 0.00018867471237376312, 'num_boost_round': 544, 'bagging_fraction': 0.9541979076288791, 'bagging_freq': 90}. Best is trial 231 with value: 0.7646126482213438.\u001b[0m\n",
      "\u001b[32m[I 2021-05-17 22:09:04,102]\u001b[0m Trial 396 finished with value: 0.7361739130434782 and parameters: {'boosting_type': 'rf', 'lambda_l1': 6.554250500515419e-09, 'lambda_l2': 5.729374656181817e-08, 'num_leaves': 86, 'max_depth': 26, 'feature_fraction': 0.9487768557753207, 'feature_fraction_bynode': 0.2731396132994457, 'min_child_samples': 2, 'linear_tree': False, 'max_bin': 147, 'extra_trees': True, 'path_smooth': 2.044648368435235e-08, 'learning_rate': 4.659007332557845e-25, 'min_gain_to_split': 9.519943988785002e-15, 'min_sum_hessian_in_leaf': 0.000900679854513413, 'num_boost_round': 520, 'bagging_fraction': 0.8955813344649141, 'bagging_freq': 83}. Best is trial 231 with value: 0.7646126482213438.\u001b[0m\n",
      "\u001b[32m[I 2021-05-17 22:09:04,837]\u001b[0m Trial 397 finished with value: 0.5 and parameters: {'boosting_type': 'rf', 'lambda_l1': 3.315887623139326e-08, 'lambda_l2': 1.7672052764250546e-08, 'num_leaves': 383, 'max_depth': 27, 'feature_fraction': 0.8884994489030167, 'feature_fraction_bynode': 0.3399139291707143, 'min_child_samples': 92, 'linear_tree': False, 'max_bin': 120, 'extra_trees': True, 'path_smooth': 2.424222329444601e-10, 'learning_rate': 3.09798973891657e-24, 'min_gain_to_split': 2.3380939514955293e-17, 'min_sum_hessian_in_leaf': 0.00030745257043447103, 'num_boost_round': 531, 'bagging_fraction': 0.9993869750812995, 'bagging_freq': 81}. Best is trial 231 with value: 0.7646126482213438.\u001b[0m\n",
      "\u001b[32m[I 2021-05-17 22:09:07,665]\u001b[0m Trial 398 finished with value: 0.7107411067193676 and parameters: {'boosting_type': 'rf', 'lambda_l1': 1.2236090184966896e-08, 'lambda_l2': 6.70069703909618e-10, 'num_leaves': 364, 'max_depth': 30, 'feature_fraction': 0.8168537596373696, 'feature_fraction_bynode': 0.29856389016913615, 'min_child_samples': 13, 'linear_tree': False, 'max_bin': 136, 'extra_trees': True, 'path_smooth': 2.8731442361927963e-09, 'learning_rate': 3.002573923428866e-22, 'min_gain_to_split': 8.423518354191254e-05, 'min_sum_hessian_in_leaf': 0.0006191562662369024, 'num_boost_round': 554, 'bagging_fraction': 0.9674903419645194, 'bagging_freq': 79}. Best is trial 231 with value: 0.7646126482213438.\u001b[0m\n",
      "\u001b[32m[I 2021-05-17 22:09:13,088]\u001b[0m Trial 399 finished with value: 0.5 and parameters: {'boosting_type': 'gbdt', 'lambda_l1': 3.7096704066254832e-09, 'lambda_l2': 4.249312028412792e-09, 'num_leaves': 393, 'max_depth': 28, 'feature_fraction': 0.916950596524971, 'feature_fraction_bynode': 0.32048499270715436, 'min_child_samples': 6, 'linear_tree': False, 'max_bin': 125, 'extra_trees': True, 'path_smooth': 9.54417257562088e-10, 'learning_rate': 1.7218648443998477e-19, 'min_gain_to_split': 3.576352565504896e-16, 'min_sum_hessian_in_leaf': 0.0028199364172154986, 'num_boost_round': 600, 'bagging_fraction': 0.9342207832503615, 'bagging_freq': 84}. Best is trial 231 with value: 0.7646126482213438.\u001b[0m\n",
      "\u001b[32m[I 2021-05-17 22:09:16,258]\u001b[0m Trial 400 finished with value: 0.6826765480895916 and parameters: {'boosting_type': 'rf', 'lambda_l1': 2.3052610552303323e-08, 'lambda_l2': 1.6763901565659116e-10, 'num_leaves': 371, 'max_depth': 31, 'feature_fraction': 0.1883923507473373, 'feature_fraction_bynode': 0.2775639340376815, 'min_child_samples': 2, 'linear_tree': False, 'max_bin': 163, 'extra_trees': True, 'path_smooth': 1.0795083612742737e-08, 'learning_rate': 6.34773954847345e-27, 'min_gain_to_split': 5.636113993152579e-17, 'min_sum_hessian_in_leaf': 0.008508548556454611, 'num_boost_round': 569, 'bagging_fraction': 0.9815196698321073, 'bagging_freq': 86}. Best is trial 231 with value: 0.7646126482213438.\u001b[0m\n",
      "\u001b[32m[I 2021-05-17 22:09:19,970]\u001b[0m Trial 401 finished with value: 0.7234268774703558 and parameters: {'boosting_type': 'rf', 'lambda_l1': 8.204631460270359e-08, 'lambda_l2': 1.7306084192996157e-09, 'num_leaves': 355, 'max_depth': 27, 'feature_fraction': 0.8652664373620472, 'feature_fraction_bynode': 0.24243084188533942, 'min_child_samples': 8, 'linear_tree': False, 'max_bin': 109, 'extra_trees': True, 'path_smooth': 1.5571491958324838e-09, 'learning_rate': 2.5065147008949308e-20, 'min_gain_to_split': 1.6008225745400216e-18, 'min_sum_hessian_in_leaf': 0.0012930422442620122, 'num_boost_round': 540, 'bagging_fraction': 0.9186375004997843, 'bagging_freq': 81}. Best is trial 231 with value: 0.7646126482213438.\u001b[0m\n",
      "\u001b[32m[I 2021-05-17 22:09:27,116]\u001b[0m Trial 402 finished with value: 0.7402588932806324 and parameters: {'boosting_type': 'rf', 'lambda_l1': 8.066297202035934e-09, 'lambda_l2': 1.0449168401060765e-08, 'num_leaves': 377, 'max_depth': 29, 'feature_fraction': 0.8397797951638859, 'feature_fraction_bynode': 0.3606526336542132, 'min_child_samples': 2, 'linear_tree': False, 'max_bin': 144, 'extra_trees': True, 'path_smooth': 8.980957311568285e-11, 'learning_rate': 1.6077033118007892e-23, 'min_gain_to_split': 8.671095381199677e-18, 'min_sum_hessian_in_leaf': 0.0008227316620430378, 'num_boost_round': 504, 'bagging_fraction': 0.6566899759904297, 'bagging_freq': 50}. Best is trial 231 with value: 0.7646126482213438.\u001b[0m\n",
      "\u001b[32m[I 2021-05-17 22:09:30,678]\u001b[0m Trial 403 finished with value: 0.7193965744400527 and parameters: {'boosting_type': 'rf', 'lambda_l1': 1.7858147598404908e-09, 'lambda_l2': 8.156978061676747e-09, 'num_leaves': 400, 'max_depth': 28, 'feature_fraction': 0.8989270855888593, 'feature_fraction_bynode': 0.3017641864130427, 'min_child_samples': 9, 'linear_tree': False, 'max_bin': 335, 'extra_trees': True, 'path_smooth': 5.551644867535812e-10, 'learning_rate': 8.992864364508367e-25, 'min_gain_to_split': 8.407335575725496e-16, 'min_sum_hessian_in_leaf': 0.0048000216885904995, 'num_boost_round': 517, 'bagging_fraction': 0.946198060151299, 'bagging_freq': 77}. Best is trial 231 with value: 0.7646126482213438.\u001b[0m\n",
      "\u001b[32m[I 2021-05-17 22:09:32,860]\u001b[0m Trial 404 finished with value: 0.6806100131752305 and parameters: {'boosting_type': 'rf', 'lambda_l1': 4.413412459168796e-08, 'lambda_l2': 1.100836869574854e-09, 'num_leaves': 342, 'max_depth': 29, 'feature_fraction': 0.14489659346439288, 'feature_fraction_bynode': 0.26334928077040715, 'min_child_samples': 2, 'linear_tree': False, 'max_bin': 121, 'extra_trees': True, 'path_smooth': 4.50376967210215e-09, 'learning_rate': 7.773312860401679e-26, 'min_gain_to_split': 3.495035486817751e-15, 'min_sum_hessian_in_leaf': 0.0004280985391780969, 'num_boost_round': 479, 'bagging_fraction': 0.9647685571511478, 'bagging_freq': 83}. Best is trial 231 with value: 0.7646126482213438.\u001b[0m\n",
      "\u001b[32m[I 2021-05-17 22:09:38,054]\u001b[0m Trial 405 finished with value: 0.7291765480895914 and parameters: {'boosting_type': 'rf', 'lambda_l1': 1.2500142165496024e-08, 'lambda_l2': 3.3893540286876296e-09, 'num_leaves': 386, 'max_depth': 30, 'feature_fraction': 0.8782461678528417, 'feature_fraction_bynode': 0.32526212848939673, 'min_child_samples': 6, 'linear_tree': False, 'max_bin': 137, 'extra_trees': True, 'path_smooth': 8.041112436773937e-09, 'learning_rate': 9.961298953871803e-23, 'min_gain_to_split': 1.677480488863623e-16, 'min_sum_hessian_in_leaf': 0.0019345249147058156, 'num_boost_round': 550, 'bagging_fraction': 0.9827811811293165, 'bagging_freq': 87}. Best is trial 231 with value: 0.7646126482213438.\u001b[0m\n",
      "\u001b[32m[I 2021-05-17 22:09:41,013]\u001b[0m Trial 406 finished with value: 0.7179993412384716 and parameters: {'boosting_type': 'rf', 'lambda_l1': 3.9462002775719154e-09, 'lambda_l2': 2.1542467239708854e-08, 'num_leaves': 360, 'max_depth': 32, 'feature_fraction': 0.9355917680009883, 'feature_fraction_bynode': 0.2847155771747536, 'min_child_samples': 13, 'linear_tree': False, 'max_bin': 156, 'extra_trees': True, 'path_smooth': 6.670736693675249e-12, 'learning_rate': 2.226407402506978e-25, 'min_gain_to_split': 4.4432848586050786e-17, 'min_sum_hessian_in_leaf': 0.0002333614369623342, 'num_boost_round': 586, 'bagging_fraction': 0.9337578100387964, 'bagging_freq': 80}. Best is trial 231 with value: 0.7646126482213438.\u001b[0m\n",
      "\u001b[32m[I 2021-05-17 22:09:45,471]\u001b[0m Trial 407 finished with value: 0.738872859025033 and parameters: {'boosting_type': 'rf', 'lambda_l1': 2.1216559477717297e-08, 'lambda_l2': 5.7227560013571885e-09, 'num_leaves': 367, 'max_depth': 28, 'feature_fraction': 0.7296019092283433, 'feature_fraction_bynode': 0.22811110956617753, 'min_child_samples': 6, 'linear_tree': False, 'max_bin': 94, 'extra_trees': True, 'path_smooth': 2.0526690334335665e-09, 'learning_rate': 7.928006183766918e-28, 'min_gain_to_split': 4.392321155065692e-18, 'min_sum_hessian_in_leaf': 0.0006244853869688194, 'num_boost_round': 527, 'bagging_fraction': 0.9573993958830406, 'bagging_freq': 92}. Best is trial 231 with value: 0.7646126482213438.\u001b[0m\n",
      "\u001b[32m[I 2021-05-17 22:09:55,825]\u001b[0m Trial 408 finished with value: 0.750573122529644 and parameters: {'boosting_type': 'rf', 'lambda_l1': 6.476346871672553e-09, 'lambda_l2': 4.2398720422463394e-10, 'num_leaves': 332, 'max_depth': 30, 'feature_fraction': 0.857843203368522, 'feature_fraction_bynode': 0.3425833931242088, 'min_child_samples': 2, 'linear_tree': False, 'max_bin': 131, 'extra_trees': True, 'path_smooth': 3.439516557063412e-10, 'learning_rate': 5.775141149214537e-24, 'min_gain_to_split': 3.014704679550032e-16, 'min_sum_hessian_in_leaf': 0.0010625239453202736, 'num_boost_round': 493, 'bagging_fraction': 0.9156573910571926, 'bagging_freq': 85}. Best is trial 231 with value: 0.7646126482213438.\u001b[0m\n",
      "\u001b[32m[I 2021-05-17 22:10:07,888]\u001b[0m Trial 409 finished with value: 0.7346600790513834 and parameters: {'boosting_type': 'rf', 'lambda_l1': 1.871286387012925e-07, 'lambda_l2': 2.254220781276802e-09, 'num_leaves': 349, 'max_depth': 29, 'feature_fraction': 0.908385459050738, 'feature_fraction_bynode': 0.29848594093404274, 'min_child_samples': 2, 'linear_tree': False, 'max_bin': 113, 'extra_trees': True, 'path_smooth': 2.1274202480126773e-08, 'learning_rate': 2.229643573442446e-26, 'min_gain_to_split': 7.183858606749405e-17, 'min_sum_hessian_in_leaf': 0.0001297394604388079, 'num_boost_round': 538, 'bagging_fraction': 0.9997592882475974, 'bagging_freq': 74}. Best is trial 231 with value: 0.7646126482213438.\u001b[0m\n",
      "\u001b[32m[I 2021-05-17 22:10:11,169]\u001b[0m Trial 410 finished with value: 0.71516139657444 and parameters: {'boosting_type': 'rf', 'lambda_l1': 2.5560414458029148e-09, 'lambda_l2': 1.0930823345628923e-10, 'num_leaves': 373, 'max_depth': 31, 'feature_fraction': 0.8779795974191957, 'feature_fraction_bynode': 0.37893122195488227, 'min_child_samples': 10, 'linear_tree': False, 'max_bin': 150, 'extra_trees': True, 'path_smooth': 1.1581252134465406e-09, 'learning_rate': 1.7966740639712322e-24, 'min_gain_to_split': 1.6196162604635445e-17, 'min_sum_hessian_in_leaf': 0.0003464442714552123, 'num_boost_round': 557, 'bagging_fraction': 0.8959846324721243, 'bagging_freq': 76}. Best is trial 231 with value: 0.7646126482213438.\u001b[0m\n",
      "\u001b[32m[I 2021-05-17 22:10:13,614]\u001b[0m Trial 411 finished with value: 0.6991119894598157 and parameters: {'boosting_type': 'rf', 'lambda_l1': 1.2022835261584811e-08, 'lambda_l2': 3.879693358785701e-08, 'num_leaves': 361, 'max_depth': 26, 'feature_fraction': 0.9556108272905008, 'feature_fraction_bynode': 0.254731147185273, 'min_child_samples': 16, 'linear_tree': False, 'max_bin': 124, 'extra_trees': True, 'path_smooth': 3.360344691504203e-09, 'learning_rate': 1.0593511527846662e-21, 'min_gain_to_split': 6.65573437279885e-16, 'min_sum_hessian_in_leaf': 0.07025335039027836, 'num_boost_round': 518, 'bagging_fraction': 0.9798518265146828, 'bagging_freq': 82}. Best is trial 231 with value: 0.7646126482213438.\u001b[0m\n",
      "\u001b[32m[I 2021-05-17 22:10:19,601]\u001b[0m Trial 412 finished with value: 0.749074440052701 and parameters: {'boosting_type': 'rf', 'lambda_l1': 1.1232421624434122e-09, 'lambda_l2': 1.0684428477165646e-09, 'num_leaves': 381, 'max_depth': 27, 'feature_fraction': 0.9233525379713544, 'feature_fraction_bynode': 0.3177651641602187, 'min_child_samples': 5, 'linear_tree': False, 'max_bin': 101, 'extra_trees': True, 'path_smooth': 1.0088017873729946e-08, 'learning_rate': 2.1756154862429648e-23, 'min_gain_to_split': 3.3793753812085485e-10, 'min_sum_hessian_in_leaf': 0.0014915989723029801, 'num_boost_round': 569, 'bagging_fraction': 0.9467591628777741, 'bagging_freq': 78}. Best is trial 231 with value: 0.7646126482213438.\u001b[0m\n"
     ]
    },
    {
     "ename": "KeyboardInterrupt",
     "evalue": "",
     "output_type": "error",
     "traceback": [
      "\u001b[1;31m---------------------------------------------------------------------------\u001b[0m",
      "\u001b[1;31mKeyboardInterrupt\u001b[0m                         Traceback (most recent call last)",
      "\u001b[1;32m<ipython-input-181-8739492612cc>\u001b[0m in \u001b[0;36m<module>\u001b[1;34m\u001b[0m\n\u001b[1;32m----> 1\u001b[1;33m \u001b[0mstudy\u001b[0m\u001b[1;33m.\u001b[0m\u001b[0moptimize\u001b[0m\u001b[1;33m(\u001b[0m\u001b[0mobjective\u001b[0m\u001b[1;33m,\u001b[0m \u001b[0mn_trials\u001b[0m\u001b[1;33m=\u001b[0m\u001b[1;36m1000\u001b[0m\u001b[1;33m)\u001b[0m\u001b[1;33m\u001b[0m\u001b[1;33m\u001b[0m\u001b[0m\n\u001b[0m",
      "\u001b[1;32mc:\\users\\roel\\.virtualenvs\\diagcovid-ckc2berq\\lib\\site-packages\\optuna\\study.py\u001b[0m in \u001b[0;36moptimize\u001b[1;34m(self, func, n_trials, timeout, n_jobs, catch, callbacks, gc_after_trial, show_progress_bar)\u001b[0m\n\u001b[0;32m    407\u001b[0m             \u001b[0mcallbacks\u001b[0m\u001b[1;33m=\u001b[0m\u001b[0mcallbacks\u001b[0m\u001b[1;33m,\u001b[0m\u001b[1;33m\u001b[0m\u001b[1;33m\u001b[0m\u001b[0m\n\u001b[0;32m    408\u001b[0m             \u001b[0mgc_after_trial\u001b[0m\u001b[1;33m=\u001b[0m\u001b[0mgc_after_trial\u001b[0m\u001b[1;33m,\u001b[0m\u001b[1;33m\u001b[0m\u001b[1;33m\u001b[0m\u001b[0m\n\u001b[1;32m--> 409\u001b[1;33m             \u001b[0mshow_progress_bar\u001b[0m\u001b[1;33m=\u001b[0m\u001b[0mshow_progress_bar\u001b[0m\u001b[1;33m,\u001b[0m\u001b[1;33m\u001b[0m\u001b[1;33m\u001b[0m\u001b[0m\n\u001b[0m\u001b[0;32m    410\u001b[0m         )\n\u001b[0;32m    411\u001b[0m \u001b[1;33m\u001b[0m\u001b[0m\n",
      "\u001b[1;32mc:\\users\\roel\\.virtualenvs\\diagcovid-ckc2berq\\lib\\site-packages\\optuna\\_optimize.py\u001b[0m in \u001b[0;36m_optimize\u001b[1;34m(study, func, n_trials, timeout, n_jobs, catch, callbacks, gc_after_trial, show_progress_bar)\u001b[0m\n\u001b[0;32m     74\u001b[0m                 \u001b[0mreseed_sampler_rng\u001b[0m\u001b[1;33m=\u001b[0m\u001b[1;32mFalse\u001b[0m\u001b[1;33m,\u001b[0m\u001b[1;33m\u001b[0m\u001b[1;33m\u001b[0m\u001b[0m\n\u001b[0;32m     75\u001b[0m                 \u001b[0mtime_start\u001b[0m\u001b[1;33m=\u001b[0m\u001b[1;32mNone\u001b[0m\u001b[1;33m,\u001b[0m\u001b[1;33m\u001b[0m\u001b[1;33m\u001b[0m\u001b[0m\n\u001b[1;32m---> 76\u001b[1;33m                 \u001b[0mprogress_bar\u001b[0m\u001b[1;33m=\u001b[0m\u001b[0mprogress_bar\u001b[0m\u001b[1;33m,\u001b[0m\u001b[1;33m\u001b[0m\u001b[1;33m\u001b[0m\u001b[0m\n\u001b[0m\u001b[0;32m     77\u001b[0m             )\n\u001b[0;32m     78\u001b[0m         \u001b[1;32melse\u001b[0m\u001b[1;33m:\u001b[0m\u001b[1;33m\u001b[0m\u001b[1;33m\u001b[0m\u001b[0m\n",
      "\u001b[1;32mc:\\users\\roel\\.virtualenvs\\diagcovid-ckc2berq\\lib\\site-packages\\optuna\\_optimize.py\u001b[0m in \u001b[0;36m_optimize_sequential\u001b[1;34m(study, func, n_trials, timeout, catch, callbacks, gc_after_trial, reseed_sampler_rng, time_start, progress_bar)\u001b[0m\n\u001b[0;32m    161\u001b[0m \u001b[1;33m\u001b[0m\u001b[0m\n\u001b[0;32m    162\u001b[0m         \u001b[1;32mtry\u001b[0m\u001b[1;33m:\u001b[0m\u001b[1;33m\u001b[0m\u001b[1;33m\u001b[0m\u001b[0m\n\u001b[1;32m--> 163\u001b[1;33m             \u001b[0mtrial\u001b[0m \u001b[1;33m=\u001b[0m \u001b[0m_run_trial\u001b[0m\u001b[1;33m(\u001b[0m\u001b[0mstudy\u001b[0m\u001b[1;33m,\u001b[0m \u001b[0mfunc\u001b[0m\u001b[1;33m,\u001b[0m \u001b[0mcatch\u001b[0m\u001b[1;33m)\u001b[0m\u001b[1;33m\u001b[0m\u001b[1;33m\u001b[0m\u001b[0m\n\u001b[0m\u001b[0;32m    164\u001b[0m         \u001b[1;32mexcept\u001b[0m \u001b[0mException\u001b[0m\u001b[1;33m:\u001b[0m\u001b[1;33m\u001b[0m\u001b[1;33m\u001b[0m\u001b[0m\n\u001b[0;32m    165\u001b[0m             \u001b[1;32mraise\u001b[0m\u001b[1;33m\u001b[0m\u001b[1;33m\u001b[0m\u001b[0m\n",
      "\u001b[1;32mc:\\users\\roel\\.virtualenvs\\diagcovid-ckc2berq\\lib\\site-packages\\optuna\\_optimize.py\u001b[0m in \u001b[0;36m_run_trial\u001b[1;34m(study, func, catch)\u001b[0m\n\u001b[0;32m    215\u001b[0m \u001b[1;33m\u001b[0m\u001b[0m\n\u001b[0;32m    216\u001b[0m     \u001b[1;32mtry\u001b[0m\u001b[1;33m:\u001b[0m\u001b[1;33m\u001b[0m\u001b[1;33m\u001b[0m\u001b[0m\n\u001b[1;32m--> 217\u001b[1;33m         \u001b[0mvalue_or_values\u001b[0m \u001b[1;33m=\u001b[0m \u001b[0mfunc\u001b[0m\u001b[1;33m(\u001b[0m\u001b[0mtrial\u001b[0m\u001b[1;33m)\u001b[0m\u001b[1;33m\u001b[0m\u001b[1;33m\u001b[0m\u001b[0m\n\u001b[0m\u001b[0;32m    218\u001b[0m     \u001b[1;32mexcept\u001b[0m \u001b[0mexceptions\u001b[0m\u001b[1;33m.\u001b[0m\u001b[0mTrialPruned\u001b[0m \u001b[1;32mas\u001b[0m \u001b[0me\u001b[0m\u001b[1;33m:\u001b[0m\u001b[1;33m\u001b[0m\u001b[1;33m\u001b[0m\u001b[0m\n\u001b[0;32m    219\u001b[0m         \u001b[1;31m# TODO(mamu): Handle multi-objective cases.\u001b[0m\u001b[1;33m\u001b[0m\u001b[1;33m\u001b[0m\u001b[1;33m\u001b[0m\u001b[0m\n",
      "\u001b[1;32m<ipython-input-99-996256e4a98f>\u001b[0m in \u001b[0;36mobjective\u001b[1;34m(trial)\u001b[0m\n\u001b[0;32m     59\u001b[0m     \u001b[1;32mwith\u001b[0m \u001b[0mwarnings\u001b[0m\u001b[1;33m.\u001b[0m\u001b[0mcatch_warnings\u001b[0m\u001b[1;33m(\u001b[0m\u001b[1;33m)\u001b[0m\u001b[1;33m:\u001b[0m\u001b[1;33m\u001b[0m\u001b[1;33m\u001b[0m\u001b[0m\n\u001b[0;32m     60\u001b[0m         \u001b[0mwarnings\u001b[0m\u001b[1;33m.\u001b[0m\u001b[0mfilterwarnings\u001b[0m\u001b[1;33m(\u001b[0m\u001b[1;34m'ignore'\u001b[0m\u001b[1;33m)\u001b[0m\u001b[1;33m\u001b[0m\u001b[1;33m\u001b[0m\u001b[0m\n\u001b[1;32m---> 61\u001b[1;33m         \u001b[1;32mreturn\u001b[0m \u001b[0mcross_val_score\u001b[0m\u001b[1;33m(\u001b[0m\u001b[0mclf\u001b[0m\u001b[1;33m,\u001b[0m \u001b[1;33m(\u001b[0m\u001b[0mX_train\u001b[0m\u001b[1;33m)\u001b[0m\u001b[1;33m,\u001b[0m \u001b[0my_train\u001b[0m\u001b[1;33m,\u001b[0m \u001b[0mcv\u001b[0m\u001b[1;33m=\u001b[0m\u001b[0mRepeatedStratifiedKFold\u001b[0m\u001b[1;33m(\u001b[0m\u001b[0mn_repeats\u001b[0m\u001b[1;33m=\u001b[0m\u001b[1;36m5\u001b[0m\u001b[1;33m)\u001b[0m\u001b[1;33m,\u001b[0m \u001b[0mscoring\u001b[0m\u001b[1;33m=\u001b[0m\u001b[1;34m'roc_auc'\u001b[0m\u001b[1;33m)\u001b[0m\u001b[1;33m.\u001b[0m\u001b[0mmean\u001b[0m\u001b[1;33m(\u001b[0m\u001b[1;33m)\u001b[0m\u001b[1;33m\u001b[0m\u001b[1;33m\u001b[0m\u001b[0m\n\u001b[0m\u001b[0;32m     62\u001b[0m \u001b[1;31m#     aucs = []\u001b[0m\u001b[1;33m\u001b[0m\u001b[1;33m\u001b[0m\u001b[1;33m\u001b[0m\u001b[0m\n\u001b[0;32m     63\u001b[0m \u001b[1;31m#     for i in range(5):\u001b[0m\u001b[1;33m\u001b[0m\u001b[1;33m\u001b[0m\u001b[1;33m\u001b[0m\u001b[0m\n",
      "\u001b[1;32mc:\\users\\roel\\.virtualenvs\\diagcovid-ckc2berq\\lib\\site-packages\\sklearn\\utils\\validation.py\u001b[0m in \u001b[0;36minner_f\u001b[1;34m(*args, **kwargs)\u001b[0m\n\u001b[0;32m     61\u001b[0m             \u001b[0mextra_args\u001b[0m \u001b[1;33m=\u001b[0m \u001b[0mlen\u001b[0m\u001b[1;33m(\u001b[0m\u001b[0margs\u001b[0m\u001b[1;33m)\u001b[0m \u001b[1;33m-\u001b[0m \u001b[0mlen\u001b[0m\u001b[1;33m(\u001b[0m\u001b[0mall_args\u001b[0m\u001b[1;33m)\u001b[0m\u001b[1;33m\u001b[0m\u001b[1;33m\u001b[0m\u001b[0m\n\u001b[0;32m     62\u001b[0m             \u001b[1;32mif\u001b[0m \u001b[0mextra_args\u001b[0m \u001b[1;33m<=\u001b[0m \u001b[1;36m0\u001b[0m\u001b[1;33m:\u001b[0m\u001b[1;33m\u001b[0m\u001b[1;33m\u001b[0m\u001b[0m\n\u001b[1;32m---> 63\u001b[1;33m                 \u001b[1;32mreturn\u001b[0m \u001b[0mf\u001b[0m\u001b[1;33m(\u001b[0m\u001b[1;33m*\u001b[0m\u001b[0margs\u001b[0m\u001b[1;33m,\u001b[0m \u001b[1;33m**\u001b[0m\u001b[0mkwargs\u001b[0m\u001b[1;33m)\u001b[0m\u001b[1;33m\u001b[0m\u001b[1;33m\u001b[0m\u001b[0m\n\u001b[0m\u001b[0;32m     64\u001b[0m \u001b[1;33m\u001b[0m\u001b[0m\n\u001b[0;32m     65\u001b[0m             \u001b[1;31m# extra_args > 0\u001b[0m\u001b[1;33m\u001b[0m\u001b[1;33m\u001b[0m\u001b[1;33m\u001b[0m\u001b[0m\n",
      "\u001b[1;32mc:\\users\\roel\\.virtualenvs\\diagcovid-ckc2berq\\lib\\site-packages\\sklearn\\model_selection\\_validation.py\u001b[0m in \u001b[0;36mcross_val_score\u001b[1;34m(estimator, X, y, groups, scoring, cv, n_jobs, verbose, fit_params, pre_dispatch, error_score)\u001b[0m\n\u001b[0;32m    443\u001b[0m                                 \u001b[0mfit_params\u001b[0m\u001b[1;33m=\u001b[0m\u001b[0mfit_params\u001b[0m\u001b[1;33m,\u001b[0m\u001b[1;33m\u001b[0m\u001b[1;33m\u001b[0m\u001b[0m\n\u001b[0;32m    444\u001b[0m                                 \u001b[0mpre_dispatch\u001b[0m\u001b[1;33m=\u001b[0m\u001b[0mpre_dispatch\u001b[0m\u001b[1;33m,\u001b[0m\u001b[1;33m\u001b[0m\u001b[1;33m\u001b[0m\u001b[0m\n\u001b[1;32m--> 445\u001b[1;33m                                 error_score=error_score)\n\u001b[0m\u001b[0;32m    446\u001b[0m     \u001b[1;32mreturn\u001b[0m \u001b[0mcv_results\u001b[0m\u001b[1;33m[\u001b[0m\u001b[1;34m'test_score'\u001b[0m\u001b[1;33m]\u001b[0m\u001b[1;33m\u001b[0m\u001b[1;33m\u001b[0m\u001b[0m\n\u001b[0;32m    447\u001b[0m \u001b[1;33m\u001b[0m\u001b[0m\n",
      "\u001b[1;32mc:\\users\\roel\\.virtualenvs\\diagcovid-ckc2berq\\lib\\site-packages\\sklearn\\utils\\validation.py\u001b[0m in \u001b[0;36minner_f\u001b[1;34m(*args, **kwargs)\u001b[0m\n\u001b[0;32m     61\u001b[0m             \u001b[0mextra_args\u001b[0m \u001b[1;33m=\u001b[0m \u001b[0mlen\u001b[0m\u001b[1;33m(\u001b[0m\u001b[0margs\u001b[0m\u001b[1;33m)\u001b[0m \u001b[1;33m-\u001b[0m \u001b[0mlen\u001b[0m\u001b[1;33m(\u001b[0m\u001b[0mall_args\u001b[0m\u001b[1;33m)\u001b[0m\u001b[1;33m\u001b[0m\u001b[1;33m\u001b[0m\u001b[0m\n\u001b[0;32m     62\u001b[0m             \u001b[1;32mif\u001b[0m \u001b[0mextra_args\u001b[0m \u001b[1;33m<=\u001b[0m \u001b[1;36m0\u001b[0m\u001b[1;33m:\u001b[0m\u001b[1;33m\u001b[0m\u001b[1;33m\u001b[0m\u001b[0m\n\u001b[1;32m---> 63\u001b[1;33m                 \u001b[1;32mreturn\u001b[0m \u001b[0mf\u001b[0m\u001b[1;33m(\u001b[0m\u001b[1;33m*\u001b[0m\u001b[0margs\u001b[0m\u001b[1;33m,\u001b[0m \u001b[1;33m**\u001b[0m\u001b[0mkwargs\u001b[0m\u001b[1;33m)\u001b[0m\u001b[1;33m\u001b[0m\u001b[1;33m\u001b[0m\u001b[0m\n\u001b[0m\u001b[0;32m     64\u001b[0m \u001b[1;33m\u001b[0m\u001b[0m\n\u001b[0;32m     65\u001b[0m             \u001b[1;31m# extra_args > 0\u001b[0m\u001b[1;33m\u001b[0m\u001b[1;33m\u001b[0m\u001b[1;33m\u001b[0m\u001b[0m\n",
      "\u001b[1;32mc:\\users\\roel\\.virtualenvs\\diagcovid-ckc2berq\\lib\\site-packages\\sklearn\\model_selection\\_validation.py\u001b[0m in \u001b[0;36mcross_validate\u001b[1;34m(estimator, X, y, groups, scoring, cv, n_jobs, verbose, fit_params, pre_dispatch, return_train_score, return_estimator, error_score)\u001b[0m\n\u001b[0;32m    250\u001b[0m             \u001b[0mreturn_times\u001b[0m\u001b[1;33m=\u001b[0m\u001b[1;32mTrue\u001b[0m\u001b[1;33m,\u001b[0m \u001b[0mreturn_estimator\u001b[0m\u001b[1;33m=\u001b[0m\u001b[0mreturn_estimator\u001b[0m\u001b[1;33m,\u001b[0m\u001b[1;33m\u001b[0m\u001b[1;33m\u001b[0m\u001b[0m\n\u001b[0;32m    251\u001b[0m             error_score=error_score)\n\u001b[1;32m--> 252\u001b[1;33m         for train, test in cv.split(X, y, groups))\n\u001b[0m\u001b[0;32m    253\u001b[0m \u001b[1;33m\u001b[0m\u001b[0m\n\u001b[0;32m    254\u001b[0m     \u001b[1;31m# For callabe scoring, the return type is only know after calling. If the\u001b[0m\u001b[1;33m\u001b[0m\u001b[1;33m\u001b[0m\u001b[1;33m\u001b[0m\u001b[0m\n",
      "\u001b[1;32mc:\\users\\roel\\.virtualenvs\\diagcovid-ckc2berq\\lib\\site-packages\\joblib\\parallel.py\u001b[0m in \u001b[0;36m__call__\u001b[1;34m(self, iterable)\u001b[0m\n\u001b[0;32m   1042\u001b[0m                 \u001b[0mself\u001b[0m\u001b[1;33m.\u001b[0m\u001b[0m_iterating\u001b[0m \u001b[1;33m=\u001b[0m \u001b[0mself\u001b[0m\u001b[1;33m.\u001b[0m\u001b[0m_original_iterator\u001b[0m \u001b[1;32mis\u001b[0m \u001b[1;32mnot\u001b[0m \u001b[1;32mNone\u001b[0m\u001b[1;33m\u001b[0m\u001b[1;33m\u001b[0m\u001b[0m\n\u001b[0;32m   1043\u001b[0m \u001b[1;33m\u001b[0m\u001b[0m\n\u001b[1;32m-> 1044\u001b[1;33m             \u001b[1;32mwhile\u001b[0m \u001b[0mself\u001b[0m\u001b[1;33m.\u001b[0m\u001b[0mdispatch_one_batch\u001b[0m\u001b[1;33m(\u001b[0m\u001b[0miterator\u001b[0m\u001b[1;33m)\u001b[0m\u001b[1;33m:\u001b[0m\u001b[1;33m\u001b[0m\u001b[1;33m\u001b[0m\u001b[0m\n\u001b[0m\u001b[0;32m   1045\u001b[0m                 \u001b[1;32mpass\u001b[0m\u001b[1;33m\u001b[0m\u001b[1;33m\u001b[0m\u001b[0m\n\u001b[0;32m   1046\u001b[0m \u001b[1;33m\u001b[0m\u001b[0m\n",
      "\u001b[1;32mc:\\users\\roel\\.virtualenvs\\diagcovid-ckc2berq\\lib\\site-packages\\joblib\\parallel.py\u001b[0m in \u001b[0;36mdispatch_one_batch\u001b[1;34m(self, iterator)\u001b[0m\n\u001b[0;32m    857\u001b[0m                 \u001b[1;32mreturn\u001b[0m \u001b[1;32mFalse\u001b[0m\u001b[1;33m\u001b[0m\u001b[1;33m\u001b[0m\u001b[0m\n\u001b[0;32m    858\u001b[0m             \u001b[1;32melse\u001b[0m\u001b[1;33m:\u001b[0m\u001b[1;33m\u001b[0m\u001b[1;33m\u001b[0m\u001b[0m\n\u001b[1;32m--> 859\u001b[1;33m                 \u001b[0mself\u001b[0m\u001b[1;33m.\u001b[0m\u001b[0m_dispatch\u001b[0m\u001b[1;33m(\u001b[0m\u001b[0mtasks\u001b[0m\u001b[1;33m)\u001b[0m\u001b[1;33m\u001b[0m\u001b[1;33m\u001b[0m\u001b[0m\n\u001b[0m\u001b[0;32m    860\u001b[0m                 \u001b[1;32mreturn\u001b[0m \u001b[1;32mTrue\u001b[0m\u001b[1;33m\u001b[0m\u001b[1;33m\u001b[0m\u001b[0m\n\u001b[0;32m    861\u001b[0m \u001b[1;33m\u001b[0m\u001b[0m\n",
      "\u001b[1;32mc:\\users\\roel\\.virtualenvs\\diagcovid-ckc2berq\\lib\\site-packages\\joblib\\parallel.py\u001b[0m in \u001b[0;36m_dispatch\u001b[1;34m(self, batch)\u001b[0m\n\u001b[0;32m    775\u001b[0m         \u001b[1;32mwith\u001b[0m \u001b[0mself\u001b[0m\u001b[1;33m.\u001b[0m\u001b[0m_lock\u001b[0m\u001b[1;33m:\u001b[0m\u001b[1;33m\u001b[0m\u001b[1;33m\u001b[0m\u001b[0m\n\u001b[0;32m    776\u001b[0m             \u001b[0mjob_idx\u001b[0m \u001b[1;33m=\u001b[0m \u001b[0mlen\u001b[0m\u001b[1;33m(\u001b[0m\u001b[0mself\u001b[0m\u001b[1;33m.\u001b[0m\u001b[0m_jobs\u001b[0m\u001b[1;33m)\u001b[0m\u001b[1;33m\u001b[0m\u001b[1;33m\u001b[0m\u001b[0m\n\u001b[1;32m--> 777\u001b[1;33m             \u001b[0mjob\u001b[0m \u001b[1;33m=\u001b[0m \u001b[0mself\u001b[0m\u001b[1;33m.\u001b[0m\u001b[0m_backend\u001b[0m\u001b[1;33m.\u001b[0m\u001b[0mapply_async\u001b[0m\u001b[1;33m(\u001b[0m\u001b[0mbatch\u001b[0m\u001b[1;33m,\u001b[0m \u001b[0mcallback\u001b[0m\u001b[1;33m=\u001b[0m\u001b[0mcb\u001b[0m\u001b[1;33m)\u001b[0m\u001b[1;33m\u001b[0m\u001b[1;33m\u001b[0m\u001b[0m\n\u001b[0m\u001b[0;32m    778\u001b[0m             \u001b[1;31m# A job can complete so quickly than its callback is\u001b[0m\u001b[1;33m\u001b[0m\u001b[1;33m\u001b[0m\u001b[1;33m\u001b[0m\u001b[0m\n\u001b[0;32m    779\u001b[0m             \u001b[1;31m# called before we get here, causing self._jobs to\u001b[0m\u001b[1;33m\u001b[0m\u001b[1;33m\u001b[0m\u001b[1;33m\u001b[0m\u001b[0m\n",
      "\u001b[1;32mc:\\users\\roel\\.virtualenvs\\diagcovid-ckc2berq\\lib\\site-packages\\joblib\\_parallel_backends.py\u001b[0m in \u001b[0;36mapply_async\u001b[1;34m(self, func, callback)\u001b[0m\n\u001b[0;32m    206\u001b[0m     \u001b[1;32mdef\u001b[0m \u001b[0mapply_async\u001b[0m\u001b[1;33m(\u001b[0m\u001b[0mself\u001b[0m\u001b[1;33m,\u001b[0m \u001b[0mfunc\u001b[0m\u001b[1;33m,\u001b[0m \u001b[0mcallback\u001b[0m\u001b[1;33m=\u001b[0m\u001b[1;32mNone\u001b[0m\u001b[1;33m)\u001b[0m\u001b[1;33m:\u001b[0m\u001b[1;33m\u001b[0m\u001b[1;33m\u001b[0m\u001b[0m\n\u001b[0;32m    207\u001b[0m         \u001b[1;34m\"\"\"Schedule a func to be run\"\"\"\u001b[0m\u001b[1;33m\u001b[0m\u001b[1;33m\u001b[0m\u001b[0m\n\u001b[1;32m--> 208\u001b[1;33m         \u001b[0mresult\u001b[0m \u001b[1;33m=\u001b[0m \u001b[0mImmediateResult\u001b[0m\u001b[1;33m(\u001b[0m\u001b[0mfunc\u001b[0m\u001b[1;33m)\u001b[0m\u001b[1;33m\u001b[0m\u001b[1;33m\u001b[0m\u001b[0m\n\u001b[0m\u001b[0;32m    209\u001b[0m         \u001b[1;32mif\u001b[0m \u001b[0mcallback\u001b[0m\u001b[1;33m:\u001b[0m\u001b[1;33m\u001b[0m\u001b[1;33m\u001b[0m\u001b[0m\n\u001b[0;32m    210\u001b[0m             \u001b[0mcallback\u001b[0m\u001b[1;33m(\u001b[0m\u001b[0mresult\u001b[0m\u001b[1;33m)\u001b[0m\u001b[1;33m\u001b[0m\u001b[1;33m\u001b[0m\u001b[0m\n",
      "\u001b[1;32mc:\\users\\roel\\.virtualenvs\\diagcovid-ckc2berq\\lib\\site-packages\\joblib\\_parallel_backends.py\u001b[0m in \u001b[0;36m__init__\u001b[1;34m(self, batch)\u001b[0m\n\u001b[0;32m    570\u001b[0m         \u001b[1;31m# Don't delay the application, to avoid keeping the input\u001b[0m\u001b[1;33m\u001b[0m\u001b[1;33m\u001b[0m\u001b[1;33m\u001b[0m\u001b[0m\n\u001b[0;32m    571\u001b[0m         \u001b[1;31m# arguments in memory\u001b[0m\u001b[1;33m\u001b[0m\u001b[1;33m\u001b[0m\u001b[1;33m\u001b[0m\u001b[0m\n\u001b[1;32m--> 572\u001b[1;33m         \u001b[0mself\u001b[0m\u001b[1;33m.\u001b[0m\u001b[0mresults\u001b[0m \u001b[1;33m=\u001b[0m \u001b[0mbatch\u001b[0m\u001b[1;33m(\u001b[0m\u001b[1;33m)\u001b[0m\u001b[1;33m\u001b[0m\u001b[1;33m\u001b[0m\u001b[0m\n\u001b[0m\u001b[0;32m    573\u001b[0m \u001b[1;33m\u001b[0m\u001b[0m\n\u001b[0;32m    574\u001b[0m     \u001b[1;32mdef\u001b[0m \u001b[0mget\u001b[0m\u001b[1;33m(\u001b[0m\u001b[0mself\u001b[0m\u001b[1;33m)\u001b[0m\u001b[1;33m:\u001b[0m\u001b[1;33m\u001b[0m\u001b[1;33m\u001b[0m\u001b[0m\n",
      "\u001b[1;32mc:\\users\\roel\\.virtualenvs\\diagcovid-ckc2berq\\lib\\site-packages\\joblib\\parallel.py\u001b[0m in \u001b[0;36m__call__\u001b[1;34m(self)\u001b[0m\n\u001b[0;32m    261\u001b[0m         \u001b[1;32mwith\u001b[0m \u001b[0mparallel_backend\u001b[0m\u001b[1;33m(\u001b[0m\u001b[0mself\u001b[0m\u001b[1;33m.\u001b[0m\u001b[0m_backend\u001b[0m\u001b[1;33m,\u001b[0m \u001b[0mn_jobs\u001b[0m\u001b[1;33m=\u001b[0m\u001b[0mself\u001b[0m\u001b[1;33m.\u001b[0m\u001b[0m_n_jobs\u001b[0m\u001b[1;33m)\u001b[0m\u001b[1;33m:\u001b[0m\u001b[1;33m\u001b[0m\u001b[1;33m\u001b[0m\u001b[0m\n\u001b[0;32m    262\u001b[0m             return [func(*args, **kwargs)\n\u001b[1;32m--> 263\u001b[1;33m                     for func, args, kwargs in self.items]\n\u001b[0m\u001b[0;32m    264\u001b[0m \u001b[1;33m\u001b[0m\u001b[0m\n\u001b[0;32m    265\u001b[0m     \u001b[1;32mdef\u001b[0m \u001b[0m__reduce__\u001b[0m\u001b[1;33m(\u001b[0m\u001b[0mself\u001b[0m\u001b[1;33m)\u001b[0m\u001b[1;33m:\u001b[0m\u001b[1;33m\u001b[0m\u001b[1;33m\u001b[0m\u001b[0m\n",
      "\u001b[1;32mc:\\users\\roel\\.virtualenvs\\diagcovid-ckc2berq\\lib\\site-packages\\joblib\\parallel.py\u001b[0m in \u001b[0;36m<listcomp>\u001b[1;34m(.0)\u001b[0m\n\u001b[0;32m    261\u001b[0m         \u001b[1;32mwith\u001b[0m \u001b[0mparallel_backend\u001b[0m\u001b[1;33m(\u001b[0m\u001b[0mself\u001b[0m\u001b[1;33m.\u001b[0m\u001b[0m_backend\u001b[0m\u001b[1;33m,\u001b[0m \u001b[0mn_jobs\u001b[0m\u001b[1;33m=\u001b[0m\u001b[0mself\u001b[0m\u001b[1;33m.\u001b[0m\u001b[0m_n_jobs\u001b[0m\u001b[1;33m)\u001b[0m\u001b[1;33m:\u001b[0m\u001b[1;33m\u001b[0m\u001b[1;33m\u001b[0m\u001b[0m\n\u001b[0;32m    262\u001b[0m             return [func(*args, **kwargs)\n\u001b[1;32m--> 263\u001b[1;33m                     for func, args, kwargs in self.items]\n\u001b[0m\u001b[0;32m    264\u001b[0m \u001b[1;33m\u001b[0m\u001b[0m\n\u001b[0;32m    265\u001b[0m     \u001b[1;32mdef\u001b[0m \u001b[0m__reduce__\u001b[0m\u001b[1;33m(\u001b[0m\u001b[0mself\u001b[0m\u001b[1;33m)\u001b[0m\u001b[1;33m:\u001b[0m\u001b[1;33m\u001b[0m\u001b[1;33m\u001b[0m\u001b[0m\n",
      "\u001b[1;32mc:\\users\\roel\\.virtualenvs\\diagcovid-ckc2berq\\lib\\site-packages\\sklearn\\utils\\fixes.py\u001b[0m in \u001b[0;36m__call__\u001b[1;34m(self, *args, **kwargs)\u001b[0m\n\u001b[0;32m    220\u001b[0m     \u001b[1;32mdef\u001b[0m \u001b[0m__call__\u001b[0m\u001b[1;33m(\u001b[0m\u001b[0mself\u001b[0m\u001b[1;33m,\u001b[0m \u001b[1;33m*\u001b[0m\u001b[0margs\u001b[0m\u001b[1;33m,\u001b[0m \u001b[1;33m**\u001b[0m\u001b[0mkwargs\u001b[0m\u001b[1;33m)\u001b[0m\u001b[1;33m:\u001b[0m\u001b[1;33m\u001b[0m\u001b[1;33m\u001b[0m\u001b[0m\n\u001b[0;32m    221\u001b[0m         \u001b[1;32mwith\u001b[0m \u001b[0mconfig_context\u001b[0m\u001b[1;33m(\u001b[0m\u001b[1;33m**\u001b[0m\u001b[0mself\u001b[0m\u001b[1;33m.\u001b[0m\u001b[0mconfig\u001b[0m\u001b[1;33m)\u001b[0m\u001b[1;33m:\u001b[0m\u001b[1;33m\u001b[0m\u001b[1;33m\u001b[0m\u001b[0m\n\u001b[1;32m--> 222\u001b[1;33m             \u001b[1;32mreturn\u001b[0m \u001b[0mself\u001b[0m\u001b[1;33m.\u001b[0m\u001b[0mfunction\u001b[0m\u001b[1;33m(\u001b[0m\u001b[1;33m*\u001b[0m\u001b[0margs\u001b[0m\u001b[1;33m,\u001b[0m \u001b[1;33m**\u001b[0m\u001b[0mkwargs\u001b[0m\u001b[1;33m)\u001b[0m\u001b[1;33m\u001b[0m\u001b[1;33m\u001b[0m\u001b[0m\n\u001b[0m",
      "\u001b[1;32mc:\\users\\roel\\.virtualenvs\\diagcovid-ckc2berq\\lib\\site-packages\\sklearn\\model_selection\\_validation.py\u001b[0m in \u001b[0;36m_fit_and_score\u001b[1;34m(estimator, X, y, scorer, train, test, verbose, parameters, fit_params, return_train_score, return_parameters, return_n_test_samples, return_times, return_estimator, split_progress, candidate_progress, error_score)\u001b[0m\n\u001b[0;32m    591\u001b[0m             \u001b[0mestimator\u001b[0m\u001b[1;33m.\u001b[0m\u001b[0mfit\u001b[0m\u001b[1;33m(\u001b[0m\u001b[0mX_train\u001b[0m\u001b[1;33m,\u001b[0m \u001b[1;33m**\u001b[0m\u001b[0mfit_params\u001b[0m\u001b[1;33m)\u001b[0m\u001b[1;33m\u001b[0m\u001b[1;33m\u001b[0m\u001b[0m\n\u001b[0;32m    592\u001b[0m         \u001b[1;32melse\u001b[0m\u001b[1;33m:\u001b[0m\u001b[1;33m\u001b[0m\u001b[1;33m\u001b[0m\u001b[0m\n\u001b[1;32m--> 593\u001b[1;33m             \u001b[0mestimator\u001b[0m\u001b[1;33m.\u001b[0m\u001b[0mfit\u001b[0m\u001b[1;33m(\u001b[0m\u001b[0mX_train\u001b[0m\u001b[1;33m,\u001b[0m \u001b[0my_train\u001b[0m\u001b[1;33m,\u001b[0m \u001b[1;33m**\u001b[0m\u001b[0mfit_params\u001b[0m\u001b[1;33m)\u001b[0m\u001b[1;33m\u001b[0m\u001b[1;33m\u001b[0m\u001b[0m\n\u001b[0m\u001b[0;32m    594\u001b[0m \u001b[1;33m\u001b[0m\u001b[0m\n\u001b[0;32m    595\u001b[0m     \u001b[1;32mexcept\u001b[0m \u001b[0mException\u001b[0m \u001b[1;32mas\u001b[0m \u001b[0me\u001b[0m\u001b[1;33m:\u001b[0m\u001b[1;33m\u001b[0m\u001b[1;33m\u001b[0m\u001b[0m\n",
      "\u001b[1;32mc:\\users\\roel\\.virtualenvs\\diagcovid-ckc2berq\\lib\\site-packages\\lightgbm\\sklearn.py\u001b[0m in \u001b[0;36mfit\u001b[1;34m(self, X, y, sample_weight, init_score, eval_set, eval_names, eval_sample_weight, eval_class_weight, eval_init_score, eval_metric, early_stopping_rounds, verbose, feature_name, categorical_feature, callbacks, init_model)\u001b[0m\n\u001b[0;32m    893\u001b[0m                     \u001b[0meval_metric\u001b[0m\u001b[1;33m=\u001b[0m\u001b[0meval_metric\u001b[0m\u001b[1;33m,\u001b[0m \u001b[0mearly_stopping_rounds\u001b[0m\u001b[1;33m=\u001b[0m\u001b[0mearly_stopping_rounds\u001b[0m\u001b[1;33m,\u001b[0m\u001b[1;33m\u001b[0m\u001b[1;33m\u001b[0m\u001b[0m\n\u001b[0;32m    894\u001b[0m                     \u001b[0mverbose\u001b[0m\u001b[1;33m=\u001b[0m\u001b[0mverbose\u001b[0m\u001b[1;33m,\u001b[0m \u001b[0mfeature_name\u001b[0m\u001b[1;33m=\u001b[0m\u001b[0mfeature_name\u001b[0m\u001b[1;33m,\u001b[0m \u001b[0mcategorical_feature\u001b[0m\u001b[1;33m=\u001b[0m\u001b[0mcategorical_feature\u001b[0m\u001b[1;33m,\u001b[0m\u001b[1;33m\u001b[0m\u001b[1;33m\u001b[0m\u001b[0m\n\u001b[1;32m--> 895\u001b[1;33m                     callbacks=callbacks, init_model=init_model)\n\u001b[0m\u001b[0;32m    896\u001b[0m         \u001b[1;32mreturn\u001b[0m \u001b[0mself\u001b[0m\u001b[1;33m\u001b[0m\u001b[1;33m\u001b[0m\u001b[0m\n\u001b[0;32m    897\u001b[0m \u001b[1;33m\u001b[0m\u001b[0m\n",
      "\u001b[1;32mc:\\users\\roel\\.virtualenvs\\diagcovid-ckc2berq\\lib\\site-packages\\lightgbm\\sklearn.py\u001b[0m in \u001b[0;36mfit\u001b[1;34m(self, X, y, sample_weight, init_score, group, eval_set, eval_names, eval_sample_weight, eval_class_weight, eval_init_score, eval_group, eval_metric, early_stopping_rounds, verbose, feature_name, categorical_feature, callbacks, init_model)\u001b[0m\n\u001b[0;32m    686\u001b[0m                               \u001b[0mevals_result\u001b[0m\u001b[1;33m=\u001b[0m\u001b[0mevals_result\u001b[0m\u001b[1;33m,\u001b[0m \u001b[0mfobj\u001b[0m\u001b[1;33m=\u001b[0m\u001b[0mself\u001b[0m\u001b[1;33m.\u001b[0m\u001b[0m_fobj\u001b[0m\u001b[1;33m,\u001b[0m \u001b[0mfeval\u001b[0m\u001b[1;33m=\u001b[0m\u001b[0meval_metrics_callable\u001b[0m\u001b[1;33m,\u001b[0m\u001b[1;33m\u001b[0m\u001b[1;33m\u001b[0m\u001b[0m\n\u001b[0;32m    687\u001b[0m                               \u001b[0mverbose_eval\u001b[0m\u001b[1;33m=\u001b[0m\u001b[0mverbose\u001b[0m\u001b[1;33m,\u001b[0m \u001b[0mfeature_name\u001b[0m\u001b[1;33m=\u001b[0m\u001b[0mfeature_name\u001b[0m\u001b[1;33m,\u001b[0m\u001b[1;33m\u001b[0m\u001b[1;33m\u001b[0m\u001b[0m\n\u001b[1;32m--> 688\u001b[1;33m                               callbacks=callbacks, init_model=init_model)\n\u001b[0m\u001b[0;32m    689\u001b[0m \u001b[1;33m\u001b[0m\u001b[0m\n\u001b[0;32m    690\u001b[0m         \u001b[1;32mif\u001b[0m \u001b[0mevals_result\u001b[0m\u001b[1;33m:\u001b[0m\u001b[1;33m\u001b[0m\u001b[1;33m\u001b[0m\u001b[0m\n",
      "\u001b[1;32mc:\\users\\roel\\.virtualenvs\\diagcovid-ckc2berq\\lib\\site-packages\\lightgbm\\engine.py\u001b[0m in \u001b[0;36mtrain\u001b[1;34m(params, train_set, num_boost_round, valid_sets, valid_names, fobj, feval, init_model, feature_name, categorical_feature, early_stopping_rounds, evals_result, verbose_eval, learning_rates, keep_training_booster, callbacks)\u001b[0m\n\u001b[0;32m    247\u001b[0m                                     evaluation_result_list=None))\n\u001b[0;32m    248\u001b[0m \u001b[1;33m\u001b[0m\u001b[0m\n\u001b[1;32m--> 249\u001b[1;33m         \u001b[0mbooster\u001b[0m\u001b[1;33m.\u001b[0m\u001b[0mupdate\u001b[0m\u001b[1;33m(\u001b[0m\u001b[0mfobj\u001b[0m\u001b[1;33m=\u001b[0m\u001b[0mfobj\u001b[0m\u001b[1;33m)\u001b[0m\u001b[1;33m\u001b[0m\u001b[1;33m\u001b[0m\u001b[0m\n\u001b[0m\u001b[0;32m    250\u001b[0m \u001b[1;33m\u001b[0m\u001b[0m\n\u001b[0;32m    251\u001b[0m         \u001b[0mevaluation_result_list\u001b[0m \u001b[1;33m=\u001b[0m \u001b[1;33m[\u001b[0m\u001b[1;33m]\u001b[0m\u001b[1;33m\u001b[0m\u001b[1;33m\u001b[0m\u001b[0m\n",
      "\u001b[1;32mc:\\users\\roel\\.virtualenvs\\diagcovid-ckc2berq\\lib\\site-packages\\lightgbm\\basic.py\u001b[0m in \u001b[0;36mupdate\u001b[1;34m(self, train_set, fobj)\u001b[0m\n\u001b[0;32m   2643\u001b[0m             _safe_call(_LIB.LGBM_BoosterUpdateOneIter(\n\u001b[0;32m   2644\u001b[0m                 \u001b[0mself\u001b[0m\u001b[1;33m.\u001b[0m\u001b[0mhandle\u001b[0m\u001b[1;33m,\u001b[0m\u001b[1;33m\u001b[0m\u001b[1;33m\u001b[0m\u001b[0m\n\u001b[1;32m-> 2645\u001b[1;33m                 ctypes.byref(is_finished)))\n\u001b[0m\u001b[0;32m   2646\u001b[0m             \u001b[0mself\u001b[0m\u001b[1;33m.\u001b[0m\u001b[0m__is_predicted_cur_iter\u001b[0m \u001b[1;33m=\u001b[0m \u001b[1;33m[\u001b[0m\u001b[1;32mFalse\u001b[0m \u001b[1;32mfor\u001b[0m \u001b[0m_\u001b[0m \u001b[1;32min\u001b[0m \u001b[0mrange\u001b[0m\u001b[1;33m(\u001b[0m\u001b[0mself\u001b[0m\u001b[1;33m.\u001b[0m\u001b[0m__num_dataset\u001b[0m\u001b[1;33m)\u001b[0m\u001b[1;33m]\u001b[0m\u001b[1;33m\u001b[0m\u001b[1;33m\u001b[0m\u001b[0m\n\u001b[0;32m   2647\u001b[0m             \u001b[1;32mreturn\u001b[0m \u001b[0mis_finished\u001b[0m\u001b[1;33m.\u001b[0m\u001b[0mvalue\u001b[0m \u001b[1;33m==\u001b[0m \u001b[1;36m1\u001b[0m\u001b[1;33m\u001b[0m\u001b[1;33m\u001b[0m\u001b[0m\n",
      "\u001b[1;31mKeyboardInterrupt\u001b[0m: "
     ]
    }
   ],
   "source": [
    "study.optimize(objective, n_trials=1000)"
   ]
  },
  {
   "cell_type": "code",
   "execution_count": 436,
   "id": "acceptable-caution",
   "metadata": {},
   "outputs": [
    {
     "data": {
      "text/plain": [
       "1    235\n",
       "0    120\n",
       "2     46\n",
       "3     33\n",
       "Name: COVID_diagnosis, dtype: int64"
      ]
     },
     "execution_count": 436,
     "metadata": {},
     "output_type": "execute_result"
    }
   ],
   "source": [
    "df.COVID_diagnosis.value_counts()"
   ]
  },
  {
   "cell_type": "code",
   "execution_count": 182,
   "id": "guided-object",
   "metadata": {},
   "outputs": [
    {
     "data": {
      "text/plain": [
       "{'boosting_type': 'rf',\n",
       " 'lambda_l1': 6.884269737839954e-09,\n",
       " 'lambda_l2': 4.0555182480057986e-09,\n",
       " 'num_leaves': 372,\n",
       " 'max_depth': 29,\n",
       " 'feature_fraction': 0.8654247515226506,\n",
       " 'feature_fraction_bynode': 0.333151994541971,\n",
       " 'min_child_samples': 2,\n",
       " 'linear_tree': False,\n",
       " 'max_bin': 127,\n",
       " 'extra_trees': True,\n",
       " 'path_smooth': 9.014205697120713e-10,\n",
       " 'learning_rate': 1.8796072914567394e-25,\n",
       " 'min_gain_to_split': 3.171183632796391e-17,\n",
       " 'min_sum_hessian_in_leaf': 0.000503616528793947,\n",
       " 'num_boost_round': 541,\n",
       " 'bagging_fraction': 0.9393130931839874,\n",
       " 'bagging_freq': 82}"
      ]
     },
     "execution_count": 182,
     "metadata": {},
     "output_type": "execute_result"
    }
   ],
   "source": [
    "best_params = study.best_params\n",
    "best_params"
   ]
  },
  {
   "cell_type": "code",
   "execution_count": 222,
   "id": "dedicated-salon",
   "metadata": {},
   "outputs": [],
   "source": [
    "best_params['num_boost_round'] = 500"
   ]
  },
  {
   "cell_type": "code",
   "execution_count": 223,
   "id": "median-andorra",
   "metadata": {
    "scrolled": true,
    "tags": []
   },
   "outputs": [
    {
     "name": "stderr",
     "output_type": "stream",
     "text": [
      "c:\\users\\roel\\.virtualenvs\\diagcovid-ckc2berq\\lib\\site-packages\\lightgbm\\engine.py:148: UserWarning: Found `num_boost_round` in params. Will use it instead of argument\n",
      "  _log_warning(\"Found `{}` in params. Will use it instead of argument\".format(alias))\n"
     ]
    },
    {
     "data": {
      "text/plain": [
       "LGBMClassifier(bagging_fraction=0.9393130931839874, bagging_freq=82,\n",
       "               boosting_type='rf', extra_trees=True,\n",
       "               feature_fraction=0.8654247515226506,\n",
       "               feature_fraction_bynode=0.333151994541971,\n",
       "               lambda_l1=6.884269737839954e-09,\n",
       "               lambda_l2=4.0555182480057986e-09,\n",
       "               learning_rate=1.8796072914567394e-25, linear_tree=False,\n",
       "               max_bin=127, max_depth=29, min_child_samples=2,\n",
       "               min_gain_to_split=3.171183632796391e-17,\n",
       "               min_sum_hessian_in_leaf=0.000503616528793947,\n",
       "               num_boost_round=500, num_leaves=372,\n",
       "               path_smooth=9.014205697120713e-10)"
      ]
     },
     "execution_count": 223,
     "metadata": {},
     "output_type": "execute_result"
    }
   ],
   "source": [
    "clf = LGBMClassifier(n_jobs=-1, **best_params)\n",
    "# clf = BaggingClassifier(clf, n_estimators=1200, bootstrap_features=True)\n",
    "clf.fit(X_train, y_train)"
   ]
  },
  {
   "cell_type": "code",
   "execution_count": 143,
   "id": "friendly-transformation",
   "metadata": {},
   "outputs": [
    {
     "data": {
      "text/plain": [
       "Pipeline(steps=[('simpleimputer', SimpleImputer()),\n",
       "                ('daggingclassifier', DaggingClassifier(n_estimators=30))])"
      ]
     },
     "execution_count": 143,
     "metadata": {},
     "output_type": "execute_result"
    }
   ],
   "source": [
    "from dagging import DaggingClassifier\n",
    "from sklearn.impute import SimpleImputer\n",
    "from sklearn.pipeline import make_pipeline\n",
    "dag_clf = make_pipeline(\n",
    "    SimpleImputer(strategy='mean'), \n",
    "    DaggingClassifier(n_estimators=30)\n",
    ")\n",
    "# imputer = SimpleImputer(strategy='mean').fit(X_train, y_train)\n",
    "dag_clf.fit(X_train, y_train)"
   ]
  },
  {
   "cell_type": "code",
   "execution_count": 145,
   "id": "organizational-afternoon",
   "metadata": {},
   "outputs": [
    {
     "data": {
      "text/plain": [
       "LGBMClassifier()"
      ]
     },
     "execution_count": 145,
     "metadata": {},
     "output_type": "execute_result"
    }
   ],
   "source": [
    "boost_clf = LGBMClassifier(n_jobs=-1)\n",
    "boost_clf.fit(X_train, y_train)"
   ]
  },
  {
   "cell_type": "code",
   "execution_count": 196,
   "id": "common-ballot",
   "metadata": {},
   "outputs": [
    {
     "data": {
      "text/plain": [
       "array([ 3.,  3.,  3., nan,  3.])"
      ]
     },
     "execution_count": 196,
     "metadata": {},
     "output_type": "execute_result"
    }
   ],
   "source": [
    "np.random.choice([np.nan, np.nan, 3], size=5)"
   ]
  },
  {
   "cell_type": "code",
   "execution_count": 197,
   "id": "round-rally",
   "metadata": {},
   "outputs": [],
   "source": [
    "def column_impute(X):\n",
    "    X = X.copy()\n",
    "    for col in X.columns:\n",
    "        X.loc[X[col].isna(), col] = np.random.choice(X[col].dropna(), size=X[col].isna().sum())\n",
    "    return X"
   ]
  },
  {
   "cell_type": "code",
   "execution_count": 340,
   "id": "human-department",
   "metadata": {},
   "outputs": [],
   "source": [
    "from sklearn.base import TransformerMixin\n",
    "class ColumnImputer(TransformerMixin):\n",
    "    def fit(self, X):\n",
    "        self.options = {col: X[col].dropna().values for col in X.columns}\n",
    "        return self\n",
    "    \n",
    "    def transform(self, X):\n",
    "        X = X.copy()\n",
    "        for col in X.columns:\n",
    "            if len(self.options[col]) > 0:\n",
    "                X.loc[X[col].isna(), col] = np.random.choice(self.options[col], size=X[col].isna().sum())\n",
    "        return X"
   ]
  },
  {
   "cell_type": "code",
   "execution_count": 438,
   "id": "lucky-kenya",
   "metadata": {},
   "outputs": [
    {
     "data": {
      "text/plain": [
       "<AxesSubplot:>"
      ]
     },
     "execution_count": 438,
     "metadata": {},
     "output_type": "execute_result"
    },
    {
     "data": {
      "image/png": "[encoded data removed]",
      "text/plain": [
       "<Figure size 432x288 with 2 Axes>"
      ]
     },
     "metadata": {
      "needs_background": "light"
     },
     "output_type": "display_data"
    }
   ],
   "source": [
    "import seaborn as sns\n",
    "sns.heatmap(X_train.isna())"
   ]
  },
  {
   "cell_type": "code",
   "execution_count": 209,
   "id": "extended-holocaust",
   "metadata": {},
   "outputs": [
    {
     "data": {
      "text/plain": [
       "False"
      ]
     },
     "execution_count": 209,
     "metadata": {},
     "output_type": "execute_result"
    }
   ],
   "source": [
    "from sklearn.preprocessing import FunctionTransformer, Binarizer\n",
    "col_imputer = FunctionTransformer(column_impute, validate=False)\n",
    "ColumnImputer().fit_transform(X_train).isna().any().any()"
   ]
  },
  {
   "cell_type": "code",
   "execution_count": 429,
   "id": "swedish-clearing",
   "metadata": {},
   "outputs": [],
   "source": [
    "from sklearn.experimental import enable_iterative_imputer  # noqa\n",
    "from sklearn.impute import IterativeImputer\n",
    "X_train_rep = []\n",
    "y_train_rep = []\n",
    "# col_imputer = ColumnImputer()\n",
    "col_imputer = IterativeImputer(sample_posterior=True)\n",
    "col_imputer.fit(X_train)\n",
    "for i in tqdm(range(700)):\n",
    "    X_train_rep.append(col_imputer.transform(X_train))\n",
    "    y_train_rep.append(y_train)\n",
    "    "
   ]
  },
  {
   "cell_type": "code",
   "execution_count": 430,
   "id": "colonial-soviet",
   "metadata": {},
   "outputs": [],
   "source": [
    "# X_train_rep = pd.concat(X_train_rep)\n",
    "y_train_rep = pd.concat(y_train_rep)\n",
    "X_train_rep = np.concatenate(X_train_rep)"
   ]
  },
  {
   "cell_type": "code",
   "execution_count": 431,
   "id": "blocked-columbus",
   "metadata": {},
   "outputs": [
    {
     "name": "stderr",
     "output_type": "stream",
     "text": [
      "Found `num_boost_round` in params. Will use it instead of argument\n"
     ]
    },
    {
     "data": {
      "text/plain": [
       "LGBMClassifier(bagging_fraction=0.9393130931839874, bagging_freq=82,\n",
       "               boosting_type='rf', extra_trees=True,\n",
       "               feature_fraction=0.8654247515226506,\n",
       "               feature_fraction_bynode=0.333151994541971,\n",
       "               lambda_l1=6.884269737839954e-09,\n",
       "               lambda_l2=4.0555182480057986e-09,\n",
       "               learning_rate=1.8796072914567394e-25, linear_tree=False,\n",
       "               max_bin=127, max_depth=29, min_child_samples=2,\n",
       "               min_gain_to_split=3.171183632796391e-17,\n",
       "               min_sum_hessian_in_leaf=0.000503616528793947,\n",
       "               num_boost_round=500, num_leaves=372,\n",
       "               path_smooth=9.014205697120713e-10)"
      ]
     },
     "execution_count": 431,
     "metadata": {},
     "output_type": "execute_result"
    }
   ],
   "source": [
    "lgbm = LGBMClassifier(n_jobs=-1)\n",
    "clf.fit(X_train_rep, y_train_rep)"
   ]
  },
  {
   "cell_type": "code",
   "execution_count": 433,
   "id": "domestic-adelaide",
   "metadata": {},
   "outputs": [
    {
     "name": "stderr",
     "output_type": "stream",
     "text": [
      "100%|███████████████████████████████████████████████████████████████████████████████████████████████| 500/500 [02:51<00:00,  2.91it/s]\n"
     ]
    }
   ],
   "source": [
    "X_test_rep = []\n",
    "y_test_rep = []\n",
    "for i in tqdm(range(500)):\n",
    "    X_test_rep.append(col_imputer.transform(X_test))\n",
    "    y_test_rep.append(y_test)\n",
    "# X_test_rep = pd.concat(X_test_rep)\n",
    "y_test_rep = pd.concat(y_test_rep)\n",
    "X_test_rep = np.concatenate(X_test_rep)"
   ]
  },
  {
   "cell_type": "code",
   "execution_count": 414,
   "id": "right-story",
   "metadata": {},
   "outputs": [
    {
     "data": {
      "text/plain": [
       "0.7980055658627088"
      ]
     },
     "execution_count": 414,
     "metadata": {},
     "output_type": "execute_result"
    }
   ],
   "source": [
    "s = len(X_test)\n",
    "roc_auc_score(y_test, np.array([clf.predict_proba(X_test_rep[s*i:s*(i+1)]) for i in range(500)]).mean(axis=0)[:, 1])"
   ]
  },
  {
   "cell_type": "code",
   "execution_count": 417,
   "id": "hearing-video",
   "metadata": {},
   "outputs": [
    {
     "name": "stderr",
     "output_type": "stream",
     "text": [
      "Found `num_boost_round` in params. Will use it instead of argument\n"
     ]
    },
    {
     "data": {
      "text/plain": [
       "0.9066171923314781"
      ]
     },
     "execution_count": 417,
     "metadata": {},
     "output_type": "execute_result"
    }
   ],
   "source": [
    "roc_auc_score(y_test, clf.fit(X_train, y_train).predict_proba(X_test)[:, 1])"
   ]
  },
  {
   "cell_type": "code",
   "execution_count": 418,
   "id": "light-analysis",
   "metadata": {},
   "outputs": [
    {
     "data": {
      "text/plain": [
       "0.8576066790352505"
      ]
     },
     "execution_count": 418,
     "metadata": {},
     "output_type": "execute_result"
    }
   ],
   "source": [
    "roc_auc_score(y_test, lgbm.fit(X_train, y_train).predict_proba(X_test)[:, 1])"
   ]
  },
  {
   "cell_type": "code",
   "execution_count": 425,
   "id": "direct-toner",
   "metadata": {},
   "outputs": [],
   "source": [
    "from tqdm import tqdm\n",
    "def get_shapley_values(est, X, n):\n",
    "    explainer = shap.TreeExplainer(est)\n",
    "    s = len(X)//n\n",
    "    shaps = []\n",
    "    for i in tqdm(range(n)):\n",
    "        shaps.append(explainer.shap_values(X[s*i:s*(i+1)])[1])\n",
    "    \n",
    "    return np.mean(shaps, axis=0)"
   ]
  },
  {
   "cell_type": "code",
   "execution_count": 426,
   "id": "celtic-olympus",
   "metadata": {},
   "outputs": [
    {
     "name": "stderr",
     "output_type": "stream",
     "text": [
      "100%|███████████████████████████████████████████████████████████████████████████████████████████████| 500/500 [01:37<00:00,  5.12it/s]\n"
     ]
    }
   ],
   "source": [
    "shaps_col_impute = get_shapley_values(clf, X_test_rep, 500)"
   ]
  },
  {
   "cell_type": "code",
   "execution_count": 434,
   "id": "dense-comparison",
   "metadata": {},
   "outputs": [
    {
     "name": "stderr",
     "output_type": "stream",
     "text": [
      "  0%|                                                                                                         | 0/500 [00:00<?, ?it/s]LightGBM binary classifier with TreeExplainer shap values output has changed to a list of ndarray\n",
      "100%|███████████████████████████████████████████████████████████████████████████████████████████████| 500/500 [13:01<00:00,  1.56s/it]\n"
     ]
    }
   ],
   "source": [
    "shaps_mice_impute = get_shapley_values(clf, X_test_rep, 500)"
   ]
  },
  {
   "cell_type": "code",
   "execution_count": 427,
   "id": "standard-edwards",
   "metadata": {},
   "outputs": [
    {
     "name": "stderr",
     "output_type": "stream",
     "text": [
      "Found `num_boost_round` in params. Will use it instead of argument\n",
      "  0%|                                                                                                           | 0/1 [00:00<?, ?it/s]LightGBM binary classifier with TreeExplainer shap values output has changed to a list of ndarray\n",
      "100%|███████████████████████████████████████████████████████████████████████████████████████████████████| 1/1 [00:00<00:00,  5.52it/s]\n"
     ]
    }
   ],
   "source": [
    "shaps_normal = get_shapley_values(clf.fit(X_train, y_train), X_test, 1)"
   ]
  },
  {
   "cell_type": "code",
   "execution_count": 375,
   "id": "concerned-intensity",
   "metadata": {},
   "outputs": [],
   "source": [
    "df_ictcf = pd.read_pickle('../../data/processed/ictcf.pkl')"
   ]
  },
  {
   "cell_type": "code",
   "execution_count": 376,
   "id": "associate-makeup",
   "metadata": {},
   "outputs": [],
   "source": [
    "\n",
    "for col in df_ictcf.select_dtypes(include=['category']):\n",
    "    if col not in ['Metadata_PCR', 'Metadata_Hospital']:\n",
    "        df_ictcf[col] = df_ictcf[col].cat.codes.astype('category')\n",
    "        df_ictcf.loc[df_ictcf[col] == -1, col] = np.nan"
   ]
  },
  {
   "cell_type": "code",
   "execution_count": 377,
   "id": "lyric-element",
   "metadata": {},
   "outputs": [],
   "source": [
    "categorical_features = [\"Metadata_Sex\"] + [col for col in df_ictcf.columns if col.startswith(\"Disease_\")]\n",
    "numeric_features = [col for col in df_ictcf.columns if col.startswith(\"Value_\")] + ['Metadata_Age',\n",
    "                                                                              'Metadata_Temperature']\n",
    "input_features = categorical_features + numeric_features\n",
    "output_feature = \"Metadata_PCR\""
   ]
  },
  {
   "cell_type": "code",
   "execution_count": 378,
   "id": "annual-bookmark",
   "metadata": {},
   "outputs": [],
   "source": [
    "X_ictcf_train, y_ictcf_train = df_ictcf.loc[df_ictcf.Metadata_Hospital == 'Union', input_features], df_ictcf.loc[df_ictcf.Metadata_Hospital == 'Union', output_feature]\n",
    "X_ictcf_test, y_ictcf_test = df_ictcf.loc[df_ictcf.Metadata_Hospital != 'Union', input_features], df_ictcf.loc[df_ictcf.Metadata_Hospital != 'Union', output_feature]"
   ]
  },
  {
   "cell_type": "code",
   "execution_count": 341,
   "id": "hundred-replication",
   "metadata": {},
   "outputs": [
    {
     "data": {
      "text/plain": [
       "True"
      ]
     },
     "execution_count": 341,
     "metadata": {},
     "output_type": "execute_result"
    }
   ],
   "source": [
    "from sklearn.preprocessing import FunctionTransformer, Binarizer\n",
    "col_imputer = FunctionTransformer(column_impute, validate=False)\n",
    "ColumnImputer().fit_transform(X_ictcf_train).isna().any().any()"
   ]
  },
  {
   "cell_type": "code",
   "execution_count": 383,
   "id": "electoral-stewart",
   "metadata": {},
   "outputs": [],
   "source": [
    "from sklearn.experimental import enable_iterative_imputer  # noqa\n",
    "from sklearn.impute import IterativeImputer\n",
    "from tqdm import tqdm\n",
    "X_train_rep = []\n",
    "y_train_rep = []\n",
    "# col_imputer = ColumnImputer()\n",
    "col_imputer = IterativeImputer(sample_posterior=True, n_nearest_features=20)\n",
    "col_imputer.fit(X_ictcf_train)\n",
    "for i in tqdm(range(100)):\n",
    "    X_train_rep.append(col_imputer.transform(X_ictcf_train))\n",
    "    y_train_rep.append(y_ictcf_train)\n",
    "    "
   ]
  },
  {
   "cell_type": "code",
   "execution_count": 384,
   "id": "induced-earthquake",
   "metadata": {},
   "outputs": [],
   "source": [
    "# X_train_rep = pd.concat(X_train_rep)\n",
    "y_train_rep = pd.concat(y_train_rep)\n",
    "X_train_rep = np.concatenate(X_train_rep)"
   ]
  },
  {
   "cell_type": "code",
   "execution_count": 406,
   "id": "willing-requirement",
   "metadata": {},
   "outputs": [
    {
     "name": "stderr",
     "output_type": "stream",
     "text": [
      "Found `num_boost_round` in params. Will use it instead of argument\n"
     ]
    },
    {
     "data": {
      "text/plain": [
       "LGBMClassifier(bagging_fraction=0.9393130931839874, bagging_freq=82,\n",
       "               boosting_type='rf', extra_trees=True,\n",
       "               feature_fraction=0.8654247515226506,\n",
       "               feature_fraction_bynode=0.333151994541971,\n",
       "               lambda_l1=6.884269737839954e-09,\n",
       "               lambda_l2=4.0555182480057986e-09,\n",
       "               learning_rate=1.8796072914567394e-25, linear_tree=False,\n",
       "               max_bin=127, max_depth=29, min_child_samples=2,\n",
       "               min_gain_to_split=3.171183632796391e-17,\n",
       "               min_sum_hessian_in_leaf=0.000503616528793947,\n",
       "               num_boost_round=500, num_leaves=372,\n",
       "               path_smooth=9.014205697120713e-10)"
      ]
     },
     "execution_count": 406,
     "metadata": {},
     "output_type": "execute_result"
    }
   ],
   "source": [
    "lgbm = LGBMClassifier(n_jobs=-1)\n",
    "clf.fit(X_train_rep, y_train_rep)"
   ]
  },
  {
   "cell_type": "code",
   "execution_count": 391,
   "id": "dangerous-suite",
   "metadata": {},
   "outputs": [],
   "source": [
    "X_test_rep = []\n",
    "y_test_rep = []\n",
    "for i in tqdm(range(20)):\n",
    "    X_test_rep.append(col_imputer.transform(X_ictcf_test))\n",
    "    y_test_rep.append(y_ictcf_test)\n",
    "    "
   ]
  },
  {
   "cell_type": "code",
   "execution_count": 392,
   "id": "outer-impossible",
   "metadata": {},
   "outputs": [],
   "source": [
    "# X_test_rep = pd.concat(X_test_rep)\n",
    "y_test_rep = pd.concat(y_test_rep)\n",
    "X_test_rep = np.concatenate(X_test_rep)"
   ]
  },
  {
   "cell_type": "code",
   "execution_count": 396,
   "id": "collective-wildlife",
   "metadata": {},
   "outputs": [
    {
     "data": {
      "text/plain": [
       "array([[ 0.00000000e+00,  1.00000000e+00,  0.00000000e+00, ...,\n",
       "         1.75000000e+00,  6.60000000e+01,  4.07000000e+01],\n",
       "       [ 0.00000000e+00,  0.00000000e+00,  0.00000000e+00, ...,\n",
       "         4.38333333e-01,  6.10000000e+01,  3.75000000e+01],\n",
       "       [ 0.00000000e+00,  0.00000000e+00,  0.00000000e+00, ...,\n",
       "         3.96666667e-01,  5.80000000e+01,  3.48486015e+01],\n",
       "       ...,\n",
       "       [ 0.00000000e+00,  0.00000000e+00,  0.00000000e+00, ...,\n",
       "        -2.50208258e-01,  3.40000000e+01,  4.03046195e+01],\n",
       "       [ 0.00000000e+00,  0.00000000e+00,  1.00000000e+00, ...,\n",
       "         2.28593329e-02,  5.70000000e+01,  3.80000000e+01],\n",
       "       [ 0.00000000e+00,  1.00000000e+00,  0.00000000e+00, ...,\n",
       "        -1.19108646e+00,  6.60000000e+01,  3.85000000e+01]])"
      ]
     },
     "execution_count": 396,
     "metadata": {},
     "output_type": "execute_result"
    }
   ],
   "source": [
    "X_test_rep[s*0:s*(0+1)]"
   ]
  },
  {
   "cell_type": "code",
   "execution_count": 407,
   "id": "hollow-tunisia",
   "metadata": {},
   "outputs": [
    {
     "data": {
      "text/plain": [
       "0.6510521170962597"
      ]
     },
     "execution_count": 407,
     "metadata": {},
     "output_type": "execute_result"
    }
   ],
   "source": [
    "s = len(X_ictcf_test)\n",
    "roc_auc_score(y_ictcf_test, np.array([clf.predict_proba(X_test_rep[s*i:s*(i+1)]) for i in range(20)]).mean(axis=0)[:, 1])"
   ]
  },
  {
   "cell_type": "code",
   "execution_count": 403,
   "id": "flexible-petroleum",
   "metadata": {},
   "outputs": [
    {
     "data": {
      "text/plain": [
       "0.6507562895508565"
      ]
     },
     "execution_count": 403,
     "metadata": {},
     "output_type": "execute_result"
    }
   ],
   "source": [
    "roc_auc_score(y_ictcf_test, lgbm.fit(X_ictcf_train, y_ictcf_train).predict_proba(X_ictcf_test)[:, 1])"
   ]
  },
  {
   "cell_type": "code",
   "execution_count": 404,
   "id": "friendly-trademark",
   "metadata": {},
   "outputs": [],
   "source": [
    "import shap\n",
    "explainer = shap.TreeExplainer(clf)"
   ]
  },
  {
   "cell_type": "code",
   "execution_count": 408,
   "id": "shaped-stability",
   "metadata": {},
   "outputs": [
    {
     "ename": "LightGBMError",
     "evalue": "The number of features in data (89) is not the same as it was in training data (126).\nYou can set ``predict_disable_shape_check=true`` to discard this error, but please be aware what you are doing.",
     "output_type": "error",
     "traceback": [
      "\u001b[1;31m---------------------------------------------------------------------------\u001b[0m",
      "\u001b[1;31mLightGBMError\u001b[0m                             Traceback (most recent call last)",
      "\u001b[1;32m<ipython-input-408-271e9709754f>\u001b[0m in \u001b[0;36m<module>\u001b[1;34m\u001b[0m\n\u001b[0;32m      1\u001b[0m \u001b[0mshaps\u001b[0m \u001b[1;33m=\u001b[0m \u001b[1;33m[\u001b[0m\u001b[1;33m]\u001b[0m\u001b[1;33m\u001b[0m\u001b[1;33m\u001b[0m\u001b[0m\n\u001b[0;32m      2\u001b[0m \u001b[1;32mfor\u001b[0m \u001b[0mi\u001b[0m \u001b[1;32min\u001b[0m \u001b[0mrange\u001b[0m\u001b[1;33m(\u001b[0m\u001b[1;36m20\u001b[0m\u001b[1;33m)\u001b[0m\u001b[1;33m:\u001b[0m\u001b[1;33m\u001b[0m\u001b[1;33m\u001b[0m\u001b[0m\n\u001b[1;32m----> 3\u001b[1;33m     \u001b[0mshaps\u001b[0m\u001b[1;33m.\u001b[0m\u001b[0mappend\u001b[0m\u001b[1;33m(\u001b[0m\u001b[0mexplainer\u001b[0m\u001b[1;33m.\u001b[0m\u001b[0mshap_values\u001b[0m\u001b[1;33m(\u001b[0m\u001b[0mX_test_rep\u001b[0m\u001b[1;33m[\u001b[0m\u001b[0ms\u001b[0m\u001b[1;33m*\u001b[0m\u001b[0mi\u001b[0m\u001b[1;33m:\u001b[0m\u001b[0ms\u001b[0m\u001b[1;33m*\u001b[0m\u001b[1;33m(\u001b[0m\u001b[0mi\u001b[0m\u001b[1;33m+\u001b[0m\u001b[1;36m1\u001b[0m\u001b[1;33m)\u001b[0m\u001b[1;33m]\u001b[0m\u001b[1;33m)\u001b[0m\u001b[1;33m[\u001b[0m\u001b[1;36m1\u001b[0m\u001b[1;33m]\u001b[0m\u001b[1;33m)\u001b[0m\u001b[1;33m\u001b[0m\u001b[1;33m\u001b[0m\u001b[0m\n\u001b[0m",
      "\u001b[1;32mc:\\users\\roel\\.virtualenvs\\diagcovid-ckc2berq\\lib\\site-packages\\shap\\explainers\\_tree.py\u001b[0m in \u001b[0;36mshap_values\u001b[1;34m(self, X, y, tree_limit, approximate, check_additivity, from_call)\u001b[0m\n\u001b[0;32m    343\u001b[0m             \u001b[1;32melif\u001b[0m \u001b[0mself\u001b[0m\u001b[1;33m.\u001b[0m\u001b[0mmodel\u001b[0m\u001b[1;33m.\u001b[0m\u001b[0mmodel_type\u001b[0m \u001b[1;33m==\u001b[0m \u001b[1;34m\"lightgbm\"\u001b[0m\u001b[1;33m:\u001b[0m\u001b[1;33m\u001b[0m\u001b[1;33m\u001b[0m\u001b[0m\n\u001b[0;32m    344\u001b[0m                 \u001b[1;32massert\u001b[0m \u001b[1;32mnot\u001b[0m \u001b[0mapproximate\u001b[0m\u001b[1;33m,\u001b[0m \u001b[1;34m\"approximate=True is not supported for LightGBM models!\"\u001b[0m\u001b[1;33m\u001b[0m\u001b[1;33m\u001b[0m\u001b[0m\n\u001b[1;32m--> 345\u001b[1;33m                 \u001b[0mphi\u001b[0m \u001b[1;33m=\u001b[0m \u001b[0mself\u001b[0m\u001b[1;33m.\u001b[0m\u001b[0mmodel\u001b[0m\u001b[1;33m.\u001b[0m\u001b[0moriginal_model\u001b[0m\u001b[1;33m.\u001b[0m\u001b[0mpredict\u001b[0m\u001b[1;33m(\u001b[0m\u001b[0mX\u001b[0m\u001b[1;33m,\u001b[0m \u001b[0mnum_iteration\u001b[0m\u001b[1;33m=\u001b[0m\u001b[0mtree_limit\u001b[0m\u001b[1;33m,\u001b[0m \u001b[0mpred_contrib\u001b[0m\u001b[1;33m=\u001b[0m\u001b[1;32mTrue\u001b[0m\u001b[1;33m)\u001b[0m\u001b[1;33m\u001b[0m\u001b[1;33m\u001b[0m\u001b[0m\n\u001b[0m\u001b[0;32m    346\u001b[0m                 \u001b[1;31m# Note: the data must be joined on the last axis\u001b[0m\u001b[1;33m\u001b[0m\u001b[1;33m\u001b[0m\u001b[1;33m\u001b[0m\u001b[0m\n\u001b[0;32m    347\u001b[0m                 \u001b[1;32mif\u001b[0m \u001b[0mself\u001b[0m\u001b[1;33m.\u001b[0m\u001b[0mmodel\u001b[0m\u001b[1;33m.\u001b[0m\u001b[0moriginal_model\u001b[0m\u001b[1;33m.\u001b[0m\u001b[0mparams\u001b[0m\u001b[1;33m[\u001b[0m\u001b[1;34m'objective'\u001b[0m\u001b[1;33m]\u001b[0m \u001b[1;33m==\u001b[0m \u001b[1;34m'binary'\u001b[0m\u001b[1;33m:\u001b[0m\u001b[1;33m\u001b[0m\u001b[1;33m\u001b[0m\u001b[0m\n",
      "\u001b[1;32mc:\\users\\roel\\.virtualenvs\\diagcovid-ckc2berq\\lib\\site-packages\\lightgbm\\basic.py\u001b[0m in \u001b[0;36mpredict\u001b[1;34m(self, data, start_iteration, num_iteration, raw_score, pred_leaf, pred_contrib, data_has_header, is_reshape, **kwargs)\u001b[0m\n\u001b[0;32m   3142\u001b[0m         return predictor.predict(data, start_iteration, num_iteration,\n\u001b[0;32m   3143\u001b[0m                                  \u001b[0mraw_score\u001b[0m\u001b[1;33m,\u001b[0m \u001b[0mpred_leaf\u001b[0m\u001b[1;33m,\u001b[0m \u001b[0mpred_contrib\u001b[0m\u001b[1;33m,\u001b[0m\u001b[1;33m\u001b[0m\u001b[1;33m\u001b[0m\u001b[0m\n\u001b[1;32m-> 3144\u001b[1;33m                                  data_has_header, is_reshape)\n\u001b[0m\u001b[0;32m   3145\u001b[0m \u001b[1;33m\u001b[0m\u001b[0m\n\u001b[0;32m   3146\u001b[0m     \u001b[1;32mdef\u001b[0m \u001b[0mrefit\u001b[0m\u001b[1;33m(\u001b[0m\u001b[0mself\u001b[0m\u001b[1;33m,\u001b[0m \u001b[0mdata\u001b[0m\u001b[1;33m,\u001b[0m \u001b[0mlabel\u001b[0m\u001b[1;33m,\u001b[0m \u001b[0mdecay_rate\u001b[0m\u001b[1;33m=\u001b[0m\u001b[1;36m0.9\u001b[0m\u001b[1;33m,\u001b[0m \u001b[1;33m**\u001b[0m\u001b[0mkwargs\u001b[0m\u001b[1;33m)\u001b[0m\u001b[1;33m:\u001b[0m\u001b[1;33m\u001b[0m\u001b[1;33m\u001b[0m\u001b[0m\n",
      "\u001b[1;32mc:\\users\\roel\\.virtualenvs\\diagcovid-ckc2berq\\lib\\site-packages\\lightgbm\\basic.py\u001b[0m in \u001b[0;36mpredict\u001b[1;34m(self, data, start_iteration, num_iteration, raw_score, pred_leaf, pred_contrib, data_has_header, is_reshape)\u001b[0m\n\u001b[0;32m    726\u001b[0m             \u001b[0mpreds\u001b[0m\u001b[1;33m,\u001b[0m \u001b[0mnrow\u001b[0m \u001b[1;33m=\u001b[0m \u001b[0mself\u001b[0m\u001b[1;33m.\u001b[0m\u001b[0m__pred_for_csc\u001b[0m\u001b[1;33m(\u001b[0m\u001b[0mdata\u001b[0m\u001b[1;33m,\u001b[0m \u001b[0mstart_iteration\u001b[0m\u001b[1;33m,\u001b[0m \u001b[0mnum_iteration\u001b[0m\u001b[1;33m,\u001b[0m \u001b[0mpredict_type\u001b[0m\u001b[1;33m)\u001b[0m\u001b[1;33m\u001b[0m\u001b[1;33m\u001b[0m\u001b[0m\n\u001b[0;32m    727\u001b[0m         \u001b[1;32melif\u001b[0m \u001b[0misinstance\u001b[0m\u001b[1;33m(\u001b[0m\u001b[0mdata\u001b[0m\u001b[1;33m,\u001b[0m \u001b[0mnp\u001b[0m\u001b[1;33m.\u001b[0m\u001b[0mndarray\u001b[0m\u001b[1;33m)\u001b[0m\u001b[1;33m:\u001b[0m\u001b[1;33m\u001b[0m\u001b[1;33m\u001b[0m\u001b[0m\n\u001b[1;32m--> 728\u001b[1;33m             \u001b[0mpreds\u001b[0m\u001b[1;33m,\u001b[0m \u001b[0mnrow\u001b[0m \u001b[1;33m=\u001b[0m \u001b[0mself\u001b[0m\u001b[1;33m.\u001b[0m\u001b[0m__pred_for_np2d\u001b[0m\u001b[1;33m(\u001b[0m\u001b[0mdata\u001b[0m\u001b[1;33m,\u001b[0m \u001b[0mstart_iteration\u001b[0m\u001b[1;33m,\u001b[0m \u001b[0mnum_iteration\u001b[0m\u001b[1;33m,\u001b[0m \u001b[0mpredict_type\u001b[0m\u001b[1;33m)\u001b[0m\u001b[1;33m\u001b[0m\u001b[1;33m\u001b[0m\u001b[0m\n\u001b[0m\u001b[0;32m    729\u001b[0m         \u001b[1;32melif\u001b[0m \u001b[0misinstance\u001b[0m\u001b[1;33m(\u001b[0m\u001b[0mdata\u001b[0m\u001b[1;33m,\u001b[0m \u001b[0mlist\u001b[0m\u001b[1;33m)\u001b[0m\u001b[1;33m:\u001b[0m\u001b[1;33m\u001b[0m\u001b[1;33m\u001b[0m\u001b[0m\n\u001b[0;32m    730\u001b[0m             \u001b[1;32mtry\u001b[0m\u001b[1;33m:\u001b[0m\u001b[1;33m\u001b[0m\u001b[1;33m\u001b[0m\u001b[0m\n",
      "\u001b[1;32mc:\\users\\roel\\.virtualenvs\\diagcovid-ckc2berq\\lib\\site-packages\\lightgbm\\basic.py\u001b[0m in \u001b[0;36m__pred_for_np2d\u001b[1;34m(self, mat, start_iteration, num_iteration, predict_type)\u001b[0m\n\u001b[0;32m    817\u001b[0m             \u001b[1;32mreturn\u001b[0m \u001b[0mpreds\u001b[0m\u001b[1;33m,\u001b[0m \u001b[0mnrow\u001b[0m\u001b[1;33m\u001b[0m\u001b[1;33m\u001b[0m\u001b[0m\n\u001b[0;32m    818\u001b[0m         \u001b[1;32melse\u001b[0m\u001b[1;33m:\u001b[0m\u001b[1;33m\u001b[0m\u001b[1;33m\u001b[0m\u001b[0m\n\u001b[1;32m--> 819\u001b[1;33m             \u001b[1;32mreturn\u001b[0m \u001b[0minner_predict\u001b[0m\u001b[1;33m(\u001b[0m\u001b[0mmat\u001b[0m\u001b[1;33m,\u001b[0m \u001b[0mstart_iteration\u001b[0m\u001b[1;33m,\u001b[0m \u001b[0mnum_iteration\u001b[0m\u001b[1;33m,\u001b[0m \u001b[0mpredict_type\u001b[0m\u001b[1;33m)\u001b[0m\u001b[1;33m\u001b[0m\u001b[1;33m\u001b[0m\u001b[0m\n\u001b[0m\u001b[0;32m    820\u001b[0m \u001b[1;33m\u001b[0m\u001b[0m\n\u001b[0;32m    821\u001b[0m     def __create_sparse_native(self, cs, out_shape, out_ptr_indptr, out_ptr_indices, out_ptr_data,\n",
      "\u001b[1;32mc:\\users\\roel\\.virtualenvs\\diagcovid-ckc2berq\\lib\\site-packages\\lightgbm\\basic.py\u001b[0m in \u001b[0;36minner_predict\u001b[1;34m(mat, start_iteration, num_iteration, predict_type, preds)\u001b[0m\n\u001b[0;32m    799\u001b[0m                 \u001b[0mc_str\u001b[0m\u001b[1;33m(\u001b[0m\u001b[0mself\u001b[0m\u001b[1;33m.\u001b[0m\u001b[0mpred_parameter\u001b[0m\u001b[1;33m)\u001b[0m\u001b[1;33m,\u001b[0m\u001b[1;33m\u001b[0m\u001b[1;33m\u001b[0m\u001b[0m\n\u001b[0;32m    800\u001b[0m                 \u001b[0mctypes\u001b[0m\u001b[1;33m.\u001b[0m\u001b[0mbyref\u001b[0m\u001b[1;33m(\u001b[0m\u001b[0mout_num_preds\u001b[0m\u001b[1;33m)\u001b[0m\u001b[1;33m,\u001b[0m\u001b[1;33m\u001b[0m\u001b[1;33m\u001b[0m\u001b[0m\n\u001b[1;32m--> 801\u001b[1;33m                 preds.ctypes.data_as(ctypes.POINTER(ctypes.c_double))))\n\u001b[0m\u001b[0;32m    802\u001b[0m             \u001b[1;32mif\u001b[0m \u001b[0mn_preds\u001b[0m \u001b[1;33m!=\u001b[0m \u001b[0mout_num_preds\u001b[0m\u001b[1;33m.\u001b[0m\u001b[0mvalue\u001b[0m\u001b[1;33m:\u001b[0m\u001b[1;33m\u001b[0m\u001b[1;33m\u001b[0m\u001b[0m\n\u001b[0;32m    803\u001b[0m                 \u001b[1;32mraise\u001b[0m \u001b[0mValueError\u001b[0m\u001b[1;33m(\u001b[0m\u001b[1;34m\"Wrong length for predict results\"\u001b[0m\u001b[1;33m)\u001b[0m\u001b[1;33m\u001b[0m\u001b[1;33m\u001b[0m\u001b[0m\n",
      "\u001b[1;32mc:\\users\\roel\\.virtualenvs\\diagcovid-ckc2berq\\lib\\site-packages\\lightgbm\\basic.py\u001b[0m in \u001b[0;36m_safe_call\u001b[1;34m(ret)\u001b[0m\n\u001b[0;32m    108\u001b[0m     \"\"\"\n\u001b[0;32m    109\u001b[0m     \u001b[1;32mif\u001b[0m \u001b[0mret\u001b[0m \u001b[1;33m!=\u001b[0m \u001b[1;36m0\u001b[0m\u001b[1;33m:\u001b[0m\u001b[1;33m\u001b[0m\u001b[1;33m\u001b[0m\u001b[0m\n\u001b[1;32m--> 110\u001b[1;33m         \u001b[1;32mraise\u001b[0m \u001b[0mLightGBMError\u001b[0m\u001b[1;33m(\u001b[0m\u001b[0m_LIB\u001b[0m\u001b[1;33m.\u001b[0m\u001b[0mLGBM_GetLastError\u001b[0m\u001b[1;33m(\u001b[0m\u001b[1;33m)\u001b[0m\u001b[1;33m.\u001b[0m\u001b[0mdecode\u001b[0m\u001b[1;33m(\u001b[0m\u001b[1;34m'utf-8'\u001b[0m\u001b[1;33m)\u001b[0m\u001b[1;33m)\u001b[0m\u001b[1;33m\u001b[0m\u001b[1;33m\u001b[0m\u001b[0m\n\u001b[0m\u001b[0;32m    111\u001b[0m \u001b[1;33m\u001b[0m\u001b[0m\n\u001b[0;32m    112\u001b[0m \u001b[1;33m\u001b[0m\u001b[0m\n",
      "\u001b[1;31mLightGBMError\u001b[0m: The number of features in data (89) is not the same as it was in training data (126).\nYou can set ``predict_disable_shape_check=true`` to discard this error, but please be aware what you are doing."
     ]
    }
   ],
   "source": [
    "shaps = []\n",
    "for i in range(20):\n",
    "    shaps.append(explainer.shap_values(X_test_rep[s*i:s*(i+1)])[1])"
   ]
  },
  {
   "cell_type": "code",
   "execution_count": null,
   "id": "compatible-indiana",
   "metadata": {},
   "outputs": [],
   "source": [
    "np.abs(X_test.isna() * np.mean(shaps, axis=0)).mean().mean()"
   ]
  },
  {
   "cell_type": "code",
   "execution_count": 318,
   "id": "included-prison",
   "metadata": {},
   "outputs": [
    {
     "data": {
      "text/plain": [
       "0.4592230238895519"
      ]
     },
     "execution_count": 318,
     "metadata": {},
     "output_type": "execute_result"
    }
   ],
   "source": [
    "np.abs(X_test.isna() * np.mean(shaps, axis=0)).mean().mean()"
   ]
  },
  {
   "cell_type": "code",
   "execution_count": 316,
   "id": "brave-order",
   "metadata": {},
   "outputs": [
    {
     "data": {
      "text/plain": [
       "0.9719143428255106"
      ]
     },
     "execution_count": 316,
     "metadata": {},
     "output_type": "execute_result"
    }
   ],
   "source": [
    "np.abs(X_test.isna() * shaps[0]).mean().mean()"
   ]
  },
  {
   "cell_type": "code",
   "execution_count": 311,
   "id": "informed-flashing",
   "metadata": {},
   "outputs": [
    {
     "data": {
      "image/png": "[encoded data removed]",
      "text/plain": [
       "<Figure size 576x684 with 2 Axes>"
      ]
     },
     "metadata": {
      "needs_background": "light"
     },
     "output_type": "display_data"
    }
   ],
   "source": [
    "shap.summary_plot(np.mean(shaps, axis=0), features=X_test)"
   ]
  },
  {
   "cell_type": "code",
   "execution_count": 261,
   "id": "alpine-regression",
   "metadata": {},
   "outputs": [
    {
     "name": "stderr",
     "output_type": "stream",
     "text": [
      "c:\\users\\roel\\.virtualenvs\\diagcovid-ckc2berq\\lib\\site-packages\\lightgbm\\engine.py:148: UserWarning: Found `num_boost_round` in params. Will use it instead of argument\n",
      "  _log_warning(\"Found `{}` in params. Will use it instead of argument\".format(alias))\n"
     ]
    },
    {
     "data": {
      "text/plain": [
       "0.9066171923314781"
      ]
     },
     "execution_count": 261,
     "metadata": {},
     "output_type": "execute_result"
    }
   ],
   "source": [
    "clf.fit(X_train, y_train)\n",
    "roc_auc_score(y_test, clf.predict_proba(X_test)[:, 1])"
   ]
  },
  {
   "cell_type": "code",
   "execution_count": 253,
   "id": "selective-coverage",
   "metadata": {},
   "outputs": [
    {
     "name": "stderr",
     "output_type": "stream",
     "text": [
      "c:\\users\\roel\\.virtualenvs\\diagcovid-ckc2berq\\lib\\site-packages\\lightgbm\\engine.py:148: UserWarning: Found `num_boost_round` in params. Will use it instead of argument\n",
      "  _log_warning(\"Found `{}` in params. Will use it instead of argument\".format(alias))\n"
     ]
    },
    {
     "data": {
      "text/plain": [
       "0.5793521954236239"
      ]
     },
     "execution_count": 253,
     "metadata": {},
     "output_type": "execute_result"
    }
   ],
   "source": [
    "from sklearn.impute import MissingIndicator\n",
    "mi = MissingIndicator()\n",
    "clf.fit(mi.fit_transform(X_train), y_train)\n",
    "roc_auc_score(y_test, clf.predict_proba(mi.transform(X_test))[:, 1])"
   ]
  },
  {
   "cell_type": "code",
   "execution_count": 169,
   "id": "responsible-rally",
   "metadata": {
    "scrolled": true,
    "tags": []
   },
   "outputs": [
    {
     "name": "stderr",
     "output_type": "stream",
     "text": [
      "c:\\users\\roel\\.virtualenvs\\diagcovid-ckc2berq\\lib\\site-packages\\lightgbm\\engine.py:148: UserWarning: Found `num_boost_round` in params. Will use it instead of argument\n",
      "  _log_warning(\"Found `{}` in params. Will use it instead of argument\".format(alias))\n",
      "c:\\users\\roel\\.virtualenvs\\diagcovid-ckc2berq\\lib\\site-packages\\lightgbm\\engine.py:148: UserWarning: Found `num_boost_round` in params. Will use it instead of argument\n",
      "  _log_warning(\"Found `{}` in params. Will use it instead of argument\".format(alias))\n",
      "c:\\users\\roel\\.virtualenvs\\diagcovid-ckc2berq\\lib\\site-packages\\lightgbm\\engine.py:148: UserWarning: Found `num_boost_round` in params. Will use it instead of argument\n",
      "  _log_warning(\"Found `{}` in params. Will use it instead of argument\".format(alias))\n",
      "c:\\users\\roel\\.virtualenvs\\diagcovid-ckc2berq\\lib\\site-packages\\lightgbm\\engine.py:148: UserWarning: Found `num_boost_round` in params. Will use it instead of argument\n",
      "  _log_warning(\"Found `{}` in params. Will use it instead of argument\".format(alias))\n",
      "c:\\users\\roel\\.virtualenvs\\diagcovid-ckc2berq\\lib\\site-packages\\lightgbm\\engine.py:148: UserWarning: Found `num_boost_round` in params. Will use it instead of argument\n",
      "  _log_warning(\"Found `{}` in params. Will use it instead of argument\".format(alias))\n",
      "c:\\users\\roel\\.virtualenvs\\diagcovid-ckc2berq\\lib\\site-packages\\lightgbm\\engine.py:148: UserWarning: Found `num_boost_round` in params. Will use it instead of argument\n",
      "  _log_warning(\"Found `{}` in params. Will use it instead of argument\".format(alias))\n",
      "c:\\users\\roel\\.virtualenvs\\diagcovid-ckc2berq\\lib\\site-packages\\lightgbm\\engine.py:148: UserWarning: Found `num_boost_round` in params. Will use it instead of argument\n",
      "  _log_warning(\"Found `{}` in params. Will use it instead of argument\".format(alias))\n",
      "c:\\users\\roel\\.virtualenvs\\diagcovid-ckc2berq\\lib\\site-packages\\lightgbm\\engine.py:148: UserWarning: Found `num_boost_round` in params. Will use it instead of argument\n",
      "  _log_warning(\"Found `{}` in params. Will use it instead of argument\".format(alias))\n",
      "c:\\users\\roel\\.virtualenvs\\diagcovid-ckc2berq\\lib\\site-packages\\lightgbm\\engine.py:148: UserWarning: Found `num_boost_round` in params. Will use it instead of argument\n",
      "  _log_warning(\"Found `{}` in params. Will use it instead of argument\".format(alias))\n",
      "c:\\users\\roel\\.virtualenvs\\diagcovid-ckc2berq\\lib\\site-packages\\lightgbm\\engine.py:148: UserWarning: Found `num_boost_round` in params. Will use it instead of argument\n",
      "  _log_warning(\"Found `{}` in params. Will use it instead of argument\".format(alias))\n",
      "c:\\users\\roel\\.virtualenvs\\diagcovid-ckc2berq\\lib\\site-packages\\lightgbm\\engine.py:148: UserWarning: Found `num_boost_round` in params. Will use it instead of argument\n",
      "  _log_warning(\"Found `{}` in params. Will use it instead of argument\".format(alias))\n",
      "c:\\users\\roel\\.virtualenvs\\diagcovid-ckc2berq\\lib\\site-packages\\lightgbm\\engine.py:148: UserWarning: Found `num_boost_round` in params. Will use it instead of argument\n",
      "  _log_warning(\"Found `{}` in params. Will use it instead of argument\".format(alias))\n",
      "c:\\users\\roel\\.virtualenvs\\diagcovid-ckc2berq\\lib\\site-packages\\lightgbm\\engine.py:148: UserWarning: Found `num_boost_round` in params. Will use it instead of argument\n",
      "  _log_warning(\"Found `{}` in params. Will use it instead of argument\".format(alias))\n",
      "c:\\users\\roel\\.virtualenvs\\diagcovid-ckc2berq\\lib\\site-packages\\lightgbm\\engine.py:148: UserWarning: Found `num_boost_round` in params. Will use it instead of argument\n",
      "  _log_warning(\"Found `{}` in params. Will use it instead of argument\".format(alias))\n",
      "c:\\users\\roel\\.virtualenvs\\diagcovid-ckc2berq\\lib\\site-packages\\lightgbm\\engine.py:148: UserWarning: Found `num_boost_round` in params. Will use it instead of argument\n",
      "  _log_warning(\"Found `{}` in params. Will use it instead of argument\".format(alias))\n",
      "c:\\users\\roel\\.virtualenvs\\diagcovid-ckc2berq\\lib\\site-packages\\lightgbm\\engine.py:148: UserWarning: Found `num_boost_round` in params. Will use it instead of argument\n",
      "  _log_warning(\"Found `{}` in params. Will use it instead of argument\".format(alias))\n",
      "c:\\users\\roel\\.virtualenvs\\diagcovid-ckc2berq\\lib\\site-packages\\lightgbm\\engine.py:148: UserWarning: Found `num_boost_round` in params. Will use it instead of argument\n",
      "  _log_warning(\"Found `{}` in params. Will use it instead of argument\".format(alias))\n",
      "c:\\users\\roel\\.virtualenvs\\diagcovid-ckc2berq\\lib\\site-packages\\lightgbm\\engine.py:148: UserWarning: Found `num_boost_round` in params. Will use it instead of argument\n",
      "  _log_warning(\"Found `{}` in params. Will use it instead of argument\".format(alias))\n",
      "c:\\users\\roel\\.virtualenvs\\diagcovid-ckc2berq\\lib\\site-packages\\lightgbm\\engine.py:148: UserWarning: Found `num_boost_round` in params. Will use it instead of argument\n",
      "  _log_warning(\"Found `{}` in params. Will use it instead of argument\".format(alias))\n",
      "c:\\users\\roel\\.virtualenvs\\diagcovid-ckc2berq\\lib\\site-packages\\lightgbm\\engine.py:148: UserWarning: Found `num_boost_round` in params. Will use it instead of argument\n",
      "  _log_warning(\"Found `{}` in params. Will use it instead of argument\".format(alias))\n",
      "c:\\users\\roel\\.virtualenvs\\diagcovid-ckc2berq\\lib\\site-packages\\lightgbm\\engine.py:148: UserWarning: Found `num_boost_round` in params. Will use it instead of argument\n",
      "  _log_warning(\"Found `{}` in params. Will use it instead of argument\".format(alias))\n",
      "c:\\users\\roel\\.virtualenvs\\diagcovid-ckc2berq\\lib\\site-packages\\lightgbm\\engine.py:148: UserWarning: Found `num_boost_round` in params. Will use it instead of argument\n",
      "  _log_warning(\"Found `{}` in params. Will use it instead of argument\".format(alias))\n",
      "c:\\users\\roel\\.virtualenvs\\diagcovid-ckc2berq\\lib\\site-packages\\lightgbm\\engine.py:148: UserWarning: Found `num_boost_round` in params. Will use it instead of argument\n",
      "  _log_warning(\"Found `{}` in params. Will use it instead of argument\".format(alias))\n",
      "c:\\users\\roel\\.virtualenvs\\diagcovid-ckc2berq\\lib\\site-packages\\lightgbm\\engine.py:148: UserWarning: Found `num_boost_round` in params. Will use it instead of argument\n",
      "  _log_warning(\"Found `{}` in params. Will use it instead of argument\".format(alias))\n",
      "c:\\users\\roel\\.virtualenvs\\diagcovid-ckc2berq\\lib\\site-packages\\lightgbm\\engine.py:148: UserWarning: Found `num_boost_round` in params. Will use it instead of argument\n",
      "  _log_warning(\"Found `{}` in params. Will use it instead of argument\".format(alias))\n",
      "c:\\users\\roel\\.virtualenvs\\diagcovid-ckc2berq\\lib\\site-packages\\lightgbm\\engine.py:148: UserWarning: Found `num_boost_round` in params. Will use it instead of argument\n",
      "  _log_warning(\"Found `{}` in params. Will use it instead of argument\".format(alias))\n",
      "c:\\users\\roel\\.virtualenvs\\diagcovid-ckc2berq\\lib\\site-packages\\lightgbm\\engine.py:148: UserWarning: Found `num_boost_round` in params. Will use it instead of argument\n",
      "  _log_warning(\"Found `{}` in params. Will use it instead of argument\".format(alias))\n",
      "c:\\users\\roel\\.virtualenvs\\diagcovid-ckc2berq\\lib\\site-packages\\lightgbm\\engine.py:148: UserWarning: Found `num_boost_round` in params. Will use it instead of argument\n",
      "  _log_warning(\"Found `{}` in params. Will use it instead of argument\".format(alias))\n",
      "c:\\users\\roel\\.virtualenvs\\diagcovid-ckc2berq\\lib\\site-packages\\lightgbm\\engine.py:148: UserWarning: Found `num_boost_round` in params. Will use it instead of argument\n",
      "  _log_warning(\"Found `{}` in params. Will use it instead of argument\".format(alias))\n",
      "c:\\users\\roel\\.virtualenvs\\diagcovid-ckc2berq\\lib\\site-packages\\lightgbm\\engine.py:148: UserWarning: Found `num_boost_round` in params. Will use it instead of argument\n",
      "  _log_warning(\"Found `{}` in params. Will use it instead of argument\".format(alias))\n",
      "c:\\users\\roel\\.virtualenvs\\diagcovid-ckc2berq\\lib\\site-packages\\lightgbm\\engine.py:148: UserWarning: Found `num_boost_round` in params. Will use it instead of argument\n",
      "  _log_warning(\"Found `{}` in params. Will use it instead of argument\".format(alias))\n",
      "c:\\users\\roel\\.virtualenvs\\diagcovid-ckc2berq\\lib\\site-packages\\lightgbm\\engine.py:148: UserWarning: Found `num_boost_round` in params. Will use it instead of argument\n",
      "  _log_warning(\"Found `{}` in params. Will use it instead of argument\".format(alias))\n",
      "c:\\users\\roel\\.virtualenvs\\diagcovid-ckc2berq\\lib\\site-packages\\lightgbm\\engine.py:148: UserWarning: Found `num_boost_round` in params. Will use it instead of argument\n",
      "  _log_warning(\"Found `{}` in params. Will use it instead of argument\".format(alias))\n",
      "c:\\users\\roel\\.virtualenvs\\diagcovid-ckc2berq\\lib\\site-packages\\lightgbm\\engine.py:148: UserWarning: Found `num_boost_round` in params. Will use it instead of argument\n",
      "  _log_warning(\"Found `{}` in params. Will use it instead of argument\".format(alias))\n",
      "c:\\users\\roel\\.virtualenvs\\diagcovid-ckc2berq\\lib\\site-packages\\lightgbm\\engine.py:148: UserWarning: Found `num_boost_round` in params. Will use it instead of argument\n",
      "  _log_warning(\"Found `{}` in params. Will use it instead of argument\".format(alias))\n",
      "c:\\users\\roel\\.virtualenvs\\diagcovid-ckc2berq\\lib\\site-packages\\lightgbm\\engine.py:148: UserWarning: Found `num_boost_round` in params. Will use it instead of argument\n",
      "  _log_warning(\"Found `{}` in params. Will use it instead of argument\".format(alias))\n",
      "c:\\users\\roel\\.virtualenvs\\diagcovid-ckc2berq\\lib\\site-packages\\lightgbm\\engine.py:148: UserWarning: Found `num_boost_round` in params. Will use it instead of argument\n",
      "  _log_warning(\"Found `{}` in params. Will use it instead of argument\".format(alias))\n",
      "c:\\users\\roel\\.virtualenvs\\diagcovid-ckc2berq\\lib\\site-packages\\lightgbm\\engine.py:148: UserWarning: Found `num_boost_round` in params. Will use it instead of argument\n",
      "  _log_warning(\"Found `{}` in params. Will use it instead of argument\".format(alias))\n",
      "c:\\users\\roel\\.virtualenvs\\diagcovid-ckc2berq\\lib\\site-packages\\lightgbm\\engine.py:148: UserWarning: Found `num_boost_round` in params. Will use it instead of argument\n",
      "  _log_warning(\"Found `{}` in params. Will use it instead of argument\".format(alias))\n",
      "c:\\users\\roel\\.virtualenvs\\diagcovid-ckc2berq\\lib\\site-packages\\lightgbm\\engine.py:148: UserWarning: Found `num_boost_round` in params. Will use it instead of argument\n",
      "  _log_warning(\"Found `{}` in params. Will use it instead of argument\".format(alias))\n",
      "c:\\users\\roel\\.virtualenvs\\diagcovid-ckc2berq\\lib\\site-packages\\lightgbm\\engine.py:148: UserWarning: Found `num_boost_round` in params. Will use it instead of argument\n",
      "  _log_warning(\"Found `{}` in params. Will use it instead of argument\".format(alias))\n"
     ]
    },
    {
     "data": {
      "text/plain": [
       "StackingClassifier(cv=40,\n",
       "                   estimators=[('rf',\n",
       "                                LGBMClassifier(bagging_fraction=0.969969446918676,\n",
       "                                               bagging_freq=98,\n",
       "                                               boosting_type='rf',\n",
       "                                               extra_trees=True,\n",
       "                                               feature_fraction=0.8603858595972851,\n",
       "                                               feature_fraction_bynode=0.29441259701829886,\n",
       "                                               lambda_l1=2.5131739589822892e-08,\n",
       "                                               lambda_l2=2.752166594463962e-07,\n",
       "                                               learning_rate=2.9524541694763445e-26,\n",
       "                                               linear_tree=False, max_bin=164,\n",
       "                                               max_depth=29,\n",
       "                                               min_child_samples=2,\n",
       "                                               min_gain_to_split=9.76129933432456e-16,\n",
       "                                               min_sum_hessian_in_leaf=0.00036165753698337024,\n",
       "                                               num_boost_round=600,\n",
       "                                               num_leaves=352,\n",
       "                                               path_smooth=2.340263755951201e-09)),\n",
       "                               ('dagg',\n",
       "                                Pipeline(steps=[('simpleimputer',\n",
       "                                                 SimpleImputer()),\n",
       "                                                ('daggingclassifier',\n",
       "                                                 DaggingClassifier(n_estimators=30))])),\n",
       "                               ('boost', LGBMClassifier())])"
      ]
     },
     "execution_count": 169,
     "metadata": {},
     "output_type": "execute_result"
    }
   ],
   "source": [
    "from sklearn.ensemble import VotingClassifier, StackingClassifier\n",
    "vc = StackingClassifier([\n",
    "    ('rf', clf), \n",
    "    ('dagg', dag_clf), \n",
    "    ('boost', boost_clf)\n",
    "], cv=40)\n",
    "vc.fit(X_train, y_train)"
   ]
  },
  {
   "cell_type": "code",
   "execution_count": 186,
   "id": "preceding-gauge",
   "metadata": {},
   "outputs": [
    {
     "data": {
      "text/plain": [
       "0.9021335807050094"
      ]
     },
     "execution_count": 186,
     "metadata": {},
     "output_type": "execute_result"
    }
   ],
   "source": [
    "from sklearn.metrics import roc_auc_score\n",
    "roc_auc_score(y_test, clf.predict_proba(X_test)[:, 1])"
   ]
  },
  {
   "cell_type": "code",
   "execution_count": 9,
   "id": "democratic-aspect",
   "metadata": {},
   "outputs": [
    {
     "data": {
      "text/plain": [
       "0                                             record_id\n",
       "1                                institute_abbreviation\n",
       "2                              dem_pat_age_at_inclusion\n",
       "3                                        dem_pat_gender\n",
       "4                                           dem_pat_BMI\n",
       "5                         med_hist_other#Cardiovascular\n",
       "6                                     med_hist_other#DM\n",
       "7                                med_hist_other#Obesity\n",
       "8                    med_hist_other#Pulmonary_Pathology\n",
       "9                       med_hist_other#Immunodeficiency\n",
       "10                            med_hist_other#Malignancy\n",
       "11                                 med_hist_other#Other\n",
       "12                                             adm_date\n",
       "13                                             adm_dept\n",
       "14                                adm_symptoms_duration\n",
       "15                  adm_presenting_symptoms#Fever__38_C\n",
       "16    adm_presenting_symptoms#Cough_without_sputum_p...\n",
       "17    adm_presenting_symptoms#Shortness_of_breath_dy...\n",
       "18                   adm_presenting_symptoms#Chest_pain\n",
       "19               adm_presenting_symptoms#Abdominal_pain\n",
       "20                                        adm_resp_rate\n",
       "21                                              adm_sat\n",
       "22                                              adm_lym\n",
       "23                                              adm_crp\n",
       "24                                         adm_ferritin\n",
       "25                                           adm_ddimer\n",
       "26                                              adm_LDH\n",
       "27                                    adm_procalcitonin\n",
       "28                                 diagn_first_PCR_date\n",
       "29                               diagn_first_PCR_result\n",
       "30                             diagn_first_PCR_material\n",
       "31                                diagn_second_PCR_date\n",
       "32                              diagn_second_PCR_result\n",
       "33                            diagn_second_PCR_material\n",
       "34                                 diagn_third_PCR_date\n",
       "35                               diagn_third_PCR_result\n",
       "36                             diagn_third_PCR_material\n",
       "37                                       diagn_serology\n",
       "38                                  diagn_serology_date\n",
       "39                            diagn_serology_result_igg\n",
       "40                            diagn_serology_result_igm\n",
       "41                               diagn_any_PCR_positive\n",
       "42                                        diagn_CT_date\n",
       "43                                         diagn_CT_DLP\n",
       "44                                          diagn_CT_kv\n",
       "45                                      diagn_CT_CORADS\n",
       "46                               diagn_CT_CORADS_expert\n",
       "47                                     diagn_CT_pattern\n",
       "48                              diagn_CT_severity_score\n",
       "49                         diagn_CT_comorbidities_other\n",
       "50                                    diagn_CT_followup\n",
       "51                                     adm_case_contact\n",
       "52                                           ref_oxygen\n",
       "53                                        ref_unexdeath\n",
       "54                                      COVID_diagnosis\n",
       "55                                       COVID_and_prob\n",
       "56                               COVID_and_prob_and_pos\n",
       "57                                        alt_diagnosis\n",
       "58                               alt_diagnosis_specific\n",
       "59                                   alt_diagnosis_text\n",
       "dtype: object"
      ]
     },
     "execution_count": 9,
     "metadata": {},
     "output_type": "execute_result"
    }
   ],
   "source": [
    "pd.Series(df.columns).head(60)"
   ]
  },
  {
   "cell_type": "code",
   "execution_count": 5,
   "id": "secondary-split",
   "metadata": {},
   "outputs": [
    {
     "data": {
      "text/html": [
       "<div>\n",
       "<style scoped>\n",
       "    .dataframe tbody tr th:only-of-type {\n",
       "        vertical-align: middle;\n",
       "    }\n",
       "\n",
       "    .dataframe tbody tr th {\n",
       "        vertical-align: top;\n",
       "    }\n",
       "\n",
       "    .dataframe thead th {\n",
       "        text-align: right;\n",
       "    }\n",
       "</style>\n",
       "<table border=\"1\" class=\"dataframe\">\n",
       "  <thead>\n",
       "    <tr style=\"text-align: right;\">\n",
       "      <th></th>\n",
       "      <th>record_id</th>\n",
       "      <th>institute_abbreviation</th>\n",
       "      <th>dem_pat_age_at_inclusion</th>\n",
       "      <th>dem_pat_gender</th>\n",
       "      <th>dem_pat_BMI</th>\n",
       "      <th>med_hist_other#Cardiovascular</th>\n",
       "      <th>med_hist_other#DM</th>\n",
       "      <th>med_hist_other#Obesity</th>\n",
       "      <th>med_hist_other#Pulmonary_Pathology</th>\n",
       "      <th>med_hist_other#Immunodeficiency</th>\n",
       "      <th>...</th>\n",
       "      <th>f2_CT_CORADS_expert</th>\n",
       "      <th>f2_CT_pattern</th>\n",
       "      <th>f2_CT_severity_score</th>\n",
       "      <th>f2_CT_comorbidities_other</th>\n",
       "      <th>f2_lym</th>\n",
       "      <th>f2_crp</th>\n",
       "      <th>f2_ferritin</th>\n",
       "      <th>f2_ddimer</th>\n",
       "      <th>f2_LDH</th>\n",
       "      <th>f2_procalcitonin</th>\n",
       "    </tr>\n",
       "  </thead>\n",
       "  <tbody>\n",
       "    <tr>\n",
       "      <th>0</th>\n",
       "      <td>10057</td>\n",
       "      <td>RUNMC</td>\n",
       "      <td>73</td>\n",
       "      <td>1</td>\n",
       "      <td>22.7</td>\n",
       "      <td>1</td>\n",
       "      <td>1</td>\n",
       "      <td>0</td>\n",
       "      <td>1</td>\n",
       "      <td>0</td>\n",
       "      <td>...</td>\n",
       "      <td>NaN</td>\n",
       "      <td>NaN</td>\n",
       "      <td>NaN</td>\n",
       "      <td>NaN</td>\n",
       "      <td>NaN</td>\n",
       "      <td>NaN</td>\n",
       "      <td>NaN</td>\n",
       "      <td>NaN</td>\n",
       "      <td>NaN</td>\n",
       "      <td>NaN</td>\n",
       "    </tr>\n",
       "    <tr>\n",
       "      <th>1</th>\n",
       "      <td>10059</td>\n",
       "      <td>RUNMC</td>\n",
       "      <td>82</td>\n",
       "      <td>1</td>\n",
       "      <td>26.6</td>\n",
       "      <td>1</td>\n",
       "      <td>1</td>\n",
       "      <td>0</td>\n",
       "      <td>1</td>\n",
       "      <td>0</td>\n",
       "      <td>...</td>\n",
       "      <td>NaN</td>\n",
       "      <td>NaN</td>\n",
       "      <td>NaN</td>\n",
       "      <td>NaN</td>\n",
       "      <td>NaN</td>\n",
       "      <td>NaN</td>\n",
       "      <td>NaN</td>\n",
       "      <td>NaN</td>\n",
       "      <td>NaN</td>\n",
       "      <td>NaN</td>\n",
       "    </tr>\n",
       "    <tr>\n",
       "      <th>2</th>\n",
       "      <td>10063</td>\n",
       "      <td>RUNMC</td>\n",
       "      <td>73</td>\n",
       "      <td>1</td>\n",
       "      <td>NaN</td>\n",
       "      <td>0</td>\n",
       "      <td>0</td>\n",
       "      <td>0</td>\n",
       "      <td>1</td>\n",
       "      <td>0</td>\n",
       "      <td>...</td>\n",
       "      <td>NaN</td>\n",
       "      <td>NaN</td>\n",
       "      <td>NaN</td>\n",
       "      <td>NaN</td>\n",
       "      <td>NaN</td>\n",
       "      <td>NaN</td>\n",
       "      <td>NaN</td>\n",
       "      <td>NaN</td>\n",
       "      <td>NaN</td>\n",
       "      <td>NaN</td>\n",
       "    </tr>\n",
       "    <tr>\n",
       "      <th>3</th>\n",
       "      <td>10061</td>\n",
       "      <td>RUNMC</td>\n",
       "      <td>47</td>\n",
       "      <td>1</td>\n",
       "      <td>25.4</td>\n",
       "      <td>0</td>\n",
       "      <td>0</td>\n",
       "      <td>0</td>\n",
       "      <td>0</td>\n",
       "      <td>0</td>\n",
       "      <td>...</td>\n",
       "      <td>NaN</td>\n",
       "      <td>NaN</td>\n",
       "      <td>NaN</td>\n",
       "      <td>NaN</td>\n",
       "      <td>NaN</td>\n",
       "      <td>NaN</td>\n",
       "      <td>NaN</td>\n",
       "      <td>NaN</td>\n",
       "      <td>NaN</td>\n",
       "      <td>NaN</td>\n",
       "    </tr>\n",
       "    <tr>\n",
       "      <th>4</th>\n",
       "      <td>10062</td>\n",
       "      <td>RUNMC</td>\n",
       "      <td>82</td>\n",
       "      <td>1</td>\n",
       "      <td>29.4</td>\n",
       "      <td>0</td>\n",
       "      <td>0</td>\n",
       "      <td>0</td>\n",
       "      <td>0</td>\n",
       "      <td>0</td>\n",
       "      <td>...</td>\n",
       "      <td>NaN</td>\n",
       "      <td>NaN</td>\n",
       "      <td>NaN</td>\n",
       "      <td>NaN</td>\n",
       "      <td>NaN</td>\n",
       "      <td>NaN</td>\n",
       "      <td>NaN</td>\n",
       "      <td>NaN</td>\n",
       "      <td>NaN</td>\n",
       "      <td>NaN</td>\n",
       "    </tr>\n",
       "    <tr>\n",
       "      <th>...</th>\n",
       "      <td>...</td>\n",
       "      <td>...</td>\n",
       "      <td>...</td>\n",
       "      <td>...</td>\n",
       "      <td>...</td>\n",
       "      <td>...</td>\n",
       "      <td>...</td>\n",
       "      <td>...</td>\n",
       "      <td>...</td>\n",
       "      <td>...</td>\n",
       "      <td>...</td>\n",
       "      <td>...</td>\n",
       "      <td>...</td>\n",
       "      <td>...</td>\n",
       "      <td>...</td>\n",
       "      <td>...</td>\n",
       "      <td>...</td>\n",
       "      <td>...</td>\n",
       "      <td>...</td>\n",
       "      <td>...</td>\n",
       "      <td>...</td>\n",
       "    </tr>\n",
       "    <tr>\n",
       "      <th>429</th>\n",
       "      <td>CWZ-CORADS-258</td>\n",
       "      <td>CWZ</td>\n",
       "      <td>65</td>\n",
       "      <td>2</td>\n",
       "      <td>NaN</td>\n",
       "      <td>0</td>\n",
       "      <td>0</td>\n",
       "      <td>0</td>\n",
       "      <td>1</td>\n",
       "      <td>0</td>\n",
       "      <td>...</td>\n",
       "      <td>NaN</td>\n",
       "      <td>NaN</td>\n",
       "      <td>NaN</td>\n",
       "      <td>NaN</td>\n",
       "      <td>NaN</td>\n",
       "      <td>NaN</td>\n",
       "      <td>NaN</td>\n",
       "      <td>NaN</td>\n",
       "      <td>NaN</td>\n",
       "      <td>NaN</td>\n",
       "    </tr>\n",
       "    <tr>\n",
       "      <th>430</th>\n",
       "      <td>CWZ-CORADS-259</td>\n",
       "      <td>CWZ</td>\n",
       "      <td>68</td>\n",
       "      <td>1</td>\n",
       "      <td>NaN</td>\n",
       "      <td>0</td>\n",
       "      <td>0</td>\n",
       "      <td>0</td>\n",
       "      <td>0</td>\n",
       "      <td>0</td>\n",
       "      <td>...</td>\n",
       "      <td>NaN</td>\n",
       "      <td>NaN</td>\n",
       "      <td>NaN</td>\n",
       "      <td>NaN</td>\n",
       "      <td>NaN</td>\n",
       "      <td>NaN</td>\n",
       "      <td>NaN</td>\n",
       "      <td>NaN</td>\n",
       "      <td>NaN</td>\n",
       "      <td>NaN</td>\n",
       "    </tr>\n",
       "    <tr>\n",
       "      <th>431</th>\n",
       "      <td>CWZ-CORADS-260</td>\n",
       "      <td>CWZ</td>\n",
       "      <td>75</td>\n",
       "      <td>2</td>\n",
       "      <td>NaN</td>\n",
       "      <td>1</td>\n",
       "      <td>1</td>\n",
       "      <td>0</td>\n",
       "      <td>0</td>\n",
       "      <td>0</td>\n",
       "      <td>...</td>\n",
       "      <td>NaN</td>\n",
       "      <td>NaN</td>\n",
       "      <td>NaN</td>\n",
       "      <td>NaN</td>\n",
       "      <td>NaN</td>\n",
       "      <td>NaN</td>\n",
       "      <td>NaN</td>\n",
       "      <td>NaN</td>\n",
       "      <td>NaN</td>\n",
       "      <td>NaN</td>\n",
       "    </tr>\n",
       "    <tr>\n",
       "      <th>432</th>\n",
       "      <td>CWZ-CORADS-261</td>\n",
       "      <td>CWZ</td>\n",
       "      <td>51</td>\n",
       "      <td>1</td>\n",
       "      <td>NaN</td>\n",
       "      <td>0</td>\n",
       "      <td>0</td>\n",
       "      <td>0</td>\n",
       "      <td>0</td>\n",
       "      <td>0</td>\n",
       "      <td>...</td>\n",
       "      <td>NaN</td>\n",
       "      <td>NaN</td>\n",
       "      <td>NaN</td>\n",
       "      <td>NaN</td>\n",
       "      <td>NaN</td>\n",
       "      <td>NaN</td>\n",
       "      <td>NaN</td>\n",
       "      <td>NaN</td>\n",
       "      <td>NaN</td>\n",
       "      <td>NaN</td>\n",
       "    </tr>\n",
       "    <tr>\n",
       "      <th>433</th>\n",
       "      <td>CWZ-CORADS-262</td>\n",
       "      <td>CWZ</td>\n",
       "      <td>81</td>\n",
       "      <td>2</td>\n",
       "      <td>27.0</td>\n",
       "      <td>1</td>\n",
       "      <td>0</td>\n",
       "      <td>0</td>\n",
       "      <td>0</td>\n",
       "      <td>0</td>\n",
       "      <td>...</td>\n",
       "      <td>NaN</td>\n",
       "      <td>NaN</td>\n",
       "      <td>NaN</td>\n",
       "      <td>NaN</td>\n",
       "      <td>NaN</td>\n",
       "      <td>NaN</td>\n",
       "      <td>NaN</td>\n",
       "      <td>NaN</td>\n",
       "      <td>NaN</td>\n",
       "      <td>NaN</td>\n",
       "    </tr>\n",
       "  </tbody>\n",
       "</table>\n",
       "<p>434 rows × 93 columns</p>\n",
       "</div>"
      ],
      "text/plain": [
       "          record_id institute_abbreviation  dem_pat_age_at_inclusion  \\\n",
       "0             10057                  RUNMC                        73   \n",
       "1             10059                  RUNMC                        82   \n",
       "2             10063                  RUNMC                        73   \n",
       "3             10061                  RUNMC                        47   \n",
       "4             10062                  RUNMC                        82   \n",
       "..              ...                    ...                       ...   \n",
       "429  CWZ-CORADS-258                    CWZ                        65   \n",
       "430  CWZ-CORADS-259                    CWZ                        68   \n",
       "431  CWZ-CORADS-260                    CWZ                        75   \n",
       "432  CWZ-CORADS-261                    CWZ                        51   \n",
       "433  CWZ-CORADS-262                    CWZ                        81   \n",
       "\n",
       "     dem_pat_gender  dem_pat_BMI  med_hist_other#Cardiovascular  \\\n",
       "0                 1         22.7                              1   \n",
       "1                 1         26.6                              1   \n",
       "2                 1          NaN                              0   \n",
       "3                 1         25.4                              0   \n",
       "4                 1         29.4                              0   \n",
       "..              ...          ...                            ...   \n",
       "429               2          NaN                              0   \n",
       "430               1          NaN                              0   \n",
       "431               2          NaN                              1   \n",
       "432               1          NaN                              0   \n",
       "433               2         27.0                              1   \n",
       "\n",
       "     med_hist_other#DM  med_hist_other#Obesity  \\\n",
       "0                    1                       0   \n",
       "1                    1                       0   \n",
       "2                    0                       0   \n",
       "3                    0                       0   \n",
       "4                    0                       0   \n",
       "..                 ...                     ...   \n",
       "429                  0                       0   \n",
       "430                  0                       0   \n",
       "431                  1                       0   \n",
       "432                  0                       0   \n",
       "433                  0                       0   \n",
       "\n",
       "     med_hist_other#Pulmonary_Pathology  med_hist_other#Immunodeficiency  ...  \\\n",
       "0                                     1                                0  ...   \n",
       "1                                     1                                0  ...   \n",
       "2                                     1                                0  ...   \n",
       "3                                     0                                0  ...   \n",
       "4                                     0                                0  ...   \n",
       "..                                  ...                              ...  ...   \n",
       "429                                   1                                0  ...   \n",
       "430                                   0                                0  ...   \n",
       "431                                   0                                0  ...   \n",
       "432                                   0                                0  ...   \n",
       "433                                   0                                0  ...   \n",
       "\n",
       "     f2_CT_CORADS_expert  f2_CT_pattern f2_CT_severity_score  \\\n",
       "0                    NaN            NaN                  NaN   \n",
       "1                    NaN            NaN                  NaN   \n",
       "2                    NaN            NaN                  NaN   \n",
       "3                    NaN            NaN                  NaN   \n",
       "4                    NaN            NaN                  NaN   \n",
       "..                   ...            ...                  ...   \n",
       "429                  NaN            NaN                  NaN   \n",
       "430                  NaN            NaN                  NaN   \n",
       "431                  NaN            NaN                  NaN   \n",
       "432                  NaN            NaN                  NaN   \n",
       "433                  NaN            NaN                  NaN   \n",
       "\n",
       "     f2_CT_comorbidities_other  f2_lym  f2_crp  f2_ferritin  f2_ddimer  \\\n",
       "0                          NaN     NaN     NaN          NaN        NaN   \n",
       "1                          NaN     NaN     NaN          NaN        NaN   \n",
       "2                          NaN     NaN     NaN          NaN        NaN   \n",
       "3                          NaN     NaN     NaN          NaN        NaN   \n",
       "4                          NaN     NaN     NaN          NaN        NaN   \n",
       "..                         ...     ...     ...          ...        ...   \n",
       "429                        NaN     NaN     NaN          NaN        NaN   \n",
       "430                        NaN     NaN     NaN          NaN        NaN   \n",
       "431                        NaN     NaN     NaN          NaN        NaN   \n",
       "432                        NaN     NaN     NaN          NaN        NaN   \n",
       "433                        NaN     NaN     NaN          NaN        NaN   \n",
       "\n",
       "     f2_LDH  f2_procalcitonin  \n",
       "0       NaN               NaN  \n",
       "1       NaN               NaN  \n",
       "2       NaN               NaN  \n",
       "3       NaN               NaN  \n",
       "4       NaN               NaN  \n",
       "..      ...               ...  \n",
       "429     NaN               NaN  \n",
       "430     NaN               NaN  \n",
       "431     NaN               NaN  \n",
       "432     NaN               NaN  \n",
       "433     NaN               NaN  \n",
       "\n",
       "[434 rows x 93 columns]"
      ]
     },
     "execution_count": 5,
     "metadata": {},
     "output_type": "execute_result"
    }
   ],
   "source": [
    "df.iloc[:, 2:]"
   ]
  },
  {
   "cell_type": "code",
   "execution_count": null,
   "id": "thirty-palmer",
   "metadata": {},
   "outputs": [],
   "source": []
  }
 ],
 "metadata": {
  "kernelspec": {
   "display_name": "Python 3",
   "language": "python",
   "name": "python3"
  },
  "language_info": {
   "codemirror_mode": {
    "name": "ipython",
    "version": 3
   },
   "file_extension": ".py",
   "mimetype": "text/x-python",
   "name": "python",
   "nbconvert_exporter": "python",
   "pygments_lexer": "ipython3",
   "version": "3.7.9"
  }
 },
 "nbformat": 4,
 "nbformat_minor": 5
}
