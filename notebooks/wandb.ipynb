{
 "cells": [
  {
   "cell_type": "code",
   "execution_count": 24,
   "id": "alleged-occasions",
   "metadata": {},
   "outputs": [],
   "source": [
    "import wandb\n",
    "import pandas as pd\n",
    "from lightgbm.sklearn import LGBMClassifier\n",
    "from sklearn.model_selection import StratifiedKFold, PredefinedSplit, cross_validate"
   ]
  },
  {
   "cell_type": "code",
   "execution_count": 25,
   "id": "outdoor-broadcasting",
   "metadata": {},
   "outputs": [],
   "source": [
    "df = pd.read_pickle('../data/processed/ictcf.pkl')"
   ]
  },
  {
   "cell_type": "code",
   "execution_count": 26,
   "id": "indonesian-tiger",
   "metadata": {},
   "outputs": [],
   "source": [
    "val_cv = StratifiedKFold()\n",
    "test_cv = PredefinedSplit((df.Meta.Metadata_Hospital == 'Union').astype(int)-1)"
   ]
  },
  {
   "cell_type": "code",
   "execution_count": 27,
   "id": "entire-caribbean",
   "metadata": {},
   "outputs": [],
   "source": [
    "X, y = df.Input, df.Target.Metadata_PCR"
   ]
  },
  {
   "cell_type": "code",
   "execution_count": 28,
   "id": "annoying-figure",
   "metadata": {},
   "outputs": [],
   "source": [
    "train_index, test_index = list(test_cv.split(X, y))[0]\n",
    "X_train, X_test = X.iloc[train_index], X.iloc[test_index]\n",
    "y_train, y_test = y.iloc[train_index], y.iloc[test_index]"
   ]
  },
  {
   "cell_type": "code",
   "execution_count": 35,
   "id": "trying-shannon",
   "metadata": {},
   "outputs": [
    {
     "name": "stderr",
     "output_type": "stream",
     "text": [
      "c:\\users\\roel\\.virtualenvs\\diagcovid-ckc2berq\\lib\\site-packages\\sklearn\\model_selection\\_validation.py:614: FitFailedWarning: Estimator fit failed. The score on this train-test partition for these parameters will be set to 0.000000. Details: \n",
      "Traceback (most recent call last):\n",
      "  File \"c:\\users\\roel\\.virtualenvs\\diagcovid-ckc2berq\\lib\\site-packages\\sklearn\\model_selection\\_validation.py\", line 593, in _fit_and_score\n",
      "    estimator.fit(X_train, y_train, **fit_params)\n",
      "  File \"c:\\users\\roel\\.virtualenvs\\diagcovid-ckc2berq\\lib\\site-packages\\lightgbm\\sklearn.py\", line 895, in fit\n",
      "    callbacks=callbacks, init_model=init_model)\n",
      "  File \"c:\\users\\roel\\.virtualenvs\\diagcovid-ckc2berq\\lib\\site-packages\\lightgbm\\sklearn.py\", line 688, in fit\n",
      "    callbacks=callbacks, init_model=init_model)\n",
      "  File \"c:\\users\\roel\\.virtualenvs\\diagcovid-ckc2berq\\lib\\site-packages\\lightgbm\\engine.py\", line 228, in train\n",
      "    booster = Booster(params=params, train_set=train_set)\n",
      "  File \"c:\\users\\roel\\.virtualenvs\\diagcovid-ckc2berq\\lib\\site-packages\\lightgbm\\basic.py\", line 2229, in __init__\n",
      "    train_set.construct()\n",
      "  File \"c:\\users\\roel\\.virtualenvs\\diagcovid-ckc2berq\\lib\\site-packages\\lightgbm\\basic.py\", line 1472, in construct\n",
      "    categorical_feature=self.categorical_feature, params=self.params)\n",
      "  File \"c:\\users\\roel\\.virtualenvs\\diagcovid-ckc2berq\\lib\\site-packages\\lightgbm\\basic.py\", line 1241, in _lazy_init\n",
      "    .format(type(name).__name__, name))\n",
      "TypeError: Wrong type(tuple) or unknown name(('Clinical', 'Metadata_Sex')) in categorical_feature\n",
      "\n",
      "  FitFailedWarning)\n"
     ]
    }
   ],
   "source": [
    "results = cross_validate(LGBMClassifier(), X, y, cv=test_cv, error_score=0.0,\n",
    "                             return_estimator=True, fit_params=dict(\n",
    "                                             eval_set=[(X_train, y_train), (X_test, y_test)],\n",
    "                                             eval_names=['train', 'test'],\n",
    "                                             eval_metric=['logloss']))"
   ]
  },
  {
   "cell_type": "code",
   "execution_count": 13,
   "id": "continuous-symposium",
   "metadata": {},
   "outputs": [
    {
     "ename": "NameError",
     "evalue": "name 'train_cv' is not defined",
     "output_type": "error",
     "traceback": [
      "\u001b[1;31m---------------------------------------------------------------------------\u001b[0m",
      "\u001b[1;31mNameError\u001b[0m                                 Traceback (most recent call last)",
      "\u001b[1;32m<ipython-input-13-60930d1cf321>\u001b[0m in \u001b[0;36m<module>\u001b[1;34m\u001b[0m\n\u001b[1;32m----> 1\u001b[1;33m \u001b[0mtrain_cv\u001b[0m\u001b[1;33m\u001b[0m\u001b[1;33m\u001b[0m\u001b[0m\n\u001b[0m",
      "\u001b[1;31mNameError\u001b[0m: name 'train_cv' is not defined"
     ]
    }
   ],
   "source": [
    "for train_ind, test_ind in test_cv.split(X, y):\n",
    "    X_train, y_train = X[train_ind], y[train_ind]\n",
    "    X_test, y_test = X[test_ind], y[test_in]\n",
    "        \n",
    "    clf = LGBMClassifier(n_jobs=-1)\n",
    "    clf.fit(X_train, y_train, \n",
    "            eval_set=[(X_train, y_train), (X_test, y_test)], \n",
    "            eval_names=['train', 'test'], verbose=-1)\n",
    "        "
   ]
  },
  {
   "cell_type": "code",
   "execution_count": 13,
   "id": "maritime-conjunction",
   "metadata": {},
   "outputs": [
    {
     "ename": "NameError",
     "evalue": "name 'train_cv' is not defined",
     "output_type": "error",
     "traceback": [
      "\u001b[1;31m---------------------------------------------------------------------------\u001b[0m",
      "\u001b[1;31mNameError\u001b[0m                                 Traceback (most recent call last)",
      "\u001b[1;32m<ipython-input-13-60930d1cf321>\u001b[0m in \u001b[0;36m<module>\u001b[1;34m\u001b[0m\n\u001b[1;32m----> 1\u001b[1;33m \u001b[0mtrain_cv\u001b[0m\u001b[1;33m\u001b[0m\u001b[1;33m\u001b[0m\u001b[0m\n\u001b[0m",
      "\u001b[1;31mNameError\u001b[0m: name 'train_cv' is not defined"
     ]
    }
   ],
   "source": [
    "for train_ind, test_ind in test_cv.split(X, y):\n",
    "    X_train, y_train = X[train_ind], y[train_ind]\n",
    "    X_test, y_test = X[test_ind], y[test_in]\n",
    "    \n",
    "    for train_ind, test_ind in val_cv.split(X, y):\n",
    "        X_train, y_train = X_train[train_ind], y_train[train_ind]\n",
    "        X_val, y_val = X_train[test_ind], y_train[test_in]\n",
    "        \n",
    "        clf = LGBMClassifier(n_jobs=-1)\n",
    "        clf.fit(X_train, y_train, \n",
    "                eval_set=[(X_train, y_train), (X_val, y_val), (X_test, y_test)], \n",
    "                eval_names=['train', 'val', 'test'], verbose=-1)\n",
    "        \n",
    "        "
   ]
  },
  {
   "cell_type": "code",
   "execution_count": 11,
   "id": "genuine-composition",
   "metadata": {},
   "outputs": [
    {
     "data": {
      "text/plain": [
       "0       1\n",
       "1       1\n",
       "2       1\n",
       "3       1\n",
       "4       1\n",
       "       ..\n",
       "1516    1\n",
       "1517    1\n",
       "1518    1\n",
       "1519    1\n",
       "1520    1\n",
       "Name: Metadata_Hospital, Length: 1521, dtype: int32"
      ]
     },
     "execution_count": 11,
     "metadata": {},
     "output_type": "execute_result"
    }
   ],
   "source": [
    "(df.Meta.Metadata_Hospital == 'Union').astype(int)"
   ]
  },
  {
   "cell_type": "code",
   "execution_count": 16,
   "id": "champion-atlanta",
   "metadata": {},
   "outputs": [],
   "source": [
    "from wandb.integration import lightgbm"
   ]
  },
  {
   "cell_type": "code",
   "execution_count": 17,
   "id": "mediterranean-surname",
   "metadata": {},
   "outputs": [
    {
     "data": {
      "text/plain": [
       "<module 'wandb.integration.lightgbm' from 'c:\\\\users\\\\roel\\\\.virtualenvs\\\\diagcovid-ckc2berq\\\\lib\\\\site-packages\\\\wandb\\\\integration\\\\lightgbm\\\\__init__.py'>"
      ]
     },
     "execution_count": 17,
     "metadata": {},
     "output_type": "execute_result"
    }
   ],
   "source": [
    "lightgbm.wandb_callback()"
   ]
  },
  {
   "cell_type": "code",
   "execution_count": null,
   "id": "japanese-ready",
   "metadata": {},
   "outputs": [],
   "source": []
  }
 ],
 "metadata": {
  "kernelspec": {
   "display_name": "Python 3",
   "language": "python",
   "name": "python3"
  },
  "language_info": {
   "codemirror_mode": {
    "name": "ipython",
    "version": 3
   },
   "file_extension": ".py",
   "mimetype": "text/x-python",
   "name": "python",
   "nbconvert_exporter": "python",
   "pygments_lexer": "ipython3",
   "version": "3.7.9"
  }
 },
 "nbformat": 4,
 "nbformat_minor": 5
}
