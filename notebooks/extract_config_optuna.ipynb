{
 "cells": [
  {
   "cell_type": "code",
   "execution_count": 17,
   "id": "contrary-witch",
   "metadata": {},
   "outputs": [],
   "source": [
    "import joblib\n",
    "import numpy as np\n",
    "import yaml\n",
    "import os"
   ]
  },
  {
   "cell_type": "code",
   "execution_count": 28,
   "id": "dressed-strategy",
   "metadata": {},
   "outputs": [],
   "source": [
    "path = '../experiments/within_dataset_hyperopt/within_dataset_hyperopt__gbdt.pkl'\n",
    "s = joblib.load(path)"
   ]
  },
  {
   "cell_type": "code",
   "execution_count": 29,
   "id": "alleged-traveler",
   "metadata": {},
   "outputs": [
    {
     "data": {
      "text/plain": [
       "{'estimator__n_estimators': 100,\n",
       " 'estimator__learning_rate': 0.1,\n",
       " 'estimator__max_depth': 0,\n",
       " 'estimator__num_leaves': 31}"
      ]
     },
     "execution_count": 29,
     "metadata": {},
     "output_type": "execute_result"
    }
   ],
   "source": [
    "s.best_params"
   ]
  },
  {
   "cell_type": "code",
   "execution_count": 19,
   "id": "searching-naples",
   "metadata": {},
   "outputs": [],
   "source": [
    "path_to_file, filename = os.path.split(path)"
   ]
  },
  {
   "cell_type": "code",
   "execution_count": 20,
   "id": "cross-spell",
   "metadata": {},
   "outputs": [],
   "source": [
    "path_config = path_to_file + '/' + filename.split('__')[1].split('.')[0] + '.yaml'"
   ]
  },
  {
   "cell_type": "code",
   "execution_count": 35,
   "id": "associate-phoenix",
   "metadata": {},
   "outputs": [],
   "source": [
    "with open(path_config) as f:\n",
    "    c = yaml.load(f, Loader=yaml.SafeLoader)"
   ]
  },
  {
   "cell_type": "code",
   "execution_count": 37,
   "id": "hollow-assault",
   "metadata": {},
   "outputs": [],
   "source": [
    "for k, v in s.best_params.items():\n",
    "    keys = k.split('__')\n",
    "    current = c['parameters']\n",
    "    for key in keys[:-1]:\n",
    "        current = current[key]\n",
    "    current[keys[-1]] = v"
   ]
  },
  {
   "cell_type": "code",
   "execution_count": 40,
   "id": "internal-dependence",
   "metadata": {},
   "outputs": [
    {
     "ename": "KeyError",
     "evalue": "'n_trials'",
     "output_type": "error",
     "traceback": [
      "\u001b[1;31m---------------------------------------------------------------------------\u001b[0m",
      "\u001b[1;31mKeyError\u001b[0m                                  Traceback (most recent call last)",
      "\u001b[1;32m<ipython-input-40-090fef7a15a9>\u001b[0m in \u001b[0;36m<module>\u001b[1;34m\u001b[0m\n\u001b[1;32m----> 1\u001b[1;33m \u001b[1;32mdel\u001b[0m \u001b[0mc\u001b[0m\u001b[1;33m[\u001b[0m\u001b[1;34m'n_trials'\u001b[0m\u001b[1;33m]\u001b[0m\u001b[1;33m\u001b[0m\u001b[1;33m\u001b[0m\u001b[0m\n\u001b[0m",
      "\u001b[1;31mKeyError\u001b[0m: 'n_trials'"
     ]
    }
   ],
   "source": [
    "del c['n_trials']"
   ]
  },
  {
   "cell_type": "code",
   "execution_count": 41,
   "id": "tired-lender",
   "metadata": {},
   "outputs": [
    {
     "data": {
      "text/plain": [
       "{'dataset': {'name': 'ictcf',\n",
       "  'target': 'PCR',\n",
       "  'should_aggregate': False,\n",
       "  'use_visual_features': True,\n",
       "  'use_clinical_features': True,\n",
       "  'feature_value_fraction_required': 0.16,\n",
       "  'metrics': ['accuracy', 'roc_auc'],\n",
       "  'validation': {'cv': {'n_folds': 5, 'n_repeats': 1}, 'metric': 'roc_auc'},\n",
       "  'test': {'cv': {'part_name': 'cohort', 'part': 'c2'}}},\n",
       " 'pipeline': {'estimator_type': 'LGBM',\n",
       "  'n_bagging': 100,\n",
       "  'imputation': {'categorical': 'NONE', 'numeric': 'NONE'},\n",
       "  'feature_selection': {'fs_type': 'NONE'}},\n",
       " 'parameters': {'estimator': {'boosting': 'gbdt',\n",
       "   'n_estimators': 100,\n",
       "   'learning_rate': 0.1,\n",
       "   'max_depth': 0,\n",
       "   'num_leaves': 31}}}"
      ]
     },
     "execution_count": 41,
     "metadata": {},
     "output_type": "execute_result"
    }
   ],
   "source": [
    "c"
   ]
  },
  {
   "cell_type": "code",
   "execution_count": 34,
   "id": "funky-croatia",
   "metadata": {},
   "outputs": [
    {
     "data": {
      "text/plain": [
       "{'estimator__n_estimators': 100,\n",
       " 'estimator__learning_rate': 0.1,\n",
       " 'estimator__max_depth': 0,\n",
       " 'estimator__num_leaves': 31}"
      ]
     },
     "execution_count": 34,
     "metadata": {},
     "output_type": "execute_result"
    }
   ],
   "source": [
    "s.best_params"
   ]
  },
  {
   "cell_type": "code",
   "execution_count": null,
   "id": "mobile-concentrate",
   "metadata": {},
   "outputs": [],
   "source": []
  }
 ],
 "metadata": {
  "kernelspec": {
   "display_name": "Python 3",
   "language": "python",
   "name": "python3"
  },
  "language_info": {
   "codemirror_mode": {
    "name": "ipython",
    "version": 3
   },
   "file_extension": ".py",
   "mimetype": "text/x-python",
   "name": "python",
   "nbconvert_exporter": "python",
   "pygments_lexer": "ipython3",
   "version": "3.7.9"
  }
 },
 "nbformat": 4,
 "nbformat_minor": 5
}
