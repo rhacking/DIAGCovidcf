{
 "cells": [
  {
   "cell_type": "code",
   "execution_count": 45,
   "id": "friendly-adapter",
   "metadata": {},
   "outputs": [],
   "source": [
    "from pathlib import Path\n",
    "from shutil import copyfile, copytree, rmtree\n",
    "import os"
   ]
  },
  {
   "cell_type": "code",
   "execution_count": 46,
   "id": "virtual-token",
   "metadata": {},
   "outputs": [],
   "source": [
    "experiments = Path('../experiments/')"
   ]
  },
  {
   "cell_type": "code",
   "execution_count": 47,
   "id": "listed-concentration",
   "metadata": {},
   "outputs": [],
   "source": [
    "def extract_results(path: Path, prefix=''):\n",
    "    results_path = Path('../results/'+prefix)\n",
    "    results_path.mkdir(exist_ok=True, parents=True)\n",
    "    for entry in path.iterdir():\n",
    "        if entry.is_dir():\n",
    "            if entry.name == 'results':\n",
    "                for result_entry in entry.iterdir():\n",
    "                    copyfile(str(result_entry), os.path.join(results_path, result_entry.name))\n",
    "            else:\n",
    "                extract_results(entry, os.path.join(prefix, entry.name))"
   ]
  },
  {
   "cell_type": "code",
   "execution_count": 48,
   "id": "respiratory-hollywood",
   "metadata": {},
   "outputs": [],
   "source": [
    "extract_results(experiments, prefix='')"
   ]
  },
  {
   "cell_type": "code",
   "execution_count": 49,
   "id": "saved-elimination",
   "metadata": {},
   "outputs": [],
   "source": [
    "rmtree('C:/Users/Roel/AIMastersThesis/results')"
   ]
  },
  {
   "cell_type": "code",
   "execution_count": 50,
   "id": "swiss-portland",
   "metadata": {},
   "outputs": [
    {
     "data": {
      "text/plain": [
       "'C:/Users/Roel/AIMastersThesis/results'"
      ]
     },
     "execution_count": 50,
     "metadata": {},
     "output_type": "execute_result"
    }
   ],
   "source": [
    "copytree('../results/', 'C:/Users/Roel/AIMastersThesis/results')"
   ]
  },
  {
   "cell_type": "code",
   "execution_count": 51,
   "id": "romantic-fleet",
   "metadata": {},
   "outputs": [],
   "source": [
    "import subprocess\n",
    "\n",
    "def git_commit(message):\n",
    "    return subprocess.check_output(['git', 'commit',  '-m', message], shell=True, cwd='C:/Users/Roel/AIMastersThesis')\n",
    "\n",
    "def git_add(d):\n",
    "    return subprocess.check_output(['git', 'add',  d], shell=True, cwd='C:/Users/Roel/AIMastersThesis')\n",
    "\n",
    "def git_push():\n",
    "    return subprocess.check_output(['git', 'push',  'origin', 'main'], shell=True, cwd='C:/Users/Roel/AIMastersThesis')\n",
    "\n",
    "def git_pull():\n",
    "    return subprocess.check_output(['git', 'pull',  'origin', 'main'], shell=True, cwd='C:/Users/Roel/AIMastersThesis')"
   ]
  },
  {
   "cell_type": "code",
   "execution_count": 52,
   "id": "caring-police",
   "metadata": {},
   "outputs": [
    {
     "data": {
      "text/plain": [
       "b''"
      ]
     },
     "execution_count": 52,
     "metadata": {},
     "output_type": "execute_result"
    }
   ],
   "source": [
    "git_add('results')"
   ]
  },
  {
   "cell_type": "code",
   "execution_count": 53,
   "id": "steady-tiger",
   "metadata": {},
   "outputs": [
    {
     "data": {
      "text/plain": [
       "b'[main fde0884] Updated results\\n 3 files changed, 0 insertions(+), 0 deletions(-)\\n'"
      ]
     },
     "execution_count": 53,
     "metadata": {},
     "output_type": "execute_result"
    }
   ],
   "source": [
    "git_commit('Updated results')"
   ]
  },
  {
   "cell_type": "code",
   "execution_count": 54,
   "id": "paperback-education",
   "metadata": {},
   "outputs": [
    {
     "data": {
      "text/plain": [
       "b'Already up to date.\\n'"
      ]
     },
     "execution_count": 54,
     "metadata": {},
     "output_type": "execute_result"
    }
   ],
   "source": [
    "git_pull()"
   ]
  },
  {
   "cell_type": "code",
   "execution_count": 55,
   "id": "headed-yesterday",
   "metadata": {},
   "outputs": [
    {
     "data": {
      "text/plain": [
       "b''"
      ]
     },
     "execution_count": 55,
     "metadata": {},
     "output_type": "execute_result"
    }
   ],
   "source": [
    "git_push()"
   ]
  },
  {
   "cell_type": "code",
   "execution_count": 42,
   "id": "sublime-consumer",
   "metadata": {},
   "outputs": [
    {
     "data": {
      "text/plain": [
       "b' Volume in drive C has no label.\\r\\n Volume Serial Number is 42A2-40E5\\r\\n\\r\\n Directory of C:\\\\Users\\\\Roel\\\\AIMastersThesis\\r\\n\\r\\n26-07-2021  12:27    <DIR>          .\\r\\n26-07-2021  12:27    <DIR>          ..\\r\\n26-07-2021  12:25    <DIR>          Appendices\\r\\n26-07-2021  12:25    <DIR>          Chapters\\r\\n26-07-2021  12:25            19.031 example.bib\\r\\n26-07-2021  12:25    <DIR>          Figures\\r\\n26-07-2021  12:25           289.849 main.pdf\\r\\n26-07-2021  12:25            15.013 main.tex\\r\\n26-07-2021  12:25            19.897 MastersDoctoralThesis.cls\\r\\n26-07-2021  11:29    <DIR>          results\\r\\n               4 File(s)        343.790 bytes\\r\\n               6 Dir(s)   5.028.167.680 bytes free\\r\\n'"
      ]
     },
     "execution_count": 42,
     "metadata": {},
     "output_type": "execute_result"
    }
   ],
   "source": [
    "subprocess.check_output(['dir'], shell=True, cwd='C:/Users/Roel/AIMastersThesis/')"
   ]
  },
  {
   "cell_type": "code",
   "execution_count": null,
   "id": "worst-clark",
   "metadata": {},
   "outputs": [],
   "source": []
  }
 ],
 "metadata": {
  "kernelspec": {
   "display_name": "Python 3",
   "language": "python",
   "name": "python3"
  },
  "language_info": {
   "codemirror_mode": {
    "name": "ipython",
    "version": 3
   },
   "file_extension": ".py",
   "mimetype": "text/x-python",
   "name": "python",
   "nbconvert_exporter": "python",
   "pygments_lexer": "ipython3",
   "version": "3.7.9"
  }
 },
 "nbformat": 4,
 "nbformat_minor": 5
}
