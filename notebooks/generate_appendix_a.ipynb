{
 "cells": [
  {
   "cell_type": "code",
   "execution_count": 31,
   "id": "overhead-statistics",
   "metadata": {},
   "outputs": [],
   "source": [
    "from covidcf.config.base import load_hyperopt_config\n",
    "from covidcf.config.distributions import RandIntDistribution, LogUniformDistribution, UniformDistribution, CategoricalDistribution\n",
    "import pandas as pd"
   ]
  },
  {
   "cell_type": "code",
   "execution_count": 24,
   "id": "acknowledged-sculpture",
   "metadata": {},
   "outputs": [],
   "source": [
    "distribution_to_name = {\n",
    "    RandIntDistribution: 'Uniform integer', \n",
    "    LogUniformDistribution: 'Log-uniform',\n",
    "    UniformDistribution: 'Uniform', \n",
    "    CategoricalDistribution: 'Categorical', \n",
    "    int: 'Constant', \n",
    "    float: 'Constant', \n",
    "    str: 'Constant', \n",
    "    bool: 'Constant'\n",
    "}"
   ]
  },
  {
   "cell_type": "code",
   "execution_count": 44,
   "id": "chicken-danish",
   "metadata": {},
   "outputs": [],
   "source": [
    "def flatten_dict(d, prefix='', result=None):\n",
    "    result = {} if result is None else result\n",
    "    for k, v in d.items():\n",
    "        if isinstance(v, dict):\n",
    "            flatten_dict(v, '', result=result)\n",
    "        else:\n",
    "            result[prefix+k] = v\n",
    "    return result"
   ]
  },
  {
   "cell_type": "code",
   "execution_count": 45,
   "id": "wrong-warren",
   "metadata": {},
   "outputs": [],
   "source": [
    "config = load_hyperopt_config('../configs/base_learners_hyperopt/gbdt.yaml')"
   ]
  },
  {
   "cell_type": "code",
   "execution_count": 47,
   "id": "controversial-litigation",
   "metadata": {},
   "outputs": [],
   "source": [
    "def distribution_params_to_string(dist):\n",
    "    if isinstance(dist, int) or isinstance(dist, str) or isinstance(dist, float) or isinstance(dist, bool):\n",
    "        return str(dist)\n",
    "    elif isinstance(dist, RandIntDistribution) or isinstance(dist, LogUniformDistribution) or isinstance(dist, UniformDistribution):\n",
    "        return f'Between {dist.vmin} and {dist.vmax}'\n",
    "    elif isinstance(dist, CategoricalDistribution):\n",
    "        return f\"One of: {', '.join(str(x) for x in dist.values)}\""
   ]
  },
  {
   "cell_type": "code",
   "execution_count": 50,
   "id": "postal-sport",
   "metadata": {},
   "outputs": [],
   "source": [
    "def extract_hyperparameter_table(config):\n",
    "    return pd.DataFrame([{'Parameter': k, 'Distribution': distribution_to_name[type(v)], 'Distribution parameters': distribution_params_to_string(v)} for k, v in flatten_dict(config.parameters).items()])"
   ]
  },
  {
   "cell_type": "code",
   "execution_count": 51,
   "id": "appreciated-forward",
   "metadata": {},
   "outputs": [],
   "source": [
    "extract_hyperparameter_table(load_hyperopt_config('../configs/base_learners_hyperopt/gbdt.yaml')) \\\n",
    "    .to_latex('results/gbdt_hyperparams.tex', index=False)"
   ]
  },
  {
   "cell_type": "code",
   "execution_count": 52,
   "id": "cultural-baltimore",
   "metadata": {},
   "outputs": [],
   "source": [
    "extract_hyperparameter_table(load_hyperopt_config('../configs/base_learners_hyperopt/lr.yaml')) \\\n",
    "    .to_latex('results/lr_hyperparams.tex', index=False)"
   ]
  },
  {
   "cell_type": "code",
   "execution_count": 53,
   "id": "ceramic-squad",
   "metadata": {},
   "outputs": [],
   "source": [
    "extract_hyperparameter_table(load_hyperopt_config('../configs/base_learners_hyperopt/rf_sklearn.yaml')) \\\n",
    "    .to_latex('results/rf_sklearn_hyperparams.tex', index=False)"
   ]
  },
  {
   "cell_type": "code",
   "execution_count": 54,
   "id": "genetic-partnership",
   "metadata": {},
   "outputs": [],
   "source": [
    "extract_hyperparameter_table(load_hyperopt_config('../configs/base_learners_hyperopt/bagged_gbdt.yaml')) \\\n",
    "    .to_latex('results/bagged_gbdt_hyperparams.tex', index=False)"
   ]
  },
  {
   "cell_type": "code",
   "execution_count": null,
   "id": "ignored-communications",
   "metadata": {},
   "outputs": [],
   "source": []
  }
 ],
 "metadata": {
  "kernelspec": {
   "display_name": "Python 3",
   "language": "python",
   "name": "python3"
  },
  "language_info": {
   "codemirror_mode": {
    "name": "ipython",
    "version": 3
   },
   "file_extension": ".py",
   "mimetype": "text/x-python",
   "name": "python",
   "nbconvert_exporter": "python",
   "pygments_lexer": "ipython3",
   "version": "3.7.9"
  }
 },
 "nbformat": 4,
 "nbformat_minor": 5
}
