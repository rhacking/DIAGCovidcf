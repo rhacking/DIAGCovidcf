{
 "cells": [
  {
   "cell_type": "code",
   "execution_count": 3,
   "id": "acknowledged-banks",
   "metadata": {},
   "outputs": [],
   "source": [
    "import numpy as np\n",
    "import pandas as pd"
   ]
  },
  {
   "cell_type": "code",
   "execution_count": 3,
   "id": "under-bronze",
   "metadata": {
    "tags": []
   },
   "outputs": [
    {
     "data": {
      "text/html": [
       "<div>\n",
       "<style scoped>\n",
       "    .dataframe tbody tr th:only-of-type {\n",
       "        vertical-align: middle;\n",
       "    }\n",
       "\n",
       "    .dataframe tbody tr th {\n",
       "        vertical-align: top;\n",
       "    }\n",
       "\n",
       "    .dataframe thead th {\n",
       "        text-align: right;\n",
       "    }\n",
       "</style>\n",
       "<table border=\"1\" class=\"dataframe\">\n",
       "  <thead>\n",
       "    <tr style=\"text-align: right;\">\n",
       "      <th></th>\n",
       "      <th></th>\n",
       "      <th>% CD4+ T-Lymfocyten (CD3+CD4+)</th>\n",
       "      <th>% CD8+ T-Lymfocyten (CD3+CD8+)</th>\n",
       "      <th>% T-lymfocyten (CD3+)</th>\n",
       "      <th>(Pseudo) Pelger Huet</th>\n",
       "      <th>(pseudo) Pelger Huet</th>\n",
       "      <th>3-Methoxytyramine</th>\n",
       "      <th>5-HIAA/MMOL KREAT (24uurs Urine)</th>\n",
       "      <th>6-MMPR (Azathioprine/Mercaptopurine)</th>\n",
       "      <th>6-MMPR-R (AZATHIOPRINE/MERCAPTOPURINE)</th>\n",
       "      <th>6-TGN (Azathioprine/Mercaptopurine)</th>\n",
       "      <th>...</th>\n",
       "      <th>vis_feature_56</th>\n",
       "      <th>vis_feature_57</th>\n",
       "      <th>vis_feature_58</th>\n",
       "      <th>vis_feature_59</th>\n",
       "      <th>age</th>\n",
       "      <th>sex</th>\n",
       "      <th>pcr</th>\n",
       "      <th>corads</th>\n",
       "      <th>part</th>\n",
       "      <th>diagnosis</th>\n",
       "    </tr>\n",
       "    <tr>\n",
       "      <th>patientprimarymrn</th>\n",
       "      <th>study</th>\n",
       "      <th></th>\n",
       "      <th></th>\n",
       "      <th></th>\n",
       "      <th></th>\n",
       "      <th></th>\n",
       "      <th></th>\n",
       "      <th></th>\n",
       "      <th></th>\n",
       "      <th></th>\n",
       "      <th></th>\n",
       "      <th></th>\n",
       "      <th></th>\n",
       "      <th></th>\n",
       "      <th></th>\n",
       "      <th></th>\n",
       "      <th></th>\n",
       "      <th></th>\n",
       "      <th></th>\n",
       "      <th></th>\n",
       "      <th></th>\n",
       "      <th></th>\n",
       "    </tr>\n",
       "  </thead>\n",
       "  <tbody>\n",
       "    <tr>\n",
       "      <th rowspan=\"2\" valign=\"top\">10000</th>\n",
       "      <th>st000</th>\n",
       "      <td>NaN</td>\n",
       "      <td>NaN</td>\n",
       "      <td>NaN</td>\n",
       "      <td>NaN</td>\n",
       "      <td>NaN</td>\n",
       "      <td>NaN</td>\n",
       "      <td>NaN</td>\n",
       "      <td>NaN</td>\n",
       "      <td>NaN</td>\n",
       "      <td>NaN</td>\n",
       "      <td>...</td>\n",
       "      <td>-0.504452</td>\n",
       "      <td>-0.505107</td>\n",
       "      <td>-0.544312</td>\n",
       "      <td>-0.594719</td>\n",
       "      <td>40.0</td>\n",
       "      <td>Vrouw</td>\n",
       "      <td>nan</td>\n",
       "      <td>0.0</td>\n",
       "      <td>val</td>\n",
       "      <td>NaN</td>\n",
       "    </tr>\n",
       "    <tr>\n",
       "      <th>st001</th>\n",
       "      <td>NaN</td>\n",
       "      <td>NaN</td>\n",
       "      <td>NaN</td>\n",
       "      <td>NaN</td>\n",
       "      <td>NaN</td>\n",
       "      <td>NaN</td>\n",
       "      <td>NaN</td>\n",
       "      <td>NaN</td>\n",
       "      <td>NaN</td>\n",
       "      <td>NaN</td>\n",
       "      <td>...</td>\n",
       "      <td>-0.690218</td>\n",
       "      <td>-0.677172</td>\n",
       "      <td>-0.702991</td>\n",
       "      <td>-0.738225</td>\n",
       "      <td>40.0</td>\n",
       "      <td>Vrouw</td>\n",
       "      <td>nan</td>\n",
       "      <td>0.0</td>\n",
       "      <td>val</td>\n",
       "      <td>NaN</td>\n",
       "    </tr>\n",
       "    <tr>\n",
       "      <th>10001</th>\n",
       "      <th>st000</th>\n",
       "      <td>NaN</td>\n",
       "      <td>NaN</td>\n",
       "      <td>NaN</td>\n",
       "      <td>NaN</td>\n",
       "      <td>NaN</td>\n",
       "      <td>NaN</td>\n",
       "      <td>NaN</td>\n",
       "      <td>NaN</td>\n",
       "      <td>NaN</td>\n",
       "      <td>NaN</td>\n",
       "      <td>...</td>\n",
       "      <td>-0.776165</td>\n",
       "      <td>-0.778493</td>\n",
       "      <td>-0.774449</td>\n",
       "      <td>-0.825931</td>\n",
       "      <td>NaN</td>\n",
       "      <td>nan</td>\n",
       "      <td>nan</td>\n",
       "      <td>4.0</td>\n",
       "      <td>test</td>\n",
       "      <td>NaN</td>\n",
       "    </tr>\n",
       "    <tr>\n",
       "      <th>10002</th>\n",
       "      <th>st000</th>\n",
       "      <td>NaN</td>\n",
       "      <td>NaN</td>\n",
       "      <td>NaN</td>\n",
       "      <td>NaN</td>\n",
       "      <td>NaN</td>\n",
       "      <td>NaN</td>\n",
       "      <td>NaN</td>\n",
       "      <td>NaN</td>\n",
       "      <td>NaN</td>\n",
       "      <td>NaN</td>\n",
       "      <td>...</td>\n",
       "      <td>-0.497450</td>\n",
       "      <td>-0.507996</td>\n",
       "      <td>-0.521293</td>\n",
       "      <td>-0.582440</td>\n",
       "      <td>80.0</td>\n",
       "      <td>Man</td>\n",
       "      <td>nan</td>\n",
       "      <td>2.0</td>\n",
       "      <td>train</td>\n",
       "      <td>NaN</td>\n",
       "    </tr>\n",
       "    <tr>\n",
       "      <th>10003</th>\n",
       "      <th>st000</th>\n",
       "      <td>NaN</td>\n",
       "      <td>NaN</td>\n",
       "      <td>NaN</td>\n",
       "      <td>NaN</td>\n",
       "      <td>NaN</td>\n",
       "      <td>NaN</td>\n",
       "      <td>NaN</td>\n",
       "      <td>NaN</td>\n",
       "      <td>NaN</td>\n",
       "      <td>NaN</td>\n",
       "      <td>...</td>\n",
       "      <td>-0.512881</td>\n",
       "      <td>-0.514179</td>\n",
       "      <td>-0.530137</td>\n",
       "      <td>-0.580613</td>\n",
       "      <td>NaN</td>\n",
       "      <td>nan</td>\n",
       "      <td>nan</td>\n",
       "      <td>4.0</td>\n",
       "      <td>test</td>\n",
       "      <td>NaN</td>\n",
       "    </tr>\n",
       "    <tr>\n",
       "      <th>...</th>\n",
       "      <th>...</th>\n",
       "      <td>...</td>\n",
       "      <td>...</td>\n",
       "      <td>...</td>\n",
       "      <td>...</td>\n",
       "      <td>...</td>\n",
       "      <td>...</td>\n",
       "      <td>...</td>\n",
       "      <td>...</td>\n",
       "      <td>...</td>\n",
       "      <td>...</td>\n",
       "      <td>...</td>\n",
       "      <td>...</td>\n",
       "      <td>...</td>\n",
       "      <td>...</td>\n",
       "      <td>...</td>\n",
       "      <td>...</td>\n",
       "      <td>...</td>\n",
       "      <td>...</td>\n",
       "      <td>...</td>\n",
       "      <td>...</td>\n",
       "      <td>...</td>\n",
       "    </tr>\n",
       "    <tr>\n",
       "      <th>10723</th>\n",
       "      <th>st000</th>\n",
       "      <td>NaN</td>\n",
       "      <td>NaN</td>\n",
       "      <td>NaN</td>\n",
       "      <td>NaN</td>\n",
       "      <td>NaN</td>\n",
       "      <td>NaN</td>\n",
       "      <td>NaN</td>\n",
       "      <td>NaN</td>\n",
       "      <td>NaN</td>\n",
       "      <td>NaN</td>\n",
       "      <td>...</td>\n",
       "      <td>-0.884078</td>\n",
       "      <td>-0.867174</td>\n",
       "      <td>-0.865012</td>\n",
       "      <td>-0.876103</td>\n",
       "      <td>NaN</td>\n",
       "      <td>nan</td>\n",
       "      <td>nan</td>\n",
       "      <td>0.0</td>\n",
       "      <td>train</td>\n",
       "      <td>NaN</td>\n",
       "    </tr>\n",
       "    <tr>\n",
       "      <th>10724</th>\n",
       "      <th>st000</th>\n",
       "      <td>NaN</td>\n",
       "      <td>NaN</td>\n",
       "      <td>NaN</td>\n",
       "      <td>NaN</td>\n",
       "      <td>NaN</td>\n",
       "      <td>NaN</td>\n",
       "      <td>NaN</td>\n",
       "      <td>NaN</td>\n",
       "      <td>NaN</td>\n",
       "      <td>NaN</td>\n",
       "      <td>...</td>\n",
       "      <td>-0.548851</td>\n",
       "      <td>-0.554204</td>\n",
       "      <td>-0.559866</td>\n",
       "      <td>-0.613581</td>\n",
       "      <td>NaN</td>\n",
       "      <td>nan</td>\n",
       "      <td>nan</td>\n",
       "      <td>1.0</td>\n",
       "      <td>train</td>\n",
       "      <td>NaN</td>\n",
       "    </tr>\n",
       "    <tr>\n",
       "      <th>10725</th>\n",
       "      <th>st000</th>\n",
       "      <td>NaN</td>\n",
       "      <td>NaN</td>\n",
       "      <td>NaN</td>\n",
       "      <td>NaN</td>\n",
       "      <td>NaN</td>\n",
       "      <td>NaN</td>\n",
       "      <td>NaN</td>\n",
       "      <td>NaN</td>\n",
       "      <td>NaN</td>\n",
       "      <td>NaN</td>\n",
       "      <td>...</td>\n",
       "      <td>-0.594288</td>\n",
       "      <td>-0.594998</td>\n",
       "      <td>-0.613037</td>\n",
       "      <td>-0.662691</td>\n",
       "      <td>NaN</td>\n",
       "      <td>nan</td>\n",
       "      <td>nan</td>\n",
       "      <td>0.0</td>\n",
       "      <td>train</td>\n",
       "      <td>NaN</td>\n",
       "    </tr>\n",
       "    <tr>\n",
       "      <th>10726</th>\n",
       "      <th>st000</th>\n",
       "      <td>NaN</td>\n",
       "      <td>NaN</td>\n",
       "      <td>NaN</td>\n",
       "      <td>NaN</td>\n",
       "      <td>NaN</td>\n",
       "      <td>NaN</td>\n",
       "      <td>NaN</td>\n",
       "      <td>NaN</td>\n",
       "      <td>NaN</td>\n",
       "      <td>NaN</td>\n",
       "      <td>...</td>\n",
       "      <td>-0.828100</td>\n",
       "      <td>-0.826074</td>\n",
       "      <td>-0.852157</td>\n",
       "      <td>-0.897253</td>\n",
       "      <td>NaN</td>\n",
       "      <td>nan</td>\n",
       "      <td>nan</td>\n",
       "      <td>0.0</td>\n",
       "      <td>train</td>\n",
       "      <td>NaN</td>\n",
       "    </tr>\n",
       "    <tr>\n",
       "      <th>10727</th>\n",
       "      <th>st000</th>\n",
       "      <td>NaN</td>\n",
       "      <td>NaN</td>\n",
       "      <td>NaN</td>\n",
       "      <td>NaN</td>\n",
       "      <td>NaN</td>\n",
       "      <td>NaN</td>\n",
       "      <td>NaN</td>\n",
       "      <td>NaN</td>\n",
       "      <td>NaN</td>\n",
       "      <td>NaN</td>\n",
       "      <td>...</td>\n",
       "      <td>-0.561095</td>\n",
       "      <td>-0.561070</td>\n",
       "      <td>-0.575930</td>\n",
       "      <td>-0.619617</td>\n",
       "      <td>NaN</td>\n",
       "      <td>nan</td>\n",
       "      <td>nan</td>\n",
       "      <td>0.0</td>\n",
       "      <td>val</td>\n",
       "      <td>NaN</td>\n",
       "    </tr>\n",
       "  </tbody>\n",
       "</table>\n",
       "<p>814 rows × 1445 columns</p>\n",
       "</div>"
      ],
      "text/plain": [
       "                         % CD4+ T-Lymfocyten (CD3+CD4+)  \\\n",
       "patientprimarymrn study                                   \n",
       "10000             st000                             NaN   \n",
       "                  st001                             NaN   \n",
       "10001             st000                             NaN   \n",
       "10002             st000                             NaN   \n",
       "10003             st000                             NaN   \n",
       "...                                                 ...   \n",
       "10723             st000                             NaN   \n",
       "10724             st000                             NaN   \n",
       "10725             st000                             NaN   \n",
       "10726             st000                             NaN   \n",
       "10727             st000                             NaN   \n",
       "\n",
       "                         % CD8+ T-Lymfocyten (CD3+CD8+)  \\\n",
       "patientprimarymrn study                                   \n",
       "10000             st000                             NaN   \n",
       "                  st001                             NaN   \n",
       "10001             st000                             NaN   \n",
       "10002             st000                             NaN   \n",
       "10003             st000                             NaN   \n",
       "...                                                 ...   \n",
       "10723             st000                             NaN   \n",
       "10724             st000                             NaN   \n",
       "10725             st000                             NaN   \n",
       "10726             st000                             NaN   \n",
       "10727             st000                             NaN   \n",
       "\n",
       "                         % T-lymfocyten (CD3+)  (Pseudo) Pelger Huet  \\\n",
       "patientprimarymrn study                                                \n",
       "10000             st000                    NaN                   NaN   \n",
       "                  st001                    NaN                   NaN   \n",
       "10001             st000                    NaN                   NaN   \n",
       "10002             st000                    NaN                   NaN   \n",
       "10003             st000                    NaN                   NaN   \n",
       "...                                        ...                   ...   \n",
       "10723             st000                    NaN                   NaN   \n",
       "10724             st000                    NaN                   NaN   \n",
       "10725             st000                    NaN                   NaN   \n",
       "10726             st000                    NaN                   NaN   \n",
       "10727             st000                    NaN                   NaN   \n",
       "\n",
       "                         (pseudo) Pelger Huet  3-Methoxytyramine  \\\n",
       "patientprimarymrn study                                            \n",
       "10000             st000                   NaN                NaN   \n",
       "                  st001                   NaN                NaN   \n",
       "10001             st000                   NaN                NaN   \n",
       "10002             st000                   NaN                NaN   \n",
       "10003             st000                   NaN                NaN   \n",
       "...                                       ...                ...   \n",
       "10723             st000                   NaN                NaN   \n",
       "10724             st000                   NaN                NaN   \n",
       "10725             st000                   NaN                NaN   \n",
       "10726             st000                   NaN                NaN   \n",
       "10727             st000                   NaN                NaN   \n",
       "\n",
       "                         5-HIAA/MMOL KREAT (24uurs Urine)  \\\n",
       "patientprimarymrn study                                     \n",
       "10000             st000                               NaN   \n",
       "                  st001                               NaN   \n",
       "10001             st000                               NaN   \n",
       "10002             st000                               NaN   \n",
       "10003             st000                               NaN   \n",
       "...                                                   ...   \n",
       "10723             st000                               NaN   \n",
       "10724             st000                               NaN   \n",
       "10725             st000                               NaN   \n",
       "10726             st000                               NaN   \n",
       "10727             st000                               NaN   \n",
       "\n",
       "                         6-MMPR (Azathioprine/Mercaptopurine)  \\\n",
       "patientprimarymrn study                                         \n",
       "10000             st000                                   NaN   \n",
       "                  st001                                   NaN   \n",
       "10001             st000                                   NaN   \n",
       "10002             st000                                   NaN   \n",
       "10003             st000                                   NaN   \n",
       "...                                                       ...   \n",
       "10723             st000                                   NaN   \n",
       "10724             st000                                   NaN   \n",
       "10725             st000                                   NaN   \n",
       "10726             st000                                   NaN   \n",
       "10727             st000                                   NaN   \n",
       "\n",
       "                         6-MMPR-R (AZATHIOPRINE/MERCAPTOPURINE)  \\\n",
       "patientprimarymrn study                                           \n",
       "10000             st000                                     NaN   \n",
       "                  st001                                     NaN   \n",
       "10001             st000                                     NaN   \n",
       "10002             st000                                     NaN   \n",
       "10003             st000                                     NaN   \n",
       "...                                                         ...   \n",
       "10723             st000                                     NaN   \n",
       "10724             st000                                     NaN   \n",
       "10725             st000                                     NaN   \n",
       "10726             st000                                     NaN   \n",
       "10727             st000                                     NaN   \n",
       "\n",
       "                         6-TGN (Azathioprine/Mercaptopurine)  ...  \\\n",
       "patientprimarymrn study                                       ...   \n",
       "10000             st000                                  NaN  ...   \n",
       "                  st001                                  NaN  ...   \n",
       "10001             st000                                  NaN  ...   \n",
       "10002             st000                                  NaN  ...   \n",
       "10003             st000                                  NaN  ...   \n",
       "...                                                      ...  ...   \n",
       "10723             st000                                  NaN  ...   \n",
       "10724             st000                                  NaN  ...   \n",
       "10725             st000                                  NaN  ...   \n",
       "10726             st000                                  NaN  ...   \n",
       "10727             st000                                  NaN  ...   \n",
       "\n",
       "                         vis_feature_56  vis_feature_57  vis_feature_58  \\\n",
       "patientprimarymrn study                                                   \n",
       "10000             st000       -0.504452       -0.505107       -0.544312   \n",
       "                  st001       -0.690218       -0.677172       -0.702991   \n",
       "10001             st000       -0.776165       -0.778493       -0.774449   \n",
       "10002             st000       -0.497450       -0.507996       -0.521293   \n",
       "10003             st000       -0.512881       -0.514179       -0.530137   \n",
       "...                                 ...             ...             ...   \n",
       "10723             st000       -0.884078       -0.867174       -0.865012   \n",
       "10724             st000       -0.548851       -0.554204       -0.559866   \n",
       "10725             st000       -0.594288       -0.594998       -0.613037   \n",
       "10726             st000       -0.828100       -0.826074       -0.852157   \n",
       "10727             st000       -0.561095       -0.561070       -0.575930   \n",
       "\n",
       "                         vis_feature_59   age    sex  pcr  corads   part  \\\n",
       "patientprimarymrn study                                                    \n",
       "10000             st000       -0.594719  40.0  Vrouw  nan     0.0    val   \n",
       "                  st001       -0.738225  40.0  Vrouw  nan     0.0    val   \n",
       "10001             st000       -0.825931   NaN    nan  nan     4.0   test   \n",
       "10002             st000       -0.582440  80.0    Man  nan     2.0  train   \n",
       "10003             st000       -0.580613   NaN    nan  nan     4.0   test   \n",
       "...                                 ...   ...    ...  ...     ...    ...   \n",
       "10723             st000       -0.876103   NaN    nan  nan     0.0  train   \n",
       "10724             st000       -0.613581   NaN    nan  nan     1.0  train   \n",
       "10725             st000       -0.662691   NaN    nan  nan     0.0  train   \n",
       "10726             st000       -0.897253   NaN    nan  nan     0.0  train   \n",
       "10727             st000       -0.619617   NaN    nan  nan     0.0    val   \n",
       "\n",
       "                         diagnosis  \n",
       "patientprimarymrn study             \n",
       "10000             st000        NaN  \n",
       "                  st001        NaN  \n",
       "10001             st000        NaN  \n",
       "10002             st000        NaN  \n",
       "10003             st000        NaN  \n",
       "...                            ...  \n",
       "10723             st000        NaN  \n",
       "10724             st000        NaN  \n",
       "10725             st000        NaN  \n",
       "10726             st000        NaN  \n",
       "10727             st000        NaN  \n",
       "\n",
       "[814 rows x 1445 columns]"
      ]
     },
     "execution_count": 3,
     "metadata": {},
     "output_type": "execute_result"
    }
   ],
   "source": [
    "df = pd.read_pickle('../data/processed/rumc.pkl')\n",
    "df"
   ]
  },
  {
   "cell_type": "code",
   "execution_count": 13,
   "id": "comic-remove",
   "metadata": {},
   "outputs": [
    {
     "data": {
      "text/plain": [
       "617"
      ]
     },
     "execution_count": 13,
     "metadata": {},
     "output_type": "execute_result"
    }
   ],
   "source": [
    "(df[['pcr', 'diagnosis']].mean(axis=1).isna()).sum()"
   ]
  },
  {
   "cell_type": "code",
   "execution_count": 47,
   "id": "ongoing-cocktail",
   "metadata": {},
   "outputs": [],
   "source": [
    "import re\n",
    "df = df.rename(columns = lambda x:re.sub('[^-%A-Za-z0-9_/ ]+', '', x))\n",
    "df.columns = df.columns.str.replace(' ', '_')"
   ]
  },
  {
   "cell_type": "code",
   "execution_count": 48,
   "id": "indirect-liabilities",
   "metadata": {},
   "outputs": [],
   "source": [
    "df_merged = df.copy()\n",
    "df_merged.columns = df.columns.str.replace(r'\\(.+?\\)', '', regex=True).str.strip()"
   ]
  },
  {
   "cell_type": "code",
   "execution_count": 49,
   "id": "hollow-project",
   "metadata": {},
   "outputs": [],
   "source": [
    "from pandas.api.types import is_numeric_dtype\n",
    "def aggregate(x: pd.Series):\n",
    "    if x.shape[1] == 1:\n",
    "        return x.iloc[:, 0]\n",
    "    if is_numeric_dtype(x.dtypes[0]):\n",
    "        return x.mean(axis=1)\n",
    "    result = x.apply(lambda y: next(z for z in y.values if not pd.isna(z)) if not y.isna().all() else np.nan, axis=1)\n",
    "    if len(result.shape) == 2:\n",
    "        print(x)\n",
    "        print(result)\n",
    "        x.apply(lambda y: print(next(z for z in y.values if not pd.isna(z)) if not y.isna().all() else np.nan), axis=1)\n",
    "        error()\n",
    "    return result\n",
    "df = df_merged.groupby(df_merged.columns, axis=1).agg(aggregate)"
   ]
  },
  {
   "cell_type": "code",
   "execution_count": 50,
   "id": "handed-complaint",
   "metadata": {},
   "outputs": [],
   "source": [
    "input_features = df.columns[~df.columns.isin(['pcr', 'corads', 'part', 'diagnosis'])]\n",
    "output_feature = 'corads'"
   ]
  },
  {
   "cell_type": "code",
   "execution_count": 51,
   "id": "compatible-lending",
   "metadata": {},
   "outputs": [],
   "source": [
    "df[df == 'nan'] = np.nan\n",
    "for col in input_features:\n",
    "    if not is_numeric_dtype(df[col]):\n",
    "        df[col] = df[col].astype('category')\n",
    "        df[col] = df[col].cat.codes.astype('category')"
   ]
  },
  {
   "cell_type": "code",
   "execution_count": 52,
   "id": "alpha-spiritual",
   "metadata": {},
   "outputs": [],
   "source": [
    "df_train = df[df.part == 'train']\n",
    "df_val = df[df.part == 'val']\n",
    "df_test = df[df.part == 'test']"
   ]
  },
  {
   "cell_type": "code",
   "execution_count": 53,
   "id": "executive-digest",
   "metadata": {},
   "outputs": [
    {
     "data": {
      "text/html": [
       "<div>\n",
       "<style scoped>\n",
       "    .dataframe tbody tr th:only-of-type {\n",
       "        vertical-align: middle;\n",
       "    }\n",
       "\n",
       "    .dataframe tbody tr th {\n",
       "        vertical-align: top;\n",
       "    }\n",
       "\n",
       "    .dataframe thead th {\n",
       "        text-align: right;\n",
       "    }\n",
       "</style>\n",
       "<table border=\"1\" class=\"dataframe\">\n",
       "  <thead>\n",
       "    <tr style=\"text-align: right;\">\n",
       "      <th></th>\n",
       "      <th></th>\n",
       "      <th>AB0/RhD_bloedgroep</th>\n",
       "      <th>ANCA_fluorescentie</th>\n",
       "      <th>ANTI-NMDA_RECEPTOR</th>\n",
       "      <th>ASXL1_mutatie_exon_13_beenmerg</th>\n",
       "      <th>Abnormale_hemoglobines</th>\n",
       "      <th>Afnameconditie</th>\n",
       "      <th>Alarm_Hemocytometrie</th>\n",
       "      <th>Alg_bact_onderz</th>\n",
       "      <th>Algemene_kweek_BAL</th>\n",
       "      <th>Algemene_kweek_Bronchusspoeling</th>\n",
       "      <th>...</th>\n",
       "      <th>Yersinia_IgA</th>\n",
       "      <th>Yersinia_IgG</th>\n",
       "      <th>Zuurvaste_staven_Auramine</th>\n",
       "      <th>bacterien_urine</th>\n",
       "      <th>erytrocyten_Urine</th>\n",
       "      <th>jonge_lymfocyten</th>\n",
       "      <th>part</th>\n",
       "      <th>pcr</th>\n",
       "      <th>plasmacytoide_lymfocyten</th>\n",
       "      <th>sex</th>\n",
       "    </tr>\n",
       "    <tr>\n",
       "      <th>patientprimarymrn</th>\n",
       "      <th>study</th>\n",
       "      <th></th>\n",
       "      <th></th>\n",
       "      <th></th>\n",
       "      <th></th>\n",
       "      <th></th>\n",
       "      <th></th>\n",
       "      <th></th>\n",
       "      <th></th>\n",
       "      <th></th>\n",
       "      <th></th>\n",
       "      <th></th>\n",
       "      <th></th>\n",
       "      <th></th>\n",
       "      <th></th>\n",
       "      <th></th>\n",
       "      <th></th>\n",
       "      <th></th>\n",
       "      <th></th>\n",
       "      <th></th>\n",
       "      <th></th>\n",
       "      <th></th>\n",
       "    </tr>\n",
       "  </thead>\n",
       "  <tbody>\n",
       "    <tr>\n",
       "      <th>10002</th>\n",
       "      <th>st000</th>\n",
       "      <td>-1</td>\n",
       "      <td>-1</td>\n",
       "      <td>-1</td>\n",
       "      <td>-1</td>\n",
       "      <td>-1</td>\n",
       "      <td>-1</td>\n",
       "      <td>-1</td>\n",
       "      <td>-1</td>\n",
       "      <td>-1</td>\n",
       "      <td>-1</td>\n",
       "      <td>...</td>\n",
       "      <td>-1</td>\n",
       "      <td>-1</td>\n",
       "      <td>-1</td>\n",
       "      <td>-1</td>\n",
       "      <td>-1</td>\n",
       "      <td>-1</td>\n",
       "      <td>train</td>\n",
       "      <td>NaN</td>\n",
       "      <td>-1</td>\n",
       "      <td>0</td>\n",
       "    </tr>\n",
       "    <tr>\n",
       "      <th>10006</th>\n",
       "      <th>st000</th>\n",
       "      <td>-1</td>\n",
       "      <td>-1</td>\n",
       "      <td>-1</td>\n",
       "      <td>-1</td>\n",
       "      <td>-1</td>\n",
       "      <td>-1</td>\n",
       "      <td>-1</td>\n",
       "      <td>-1</td>\n",
       "      <td>-1</td>\n",
       "      <td>-1</td>\n",
       "      <td>...</td>\n",
       "      <td>-1</td>\n",
       "      <td>-1</td>\n",
       "      <td>-1</td>\n",
       "      <td>0</td>\n",
       "      <td>0</td>\n",
       "      <td>-1</td>\n",
       "      <td>train</td>\n",
       "      <td>NaN</td>\n",
       "      <td>-1</td>\n",
       "      <td>1</td>\n",
       "    </tr>\n",
       "    <tr>\n",
       "      <th>10007</th>\n",
       "      <th>st000</th>\n",
       "      <td>-1</td>\n",
       "      <td>-1</td>\n",
       "      <td>-1</td>\n",
       "      <td>-1</td>\n",
       "      <td>-1</td>\n",
       "      <td>-1</td>\n",
       "      <td>-1</td>\n",
       "      <td>-1</td>\n",
       "      <td>-1</td>\n",
       "      <td>-1</td>\n",
       "      <td>...</td>\n",
       "      <td>-1</td>\n",
       "      <td>-1</td>\n",
       "      <td>-1</td>\n",
       "      <td>-1</td>\n",
       "      <td>-1</td>\n",
       "      <td>-1</td>\n",
       "      <td>train</td>\n",
       "      <td>NaN</td>\n",
       "      <td>-1</td>\n",
       "      <td>-1</td>\n",
       "    </tr>\n",
       "    <tr>\n",
       "      <th>10011</th>\n",
       "      <th>st000</th>\n",
       "      <td>-1</td>\n",
       "      <td>-1</td>\n",
       "      <td>-1</td>\n",
       "      <td>-1</td>\n",
       "      <td>-1</td>\n",
       "      <td>-1</td>\n",
       "      <td>0</td>\n",
       "      <td>2</td>\n",
       "      <td>-1</td>\n",
       "      <td>-1</td>\n",
       "      <td>...</td>\n",
       "      <td>-1</td>\n",
       "      <td>-1</td>\n",
       "      <td>-1</td>\n",
       "      <td>0</td>\n",
       "      <td>0</td>\n",
       "      <td>-1</td>\n",
       "      <td>train</td>\n",
       "      <td>Negatief</td>\n",
       "      <td>-1</td>\n",
       "      <td>1</td>\n",
       "    </tr>\n",
       "    <tr>\n",
       "      <th>10016</th>\n",
       "      <th>st000</th>\n",
       "      <td>-1</td>\n",
       "      <td>-1</td>\n",
       "      <td>-1</td>\n",
       "      <td>-1</td>\n",
       "      <td>-1</td>\n",
       "      <td>-1</td>\n",
       "      <td>-1</td>\n",
       "      <td>3</td>\n",
       "      <td>-1</td>\n",
       "      <td>-1</td>\n",
       "      <td>...</td>\n",
       "      <td>-1</td>\n",
       "      <td>-1</td>\n",
       "      <td>-1</td>\n",
       "      <td>-1</td>\n",
       "      <td>1</td>\n",
       "      <td>-1</td>\n",
       "      <td>train</td>\n",
       "      <td>Negatief</td>\n",
       "      <td>-1</td>\n",
       "      <td>1</td>\n",
       "    </tr>\n",
       "    <tr>\n",
       "      <th>...</th>\n",
       "      <th>...</th>\n",
       "      <td>...</td>\n",
       "      <td>...</td>\n",
       "      <td>...</td>\n",
       "      <td>...</td>\n",
       "      <td>...</td>\n",
       "      <td>...</td>\n",
       "      <td>...</td>\n",
       "      <td>...</td>\n",
       "      <td>...</td>\n",
       "      <td>...</td>\n",
       "      <td>...</td>\n",
       "      <td>...</td>\n",
       "      <td>...</td>\n",
       "      <td>...</td>\n",
       "      <td>...</td>\n",
       "      <td>...</td>\n",
       "      <td>...</td>\n",
       "      <td>...</td>\n",
       "      <td>...</td>\n",
       "      <td>...</td>\n",
       "      <td>...</td>\n",
       "    </tr>\n",
       "    <tr>\n",
       "      <th>10722</th>\n",
       "      <th>st000</th>\n",
       "      <td>-1</td>\n",
       "      <td>-1</td>\n",
       "      <td>-1</td>\n",
       "      <td>-1</td>\n",
       "      <td>-1</td>\n",
       "      <td>-1</td>\n",
       "      <td>-1</td>\n",
       "      <td>-1</td>\n",
       "      <td>-1</td>\n",
       "      <td>-1</td>\n",
       "      <td>...</td>\n",
       "      <td>-1</td>\n",
       "      <td>-1</td>\n",
       "      <td>-1</td>\n",
       "      <td>-1</td>\n",
       "      <td>-1</td>\n",
       "      <td>-1</td>\n",
       "      <td>train</td>\n",
       "      <td>NaN</td>\n",
       "      <td>-1</td>\n",
       "      <td>-1</td>\n",
       "    </tr>\n",
       "    <tr>\n",
       "      <th>10723</th>\n",
       "      <th>st000</th>\n",
       "      <td>-1</td>\n",
       "      <td>-1</td>\n",
       "      <td>-1</td>\n",
       "      <td>-1</td>\n",
       "      <td>-1</td>\n",
       "      <td>-1</td>\n",
       "      <td>-1</td>\n",
       "      <td>-1</td>\n",
       "      <td>-1</td>\n",
       "      <td>-1</td>\n",
       "      <td>...</td>\n",
       "      <td>-1</td>\n",
       "      <td>-1</td>\n",
       "      <td>-1</td>\n",
       "      <td>-1</td>\n",
       "      <td>-1</td>\n",
       "      <td>-1</td>\n",
       "      <td>train</td>\n",
       "      <td>NaN</td>\n",
       "      <td>-1</td>\n",
       "      <td>-1</td>\n",
       "    </tr>\n",
       "    <tr>\n",
       "      <th>10724</th>\n",
       "      <th>st000</th>\n",
       "      <td>-1</td>\n",
       "      <td>-1</td>\n",
       "      <td>-1</td>\n",
       "      <td>-1</td>\n",
       "      <td>-1</td>\n",
       "      <td>-1</td>\n",
       "      <td>-1</td>\n",
       "      <td>-1</td>\n",
       "      <td>-1</td>\n",
       "      <td>-1</td>\n",
       "      <td>...</td>\n",
       "      <td>-1</td>\n",
       "      <td>-1</td>\n",
       "      <td>-1</td>\n",
       "      <td>-1</td>\n",
       "      <td>-1</td>\n",
       "      <td>-1</td>\n",
       "      <td>train</td>\n",
       "      <td>NaN</td>\n",
       "      <td>-1</td>\n",
       "      <td>-1</td>\n",
       "    </tr>\n",
       "    <tr>\n",
       "      <th>10725</th>\n",
       "      <th>st000</th>\n",
       "      <td>-1</td>\n",
       "      <td>-1</td>\n",
       "      <td>-1</td>\n",
       "      <td>-1</td>\n",
       "      <td>-1</td>\n",
       "      <td>-1</td>\n",
       "      <td>-1</td>\n",
       "      <td>-1</td>\n",
       "      <td>-1</td>\n",
       "      <td>-1</td>\n",
       "      <td>...</td>\n",
       "      <td>-1</td>\n",
       "      <td>-1</td>\n",
       "      <td>-1</td>\n",
       "      <td>-1</td>\n",
       "      <td>-1</td>\n",
       "      <td>-1</td>\n",
       "      <td>train</td>\n",
       "      <td>NaN</td>\n",
       "      <td>-1</td>\n",
       "      <td>-1</td>\n",
       "    </tr>\n",
       "    <tr>\n",
       "      <th>10726</th>\n",
       "      <th>st000</th>\n",
       "      <td>-1</td>\n",
       "      <td>-1</td>\n",
       "      <td>-1</td>\n",
       "      <td>-1</td>\n",
       "      <td>-1</td>\n",
       "      <td>-1</td>\n",
       "      <td>-1</td>\n",
       "      <td>-1</td>\n",
       "      <td>-1</td>\n",
       "      <td>-1</td>\n",
       "      <td>...</td>\n",
       "      <td>-1</td>\n",
       "      <td>-1</td>\n",
       "      <td>-1</td>\n",
       "      <td>-1</td>\n",
       "      <td>-1</td>\n",
       "      <td>-1</td>\n",
       "      <td>train</td>\n",
       "      <td>NaN</td>\n",
       "      <td>-1</td>\n",
       "      <td>-1</td>\n",
       "    </tr>\n",
       "  </tbody>\n",
       "</table>\n",
       "<p>512 rows × 390 columns</p>\n",
       "</div>"
      ],
      "text/plain": [
       "                        AB0/RhD_bloedgroep ANCA_fluorescentie  \\\n",
       "patientprimarymrn study                                         \n",
       "10002             st000                 -1                 -1   \n",
       "10006             st000                 -1                 -1   \n",
       "10007             st000                 -1                 -1   \n",
       "10011             st000                 -1                 -1   \n",
       "10016             st000                 -1                 -1   \n",
       "...                                    ...                ...   \n",
       "10722             st000                 -1                 -1   \n",
       "10723             st000                 -1                 -1   \n",
       "10724             st000                 -1                 -1   \n",
       "10725             st000                 -1                 -1   \n",
       "10726             st000                 -1                 -1   \n",
       "\n",
       "                        ANTI-NMDA_RECEPTOR ASXL1_mutatie_exon_13_beenmerg  \\\n",
       "patientprimarymrn study                                                     \n",
       "10002             st000                 -1                             -1   \n",
       "10006             st000                 -1                             -1   \n",
       "10007             st000                 -1                             -1   \n",
       "10011             st000                 -1                             -1   \n",
       "10016             st000                 -1                             -1   \n",
       "...                                    ...                            ...   \n",
       "10722             st000                 -1                             -1   \n",
       "10723             st000                 -1                             -1   \n",
       "10724             st000                 -1                             -1   \n",
       "10725             st000                 -1                             -1   \n",
       "10726             st000                 -1                             -1   \n",
       "\n",
       "                        Abnormale_hemoglobines Afnameconditie  \\\n",
       "patientprimarymrn study                                         \n",
       "10002             st000                     -1             -1   \n",
       "10006             st000                     -1             -1   \n",
       "10007             st000                     -1             -1   \n",
       "10011             st000                     -1             -1   \n",
       "10016             st000                     -1             -1   \n",
       "...                                        ...            ...   \n",
       "10722             st000                     -1             -1   \n",
       "10723             st000                     -1             -1   \n",
       "10724             st000                     -1             -1   \n",
       "10725             st000                     -1             -1   \n",
       "10726             st000                     -1             -1   \n",
       "\n",
       "                        Alarm_Hemocytometrie Alg_bact_onderz  \\\n",
       "patientprimarymrn study                                        \n",
       "10002             st000                   -1              -1   \n",
       "10006             st000                   -1              -1   \n",
       "10007             st000                   -1              -1   \n",
       "10011             st000                    0               2   \n",
       "10016             st000                   -1               3   \n",
       "...                                      ...             ...   \n",
       "10722             st000                   -1              -1   \n",
       "10723             st000                   -1              -1   \n",
       "10724             st000                   -1              -1   \n",
       "10725             st000                   -1              -1   \n",
       "10726             st000                   -1              -1   \n",
       "\n",
       "                        Algemene_kweek_BAL Algemene_kweek_Bronchusspoeling  \\\n",
       "patientprimarymrn study                                                      \n",
       "10002             st000                 -1                              -1   \n",
       "10006             st000                 -1                              -1   \n",
       "10007             st000                 -1                              -1   \n",
       "10011             st000                 -1                              -1   \n",
       "10016             st000                 -1                              -1   \n",
       "...                                    ...                             ...   \n",
       "10722             st000                 -1                              -1   \n",
       "10723             st000                 -1                              -1   \n",
       "10724             st000                 -1                              -1   \n",
       "10725             st000                 -1                              -1   \n",
       "10726             st000                 -1                              -1   \n",
       "\n",
       "                         ... Yersinia_IgA Yersinia_IgG  \\\n",
       "patientprimarymrn study  ...                             \n",
       "10002             st000  ...           -1           -1   \n",
       "10006             st000  ...           -1           -1   \n",
       "10007             st000  ...           -1           -1   \n",
       "10011             st000  ...           -1           -1   \n",
       "10016             st000  ...           -1           -1   \n",
       "...                      ...          ...          ...   \n",
       "10722             st000  ...           -1           -1   \n",
       "10723             st000  ...           -1           -1   \n",
       "10724             st000  ...           -1           -1   \n",
       "10725             st000  ...           -1           -1   \n",
       "10726             st000  ...           -1           -1   \n",
       "\n",
       "                        Zuurvaste_staven_Auramine bacterien_urine  \\\n",
       "patientprimarymrn study                                             \n",
       "10002             st000                        -1              -1   \n",
       "10006             st000                        -1               0   \n",
       "10007             st000                        -1              -1   \n",
       "10011             st000                        -1               0   \n",
       "10016             st000                        -1              -1   \n",
       "...                                           ...             ...   \n",
       "10722             st000                        -1              -1   \n",
       "10723             st000                        -1              -1   \n",
       "10724             st000                        -1              -1   \n",
       "10725             st000                        -1              -1   \n",
       "10726             st000                        -1              -1   \n",
       "\n",
       "                        erytrocyten_Urine jonge_lymfocyten   part       pcr  \\\n",
       "patientprimarymrn study                                                       \n",
       "10002             st000                -1               -1  train       NaN   \n",
       "10006             st000                 0               -1  train       NaN   \n",
       "10007             st000                -1               -1  train       NaN   \n",
       "10011             st000                 0               -1  train  Negatief   \n",
       "10016             st000                 1               -1  train  Negatief   \n",
       "...                                   ...              ...    ...       ...   \n",
       "10722             st000                -1               -1  train       NaN   \n",
       "10723             st000                -1               -1  train       NaN   \n",
       "10724             st000                -1               -1  train       NaN   \n",
       "10725             st000                -1               -1  train       NaN   \n",
       "10726             st000                -1               -1  train       NaN   \n",
       "\n",
       "                        plasmacytoide_lymfocyten sex  \n",
       "patientprimarymrn study                               \n",
       "10002             st000                       -1   0  \n",
       "10006             st000                       -1   1  \n",
       "10007             st000                       -1  -1  \n",
       "10011             st000                       -1   1  \n",
       "10016             st000                       -1   1  \n",
       "...                                          ...  ..  \n",
       "10722             st000                       -1  -1  \n",
       "10723             st000                       -1  -1  \n",
       "10724             st000                       -1  -1  \n",
       "10725             st000                       -1  -1  \n",
       "10726             st000                       -1  -1  \n",
       "\n",
       "[512 rows x 390 columns]"
      ]
     },
     "execution_count": 53,
     "metadata": {},
     "output_type": "execute_result"
    }
   ],
   "source": [
    "df_train.select_dtypes(include='category')"
   ]
  },
  {
   "cell_type": "code",
   "execution_count": 65,
   "id": "every-control",
   "metadata": {},
   "outputs": [],
   "source": [
    "def thresh_auc(y, y_pred, print_error=False):\n",
    "    y_thresh = y >= 3\n",
    "    y_pred_thresh = y_pred/4\n",
    "    try:\n",
    "        auc = roc_auc_score(y_thresh, y_pred_thresh)\n",
    "    except Exception as e:\n",
    "        print(e)\n",
    "        if print_error:\n",
    "            print('scoring failed')\n",
    "        return 'thresh_auc', 0.0, True\n",
    "    return 'thresh_auc', roc_auc_score(y_thresh, y_pred_thresh), True"
   ]
  },
  {
   "cell_type": "code",
   "execution_count": 112,
   "id": "proud-deficit",
   "metadata": {},
   "outputs": [],
   "source": [
    "from contextlib import contextmanager,redirect_stderr,redirect_stdout\n",
    "from os import devnull\n",
    "\n",
    "@contextmanager\n",
    "def suppress_stdout_stderr():\n",
    "    \"\"\"A context manager that redirects stdout and stderr to devnull\"\"\"\n",
    "    with open(devnull, 'w') as fnull:\n",
    "        with redirect_stderr(fnull) as err:\n",
    "            yield (err, )"
   ]
  },
  {
   "cell_type": "code",
   "execution_count": 113,
   "id": "handed-syracuse",
   "metadata": {},
   "outputs": [],
   "source": [
    "import optuna\n",
    "from scipy.stats import randint, uniform\n",
    "from sklearn.utils.fixes import loguniform\n",
    "from sklearn.metrics import roc_auc_score\n",
    "import lightgbm as lgb\n",
    "import warnings\n",
    "\n",
    "def objective(trial: optuna.Trial):\n",
    "    def thresh_auc_pct(preds, data):\n",
    "        y_true = data.get_label()\n",
    "        auc = thresh_auc(y_true, preds)\n",
    "        return 'thresh_auc', auc, True\n",
    "\n",
    "    def thresh_auc(y, y_pred, print_error=False):\n",
    "        y_thresh = y >= 3\n",
    "        y_pred_thresh = y_pred/4\n",
    "        try:\n",
    "            auc = roc_auc_score(y_thresh, y_pred_thresh)\n",
    "        except Exception as e:\n",
    "            print(e)\n",
    "            if print_error:\n",
    "                print('scoring failed')\n",
    "            return 'thresh_auc', 0.0, True\n",
    "        return 'thresh_auc', roc_auc_score(y_thresh, y_pred_thresh), True\n",
    "    \n",
    "    # 2. Suggest values for the hyperparameters using a trial object.\n",
    "    param_dist = {\n",
    "        'n_estimators': randint(3, 900),\n",
    "        'boosting_type': ['dart', 'gbdt'],\n",
    "        'num_leaves': randint(2, 280),\n",
    "        'reg_alpha': loguniform(1e-9, 1e2),\n",
    "        'reg_lambda': loguniform(1e-9, 1e3),\n",
    "        'learning_rate': loguniform(1e-7, 3),\n",
    "        'subsample': uniform(0.1, 0.9),\n",
    "        'subsample_freq': randint(0, 15),\n",
    "        'min_child_samples': randint(2, 400),\n",
    "        'max_depth': randint(1, 30),\n",
    "        'max_bin': randint(7, 500),\n",
    "        'extra_trees': [False, True],\n",
    "        'path_smooth': loguniform(1e-12, 100), \n",
    "        'colsample_bytree': uniform(0.1, 0.9), \n",
    "        'linear_tree': [False, True], \n",
    "    }\n",
    "    \n",
    "    params = {}\n",
    "    \n",
    "    for k, v in param_dist.items():\n",
    "        new_val = None\n",
    "        if isinstance(v, list):\n",
    "            new_val = trial.suggest_categorical(k, v)\n",
    "        elif v.dist.name == 'randint':\n",
    "            new_val = trial.suggest_int(k, v.a, v.b)\n",
    "        elif v.dist.name == 'uniform':\n",
    "            new_val = trial.suggest_float(k, v.args[0], v.args[1]+v.args[0])\n",
    "        elif v.dist.name == 'Distribution':\n",
    "            new_val = trial.suggest_loguniform(k, v.args[0], v.args[1])\n",
    "        params[k] = new_val\n",
    "        \n",
    "    X_train = df_train[input_features].copy()\n",
    "    y_train = df_train[output_feature]\n",
    "    X_val = df_val[input_features].copy()\n",
    "    y_val = df_val[output_feature]\n",
    "    \n",
    "    to_drop = []\n",
    "    for col in X_train.columns:\n",
    "        use_col = trial.suggest_categorical(f'use_col_{col}', [False, True])\n",
    "        if not use_col:\n",
    "            to_drop.append(col)\n",
    "    \n",
    "    X_train.drop(columns=to_drop, inplace=True)\n",
    "    X_val.drop(columns=to_drop, inplace=True)\n",
    "    \n",
    "    if len(X_train.columns) == 0:\n",
    "        return 0.0\n",
    "    \n",
    "    with suppress_stdout_stderr():\n",
    "        reg = lgb.sklearn.LGBMRegressor(n_jobs=-1, **params)\n",
    "        pruning_callback = optuna.integration.LightGBMPruningCallback(trial, 'thresh_auc')\n",
    "        cat_feats = list(X_train.select_dtypes(include=['category']).columns)\n",
    "        reg.fit(X_train, y_train, eval_set=[(X_val, y_val)], verbose=False, categorical_feature=cat_feats, eval_metric=thresh_auc, callbacks=[pruning_callback])\n",
    "    \n",
    "#     dtrain = lgb.Dataset(X_train, label=y_train)\n",
    "#     dvalid = lgb.Dataset(X_val, label=y_val)\n",
    "    \n",
    "#     params.update({'verbose': -1})\n",
    "        \n",
    "#     pruning_callback = optuna.integration.LightGBMPruningCallback(trial, 'thresh_auc')\n",
    "#     gbm = lgb.train(\n",
    "#         params, dtrain, valid_sets=[dvalid], feval=[thresh_auc_pct], verbose_eval=False, callbacks=[pruning_callback]\n",
    "#     )\n",
    "    \n",
    "#     preds = gbm.predict(X_val)\n",
    "#     pred_labels = np.rint(preds)\n",
    "    \n",
    "    with suppress_stdout_stderr():\n",
    "        preds = reg.predict(X_val)\n",
    "    \n",
    "    thresh_auc_score = thresh_auc(y_val, preds, print_error=True)[1]\n",
    "    \n",
    "    return thresh_auc_score"
   ]
  },
  {
   "cell_type": "code",
   "execution_count": 114,
   "id": "fatal-somewhere",
   "metadata": {},
   "outputs": [],
   "source": [
    "study = optuna.create_study(direction='maximize')"
   ]
  },
  {
   "cell_type": "code",
   "execution_count": 115,
   "id": "standard-musical",
   "metadata": {},
   "outputs": [],
   "source": [
    "optuna.logging.set_verbosity(optuna.logging.ERROR)"
   ]
  },
  {
   "cell_type": "code",
   "execution_count": 146,
   "id": "iraqi-extreme",
   "metadata": {},
   "outputs": [
    {
     "name": "stderr",
     "output_type": "stream",
     "text": [
      "c:\\users\\roel\\.virtualenvs\\diagcovid-ckc2berq\\lib\\site-packages\\optuna\\progress_bar.py:47: ExperimentalWarning: Progress bar is experimental (supported from v1.2.0). The interface can change in the future.\n",
      "  self._init_valid()\n"
     ]
    },
    {
     "data": {
      "application/vnd.jupyter.widget-view+json": {
       "model_id": "3b18a55e30cc4552a61b9cd3fc402a33",
       "version_major": 2,
       "version_minor": 0
      },
      "text/plain": [
       "  0%|          | 0/2000 [00:00<?, ?it/s]"
      ]
     },
     "metadata": {},
     "output_type": "display_data"
    },
    {
     "ename": "KeyboardInterrupt",
     "evalue": "",
     "output_type": "error",
     "traceback": [
      "\u001b[1;31m---------------------------------------------------------------------------\u001b[0m",
      "\u001b[1;31mKeyboardInterrupt\u001b[0m                         Traceback (most recent call last)",
      "\u001b[1;32m<ipython-input-146-01874ad1bb14>\u001b[0m in \u001b[0;36m<module>\u001b[1;34m\u001b[0m\n\u001b[1;32m----> 1\u001b[1;33m \u001b[0mstudy\u001b[0m\u001b[1;33m.\u001b[0m\u001b[0moptimize\u001b[0m\u001b[1;33m(\u001b[0m\u001b[0mobjective\u001b[0m\u001b[1;33m,\u001b[0m \u001b[0mn_trials\u001b[0m\u001b[1;33m=\u001b[0m\u001b[1;36m2000\u001b[0m\u001b[1;33m,\u001b[0m \u001b[0mshow_progress_bar\u001b[0m\u001b[1;33m=\u001b[0m\u001b[1;32mTrue\u001b[0m\u001b[1;33m)\u001b[0m\u001b[1;33m\u001b[0m\u001b[1;33m\u001b[0m\u001b[0m\n\u001b[0m",
      "\u001b[1;32mc:\\users\\roel\\.virtualenvs\\diagcovid-ckc2berq\\lib\\site-packages\\optuna\\study.py\u001b[0m in \u001b[0;36moptimize\u001b[1;34m(self, func, n_trials, timeout, n_jobs, catch, callbacks, gc_after_trial, show_progress_bar)\u001b[0m\n\u001b[0;32m    407\u001b[0m             \u001b[0mcallbacks\u001b[0m\u001b[1;33m=\u001b[0m\u001b[0mcallbacks\u001b[0m\u001b[1;33m,\u001b[0m\u001b[1;33m\u001b[0m\u001b[1;33m\u001b[0m\u001b[0m\n\u001b[0;32m    408\u001b[0m             \u001b[0mgc_after_trial\u001b[0m\u001b[1;33m=\u001b[0m\u001b[0mgc_after_trial\u001b[0m\u001b[1;33m,\u001b[0m\u001b[1;33m\u001b[0m\u001b[1;33m\u001b[0m\u001b[0m\n\u001b[1;32m--> 409\u001b[1;33m             \u001b[0mshow_progress_bar\u001b[0m\u001b[1;33m=\u001b[0m\u001b[0mshow_progress_bar\u001b[0m\u001b[1;33m,\u001b[0m\u001b[1;33m\u001b[0m\u001b[1;33m\u001b[0m\u001b[0m\n\u001b[0m\u001b[0;32m    410\u001b[0m         )\n\u001b[0;32m    411\u001b[0m \u001b[1;33m\u001b[0m\u001b[0m\n",
      "\u001b[1;32mc:\\users\\roel\\.virtualenvs\\diagcovid-ckc2berq\\lib\\site-packages\\optuna\\_optimize.py\u001b[0m in \u001b[0;36m_optimize\u001b[1;34m(study, func, n_trials, timeout, n_jobs, catch, callbacks, gc_after_trial, show_progress_bar)\u001b[0m\n\u001b[0;32m     74\u001b[0m                 \u001b[0mreseed_sampler_rng\u001b[0m\u001b[1;33m=\u001b[0m\u001b[1;32mFalse\u001b[0m\u001b[1;33m,\u001b[0m\u001b[1;33m\u001b[0m\u001b[1;33m\u001b[0m\u001b[0m\n\u001b[0;32m     75\u001b[0m                 \u001b[0mtime_start\u001b[0m\u001b[1;33m=\u001b[0m\u001b[1;32mNone\u001b[0m\u001b[1;33m,\u001b[0m\u001b[1;33m\u001b[0m\u001b[1;33m\u001b[0m\u001b[0m\n\u001b[1;32m---> 76\u001b[1;33m                 \u001b[0mprogress_bar\u001b[0m\u001b[1;33m=\u001b[0m\u001b[0mprogress_bar\u001b[0m\u001b[1;33m,\u001b[0m\u001b[1;33m\u001b[0m\u001b[1;33m\u001b[0m\u001b[0m\n\u001b[0m\u001b[0;32m     77\u001b[0m             )\n\u001b[0;32m     78\u001b[0m         \u001b[1;32melse\u001b[0m\u001b[1;33m:\u001b[0m\u001b[1;33m\u001b[0m\u001b[1;33m\u001b[0m\u001b[0m\n",
      "\u001b[1;32mc:\\users\\roel\\.virtualenvs\\diagcovid-ckc2berq\\lib\\site-packages\\optuna\\_optimize.py\u001b[0m in \u001b[0;36m_optimize_sequential\u001b[1;34m(study, func, n_trials, timeout, catch, callbacks, gc_after_trial, reseed_sampler_rng, time_start, progress_bar)\u001b[0m\n\u001b[0;32m    161\u001b[0m \u001b[1;33m\u001b[0m\u001b[0m\n\u001b[0;32m    162\u001b[0m         \u001b[1;32mtry\u001b[0m\u001b[1;33m:\u001b[0m\u001b[1;33m\u001b[0m\u001b[1;33m\u001b[0m\u001b[0m\n\u001b[1;32m--> 163\u001b[1;33m             \u001b[0mtrial\u001b[0m \u001b[1;33m=\u001b[0m \u001b[0m_run_trial\u001b[0m\u001b[1;33m(\u001b[0m\u001b[0mstudy\u001b[0m\u001b[1;33m,\u001b[0m \u001b[0mfunc\u001b[0m\u001b[1;33m,\u001b[0m \u001b[0mcatch\u001b[0m\u001b[1;33m)\u001b[0m\u001b[1;33m\u001b[0m\u001b[1;33m\u001b[0m\u001b[0m\n\u001b[0m\u001b[0;32m    164\u001b[0m         \u001b[1;32mexcept\u001b[0m \u001b[0mException\u001b[0m\u001b[1;33m:\u001b[0m\u001b[1;33m\u001b[0m\u001b[1;33m\u001b[0m\u001b[0m\n\u001b[0;32m    165\u001b[0m             \u001b[1;32mraise\u001b[0m\u001b[1;33m\u001b[0m\u001b[1;33m\u001b[0m\u001b[0m\n",
      "\u001b[1;32mc:\\users\\roel\\.virtualenvs\\diagcovid-ckc2berq\\lib\\site-packages\\optuna\\_optimize.py\u001b[0m in \u001b[0;36m_run_trial\u001b[1;34m(study, func, catch)\u001b[0m\n\u001b[0;32m    215\u001b[0m \u001b[1;33m\u001b[0m\u001b[0m\n\u001b[0;32m    216\u001b[0m     \u001b[1;32mtry\u001b[0m\u001b[1;33m:\u001b[0m\u001b[1;33m\u001b[0m\u001b[1;33m\u001b[0m\u001b[0m\n\u001b[1;32m--> 217\u001b[1;33m         \u001b[0mvalue_or_values\u001b[0m \u001b[1;33m=\u001b[0m \u001b[0mfunc\u001b[0m\u001b[1;33m(\u001b[0m\u001b[0mtrial\u001b[0m\u001b[1;33m)\u001b[0m\u001b[1;33m\u001b[0m\u001b[1;33m\u001b[0m\u001b[0m\n\u001b[0m\u001b[0;32m    218\u001b[0m     \u001b[1;32mexcept\u001b[0m \u001b[0mexceptions\u001b[0m\u001b[1;33m.\u001b[0m\u001b[0mTrialPruned\u001b[0m \u001b[1;32mas\u001b[0m \u001b[0me\u001b[0m\u001b[1;33m:\u001b[0m\u001b[1;33m\u001b[0m\u001b[1;33m\u001b[0m\u001b[0m\n\u001b[0;32m    219\u001b[0m         \u001b[1;31m# TODO(mamu): Handle multi-objective cases.\u001b[0m\u001b[1;33m\u001b[0m\u001b[1;33m\u001b[0m\u001b[1;33m\u001b[0m\u001b[0m\n",
      "\u001b[1;32m<ipython-input-113-cab19a0b4d02>\u001b[0m in \u001b[0;36mobjective\u001b[1;34m(trial)\u001b[0m\n\u001b[0;32m     66\u001b[0m     \u001b[0mto_drop\u001b[0m \u001b[1;33m=\u001b[0m \u001b[1;33m[\u001b[0m\u001b[1;33m]\u001b[0m\u001b[1;33m\u001b[0m\u001b[1;33m\u001b[0m\u001b[0m\n\u001b[0;32m     67\u001b[0m     \u001b[1;32mfor\u001b[0m \u001b[0mcol\u001b[0m \u001b[1;32min\u001b[0m \u001b[0mX_train\u001b[0m\u001b[1;33m.\u001b[0m\u001b[0mcolumns\u001b[0m\u001b[1;33m:\u001b[0m\u001b[1;33m\u001b[0m\u001b[1;33m\u001b[0m\u001b[0m\n\u001b[1;32m---> 68\u001b[1;33m         \u001b[0muse_col\u001b[0m \u001b[1;33m=\u001b[0m \u001b[0mtrial\u001b[0m\u001b[1;33m.\u001b[0m\u001b[0msuggest_categorical\u001b[0m\u001b[1;33m(\u001b[0m\u001b[1;34mf'use_col_{col}'\u001b[0m\u001b[1;33m,\u001b[0m \u001b[1;33m[\u001b[0m\u001b[1;32mFalse\u001b[0m\u001b[1;33m,\u001b[0m \u001b[1;32mTrue\u001b[0m\u001b[1;33m]\u001b[0m\u001b[1;33m)\u001b[0m\u001b[1;33m\u001b[0m\u001b[1;33m\u001b[0m\u001b[0m\n\u001b[0m\u001b[0;32m     69\u001b[0m         \u001b[1;32mif\u001b[0m \u001b[1;32mnot\u001b[0m \u001b[0muse_col\u001b[0m\u001b[1;33m:\u001b[0m\u001b[1;33m\u001b[0m\u001b[1;33m\u001b[0m\u001b[0m\n\u001b[0;32m     70\u001b[0m             \u001b[0mto_drop\u001b[0m\u001b[1;33m.\u001b[0m\u001b[0mappend\u001b[0m\u001b[1;33m(\u001b[0m\u001b[0mcol\u001b[0m\u001b[1;33m)\u001b[0m\u001b[1;33m\u001b[0m\u001b[1;33m\u001b[0m\u001b[0m\n",
      "\u001b[1;32mc:\\users\\roel\\.virtualenvs\\diagcovid-ckc2berq\\lib\\site-packages\\optuna\\trial\\_trial.py\u001b[0m in \u001b[0;36msuggest_categorical\u001b[1;34m(self, name, choices)\u001b[0m\n\u001b[0;32m    503\u001b[0m         \u001b[1;31m# CategoricalDistribution does not support dynamic value space.\u001b[0m\u001b[1;33m\u001b[0m\u001b[1;33m\u001b[0m\u001b[1;33m\u001b[0m\u001b[0m\n\u001b[0;32m    504\u001b[0m \u001b[1;33m\u001b[0m\u001b[0m\n\u001b[1;32m--> 505\u001b[1;33m         \u001b[1;32mreturn\u001b[0m \u001b[0mself\u001b[0m\u001b[1;33m.\u001b[0m\u001b[0m_suggest\u001b[0m\u001b[1;33m(\u001b[0m\u001b[0mname\u001b[0m\u001b[1;33m,\u001b[0m \u001b[0mCategoricalDistribution\u001b[0m\u001b[1;33m(\u001b[0m\u001b[0mchoices\u001b[0m\u001b[1;33m=\u001b[0m\u001b[0mchoices\u001b[0m\u001b[1;33m)\u001b[0m\u001b[1;33m)\u001b[0m\u001b[1;33m\u001b[0m\u001b[1;33m\u001b[0m\u001b[0m\n\u001b[0m\u001b[0;32m    506\u001b[0m \u001b[1;33m\u001b[0m\u001b[0m\n\u001b[0;32m    507\u001b[0m     \u001b[1;32mdef\u001b[0m \u001b[0mreport\u001b[0m\u001b[1;33m(\u001b[0m\u001b[0mself\u001b[0m\u001b[1;33m,\u001b[0m \u001b[0mvalue\u001b[0m\u001b[1;33m:\u001b[0m \u001b[0mfloat\u001b[0m\u001b[1;33m,\u001b[0m \u001b[0mstep\u001b[0m\u001b[1;33m:\u001b[0m \u001b[0mint\u001b[0m\u001b[1;33m)\u001b[0m \u001b[1;33m->\u001b[0m \u001b[1;32mNone\u001b[0m\u001b[1;33m:\u001b[0m\u001b[1;33m\u001b[0m\u001b[1;33m\u001b[0m\u001b[0m\n",
      "\u001b[1;32mc:\\users\\roel\\.virtualenvs\\diagcovid-ckc2berq\\lib\\site-packages\\optuna\\trial\\_trial.py\u001b[0m in \u001b[0;36m_suggest\u001b[1;34m(self, name, distribution)\u001b[0m\n\u001b[0;32m    715\u001b[0m                 \u001b[0mstudy\u001b[0m \u001b[1;33m=\u001b[0m \u001b[0mpruners\u001b[0m\u001b[1;33m.\u001b[0m\u001b[0m_filter_study\u001b[0m\u001b[1;33m(\u001b[0m\u001b[0mself\u001b[0m\u001b[1;33m.\u001b[0m\u001b[0mstudy\u001b[0m\u001b[1;33m,\u001b[0m \u001b[0mtrial\u001b[0m\u001b[1;33m)\u001b[0m\u001b[1;33m\u001b[0m\u001b[1;33m\u001b[0m\u001b[0m\n\u001b[0;32m    716\u001b[0m                 param_value = self.study.sampler.sample_independent(\n\u001b[1;32m--> 717\u001b[1;33m                     \u001b[0mstudy\u001b[0m\u001b[1;33m,\u001b[0m \u001b[0mtrial\u001b[0m\u001b[1;33m,\u001b[0m \u001b[0mname\u001b[0m\u001b[1;33m,\u001b[0m \u001b[0mdistribution\u001b[0m\u001b[1;33m\u001b[0m\u001b[1;33m\u001b[0m\u001b[0m\n\u001b[0m\u001b[0;32m    718\u001b[0m                 )\n\u001b[0;32m    719\u001b[0m \u001b[1;33m\u001b[0m\u001b[0m\n",
      "\u001b[1;32mc:\\users\\roel\\.virtualenvs\\diagcovid-ckc2berq\\lib\\site-packages\\optuna\\samplers\\_tpe\\sampler.py\u001b[0m in \u001b[0;36msample_independent\u001b[1;34m(self, study, trial, param_name, param_distribution)\u001b[0m\n\u001b[0;32m    275\u001b[0m         \u001b[0mself\u001b[0m\u001b[1;33m.\u001b[0m\u001b[0m_raise_error_if_multi_objective\u001b[0m\u001b[1;33m(\u001b[0m\u001b[0mstudy\u001b[0m\u001b[1;33m)\u001b[0m\u001b[1;33m\u001b[0m\u001b[1;33m\u001b[0m\u001b[0m\n\u001b[0;32m    276\u001b[0m \u001b[1;33m\u001b[0m\u001b[0m\n\u001b[1;32m--> 277\u001b[1;33m         \u001b[0mvalues\u001b[0m\u001b[1;33m,\u001b[0m \u001b[0mscores\u001b[0m \u001b[1;33m=\u001b[0m \u001b[0m_get_observation_pairs\u001b[0m\u001b[1;33m(\u001b[0m\u001b[0mstudy\u001b[0m\u001b[1;33m,\u001b[0m \u001b[0mparam_name\u001b[0m\u001b[1;33m)\u001b[0m\u001b[1;33m\u001b[0m\u001b[1;33m\u001b[0m\u001b[0m\n\u001b[0m\u001b[0;32m    278\u001b[0m \u001b[1;33m\u001b[0m\u001b[0m\n\u001b[0;32m    279\u001b[0m         \u001b[0mn\u001b[0m \u001b[1;33m=\u001b[0m \u001b[0mlen\u001b[0m\u001b[1;33m(\u001b[0m\u001b[0mvalues\u001b[0m\u001b[1;33m)\u001b[0m\u001b[1;33m\u001b[0m\u001b[1;33m\u001b[0m\u001b[0m\n",
      "\u001b[1;32mc:\\users\\roel\\.virtualenvs\\diagcovid-ckc2berq\\lib\\site-packages\\optuna\\samplers\\_tpe\\sampler.py\u001b[0m in \u001b[0;36m_get_observation_pairs\u001b[1;34m(study, param_name)\u001b[0m\n\u001b[0;32m    798\u001b[0m         \u001b[1;32mif\u001b[0m \u001b[0mparam_name\u001b[0m \u001b[1;32min\u001b[0m \u001b[0mtrial\u001b[0m\u001b[1;33m.\u001b[0m\u001b[0mparams\u001b[0m\u001b[1;33m:\u001b[0m\u001b[1;33m\u001b[0m\u001b[1;33m\u001b[0m\u001b[0m\n\u001b[0;32m    799\u001b[0m             \u001b[0mdistribution\u001b[0m \u001b[1;33m=\u001b[0m \u001b[0mtrial\u001b[0m\u001b[1;33m.\u001b[0m\u001b[0mdistributions\u001b[0m\u001b[1;33m[\u001b[0m\u001b[0mparam_name\u001b[0m\u001b[1;33m]\u001b[0m\u001b[1;33m\u001b[0m\u001b[1;33m\u001b[0m\u001b[0m\n\u001b[1;32m--> 800\u001b[1;33m             \u001b[0mparam_value\u001b[0m \u001b[1;33m=\u001b[0m \u001b[0mdistribution\u001b[0m\u001b[1;33m.\u001b[0m\u001b[0mto_internal_repr\u001b[0m\u001b[1;33m(\u001b[0m\u001b[0mtrial\u001b[0m\u001b[1;33m.\u001b[0m\u001b[0mparams\u001b[0m\u001b[1;33m[\u001b[0m\u001b[0mparam_name\u001b[0m\u001b[1;33m]\u001b[0m\u001b[1;33m)\u001b[0m\u001b[1;33m\u001b[0m\u001b[1;33m\u001b[0m\u001b[0m\n\u001b[0m\u001b[0;32m    801\u001b[0m \u001b[1;33m\u001b[0m\u001b[0m\n\u001b[0;32m    802\u001b[0m         \u001b[0mvalues\u001b[0m\u001b[1;33m.\u001b[0m\u001b[0mappend\u001b[0m\u001b[1;33m(\u001b[0m\u001b[0mparam_value\u001b[0m\u001b[1;33m)\u001b[0m\u001b[1;33m\u001b[0m\u001b[1;33m\u001b[0m\u001b[0m\n",
      "\u001b[1;31mKeyboardInterrupt\u001b[0m: "
     ]
    }
   ],
   "source": [
    "study.optimize(objective, n_trials=2000, show_progress_bar=True)"
   ]
  },
  {
   "cell_type": "code",
   "execution_count": 147,
   "id": "chicken-volume",
   "metadata": {},
   "outputs": [
    {
     "data": {
      "text/plain": [
       "0.9549842837898518"
      ]
     },
     "execution_count": 147,
     "metadata": {},
     "output_type": "execute_result"
    }
   ],
   "source": [
    "study.best_value"
   ]
  },
  {
   "cell_type": "code",
   "execution_count": 151,
   "id": "prescription-bandwidth",
   "metadata": {},
   "outputs": [
    {
     "data": {
      "text/html": [
       "<div>\n",
       "<style scoped>\n",
       "    .dataframe tbody tr th:only-of-type {\n",
       "        vertical-align: middle;\n",
       "    }\n",
       "\n",
       "    .dataframe tbody tr th {\n",
       "        vertical-align: top;\n",
       "    }\n",
       "\n",
       "    .dataframe thead th {\n",
       "        text-align: right;\n",
       "    }\n",
       "</style>\n",
       "<table border=\"1\" class=\"dataframe\">\n",
       "  <thead>\n",
       "    <tr style=\"text-align: right;\">\n",
       "      <th></th>\n",
       "      <th>number</th>\n",
       "      <th>value</th>\n",
       "      <th>datetime_start</th>\n",
       "      <th>datetime_complete</th>\n",
       "      <th>duration</th>\n",
       "      <th>params_boosting_type</th>\n",
       "      <th>params_colsample_bytree</th>\n",
       "      <th>params_extra_trees</th>\n",
       "      <th>params_learning_rate</th>\n",
       "      <th>params_linear_tree</th>\n",
       "      <th>...</th>\n",
       "      <th>params_use_col_vis_feature_56</th>\n",
       "      <th>params_use_col_vis_feature_57</th>\n",
       "      <th>params_use_col_vis_feature_58</th>\n",
       "      <th>params_use_col_vis_feature_59</th>\n",
       "      <th>params_use_col_vis_feature_6</th>\n",
       "      <th>params_use_col_vis_feature_7</th>\n",
       "      <th>params_use_col_vis_feature_8</th>\n",
       "      <th>params_use_col_vis_feature_9</th>\n",
       "      <th>params_use_col_zuurstofsaturatie_POCT</th>\n",
       "      <th>state</th>\n",
       "    </tr>\n",
       "  </thead>\n",
       "  <tbody>\n",
       "    <tr>\n",
       "      <th>0</th>\n",
       "      <td>0</td>\n",
       "      <td>0.928604</td>\n",
       "      <td>2021-04-15 15:06:29.606242</td>\n",
       "      <td>2021-04-15 15:06:32.124241</td>\n",
       "      <td>0 days 00:00:02.517999</td>\n",
       "      <td>gbdt</td>\n",
       "      <td>0.307073</td>\n",
       "      <td>False</td>\n",
       "      <td>0.000001</td>\n",
       "      <td>True</td>\n",
       "      <td>...</td>\n",
       "      <td>False</td>\n",
       "      <td>False</td>\n",
       "      <td>False</td>\n",
       "      <td>True</td>\n",
       "      <td>False</td>\n",
       "      <td>True</td>\n",
       "      <td>False</td>\n",
       "      <td>False</td>\n",
       "      <td>True</td>\n",
       "      <td>COMPLETE</td>\n",
       "    </tr>\n",
       "    <tr>\n",
       "      <th>1</th>\n",
       "      <td>1</td>\n",
       "      <td>0.500000</td>\n",
       "      <td>2021-04-15 15:06:32.125242</td>\n",
       "      <td>2021-04-15 15:06:34.641240</td>\n",
       "      <td>0 days 00:00:02.515998</td>\n",
       "      <td>dart</td>\n",
       "      <td>0.920971</td>\n",
       "      <td>False</td>\n",
       "      <td>0.260241</td>\n",
       "      <td>True</td>\n",
       "      <td>...</td>\n",
       "      <td>True</td>\n",
       "      <td>True</td>\n",
       "      <td>True</td>\n",
       "      <td>False</td>\n",
       "      <td>True</td>\n",
       "      <td>True</td>\n",
       "      <td>False</td>\n",
       "      <td>False</td>\n",
       "      <td>True</td>\n",
       "      <td>COMPLETE</td>\n",
       "    </tr>\n",
       "    <tr>\n",
       "      <th>2</th>\n",
       "      <td>2</td>\n",
       "      <td>0.937360</td>\n",
       "      <td>2021-04-15 15:06:34.643242</td>\n",
       "      <td>2021-04-15 15:06:36.963241</td>\n",
       "      <td>0 days 00:00:02.319999</td>\n",
       "      <td>dart</td>\n",
       "      <td>0.808997</td>\n",
       "      <td>False</td>\n",
       "      <td>0.000002</td>\n",
       "      <td>False</td>\n",
       "      <td>...</td>\n",
       "      <td>True</td>\n",
       "      <td>False</td>\n",
       "      <td>False</td>\n",
       "      <td>False</td>\n",
       "      <td>True</td>\n",
       "      <td>False</td>\n",
       "      <td>True</td>\n",
       "      <td>False</td>\n",
       "      <td>True</td>\n",
       "      <td>COMPLETE</td>\n",
       "    </tr>\n",
       "    <tr>\n",
       "      <th>3</th>\n",
       "      <td>3</td>\n",
       "      <td>0.500000</td>\n",
       "      <td>2021-04-15 15:06:36.965241</td>\n",
       "      <td>2021-04-15 15:06:38.375242</td>\n",
       "      <td>0 days 00:00:01.410001</td>\n",
       "      <td>gbdt</td>\n",
       "      <td>0.651130</td>\n",
       "      <td>False</td>\n",
       "      <td>0.005359</td>\n",
       "      <td>False</td>\n",
       "      <td>...</td>\n",
       "      <td>True</td>\n",
       "      <td>True</td>\n",
       "      <td>True</td>\n",
       "      <td>False</td>\n",
       "      <td>False</td>\n",
       "      <td>False</td>\n",
       "      <td>False</td>\n",
       "      <td>False</td>\n",
       "      <td>False</td>\n",
       "      <td>COMPLETE</td>\n",
       "    </tr>\n",
       "    <tr>\n",
       "      <th>4</th>\n",
       "      <td>4</td>\n",
       "      <td>0.500000</td>\n",
       "      <td>2021-04-15 15:06:38.376242</td>\n",
       "      <td>2021-04-15 15:06:40.688241</td>\n",
       "      <td>0 days 00:00:02.311999</td>\n",
       "      <td>dart</td>\n",
       "      <td>0.256119</td>\n",
       "      <td>True</td>\n",
       "      <td>0.434681</td>\n",
       "      <td>True</td>\n",
       "      <td>...</td>\n",
       "      <td>False</td>\n",
       "      <td>False</td>\n",
       "      <td>False</td>\n",
       "      <td>True</td>\n",
       "      <td>True</td>\n",
       "      <td>True</td>\n",
       "      <td>True</td>\n",
       "      <td>True</td>\n",
       "      <td>True</td>\n",
       "      <td>COMPLETE</td>\n",
       "    </tr>\n",
       "    <tr>\n",
       "      <th>...</th>\n",
       "      <td>...</td>\n",
       "      <td>...</td>\n",
       "      <td>...</td>\n",
       "      <td>...</td>\n",
       "      <td>...</td>\n",
       "      <td>...</td>\n",
       "      <td>...</td>\n",
       "      <td>...</td>\n",
       "      <td>...</td>\n",
       "      <td>...</td>\n",
       "      <td>...</td>\n",
       "      <td>...</td>\n",
       "      <td>...</td>\n",
       "      <td>...</td>\n",
       "      <td>...</td>\n",
       "      <td>...</td>\n",
       "      <td>...</td>\n",
       "      <td>...</td>\n",
       "      <td>...</td>\n",
       "      <td>...</td>\n",
       "      <td>...</td>\n",
       "    </tr>\n",
       "    <tr>\n",
       "      <th>1446</th>\n",
       "      <td>1446</td>\n",
       "      <td>0.946340</td>\n",
       "      <td>2021-04-15 17:53:50.204218</td>\n",
       "      <td>2021-04-15 17:54:04.558002</td>\n",
       "      <td>0 days 00:00:14.353784</td>\n",
       "      <td>gbdt</td>\n",
       "      <td>0.895277</td>\n",
       "      <td>False</td>\n",
       "      <td>0.000325</td>\n",
       "      <td>False</td>\n",
       "      <td>...</td>\n",
       "      <td>False</td>\n",
       "      <td>False</td>\n",
       "      <td>True</td>\n",
       "      <td>True</td>\n",
       "      <td>False</td>\n",
       "      <td>True</td>\n",
       "      <td>True</td>\n",
       "      <td>True</td>\n",
       "      <td>True</td>\n",
       "      <td>COMPLETE</td>\n",
       "    </tr>\n",
       "    <tr>\n",
       "      <th>1447</th>\n",
       "      <td>1447</td>\n",
       "      <td>0.921980</td>\n",
       "      <td>2021-04-15 17:54:04.559541</td>\n",
       "      <td>2021-04-15 17:54:16.819309</td>\n",
       "      <td>0 days 00:00:12.259768</td>\n",
       "      <td>gbdt</td>\n",
       "      <td>0.965700</td>\n",
       "      <td>False</td>\n",
       "      <td>0.000039</td>\n",
       "      <td>False</td>\n",
       "      <td>...</td>\n",
       "      <td>False</td>\n",
       "      <td>False</td>\n",
       "      <td>True</td>\n",
       "      <td>True</td>\n",
       "      <td>False</td>\n",
       "      <td>True</td>\n",
       "      <td>True</td>\n",
       "      <td>True</td>\n",
       "      <td>True</td>\n",
       "      <td>PRUNED</td>\n",
       "    </tr>\n",
       "    <tr>\n",
       "      <th>1448</th>\n",
       "      <td>1448</td>\n",
       "      <td>0.931073</td>\n",
       "      <td>2021-04-15 17:54:16.821819</td>\n",
       "      <td>2021-04-15 17:54:33.143758</td>\n",
       "      <td>0 days 00:00:16.321939</td>\n",
       "      <td>gbdt</td>\n",
       "      <td>0.936519</td>\n",
       "      <td>False</td>\n",
       "      <td>0.000130</td>\n",
       "      <td>False</td>\n",
       "      <td>...</td>\n",
       "      <td>False</td>\n",
       "      <td>False</td>\n",
       "      <td>True</td>\n",
       "      <td>True</td>\n",
       "      <td>False</td>\n",
       "      <td>True</td>\n",
       "      <td>True</td>\n",
       "      <td>True</td>\n",
       "      <td>True</td>\n",
       "      <td>PRUNED</td>\n",
       "    </tr>\n",
       "    <tr>\n",
       "      <th>1449</th>\n",
       "      <td>1449</td>\n",
       "      <td>0.885496</td>\n",
       "      <td>2021-04-15 17:54:33.145758</td>\n",
       "      <td>2021-04-15 17:54:46.060160</td>\n",
       "      <td>0 days 00:00:12.914402</td>\n",
       "      <td>gbdt</td>\n",
       "      <td>0.998904</td>\n",
       "      <td>False</td>\n",
       "      <td>0.000203</td>\n",
       "      <td>False</td>\n",
       "      <td>...</td>\n",
       "      <td>False</td>\n",
       "      <td>False</td>\n",
       "      <td>True</td>\n",
       "      <td>True</td>\n",
       "      <td>False</td>\n",
       "      <td>True</td>\n",
       "      <td>True</td>\n",
       "      <td>True</td>\n",
       "      <td>True</td>\n",
       "      <td>PRUNED</td>\n",
       "    </tr>\n",
       "    <tr>\n",
       "      <th>1450</th>\n",
       "      <td>1450</td>\n",
       "      <td>NaN</td>\n",
       "      <td>2021-04-15 17:54:46.063162</td>\n",
       "      <td>NaT</td>\n",
       "      <td>NaT</td>\n",
       "      <td>gbdt</td>\n",
       "      <td>0.973302</td>\n",
       "      <td>False</td>\n",
       "      <td>0.000062</td>\n",
       "      <td>False</td>\n",
       "      <td>...</td>\n",
       "      <td>NaN</td>\n",
       "      <td>NaN</td>\n",
       "      <td>NaN</td>\n",
       "      <td>NaN</td>\n",
       "      <td>NaN</td>\n",
       "      <td>NaN</td>\n",
       "      <td>NaN</td>\n",
       "      <td>NaN</td>\n",
       "      <td>NaN</td>\n",
       "      <td>RUNNING</td>\n",
       "    </tr>\n",
       "  </tbody>\n",
       "</table>\n",
       "<p>1451 rows × 1462 columns</p>\n",
       "</div>"
      ],
      "text/plain": [
       "      number     value             datetime_start          datetime_complete  \\\n",
       "0          0  0.928604 2021-04-15 15:06:29.606242 2021-04-15 15:06:32.124241   \n",
       "1          1  0.500000 2021-04-15 15:06:32.125242 2021-04-15 15:06:34.641240   \n",
       "2          2  0.937360 2021-04-15 15:06:34.643242 2021-04-15 15:06:36.963241   \n",
       "3          3  0.500000 2021-04-15 15:06:36.965241 2021-04-15 15:06:38.375242   \n",
       "4          4  0.500000 2021-04-15 15:06:38.376242 2021-04-15 15:06:40.688241   \n",
       "...      ...       ...                        ...                        ...   \n",
       "1446    1446  0.946340 2021-04-15 17:53:50.204218 2021-04-15 17:54:04.558002   \n",
       "1447    1447  0.921980 2021-04-15 17:54:04.559541 2021-04-15 17:54:16.819309   \n",
       "1448    1448  0.931073 2021-04-15 17:54:16.821819 2021-04-15 17:54:33.143758   \n",
       "1449    1449  0.885496 2021-04-15 17:54:33.145758 2021-04-15 17:54:46.060160   \n",
       "1450    1450       NaN 2021-04-15 17:54:46.063162                        NaT   \n",
       "\n",
       "                   duration params_boosting_type  params_colsample_bytree  \\\n",
       "0    0 days 00:00:02.517999                 gbdt                 0.307073   \n",
       "1    0 days 00:00:02.515998                 dart                 0.920971   \n",
       "2    0 days 00:00:02.319999                 dart                 0.808997   \n",
       "3    0 days 00:00:01.410001                 gbdt                 0.651130   \n",
       "4    0 days 00:00:02.311999                 dart                 0.256119   \n",
       "...                     ...                  ...                      ...   \n",
       "1446 0 days 00:00:14.353784                 gbdt                 0.895277   \n",
       "1447 0 days 00:00:12.259768                 gbdt                 0.965700   \n",
       "1448 0 days 00:00:16.321939                 gbdt                 0.936519   \n",
       "1449 0 days 00:00:12.914402                 gbdt                 0.998904   \n",
       "1450                    NaT                 gbdt                 0.973302   \n",
       "\n",
       "      params_extra_trees  params_learning_rate  params_linear_tree  ...  \\\n",
       "0                  False              0.000001                True  ...   \n",
       "1                  False              0.260241                True  ...   \n",
       "2                  False              0.000002               False  ...   \n",
       "3                  False              0.005359               False  ...   \n",
       "4                   True              0.434681                True  ...   \n",
       "...                  ...                   ...                 ...  ...   \n",
       "1446               False              0.000325               False  ...   \n",
       "1447               False              0.000039               False  ...   \n",
       "1448               False              0.000130               False  ...   \n",
       "1449               False              0.000203               False  ...   \n",
       "1450               False              0.000062               False  ...   \n",
       "\n",
       "      params_use_col_vis_feature_56  params_use_col_vis_feature_57  \\\n",
       "0                             False                          False   \n",
       "1                              True                           True   \n",
       "2                              True                          False   \n",
       "3                              True                           True   \n",
       "4                             False                          False   \n",
       "...                             ...                            ...   \n",
       "1446                          False                          False   \n",
       "1447                          False                          False   \n",
       "1448                          False                          False   \n",
       "1449                          False                          False   \n",
       "1450                            NaN                            NaN   \n",
       "\n",
       "      params_use_col_vis_feature_58  params_use_col_vis_feature_59  \\\n",
       "0                             False                           True   \n",
       "1                              True                          False   \n",
       "2                             False                          False   \n",
       "3                              True                          False   \n",
       "4                             False                           True   \n",
       "...                             ...                            ...   \n",
       "1446                           True                           True   \n",
       "1447                           True                           True   \n",
       "1448                           True                           True   \n",
       "1449                           True                           True   \n",
       "1450                            NaN                            NaN   \n",
       "\n",
       "      params_use_col_vis_feature_6  params_use_col_vis_feature_7  \\\n",
       "0                            False                          True   \n",
       "1                             True                          True   \n",
       "2                             True                         False   \n",
       "3                            False                         False   \n",
       "4                             True                          True   \n",
       "...                            ...                           ...   \n",
       "1446                         False                          True   \n",
       "1447                         False                          True   \n",
       "1448                         False                          True   \n",
       "1449                         False                          True   \n",
       "1450                           NaN                           NaN   \n",
       "\n",
       "      params_use_col_vis_feature_8  params_use_col_vis_feature_9  \\\n",
       "0                            False                         False   \n",
       "1                            False                         False   \n",
       "2                             True                         False   \n",
       "3                            False                         False   \n",
       "4                             True                          True   \n",
       "...                            ...                           ...   \n",
       "1446                          True                          True   \n",
       "1447                          True                          True   \n",
       "1448                          True                          True   \n",
       "1449                          True                          True   \n",
       "1450                           NaN                           NaN   \n",
       "\n",
       "      params_use_col_zuurstofsaturatie_POCT     state  \n",
       "0                                      True  COMPLETE  \n",
       "1                                      True  COMPLETE  \n",
       "2                                      True  COMPLETE  \n",
       "3                                     False  COMPLETE  \n",
       "4                                      True  COMPLETE  \n",
       "...                                     ...       ...  \n",
       "1446                                   True  COMPLETE  \n",
       "1447                                   True    PRUNED  \n",
       "1448                                   True    PRUNED  \n",
       "1449                                   True    PRUNED  \n",
       "1450                                    NaN   RUNNING  \n",
       "\n",
       "[1451 rows x 1462 columns]"
      ]
     },
     "execution_count": 151,
     "metadata": {},
     "output_type": "execute_result"
    }
   ],
   "source": [
    "study.trials_dataframe()"
   ]
  },
  {
   "cell_type": "code",
   "execution_count": 148,
   "id": "powered-damage",
   "metadata": {},
   "outputs": [
    {
     "data": {
      "text/plain": [
       "LGBMRegressor(colsample_bytree=0.9990770484387179, extra_trees=False,\n",
       "              learning_rate=0.00020697092158988766, linear_tree=False,\n",
       "              max_bin=294, max_depth=21, min_child_samples=2, n_estimators=68,\n",
       "              num_leaves=16, path_smooth=0.0003384174348239454,\n",
       "              reg_alpha=5.277130904730964e-07,\n",
       "              reg_lambda=3.9192003747873014e-06, subsample=0.4647282020711443)"
      ]
     },
     "execution_count": 148,
     "metadata": {},
     "output_type": "execute_result"
    }
   ],
   "source": [
    "reg = lgb.sklearn.LGBMRegressor(**{k: v for k, v in study.best_params.items() if not k.startswith('use_col')})\n",
    "features = [k.split('_col_')[1] for k, v in study.best_params.items() if k.startswith('use_col') and v]\n",
    "reg.fit(df.loc[df.part.isin(['train', 'val']), features], df.loc[df.part.isin(['train', 'val']), output_feature])"
   ]
  },
  {
   "cell_type": "code",
   "execution_count": 149,
   "id": "primary-laundry",
   "metadata": {},
   "outputs": [
    {
     "data": {
      "text/plain": [
       "('thresh_auc', 0.923728813559322, True)"
      ]
     },
     "execution_count": 149,
     "metadata": {},
     "output_type": "execute_result"
    }
   ],
   "source": [
    "thresh_auc(df_test[output_feature], reg.predict(df_test[features]))"
   ]
  },
  {
   "cell_type": "code",
   "execution_count": 150,
   "id": "thousand-danger",
   "metadata": {},
   "outputs": [
    {
     "data": {
      "text/plain": [
       "0.5772462941788424"
      ]
     },
     "execution_count": 150,
     "metadata": {},
     "output_type": "execute_result"
    }
   ],
   "source": [
    "lgb.sklearn.LGBMRegressor().fit(df_train[input_features], df_train['corads']).score(df_val[input_features], df_val['corads'])"
   ]
  },
  {
   "cell_type": "code",
   "execution_count": 20,
   "id": "supreme-original",
   "metadata": {},
   "outputs": [],
   "source": [
    "import joblib\n",
    "study = joblib.load('../data/results/optuna/rumc_hyperopt_test_pcr_no_visual.pkl')"
   ]
  },
  {
   "cell_type": "code",
   "execution_count": 24,
   "id": "english-applicant",
   "metadata": {},
   "outputs": [
    {
     "data": {
      "text/plain": [
       "{'boosting_type': 'dart',\n",
       " 'n_estimators': 448,\n",
       " 'learning_rate': 8.901883957620952e-07,\n",
       " 'max_depth': 21,\n",
       " 'num_leaves': 57,\n",
       " 'reg_alpha': 9.993525959853718e-09,\n",
       " 'reg_lambda': 1.1748166809064164e-07,\n",
       " 'subsample': 0.9243849305819929,\n",
       " 'subsample_freq': 13,\n",
       " 'min_child_samples': 2,\n",
       " 'max_bin': 35,\n",
       " 'extra_trees': True,\n",
       " 'path_smooth': 0.09539078506408148,\n",
       " 'colsample_bytree': 0.5614321376766391,\n",
       " 'linear_tree': False,\n",
       " 'feature_fraction_bynode': 0.7670073540787995,\n",
       " 'drop_rate': 0.8328089146496417,\n",
       " 'skip_drop': 0.001981690762042871,\n",
       " 'max_drop': 124,\n",
       " 'uniform_drop': True,\n",
       " 'xgboost_dart_mode': False,\n",
       " 'min_gain_to_split': 1.8008225579513937,\n",
       " 'min_sum_hessian_in_leaf': 0.0007060574616059204}"
      ]
     },
     "execution_count": 24,
     "metadata": {},
     "output_type": "execute_result"
    }
   ],
   "source": [
    "study.best_trial.params"
   ]
  },
  {
   "cell_type": "code",
   "execution_count": 25,
   "id": "complimentary-american",
   "metadata": {},
   "outputs": [],
   "source": [
    "import os\n",
    "df = pd.read_pickle(os.path.join('../data/processed/', 'rumc.pkl'))"
   ]
  },
  {
   "cell_type": "code",
   "execution_count": 26,
   "id": "apparent-beijing",
   "metadata": {},
   "outputs": [],
   "source": [
    "df['corads_pcr'] = df.pcr\n",
    "# df.loc[df.corads <= 1, 'corads_pcr'] = 'Negatief'\n",
    "df.loc[df.corads >= 3, 'corads_pcr'] = 'Positief'"
   ]
  },
  {
   "cell_type": "code",
   "execution_count": 27,
   "id": "korean-village",
   "metadata": {},
   "outputs": [
    {
     "data": {
      "text/plain": [
       "315"
      ]
     },
     "execution_count": 27,
     "metadata": {},
     "output_type": "execute_result"
    }
   ],
   "source": [
    "(df.corads_pcr == 'nan').sum()"
   ]
  },
  {
   "cell_type": "code",
   "execution_count": 28,
   "id": "hindu-tragedy",
   "metadata": {},
   "outputs": [],
   "source": [
    "non_visual_features = list(df.columns[~df.columns.isin(['pcr', 'corads', 'diagnosis', 'part', 'corads_pcr']) & ~df.columns.str.startswith('vis_')])\n",
    "visual_features = list(df.columns[df.columns.str.startswith('vis_')])\n",
    "output_feature = 'pcr'\n",
    "numerical_features = list(df[non_visual_features].select_dtypes(exclude='category').columns)\n",
    "categorical_features = list(df[non_visual_features].select_dtypes(include='category').columns)"
   ]
  },
  {
   "cell_type": "code",
   "execution_count": 29,
   "id": "desperate-theory",
   "metadata": {},
   "outputs": [],
   "source": [
    "X, y = df[numerical_features+categorical_features], df[output_feature]"
   ]
  },
  {
   "cell_type": "code",
   "execution_count": 30,
   "id": "loose-automation",
   "metadata": {},
   "outputs": [],
   "source": [
    "not_nan = (y != 'nan') & ~y.isna()"
   ]
  },
  {
   "cell_type": "code",
   "execution_count": 31,
   "id": "moving-technician",
   "metadata": {},
   "outputs": [],
   "source": [
    "X, y = X[not_nan], y[not_nan]"
   ]
  },
  {
   "cell_type": "code",
   "execution_count": 32,
   "id": "instant-chance",
   "metadata": {},
   "outputs": [
    {
     "ename": "NameError",
     "evalue": "name 'cross_validate' is not defined",
     "output_type": "error",
     "traceback": [
      "\u001b[1;31m---------------------------------------------------------------------------\u001b[0m",
      "\u001b[1;31mNameError\u001b[0m                                 Traceback (most recent call last)",
      "\u001b[1;32m<ipython-input-32-2d5c6cbf1f3a>\u001b[0m in \u001b[0;36m<module>\u001b[1;34m\u001b[0m\n\u001b[0;32m      1\u001b[0m \u001b[0mX_no_names\u001b[0m \u001b[1;33m=\u001b[0m \u001b[0mX\u001b[0m\u001b[1;33m.\u001b[0m\u001b[0mcopy\u001b[0m\u001b[1;33m(\u001b[0m\u001b[1;33m)\u001b[0m\u001b[1;33m\u001b[0m\u001b[1;33m\u001b[0m\u001b[0m\n\u001b[0;32m      2\u001b[0m \u001b[0mX_no_names\u001b[0m\u001b[1;33m.\u001b[0m\u001b[0mcolumns\u001b[0m \u001b[1;33m=\u001b[0m \u001b[0mnp\u001b[0m\u001b[1;33m.\u001b[0m\u001b[0marange\u001b[0m\u001b[1;33m(\u001b[0m\u001b[0mlen\u001b[0m\u001b[1;33m(\u001b[0m\u001b[0mX_no_names\u001b[0m\u001b[1;33m.\u001b[0m\u001b[0mcolumns\u001b[0m\u001b[1;33m)\u001b[0m\u001b[1;33m)\u001b[0m\u001b[1;33m\u001b[0m\u001b[1;33m\u001b[0m\u001b[0m\n\u001b[1;32m----> 3\u001b[1;33m \u001b[0mres\u001b[0m \u001b[1;33m=\u001b[0m \u001b[0mcross_validate\u001b[0m\u001b[1;33m(\u001b[0m\u001b[0mLGBMClassifier\u001b[0m\u001b[1;33m(\u001b[0m\u001b[0mn_jobs\u001b[0m\u001b[1;33m=\u001b[0m\u001b[1;33m-\u001b[0m\u001b[1;36m1\u001b[0m\u001b[1;33m)\u001b[0m\u001b[1;33m,\u001b[0m \u001b[0mX_no_names\u001b[0m\u001b[1;33m,\u001b[0m \u001b[0my\u001b[0m\u001b[1;33m,\u001b[0m \u001b[0mscoring\u001b[0m\u001b[1;33m=\u001b[0m\u001b[1;34m'roc_auc'\u001b[0m\u001b[1;33m,\u001b[0m \u001b[0mcv\u001b[0m\u001b[1;33m=\u001b[0m\u001b[1;36m7\u001b[0m\u001b[1;33m,\u001b[0m \u001b[0mreturn_train_score\u001b[0m\u001b[1;33m=\u001b[0m\u001b[1;32mTrue\u001b[0m\u001b[1;33m)\u001b[0m\u001b[1;33m\u001b[0m\u001b[1;33m\u001b[0m\u001b[0m\n\u001b[0m\u001b[0;32m      4\u001b[0m \u001b[0mres\u001b[0m\u001b[1;33m[\u001b[0m\u001b[1;34m'train_score'\u001b[0m\u001b[1;33m]\u001b[0m\u001b[1;33m.\u001b[0m\u001b[0mmean\u001b[0m\u001b[1;33m(\u001b[0m\u001b[1;33m)\u001b[0m\u001b[1;33m,\u001b[0m \u001b[0mres\u001b[0m\u001b[1;33m[\u001b[0m\u001b[1;34m'test_score'\u001b[0m\u001b[1;33m]\u001b[0m\u001b[1;33m.\u001b[0m\u001b[0mmean\u001b[0m\u001b[1;33m(\u001b[0m\u001b[1;33m)\u001b[0m\u001b[1;33m\u001b[0m\u001b[1;33m\u001b[0m\u001b[0m\n",
      "\u001b[1;31mNameError\u001b[0m: name 'cross_validate' is not defined"
     ]
    }
   ],
   "source": [
    "X_no_names = X.copy()\n",
    "X_no_names.columns = np.arange(len(X_no_names.columns))\n",
    "res = cross_validate(LGBMClassifier(n_jobs=-1), X_no_names, y, scoring='roc_auc', cv=7, return_train_score=True)\n",
    "res['train_score'].mean(), res['test_score'].mean()"
   ]
  },
  {
   "cell_type": "code",
   "execution_count": 33,
   "id": "satisfactory-infrastructure",
   "metadata": {},
   "outputs": [],
   "source": [
    "def aggregate_features(df: pd.DataFrame) -> pd.DataFrame:\n",
    "    # import re\n",
    "    from pandas.api.types import is_numeric_dtype\n",
    "    # df = df.rename(columns=lambda x: re.sub('[^-()%A-Za-z0-9_/ ]+', '', x))\n",
    "    # df.columns = df.columns.str.replace(' ', '_')\n",
    "\n",
    "    df_merged = df.copy()\n",
    "    df_merged.columns = df.columns.str.replace(r'\\(.+?\\)', '', regex=True).str.strip()\n",
    "\n",
    "    def aggregate(x: pd.Series):\n",
    "        if x.shape[1] == 1:\n",
    "            return x.iloc[:, 0]\n",
    "        if is_numeric_dtype(x.dtypes[0]):\n",
    "            return x.mean(axis=1)\n",
    "        result = x.apply(lambda y: next(z for z in y.values if not pd.isna(z)) if not y.isna().all() else np.nan,\n",
    "                         axis=1)\n",
    "        return result\n",
    "\n",
    "    df = df_merged.groupby(df_merged.columns, axis=1).agg(aggregate)\n",
    "\n",
    "    # input_features = features.input_features\n",
    "    input_features = df.columns[~df.columns.isin(['pcr', 'corads', 'part', 'diagnosis'])]\n",
    "\n",
    "    # df[df == 'nan'] = np.nan\n",
    "    # for col in input_features:\n",
    "    #     if not is_numeric_dtype(df[col]):\n",
    "    #         df[col] = df[col].astype('category')\n",
    "    #         df[col] = df[col].cat.codes.astype('category')\n",
    "\n",
    "    for col in df.columns:\n",
    "        try:\n",
    "            df[col] = pd.to_numeric(df[col], errors='raise')\n",
    "        except ValueError:\n",
    "            df[col] = df[col].astype(str).astype('category')\n",
    "            # num_cats = df_pivot[col].cat.categories[df_pivot[col].cat.categories.str.match(r'\\d+', na=False)]\n",
    "            # df_pivot[col].cat.rename_categories({cat: 'v' + cat for cat in num_cats}, inplace=True)\n",
    "            df[col].cat.add_categories(['Missing'], inplace=True)\n",
    "            df[col].fillna('Missing', inplace=True)\n",
    "    return df"
   ]
  },
  {
   "cell_type": "code",
   "execution_count": 34,
   "id": "peripheral-basketball",
   "metadata": {},
   "outputs": [],
   "source": [
    "X = aggregate_features(X)"
   ]
  },
  {
   "cell_type": "code",
   "execution_count": 35,
   "id": "executed-diabetes",
   "metadata": {},
   "outputs": [],
   "source": [
    "def corads_roc_auc(y: np.ndarray, y_pred: np.ndarray, threshold: int = 3):\n",
    "    y_thresh = y >= threshold\n",
    "    y_pred_thresh = y_pred / 4\n",
    "    return roc_auc_score(y_thresh, y_pred_thresh)"
   ]
  },
  {
   "cell_type": "code",
   "execution_count": 36,
   "id": "public-video",
   "metadata": {},
   "outputs": [
    {
     "name": "stderr",
     "output_type": "stream",
     "text": [
      "c:\\users\\roel\\.virtualenvs\\diagcovid-ckc2berq\\lib\\site-packages\\ipykernel_launcher.py:1: UserWarning: Boolean Series key will be reindexed to match DataFrame index.\n",
      "  \"\"\"Entry point for launching an IPython kernel.\n"
     ]
    }
   ],
   "source": [
    "X_test, y_test = X[df.part == 'test'], y[df.part == 'test']"
   ]
  },
  {
   "cell_type": "code",
   "execution_count": 37,
   "id": "through-great",
   "metadata": {},
   "outputs": [
    {
     "name": "stderr",
     "output_type": "stream",
     "text": [
      "c:\\users\\roel\\.virtualenvs\\diagcovid-ckc2berq\\lib\\site-packages\\ipykernel_launcher.py:1: UserWarning: Boolean Series key will be reindexed to match DataFrame index.\n",
      "  \"\"\"Entry point for launching an IPython kernel.\n"
     ]
    }
   ],
   "source": [
    "X_train, y_train = X[df.part.isin(['train', 'val'])], y[df.part.isin(['train', 'val'])]"
   ]
  },
  {
   "cell_type": "code",
   "execution_count": 38,
   "id": "cardiovascular-saint",
   "metadata": {},
   "outputs": [],
   "source": [
    "def cat_to_num(df: pd.DataFrame, impute=True):\n",
    "    df = df.copy()\n",
    "    df = pd.get_dummies(df)\n",
    "#     for col in df.select_dtypes(include=['category']):\n",
    "#         df[col] = df[col].cat.codes\n",
    "#         df.get\n",
    "#         df.loc[df[col].isna(), col] = -1\n",
    "    if impute:\n",
    "        for col in df.select_dtypes(exclude=['category']):\n",
    "            df[col] = df[col].fillna(df[col].mean())\n",
    "            if df[col].isna().any():\n",
    "                df[col] = 0\n",
    "    df.columns = np.arange(len(df.columns))\n",
    "    return df"
   ]
  },
  {
   "cell_type": "code",
   "execution_count": 247,
   "id": "transsexual-netscape",
   "metadata": {},
   "outputs": [
    {
     "ename": "NameError",
     "evalue": "name 'search' is not defined",
     "output_type": "error",
     "traceback": [
      "\u001b[1;31m---------------------------------------------------------------------------\u001b[0m",
      "\u001b[1;31mNameError\u001b[0m                                 Traceback (most recent call last)",
      "\u001b[1;32m<ipython-input-247-b2df0f93dfce>\u001b[0m in \u001b[0;36m<module>\u001b[1;34m\u001b[0m\n\u001b[1;32m----> 1\u001b[1;33m \u001b[0msearch\u001b[0m\u001b[1;33m.\u001b[0m\u001b[0mbest_params_\u001b[0m\u001b[1;33m\u001b[0m\u001b[1;33m\u001b[0m\u001b[0m\n\u001b[0m",
      "\u001b[1;31mNameError\u001b[0m: name 'search' is not defined"
     ]
    }
   ],
   "source": [
    "search.best_params_"
   ]
  },
  {
   "cell_type": "code",
   "execution_count": 162,
   "id": "convinced-fifteen",
   "metadata": {},
   "outputs": [
    {
     "data": {
      "text/plain": [
       "{'bootstrap': True,\n",
       " 'bootstrap_features': False,\n",
       " 'max_samples': 0.9930531953964028,\n",
       " 'max_features': 0.997291197779636}"
      ]
     },
     "execution_count": 162,
     "metadata": {},
     "output_type": "execute_result"
    }
   ],
   "source": [
    "search.best_params_"
   ]
  },
  {
   "cell_type": "code",
   "execution_count": 163,
   "id": "liked-indonesia",
   "metadata": {},
   "outputs": [
    {
     "data": {
      "text/plain": [
       "['chebyshev',\n",
       " 'cityblock',\n",
       " 'euclidean',\n",
       " 'infinity',\n",
       " 'l1',\n",
       " 'l2',\n",
       " 'manhattan',\n",
       " 'minkowski',\n",
       " 'p']"
      ]
     },
     "execution_count": 163,
     "metadata": {},
     "output_type": "execute_result"
    }
   ],
   "source": [
    "import sklearn\n",
    "sorted(sklearn.neighbors.VALID_METRICS['kd_tree'])"
   ]
  },
  {
   "cell_type": "code",
   "execution_count": 39,
   "id": "played-pursuit",
   "metadata": {},
   "outputs": [
    {
     "name": "stdout",
     "output_type": "stream",
     "text": [
      "[LightGBM] [Warning] min_gain_to_split is set=1.8008225579513937, min_split_gain=0.0 will be ignored. Current value: min_gain_to_split=1.8008225579513937\n",
      "[LightGBM] [Warning] min_sum_hessian_in_leaf is set=0.0007060574616059204, min_child_weight=0.001 will be ignored. Current value: min_sum_hessian_in_leaf=0.0007060574616059204\n"
     ]
    },
    {
     "data": {
      "text/plain": [
       "LGBMClassifier(boosting_type='dart', colsample_bytree=0.5614321376766391,\n",
       "               drop_rate=0.8328089146496417, extra_trees=True,\n",
       "               feature_fraction_bynode=0.7670073540787995,\n",
       "               learning_rate=8.901883957620952e-07, linear_tree=False,\n",
       "               max_bin=35, max_depth=21, max_drop=124, min_child_samples=2,\n",
       "               min_gain_to_split=1.8008225579513937,\n",
       "               min_sum_hessian_in_leaf=0.0007060574616059204, n_estimators=448,\n",
       "               num_leaves=57, path_smooth=0.09539078506408148,\n",
       "               reg_alpha=9.993525959853718e-09,\n",
       "               reg_lambda=1.1748166809064164e-07,\n",
       "               skip_drop=0.001981690762042871, subsample=0.9243849305819929,\n",
       "               subsample_freq=13, uniform_drop=True, xgboost_dart_mode=False)"
      ]
     },
     "execution_count": 39,
     "metadata": {},
     "output_type": "execute_result"
    }
   ],
   "source": [
    "from sklearn.linear_model import LogisticRegression\n",
    "from sklearn.ensemble import BaggingClassifier, RandomForestClassifier, StackingClassifier, GradientBoostingClassifier\n",
    "from sklearn.neighbors import KNeighborsClassifier\n",
    "from sklearn.model_selection import RandomizedSearchCV\n",
    "from scipy.stats import uniform\n",
    "from optuna.integration.sklearn import OptunaSearchCV\n",
    "from optuna.distributions import CategoricalDistribution, IntUniformDistribution, UniformDistribution\n",
    "from lightgbm.sklearn import LGBMClassifier, LGBMRegressor\n",
    "lr = BaggingClassifier(KNeighborsClassifier(n_neighbors=30, leaf_size=62, weights='uniform', algorithm='kd_tree', metric='l1'), n_jobs=1, n_estimators=100, bootstrap_features=True)\n",
    "stupid = BaggingClassifier(LGBMClassifier(n_jobs=-1, **{'boosting_type': 'dart',\n",
    " 'n_estimators': 448,\n",
    " 'learning_rate': 8.901883957620952e-07,\n",
    " 'max_depth': 21,\n",
    " 'num_leaves': 57,\n",
    " 'reg_alpha': 9.993525959853718e-09,\n",
    " 'reg_lambda': 1.1748166809064164e-07,\n",
    " 'subsample': 0.9243849305819929,\n",
    " 'subsample_freq': 13,\n",
    " 'min_child_samples': 2,\n",
    " 'max_bin': 35,\n",
    " 'extra_trees': True,\n",
    " 'path_smooth': 0.09539078506408148,\n",
    " 'colsample_bytree': 0.5614321376766391,\n",
    " 'linear_tree': False,\n",
    " 'feature_fraction_bynode': 0.7670073540787995,\n",
    " 'drop_rate': 0.8328089146496417,\n",
    " 'skip_drop': 0.001981690762042871,\n",
    " 'max_drop': 124,\n",
    " 'uniform_drop': True,\n",
    " 'xgboost_dart_mode': False,\n",
    " 'min_gain_to_split': 1.8008225579513937,\n",
    " 'min_sum_hessian_in_leaf': 0.0007060574616059204}), n_jobs=1, n_estimators=700, bootstrap_features=False)\n",
    "\n",
    "sc = StackingClassifier([\n",
    "#     ('bc', lr), \n",
    "    ('gbdt', LGBMClassifier(n_jobs=-1)), \n",
    "    ('dart', LGBMClassifier(n_jobs=-1, boosting_type='dart')), \n",
    "], LGBMClassifier(n_jobs=-1))\n",
    "lgbm = LGBMClassifier(n_jobs=-1, **{'boosting_type': 'dart',\n",
    " 'n_estimators': 448,\n",
    " 'learning_rate': 8.901883957620952e-07,\n",
    " 'max_depth': 21,\n",
    " 'num_leaves': 57,\n",
    " 'reg_alpha': 9.993525959853718e-09,\n",
    " 'reg_lambda': 1.1748166809064164e-07,\n",
    " 'subsample': 0.9243849305819929,\n",
    " 'subsample_freq': 13,\n",
    " 'min_child_samples': 2,\n",
    " 'max_bin': 35,\n",
    " 'extra_trees': True,\n",
    " 'path_smooth': 0.09539078506408148,\n",
    " 'colsample_bytree': 0.5614321376766391,\n",
    " 'linear_tree': False,\n",
    " 'feature_fraction_bynode': 0.7670073540787995,\n",
    " 'drop_rate': 0.8328089146496417,\n",
    " 'skip_drop': 0.001981690762042871,\n",
    " 'max_drop': 124,\n",
    " 'uniform_drop': True,\n",
    " 'xgboost_dart_mode': False,\n",
    " 'min_gain_to_split': 1.8008225579513937,\n",
    " 'min_sum_hessian_in_leaf': 0.0007060574616059204})\n",
    "knc = KNeighborsClassifier(n_neighbors=10, leaf_size=48, weights='distance', algorithm='kd_tree', p=2)\n",
    "gb = GradientBoostingClassifier()\n",
    "# search = OptunaSearchCV(lr, param_distributions={\n",
    "#     'bootstrap': CategoricalDistribution([False, True]), \n",
    "#     'bootstrap_features': CategoricalDistribution([False, True]), \n",
    "#     'max_samples': UniformDistribution(0.2, 1), \n",
    "#     'max_features': UniformDistribution(0.001, 1), \n",
    "# #     'base_estimator__n_neighbors': IntUniformDistribution(1, 20), \n",
    "# #     'base_estimator__leaf_size': IntUniformDistribution(3, 60), \n",
    "# #     'base_estimator__weights': CategoricalDistribution(['uniform', 'distance']), \n",
    "# #     'base_estimator__algorithm': CategoricalDistribution(['auto', 'ball_tree', 'kd_tree', 'brute']), \n",
    "# #     'base_estimator__p': CategoricalDistribution([1, 2]), \n",
    "# #     'n_estimators': IntUniformDistribution(10, 8000)\n",
    "# }, n_trials=30, cv=8, scoring='roc_auc')\n",
    "# search = OptunaSearchCV(knc, param_distributions={\n",
    "# #     'bootstrap': CategoricalDistribution([False, True]), \n",
    "# #     'bootstrap_features': CategoricalDistribution([False, True]), \n",
    "# #     'max_samples': UniformDistribution(0.1, 1), \n",
    "# #     'max_features': UniformDistribution(0.001, 1), \n",
    "#     'n_neighbors': IntUniformDistribution(1, 40), \n",
    "#     'leaf_size': IntUniformDistribution(2, 80), \n",
    "#     'weights': CategoricalDistribution(['uniform', 'distance']), \n",
    "#     'algorithm': CategoricalDistribution(['kd_tree']), \n",
    "#     'metric': CategoricalDistribution(sorted(sklearn.neighbors.VALID_METRICS['kd_tree']))\n",
    "# #     'p': CategoricalDistribution([1, 2]), \n",
    "# #     'n_estimators': IntUniformDistribution(10, 8000)\n",
    "# }, n_trials=400)\n",
    "# lr = LGBMClassifier(n_jobs=-1, boosting_type='dart')\n",
    "# search = RandomizedSearchCV(lr, {\n",
    "#     'bootstrap': [False, True], \n",
    "#     'bootstrap_features': [False, True], \n",
    "#     'max_samples': uniform(0.2, 0.8), \n",
    "#     'max_features': uniform(0.01, 0.99), \n",
    "# }, n_iter=30, verbose=1, scoring='roc_auc')\n",
    "X_train_reduced_no_names = X_train.copy()\n",
    "X_train_reduced_no_names.columns = np.arange(len(X_train.columns))\n",
    "# lr.fit(cat_to_num(X_train_reduced_no_names), y_train)\n",
    "# reg = LGBMRegressor(n_jobs=-1)\n",
    "# lgbm = LGBMClassifier(n_jobs=-1)\n",
    "lgbm.fit(cat_to_num(X_train_reduced_no_names, impute=False), y_train)"
   ]
  },
  {
   "cell_type": "code",
   "execution_count": 100,
   "id": "asian-happiness",
   "metadata": {},
   "outputs": [
    {
     "name": "stdout",
     "output_type": "stream",
     "text": [
      "[LightGBM] [Warning] min_gain_to_split is set=0.131918655360586, min_split_gain=0.0 will be ignored. Current value: min_gain_to_split=0.131918655360586\n",
      "[LightGBM] [Warning] min_sum_hessian_in_leaf is set=0.0002438780455997333, min_child_weight=0.001 will be ignored. Current value: min_sum_hessian_in_leaf=0.0002438780455997333\n"
     ]
    },
    {
     "data": {
      "text/plain": [
       "VotingClassifier(estimators=[('est_0',\n",
       "                              LGBMClassifier(boosting_type='dart',\n",
       "                                             colsample_bytree=0.4601888735204389,\n",
       "                                             drop_rate=0.8523905448422199,\n",
       "                                             extra_trees=True,\n",
       "                                             feature_fraction_bynode=0.8431348618561209,\n",
       "                                             learning_rate=8.396455430041375e-10,\n",
       "                                             linear_tree=False, max_bin=53,\n",
       "                                             max_depth=22, max_drop=134,\n",
       "                                             min_child_samples=8,\n",
       "                                             min_gain_to_split=0.131918655360586,\n",
       "                                             min_...\n",
       "                                             min_child_samples=1,\n",
       "                                             min_gain_to_split=2.9432690116828666,\n",
       "                                             min_sum_hessian_in_leaf=0.0010927335775208391,\n",
       "                                             n_estimators=14, num_leaves=79,\n",
       "                                             path_smooth=1.3741845547815685,\n",
       "                                             reg_alpha=3.831971390397457e-08,\n",
       "                                             reg_lambda=8.506271487951723e-07,\n",
       "                                             skip_drop=0.07725979532896664,\n",
       "                                             subsample=0.8842793561991433,\n",
       "                                             subsample_freq=2,\n",
       "                                             uniform_drop=True,\n",
       "                                             xgboost_dart_mode=False))],\n",
       "                 voting='soft')"
      ]
     },
     "execution_count": 100,
     "metadata": {},
     "output_type": "execute_result"
    }
   ],
   "source": [
    "ve.fit(cat_to_num(X_train_reduced_no_names, impute=False), y_train)"
   ]
  },
  {
   "cell_type": "code",
   "execution_count": 94,
   "id": "graphic-fault",
   "metadata": {},
   "outputs": [],
   "source": [
    "from sklearn.ensemble import VotingClassifier\n",
    "estimators = []\n",
    "for trial in study.trials:\n",
    "    if trial.values[0] > 0.82:\n",
    "        estimators.append(LGBMClassifier(n_jobs=-1, **trial.params))"
   ]
  },
  {
   "cell_type": "code",
   "execution_count": 97,
   "id": "electronic-sunday",
   "metadata": {},
   "outputs": [],
   "source": [
    "estimators = np.random.choice(estimators, replace=False, size=29)"
   ]
  },
  {
   "cell_type": "code",
   "execution_count": 98,
   "id": "valuable-outreach",
   "metadata": {},
   "outputs": [
    {
     "data": {
      "text/plain": [
       "29"
      ]
     },
     "execution_count": 98,
     "metadata": {},
     "output_type": "execute_result"
    }
   ],
   "source": [
    "len(estimators)"
   ]
  },
  {
   "cell_type": "code",
   "execution_count": 99,
   "id": "terminal-ethics",
   "metadata": {},
   "outputs": [],
   "source": [
    "ve = VotingClassifier([(f'est_{i}', est) for i, est in enumerate(estimators)], voting='soft')"
   ]
  },
  {
   "cell_type": "code",
   "execution_count": 89,
   "id": "noted-lancaster",
   "metadata": {},
   "outputs": [
    {
     "name": "stdout",
     "output_type": "stream",
     "text": [
      "[LightGBM] [Warning] min_gain_to_split is set=0.2754137091355445, min_split_gain=0.0 will be ignored. Current value: min_gain_to_split=0.2754137091355445\n",
      "[LightGBM] [Warning] min_sum_hessian_in_leaf is set=0.24441390576294425, min_child_weight=0.001 will be ignored. Current value: min_sum_hessian_in_leaf=0.24441390576294425\n",
      "[LightGBM] [Warning] min_gain_to_split is set=0.2754137091355445, min_split_gain=0.0 will be ignored. Current value: min_gain_to_split=0.2754137091355445\n",
      "[LightGBM] [Warning] min_sum_hessian_in_leaf is set=0.24441390576294425, min_child_weight=0.001 will be ignored. Current value: min_sum_hessian_in_leaf=0.24441390576294425\n",
      "[LightGBM] [Warning] min_gain_to_split is set=0.2754137091355445, min_split_gain=0.0 will be ignored. Current value: min_gain_to_split=0.2754137091355445\n",
      "[LightGBM] [Warning] min_sum_hessian_in_leaf is set=0.24441390576294425, min_child_weight=0.001 will be ignored. Current value: min_sum_hessian_in_leaf=0.24441390576294425\n",
      "[LightGBM] [Warning] min_gain_to_split is set=0.2754137091355445, min_split_gain=0.0 will be ignored. Current value: min_gain_to_split=0.2754137091355445\n",
      "[LightGBM] [Warning] min_sum_hessian_in_leaf is set=0.24441390576294425, min_child_weight=0.001 will be ignored. Current value: min_sum_hessian_in_leaf=0.24441390576294425\n",
      "[LightGBM] [Warning] min_gain_to_split is set=0.2754137091355445, min_split_gain=0.0 will be ignored. Current value: min_gain_to_split=0.2754137091355445\n",
      "[LightGBM] [Warning] min_sum_hessian_in_leaf is set=0.24441390576294425, min_child_weight=0.001 will be ignored. Current value: min_sum_hessian_in_leaf=0.24441390576294425\n",
      "[LightGBM] [Warning] min_gain_to_split is set=0.2754137091355445, min_split_gain=0.0 will be ignored. Current value: min_gain_to_split=0.2754137091355445\n",
      "[LightGBM] [Warning] min_sum_hessian_in_leaf is set=0.24441390576294425, min_child_weight=0.001 will be ignored. Current value: min_sum_hessian_in_leaf=0.24441390576294425\n",
      "[LightGBM] [Warning] min_gain_to_split is set=0.2754137091355445, min_split_gain=0.0 will be ignored. Current value: min_gain_to_split=0.2754137091355445\n",
      "[LightGBM] [Warning] min_sum_hessian_in_leaf is set=0.24441390576294425, min_child_weight=0.001 will be ignored. Current value: min_sum_hessian_in_leaf=0.24441390576294425\n",
      "[LightGBM] [Warning] min_gain_to_split is set=0.2754137091355445, min_split_gain=0.0 will be ignored. Current value: min_gain_to_split=0.2754137091355445\n",
      "[LightGBM] [Warning] min_sum_hessian_in_leaf is set=0.24441390576294425, min_child_weight=0.001 will be ignored. Current value: min_sum_hessian_in_leaf=0.24441390576294425\n",
      "[LightGBM] [Warning] min_gain_to_split is set=0.2754137091355445, min_split_gain=0.0 will be ignored. Current value: min_gain_to_split=0.2754137091355445\n",
      "[LightGBM] [Warning] min_sum_hessian_in_leaf is set=0.24441390576294425, min_child_weight=0.001 will be ignored. Current value: min_sum_hessian_in_leaf=0.24441390576294425\n",
      "[LightGBM] [Warning] min_gain_to_split is set=0.2754137091355445, min_split_gain=0.0 will be ignored. Current value: min_gain_to_split=0.2754137091355445\n",
      "[LightGBM] [Warning] min_sum_hessian_in_leaf is set=0.24441390576294425, min_child_weight=0.001 will be ignored. Current value: min_sum_hessian_in_leaf=0.24441390576294425\n",
      "[LightGBM] [Warning] min_gain_to_split is set=0.2754137091355445, min_split_gain=0.0 will be ignored. Current value: min_gain_to_split=0.2754137091355445\n",
      "[LightGBM] [Warning] min_sum_hessian_in_leaf is set=0.24441390576294425, min_child_weight=0.001 will be ignored. Current value: min_sum_hessian_in_leaf=0.24441390576294425\n",
      "[LightGBM] [Warning] min_gain_to_split is set=0.2754137091355445, min_split_gain=0.0 will be ignored. Current value: min_gain_to_split=0.2754137091355445\n",
      "[LightGBM] [Warning] min_sum_hessian_in_leaf is set=0.24441390576294425, min_child_weight=0.001 will be ignored. Current value: min_sum_hessian_in_leaf=0.24441390576294425\n",
      "[LightGBM] [Warning] min_gain_to_split is set=0.2754137091355445, min_split_gain=0.0 will be ignored. Current value: min_gain_to_split=0.2754137091355445\n",
      "[LightGBM] [Warning] min_sum_hessian_in_leaf is set=0.24441390576294425, min_child_weight=0.001 will be ignored. Current value: min_sum_hessian_in_leaf=0.24441390576294425\n",
      "[LightGBM] [Warning] min_gain_to_split is set=0.2754137091355445, min_split_gain=0.0 will be ignored. Current value: min_gain_to_split=0.2754137091355445\n",
      "[LightGBM] [Warning] min_sum_hessian_in_leaf is set=0.24441390576294425, min_child_weight=0.001 will be ignored. Current value: min_sum_hessian_in_leaf=0.24441390576294425\n",
      "[LightGBM] [Warning] min_gain_to_split is set=0.2754137091355445, min_split_gain=0.0 will be ignored. Current value: min_gain_to_split=0.2754137091355445\n",
      "[LightGBM] [Warning] min_sum_hessian_in_leaf is set=0.24441390576294425, min_child_weight=0.001 will be ignored. Current value: min_sum_hessian_in_leaf=0.24441390576294425\n",
      "[LightGBM] [Warning] min_gain_to_split is set=0.2754137091355445, min_split_gain=0.0 will be ignored. Current value: min_gain_to_split=0.2754137091355445\n",
      "[LightGBM] [Warning] min_sum_hessian_in_leaf is set=0.24441390576294425, min_child_weight=0.001 will be ignored. Current value: min_sum_hessian_in_leaf=0.24441390576294425\n",
      "[LightGBM] [Warning] min_gain_to_split is set=0.2754137091355445, min_split_gain=0.0 will be ignored. Current value: min_gain_to_split=0.2754137091355445\n",
      "[LightGBM] [Warning] min_sum_hessian_in_leaf is set=0.24441390576294425, min_child_weight=0.001 will be ignored. Current value: min_sum_hessian_in_leaf=0.24441390576294425\n",
      "[LightGBM] [Warning] min_gain_to_split is set=0.2754137091355445, min_split_gain=0.0 will be ignored. Current value: min_gain_to_split=0.2754137091355445\n",
      "[LightGBM] [Warning] min_sum_hessian_in_leaf is set=0.24441390576294425, min_child_weight=0.001 will be ignored. Current value: min_sum_hessian_in_leaf=0.24441390576294425\n",
      "[LightGBM] [Warning] min_gain_to_split is set=0.2754137091355445, min_split_gain=0.0 will be ignored. Current value: min_gain_to_split=0.2754137091355445\n",
      "[LightGBM] [Warning] min_sum_hessian_in_leaf is set=0.24441390576294425, min_child_weight=0.001 will be ignored. Current value: min_sum_hessian_in_leaf=0.24441390576294425\n",
      "[LightGBM] [Warning] min_gain_to_split is set=0.2754137091355445, min_split_gain=0.0 will be ignored. Current value: min_gain_to_split=0.2754137091355445\n",
      "[LightGBM] [Warning] min_sum_hessian_in_leaf is set=0.24441390576294425, min_child_weight=0.001 will be ignored. Current value: min_sum_hessian_in_leaf=0.24441390576294425\n",
      "[LightGBM] [Warning] min_gain_to_split is set=0.2754137091355445, min_split_gain=0.0 will be ignored. Current value: min_gain_to_split=0.2754137091355445\n",
      "[LightGBM] [Warning] min_sum_hessian_in_leaf is set=0.24441390576294425, min_child_weight=0.001 will be ignored. Current value: min_sum_hessian_in_leaf=0.24441390576294425\n",
      "[LightGBM] [Warning] min_gain_to_split is set=0.2754137091355445, min_split_gain=0.0 will be ignored. Current value: min_gain_to_split=0.2754137091355445\n",
      "[LightGBM] [Warning] min_sum_hessian_in_leaf is set=0.24441390576294425, min_child_weight=0.001 will be ignored. Current value: min_sum_hessian_in_leaf=0.24441390576294425\n",
      "[LightGBM] [Warning] min_gain_to_split is set=0.2754137091355445, min_split_gain=0.0 will be ignored. Current value: min_gain_to_split=0.2754137091355445\n",
      "[LightGBM] [Warning] min_sum_hessian_in_leaf is set=0.24441390576294425, min_child_weight=0.001 will be ignored. Current value: min_sum_hessian_in_leaf=0.24441390576294425\n",
      "[LightGBM] [Warning] min_gain_to_split is set=0.2754137091355445, min_split_gain=0.0 will be ignored. Current value: min_gain_to_split=0.2754137091355445\n",
      "[LightGBM] [Warning] min_sum_hessian_in_leaf is set=0.24441390576294425, min_child_weight=0.001 will be ignored. Current value: min_sum_hessian_in_leaf=0.24441390576294425\n",
      "[LightGBM] [Warning] min_gain_to_split is set=0.2754137091355445, min_split_gain=0.0 will be ignored. Current value: min_gain_to_split=0.2754137091355445\n",
      "[LightGBM] [Warning] min_sum_hessian_in_leaf is set=0.24441390576294425, min_child_weight=0.001 will be ignored. Current value: min_sum_hessian_in_leaf=0.24441390576294425\n",
      "[LightGBM] [Warning] min_gain_to_split is set=0.2754137091355445, min_split_gain=0.0 will be ignored. Current value: min_gain_to_split=0.2754137091355445\n",
      "[LightGBM] [Warning] min_sum_hessian_in_leaf is set=0.24441390576294425, min_child_weight=0.001 will be ignored. Current value: min_sum_hessian_in_leaf=0.24441390576294425\n",
      "[LightGBM] [Warning] min_gain_to_split is set=0.2754137091355445, min_split_gain=0.0 will be ignored. Current value: min_gain_to_split=0.2754137091355445\n",
      "[LightGBM] [Warning] min_sum_hessian_in_leaf is set=0.24441390576294425, min_child_weight=0.001 will be ignored. Current value: min_sum_hessian_in_leaf=0.24441390576294425\n",
      "[LightGBM] [Warning] min_gain_to_split is set=0.2754137091355445, min_split_gain=0.0 will be ignored. Current value: min_gain_to_split=0.2754137091355445\n",
      "[LightGBM] [Warning] min_sum_hessian_in_leaf is set=0.24441390576294425, min_child_weight=0.001 will be ignored. Current value: min_sum_hessian_in_leaf=0.24441390576294425\n",
      "[LightGBM] [Warning] min_gain_to_split is set=0.2754137091355445, min_split_gain=0.0 will be ignored. Current value: min_gain_to_split=0.2754137091355445\n",
      "[LightGBM] [Warning] min_sum_hessian_in_leaf is set=0.24441390576294425, min_child_weight=0.001 will be ignored. Current value: min_sum_hessian_in_leaf=0.24441390576294425\n",
      "[LightGBM] [Warning] min_gain_to_split is set=0.2754137091355445, min_split_gain=0.0 will be ignored. Current value: min_gain_to_split=0.2754137091355445\n",
      "[LightGBM] [Warning] min_sum_hessian_in_leaf is set=0.24441390576294425, min_child_weight=0.001 will be ignored. Current value: min_sum_hessian_in_leaf=0.24441390576294425\n",
      "[LightGBM] [Warning] min_gain_to_split is set=0.2754137091355445, min_split_gain=0.0 will be ignored. Current value: min_gain_to_split=0.2754137091355445\n",
      "[LightGBM] [Warning] min_sum_hessian_in_leaf is set=0.24441390576294425, min_child_weight=0.001 will be ignored. Current value: min_sum_hessian_in_leaf=0.24441390576294425\n",
      "[LightGBM] [Warning] min_gain_to_split is set=0.2754137091355445, min_split_gain=0.0 will be ignored. Current value: min_gain_to_split=0.2754137091355445\n",
      "[LightGBM] [Warning] min_sum_hessian_in_leaf is set=0.24441390576294425, min_child_weight=0.001 will be ignored. Current value: min_sum_hessian_in_leaf=0.24441390576294425\n"
     ]
    }
   ],
   "source": [
    "from sklearn.model_selection import cross_validate, RepeatedStratifiedKFold\n",
    "res = cross_validate(ve, cat_to_num(X_train_reduced_no_names, impute=False), y_train, scoring='roc_auc', cv=RepeatedStratifiedKFold(n_splits=8, n_repeats=4))"
   ]
  },
  {
   "cell_type": "code",
   "execution_count": 91,
   "id": "following-routine",
   "metadata": {},
   "outputs": [
    {
     "data": {
      "text/plain": [
       "0.8846355694037145"
      ]
     },
     "execution_count": 91,
     "metadata": {},
     "output_type": "execute_result"
    }
   ],
   "source": [
    "res['test_score'].mean()"
   ]
  },
  {
   "cell_type": "code",
   "execution_count": 195,
   "id": "annoying-citizen",
   "metadata": {},
   "outputs": [],
   "source": [
    "import matplotlib.pyplot as plt\n",
    "xs = np.linspace(0.01, 1, 100)\n",
    "df_trainval = df[df.part.isin(['train', 'val'])]\n",
    "df_test = df[df.part == 'test']\n",
    "y_miss_trainval = [((~df_trainval.isna() & (df_trainval != 'nan')).mean() > x).sum() for x in xs]\n",
    "y_miss_test = [((~df_test.isna() & (df_test != 'nan')).mean() > x).sum() for x in xs]"
   ]
  },
  {
   "cell_type": "code",
   "execution_count": 196,
   "id": "liberal-worth",
   "metadata": {},
   "outputs": [
    {
     "data": {
      "text/plain": [
       "<matplotlib.legend.Legend at 0x1598f552508>"
      ]
     },
     "execution_count": 196,
     "metadata": {},
     "output_type": "execute_result"
    },
    {
     "data": {
      "image/png": "[encoded data removed]",
      "text/plain": [
       "<Figure size 432x288 with 1 Axes>"
      ]
     },
     "metadata": {
      "needs_background": "light"
     },
     "output_type": "display_data"
    }
   ],
   "source": [
    "plt.plot(xs, y_miss_trainval, label='Train and val')\n",
    "plt.plot(xs, y_miss_test, label='test')\n",
    "plt.xlabel('Threshold')\n",
    "plt.ylabel('Number of features')\n",
    "plt.legend()"
   ]
  },
  {
   "cell_type": "code",
   "execution_count": 160,
   "id": "smoking-strain",
   "metadata": {},
   "outputs": [
    {
     "data": {
      "text/plain": [
       "<matplotlib.legend.Legend at 0x1598fc9b888>"
      ]
     },
     "execution_count": 160,
     "metadata": {},
     "output_type": "execute_result"
    },
    {
     "data": {
      "image/png": "[encoded data removed]",
      "text/plain": [
       "<Figure size 1440x360 with 1 Axes>"
      ]
     },
     "metadata": {
      "needs_background": "light"
     },
     "output_type": "display_data"
    }
   ],
   "source": [
    "import matplotlib.pyplot as plt\n",
    "(df[df.part == 'test'].isna() | (df[df.part == 'test'] == 'nan')).mean().plot(figsize=(20, 5), label='test')\n",
    "(df[df.part.isin(['train', 'val'])].isna() | (df[df.part.isin(['train', 'val'])] == 'nan')).mean().plot(figsize=(20, 5), label='train_val')\n",
    "plt.legend()"
   ]
  },
  {
   "cell_type": "code",
   "execution_count": 213,
   "id": "weird-malawi",
   "metadata": {},
   "outputs": [
    {
     "data": {
      "text/plain": [
       "0.753968253968254"
      ]
     },
     "execution_count": 213,
     "metadata": {},
     "output_type": "execute_result"
    }
   ],
   "source": [
    "1- roc_auc_score(y_test, df.loc[(df.part == 'test') & ((y_test != 'nan') & (~y_test.isna())), df.columns.str.startswith('vis_')].mean(axis=1).clip(0, 4)/4)"
   ]
  },
  {
   "cell_type": "code",
   "execution_count": 212,
   "id": "liberal-dressing",
   "metadata": {},
   "outputs": [
    {
     "data": {
      "text/plain": [
       "patientprimarymrn  study\n",
       "10010              st000    1.0\n",
       "10012              st000    0.0\n",
       "10017              st000    1.0\n",
       "10025              st000    0.0\n",
       "10028              st000    0.0\n",
       "10032              st000    1.0\n",
       "10033              st000    1.0\n",
       "10044              st000    1.0\n",
       "10047              st000    0.0\n",
       "10049              st000    1.0\n",
       "10059              st000    1.0\n",
       "10062              st000    1.0\n",
       "10070              st000    1.0\n",
       "10071              st001    1.0\n",
       "10072              st000    0.0\n",
       "10081              st000    1.0\n",
       "10098              st000    1.0\n",
       "10101              st001    1.0\n",
       "10103              st001    1.0\n",
       "10107              st000    1.0\n",
       "10109              st001    0.0\n",
       "10113              st000    1.0\n",
       "10123              st000    1.0\n",
       "10128              st000    1.0\n",
       "10134              st000    1.0\n",
       "10137              st000    1.0\n",
       "10143              st000    1.0\n",
       "10147              st000    1.0\n",
       "10151              st000    1.0\n",
       "10156              st002    1.0\n",
       "10157              st000    1.0\n",
       "10183              st001    1.0\n",
       "10186              st001    1.0\n",
       "10188              st000    0.0\n",
       "Name: diagnosis, dtype: float64"
      ]
     },
     "execution_count": 212,
     "metadata": {},
     "output_type": "execute_result"
    }
   ],
   "source": [
    "y_test"
   ]
  },
  {
   "cell_type": "code",
   "execution_count": 148,
   "id": "british-cassette",
   "metadata": {},
   "outputs": [
    {
     "data": {
      "text/plain": [
       "0.42016806722689076"
      ]
     },
     "execution_count": 148,
     "metadata": {},
     "output_type": "execute_result"
    }
   ],
   "source": [
    "(df.loc[(df.part == 'test'), 'pcr'] == 'nan').sum() / len((df.loc[(df.part == 'test'), 'pcr'] == 'nan'))"
   ]
  },
  {
   "cell_type": "code",
   "execution_count": 149,
   "id": "worldwide-drove",
   "metadata": {},
   "outputs": [
    {
     "data": {
      "text/plain": [
       "0.5575757575757576"
      ]
     },
     "execution_count": 149,
     "metadata": {},
     "output_type": "execute_result"
    }
   ],
   "source": [
    "(df.loc[(df.part == 'val'), 'pcr'] == 'nan').sum() / len(df.loc[(df.part == 'val'), 'pcr'] == 'nan')"
   ]
  },
  {
   "cell_type": "code",
   "execution_count": 165,
   "id": "modified-attitude",
   "metadata": {},
   "outputs": [
    {
     "data": {
      "text/plain": [
       "{'bootstrap': True,\n",
       " 'bootstrap_features': False,\n",
       " 'max_samples': 0.9930531953964028,\n",
       " 'max_features': 0.997291197779636}"
      ]
     },
     "execution_count": 165,
     "metadata": {},
     "output_type": "execute_result"
    }
   ],
   "source": [
    "search.best_params_"
   ]
  },
  {
   "cell_type": "code",
   "execution_count": 34,
   "id": "assisted-premium",
   "metadata": {},
   "outputs": [
    {
     "data": {
      "text/plain": [
       "patientprimarymrn  study\n",
       "10001              st000    Positief\n",
       "10003              st000    Positief\n",
       "10005              st000    Negatief\n",
       "10008              st000    Positief\n",
       "10009              st000         nan\n",
       "                              ...   \n",
       "10184              st000    Negatief\n",
       "10185              st000    Negatief\n",
       "10186              st000    Negatief\n",
       "                   st001    Negatief\n",
       "10188              st000    Positief\n",
       "Name: corads_pcr, Length: 119, dtype: category\n",
       "Categories (4, object): ['Negatief', 'Positief', 'nan', 'Missing']"
      ]
     },
     "execution_count": 34,
     "metadata": {},
     "output_type": "execute_result"
    }
   ],
   "source": [
    "df.loc[df.part == 'test', 'corads_pcr']"
   ]
  },
  {
   "cell_type": "code",
   "execution_count": 137,
   "id": "leading-square",
   "metadata": {},
   "outputs": [
    {
     "name": "stderr",
     "output_type": "stream",
     "text": [
      "c:\\users\\roel\\.virtualenvs\\diagcovid-ckc2berq\\lib\\site-packages\\ipykernel_launcher.py:4: UserWarning: Boolean Series key will be reindexed to match DataFrame index.\n",
      "  after removing the cwd from sys.path.\n"
     ]
    },
    {
     "data": {
      "text/plain": [
       "0.6222570532915361"
      ]
     },
     "execution_count": 137,
     "metadata": {},
     "output_type": "execute_result"
    }
   ],
   "source": [
    "from sklearn.metrics import roc_auc_score\n",
    "y2 = df.loc[df.part == 'test', 'pcr']\n",
    "not_nan = (y2 != 'nan') & ~y2.isna()\n",
    "X_reduced_no_names = X_test[not_nan].copy()\n",
    "X_reduced_no_names.columns = np.arange(len(X_test.columns))\n",
    "roc_auc_score(y2[not_nan], sc.predict_proba(cat_to_num(X_reduced_no_names, impute=False))[:, 1])"
   ]
  },
  {
   "cell_type": "code",
   "execution_count": 101,
   "id": "unsigned-delta",
   "metadata": {},
   "outputs": [
    {
     "data": {
      "text/plain": [
       "0.774294670846395"
      ]
     },
     "execution_count": 101,
     "metadata": {},
     "output_type": "execute_result"
    }
   ],
   "source": [
    "from sklearn.metrics import roc_auc_score\n",
    "X_reduced_no_names = X_test.copy()\n",
    "X_reduced_no_names.columns = np.arange(len(X_test.columns))\n",
    "roc_auc_score(y_test, ve.predict_proba(cat_to_num(X_reduced_no_names, impute=False))[:, 1])"
   ]
  },
  {
   "cell_type": "code",
   "execution_count": 322,
   "id": "modern-hundred",
   "metadata": {},
   "outputs": [
    {
     "data": {
      "text/plain": [
       "0.780564263322884"
      ]
     },
     "execution_count": 322,
     "metadata": {},
     "output_type": "execute_result"
    }
   ],
   "source": [
    "from sklearn.metrics import roc_auc_score\n",
    "X_reduced_no_names = X_test.copy()\n",
    "X_reduced_no_names.columns = np.arange(len(X_test.columns))\n",
    "roc_auc_score(y_test, lgbm.predict_proba(cat_to_num(X_reduced_no_names, impute=False))[:, 1])"
   ]
  },
  {
   "cell_type": "code",
   "execution_count": 317,
   "id": "plastic-tribe",
   "metadata": {},
   "outputs": [
    {
     "data": {
      "text/plain": [
       "0.7570532915360502"
      ]
     },
     "execution_count": 317,
     "metadata": {},
     "output_type": "execute_result"
    }
   ],
   "source": [
    "from sklearn.metrics import roc_auc_score\n",
    "X_reduced_no_names = X_test.copy()\n",
    "X_reduced_no_names.columns = np.arange(len(X_test.columns))\n",
    "roc_auc_score(y_test, lgbm.predict_proba(cat_to_num(X_reduced_no_names, impute=False))[:, 1])"
   ]
  },
  {
   "cell_type": "code",
   "execution_count": 319,
   "id": "committed-transcription",
   "metadata": {},
   "outputs": [
    {
     "data": {
      "text/plain": [
       "0.7742946708463949"
      ]
     },
     "execution_count": 319,
     "metadata": {},
     "output_type": "execute_result"
    }
   ],
   "source": [
    "from sklearn.metrics import roc_auc_score\n",
    "X_reduced_no_names = X_test.copy()\n",
    "X_reduced_no_names.columns = np.arange(len(X_test.columns))\n",
    "roc_auc_score(y_test, stupid.predict_proba(cat_to_num(X_reduced_no_names, impute=False))[:, 1])"
   ]
  },
  {
   "cell_type": "code",
   "execution_count": 297,
   "id": "circular-telling",
   "metadata": {},
   "outputs": [
    {
     "data": {
      "text/plain": [
       "0.7547021943573667"
      ]
     },
     "execution_count": 297,
     "metadata": {},
     "output_type": "execute_result"
    }
   ],
   "source": [
    "from sklearn.metrics import roc_auc_score\n",
    "X_reduced_no_names = X_test.copy()\n",
    "X_reduced_no_names.columns = np.arange(len(X_test.columns))\n",
    "roc_auc_score(y_test, lgbm.predict_proba(cat_to_num(X_reduced_no_names, impute=False))[:, 1])"
   ]
  },
  {
   "cell_type": "code",
   "execution_count": 301,
   "id": "criminal-austria",
   "metadata": {},
   "outputs": [
    {
     "data": {
      "text/plain": [
       "0.7789968652037617"
      ]
     },
     "execution_count": 301,
     "metadata": {},
     "output_type": "execute_result"
    }
   ],
   "source": [
    "from sklearn.metrics import roc_auc_score\n",
    "X_reduced_no_names = X_test.copy()\n",
    "X_reduced_no_names.columns = np.arange(len(X_test.columns))\n",
    "roc_auc_score(y_test, stupid.predict_proba(cat_to_num(X_reduced_no_names, impute=False))[:, 1])"
   ]
  },
  {
   "cell_type": "code",
   "execution_count": 255,
   "id": "liquid-programming",
   "metadata": {},
   "outputs": [
    {
     "data": {
      "text/plain": [
       "{'fit_time': array([0.9109993 , 0.90100217, 0.90000129, 0.94500089, 0.95399976]),\n",
       " 'score_time': array([0.58799887, 0.75799751, 0.55499744, 0.58000112, 0.58299947]),\n",
       " 'test_score': array([0.50988142, 0.48961353, 0.54414442, 0.56196581, 0.51908397])}"
      ]
     },
     "execution_count": 255,
     "metadata": {},
     "output_type": "execute_result"
    }
   ],
   "source": [
    "from sklearn.metrics import make_scorer\n",
    "cross_validate(LGBMRegressor(n_jobs=-1), X_train_reduced_no_names, y_train, scoring=make_scorer(corads_roc_auc))"
   ]
  },
  {
   "cell_type": "code",
   "execution_count": 256,
   "id": "composed-dance",
   "metadata": {},
   "outputs": [
    {
     "data": {
      "text/plain": [
       "dtype('float64')"
      ]
     },
     "execution_count": 256,
     "metadata": {},
     "output_type": "execute_result"
    }
   ],
   "source": [
    "y_test.dtype"
   ]
  },
  {
   "cell_type": "code",
   "execution_count": 106,
   "id": "partial-clone",
   "metadata": {},
   "outputs": [],
   "source": [
    "from typing import Dict, Union\n",
    "from sklearn.pipeline import make_pipeline, Pipeline\n",
    "from sklearn.impute import SimpleImputer\n",
    "from sklearn.compose import ColumnTransformer\n",
    "from sklearn.preprocessing import OrdinalEncoder\n",
    "from sklearn.svm import SVC\n",
    "def generate_pipeline_lr(X: pd.DataFrame, model_params: Dict[str, Union[str, bool, int, float]] = None, regression: bool = False):\n",
    "    categorical_columns = list(X.select_dtypes(include=['category']).columns)\n",
    "    numerical_columns = list(X.select_dtypes(exclude=['category']).columns)\n",
    "\n",
    "    cateogrical_preprocessor = make_pipeline(\n",
    "        SimpleImputer(strategy='constant', fill_value='missing'),\n",
    "        OrdinalEncoder(categories=[list(X[col].cat.categories) for col in categorical_columns])\n",
    "    )\n",
    "    numerical_preprocessor = SimpleImputer(strategy='mean')\n",
    "\n",
    "    imputation = ColumnTransformer([\n",
    "        ('categorical', cateogrical_preprocessor, categorical_columns),\n",
    "        ('numerical', numerical_preprocessor, numerical_columns)\n",
    "    ])\n",
    "\n",
    "    params = model_params\n",
    "    assert model_params is not None, 'Must supply model params for HyperOptConfig'\n",
    "\n",
    "    clf = Pipeline([\n",
    "        ('imputation', imputation),\n",
    "        ('estimator', SVC(probability=True))\n",
    "    ])\n",
    "\n",
    "    return clf"
   ]
  },
  {
   "cell_type": "code",
   "execution_count": 107,
   "id": "vocational-livestock",
   "metadata": {},
   "outputs": [],
   "source": [
    "lr_pipeline = generate_pipeline_lr(X, {}, False)"
   ]
  },
  {
   "cell_type": "code",
   "execution_count": 108,
   "id": "molecular-reservoir",
   "metadata": {},
   "outputs": [
    {
     "data": {
      "text/plain": [
       "Pipeline(steps=[('imputation',\n",
       "                 ColumnTransformer(transformers=[('categorical',\n",
       "                                                  Pipeline(steps=[('simpleimputer',\n",
       "                                                                   SimpleImputer(fill_value='missing',\n",
       "                                                                                 strategy='constant')),\n",
       "                                                                  ('ordinalencoder',\n",
       "                                                                   OrdinalEncoder(categories=[['ABpos',\n",
       "                                                                                               'Aneg',\n",
       "                                                                                               'Apos',\n",
       "                                                                                               'Bpos',\n",
       "                                                                                               'Oneg',\n",
       "                                                                                               'Opos',\n",
       "                                                                                               'nan',\n",
       "                                                                                               'Missing'],\n",
       "                                                                                              ['Negatief',\n",
       "                                                                                               'nan',\n",
       "                                                                                               'Missing'],\n",
       "                                                                                              ['Negatief',\n",
       "                                                                                               'nan',\n",
       "                                                                                               'Missing'],\n",
       "                                                                                              ['Afwezig',\n",
       "                                                                                               'nan',\n",
       "                                                                                               'M...\n",
       "                                                  ['% CD4+ T-Lymfocyten',\n",
       "                                                   '% CD8+ T-Lymfocyten',\n",
       "                                                   '% T-lymfocyten',\n",
       "                                                   '3-Methoxytyramine',\n",
       "                                                   '5-HIAA/MMOL KREAT',\n",
       "                                                   '6-MMPR', '6-MMPR-R',\n",
       "                                                   '6-TGN', '6-TGN-R', 'A Dur',\n",
       "                                                   \"A'\", 'A/E', 'ACE', 'ACS',\n",
       "                                                   'ACTH', 'AF', 'ALAT',\n",
       "                                                   'AO diam diastole',\n",
       "                                                   'AP50 titer', 'APTT',\n",
       "                                                   'AR Dec Slope', 'AR PGmax',\n",
       "                                                   'AR PHT', 'AR VC diam',\n",
       "                                                   'AR Vmax', 'ASAT',\n",
       "                                                   'AV PGmax', 'AV PGmean',\n",
       "                                                   'AV VTI', 'AV Vmax', ...])])),\n",
       "                ('estimator', SVC(probability=True))])"
      ]
     },
     "execution_count": 108,
     "metadata": {},
     "output_type": "execute_result"
    }
   ],
   "source": [
    "lr_pipeline.fit(X_train, y_train)"
   ]
  },
  {
   "cell_type": "code",
   "execution_count": 109,
   "id": "optical-hobby",
   "metadata": {},
   "outputs": [
    {
     "data": {
      "text/plain": [
       "0.5477582846003898"
      ]
     },
     "execution_count": 109,
     "metadata": {},
     "output_type": "execute_result"
    }
   ],
   "source": [
    "roc_auc_score(y_test, lr_pipeline.predict_proba(X_test)[:, 1])"
   ]
  },
  {
   "cell_type": "code",
   "execution_count": 71,
   "id": "solid-master",
   "metadata": {},
   "outputs": [
    {
     "ename": "KeyboardInterrupt",
     "evalue": "",
     "output_type": "error",
     "traceback": [
      "\u001b[1;31m---------------------------------------------------------------------------\u001b[0m",
      "\u001b[1;31mKeyboardInterrupt\u001b[0m                         Traceback (most recent call last)",
      "\u001b[1;32m<ipython-input-71-b9232cf1bf41>\u001b[0m in \u001b[0;36m<module>\u001b[1;34m\u001b[0m\n\u001b[1;32m----> 1\u001b[1;33m \u001b[0mtrial\u001b[0m \u001b[1;33m=\u001b[0m \u001b[0mstudy\u001b[0m\u001b[1;33m.\u001b[0m\u001b[0mtrials\u001b[0m\u001b[1;33m[\u001b[0m\u001b[1;36m0\u001b[0m\u001b[1;33m]\u001b[0m\u001b[1;33m\u001b[0m\u001b[1;33m\u001b[0m\u001b[0m\n\u001b[0m",
      "\u001b[1;32mc:\\users\\roel\\.virtualenvs\\diagcovid-ckc2berq\\lib\\site-packages\\optuna\\study.py\u001b[0m in \u001b[0;36mtrials\u001b[1;34m(self)\u001b[0m\n\u001b[0;32m    154\u001b[0m         \"\"\"\n\u001b[0;32m    155\u001b[0m \u001b[1;33m\u001b[0m\u001b[0m\n\u001b[1;32m--> 156\u001b[1;33m         \u001b[1;32mreturn\u001b[0m \u001b[0mself\u001b[0m\u001b[1;33m.\u001b[0m\u001b[0mget_trials\u001b[0m\u001b[1;33m(\u001b[0m\u001b[0mdeepcopy\u001b[0m\u001b[1;33m=\u001b[0m\u001b[1;32mTrue\u001b[0m\u001b[1;33m,\u001b[0m \u001b[0mstates\u001b[0m\u001b[1;33m=\u001b[0m\u001b[1;32mNone\u001b[0m\u001b[1;33m)\u001b[0m\u001b[1;33m\u001b[0m\u001b[1;33m\u001b[0m\u001b[0m\n\u001b[0m\u001b[0;32m    157\u001b[0m \u001b[1;33m\u001b[0m\u001b[0m\n\u001b[0;32m    158\u001b[0m     \u001b[1;32mdef\u001b[0m \u001b[0m_is_multi_objective\u001b[0m\u001b[1;33m(\u001b[0m\u001b[0mself\u001b[0m\u001b[1;33m)\u001b[0m \u001b[1;33m->\u001b[0m \u001b[0mbool\u001b[0m\u001b[1;33m:\u001b[0m\u001b[1;33m\u001b[0m\u001b[1;33m\u001b[0m\u001b[0m\n",
      "\u001b[1;32mc:\\users\\roel\\.virtualenvs\\diagcovid-ckc2berq\\lib\\site-packages\\optuna\\study.py\u001b[0m in \u001b[0;36mget_trials\u001b[1;34m(self, deepcopy, states)\u001b[0m\n\u001b[0;32m    204\u001b[0m \u001b[1;33m\u001b[0m\u001b[0m\n\u001b[0;32m    205\u001b[0m         \u001b[0mself\u001b[0m\u001b[1;33m.\u001b[0m\u001b[0m_storage\u001b[0m\u001b[1;33m.\u001b[0m\u001b[0mread_trials_from_remote_storage\u001b[0m\u001b[1;33m(\u001b[0m\u001b[0mself\u001b[0m\u001b[1;33m.\u001b[0m\u001b[0m_study_id\u001b[0m\u001b[1;33m)\u001b[0m\u001b[1;33m\u001b[0m\u001b[1;33m\u001b[0m\u001b[0m\n\u001b[1;32m--> 206\u001b[1;33m         \u001b[1;32mreturn\u001b[0m \u001b[0mself\u001b[0m\u001b[1;33m.\u001b[0m\u001b[0m_storage\u001b[0m\u001b[1;33m.\u001b[0m\u001b[0mget_all_trials\u001b[0m\u001b[1;33m(\u001b[0m\u001b[0mself\u001b[0m\u001b[1;33m.\u001b[0m\u001b[0m_study_id\u001b[0m\u001b[1;33m,\u001b[0m \u001b[0mdeepcopy\u001b[0m\u001b[1;33m=\u001b[0m\u001b[0mdeepcopy\u001b[0m\u001b[1;33m,\u001b[0m \u001b[0mstates\u001b[0m\u001b[1;33m=\u001b[0m\u001b[0mstates\u001b[0m\u001b[1;33m)\u001b[0m\u001b[1;33m\u001b[0m\u001b[1;33m\u001b[0m\u001b[0m\n\u001b[0m\u001b[0;32m    207\u001b[0m \u001b[1;33m\u001b[0m\u001b[0m\n\u001b[0;32m    208\u001b[0m \u001b[1;33m\u001b[0m\u001b[0m\n",
      "\u001b[1;32mc:\\users\\roel\\.virtualenvs\\diagcovid-ckc2berq\\lib\\site-packages\\optuna\\storages\\_in_memory.py\u001b[0m in \u001b[0;36mget_all_trials\u001b[1;34m(self, study_id, deepcopy, states)\u001b[0m\n\u001b[0;32m    443\u001b[0m \u001b[1;33m\u001b[0m\u001b[0m\n\u001b[0;32m    444\u001b[0m             \u001b[1;32mif\u001b[0m \u001b[0mdeepcopy\u001b[0m\u001b[1;33m:\u001b[0m\u001b[1;33m\u001b[0m\u001b[1;33m\u001b[0m\u001b[0m\n\u001b[1;32m--> 445\u001b[1;33m                 \u001b[0mtrials\u001b[0m \u001b[1;33m=\u001b[0m \u001b[0mcopy\u001b[0m\u001b[1;33m.\u001b[0m\u001b[0mdeepcopy\u001b[0m\u001b[1;33m(\u001b[0m\u001b[0mlist\u001b[0m\u001b[1;33m(\u001b[0m\u001b[0mtrials\u001b[0m\u001b[1;33m)\u001b[0m\u001b[1;33m)\u001b[0m\u001b[1;33m\u001b[0m\u001b[1;33m\u001b[0m\u001b[0m\n\u001b[0m\u001b[0;32m    446\u001b[0m             \u001b[1;32melse\u001b[0m\u001b[1;33m:\u001b[0m\u001b[1;33m\u001b[0m\u001b[1;33m\u001b[0m\u001b[0m\n\u001b[0;32m    447\u001b[0m                 \u001b[0mtrials\u001b[0m \u001b[1;33m=\u001b[0m \u001b[0mlist\u001b[0m\u001b[1;33m(\u001b[0m\u001b[0mtrials\u001b[0m\u001b[1;33m)\u001b[0m\u001b[1;33m\u001b[0m\u001b[1;33m\u001b[0m\u001b[0m\n",
      "\u001b[1;32mc:\\users\\roel\\.virtualenvs\\diagcovid-ckc2berq\\lib\\copy.py\u001b[0m in \u001b[0;36mdeepcopy\u001b[1;34m(x, memo, _nil)\u001b[0m\n\u001b[0;32m    148\u001b[0m     \u001b[0mcopier\u001b[0m \u001b[1;33m=\u001b[0m \u001b[0m_deepcopy_dispatch\u001b[0m\u001b[1;33m.\u001b[0m\u001b[0mget\u001b[0m\u001b[1;33m(\u001b[0m\u001b[0mcls\u001b[0m\u001b[1;33m)\u001b[0m\u001b[1;33m\u001b[0m\u001b[1;33m\u001b[0m\u001b[0m\n\u001b[0;32m    149\u001b[0m     \u001b[1;32mif\u001b[0m \u001b[0mcopier\u001b[0m\u001b[1;33m:\u001b[0m\u001b[1;33m\u001b[0m\u001b[1;33m\u001b[0m\u001b[0m\n\u001b[1;32m--> 150\u001b[1;33m         \u001b[0my\u001b[0m \u001b[1;33m=\u001b[0m \u001b[0mcopier\u001b[0m\u001b[1;33m(\u001b[0m\u001b[0mx\u001b[0m\u001b[1;33m,\u001b[0m \u001b[0mmemo\u001b[0m\u001b[1;33m)\u001b[0m\u001b[1;33m\u001b[0m\u001b[1;33m\u001b[0m\u001b[0m\n\u001b[0m\u001b[0;32m    151\u001b[0m     \u001b[1;32melse\u001b[0m\u001b[1;33m:\u001b[0m\u001b[1;33m\u001b[0m\u001b[1;33m\u001b[0m\u001b[0m\n\u001b[0;32m    152\u001b[0m         \u001b[1;32mtry\u001b[0m\u001b[1;33m:\u001b[0m\u001b[1;33m\u001b[0m\u001b[1;33m\u001b[0m\u001b[0m\n",
      "\u001b[1;32mc:\\users\\roel\\.virtualenvs\\diagcovid-ckc2berq\\lib\\copy.py\u001b[0m in \u001b[0;36m_deepcopy_list\u001b[1;34m(x, memo, deepcopy)\u001b[0m\n\u001b[0;32m    214\u001b[0m     \u001b[0mappend\u001b[0m \u001b[1;33m=\u001b[0m \u001b[0my\u001b[0m\u001b[1;33m.\u001b[0m\u001b[0mappend\u001b[0m\u001b[1;33m\u001b[0m\u001b[1;33m\u001b[0m\u001b[0m\n\u001b[0;32m    215\u001b[0m     \u001b[1;32mfor\u001b[0m \u001b[0ma\u001b[0m \u001b[1;32min\u001b[0m \u001b[0mx\u001b[0m\u001b[1;33m:\u001b[0m\u001b[1;33m\u001b[0m\u001b[1;33m\u001b[0m\u001b[0m\n\u001b[1;32m--> 216\u001b[1;33m         \u001b[0mappend\u001b[0m\u001b[1;33m(\u001b[0m\u001b[0mdeepcopy\u001b[0m\u001b[1;33m(\u001b[0m\u001b[0ma\u001b[0m\u001b[1;33m,\u001b[0m \u001b[0mmemo\u001b[0m\u001b[1;33m)\u001b[0m\u001b[1;33m)\u001b[0m\u001b[1;33m\u001b[0m\u001b[1;33m\u001b[0m\u001b[0m\n\u001b[0m\u001b[0;32m    217\u001b[0m     \u001b[1;32mreturn\u001b[0m \u001b[0my\u001b[0m\u001b[1;33m\u001b[0m\u001b[1;33m\u001b[0m\u001b[0m\n\u001b[0;32m    218\u001b[0m \u001b[0md\u001b[0m\u001b[1;33m[\u001b[0m\u001b[0mlist\u001b[0m\u001b[1;33m]\u001b[0m \u001b[1;33m=\u001b[0m \u001b[0m_deepcopy_list\u001b[0m\u001b[1;33m\u001b[0m\u001b[1;33m\u001b[0m\u001b[0m\n",
      "\u001b[1;32mc:\\users\\roel\\.virtualenvs\\diagcovid-ckc2berq\\lib\\copy.py\u001b[0m in \u001b[0;36mdeepcopy\u001b[1;34m(x, memo, _nil)\u001b[0m\n\u001b[0;32m    178\u001b[0m                     \u001b[0my\u001b[0m \u001b[1;33m=\u001b[0m \u001b[0mx\u001b[0m\u001b[1;33m\u001b[0m\u001b[1;33m\u001b[0m\u001b[0m\n\u001b[0;32m    179\u001b[0m                 \u001b[1;32melse\u001b[0m\u001b[1;33m:\u001b[0m\u001b[1;33m\u001b[0m\u001b[1;33m\u001b[0m\u001b[0m\n\u001b[1;32m--> 180\u001b[1;33m                     \u001b[0my\u001b[0m \u001b[1;33m=\u001b[0m \u001b[0m_reconstruct\u001b[0m\u001b[1;33m(\u001b[0m\u001b[0mx\u001b[0m\u001b[1;33m,\u001b[0m \u001b[0mmemo\u001b[0m\u001b[1;33m,\u001b[0m \u001b[1;33m*\u001b[0m\u001b[0mrv\u001b[0m\u001b[1;33m)\u001b[0m\u001b[1;33m\u001b[0m\u001b[1;33m\u001b[0m\u001b[0m\n\u001b[0m\u001b[0;32m    181\u001b[0m \u001b[1;33m\u001b[0m\u001b[0m\n\u001b[0;32m    182\u001b[0m     \u001b[1;31m# If is its own copy, don't memoize.\u001b[0m\u001b[1;33m\u001b[0m\u001b[1;33m\u001b[0m\u001b[1;33m\u001b[0m\u001b[0m\n",
      "\u001b[1;32mc:\\users\\roel\\.virtualenvs\\diagcovid-ckc2berq\\lib\\copy.py\u001b[0m in \u001b[0;36m_reconstruct\u001b[1;34m(x, memo, func, args, state, listiter, dictiter, deepcopy)\u001b[0m\n\u001b[0;32m    279\u001b[0m     \u001b[1;32mif\u001b[0m \u001b[0mstate\u001b[0m \u001b[1;32mis\u001b[0m \u001b[1;32mnot\u001b[0m \u001b[1;32mNone\u001b[0m\u001b[1;33m:\u001b[0m\u001b[1;33m\u001b[0m\u001b[1;33m\u001b[0m\u001b[0m\n\u001b[0;32m    280\u001b[0m         \u001b[1;32mif\u001b[0m \u001b[0mdeep\u001b[0m\u001b[1;33m:\u001b[0m\u001b[1;33m\u001b[0m\u001b[1;33m\u001b[0m\u001b[0m\n\u001b[1;32m--> 281\u001b[1;33m             \u001b[0mstate\u001b[0m \u001b[1;33m=\u001b[0m \u001b[0mdeepcopy\u001b[0m\u001b[1;33m(\u001b[0m\u001b[0mstate\u001b[0m\u001b[1;33m,\u001b[0m \u001b[0mmemo\u001b[0m\u001b[1;33m)\u001b[0m\u001b[1;33m\u001b[0m\u001b[1;33m\u001b[0m\u001b[0m\n\u001b[0m\u001b[0;32m    282\u001b[0m         \u001b[1;32mif\u001b[0m \u001b[0mhasattr\u001b[0m\u001b[1;33m(\u001b[0m\u001b[0my\u001b[0m\u001b[1;33m,\u001b[0m \u001b[1;34m'__setstate__'\u001b[0m\u001b[1;33m)\u001b[0m\u001b[1;33m:\u001b[0m\u001b[1;33m\u001b[0m\u001b[1;33m\u001b[0m\u001b[0m\n\u001b[0;32m    283\u001b[0m             \u001b[0my\u001b[0m\u001b[1;33m.\u001b[0m\u001b[0m__setstate__\u001b[0m\u001b[1;33m(\u001b[0m\u001b[0mstate\u001b[0m\u001b[1;33m)\u001b[0m\u001b[1;33m\u001b[0m\u001b[1;33m\u001b[0m\u001b[0m\n",
      "\u001b[1;32mc:\\users\\roel\\.virtualenvs\\diagcovid-ckc2berq\\lib\\copy.py\u001b[0m in \u001b[0;36mdeepcopy\u001b[1;34m(x, memo, _nil)\u001b[0m\n\u001b[0;32m    148\u001b[0m     \u001b[0mcopier\u001b[0m \u001b[1;33m=\u001b[0m \u001b[0m_deepcopy_dispatch\u001b[0m\u001b[1;33m.\u001b[0m\u001b[0mget\u001b[0m\u001b[1;33m(\u001b[0m\u001b[0mcls\u001b[0m\u001b[1;33m)\u001b[0m\u001b[1;33m\u001b[0m\u001b[1;33m\u001b[0m\u001b[0m\n\u001b[0;32m    149\u001b[0m     \u001b[1;32mif\u001b[0m \u001b[0mcopier\u001b[0m\u001b[1;33m:\u001b[0m\u001b[1;33m\u001b[0m\u001b[1;33m\u001b[0m\u001b[0m\n\u001b[1;32m--> 150\u001b[1;33m         \u001b[0my\u001b[0m \u001b[1;33m=\u001b[0m \u001b[0mcopier\u001b[0m\u001b[1;33m(\u001b[0m\u001b[0mx\u001b[0m\u001b[1;33m,\u001b[0m \u001b[0mmemo\u001b[0m\u001b[1;33m)\u001b[0m\u001b[1;33m\u001b[0m\u001b[1;33m\u001b[0m\u001b[0m\n\u001b[0m\u001b[0;32m    151\u001b[0m     \u001b[1;32melse\u001b[0m\u001b[1;33m:\u001b[0m\u001b[1;33m\u001b[0m\u001b[1;33m\u001b[0m\u001b[0m\n\u001b[0;32m    152\u001b[0m         \u001b[1;32mtry\u001b[0m\u001b[1;33m:\u001b[0m\u001b[1;33m\u001b[0m\u001b[1;33m\u001b[0m\u001b[0m\n",
      "\u001b[1;32mc:\\users\\roel\\.virtualenvs\\diagcovid-ckc2berq\\lib\\copy.py\u001b[0m in \u001b[0;36m_deepcopy_dict\u001b[1;34m(x, memo, deepcopy)\u001b[0m\n\u001b[0;32m    239\u001b[0m     \u001b[0mmemo\u001b[0m\u001b[1;33m[\u001b[0m\u001b[0mid\u001b[0m\u001b[1;33m(\u001b[0m\u001b[0mx\u001b[0m\u001b[1;33m)\u001b[0m\u001b[1;33m]\u001b[0m \u001b[1;33m=\u001b[0m \u001b[0my\u001b[0m\u001b[1;33m\u001b[0m\u001b[1;33m\u001b[0m\u001b[0m\n\u001b[0;32m    240\u001b[0m     \u001b[1;32mfor\u001b[0m \u001b[0mkey\u001b[0m\u001b[1;33m,\u001b[0m \u001b[0mvalue\u001b[0m \u001b[1;32min\u001b[0m \u001b[0mx\u001b[0m\u001b[1;33m.\u001b[0m\u001b[0mitems\u001b[0m\u001b[1;33m(\u001b[0m\u001b[1;33m)\u001b[0m\u001b[1;33m:\u001b[0m\u001b[1;33m\u001b[0m\u001b[1;33m\u001b[0m\u001b[0m\n\u001b[1;32m--> 241\u001b[1;33m         \u001b[0my\u001b[0m\u001b[1;33m[\u001b[0m\u001b[0mdeepcopy\u001b[0m\u001b[1;33m(\u001b[0m\u001b[0mkey\u001b[0m\u001b[1;33m,\u001b[0m \u001b[0mmemo\u001b[0m\u001b[1;33m)\u001b[0m\u001b[1;33m]\u001b[0m \u001b[1;33m=\u001b[0m \u001b[0mdeepcopy\u001b[0m\u001b[1;33m(\u001b[0m\u001b[0mvalue\u001b[0m\u001b[1;33m,\u001b[0m \u001b[0mmemo\u001b[0m\u001b[1;33m)\u001b[0m\u001b[1;33m\u001b[0m\u001b[1;33m\u001b[0m\u001b[0m\n\u001b[0m\u001b[0;32m    242\u001b[0m     \u001b[1;32mreturn\u001b[0m \u001b[0my\u001b[0m\u001b[1;33m\u001b[0m\u001b[1;33m\u001b[0m\u001b[0m\n\u001b[0;32m    243\u001b[0m \u001b[0md\u001b[0m\u001b[1;33m[\u001b[0m\u001b[0mdict\u001b[0m\u001b[1;33m]\u001b[0m \u001b[1;33m=\u001b[0m \u001b[0m_deepcopy_dict\u001b[0m\u001b[1;33m\u001b[0m\u001b[1;33m\u001b[0m\u001b[0m\n",
      "\u001b[1;32mc:\\users\\roel\\.virtualenvs\\diagcovid-ckc2berq\\lib\\copy.py\u001b[0m in \u001b[0;36mdeepcopy\u001b[1;34m(x, memo, _nil)\u001b[0m\n\u001b[0;32m    148\u001b[0m     \u001b[0mcopier\u001b[0m \u001b[1;33m=\u001b[0m \u001b[0m_deepcopy_dispatch\u001b[0m\u001b[1;33m.\u001b[0m\u001b[0mget\u001b[0m\u001b[1;33m(\u001b[0m\u001b[0mcls\u001b[0m\u001b[1;33m)\u001b[0m\u001b[1;33m\u001b[0m\u001b[1;33m\u001b[0m\u001b[0m\n\u001b[0;32m    149\u001b[0m     \u001b[1;32mif\u001b[0m \u001b[0mcopier\u001b[0m\u001b[1;33m:\u001b[0m\u001b[1;33m\u001b[0m\u001b[1;33m\u001b[0m\u001b[0m\n\u001b[1;32m--> 150\u001b[1;33m         \u001b[0my\u001b[0m \u001b[1;33m=\u001b[0m \u001b[0mcopier\u001b[0m\u001b[1;33m(\u001b[0m\u001b[0mx\u001b[0m\u001b[1;33m,\u001b[0m \u001b[0mmemo\u001b[0m\u001b[1;33m)\u001b[0m\u001b[1;33m\u001b[0m\u001b[1;33m\u001b[0m\u001b[0m\n\u001b[0m\u001b[0;32m    151\u001b[0m     \u001b[1;32melse\u001b[0m\u001b[1;33m:\u001b[0m\u001b[1;33m\u001b[0m\u001b[1;33m\u001b[0m\u001b[0m\n\u001b[0;32m    152\u001b[0m         \u001b[1;32mtry\u001b[0m\u001b[1;33m:\u001b[0m\u001b[1;33m\u001b[0m\u001b[1;33m\u001b[0m\u001b[0m\n",
      "\u001b[1;32mc:\\users\\roel\\.virtualenvs\\diagcovid-ckc2berq\\lib\\copy.py\u001b[0m in \u001b[0;36m_deepcopy_dict\u001b[1;34m(x, memo, deepcopy)\u001b[0m\n\u001b[0;32m    239\u001b[0m     \u001b[0mmemo\u001b[0m\u001b[1;33m[\u001b[0m\u001b[0mid\u001b[0m\u001b[1;33m(\u001b[0m\u001b[0mx\u001b[0m\u001b[1;33m)\u001b[0m\u001b[1;33m]\u001b[0m \u001b[1;33m=\u001b[0m \u001b[0my\u001b[0m\u001b[1;33m\u001b[0m\u001b[1;33m\u001b[0m\u001b[0m\n\u001b[0;32m    240\u001b[0m     \u001b[1;32mfor\u001b[0m \u001b[0mkey\u001b[0m\u001b[1;33m,\u001b[0m \u001b[0mvalue\u001b[0m \u001b[1;32min\u001b[0m \u001b[0mx\u001b[0m\u001b[1;33m.\u001b[0m\u001b[0mitems\u001b[0m\u001b[1;33m(\u001b[0m\u001b[1;33m)\u001b[0m\u001b[1;33m:\u001b[0m\u001b[1;33m\u001b[0m\u001b[1;33m\u001b[0m\u001b[0m\n\u001b[1;32m--> 241\u001b[1;33m         \u001b[0my\u001b[0m\u001b[1;33m[\u001b[0m\u001b[0mdeepcopy\u001b[0m\u001b[1;33m(\u001b[0m\u001b[0mkey\u001b[0m\u001b[1;33m,\u001b[0m \u001b[0mmemo\u001b[0m\u001b[1;33m)\u001b[0m\u001b[1;33m]\u001b[0m \u001b[1;33m=\u001b[0m \u001b[0mdeepcopy\u001b[0m\u001b[1;33m(\u001b[0m\u001b[0mvalue\u001b[0m\u001b[1;33m,\u001b[0m \u001b[0mmemo\u001b[0m\u001b[1;33m)\u001b[0m\u001b[1;33m\u001b[0m\u001b[1;33m\u001b[0m\u001b[0m\n\u001b[0m\u001b[0;32m    242\u001b[0m     \u001b[1;32mreturn\u001b[0m \u001b[0my\u001b[0m\u001b[1;33m\u001b[0m\u001b[1;33m\u001b[0m\u001b[0m\n\u001b[0;32m    243\u001b[0m \u001b[0md\u001b[0m\u001b[1;33m[\u001b[0m\u001b[0mdict\u001b[0m\u001b[1;33m]\u001b[0m \u001b[1;33m=\u001b[0m \u001b[0m_deepcopy_dict\u001b[0m\u001b[1;33m\u001b[0m\u001b[1;33m\u001b[0m\u001b[0m\n",
      "\u001b[1;32mc:\\users\\roel\\.virtualenvs\\diagcovid-ckc2berq\\lib\\copy.py\u001b[0m in \u001b[0;36mdeepcopy\u001b[1;34m(x, memo, _nil)\u001b[0m\n\u001b[0;32m    178\u001b[0m                     \u001b[0my\u001b[0m \u001b[1;33m=\u001b[0m \u001b[0mx\u001b[0m\u001b[1;33m\u001b[0m\u001b[1;33m\u001b[0m\u001b[0m\n\u001b[0;32m    179\u001b[0m                 \u001b[1;32melse\u001b[0m\u001b[1;33m:\u001b[0m\u001b[1;33m\u001b[0m\u001b[1;33m\u001b[0m\u001b[0m\n\u001b[1;32m--> 180\u001b[1;33m                     \u001b[0my\u001b[0m \u001b[1;33m=\u001b[0m \u001b[0m_reconstruct\u001b[0m\u001b[1;33m(\u001b[0m\u001b[0mx\u001b[0m\u001b[1;33m,\u001b[0m \u001b[0mmemo\u001b[0m\u001b[1;33m,\u001b[0m \u001b[1;33m*\u001b[0m\u001b[0mrv\u001b[0m\u001b[1;33m)\u001b[0m\u001b[1;33m\u001b[0m\u001b[1;33m\u001b[0m\u001b[0m\n\u001b[0m\u001b[0;32m    181\u001b[0m \u001b[1;33m\u001b[0m\u001b[0m\n\u001b[0;32m    182\u001b[0m     \u001b[1;31m# If is its own copy, don't memoize.\u001b[0m\u001b[1;33m\u001b[0m\u001b[1;33m\u001b[0m\u001b[1;33m\u001b[0m\u001b[0m\n",
      "\u001b[1;31mKeyboardInterrupt\u001b[0m: "
     ]
    }
   ],
   "source": [
    "trial = study.trials[0]"
   ]
  },
  {
   "cell_type": "code",
   "execution_count": 61,
   "id": "qualified-sheriff",
   "metadata": {},
   "outputs": [],
   "source": [
    "model_params = {k: v for k, v in trial.params.items() if not k.startswith('use_col')}"
   ]
  },
  {
   "cell_type": "code",
   "execution_count": 62,
   "id": "sitting-clinic",
   "metadata": {},
   "outputs": [
    {
     "data": {
      "text/plain": [
       "{'boosting_type': 'gbdt',\n",
       " 'n_estimators': 212,\n",
       " 'learning_rate': 2.2682699240764637e-15,\n",
       " 'max_depth': 16,\n",
       " 'num_leaves': 146,\n",
       " 'reg_alpha': 1.0386223784782622e-09,\n",
       " 'reg_lambda': 1.115437568477484e-05,\n",
       " 'subsample': 0.9850603606481702,\n",
       " 'subsample_freq': 19,\n",
       " 'min_child_samples': 29,\n",
       " 'max_bin': 148,\n",
       " 'extra_trees': False,\n",
       " 'path_smooth': 1.030209349064192e-12,\n",
       " 'colsample_bytree': 0.9146387434228567,\n",
       " 'linear_tree': False}"
      ]
     },
     "execution_count": 62,
     "metadata": {},
     "output_type": "execute_result"
    }
   ],
   "source": [
    "model_params"
   ]
  },
  {
   "cell_type": "code",
   "execution_count": 63,
   "id": "criminal-jackson",
   "metadata": {},
   "outputs": [],
   "source": [
    "to_drop = []\n",
    "for col in X.columns:\n",
    "    use_col = trial.params[f'use_col_{col}']\n",
    "    if not use_col:\n",
    "        to_drop.append(col)\n",
    "\n",
    "X_reduced = X_test.drop(columns=to_drop)"
   ]
  },
  {
   "cell_type": "code",
   "execution_count": 70,
   "id": "binding-endorsement",
   "metadata": {},
   "outputs": [
    {
     "data": {
      "text/plain": [
       "['% CD8+ T-Lymfocyten',\n",
       " '% T-lymfocyten',\n",
       " '3-Methoxytyramine',\n",
       " '5-HIAA/MMOL KREAT',\n",
       " '6-MMPR',\n",
       " '6-MMPR-R',\n",
       " '6-TGN-R',\n",
       " 'A Dur',\n",
       " \"A'\",\n",
       " 'ACTH',\n",
       " 'AF',\n",
       " 'ANCA fluorescentie',\n",
       " 'ANTI-NMDA RECEPTOR',\n",
       " 'APTT',\n",
       " 'AR PGmax',\n",
       " 'AR VC diam',\n",
       " 'AV VTI',\n",
       " 'AV Vmax',\n",
       " 'AV Vmean',\n",
       " 'Aa',\n",
       " 'Aantal geplande transplantaties',\n",
       " 'Aantal liter processed',\n",
       " 'Abnormaal kernchromatine',\n",
       " 'Absolute neutrofiele segmentkernigen',\n",
       " 'Acetylsulfamethoxazol',\n",
       " 'Adenovirus totaal Ig',\n",
       " 'Aferese CD34 / KG',\n",
       " 'Aferese CD34 / kg / zak na cryopreservatie',\n",
       " 'Aferese CD34 totaal na cryopreservatie',\n",
       " 'Aferese CD34/kg na cryopreservatie',\n",
       " 'Afnameconditie',\n",
       " 'Afwijk. lymfo suspect reactief',\n",
       " 'Afwijkende lymfocyten suspect maligne',\n",
       " 'Afwijkende lymfocyten suspect reactief',\n",
       " 'Albumine Quotient',\n",
       " 'Albumine kreatinine ratio',\n",
       " 'Albumine nefelometrisch',\n",
       " 'Albumine/kreatinine ratio',\n",
       " 'Alcohol',\n",
       " 'Aldosteron',\n",
       " 'Alfa-1-antitrypsine klaring',\n",
       " 'Alfa-1-microglobuline',\n",
       " 'Alfa-2-globuline',\n",
       " 'Alfa-Foetoproteine',\n",
       " 'Alg. bact. onderz.',\n",
       " 'Algemene kweek',\n",
       " 'Algemene kweek Materiaal',\n",
       " 'Alkalische fosfatase',\n",
       " 'Amfetaminen',\n",
       " 'Ammoniak',\n",
       " 'Amorf neerslag',\n",
       " 'Amplitude 10',\n",
       " 'Amplitude 5',\n",
       " 'Amylase',\n",
       " 'Aniongap',\n",
       " 'Anti HLA klasse II',\n",
       " 'Anti VGCC',\n",
       " 'Anti-GAD',\n",
       " 'Anti-IgG',\n",
       " 'Anti-IgM',\n",
       " 'Anti-PLA2R screening',\n",
       " 'Anti-PR3',\n",
       " 'Anti-SM',\n",
       " 'Anti-SS-A/Ro52',\n",
       " 'Anti-SS-B',\n",
       " 'Anti-TPO',\n",
       " 'Anti-extraheerbare nucleaire antilich.',\n",
       " 'Anti-histon',\n",
       " 'Anti-nucleaire antilichamen',\n",
       " 'Anti-topoisomerase',\n",
       " 'Ao Arch diam',\n",
       " 'Ao Arch diam I',\n",
       " 'Ao Asc diam',\n",
       " 'Ao Desc diam',\n",
       " 'Ao Ring diam',\n",
       " 'Ao Ring diam I',\n",
       " 'Ao SV diam',\n",
       " 'Ao SV diam I',\n",
       " 'Apolipoproteine B',\n",
       " 'Arthrosporen',\n",
       " 'Aspect',\n",
       " 'Aspergillus antigeen  CLIA',\n",
       " 'B-lymfocyten  absoluut',\n",
       " 'BRMO kweek',\n",
       " 'Bacteriën',\n",
       " 'Basofiele punctering',\n",
       " 'Basofielen',\n",
       " 'Beta-2-microglobuline',\n",
       " 'Beta-2-transferrine',\n",
       " 'Bezinking',\n",
       " 'Bicarbonaat',\n",
       " 'Bilirubine direct',\n",
       " 'Bilirubine totaal',\n",
       " 'Blasten/blastachtigen',\n",
       " 'Bloedgroep 2',\n",
       " 'Bloedgroep 3',\n",
       " 'Body ERV LL',\n",
       " 'Body ERV Post%Pred',\n",
       " 'Body ERV Pred',\n",
       " 'Body FRCpleth Post%Pred',\n",
       " 'Body FRCpleth Pre',\n",
       " 'Body R Tot LL',\n",
       " 'Body R Tot Post%Pred',\n",
       " 'Body R Tot Pred',\n",
       " 'Body RV LL',\n",
       " 'Body RV Post Z-sc',\n",
       " 'Body RV Post%Pred',\n",
       " 'Body RV Pre',\n",
       " 'Body RV Pre Z-sc',\n",
       " 'Body TLC Post Z-sc',\n",
       " 'Body TLC Pre',\n",
       " 'Body VC LL',\n",
       " 'Body VC Post%Pred',\n",
       " 'Body VC Pre',\n",
       " 'Body VC Pre%Pred',\n",
       " 'C-peptide',\n",
       " 'C-peptide T1',\n",
       " 'CALR mutatie',\n",
       " 'CD8+ binnen CD3 %',\n",
       " 'CD8+ binnen CD3 absoluut',\n",
       " 'CH50 Titer',\n",
       " 'CMV IgG',\n",
       " 'CMV IgM',\n",
       " 'CO-hemoglobine',\n",
       " 'CXCL13',\n",
       " 'Calcium',\n",
       " 'Calcium per 24 uur',\n",
       " 'Calciumoxalaat',\n",
       " 'Cannabinoiden',\n",
       " 'Chamydia wo Psittacosis totaal Ig',\n",
       " 'Chlamydia LGV type',\n",
       " 'Chloride',\n",
       " 'Cholesterol',\n",
       " 'Chromogranine A',\n",
       " 'Ciclosporine spiegel',\n",
       " 'Citraat per 24 uur',\n",
       " 'Clomipramine',\n",
       " 'Clostridium difficile sneltest',\n",
       " 'Clot Formation Time',\n",
       " 'Colloid osmotische druk',\n",
       " 'Complement C1q',\n",
       " 'Complement C4',\n",
       " 'Conclusie_dif',\n",
       " 'Cortisol na chromatografie T1',\n",
       " 'Cortisol na chromatografie T2',\n",
       " 'Cyfra 21.1',\n",
       " 'D Vel',\n",
       " 'D-Dimeer',\n",
       " 'DLCOc Single Breath PredPPC',\n",
       " 'DPD enzymactiviteitsmeting',\n",
       " 'Diffusion SB DLCO Single Breath LL',\n",
       " 'Diffusion SB DLCO Single Breath Post',\n",
       " 'Diffusion SB DLCO Single Breath Post%Pred',\n",
       " 'Diffusion SB DLCO_SB / VA LL',\n",
       " 'Diffusion SB DLCO_SB / VA Post',\n",
       " 'Diffusion SB DLCO_SB / VA Post%Pred',\n",
       " 'Diffusion SB DLCO_SB / VA Pre%Pred',\n",
       " 'Diffusion SB DLCO_SB / VA Pred',\n",
       " 'Diffusion SB HB',\n",
       " 'Diffusion SB VA SINGLE BREATH LL',\n",
       " 'Diffusion SB VA SINGLE BREATH Pre',\n",
       " 'Diffusion SB VA SINGLE BREATH Pred',\n",
       " 'Diffusion SB VIN SINGLE BREATH LL',\n",
       " 'Diffusion SB VIN SINGLE BREATH Post Perc Pred',\n",
       " 'Diffusion SB VIN SINGLE BREATH Pre',\n",
       " 'Diffusion SB VIN SINGLE BREATH Pre%Pred',\n",
       " 'Doornappelcellen',\n",
       " \"E'\",\n",
       " \"E'/A'\",\n",
       " 'E/A',\n",
       " \"E/E'\",\n",
       " 'EB-virus ebna IgG',\n",
       " 'EB-virus monospot',\n",
       " 'EB-virus vca-IgG',\n",
       " 'EDVI',\n",
       " 'ESV',\n",
       " 'ESV teich',\n",
       " 'Ea',\n",
       " 'Eiwit kwal.',\n",
       " 'Eosinofiele granulocyten',\n",
       " 'Eosinofiele segmenten',\n",
       " 'Eosinofiele segmentkernigen',\n",
       " 'Eosinofielen',\n",
       " 'Erytroblasten',\n",
       " 'Erytrocyten cylinder',\n",
       " 'Erytropoëtine',\n",
       " 'Everolimus',\n",
       " 'Expiratie datum 4',\n",
       " 'FRC Rebreathing ERV LL',\n",
       " 'FRC Rebreathing ERV Pre%Pred',\n",
       " 'FRC Rebreathing ERV Pred',\n",
       " 'FRC Rebreathing FRC-HE LL',\n",
       " 'FRC Rebreathing FRC-He Pre',\n",
       " 'FRC Rebreathing FRC-He Pre Z-sc',\n",
       " 'FRC Rebreathing RV LL',\n",
       " 'FRC Rebreathing RV Pre',\n",
       " 'FRC Rebreathing RV Pre%Pred',\n",
       " 'FRC Rebreathing RV Pred',\n",
       " 'FRC Rebreathing RV%TLC Pre',\n",
       " 'FRC Rebreathing RV%TLC Pre%Pred',\n",
       " 'FRC Rebreathing TLC Pre Z-sc',\n",
       " 'FRC Rebreathing VC MAX Pre Z-sc',\n",
       " 'FRC Rebreathing VC MAX Pre%Pred',\n",
       " 'FRC Rebreathing VC MAX Pred',\n",
       " 'FS',\n",
       " 'Factor V',\n",
       " 'Factor VIII chromogeen',\n",
       " 'Factor-II mutatie 20210A',\n",
       " 'Factor-XII activiteit',\n",
       " 'Fosfaat',\n",
       " 'GCS',\n",
       " 'GLS',\n",
       " 'Gamma GT',\n",
       " 'Gamma-globuline',\n",
       " 'Ganciclovir',\n",
       " 'Geioniseerd calcium',\n",
       " 'Geioniseerd calcium post filter',\n",
       " 'Geldrolvorming',\n",
       " 'Gentamicine dal',\n",
       " 'Gewicht',\n",
       " 'Gist/schimmel kweek',\n",
       " 'Gistcellen',\n",
       " 'Glucose T1',\n",
       " 'Glucose T4',\n",
       " 'Glucose ratio liquor/bloed',\n",
       " 'Gram negatieve coccen',\n",
       " 'Gram positieve staven',\n",
       " 'Groeihormoon',\n",
       " 'HDL-cholesterol',\n",
       " 'HR',\n",
       " 'HTLV 1 en 2 Ig',\n",
       " 'Haptoglobine',\n",
       " 'Hematocriet',\n",
       " 'Hemoglobine foetaal',\n",
       " 'Hemoglobine-A2',\n",
       " 'Heparine geind. trombopenie',\n",
       " 'Hepatitis A Ig totaal',\n",
       " 'Hepatitis A IgM',\n",
       " 'Hepatitis B anti-HBc',\n",
       " 'Hepatitis B e-antigeen',\n",
       " 'Hepatitis C',\n",
       " 'Hepatitis E IgG',\n",
       " 'Hepatitis E IgM',\n",
       " 'Hepcidine',\n",
       " 'Hoeveelheid',\n",
       " 'Hondenroos',\n",
       " 'Hyfen',\n",
       " 'Hypochromasie',\n",
       " 'Hypogranulatie',\n",
       " 'Hypogranulatie Trombocyten',\n",
       " 'IJzerbindingscapaciteit',\n",
       " 'INFLIXIMAB',\n",
       " 'INFLIXIMAB ANTISTOFFEN',\n",
       " 'IVC collaps [118740018]',\n",
       " 'IVRT',\n",
       " 'IVSd',\n",
       " 'IgA',\n",
       " 'IgA anti-TTG',\n",
       " 'IgA fractie',\n",
       " 'IgE',\n",
       " 'IgE anti Aspergillus fumigatus',\n",
       " 'IgG',\n",
       " 'IgG Antistoffen Aspergillus type III',\n",
       " 'IgG anti-beta 2 glycoproteine',\n",
       " 'IgG anti-cardiolipine',\n",
       " 'IgG antistoffen Kanarie',\n",
       " 'IgG antistoffen Kip',\n",
       " 'IgG fractie',\n",
       " 'IgG produktie',\n",
       " 'IgM',\n",
       " 'IgM Qquotient',\n",
       " 'IgM fractie',\n",
       " 'Imatinib',\n",
       " 'Influenza A sneltest PCR',\n",
       " 'Influenza B sneltest PCR',\n",
       " 'Insuline T1',\n",
       " 'Interleukine-2-receptor',\n",
       " 'Isoelectric  focusing',\n",
       " 'Isoelectric focusing',\n",
       " 'JAK2 exon 12 mutatie',\n",
       " 'Jak2 V617F mutatie',\n",
       " 'Kapot gestreken lymfocyten',\n",
       " 'Ketonen',\n",
       " 'Kogelcellen',\n",
       " 'Koolmonoxide',\n",
       " 'Korrelcylinder',\n",
       " 'Kreatinine klaring',\n",
       " 'Kreatinine per 24 uur',\n",
       " 'LA Vol-I',\n",
       " 'LDH',\n",
       " 'LDL cholesterol',\n",
       " 'LMWH gefract. hep',\n",
       " 'LS - apical/ant',\n",
       " 'LS - apical/inf',\n",
       " 'LS - apical/lat',\n",
       " 'LS - bas/ant',\n",
       " 'LS - bas/inf',\n",
       " 'LS - bas/inf-sept',\n",
       " 'LS - mid/ant-lat',\n",
       " 'LS - mid/ant-sept',\n",
       " 'LS - mid/inf-lat',\n",
       " 'LS - mid/inf-sept',\n",
       " 'LV MASSd PennCubeTH',\n",
       " 'LVAd',\n",
       " 'LVIDd-I',\n",
       " 'LVIDs',\n",
       " 'LVOT  CI',\n",
       " 'LVOT CO',\n",
       " 'LVOT PGmax',\n",
       " 'LVOT PGmean',\n",
       " 'LVOT SV',\n",
       " 'LVOT VMax/AV Vmax',\n",
       " 'LVOT Vmean',\n",
       " 'LVOTToAoV_VTI',\n",
       " 'LVPWs',\n",
       " 'Lactaat',\n",
       " 'Legionella sneltest',\n",
       " 'Lichaampjes van Dohle',\n",
       " 'Lipase',\n",
       " 'Lipoproteïne',\n",
       " 'Luesserologie: RPR',\n",
       " 'Luesserologie: TPPA',\n",
       " 'Luteiniserend Hormoon',\n",
       " 'Lymfocyten  %',\n",
       " 'Lymfocyten md',\n",
       " 'Lymfocyten met azurofiele korreling',\n",
       " 'Lysis index na 60 min',\n",
       " 'M-Proteine',\n",
       " 'MCV',\n",
       " 'MPL mutatie',\n",
       " 'MR PGmean',\n",
       " 'MR VC diam',\n",
       " 'MR VTI',\n",
       " 'MRSA kweek',\n",
       " 'MV A Vel',\n",
       " 'MV Dec. Time',\n",
       " 'MV E Vel',\n",
       " 'MV PGmax',\n",
       " 'MV PGmean',\n",
       " 'MV PHT',\n",
       " 'MV VTI',\n",
       " 'MV Vmax',\n",
       " 'MVA',\n",
       " 'Macroplanie',\n",
       " 'Malaria detectie',\n",
       " 'Megakaryocytenresten',\n",
       " 'Mengsel van graspollen',\n",
       " 'Metanefrine',\n",
       " 'Methadon',\n",
       " 'Methemoglobine',\n",
       " 'Monocyten',\n",
       " 'Mononucleaire cellen',\n",
       " 'Mononucleaire cellen absoluut',\n",
       " 'Myceliumdraden/Gisten',\n",
       " 'Mycoplasma pneumoniae IgG',\n",
       " 'Myelocyten',\n",
       " 'Natrium',\n",
       " 'Natrium per 24 uur',\n",
       " 'Natrium per liter',\n",
       " 'Neutrofiel segm.granulocyten',\n",
       " 'Neutrofiel staafk.granulocyten',\n",
       " 'Neutrofiele segmentkernigen',\n",
       " 'Nitriet',\n",
       " 'Normetanefrine',\n",
       " 'Normoblasten',\n",
       " 'Nortriptyline',\n",
       " 'Ntpro-BNP',\n",
       " 'OHKFNEOS',\n",
       " 'Order Toelichting Serologie',\n",
       " 'Oxalaat',\n",
       " 'Oxyhemoglobine',\n",
       " 'PA Acc Time',\n",
       " 'PCO2',\n",
       " 'PCR AZORMAN Aspergillus resistentie',\n",
       " 'PCR Bocavirus',\n",
       " 'PCR Bordetella Pertussis',\n",
       " 'PCR Campylobacter',\n",
       " 'PCR Candida krusei',\n",
       " 'PCR Candida parapsilosis',\n",
       " 'PCR Chlamydia pneumoniae',\n",
       " 'PCR Coronavirus 229E',\n",
       " 'PCR Coronavirus HKU1',\n",
       " 'PCR Coronavirus NL63',\n",
       " 'PCR Cryptosporidium species',\n",
       " 'PCR Cyclospora cayetanensis',\n",
       " 'PCR Dientamoeba fragilis',\n",
       " 'PCR EBV',\n",
       " 'PCR Encephalitozoon species',\n",
       " 'PCR Entamoeba histolytica',\n",
       " 'PCR Enterovirus',\n",
       " 'PCR HIV load',\n",
       " 'PCR HSV1',\n",
       " 'PCR HSV2',\n",
       " 'PCR Hepatitis A',\n",
       " 'PCR Hepatitis B load',\n",
       " 'PCR Hepatitis C load',\n",
       " 'PCR Hepatitis E',\n",
       " 'PCR Herpes simplex 1 virus',\n",
       " 'PCR Herpes simplex 2 virus',\n",
       " 'PCR Influenza A virus',\n",
       " 'PCR JC virus',\n",
       " 'PCR Legionella pneumophila',\n",
       " 'PCR Load Cytomegalovirus',\n",
       " 'PCR Load Epstein-Barr virus Log',\n",
       " 'PCR Lues',\n",
       " 'PCR M. tuberculosis complex',\n",
       " 'PCR MRSA sneltest',\n",
       " 'PCR Neisseria gonorrhoeae',\n",
       " 'PCR Para-influenza type 2 virus',\n",
       " 'PCR Para-influenza type 3 virus',\n",
       " 'PCR Para-influenza type 4 virus',\n",
       " 'PCR Parechovirus',\n",
       " 'PCR Q koorts',\n",
       " 'PCR RS virus A',\n",
       " 'PCR RS virus B',\n",
       " 'PCR Rhino/Enterovirus',\n",
       " 'PCR Rotavirus',\n",
       " 'PCR Salmonella',\n",
       " 'PCR Sapovirus',\n",
       " 'PCR Shigella/EIEC',\n",
       " 'PCR Toxoplasma',\n",
       " 'PCR VZV',\n",
       " 'PCR Yersinia',\n",
       " 'PCR humaan Metapneumovirus',\n",
       " 'PCR niet tuberculeuze mycobacteriën',\n",
       " 'PFA',\n",
       " 'PISA ERO Area',\n",
       " 'PISA Radius',\n",
       " 'PR PGed',\n",
       " 'PR Ved',\n",
       " 'PR Vmax',\n",
       " 'PV Pgmax',\n",
       " 'PV Pulmonary VTI',\n",
       " 'PV Pulmonary Vmax',\n",
       " 'Parathyroid Hormoon',\n",
       " 'Parvovirus IgG',\n",
       " 'Parvovirus IgM',\n",
       " 'Phadiatop',\n",
       " 'Plasmacellen',\n",
       " 'Poikilocytose',\n",
       " 'Product code 3',\n",
       " 'Prostaat specifiek antigeen',\n",
       " 'Pseudohyfen',\n",
       " 'Q-koorts Ig',\n",
       " 'Q-koorts IgM fase 2',\n",
       " 'Q-koorts fase 2 IgG',\n",
       " 'RA Vol',\n",
       " 'RS-virus Ig',\n",
       " 'RV Acc Time',\n",
       " \"RV E'\",\n",
       " 'RV FAC',\n",
       " \"RV S'\",\n",
       " 'RVOT PGmean',\n",
       " 'RVOT Vmean',\n",
       " 'RVOT diam',\n",
       " 'RVPEP',\n",
       " 'RVSP',\n",
       " 'RV_Sa',\n",
       " 'Ratio CD4/CD8',\n",
       " 'Renine',\n",
       " 'Reticulocyten',\n",
       " 'Reumafactor IgM',\n",
       " 'Ristocetine cofactor act.',\n",
       " 'Rota / Adeno detectie',\n",
       " 'S1 Vel',\n",
       " 'SDD kweek',\n",
       " 'SF3B1 mutatie',\n",
       " 'SIXMINUTEWALKTESTDISTANCE POST',\n",
       " 'SIXMINUTEWALKTESTDISTANCE PRED',\n",
       " 'SIXMINUTEWALKTESTDISTANCE PREPERCPRED',\n",
       " 'SU12662',\n",
       " 'Schizocyten',\n",
       " 'Screening',\n",
       " 'Seleen',\n",
       " 'Serum Amyloid A',\n",
       " 'Sex Hormoon Bindend Globuline',\n",
       " 'Sirolimus',\n",
       " 'Spirometrie FEV 1 % Change',\n",
       " 'Spirometrie FEV 1 % VC MAX Pre Z-sc',\n",
       " 'Spirometrie FEV 1 LL',\n",
       " 'Spirometrie FEV 1 Post',\n",
       " 'Spirometrie FEV 1 Post Z-sc',\n",
       " 'Spirometrie FEV 1 Post%Pred',\n",
       " 'Spirometrie FEV 1 Pre',\n",
       " 'Spirometrie FIV 1 % Change',\n",
       " 'Spirometrie FIV 1 % VC MAX Post',\n",
       " 'Spirometrie FIV 1 Post',\n",
       " 'Spirometrie MEF 25 Pre',\n",
       " 'Spirometrie MEF 25 Pre Z-sc',\n",
       " 'Spirometrie MEF 25 Pre%Pred',\n",
       " 'Spirometrie MEF 50 % Change',\n",
       " 'Spirometrie MEF 50 Post',\n",
       " 'Spirometrie MEF 50 Post%Pred',\n",
       " 'Spirometrie MEF 50 Pre Z-sc',\n",
       " 'Spirometrie MEF 50 Pre%Pred',\n",
       " 'Spirometrie PEF % Change',\n",
       " 'Spirometrie PEF Pre',\n",
       " 'Spirometrie VC MAX LL',\n",
       " 'Spirometrie VC MAX Post',\n",
       " 'Spirometrie VC MAX Post Z-sc',\n",
       " 'Spirometrie VC MAX Post%Pred',\n",
       " 'Spirometrie VC MAX Pre Z-sc',\n",
       " 'Spirometrie VC MAX Pre%Pred',\n",
       " 'Spirometrie VC MAX Pred',\n",
       " 'Status 3',\n",
       " 'Status 4',\n",
       " 'Stomatocyten',\n",
       " 'Subklasse IgG2',\n",
       " 'Subklasse IgG3',\n",
       " 'T-lymfocyten  absoluut',\n",
       " 'T3',\n",
       " 'T4 Vrij',\n",
       " 'TAPSE',\n",
       " 'TC/Apo B ratio',\n",
       " 'TG/Apo B ratio',\n",
       " 'TR PGmax',\n",
       " 'TSH receptor antilichamen',\n",
       " 'TV A Vel',\n",
       " 'TV PGmax',\n",
       " 'TV PGmean',\n",
       " 'TV Vmean',\n",
       " 'Tacrolimus',\n",
       " 'Telling CFU/CM',\n",
       " 'Telling CFU/ML',\n",
       " 'Thyreoglobuline',\n",
       " 'Thyreoglobuline auto antilichamen percentage',\n",
       " 'Totaal eiwit',\n",
       " 'Totaal leukocyten',\n",
       " 'Toxoplasma IgG',\n",
       " 'Transferrine',\n",
       " 'Transfusie informatie',\n",
       " 'Trimethoprim',\n",
       " 'Tryptase',\n",
       " 'Uraat per 24 uur',\n",
       " 'Ureum per 24 uur',\n",
       " 'Urobilinogeen',\n",
       " 'User parameter 13 FENO Pred',\n",
       " 'User parameters Parameter 11 Post',\n",
       " 'User parameters Parameter 11 Pre',\n",
       " 'VC Inf expir diam',\n",
       " 'Vancomycine dal',\n",
       " 'Verzamelperiode',\n",
       " 'Vitamine A',\n",
       " 'Vitamine B1',\n",
       " 'Vitamine B6',\n",
       " 'Vitamine C',\n",
       " 'Vitamine E',\n",
       " 'Vitamine-D',\n",
       " 'Vraagstelling Chimerisme',\n",
       " 'Vrije Cortisol',\n",
       " 'Witte bloedcellen',\n",
       " 'Z-score Ao Arch diam [1180000676]',\n",
       " 'Z-score Ao Ring diam  [1180000673]',\n",
       " 'Z-score Ao STJ diam [1180000675]',\n",
       " 'Z-score SOV [118747400695]',\n",
       " 'Zuurstoffractie',\n",
       " 'Zuurvaste staven',\n",
       " 'dPAP',\n",
       " 'difD',\n",
       " 'difS',\n",
       " 'eGFR-schwartz, ml/min/1.73 m2',\n",
       " 'hCG+hCGß',\n",
       " 'jonge lymfocyten',\n",
       " 'leukocyten',\n",
       " 'mPAP',\n",
       " 'para-Influenzavirus 1 Ig',\n",
       " 'para-Influenzavirus 3 Ig',\n",
       " 'plasmacytoide lymfocyten',\n",
       " 'sex',\n",
       " 'vis_feature_1',\n",
       " 'vis_feature_10',\n",
       " 'vis_feature_12',\n",
       " 'vis_feature_13',\n",
       " 'vis_feature_14',\n",
       " 'vis_feature_15',\n",
       " 'vis_feature_16',\n",
       " 'vis_feature_17',\n",
       " 'vis_feature_2',\n",
       " 'vis_feature_23',\n",
       " 'vis_feature_24',\n",
       " 'vis_feature_25',\n",
       " 'vis_feature_3',\n",
       " 'vis_feature_33',\n",
       " 'vis_feature_34',\n",
       " 'vis_feature_35',\n",
       " 'vis_feature_36',\n",
       " 'vis_feature_40',\n",
       " 'vis_feature_41',\n",
       " 'vis_feature_46',\n",
       " 'vis_feature_48',\n",
       " 'vis_feature_49',\n",
       " 'vis_feature_5',\n",
       " 'vis_feature_51',\n",
       " 'vis_feature_52',\n",
       " 'vis_feature_55',\n",
       " 'vis_feature_57',\n",
       " 'vis_feature_6',\n",
       " 'vis_feature_7',\n",
       " 'zuurstofsaturatie']"
      ]
     },
     "execution_count": 70,
     "metadata": {},
     "output_type": "execute_result"
    }
   ],
   "source": [
    "to_drop"
   ]
  },
  {
   "cell_type": "code",
   "execution_count": 64,
   "id": "mathematical-psychiatry",
   "metadata": {},
   "outputs": [],
   "source": [
    "to_drop = []\n",
    "for col in X.columns:\n",
    "    use_col = trial.params[f'use_col_{col}']\n",
    "    if not use_col:\n",
    "        to_drop.append(col)\n",
    "\n",
    "X_train_reduced = X_train.drop(columns=to_drop)"
   ]
  },
  {
   "cell_type": "code",
   "execution_count": 65,
   "id": "acknowledged-genetics",
   "metadata": {},
   "outputs": [],
   "source": [
    "from typing import Dict, Union\n",
    "from sklearn.pipeline import make_pipeline, Pipeline\n",
    "from sklearn.impute import SimpleImputer\n",
    "from sklearn.compose import ColumnTransformer\n",
    "from sklearn.preprocessing import OrdinalEncoder\n",
    "def generate_pipeline(X: pd.DataFrame, model_params: Dict[str, Union[str, bool, int, float]] = None, regression: bool = False):\n",
    "    categorical_columns = list(X.select_dtypes(include=['category']).columns)\n",
    "    numerical_columns = list(X.select_dtypes(exclude=['category']).columns)\n",
    "\n",
    "    cateogrical_preprocessor = make_pipeline(\n",
    "        SimpleImputer(strategy='constant', fill_value='missing'),\n",
    "        OrdinalEncoder(categories=[list(X[col].cat.categories) for col in categorical_columns])\n",
    "    )\n",
    "    numerical_preprocessor = SimpleImputer(strategy='mean')\n",
    "\n",
    "    imputation = ColumnTransformer([\n",
    "        ('categorical', cateogrical_preprocessor, categorical_columns),\n",
    "        ('numerical', numerical_preprocessor, numerical_columns)\n",
    "    ])\n",
    "\n",
    "    params = model_params\n",
    "    assert model_params is not None, 'Must supply model params for HyperOptConfig'\n",
    "\n",
    "    clf = Pipeline([\n",
    "        ('imputation', imputation),\n",
    "        ('estimator', LGBMRegressor(n_jobs=-1, **params) if regression else LGBMClassifier(n_jobs=-1, **params))\n",
    "    ])\n",
    "\n",
    "    return clf"
   ]
  },
  {
   "cell_type": "code",
   "execution_count": 66,
   "id": "critical-delay",
   "metadata": {},
   "outputs": [],
   "source": [
    "from lightgbm.sklearn import LGBMRegressor, LGBMClassifier\n",
    "reg = generate_pipeline(X_train_reduced, model_params, False)"
   ]
  },
  {
   "cell_type": "code",
   "execution_count": 67,
   "id": "cooperative-complex",
   "metadata": {},
   "outputs": [
    {
     "data": {
      "text/plain": [
       "Pipeline(steps=[('imputation',\n",
       "                 ColumnTransformer(transformers=[('categorical',\n",
       "                                                  Pipeline(steps=[('simpleimputer',\n",
       "                                                                   SimpleImputer(fill_value='missing',\n",
       "                                                                                 strategy='constant')),\n",
       "                                                                  ('ordinalencoder',\n",
       "                                                                   OrdinalEncoder(categories=[['ABpos',\n",
       "                                                                                               'Aneg',\n",
       "                                                                                               'Apos',\n",
       "                                                                                               'Bpos',\n",
       "                                                                                               'Oneg',\n",
       "                                                                                               'Opos',\n",
       "                                                                                               'nan',\n",
       "                                                                                               'Missing'],\n",
       "                                                                                              ['Afwezig',\n",
       "                                                                                               'nan',\n",
       "                                                                                               'Missing'],\n",
       "                                                                                              ['Afwezig',\n",
       "                                                                                               'nan',\n",
       "                                                                                               'Missing'],\n",
       "                                                                                              ['Mogelijk '\n",
       "                                                                                               'onrijpe '\n",
       "                                                                                               '...\n",
       "                 LGBMClassifier(colsample_bytree=0.9146387434228567,\n",
       "                                extra_trees=False,\n",
       "                                learning_rate=2.2682699240764637e-15,\n",
       "                                linear_tree=False, max_bin=148, max_depth=16,\n",
       "                                min_child_samples=29, n_estimators=212,\n",
       "                                num_leaves=146,\n",
       "                                path_smooth=1.030209349064192e-12,\n",
       "                                reg_alpha=1.0386223784782622e-09,\n",
       "                                reg_lambda=1.115437568477484e-05,\n",
       "                                subsample=0.9850603606481702,\n",
       "                                subsample_freq=19))])"
      ]
     },
     "execution_count": 67,
     "metadata": {},
     "output_type": "execute_result"
    }
   ],
   "source": [
    "reg.fit(X_train_reduced, y_train)"
   ]
  },
  {
   "cell_type": "code",
   "execution_count": 68,
   "id": "copyrighted-representation",
   "metadata": {},
   "outputs": [
    {
     "data": {
      "text/plain": [
       "0.9766081871345029"
      ]
     },
     "execution_count": 68,
     "metadata": {},
     "output_type": "execute_result"
    }
   ],
   "source": [
    "study.best_value"
   ]
  },
  {
   "cell_type": "code",
   "execution_count": 69,
   "id": "fifteen-depth",
   "metadata": {},
   "outputs": [
    {
     "data": {
      "text/plain": [
       "0.8294346978557505"
      ]
     },
     "execution_count": 69,
     "metadata": {},
     "output_type": "execute_result"
    }
   ],
   "source": [
    "from sklearn.metrics import roc_auc_score\n",
    "roc_auc_score(y_test, reg.predict_proba(X_reduced)[:, 1])"
   ]
  },
  {
   "cell_type": "code",
   "execution_count": 75,
   "id": "surprised-installation",
   "metadata": {},
   "outputs": [],
   "source": [
    "from sklearn.metrics import roc_curve"
   ]
  },
  {
   "cell_type": "code",
   "execution_count": 76,
   "id": "intended-maintenance",
   "metadata": {},
   "outputs": [],
   "source": [
    "fpr_grd_lm, tpr_grd_lm, _ = roc_curve(y_test >= 3,  reg.predict(X_reduced)/4)"
   ]
  },
  {
   "cell_type": "code",
   "execution_count": 77,
   "id": "chubby-pakistan",
   "metadata": {},
   "outputs": [
    {
     "data": {
      "text/plain": [
       "[<matplotlib.lines.Line2D at 0x16c9ce07888>]"
      ]
     },
     "execution_count": 77,
     "metadata": {},
     "output_type": "execute_result"
    },
    {
     "data": {
      "image/png": "[encoded data removed]",
      "text/plain": [
       "<Figure size 432x288 with 1 Axes>"
      ]
     },
     "metadata": {
      "needs_background": "light"
     },
     "output_type": "display_data"
    }
   ],
   "source": [
    "import matplotlib.pyplot as plt\n",
    "plt.plot(fpr_grd_lm, tpr_grd_lm)"
   ]
  },
  {
   "cell_type": "code",
   "execution_count": 79,
   "id": "empty-airplane",
   "metadata": {},
   "outputs": [
    {
     "data": {
      "text/plain": [
       "<AxesSubplot:>"
      ]
     },
     "execution_count": 79,
     "metadata": {},
     "output_type": "execute_result"
    },
    {
     "data": {
      "image/png": "[encoded data removed]",
      "text/plain": [
       "<Figure size 432x288 with 1 Axes>"
      ]
     },
     "metadata": {
      "needs_background": "light"
     },
     "output_type": "display_data"
    }
   ],
   "source": [
    "y_test.hist()"
   ]
  },
  {
   "cell_type": "code",
   "execution_count": 81,
   "id": "alone-garden",
   "metadata": {},
   "outputs": [
    {
     "data": {
      "text/plain": [
       "4.0    42\n",
       "0.0    25\n",
       "2.0    21\n",
       "3.0    18\n",
       "1.0    13\n",
       "Name: corads, dtype: int64"
      ]
     },
     "execution_count": 81,
     "metadata": {},
     "output_type": "execute_result"
    }
   ],
   "source": [
    "y_test.value_counts()"
   ]
  },
  {
   "cell_type": "code",
   "execution_count": 82,
   "id": "assured-infrastructure",
   "metadata": {},
   "outputs": [
    {
     "data": {
      "text/plain": [
       "<AxesSubplot:ylabel='Density'>"
      ]
     },
     "execution_count": 82,
     "metadata": {},
     "output_type": "execute_result"
    },
    {
     "data": {
      "image/png": "[encoded data removed]",
      "text/plain": [
       "<Figure size 432x288 with 1 Axes>"
      ]
     },
     "metadata": {
      "needs_background": "light"
     },
     "output_type": "display_data"
    }
   ],
   "source": [
    "import seaborn as sns\n",
    "sns.kdeplot(data=reg.predict(X_reduced)/4)"
   ]
  },
  {
   "cell_type": "code",
   "execution_count": 84,
   "id": "unknown-mount",
   "metadata": {},
   "outputs": [
    {
     "data": {
      "text/plain": [
       "LGBMRegressor(boosting_type='dart')"
      ]
     },
     "execution_count": 84,
     "metadata": {},
     "output_type": "execute_result"
    }
   ],
   "source": [
    "reg2 = LGBMRegressor(n_jobs=-1, boosting_type='dart')\n",
    "X_train_reduced_no_names = X_train_reduced.copy()\n",
    "X_train_reduced_no_names.columns = np.arange(len(X_train_reduced.columns))\n",
    "reg2.fit(X_train_reduced_no_names, y_train)"
   ]
  },
  {
   "cell_type": "code",
   "execution_count": 85,
   "id": "challenging-scholarship",
   "metadata": {},
   "outputs": [],
   "source": [
    "X_reduced_no_names = X_reduced.copy()\n",
    "X_reduced_no_names.columns = np.arange(len(X_reduced.columns))"
   ]
  },
  {
   "cell_type": "code",
   "execution_count": 87,
   "id": "protected-harmony",
   "metadata": {},
   "outputs": [
    {
     "data": {
      "text/plain": [
       "0.9415254237288135"
      ]
     },
     "execution_count": 87,
     "metadata": {},
     "output_type": "execute_result"
    }
   ],
   "source": [
    "from sklearn.metrics import roc_auc_score\n",
    "corads_roc_auc(y_test, reg2.predict(X_reduced_no_names))"
   ]
  },
  {
   "cell_type": "code",
   "execution_count": 88,
   "id": "stainless-surrey",
   "metadata": {},
   "outputs": [],
   "source": [
    "from sklearn.metrics import roc_curve"
   ]
  },
  {
   "cell_type": "code",
   "execution_count": 94,
   "id": "statistical-cookbook",
   "metadata": {},
   "outputs": [],
   "source": [
    "fpr_reg, tpr_reg, _ = roc_curve(y_test >= 3,  reg.predict(X_reduced)/4)\n",
    "fpr_reg2, tpr_reg2, _ = roc_curve(y_test >= 3,  reg2.predict(X_reduced)/4)"
   ]
  },
  {
   "cell_type": "code",
   "execution_count": 97,
   "id": "sporting-proportion",
   "metadata": {},
   "outputs": [
    {
     "data": {
      "text/plain": [
       "<matplotlib.legend.Legend at 0x16c4e0a56c8>"
      ]
     },
     "execution_count": 97,
     "metadata": {},
     "output_type": "execute_result"
    },
    {
     "data": {
      "image/png": "[encoded data removed]",
      "text/plain": [
       "<Figure size 432x288 with 1 Axes>"
      ]
     },
     "metadata": {
      "needs_background": "light"
     },
     "output_type": "display_data"
    }
   ],
   "source": [
    "import matplotlib.pyplot as plt\n",
    "plt.plot(fpr_reg, tpr_reg, label='Hyperopt')\n",
    "plt.plot(fpr_reg2, tpr_reg2, label='Default')\n",
    "plt.legend()"
   ]
  },
  {
   "cell_type": "code",
   "execution_count": 91,
   "id": "secure-collaboration",
   "metadata": {},
   "outputs": [
    {
     "data": {
      "text/plain": [
       "<AxesSubplot:ylabel='Density'>"
      ]
     },
     "execution_count": 91,
     "metadata": {},
     "output_type": "execute_result"
    },
    {
     "data": {
      "image/png": "[encoded data removed]",
      "text/plain": [
       "<Figure size 432x288 with 1 Axes>"
      ]
     },
     "metadata": {
      "needs_background": "light"
     },
     "output_type": "display_data"
    }
   ],
   "source": [
    "import seaborn as sns\n",
    "sns.kdeplot(data=reg2.predict(X_reduced)/4)"
   ]
  },
  {
   "cell_type": "code",
   "execution_count": 99,
   "id": "ambient-clear",
   "metadata": {},
   "outputs": [
    {
     "data": {
      "text/plain": [
       "1.0"
      ]
     },
     "execution_count": 99,
     "metadata": {},
     "output_type": "execute_result"
    }
   ],
   "source": [
    "roc_auc_score([1, 1, 0, 0], [0.5000001, 0.50000001, 0.49999999, 0.49999999])"
   ]
  },
  {
   "cell_type": "code",
   "execution_count": null,
   "id": "thermal-albany",
   "metadata": {},
   "outputs": [],
   "source": []
  }
 ],
 "metadata": {
  "kernelspec": {
   "display_name": "Python 3",
   "language": "python",
   "name": "python3"
  },
  "language_info": {
   "codemirror_mode": {
    "name": "ipython",
    "version": 3
   },
   "file_extension": ".py",
   "mimetype": "text/x-python",
   "name": "python",
   "nbconvert_exporter": "python",
   "pygments_lexer": "ipython3",
   "version": "3.7.9"
  }
 },
 "nbformat": 4,
 "nbformat_minor": 5
}
