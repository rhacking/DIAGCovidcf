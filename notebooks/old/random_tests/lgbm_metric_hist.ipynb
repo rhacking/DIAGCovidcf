{
 "cells": [
  {
   "cell_type": "code",
   "execution_count": 17,
   "id": "lesser-rebel",
   "metadata": {},
   "outputs": [],
   "source": [
    "from lightgbm.sklearn import LGBMClassifier\n",
    "from sklearn.datasets import load_breast_cancer\n",
    "from sklearn.model_selection import cross_validate, StratifiedKFold"
   ]
  },
  {
   "cell_type": "code",
   "execution_count": 18,
   "id": "fuzzy-harassment",
   "metadata": {},
   "outputs": [],
   "source": [
    "X, y = load_breast_cancer(return_X_y=True)"
   ]
  },
  {
   "cell_type": "code",
   "execution_count": 32,
   "id": "satisfied-impact",
   "metadata": {},
   "outputs": [],
   "source": [
    "cv = StratifiedKFold()\n",
    "train_metrics = {}\n",
    "val_metrics = {}\n",
    "for train_ind, test_ind in cv.split(X, y):\n",
    "    X_train, y_train = X[train_ind], y[train_ind]\n",
    "    X_test, y_test = X[test_ind], y[test_ind]\n",
    "    \n",
    "    clf = LGBMClassifier(n_jobs=-1)\n",
    "    clf.fit(X_train, y_train, eval_set=[(X_train, y_train), (X_test, y_test)], eval_names=['train', 'test'], verbose=-1)\n",
    "    results = clf.evals_result_\n",
    "    for k, v in results['train'].items():\n",
    "        train_metrics[k] = train_metrics[k] + [v] if k in train_metrics else [v]\n",
    "    for k, v in results['test'].items():\n",
    "        val_metrics[k] = val_metrics[k] + [v] if k in val_metrics else [v]"
   ]
  },
  {
   "cell_type": "code",
   "execution_count": 34,
   "id": "advisory-scottish",
   "metadata": {},
   "outputs": [
    {
     "data": {
      "image/png": "[encoded data removed]",
      "text/plain": [
       "<Figure size 432x288 with 1 Axes>"
      ]
     },
     "metadata": {
      "needs_background": "light"
     },
     "output_type": "display_data"
    }
   ],
   "source": [
    "import matplotlib.pyplot as plt\n",
    "import numpy as np\n",
    "for k, v in val_metrics.items():\n",
    "    plt.plot(np.mean(v, axis=0))"
   ]
  },
  {
   "cell_type": "code",
   "execution_count": 16,
   "id": "american-thanks",
   "metadata": {},
   "outputs": [],
   "source": [
    "x.evals_result_"
   ]
  },
  {
   "cell_type": "code",
   "execution_count": null,
   "id": "danish-decrease",
   "metadata": {},
   "outputs": [],
   "source": []
  }
 ],
 "metadata": {
  "kernelspec": {
   "display_name": "Python 3",
   "language": "python",
   "name": "python3"
  },
  "language_info": {
   "codemirror_mode": {
    "name": "ipython",
    "version": 3
   },
   "file_extension": ".py",
   "mimetype": "text/x-python",
   "name": "python",
   "nbconvert_exporter": "python",
   "pygments_lexer": "ipython3",
   "version": "3.7.9"
  }
 },
 "nbformat": 4,
 "nbformat_minor": 5
}
