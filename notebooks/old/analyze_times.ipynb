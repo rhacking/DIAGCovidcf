{
 "cells": [
  {
   "cell_type": "code",
   "execution_count": 54,
   "id": "provincial-japanese",
   "metadata": {},
   "outputs": [],
   "source": [
    "import pathlib\n",
    "from pathlib import Path\n",
    "from datetime import datetime"
   ]
  },
  {
   "cell_type": "code",
   "execution_count": 55,
   "id": "genuine-matrix",
   "metadata": {},
   "outputs": [],
   "source": [
    "experiments = Path('../../experiments/')"
   ]
  },
  {
   "cell_type": "code",
   "execution_count": 60,
   "id": "violent-estate",
   "metadata": {},
   "outputs": [],
   "source": [
    "times = []\n",
    "last_time = None\n",
    "for experiment in experiments.iterdir():\n",
    "    if not experiment.is_dir():\n",
    "        continue\n",
    "    for dataset in experiment.iterdir():\n",
    "        for feature_set in dataset.iterdir():\n",
    "            results = feature_set.joinpath('results')\n",
    "            if results.exists() and results.is_dir():\n",
    "#                 print(len(list(results.iterdir())))\n",
    "                if len(list(results.iterdir())) > 0:\n",
    "#                     start_time = min(datetime.fromtimestamp(file.stat().st_mtime) for file in feature_set.iterdir() if not file.is_dir() and file.name.endswith('.pkl'))\n",
    "#                     end_time = max(datetime.fromtimestamp(file.stat().st_mtime) for file in results.iterdir())\n",
    "#                     times.append(dict(experiment=experiment.name, dataset=dataset.name, feature_set=feature_set.name, \n",
    "#                         time=end_time, duration=end_time-start_time\n",
    "#                     ))\n",
    "                    if last_time is None:\n",
    "                        times.append(dict(experiment=experiment.name, dataset=dataset.name, feature_set=feature_set.name, \n",
    "                            time=max(datetime.fromtimestamp(file.stat().st_mtime) for file in results.iterdir())\n",
    "                        ))\n",
    "                    else:\n",
    "                        times.append(dict(experiment=experiment.name, dataset=dataset.name, feature_set=feature_set.name, \n",
    "                                          duration=max(datetime.fromtimestamp(file.stat().st_mtime) for file in results.iterdir())-last_time, \n",
    "                            time=max(datetime.fromtimestamp(file.stat().st_mtime) for file in results.iterdir())\n",
    "                        ))\n",
    "                    last_time = max(datetime.fromtimestamp(file.stat().st_mtime) for file in results.iterdir())"
   ]
  },
  {
   "cell_type": "code",
   "execution_count": 61,
   "id": "planned-redhead",
   "metadata": {},
   "outputs": [],
   "source": [
    "import pandas as pd\n",
    "times_df = pd.DataFrame(times)"
   ]
  },
  {
   "cell_type": "code",
   "execution_count": 62,
   "id": "black-opinion",
   "metadata": {},
   "outputs": [],
   "source": [
    "import numpy as np\n",
    "times_df['duration_min'] = times_df.duration / np.timedelta64(1, 'm')"
   ]
  },
  {
   "cell_type": "code",
   "execution_count": 65,
   "id": "accepted-hospital",
   "metadata": {},
   "outputs": [
    {
     "data": {
      "text/plain": [
       "<AxesSubplot:xlabel='experiment', ylabel='duration_min'>"
      ]
     },
     "execution_count": 65,
     "metadata": {},
     "output_type": "execute_result"
    },
    {
     "data": {
      "image/png": "[encoded data removed]",
      "text/plain": [
       "<Figure size 2304x432 with 1 Axes>"
      ]
     },
     "metadata": {
      "needs_background": "light"
     },
     "output_type": "display_data"
    }
   ],
   "source": [
    "import seaborn as sns\n",
    "import matplotlib.pyplot as plt\n",
    "plt.figure(figsize=(32, 6))\n",
    "sns.barplot(data=times_df, x='experiment', y='duration_min', hue='dataset')"
   ]
  },
  {
   "cell_type": "code",
   "execution_count": 69,
   "id": "supported-thunder",
   "metadata": {},
   "outputs": [
    {
     "data": {
      "text/plain": [
       "5.119020219444446"
      ]
     },
     "execution_count": 69,
     "metadata": {},
     "output_type": "execute_result"
    }
   ],
   "source": [
    "times_df.duration_min.sum()/60"
   ]
  },
  {
   "cell_type": "code",
   "execution_count": 17,
   "id": "funky-tragedy",
   "metadata": {},
   "outputs": [
    {
     "data": {
      "text/plain": [
       "[WindowsPath('../../experiments/between_dataset'),\n",
       " WindowsPath('../../experiments/between_dataset_hyperopt'),\n",
       " WindowsPath('../../experiments/impute_predict_missing'),\n",
       " WindowsPath('../../experiments/predict_with_impute'),\n",
       " WindowsPath('../../experiments/shap_zeroing'),\n",
       " WindowsPath('../../experiments/shap_zeroing_hyperopt'),\n",
       " WindowsPath('../../experiments/test_time_impute'),\n",
       " WindowsPath('../../experiments/within_dataset'),\n",
       " WindowsPath('../../experiments/within_dataset_hyperopt'),\n",
       " WindowsPath('../../experiments/within_dataset_missing')]"
      ]
     },
     "execution_count": 17,
     "metadata": {},
     "output_type": "execute_result"
    }
   ],
   "source": [
    "list(experiments.iterdir())"
   ]
  },
  {
   "cell_type": "code",
   "execution_count": null,
   "id": "great-raise",
   "metadata": {},
   "outputs": [],
   "source": []
  }
 ],
 "metadata": {
  "kernelspec": {
   "display_name": "Python 3",
   "language": "python",
   "name": "python3"
  },
  "language_info": {
   "codemirror_mode": {
    "name": "ipython",
    "version": 3
   },
   "file_extension": ".py",
   "mimetype": "text/x-python",
   "name": "python",
   "nbconvert_exporter": "python",
   "pygments_lexer": "ipython3",
   "version": "3.7.9"
  }
 },
 "nbformat": 4,
 "nbformat_minor": 5
}
