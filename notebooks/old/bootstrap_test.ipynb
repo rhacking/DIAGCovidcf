{
 "cells": [
  {
   "cell_type": "code",
   "execution_count": 186,
   "id": "bronze-persian",
   "metadata": {},
   "outputs": [],
   "source": [
    "import pandas as pd"
   ]
  },
  {
   "cell_type": "code",
   "execution_count": 187,
   "id": "large-paraguay",
   "metadata": {},
   "outputs": [],
   "source": [
    "dfs = []\n",
    "letters = 'abcdef'\n",
    "for letter in letters:\n",
    "    df = pd.read_pickle(f'../data/results/rumc_hyperopt_test_pcr_{letter}.pkl')\n",
    "    preds = df[df.metric == 'predictions'].value.values[0]\n",
    "    data = {'model': [letter]}\n",
    "    data.update({f'pred_{i}': [pred] for i, pred in enumerate(preds)})\n",
    "    df2 = pd.DataFrame(data)\n",
    "    dfs.append(df2)"
   ]
  },
  {
   "cell_type": "code",
   "execution_count": 188,
   "id": "lightweight-paragraph",
   "metadata": {},
   "outputs": [
    {
     "data": {
      "text/html": [
       "<div>\n",
       "<style scoped>\n",
       "    .dataframe tbody tr th:only-of-type {\n",
       "        vertical-align: middle;\n",
       "    }\n",
       "\n",
       "    .dataframe tbody tr th {\n",
       "        vertical-align: top;\n",
       "    }\n",
       "\n",
       "    .dataframe thead th {\n",
       "        text-align: right;\n",
       "    }\n",
       "</style>\n",
       "<table border=\"1\" class=\"dataframe\">\n",
       "  <thead>\n",
       "    <tr style=\"text-align: right;\">\n",
       "      <th></th>\n",
       "      <th>model</th>\n",
       "      <th>pred_0</th>\n",
       "      <th>pred_1</th>\n",
       "      <th>pred_2</th>\n",
       "      <th>pred_3</th>\n",
       "      <th>pred_4</th>\n",
       "      <th>pred_5</th>\n",
       "      <th>pred_6</th>\n",
       "      <th>pred_7</th>\n",
       "      <th>pred_8</th>\n",
       "      <th>...</th>\n",
       "      <th>pred_60</th>\n",
       "      <th>pred_61</th>\n",
       "      <th>pred_62</th>\n",
       "      <th>pred_63</th>\n",
       "      <th>pred_64</th>\n",
       "      <th>pred_65</th>\n",
       "      <th>pred_66</th>\n",
       "      <th>pred_67</th>\n",
       "      <th>pred_68</th>\n",
       "      <th>index</th>\n",
       "    </tr>\n",
       "  </thead>\n",
       "  <tbody>\n",
       "    <tr>\n",
       "      <th>0</th>\n",
       "      <td>a</td>\n",
       "      <td>(0.4390092743041437, Negatief)</td>\n",
       "      <td>(0.43900927429918124, Negatief)</td>\n",
       "      <td>(0.4390092742991569, Negatief)</td>\n",
       "      <td>(0.43900927429947917, Negatief)</td>\n",
       "      <td>(0.43900927429984543, Negatief)</td>\n",
       "      <td>(0.4390092743000412, Negatief)</td>\n",
       "      <td>(0.43900927429902387, Negatief)</td>\n",
       "      <td>(0.4390092743023101, Negatief)</td>\n",
       "      <td>(0.4390092743005776, Negatief)</td>\n",
       "      <td>...</td>\n",
       "      <td>(0.43900927430832876, Positief)</td>\n",
       "      <td>(0.4390092743039547, Positief)</td>\n",
       "      <td>(0.4390092743022703, Negatief)</td>\n",
       "      <td>(0.4390092743015803, Negatief)</td>\n",
       "      <td>(0.4390092743009769, Negatief)</td>\n",
       "      <td>(0.43900927429997577, Negatief)</td>\n",
       "      <td>(0.4390092743030585, Negatief)</td>\n",
       "      <td>(0.4390092743025047, Negatief)</td>\n",
       "      <td>(0.4390092743019605, Negatief)</td>\n",
       "      <td>0</td>\n",
       "    </tr>\n",
       "    <tr>\n",
       "      <th>1</th>\n",
       "      <td>b</td>\n",
       "      <td>(0.2522255212672347, Negatief)</td>\n",
       "      <td>(0.25222551505315804, Negatief)</td>\n",
       "      <td>(0.25222551524711445, Negatief)</td>\n",
       "      <td>(0.25222551536718063, Negatief)</td>\n",
       "      <td>(0.25222551579972263, Negatief)</td>\n",
       "      <td>(0.2522255160863779, Negatief)</td>\n",
       "      <td>(0.25222551495561596, Negatief)</td>\n",
       "      <td>(0.2522255184162083, Negatief)</td>\n",
       "      <td>(0.2522255164543879, Negatief)</td>\n",
       "      <td>...</td>\n",
       "      <td>(0.2522255270653635, Positief)</td>\n",
       "      <td>(0.25222552110595764, Positief)</td>\n",
       "      <td>(0.2522255192561869, Negatief)</td>\n",
       "      <td>(0.25222551884436034, Negatief)</td>\n",
       "      <td>(0.25222551747474725, Negatief)</td>\n",
       "      <td>(0.25222551559514916, Negatief)</td>\n",
       "      <td>(0.2522255196453758, Negatief)</td>\n",
       "      <td>(0.2522255191301834, Negatief)</td>\n",
       "      <td>(0.25222551763756274, Negatief)</td>\n",
       "      <td>1</td>\n",
       "    </tr>\n",
       "    <tr>\n",
       "      <th>2</th>\n",
       "      <td>c</td>\n",
       "      <td>(0.25222551931313425, Negatief)</td>\n",
       "      <td>(0.25222551929049847, Negatief)</td>\n",
       "      <td>(0.25222551929069803, Negatief)</td>\n",
       "      <td>(0.25222551929060394, Negatief)</td>\n",
       "      <td>(0.25222551929235104, Negatief)</td>\n",
       "      <td>(0.2522255192906798, Negatief)</td>\n",
       "      <td>(0.25222551929050674, Negatief)</td>\n",
       "      <td>(0.252225519296618, Negatief)</td>\n",
       "      <td>(0.2522255192951986, Negatief)</td>\n",
       "      <td>...</td>\n",
       "      <td>(0.25222551934835685, Positief)</td>\n",
       "      <td>(0.2522255193085967, Positief)</td>\n",
       "      <td>(0.2522255193066435, Negatief)</td>\n",
       "      <td>(0.2522255193024546, Negatief)</td>\n",
       "      <td>(0.2522255192987391, Negatief)</td>\n",
       "      <td>(0.25222551929517795, Negatief)</td>\n",
       "      <td>(0.2522255193050254, Negatief)</td>\n",
       "      <td>(0.2522255193050254, Negatief)</td>\n",
       "      <td>(0.2522255192969472, Negatief)</td>\n",
       "      <td>2</td>\n",
       "    </tr>\n",
       "    <tr>\n",
       "      <th>3</th>\n",
       "      <td>d</td>\n",
       "      <td>(0.019308041987647857, Negatief)</td>\n",
       "      <td>(0.008710470966995395, Negatief)</td>\n",
       "      <td>(0.0012176571322235477, Negatief)</td>\n",
       "      <td>(0.001802884672878923, Negatief)</td>\n",
       "      <td>(0.004563770415990826, Negatief)</td>\n",
       "      <td>(0.004179699100216045, Negatief)</td>\n",
       "      <td>(0.00024833377031666977, Negatief)</td>\n",
       "      <td>(0.05181157186645845, Negatief)</td>\n",
       "      <td>(0.00798739721781715, Negatief)</td>\n",
       "      <td>...</td>\n",
       "      <td>(0.6959010334062136, Positief)</td>\n",
       "      <td>(0.5984302938780192, Positief)</td>\n",
       "      <td>(0.05305507148263643, Negatief)</td>\n",
       "      <td>(0.008841920564440697, Negatief)</td>\n",
       "      <td>(0.002731062274190959, Negatief)</td>\n",
       "      <td>(0.0053268966713931635, Negatief)</td>\n",
       "      <td>(0.2737124762423135, Negatief)</td>\n",
       "      <td>(0.028486863965690563, Negatief)</td>\n",
       "      <td>(0.19855675286659058, Negatief)</td>\n",
       "      <td>3</td>\n",
       "    </tr>\n",
       "    <tr>\n",
       "      <th>4</th>\n",
       "      <td>e</td>\n",
       "      <td>(0.2522258654201827, Negatief)</td>\n",
       "      <td>(0.25222517922114185, Negatief)</td>\n",
       "      <td>(0.25222523532061136, Negatief)</td>\n",
       "      <td>(0.2522253278918645, Negatief)</td>\n",
       "      <td>(0.2522252903913128, Negatief)</td>\n",
       "      <td>(0.25222523053484047, Negatief)</td>\n",
       "      <td>(0.25222505264059886, Negatief)</td>\n",
       "      <td>(0.2522254183032892, Negatief)</td>\n",
       "      <td>(0.25222547627968667, Negatief)</td>\n",
       "      <td>...</td>\n",
       "      <td>(0.252226137745747, Positief)</td>\n",
       "      <td>(0.25222609005282337, Positief)</td>\n",
       "      <td>(0.25222577861492357, Negatief)</td>\n",
       "      <td>(0.25222565228575466, Negatief)</td>\n",
       "      <td>(0.2522255669549704, Negatief)</td>\n",
       "      <td>(0.2522252881518681, Negatief)</td>\n",
       "      <td>(0.25222588004664365, Negatief)</td>\n",
       "      <td>(0.2522258301931942, Negatief)</td>\n",
       "      <td>(0.2522254042179251, Negatief)</td>\n",
       "      <td>4</td>\n",
       "    </tr>\n",
       "    <tr>\n",
       "      <th>5</th>\n",
       "      <td>f</td>\n",
       "      <td>(0.4472796440137008, Negatief)</td>\n",
       "      <td>(0.04291066640407122, Negatief)</td>\n",
       "      <td>(0.05447158273454933, Negatief)</td>\n",
       "      <td>(0.024153554291736754, Negatief)</td>\n",
       "      <td>(0.04782174504216999, Negatief)</td>\n",
       "      <td>(0.014634966377815096, Negatief)</td>\n",
       "      <td>(0.008123873243018427, Negatief)</td>\n",
       "      <td>(0.3465297466010643, Negatief)</td>\n",
       "      <td>(0.06392363603708687, Negatief)</td>\n",
       "      <td>...</td>\n",
       "      <td>(0.5315506432936216, Positief)</td>\n",
       "      <td>(0.8535002830935421, Positief)</td>\n",
       "      <td>(0.27808287634757445, Negatief)</td>\n",
       "      <td>(0.026884408507823844, Negatief)</td>\n",
       "      <td>(0.013197399305632755, Negatief)</td>\n",
       "      <td>(0.14212711773013573, Negatief)</td>\n",
       "      <td>(0.5307233776097754, Negatief)</td>\n",
       "      <td>(0.17272450492812783, Negatief)</td>\n",
       "      <td>(0.390798553882586, Negatief)</td>\n",
       "      <td>5</td>\n",
       "    </tr>\n",
       "  </tbody>\n",
       "</table>\n",
       "<p>6 rows × 71 columns</p>\n",
       "</div>"
      ],
      "text/plain": [
       "  model                            pred_0                            pred_1  \\\n",
       "0     a    (0.4390092743041437, Negatief)   (0.43900927429918124, Negatief)   \n",
       "1     b    (0.2522255212672347, Negatief)   (0.25222551505315804, Negatief)   \n",
       "2     c   (0.25222551931313425, Negatief)   (0.25222551929049847, Negatief)   \n",
       "3     d  (0.019308041987647857, Negatief)  (0.008710470966995395, Negatief)   \n",
       "4     e    (0.2522258654201827, Negatief)   (0.25222517922114185, Negatief)   \n",
       "5     f    (0.4472796440137008, Negatief)   (0.04291066640407122, Negatief)   \n",
       "\n",
       "                              pred_2                            pred_3  \\\n",
       "0     (0.4390092742991569, Negatief)   (0.43900927429947917, Negatief)   \n",
       "1    (0.25222551524711445, Negatief)   (0.25222551536718063, Negatief)   \n",
       "2    (0.25222551929069803, Negatief)   (0.25222551929060394, Negatief)   \n",
       "3  (0.0012176571322235477, Negatief)  (0.001802884672878923, Negatief)   \n",
       "4    (0.25222523532061136, Negatief)    (0.2522253278918645, Negatief)   \n",
       "5    (0.05447158273454933, Negatief)  (0.024153554291736754, Negatief)   \n",
       "\n",
       "                             pred_4                            pred_5  \\\n",
       "0   (0.43900927429984543, Negatief)    (0.4390092743000412, Negatief)   \n",
       "1   (0.25222551579972263, Negatief)    (0.2522255160863779, Negatief)   \n",
       "2   (0.25222551929235104, Negatief)    (0.2522255192906798, Negatief)   \n",
       "3  (0.004563770415990826, Negatief)  (0.004179699100216045, Negatief)   \n",
       "4    (0.2522252903913128, Negatief)   (0.25222523053484047, Negatief)   \n",
       "5   (0.04782174504216999, Negatief)  (0.014634966377815096, Negatief)   \n",
       "\n",
       "                               pred_6                           pred_7  \\\n",
       "0     (0.43900927429902387, Negatief)   (0.4390092743023101, Negatief)   \n",
       "1     (0.25222551495561596, Negatief)   (0.2522255184162083, Negatief)   \n",
       "2     (0.25222551929050674, Negatief)    (0.252225519296618, Negatief)   \n",
       "3  (0.00024833377031666977, Negatief)  (0.05181157186645845, Negatief)   \n",
       "4     (0.25222505264059886, Negatief)   (0.2522254183032892, Negatief)   \n",
       "5    (0.008123873243018427, Negatief)   (0.3465297466010643, Negatief)   \n",
       "\n",
       "                            pred_8  ...                          pred_60  \\\n",
       "0   (0.4390092743005776, Negatief)  ...  (0.43900927430832876, Positief)   \n",
       "1   (0.2522255164543879, Negatief)  ...   (0.2522255270653635, Positief)   \n",
       "2   (0.2522255192951986, Negatief)  ...  (0.25222551934835685, Positief)   \n",
       "3  (0.00798739721781715, Negatief)  ...   (0.6959010334062136, Positief)   \n",
       "4  (0.25222547627968667, Negatief)  ...    (0.252226137745747, Positief)   \n",
       "5  (0.06392363603708687, Negatief)  ...   (0.5315506432936216, Positief)   \n",
       "\n",
       "                           pred_61                          pred_62  \\\n",
       "0   (0.4390092743039547, Positief)   (0.4390092743022703, Negatief)   \n",
       "1  (0.25222552110595764, Positief)   (0.2522255192561869, Negatief)   \n",
       "2   (0.2522255193085967, Positief)   (0.2522255193066435, Negatief)   \n",
       "3   (0.5984302938780192, Positief)  (0.05305507148263643, Negatief)   \n",
       "4  (0.25222609005282337, Positief)  (0.25222577861492357, Negatief)   \n",
       "5   (0.8535002830935421, Positief)  (0.27808287634757445, Negatief)   \n",
       "\n",
       "                            pred_63                           pred_64  \\\n",
       "0    (0.4390092743015803, Negatief)    (0.4390092743009769, Negatief)   \n",
       "1   (0.25222551884436034, Negatief)   (0.25222551747474725, Negatief)   \n",
       "2    (0.2522255193024546, Negatief)    (0.2522255192987391, Negatief)   \n",
       "3  (0.008841920564440697, Negatief)  (0.002731062274190959, Negatief)   \n",
       "4   (0.25222565228575466, Negatief)    (0.2522255669549704, Negatief)   \n",
       "5  (0.026884408507823844, Negatief)  (0.013197399305632755, Negatief)   \n",
       "\n",
       "                             pred_65                          pred_66  \\\n",
       "0    (0.43900927429997577, Negatief)   (0.4390092743030585, Negatief)   \n",
       "1    (0.25222551559514916, Negatief)   (0.2522255196453758, Negatief)   \n",
       "2    (0.25222551929517795, Negatief)   (0.2522255193050254, Negatief)   \n",
       "3  (0.0053268966713931635, Negatief)   (0.2737124762423135, Negatief)   \n",
       "4     (0.2522252881518681, Negatief)  (0.25222588004664365, Negatief)   \n",
       "5    (0.14212711773013573, Negatief)   (0.5307233776097754, Negatief)   \n",
       "\n",
       "                            pred_67                          pred_68 index  \n",
       "0    (0.4390092743025047, Negatief)   (0.4390092743019605, Negatief)     0  \n",
       "1    (0.2522255191301834, Negatief)  (0.25222551763756274, Negatief)     1  \n",
       "2    (0.2522255193050254, Negatief)   (0.2522255192969472, Negatief)     2  \n",
       "3  (0.028486863965690563, Negatief)  (0.19855675286659058, Negatief)     3  \n",
       "4    (0.2522258301931942, Negatief)   (0.2522254042179251, Negatief)     4  \n",
       "5   (0.17272450492812783, Negatief)    (0.390798553882586, Negatief)     5  \n",
       "\n",
       "[6 rows x 71 columns]"
      ]
     },
     "execution_count": 188,
     "metadata": {},
     "output_type": "execute_result"
    }
   ],
   "source": [
    "df = pd.concat(dfs).reset_index(drop=True)\n",
    "df['index'] = df.index\n",
    "df"
   ]
  },
  {
   "cell_type": "code",
   "execution_count": 189,
   "id": "neither-bahrain",
   "metadata": {},
   "outputs": [],
   "source": [
    "df['use_visual'] = [False, False, True, True, False, True]\n",
    "df['features'] = ['all', 'hyperopt', 'all', 'hyperopt', 'erdi', 'erdi']"
   ]
  },
  {
   "cell_type": "code",
   "execution_count": 190,
   "id": "olive-processor",
   "metadata": {},
   "outputs": [],
   "source": [
    "df = pd.wide_to_long(df, ['pred'], sep='_', i='index', j='sample')"
   ]
  },
  {
   "cell_type": "code",
   "execution_count": 191,
   "id": "exclusive-monitor",
   "metadata": {},
   "outputs": [],
   "source": [
    "df['preds_complex'] = df.pred.apply(lambda x: x[0] + (x[1] == 'Positief')*1j)"
   ]
  },
  {
   "cell_type": "code",
   "execution_count": 192,
   "id": "elect-flood",
   "metadata": {},
   "outputs": [
    {
     "data": {
      "text/html": [
       "<div>\n",
       "<style scoped>\n",
       "    .dataframe tbody tr th:only-of-type {\n",
       "        vertical-align: middle;\n",
       "    }\n",
       "\n",
       "    .dataframe tbody tr th {\n",
       "        vertical-align: top;\n",
       "    }\n",
       "\n",
       "    .dataframe thead th {\n",
       "        text-align: right;\n",
       "    }\n",
       "</style>\n",
       "<table border=\"1\" class=\"dataframe\">\n",
       "  <thead>\n",
       "    <tr style=\"text-align: right;\">\n",
       "      <th></th>\n",
       "      <th></th>\n",
       "      <th>features</th>\n",
       "      <th>model</th>\n",
       "      <th>use_visual</th>\n",
       "      <th>pred</th>\n",
       "      <th>preds_complex</th>\n",
       "    </tr>\n",
       "    <tr>\n",
       "      <th>index</th>\n",
       "      <th>sample</th>\n",
       "      <th></th>\n",
       "      <th></th>\n",
       "      <th></th>\n",
       "      <th></th>\n",
       "      <th></th>\n",
       "    </tr>\n",
       "  </thead>\n",
       "  <tbody>\n",
       "    <tr>\n",
       "      <th>0</th>\n",
       "      <th>0</th>\n",
       "      <td>all</td>\n",
       "      <td>a</td>\n",
       "      <td>False</td>\n",
       "      <td>(0.4390092743041437, Negatief)</td>\n",
       "      <td>0.439009+0.000000j</td>\n",
       "    </tr>\n",
       "    <tr>\n",
       "      <th>1</th>\n",
       "      <th>0</th>\n",
       "      <td>hyperopt</td>\n",
       "      <td>b</td>\n",
       "      <td>False</td>\n",
       "      <td>(0.2522255212672347, Negatief)</td>\n",
       "      <td>0.252226+0.000000j</td>\n",
       "    </tr>\n",
       "    <tr>\n",
       "      <th>2</th>\n",
       "      <th>0</th>\n",
       "      <td>all</td>\n",
       "      <td>c</td>\n",
       "      <td>True</td>\n",
       "      <td>(0.25222551931313425, Negatief)</td>\n",
       "      <td>0.252226+0.000000j</td>\n",
       "    </tr>\n",
       "    <tr>\n",
       "      <th>3</th>\n",
       "      <th>0</th>\n",
       "      <td>hyperopt</td>\n",
       "      <td>d</td>\n",
       "      <td>True</td>\n",
       "      <td>(0.019308041987647857, Negatief)</td>\n",
       "      <td>0.019308+0.000000j</td>\n",
       "    </tr>\n",
       "    <tr>\n",
       "      <th>4</th>\n",
       "      <th>0</th>\n",
       "      <td>erdi</td>\n",
       "      <td>e</td>\n",
       "      <td>False</td>\n",
       "      <td>(0.2522258654201827, Negatief)</td>\n",
       "      <td>0.252226+0.000000j</td>\n",
       "    </tr>\n",
       "    <tr>\n",
       "      <th>...</th>\n",
       "      <th>...</th>\n",
       "      <td>...</td>\n",
       "      <td>...</td>\n",
       "      <td>...</td>\n",
       "      <td>...</td>\n",
       "      <td>...</td>\n",
       "    </tr>\n",
       "    <tr>\n",
       "      <th>1</th>\n",
       "      <th>68</th>\n",
       "      <td>hyperopt</td>\n",
       "      <td>b</td>\n",
       "      <td>False</td>\n",
       "      <td>(0.25222551763756274, Negatief)</td>\n",
       "      <td>0.252226+0.000000j</td>\n",
       "    </tr>\n",
       "    <tr>\n",
       "      <th>2</th>\n",
       "      <th>68</th>\n",
       "      <td>all</td>\n",
       "      <td>c</td>\n",
       "      <td>True</td>\n",
       "      <td>(0.2522255192969472, Negatief)</td>\n",
       "      <td>0.252226+0.000000j</td>\n",
       "    </tr>\n",
       "    <tr>\n",
       "      <th>3</th>\n",
       "      <th>68</th>\n",
       "      <td>hyperopt</td>\n",
       "      <td>d</td>\n",
       "      <td>True</td>\n",
       "      <td>(0.19855675286659058, Negatief)</td>\n",
       "      <td>0.198557+0.000000j</td>\n",
       "    </tr>\n",
       "    <tr>\n",
       "      <th>4</th>\n",
       "      <th>68</th>\n",
       "      <td>erdi</td>\n",
       "      <td>e</td>\n",
       "      <td>False</td>\n",
       "      <td>(0.2522254042179251, Negatief)</td>\n",
       "      <td>0.252225+0.000000j</td>\n",
       "    </tr>\n",
       "    <tr>\n",
       "      <th>5</th>\n",
       "      <th>68</th>\n",
       "      <td>erdi</td>\n",
       "      <td>f</td>\n",
       "      <td>True</td>\n",
       "      <td>(0.390798553882586, Negatief)</td>\n",
       "      <td>0.390799+0.000000j</td>\n",
       "    </tr>\n",
       "  </tbody>\n",
       "</table>\n",
       "<p>414 rows × 5 columns</p>\n",
       "</div>"
      ],
      "text/plain": [
       "              features model  use_visual                              pred  \\\n",
       "index sample                                                                 \n",
       "0     0            all     a       False    (0.4390092743041437, Negatief)   \n",
       "1     0       hyperopt     b       False    (0.2522255212672347, Negatief)   \n",
       "2     0            all     c        True   (0.25222551931313425, Negatief)   \n",
       "3     0       hyperopt     d        True  (0.019308041987647857, Negatief)   \n",
       "4     0           erdi     e       False    (0.2522258654201827, Negatief)   \n",
       "...                ...   ...         ...                               ...   \n",
       "1     68      hyperopt     b       False   (0.25222551763756274, Negatief)   \n",
       "2     68           all     c        True    (0.2522255192969472, Negatief)   \n",
       "3     68      hyperopt     d        True   (0.19855675286659058, Negatief)   \n",
       "4     68          erdi     e       False    (0.2522254042179251, Negatief)   \n",
       "5     68          erdi     f        True     (0.390798553882586, Negatief)   \n",
       "\n",
       "                   preds_complex  \n",
       "index sample                      \n",
       "0     0       0.439009+0.000000j  \n",
       "1     0       0.252226+0.000000j  \n",
       "2     0       0.252226+0.000000j  \n",
       "3     0       0.019308+0.000000j  \n",
       "4     0       0.252226+0.000000j  \n",
       "...                          ...  \n",
       "1     68      0.252226+0.000000j  \n",
       "2     68      0.252226+0.000000j  \n",
       "3     68      0.198557+0.000000j  \n",
       "4     68      0.252225+0.000000j  \n",
       "5     68      0.390799+0.000000j  \n",
       "\n",
       "[414 rows x 5 columns]"
      ]
     },
     "execution_count": 192,
     "metadata": {},
     "output_type": "execute_result"
    }
   ],
   "source": [
    "df"
   ]
  },
  {
   "cell_type": "code",
   "execution_count": 193,
   "id": "scheduled-knock",
   "metadata": {},
   "outputs": [
    {
     "data": {
      "image/png": "[encoded data removed]",
      "text/plain": [
       "<Figure size 360x432 with 1 Axes>"
      ]
     },
     "metadata": {},
     "output_type": "display_data"
    }
   ],
   "source": [
    "import seaborn as sns\n",
    "from sklearn.metrics import roc_auc_score\n",
    "import numpy as np\n",
    "import matplotlib.pyplot as plt\n",
    "import matplotlib.ticker as ticker\n",
    "def test(x):\n",
    "    preds = np.array(x).real\n",
    "    true = np.array(x).imag\n",
    "    try:\n",
    "        return roc_auc_score(true, preds)\n",
    "    except ValueError:\n",
    "        return 0.0\n",
    "\n",
    "sns.set()\n",
    "plt.figure(figsize=(5, 6))\n",
    "ax = sns.barplot(data=df, x='features', y='preds_complex', hue='use_visual', n_boot=10000, estimator=test)\n",
    "ax.yaxis.set_major_locator(ticker.MultipleLocator(0.1));"
   ]
  },
  {
   "cell_type": "code",
   "execution_count": 70,
   "id": "touched-beijing",
   "metadata": {},
   "outputs": [],
   "source": [
    "from bayesian_bootstrap.bootstrap import bayesian_bootstrap"
   ]
  },
  {
   "cell_type": "code",
   "execution_count": 81,
   "id": "tutorial-compensation",
   "metadata": {},
   "outputs": [],
   "source": [
    "def bootstrap(X, statistic, n_replications, n_resample):\n",
    "    return [statistic(np.random.choice(X, size=n_resample)) for i in range(n_replications)]"
   ]
  },
  {
   "cell_type": "code",
   "execution_count": 126,
   "id": "hidden-welding",
   "metadata": {},
   "outputs": [
    {
     "data": {
      "text/plain": [
       "<AxesSubplot:ylabel='Count'>"
      ]
     },
     "execution_count": 126,
     "metadata": {},
     "output_type": "execute_result"
    },
    {
     "data": {
      "image/png": "[encoded data removed]",
      "text/plain": [
       "<Figure size 432x288 with 1 Axes>"
      ]
     },
     "metadata": {},
     "output_type": "display_data"
    }
   ],
   "source": [
    "def roc_auc(x):\n",
    "    pred, true = zip(*x)\n",
    "#     error()\n",
    "    try:\n",
    "        return roc_auc_score(np.array(true) == 'Positief', pred)\n",
    "    except:\n",
    "        return 0.0\n",
    "\n",
    "sns.histplot(bayesian_bootstrap(df[df.model == 'a'].pred.values, roc_auc, 100, len(df)//6), kde=True)"
   ]
  },
  {
   "cell_type": "code",
   "execution_count": 127,
   "id": "signal-complaint",
   "metadata": {},
   "outputs": [
    {
     "data": {
      "text/plain": [
       "<AxesSubplot:ylabel='Count'>"
      ]
     },
     "execution_count": 127,
     "metadata": {},
     "output_type": "execute_result"
    },
    {
     "data": {
      "image/png": "[encoded data removed]",
      "text/plain": [
       "<Figure size 432x288 with 1 Axes>"
      ]
     },
     "metadata": {},
     "output_type": "display_data"
    }
   ],
   "source": [
    "sns.histplot(bootstrap(df[df.model == 'a'].pred.values, roc_auc, 100, len(df)//6), kde=True)"
   ]
  },
  {
   "cell_type": "code",
   "execution_count": 144,
   "id": "broadband-fruit",
   "metadata": {},
   "outputs": [],
   "source": [
    "study = joblib.load('../data/results/models/optuna/rumc_hyperopt_test_pcr_d_0.pkl')"
   ]
  },
  {
   "cell_type": "code",
   "execution_count": 147,
   "id": "polyphonic-electricity",
   "metadata": {},
   "outputs": [
    {
     "data": {
      "text/plain": [
       "['use_col_A/E',\n",
       " 'use_col_AB0/Rh.D bloedgroep',\n",
       " 'use_col_AF',\n",
       " 'use_col_ASAT',\n",
       " 'use_col_AV PGmax',\n",
       " 'use_col_Afwijkende lymfocyten suspect reactief',\n",
       " 'use_col_Albumine',\n",
       " 'use_col_Amylase',\n",
       " 'use_col_Aniongap',\n",
       " 'use_col_Ao SV diam',\n",
       " 'use_col_Ao SV diam I',\n",
       " 'use_col_Bezinking',\n",
       " 'use_col_Bilirubine',\n",
       " 'use_col_Bilirubine totaal',\n",
       " 'use_col_Bloedgroep',\n",
       " 'use_col_Bloedgroep 2',\n",
       " 'use_col_CK',\n",
       " 'use_col_CKD-EPI-GFR',\n",
       " 'use_col_Calcium',\n",
       " 'use_col_Cholesterol',\n",
       " 'use_col_Dec Slope',\n",
       " 'use_col_Diffusion SB DLCO Single Breath LL',\n",
       " 'use_col_Diffusion SB DLCO Single Breath Pre',\n",
       " 'use_col_Diffusion SB DLCO Single Breath Pre Z-sc',\n",
       " 'use_col_Diffusion SB DLCO Single Breath Pred',\n",
       " 'use_col_Diffusion SB DLCO_SB / VA LL',\n",
       " 'use_col_Diffusion SB DLCO_SB / VA Pre Z-sc',\n",
       " 'use_col_Diffusion SB DLCO_SB / VA Pre%Pred',\n",
       " 'use_col_Diffusion SB DLCO_SB / VA Pred',\n",
       " 'use_col_Diffusion SB VA SINGLE BREATH Pre',\n",
       " 'use_col_Diffusion SB VIN SINGLE BREATH LL',\n",
       " 'use_col_Diffusion SB VIN SINGLE BREATH Pre',\n",
       " \"use_col_E'\",\n",
       " 'use_col_E/A',\n",
       " \"use_col_E/E' mean\",\n",
       " 'use_col_EDV',\n",
       " 'use_col_EF',\n",
       " 'use_col_ESV',\n",
       " 'use_col_ESVI',\n",
       " 'use_col_Eosinofiele granulocyten',\n",
       " 'use_col_Erythrocyten',\n",
       " 'use_col_Expiratie datum 2',\n",
       " 'use_col_FS',\n",
       " 'use_col_Geïoniseerd calcium',\n",
       " 'use_col_Gram negatieve staven',\n",
       " 'use_col_Gram positieve staven',\n",
       " 'use_col_HDL-cholesterol',\n",
       " 'use_col_Haptoglobine',\n",
       " 'use_col_IJzerbindingscapaciteit',\n",
       " 'use_col_IJzerverzadigingsfractie',\n",
       " 'use_col_IVSd',\n",
       " 'use_col_Influenza A sneltest PCR',\n",
       " 'use_col_Influenza B sneltest PCR',\n",
       " 'use_col_Irregulaire antistofscreening',\n",
       " 'use_col_Koolmonoxide',\n",
       " 'use_col_Kreatinine',\n",
       " 'use_col_LA Vol',\n",
       " 'use_col_LDL cholesterol',\n",
       " 'use_col_LV MASSd PennCubeTH',\n",
       " 'use_col_LV Mass-l-c',\n",
       " 'use_col_LVIDd',\n",
       " 'use_col_LVIDs',\n",
       " 'use_col_LVOT PGmax',\n",
       " 'use_col_LVOT Pgmax',\n",
       " 'use_col_LVOT VTI',\n",
       " 'use_col_LVOT diam',\n",
       " 'use_col_Lactaat',\n",
       " 'use_col_Leucocyten',\n",
       " 'use_col_Lipase',\n",
       " 'use_col_MCHC',\n",
       " 'use_col_MV Dec. Time',\n",
       " 'use_col_Macro trombocyten',\n",
       " 'use_col_Metamyelocyten',\n",
       " 'use_col_Methemoglobine',\n",
       " 'use_col_Monocyten',\n",
       " 'use_col_Monocyten md',\n",
       " 'use_col_Myelocyten',\n",
       " 'use_col_Natrium per liter',\n",
       " 'use_col_Neutrofiel segm.granulocyten',\n",
       " 'use_col_Neutrofiel staafk.granulocyten',\n",
       " 'use_col_Neutrofiele segmentkernige granulocyten md',\n",
       " 'use_col_O2 saturatie',\n",
       " 'use_col_Osmolaliteit',\n",
       " 'use_col_P3NP',\n",
       " 'use_col_PCO2',\n",
       " 'use_col_PO2',\n",
       " 'use_col_PV PGmax',\n",
       " 'use_col_PV Pgmax',\n",
       " 'use_col_PV Pulmonary Vmax',\n",
       " 'use_col_Parameter input 1 Parameter 8  Pre',\n",
       " 'use_col_Plaveiselepitheel',\n",
       " 'use_col_RV Acc Time',\n",
       " \"use_col_RV S'\",\n",
       " 'use_col_RVET',\n",
       " 'use_col_RWT',\n",
       " 'use_col_Red Cell Distribution Width',\n",
       " 'use_col_Ret-He',\n",
       " 'use_col_Reticulocyten',\n",
       " 'use_col_SI',\n",
       " 'use_col_SV',\n",
       " 'use_col_Spirometrie FEV 1 % VC MAX LL',\n",
       " 'use_col_Spirometrie FEV 1 % VC MAX Pre Z-sc',\n",
       " 'use_col_Spirometrie FEV 1 % VC MAX Pre%Pred',\n",
       " 'use_col_Spirometrie FEV 1 % VC MAX Pred',\n",
       " 'use_col_Spirometrie FEV 1 Pre',\n",
       " 'use_col_Spirometrie FEV 1 Pre%Pred',\n",
       " 'use_col_Spirometrie FEV 1 Pred',\n",
       " 'use_col_Spirometrie FIV 1 Pre',\n",
       " 'use_col_Spirometrie MEF 25 Pred',\n",
       " 'use_col_Spirometrie MEF 50 LL',\n",
       " 'use_col_Spirometrie MEF 50 Pred',\n",
       " 'use_col_Spirometrie VC MAX LL',\n",
       " 'use_col_Spirometrie VC MAX Pre',\n",
       " 'use_col_Spirometrie VC MAX Pre Z-sc',\n",
       " 'use_col_Spirometrie VC MAX Pre%Pred',\n",
       " 'use_col_Spirometrie VC MAX Pred',\n",
       " 'use_col_T4 Vrij',\n",
       " 'use_col_TSH',\n",
       " 'use_col_Telling CFU/ML',\n",
       " 'use_col_Transfusie informatie',\n",
       " 'use_col_Trombocyten',\n",
       " 'use_col_Troponine T',\n",
       " 'use_col_Ureum',\n",
       " 'use_col_Zuurstoffractie',\n",
       " 'use_col_erytrocyten',\n",
       " 'use_col_leukocyten',\n",
       " 'use_col_pH',\n",
       " 'use_col_plasmacytoide lymfocyten',\n",
       " 'use_col_vis_feature_1',\n",
       " 'use_col_vis_feature_12',\n",
       " 'use_col_vis_feature_13',\n",
       " 'use_col_vis_feature_15',\n",
       " 'use_col_vis_feature_16',\n",
       " 'use_col_vis_feature_17',\n",
       " 'use_col_vis_feature_18',\n",
       " 'use_col_vis_feature_19',\n",
       " 'use_col_vis_feature_2',\n",
       " 'use_col_vis_feature_20',\n",
       " 'use_col_vis_feature_22',\n",
       " 'use_col_vis_feature_23',\n",
       " 'use_col_vis_feature_24',\n",
       " 'use_col_vis_feature_25',\n",
       " 'use_col_vis_feature_28',\n",
       " 'use_col_vis_feature_3',\n",
       " 'use_col_vis_feature_32',\n",
       " 'use_col_vis_feature_34',\n",
       " 'use_col_vis_feature_37',\n",
       " 'use_col_vis_feature_39',\n",
       " 'use_col_vis_feature_40',\n",
       " 'use_col_vis_feature_41',\n",
       " 'use_col_vis_feature_42',\n",
       " 'use_col_vis_feature_43',\n",
       " 'use_col_vis_feature_45',\n",
       " 'use_col_vis_feature_46',\n",
       " 'use_col_vis_feature_47',\n",
       " 'use_col_vis_feature_48',\n",
       " 'use_col_vis_feature_50',\n",
       " 'use_col_vis_feature_51',\n",
       " 'use_col_vis_feature_52',\n",
       " 'use_col_vis_feature_54',\n",
       " 'use_col_vis_feature_56',\n",
       " 'use_col_vis_feature_58',\n",
       " 'use_col_vis_feature_59',\n",
       " 'use_col_vis_feature_6']"
      ]
     },
     "execution_count": 147,
     "metadata": {},
     "output_type": "execute_result"
    }
   ],
   "source": [
    "([k for k, v in study.best_trial.params.items() if k.startswith('use_col') and v])"
   ]
  },
  {
   "cell_type": "code",
   "execution_count": 135,
   "id": "adequate-project",
   "metadata": {},
   "outputs": [
    {
     "name": "stdout",
     "output_type": "stream",
     "text": [
      "c\n",
      "d\n",
      "f\n"
     ]
    }
   ],
   "source": [
    "vis_aucs = []\n",
    "vis_cf_min = []\n",
    "vis_cf_max = []\n",
    "for letter in df[df.use_visual].model.unique():\n",
    "    print(letter)\n",
    "    vis_aucs.append(roc_auc(df[df.model == letter].pred.values))\n",
    "    b = bayesian_bootstrap(df[df.model == letter].pred.values, roc_auc, 10000, len(df)*10)\n",
    "    vis_cf_min.append(np.percentile(b, 2.5))\n",
    "    vis_cf_max.append(np.percentile(b, 100-2.5))"
   ]
  },
  {
   "cell_type": "code",
   "execution_count": 136,
   "id": "mounted-listing",
   "metadata": {},
   "outputs": [
    {
     "name": "stdout",
     "output_type": "stream",
     "text": [
      "a\n",
      "b\n",
      "e\n"
     ]
    }
   ],
   "source": [
    "no_vis_aucs = []\n",
    "no_vis_cf_min = []\n",
    "no_vis_cf_max = []\n",
    "for letter in df[~df.use_visual].model.unique():\n",
    "    print(letter)\n",
    "    no_vis_aucs.append(roc_auc(df[df.model == letter].pred.values))\n",
    "    b = bayesian_bootstrap(df[df.model == letter].pred.values, roc_auc, 10000, len(df)*10)\n",
    "    no_vis_cf_min.append(np.percentile(b, 2.5))\n",
    "    no_vis_cf_max.append(np.percentile(b, 100-2.5))"
   ]
  },
  {
   "cell_type": "code",
   "execution_count": 137,
   "id": "comprehensive-possession",
   "metadata": {},
   "outputs": [
    {
     "data": {
      "image/png": "[encoded data removed]",
      "text/plain": [
       "<Figure size 360x432 with 1 Axes>"
      ]
     },
     "metadata": {},
     "output_type": "display_data"
    }
   ],
   "source": [
    "plt.figure(figsize=(5, 6))\n",
    "plt.bar(np.arange(3)-0.175, no_vis_aucs, width=0.35, yerr=np.array([[no_vis_aucs[i]-no_vis_cf_min[i], no_vis_cf_max[i]-no_vis_aucs[i]] for i in range(3)]).T)\n",
    "plt.bar(np.arange(3)+0.175, vis_aucs, width=0.35, yerr=np.array([[vis_aucs[i]-vis_cf_min[i], vis_cf_max[i]-vis_aucs[i]] for i in range(3)]).T)\n",
    "ax = plt.gca()\n",
    "ax.yaxis.set_major_locator(ticker.MultipleLocator(0.1));"
   ]
  },
  {
   "cell_type": "code",
   "execution_count": 96,
   "id": "manufactured-newman",
   "metadata": {},
   "outputs": [
    {
     "data": {
      "text/plain": [
       "(6, 2)"
      ]
     },
     "execution_count": 96,
     "metadata": {},
     "output_type": "execute_result"
    }
   ],
   "source": [
    "np.array([[aucs[i]-cf_min[i], cf_max[i]-aucs[i]] for i in range(6)]).shape"
   ]
  },
  {
   "cell_type": "code",
   "execution_count": 132,
   "id": "instrumental-marketplace",
   "metadata": {},
   "outputs": [
    {
     "data": {
      "text/plain": [
       "(array([0.5, 1.5, 2.5]),\n",
       " [0.7664576802507836, 0.8855799373040752, 0.780564263322884],\n",
       " array([[0.16144512, 0.13591194, 0.14229057],\n",
       "        [0.12716551, 0.0821528 , 0.11367721]]))"
      ]
     },
     "execution_count": 132,
     "metadata": {},
     "output_type": "execute_result"
    }
   ],
   "source": [
    "np.arange(3)+0.5, vis_aucs, np.array([[vis_aucs[i]-vis_cf_min[i], vis_cf_max[i]-vis_aucs[i]] for i in range(3)]).T"
   ]
  },
  {
   "cell_type": "code",
   "execution_count": 148,
   "id": "necessary-minority",
   "metadata": {},
   "outputs": [
    {
     "data": {
      "text/plain": [
       "69.0"
      ]
     },
     "execution_count": 148,
     "metadata": {},
     "output_type": "execute_result"
    }
   ],
   "source": [
    "len(df)/6"
   ]
  },
  {
   "cell_type": "code",
   "execution_count": 296,
   "id": "appointed-dating",
   "metadata": {},
   "outputs": [
    {
     "name": "stdout",
     "output_type": "stream",
     "text": [
      "a\n",
      "b\n",
      "c\n",
      "d\n",
      "e\n",
      "f\n"
     ]
    }
   ],
   "source": [
    "bootstraps = []\n",
    "for model in df.model.unique():\n",
    "    print(model)\n",
    "    bootstraps.append(bayesian_bootstrap(df[df.model == model].pred.values, roc_auc, 20000, len(df)))"
   ]
  },
  {
   "cell_type": "code",
   "execution_count": 297,
   "id": "functional-afternoon",
   "metadata": {},
   "outputs": [
    {
     "data": {
      "text/html": [
       "<div>\n",
       "<style scoped>\n",
       "    .dataframe tbody tr th:only-of-type {\n",
       "        vertical-align: middle;\n",
       "    }\n",
       "\n",
       "    .dataframe tbody tr th {\n",
       "        vertical-align: top;\n",
       "    }\n",
       "\n",
       "    .dataframe thead th {\n",
       "        text-align: right;\n",
       "    }\n",
       "</style>\n",
       "<table border=\"1\" class=\"dataframe\">\n",
       "  <thead>\n",
       "    <tr style=\"text-align: right;\">\n",
       "      <th></th>\n",
       "      <th>mean_test_score</th>\n",
       "      <th>std_test_score</th>\n",
       "    </tr>\n",
       "    <tr>\n",
       "      <th>model</th>\n",
       "      <th></th>\n",
       "      <th></th>\n",
       "    </tr>\n",
       "  </thead>\n",
       "  <tbody>\n",
       "    <tr>\n",
       "      <th>a</th>\n",
       "      <td>0.783180</td>\n",
       "      <td>0.085576</td>\n",
       "    </tr>\n",
       "    <tr>\n",
       "      <th>b</th>\n",
       "      <td>0.813498</td>\n",
       "      <td>0.080014</td>\n",
       "    </tr>\n",
       "    <tr>\n",
       "      <th>c</th>\n",
       "      <td>0.766861</td>\n",
       "      <td>0.073479</td>\n",
       "    </tr>\n",
       "    <tr>\n",
       "      <th>d</th>\n",
       "      <td>0.885182</td>\n",
       "      <td>0.055847</td>\n",
       "    </tr>\n",
       "    <tr>\n",
       "      <th>e</th>\n",
       "      <td>0.735222</td>\n",
       "      <td>0.090193</td>\n",
       "    </tr>\n",
       "    <tr>\n",
       "      <th>f</th>\n",
       "      <td>0.781036</td>\n",
       "      <td>0.065067</td>\n",
       "    </tr>\n",
       "  </tbody>\n",
       "</table>\n",
       "</div>"
      ],
      "text/plain": [
       "       mean_test_score  std_test_score\n",
       "model                                 \n",
       "a             0.783180        0.085576\n",
       "b             0.813498        0.080014\n",
       "c             0.766861        0.073479\n",
       "d             0.885182        0.055847\n",
       "e             0.735222        0.090193\n",
       "f             0.781036        0.065067"
      ]
     },
     "execution_count": 297,
     "metadata": {},
     "output_type": "execute_result"
    }
   ],
   "source": [
    "results = {\n",
    "    'model': df.model.unique(), \n",
    "    'mean_test_score': [np.mean(b) for b in bootstraps], \n",
    "    'std_test_score': [np.std(b) for b in bootstraps], \n",
    "}\n",
    "results_df = pd.DataFrame(results).set_index('model')\n",
    "results_df"
   ]
  },
  {
   "cell_type": "code",
   "execution_count": 298,
   "id": "union-institute",
   "metadata": {},
   "outputs": [],
   "source": [
    "import numpy as np\n",
    "from scipy.stats import t\n",
    "\n",
    "\n",
    "def corrected_std(differences, n_train, n_test):\n",
    "    \"\"\"Corrects standard deviation using Nadeau and Bengio's approach.\n",
    "\n",
    "    Parameters\n",
    "    ----------\n",
    "    differences : ndarray of shape (n_samples, 1)\n",
    "        Vector containing the differences in the score metrics of two models.\n",
    "    n_train : int\n",
    "        Number of samples in the training set.\n",
    "    n_test : int\n",
    "        Number of samples in the testing set.\n",
    "\n",
    "    Returns\n",
    "    -------\n",
    "    corrected_std : int\n",
    "        Variance-corrected standard deviation of the set of differences.\n",
    "    \"\"\"\n",
    "    n = n_train + n_test\n",
    "    corrected_var = (\n",
    "        np.var(differences, ddof=1) * ((1 / n) + (n_test / n_train))\n",
    "    )\n",
    "    corrected_std = np.sqrt(corrected_var)\n",
    "    return corrected_std\n",
    "\n",
    "\n",
    "def compute_corrected_ttest(differences, df, n_train, n_test):\n",
    "    \"\"\"Computes right-tailed paired t-test with corrected variance.\n",
    "\n",
    "    Parameters\n",
    "    ----------\n",
    "    differences : array-like of shape (n_samples, 1)\n",
    "        Vector containing the differences in the score metrics of two models.\n",
    "    df : int\n",
    "        Degrees of freedom.\n",
    "    n_train : int\n",
    "        Number of samples in the training set.\n",
    "    n_test : int\n",
    "        Number of samples in the testing set.\n",
    "\n",
    "    Returns\n",
    "    -------\n",
    "    t_stat : float\n",
    "        Variance-corrected t-statistic.\n",
    "    p_val : float\n",
    "        Variance-corrected p-value.\n",
    "    \"\"\"\n",
    "    mean = np.mean(differences)\n",
    "    std = corrected_std(differences, n_train, n_test)\n",
    "    t_stat = mean / std\n",
    "    p_val = t.sf(np.abs(t_stat), df)  # right-tailed t-test\n",
    "    return t_stat, p_val"
   ]
  },
  {
   "cell_type": "code",
   "execution_count": 299,
   "id": "pleased-dancing",
   "metadata": {},
   "outputs": [],
   "source": [
    "model_scores = pd.DataFrame(np.array(bootstraps))"
   ]
  },
  {
   "cell_type": "code",
   "execution_count": 300,
   "id": "corresponding-compatibility",
   "metadata": {},
   "outputs": [],
   "source": [
    "from itertools import combinations\n",
    "from math import factorial\n",
    "\n",
    "n_train = rumc.part.isin(['train', 'val']).sum()\n",
    "n_test = rumc.part.isin(['test']).sum()\n",
    "rope_interval = [-0.01, 0.01]\n",
    "\n",
    "dof = 10000-1\n",
    "\n",
    "n_comparisons = (\n",
    "    factorial(len(model_scores))\n",
    "    / (factorial(2) * factorial(len(model_scores) - 2))\n",
    ")\n",
    "pairwise_t_test = []\n",
    "\n",
    "for model_i, model_k in combinations(range(len(model_scores)), 2):\n",
    "    model_i_scores = model_scores.iloc[model_i].values\n",
    "    model_k_scores = model_scores.iloc[model_k].values\n",
    "    differences = model_i_scores - model_k_scores\n",
    "    t_stat, p_val = compute_corrected_ttest(\n",
    "        differences, dof, n_train, n_test\n",
    "    )\n",
    "    p_val *= n_comparisons  # implement Bonferroni correction\n",
    "    # Bonferroni can output p-values higher than 1\n",
    "    p_val = 1 if p_val > 1 else p_val\n",
    "    pairwise_t_test.append(\n",
    "        [model_scores.index[model_i], model_scores.index[model_k],\n",
    "         t_stat, p_val]\n",
    "    )"
   ]
  },
  {
   "cell_type": "code",
   "execution_count": 301,
   "id": "average-eligibility",
   "metadata": {},
   "outputs": [],
   "source": [
    "pairwise_comp_df = pd.DataFrame(\n",
    "    pairwise_t_test,\n",
    "    columns=['model_1', 'model_2', 't_stat', 'p_val']\n",
    ").round(3)"
   ]
  },
  {
   "cell_type": "code",
   "execution_count": 302,
   "id": "documented-feedback",
   "metadata": {},
   "outputs": [],
   "source": [
    "letters = pd.Series(list('abcdef'))\n",
    "pairwise_comp_df['model_1'] = (df.groupby('model').features.first().loc[letters.iloc[pairwise_comp_df.model_1]] + '_' + df.groupby('model').use_visual.first().loc[letters.iloc[pairwise_comp_df.model_1]].astype(str)).reset_index(drop=True)"
   ]
  },
  {
   "cell_type": "code",
   "execution_count": 303,
   "id": "interior-triangle",
   "metadata": {},
   "outputs": [],
   "source": [
    "pairwise_comp_df['model_2'] = (df.groupby('model').features.first().loc[letters.iloc[pairwise_comp_df.model_2]] + '_' + df.groupby('model').use_visual.first().loc[letters.iloc[pairwise_comp_df.model_2]].astype(str)).reset_index(drop=True)"
   ]
  },
  {
   "cell_type": "code",
   "execution_count": 317,
   "id": "golden-massachusetts",
   "metadata": {},
   "outputs": [
    {
     "data": {
      "text/html": [
       "<div>\n",
       "<style scoped>\n",
       "    .dataframe tbody tr th:only-of-type {\n",
       "        vertical-align: middle;\n",
       "    }\n",
       "\n",
       "    .dataframe tbody tr th {\n",
       "        vertical-align: top;\n",
       "    }\n",
       "\n",
       "    .dataframe thead th {\n",
       "        text-align: right;\n",
       "    }\n",
       "</style>\n",
       "<table border=\"1\" class=\"dataframe\">\n",
       "  <thead>\n",
       "    <tr style=\"text-align: right;\">\n",
       "      <th></th>\n",
       "      <th>model_1</th>\n",
       "      <th>model_2</th>\n",
       "      <th>t_stat</th>\n",
       "      <th>p_val</th>\n",
       "    </tr>\n",
       "  </thead>\n",
       "  <tbody>\n",
       "    <tr>\n",
       "      <th>9</th>\n",
       "      <td>all_True</td>\n",
       "      <td>hyperopt_True</td>\n",
       "      <td>-3.064</td>\n",
       "      <td>0.016</td>\n",
       "    </tr>\n",
       "    <tr>\n",
       "      <th>12</th>\n",
       "      <td>hyperopt_True</td>\n",
       "      <td>erdi_False</td>\n",
       "      <td>3.362</td>\n",
       "      <td>0.006</td>\n",
       "    </tr>\n",
       "    <tr>\n",
       "      <th>13</th>\n",
       "      <td>hyperopt_True</td>\n",
       "      <td>erdi_True</td>\n",
       "      <td>2.880</td>\n",
       "      <td>0.030</td>\n",
       "    </tr>\n",
       "  </tbody>\n",
       "</table>\n",
       "</div>"
      ],
      "text/plain": [
       "          model_1        model_2  t_stat  p_val\n",
       "9        all_True  hyperopt_True  -3.064  0.016\n",
       "12  hyperopt_True     erdi_False   3.362  0.006\n",
       "13  hyperopt_True      erdi_True   2.880  0.030"
      ]
     },
     "execution_count": 317,
     "metadata": {},
     "output_type": "execute_result"
    }
   ],
   "source": [
    "pairwise_comp_df[pairwise_comp_df.p_val < 0.05]"
   ]
  },
  {
   "cell_type": "code",
   "execution_count": 306,
   "id": "typical-highway",
   "metadata": {},
   "outputs": [],
   "source": [
    "from itertools import combinations\n",
    "from scipy.stats import t\n",
    "\n",
    "pairwise_bayesian = []\n",
    "n_train = rumc.part.isin(['train', 'val']).sum()\n",
    "n_test = rumc.part.isin(['test']).sum()\n",
    "rope_interval = [-0.01, 0.01]\n",
    "\n",
    "dof = 10000-1\n",
    "\n",
    "for model_i, model_k in combinations(range(len(model_scores)), 2):\n",
    "    model_i_scores = model_scores.iloc[model_i].values\n",
    "    model_k_scores = model_scores.iloc[model_k].values\n",
    "    differences = model_i_scores - model_k_scores\n",
    "    t_post = t(\n",
    "        dof, loc=np.mean(differences),\n",
    "        scale=corrected_std(differences, n_train, n_test)\n",
    "    )\n",
    "    worse_prob = t_post.cdf(rope_interval[0])\n",
    "    better_prob = 1 - t_post.cdf(rope_interval[1])\n",
    "    rope_prob = t_post.cdf(rope_interval[1]) - t_post.cdf(rope_interval[0])\n",
    "\n",
    "    pairwise_bayesian.append([model_i, model_k, worse_prob, better_prob, rope_prob])"
   ]
  },
  {
   "cell_type": "code",
   "execution_count": 307,
   "id": "parallel-growing",
   "metadata": {},
   "outputs": [],
   "source": [
    "pairwise_bayesian_df = (pd.DataFrame(\n",
    "    pairwise_bayesian,\n",
    "    columns=['model_1', 'model_2', 'worse_prob', 'better_prob', 'rope_prob']\n",
    ").round(3))"
   ]
  },
  {
   "cell_type": "code",
   "execution_count": 308,
   "id": "assumed-culture",
   "metadata": {},
   "outputs": [
    {
     "data": {
      "text/plain": [
       "0          all_False\n",
       "1          all_False\n",
       "2          all_False\n",
       "3          all_False\n",
       "4          all_False\n",
       "5     hyperopt_False\n",
       "6     hyperopt_False\n",
       "7     hyperopt_False\n",
       "8     hyperopt_False\n",
       "9           all_True\n",
       "10          all_True\n",
       "11          all_True\n",
       "12     hyperopt_True\n",
       "13     hyperopt_True\n",
       "14        erdi_False\n",
       "dtype: object"
      ]
     },
     "execution_count": 308,
     "metadata": {},
     "output_type": "execute_result"
    }
   ],
   "source": [
    "(df.groupby('model').features.first().loc[letters.iloc[pairwise_bayesian_df.model_1]] + '_' + df.groupby('model').use_visual.first().loc[letters.iloc[pairwise_bayesian_df.model_1]].astype(str)).reset_index(drop=True)"
   ]
  },
  {
   "cell_type": "code",
   "execution_count": 309,
   "id": "decimal-plymouth",
   "metadata": {},
   "outputs": [],
   "source": [
    "letters = pd.Series(list('abcdef'))\n",
    "pairwise_bayesian_df['model_1'] = (df.groupby('model').features.first().loc[letters.iloc[pairwise_bayesian_df.model_1]] + '_' + df.groupby('model').use_visual.first().loc[letters.iloc[pairwise_bayesian_df.model_1]].astype(str)).reset_index(drop=True)"
   ]
  },
  {
   "cell_type": "code",
   "execution_count": 310,
   "id": "sunset-ozone",
   "metadata": {},
   "outputs": [],
   "source": [
    "pairwise_bayesian_df['model_2'] = (df.groupby('model').features.first().loc[letters.iloc[pairwise_bayesian_df.model_2]] + '_' + df.groupby('model').use_visual.first().loc[letters.iloc[pairwise_bayesian_df.model_2]].astype(str)).reset_index(drop=True)"
   ]
  },
  {
   "cell_type": "code",
   "execution_count": 313,
   "id": "temporal-measurement",
   "metadata": {},
   "outputs": [
    {
     "data": {
      "text/html": [
       "<div>\n",
       "<style scoped>\n",
       "    .dataframe tbody tr th:only-of-type {\n",
       "        vertical-align: middle;\n",
       "    }\n",
       "\n",
       "    .dataframe tbody tr th {\n",
       "        vertical-align: top;\n",
       "    }\n",
       "\n",
       "    .dataframe thead th {\n",
       "        text-align: right;\n",
       "    }\n",
       "</style>\n",
       "<table border=\"1\" class=\"dataframe\">\n",
       "  <thead>\n",
       "    <tr style=\"text-align: right;\">\n",
       "      <th></th>\n",
       "      <th>model_1</th>\n",
       "      <th>model_2</th>\n",
       "      <th>worse_prob</th>\n",
       "      <th>better_prob</th>\n",
       "      <th>rope_prob</th>\n",
       "    </tr>\n",
       "  </thead>\n",
       "  <tbody>\n",
       "    <tr>\n",
       "      <th>12</th>\n",
       "      <td>hyperopt_True</td>\n",
       "      <td>erdi_False</td>\n",
       "      <td>0.000</td>\n",
       "      <td>0.999</td>\n",
       "      <td>0.001</td>\n",
       "    </tr>\n",
       "    <tr>\n",
       "      <th>13</th>\n",
       "      <td>hyperopt_True</td>\n",
       "      <td>erdi_True</td>\n",
       "      <td>0.001</td>\n",
       "      <td>0.995</td>\n",
       "      <td>0.004</td>\n",
       "    </tr>\n",
       "  </tbody>\n",
       "</table>\n",
       "</div>"
      ],
      "text/plain": [
       "          model_1     model_2  worse_prob  better_prob  rope_prob\n",
       "12  hyperopt_True  erdi_False       0.000        0.999      0.001\n",
       "13  hyperopt_True   erdi_True       0.001        0.995      0.004"
      ]
     },
     "execution_count": 313,
     "metadata": {},
     "output_type": "execute_result"
    }
   ],
   "source": [
    "pairwise_bayesian_df[pairwise_bayesian_df.better_prob > 0.95]"
   ]
  },
  {
   "cell_type": "code",
   "execution_count": 316,
   "id": "persistent-typing",
   "metadata": {},
   "outputs": [
    {
     "data": {
      "text/html": [
       "<div>\n",
       "<style scoped>\n",
       "    .dataframe tbody tr th:only-of-type {\n",
       "        vertical-align: middle;\n",
       "    }\n",
       "\n",
       "    .dataframe tbody tr th {\n",
       "        vertical-align: top;\n",
       "    }\n",
       "\n",
       "    .dataframe thead th {\n",
       "        text-align: right;\n",
       "    }\n",
       "</style>\n",
       "<table border=\"1\" class=\"dataframe\">\n",
       "  <thead>\n",
       "    <tr style=\"text-align: right;\">\n",
       "      <th></th>\n",
       "      <th>model_1</th>\n",
       "      <th>model_2</th>\n",
       "      <th>worse_prob</th>\n",
       "      <th>better_prob</th>\n",
       "      <th>rope_prob</th>\n",
       "    </tr>\n",
       "  </thead>\n",
       "  <tbody>\n",
       "    <tr>\n",
       "      <th>2</th>\n",
       "      <td>all_False</td>\n",
       "      <td>hyperopt_True</td>\n",
       "      <td>0.984</td>\n",
       "      <td>0.004</td>\n",
       "      <td>0.011</td>\n",
       "    </tr>\n",
       "    <tr>\n",
       "      <th>9</th>\n",
       "      <td>all_True</td>\n",
       "      <td>hyperopt_True</td>\n",
       "      <td>0.997</td>\n",
       "      <td>0.000</td>\n",
       "      <td>0.002</td>\n",
       "    </tr>\n",
       "  </tbody>\n",
       "</table>\n",
       "</div>"
      ],
      "text/plain": [
       "     model_1        model_2  worse_prob  better_prob  rope_prob\n",
       "2  all_False  hyperopt_True       0.984        0.004      0.011\n",
       "9   all_True  hyperopt_True       0.997        0.000      0.002"
      ]
     },
     "execution_count": 316,
     "metadata": {},
     "output_type": "execute_result"
    }
   ],
   "source": [
    "pairwise_bayesian_df[pairwise_bayesian_df.worse_prob > 0.95]"
   ]
  },
  {
   "cell_type": "code",
   "execution_count": 180,
   "id": "constitutional-fundamental",
   "metadata": {},
   "outputs": [
    {
     "ename": "NameError",
     "evalue": "name 'pairwise_comp_df' is not defined",
     "output_type": "error",
     "traceback": [
      "\u001b[1;31m---------------------------------------------------------------------------\u001b[0m",
      "\u001b[1;31mNameError\u001b[0m                                 Traceback (most recent call last)",
      "\u001b[1;32m<ipython-input-180-511a51dd12e9>\u001b[0m in \u001b[0;36m<module>\u001b[1;34m\u001b[0m\n\u001b[1;32m----> 1\u001b[1;33m \u001b[0mpairwise_comp_df\u001b[0m \u001b[1;33m=\u001b[0m \u001b[0mpairwise_comp_df\u001b[0m\u001b[1;33m.\u001b[0m\u001b[0mjoin\u001b[0m\u001b[1;33m(\u001b[0m\u001b[0mpairwise_bayesian_df\u001b[0m\u001b[1;33m)\u001b[0m\u001b[1;33m\u001b[0m\u001b[1;33m\u001b[0m\u001b[0m\n\u001b[0m\u001b[0;32m      2\u001b[0m \u001b[0mpairwise_comp_df\u001b[0m\u001b[1;33m\u001b[0m\u001b[1;33m\u001b[0m\u001b[0m\n",
      "\u001b[1;31mNameError\u001b[0m: name 'pairwise_comp_df' is not defined"
     ]
    }
   ],
   "source": [
    "pairwise_comp_df = pairwise_comp_df.join(pairwise_bayesian_df)\n",
    "pairwise_comp_df"
   ]
  },
  {
   "cell_type": "code",
   "execution_count": 162,
   "id": "composed-funeral",
   "metadata": {},
   "outputs": [],
   "source": [
    "rumc = pd.read_pickle('../data/processed/rumc.pkl')"
   ]
  },
  {
   "cell_type": "code",
   "execution_count": 164,
   "id": "dirty-circus",
   "metadata": {},
   "outputs": [
    {
     "data": {
      "text/plain": [
       "677"
      ]
     },
     "execution_count": 164,
     "metadata": {},
     "output_type": "execute_result"
    }
   ],
   "source": [
    "rumc.part.isin(['train', 'val']).sum()"
   ]
  },
  {
   "cell_type": "code",
   "execution_count": null,
   "id": "occupational-clark",
   "metadata": {},
   "outputs": [],
   "source": []
  }
 ],
 "metadata": {
  "kernelspec": {
   "display_name": "Python 3",
   "language": "python",
   "name": "python3"
  },
  "language_info": {
   "codemirror_mode": {
    "name": "ipython",
    "version": 3
   },
   "file_extension": ".py",
   "mimetype": "text/x-python",
   "name": "python",
   "nbconvert_exporter": "python",
   "pygments_lexer": "ipython3",
   "version": "3.7.9"
  }
 },
 "nbformat": 4,
 "nbformat_minor": 5
}
