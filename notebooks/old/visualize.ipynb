{
 "cells": [
  {
   "cell_type": "code",
   "execution_count": 22,
   "id": "overhead-spelling",
   "metadata": {},
   "outputs": [],
   "source": [
    "import numpy as np\n",
    "import pandas as pd\n",
    "import seaborn as sns\n",
    "sns.set()"
   ]
  },
  {
   "cell_type": "code",
   "execution_count": 26,
   "id": "raising-mauritius",
   "metadata": {},
   "outputs": [],
   "source": [
    "df = pd.read_pickle('../data/results/unyielding-collie.pkl')"
   ]
  },
  {
   "cell_type": "code",
   "execution_count": 28,
   "id": "apart-reflection",
   "metadata": {},
   "outputs": [
    {
     "data": {
      "text/plain": [
       "<AxesSubplot:xlabel='metric', ylabel='value'>"
      ]
     },
     "execution_count": 28,
     "metadata": {},
     "output_type": "execute_result"
    },
    {
     "data": {
      "image/png": "[encoded data removed]",
      "text/plain": [
       "<Figure size 432x288 with 1 Axes>"
      ]
     },
     "metadata": {},
     "output_type": "display_data"
    }
   ],
   "source": [
    "sns.boxenplot(data=df[df.metric == 'test_roc_auc'], x='metric', y='value')"
   ]
  },
  {
   "cell_type": "code",
   "execution_count": 12,
   "id": "smaller-object",
   "metadata": {},
   "outputs": [],
   "source": [
    "from sklearn.metrics import make_scorer, roc_auc_score, accuracy_score"
   ]
  },
  {
   "cell_type": "code",
   "execution_count": 14,
   "id": "concerned-apparatus",
   "metadata": {},
   "outputs": [],
   "source": [
    "def thresh_accuracy(y, y_pred):\n",
    "    y_thresh = y >= 2\n",
    "    y_pred_thresh = y_pred >= 2\n",
    "    return accuracy_score(y_thresh, y_pred_thresh)"
   ]
  },
  {
   "cell_type": "code",
   "execution_count": 15,
   "id": "individual-league",
   "metadata": {},
   "outputs": [
    {
     "data": {
      "text/plain": [
       "make_scorer(thresh_accuracy)"
      ]
     },
     "execution_count": 15,
     "metadata": {},
     "output_type": "execute_result"
    }
   ],
   "source": [
    "make_scorer(thresh_accuracy)"
   ]
  },
  {
   "cell_type": "code",
   "execution_count": null,
   "id": "twelve-statistics",
   "metadata": {},
   "outputs": [],
   "source": []
  }
 ],
 "metadata": {
  "kernelspec": {
   "display_name": "Python 3",
   "language": "python",
   "name": "python3"
  },
  "language_info": {
   "codemirror_mode": {
    "name": "ipython",
    "version": 3
   },
   "file_extension": ".py",
   "mimetype": "text/x-python",
   "name": "python",
   "nbconvert_exporter": "python",
   "pygments_lexer": "ipython3",
   "version": "3.7.9"
  }
 },
 "nbformat": 4,
 "nbformat_minor": 5
}
