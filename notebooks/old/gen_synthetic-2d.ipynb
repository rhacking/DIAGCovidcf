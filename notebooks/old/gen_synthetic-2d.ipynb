{
 "cells": [
  {
   "cell_type": "code",
   "execution_count": 10,
   "id": "backed-density",
   "metadata": {},
   "outputs": [],
   "source": [
    "import numpy as np\n",
    "from numba import njit, prange"
   ]
  },
  {
   "cell_type": "code",
   "execution_count": 11,
   "id": "planned-glance",
   "metadata": {},
   "outputs": [],
   "source": [
    "@njit\n",
    "def gen_sphere(r):\n",
    "    img = np.empty((r*2+1, r*2+1), dtype=np.float32)\n",
    "    for x in prange(r*2+1):\n",
    "        for y in prange(r*2+1):\n",
    "            dist = np.linalg.norm(np.array([x, y], dtype=np.float32) - np.array([r, r], dtype=np.float32))\n",
    "            if dist <= r:\n",
    "                img[x, y] = 1\n",
    "            else:\n",
    "                img[x, y] = 0\n",
    "    return img"
   ]
  },
  {
   "cell_type": "code",
   "execution_count": 12,
   "id": "possible-farming",
   "metadata": {},
   "outputs": [
    {
     "name": "stdout",
     "output_type": "stream",
     "text": [
      "56.1 µs ± 10.3 µs per loop (mean ± std. dev. of 7 runs, 1 loop each)\n"
     ]
    }
   ],
   "source": [
    "%%timeit\n",
    "gen_sphere(5)"
   ]
  },
  {
   "cell_type": "code",
   "execution_count": 13,
   "id": "adequate-stationery",
   "metadata": {},
   "outputs": [],
   "source": [
    "@njit\n",
    "def gen_random_image(size, num_spheres, num_cubes, noise_factor):\n",
    "    img = np.zeros((size, size), dtype=np.float32)\n",
    "    for i in range(num_spheres):\n",
    "        r = np.random.randint(1, (size - 1)/2 / 2)\n",
    "        sphere_img = gen_sphere(r)\n",
    "        sphere_size = sphere_img.shape[0]\n",
    "        x, y = np.random.randint(0, size-sphere_size, size=2)\n",
    "        img[x:x+sphere_size, y:y+sphere_size] += sphere_img\n",
    "    \n",
    "    for i in range(num_cubes):\n",
    "        cube_size = np.random.randint(1, size / 2)\n",
    "        x, y = np.random.randint(0, size-cube_size, size=2)\n",
    "        img[x:x+cube_size, y:y+cube_size] += 1\n",
    "    \n",
    "    img += np.random.random(size=img.shape)*noise_factor\n",
    "    \n",
    "    return img"
   ]
  },
  {
   "cell_type": "code",
   "execution_count": 14,
   "id": "convertible-parker",
   "metadata": {},
   "outputs": [],
   "source": [
    "import matplotlib.pyplot as plt\n",
    "def plot_3d(img):\n",
    "    plt.imshow(img.mean(axis=0))\n",
    "    plt.show()\n",
    "    plt.imshow(img.mean(axis=1))\n",
    "    plt.show()\n",
    "    plt.imshow(img.mean(axis=2))\n",
    "    plt.show()"
   ]
  },
  {
   "cell_type": "code",
   "execution_count": 15,
   "id": "minus-spectrum",
   "metadata": {},
   "outputs": [
    {
     "data": {
      "text/plain": [
       "<matplotlib.image.AxesImage at 0x1727b78b488>"
      ]
     },
     "execution_count": 15,
     "metadata": {},
     "output_type": "execute_result"
    },
    {
     "data": {
      "image/png": "[encoded data removed]",
      "text/plain": [
       "<Figure size 432x288 with 1 Axes>"
      ]
     },
     "metadata": {
      "needs_background": "light"
     },
     "output_type": "display_data"
    }
   ],
   "source": [
    "plt.imshow(gen_random_image(32, 4, 2, 0.5))"
   ]
  },
  {
   "cell_type": "code",
   "execution_count": 46,
   "id": "fabulous-alarm",
   "metadata": {},
   "outputs": [],
   "source": [
    "from scipy.stats.distributions import randint, norm\n",
    "dist_a = {\n",
    "    'num_spheres': randint(5, 8), \n",
    "    'num_cubes': randint(0, 2), \n",
    "    'noise_factor': norm(1, 0.5)\n",
    "}\n",
    "\n",
    "dist_b = {\n",
    "    'num_spheres': randint(1, 4), \n",
    "    'num_cubes': randint(2, 6), \n",
    "    'noise_factor': norm(0.6, 1.8)\n",
    "}"
   ]
  },
  {
   "cell_type": "code",
   "execution_count": 47,
   "id": "informative-jesus",
   "metadata": {},
   "outputs": [],
   "source": [
    "n_images = 500\n",
    "img_size = 32\n",
    "a_images = []\n",
    "for i in range(n_images):\n",
    "    params = {k: np.abs(v.rvs()) for k, v in dist_a.items()}\n",
    "    img = gen_random_image(img_size, **params)\n",
    "    a_images.append((img, params))\n",
    "\n",
    "b_images = []\n",
    "for i in range(n_images):\n",
    "    params = {k: np.abs(v.rvs()) for k, v in dist_b.items()}\n",
    "    img = gen_random_image(img_size, **params)\n",
    "    b_images.append((img, params))"
   ]
  },
  {
   "cell_type": "code",
   "execution_count": 48,
   "id": "caring-jesus",
   "metadata": {},
   "outputs": [],
   "source": [
    "images_a, _ = zip(*a_images)\n",
    "images_b, _ = zip(*b_images)"
   ]
  },
  {
   "cell_type": "code",
   "execution_count": 177,
   "id": "formed-norfolk",
   "metadata": {},
   "outputs": [],
   "source": [
    "import tifffile"
   ]
  },
  {
   "cell_type": "code",
   "execution_count": 173,
   "id": "complex-nomination",
   "metadata": {},
   "outputs": [
    {
     "data": {
      "text/plain": [
       "(375,)"
      ]
     },
     "execution_count": 173,
     "metadata": {},
     "output_type": "execute_result"
    }
   ],
   "source": [
    "np.repeat(np.zeros((5, 5, 5)), repeats=3).shape"
   ]
  },
  {
   "cell_type": "code",
   "execution_count": 105,
   "id": "tight-piano",
   "metadata": {},
   "outputs": [],
   "source": [
    "%%sh\n",
    "cd synth_2d/\n",
    "mkdir a\n",
    "mkdir b"
   ]
  },
  {
   "cell_type": "code",
   "execution_count": 52,
   "id": "canadian-church",
   "metadata": {},
   "outputs": [],
   "source": [
    "import tifffile\n",
    "for i in range(n_images):\n",
    "    tifffile.imwrite(f'synth_2d/{i}a.tiff', data=a_images[i][0])\n",
    "    tifffile.imwrite(f'synth_2d/{i}b.tiff', data=b_images[i][0])\n",
    "#     videoio.videosave(f'synth/{i}a.mp4', np.stack([a_images[i][0], a_images[i][0], a_images[i][0]], axis=3))\n",
    "#     videoio.videosave(f'synth/{i}b.mp4', np.stack([b_images[i][0], b_images[i][0], b_images[i][0]], axis=3))"
   ]
  },
  {
   "cell_type": "code",
   "execution_count": 49,
   "id": "searching-candle",
   "metadata": {},
   "outputs": [],
   "source": [
    "import tifffile\n",
    "for i in range(n_images):\n",
    "    tifffile.imwrite(f'synth_2d/a/{i}.tiff', data=np.clip(a_images[i][0], 0, 1).astype(np.float32))\n",
    "    tifffile.imwrite(f'synth_2d/b/{i}.tiff', data=np.clip(b_images[i][0], 0, 1).astype(np.float32))\n",
    "#     videoio.videosave(f'synth/{i}a.mp4', np.stack([a_images[i][0], a_images[i][0], a_images[i][0]], axis=3))\n",
    "#     videoio.videosave(f'synth/{i}b.mp4', np.stack([b_images[i][0], b_images[i][0], b_images[i][0]], axis=3))"
   ]
  },
  {
   "cell_type": "code",
   "execution_count": 19,
   "id": "serial-voice",
   "metadata": {},
   "outputs": [
    {
     "data": {
      "image/png": "[encoded data removed]",
      "text/plain": [
       "<PIL.Image.Image image mode=I;16 size=32x32 at 0x24481AA5B88>"
      ]
     },
     "execution_count": 19,
     "metadata": {},
     "output_type": "execute_result"
    }
   ],
   "source": [
    "from PIL import Image\n",
    "Image.fromarray(images_a[0].astype(np.uint16))"
   ]
  },
  {
   "cell_type": "code",
   "execution_count": 16,
   "id": "italian-sheet",
   "metadata": {},
   "outputs": [],
   "source": [
    "from torch.utils.data import Dataset, DataLoader\n",
    "from PIL import Image\n",
    "class SynthDataset(Dataset):\n",
    "    def __init__(self, images, transform=None):\n",
    "        \"\"\"\n",
    "        Args:\n",
    "            csv_file (string): Path to the csv file with annotations.\n",
    "            root_dir (string): Directory with all the images.\n",
    "            transform (callable, optional): Optional transform to be applied\n",
    "                on a sample.\n",
    "        \"\"\"\n",
    "        self.images = images\n",
    "        self.transform = transform\n",
    "    \n",
    "    def __len__(self):\n",
    "        return len(self.images)\n",
    "\n",
    "    def __getitem__(self, idx):\n",
    "        img = self.images[idx]\n",
    "\n",
    "        if self.transform:\n",
    "            img = self.transform(img)\n",
    "\n",
    "#         return Image.fromarray(img[None, :, :, :]), torch.Tensor([idx < len(self.images)//2])        \n",
    "#         print(np.stack([img, img, img]).shape)\n",
    "        return (img), torch.Tensor([idx < len(self.images)//2])"
   ]
  },
  {
   "cell_type": "code",
   "execution_count": 11,
   "id": "hidden-builder",
   "metadata": {},
   "outputs": [],
   "source": [
    "from lightly.data import BaseCollateFunction\n",
    "import torchvision.transforms as T\n",
    "\n",
    "class ThreeDImageCollateFunction(BaseCollateFunction):\n",
    "    \"\"\"Implementation of a collate function for images.\n",
    "\n",
    "    This is an implementation of the BaseCollateFunction with a concrete\n",
    "    set of transforms.\n",
    "\n",
    "    The set of transforms is inspired by the SimCLR paper as it has shown\n",
    "    to produce powerful embeddings. \n",
    "\n",
    "    Attributes:\n",
    "        input_size:\n",
    "            Size of the input image in pixels.\n",
    "        cj_prob:\n",
    "            Probability that color jitter is applied.\n",
    "        cj_bright:\n",
    "            How much to jitter brightness.\n",
    "        cj_contrast:\n",
    "            How much to jitter constrast.\n",
    "        cj_sat:\n",
    "            How much to jitter saturation.\n",
    "        cj_hue:\n",
    "            How much to jitter hue.\n",
    "        min_scale:\n",
    "            Minimum size of the randomized crop relative to the input_size.\n",
    "        random_gray_scale:\n",
    "            Probability of conversion to grayscale.\n",
    "        gaussian_blur:\n",
    "            Probability of Gaussian blur.\n",
    "        kernel_size:\n",
    "            Sigma of gaussian blur is kernel_size * input_size.\n",
    "        vf_prob:\n",
    "            Probability that vertical flip is applied.\n",
    "        hf_prob:\n",
    "            Probability that horizontal flip is applied.\n",
    "        rr_prob:\n",
    "            Probability that random (+90 degree) rotation is applied.\n",
    "        normalize:\n",
    "            Dictionary with 'mean' and 'std' for torchvision.transforms.Normalize.\n",
    "\n",
    "    \"\"\"\n",
    "\n",
    "    def __init__(self,\n",
    "                 input_size: int = 64,\n",
    "                 cj_prob: float = 0.8,\n",
    "                 cj_bright: float = 0.7,\n",
    "                 cj_contrast: float = 0.7,\n",
    "                 cj_sat: float = 0.7,\n",
    "                 cj_hue: float = 0.2,\n",
    "                 min_scale: float = 0.15,\n",
    "                 random_gray_scale: float = 0.2,\n",
    "                 gaussian_blur: float = 0.5,\n",
    "                 kernel_size: float = 0.1,\n",
    "                 vf_prob: float = 0.0,\n",
    "                 hf_prob: float = 0.5,\n",
    "                 rr_prob: float = 0.0):\n",
    "\n",
    "        if isinstance(input_size, tuple):\n",
    "            input_size_ = max(input_size)\n",
    "        else:\n",
    "            input_size_ = input_size\n",
    "\n",
    "        transform = []\n",
    "\n",
    "#         if normalize:\n",
    "#             transform += [\n",
    "#              T.Normalize(\n",
    "#                 mean=normalize['mean'],\n",
    "#                 std=normalize['std'])\n",
    "#              ]\n",
    "           \n",
    "        transform = T.Compose(transform)\n",
    "\n",
    "        super(ThreeDImageCollateFunction, self).__init__(transform)"
   ]
  },
  {
   "cell_type": "code",
   "execution_count": 41,
   "id": "changing-train",
   "metadata": {},
   "outputs": [
    {
     "data": {
      "text/plain": [
       "(200, 3, 32, 32)"
      ]
     },
     "execution_count": 41,
     "metadata": {},
     "output_type": "execute_result"
    }
   ],
   "source": [
    "np.stack([imgs, imgs, imgs], axis=1).shape"
   ]
  },
  {
   "cell_type": "code",
   "execution_count": 21,
   "id": "hourly-progress",
   "metadata": {},
   "outputs": [],
   "source": [
    "import torch\n",
    "from torch import nn\n",
    "import torchvision\n",
    "import lightly.models as models\n",
    "import lightly.loss as loss\n",
    "import lightly.data as data\n",
    "import numpy as np\n",
    "import lightly\n",
    "from torch.utils.data import TensorDataset, DataLoader\n",
    "\n",
    "# the collate function applies random transforms to the input images\n",
    "collate_fn = data.ImageCollateFunction(input_size=32, cj_prob=0.5)\n",
    "\n",
    "# imgs = np.array(images_a + images_b).reshape(n_images*2, img_size, img_size)\n",
    "# tensor_x = torch.Tensor(np.stack([imgs, imgs, imgs], axis=1)) # transform to torch tensor\n",
    "# tensor_y = torch.Tensor([0]*n_images + [1]*n_images)\n",
    "\n",
    "# create a dataset from your image folder\n",
    "# my_dataset = TensorDataset(tensor_x, tensor_y) # create your datset\n",
    "# synth_dataset = SynthDataset(images_a + images_b)\n",
    "# dataset = data.LightlyDataset.from_torch_dataset(my_dataset)\n",
    "dataset = data.LightlyDataset(input_dir=r'C:\\Users\\Roel\\Documents\\DIAGCovid\\notebooks\\synth_2d')\n",
    "\n",
    "# dataset = data.LightlyDataset(input_dir='synth')\n",
    "\n",
    "\n",
    "# build a PyTorch dataloader\n",
    "dataloader = torch.utils.data.DataLoader(\n",
    "    dataset,                # pass the dataset to the dataloader\n",
    "    batch_size=32,         # a large batch size helps with the learning\n",
    "    shuffle=True,           # shuffling is important!\n",
    "    collate_fn=collate_fn\n",
    ")\n",
    "    \n",
    "\n",
    "# use a resnet backbone\n",
    "# resnet = torchvision.models.video.r3d_18()\n",
    "resnet = lightly.models.ResNetGenerator('resnet-34')\n",
    "last_conv_channels = list(resnet.children())[-1].in_features\n",
    "backbone = nn.Sequential(\n",
    "    *list(resnet.children())[:-1],\n",
    "    nn.Conv2d(last_conv_channels, 128, 1),\n",
    "    nn.AdaptiveAvgPool2d(1)\n",
    ")\n",
    "# resnet = nn.Sequential(*list(resnet.children())[:-1])"
   ]
  },
  {
   "cell_type": "code",
   "execution_count": 22,
   "id": "filled-trade",
   "metadata": {},
   "outputs": [],
   "source": [
    "# build the simsiam model\n",
    "model = models.SimCLR(backbone, num_ftrs=128)\n",
    "\n",
    "# use the SimSiam loss function\n",
    "criterion = loss.NTXentLoss(temperature=0.5)"
   ]
  },
  {
   "cell_type": "code",
   "execution_count": 23,
   "id": "handy-custom",
   "metadata": {},
   "outputs": [],
   "source": [
    "# get a PyTorch optimizer\n",
    "optimizer = torch.optim.SGD(model.parameters(), lr=1e-0, weight_decay=1e-5)"
   ]
  },
  {
   "cell_type": "code",
   "execution_count": 24,
   "id": "wooden-african",
   "metadata": {},
   "outputs": [],
   "source": [
    "import lightly.embedding as embedding\n",
    "\n",
    "# put all the pieces together in a single pytorch_lightning trainable!\n",
    "embedding_model = embedding.SelfSupervisedEmbedding(\n",
    "    model,\n",
    "    criterion,\n",
    "    optimizer,\n",
    "    dataloader)"
   ]
  },
  {
   "cell_type": "code",
   "execution_count": 32,
   "id": "afraid-question",
   "metadata": {},
   "outputs": [
    {
     "name": "stderr",
     "output_type": "stream",
     "text": [
      "GPU available: True, used: True\n",
      "TPU available: False, using: 0 TPU cores\n",
      "LOCAL_RANK: 0 - CUDA_VISIBLE_DEVICES: [0]\n",
      "\n",
      "  | Name      | Type       | Params\n",
      "-----------------------------------------\n",
      "0 | model     | SimCLR     | 21 M  \n",
      "1 | criterion | NTXentLoss | 0     \n"
     ]
    },
    {
     "name": "stdout",
     "output_type": "stream",
     "text": [
      "Epoch 99: 100%|█████████████████████████████████████████████████████████████████| 32/32 [00:08<00:00,  3.74it/s, loss=3.982, v_num=55]\n"
     ]
    }
   ],
   "source": [
    "# do self-supervised learning for 10 epochs\n",
    "embedding_model.train_embedding(gpus=1, max_epochs=100)"
   ]
  },
  {
   "cell_type": "code",
   "execution_count": 33,
   "id": "rural-daughter",
   "metadata": {
    "tags": []
   },
   "outputs": [
    {
     "name": "stderr",
     "output_type": "stream",
     "text": [
      "Compute efficiency: 0.99: 100%|███████████████████████████████████████████████████████████████████| 1000/1000 [07:38<00:00,  2.18it/s]\n"
     ]
    }
   ],
   "source": [
    "from torchvision.datasets import DatasetFolder\n",
    "import lightly\n",
    "df = DatasetFolder('synth_2d', lambda p: tifffile.imread(p), extensions=('tiff', ))\n",
    "test_transforms = torchvision.transforms.Compose([\n",
    "    torchvision.transforms.Resize((32, 32)),\n",
    "    torchvision.transforms.ToTensor(),\n",
    "    torchvision.transforms.Normalize(\n",
    "        mean=lightly.data.collate.imagenet_normalize['mean'],\n",
    "        std=lightly.data.collate.imagenet_normalize['std'],\n",
    "    )\n",
    "])\n",
    "dataset = data.LightlyDataset(input_dir=r'C:\\Users\\Roel\\Documents\\DIAGCovid\\notebooks\\synth_2d', transform=test_transforms)\n",
    "\n",
    "dataloader_test = torch.utils.data.DataLoader(\n",
    "    dataset,        # use the same dataset as before\n",
    "    batch_size=1,   # we can use batch size 1 for inference\n",
    "    shuffle=False,  # don't shuffle your data during inference\n",
    "    drop_last=False,\n",
    ")\n",
    "embeddings = embedding_model.embed(dataloader_test)"
   ]
  },
  {
   "cell_type": "code",
   "execution_count": 34,
   "id": "absolute-oliver",
   "metadata": {},
   "outputs": [],
   "source": [
    "from sklearn.manifold import TSNE\n",
    "embeddings_2d = TSNE(n_components=2).fit_transform(embeddings[0])"
   ]
  },
  {
   "cell_type": "code",
   "execution_count": 35,
   "id": "ranging-joining",
   "metadata": {},
   "outputs": [
    {
     "data": {
      "text/plain": [
       "(1000, 128)"
      ]
     },
     "execution_count": 35,
     "metadata": {},
     "output_type": "execute_result"
    }
   ],
   "source": [
    "embeddings[0].shape"
   ]
  },
  {
   "cell_type": "code",
   "execution_count": 36,
   "id": "amazing-proposition",
   "metadata": {},
   "outputs": [
    {
     "data": {
      "text/plain": [
       "<matplotlib.collections.PathCollection at 0x172b7517f88>"
      ]
     },
     "execution_count": 36,
     "metadata": {},
     "output_type": "execute_result"
    },
    {
     "data": {
      "image/png": "[encoded data removed]",
      "text/plain": [
       "<Figure size 432x288 with 1 Axes>"
      ]
     },
     "metadata": {
      "needs_background": "light"
     },
     "output_type": "display_data"
    }
   ],
   "source": [
    "plt.scatter(embeddings_2d[embeddings[1] == 0, 0], embeddings_2d[embeddings[1] == 0, 1], color='r')\n",
    "plt.scatter(embeddings_2d[embeddings[1] == 1, 0], embeddings_2d[embeddings[1] == 1, 1], color='b')"
   ]
  },
  {
   "cell_type": "code",
   "execution_count": 37,
   "id": "social-michael",
   "metadata": {},
   "outputs": [],
   "source": [
    "from sklearn.neighbors import KNeighborsClassifier\n",
    "from lightgbm.sklearn import LGBMClassifier\n",
    "from sklearn.model_selection import cross_validate"
   ]
  },
  {
   "cell_type": "code",
   "execution_count": 38,
   "id": "fancy-bouquet",
   "metadata": {},
   "outputs": [
    {
     "data": {
      "text/plain": [
       "0.7911"
      ]
     },
     "execution_count": 38,
     "metadata": {},
     "output_type": "execute_result"
    }
   ],
   "source": [
    "cross_validate(LGBMClassifier(n_jobs=-1), embeddings[0], embeddings[1], scoring='roc_auc')['test_score'].mean()"
   ]
  },
  {
   "cell_type": "code",
   "execution_count": null,
   "id": "bronze-background",
   "metadata": {},
   "outputs": [],
   "source": [
    "Image.fromarray(np.zeros((32, 32, 32), dtype=np.uint16))"
   ]
  },
  {
   "cell_type": "code",
   "execution_count": 45,
   "id": "distinguished-anxiety",
   "metadata": {},
   "outputs": [
    {
     "name": "stdout",
     "output_type": "stream",
     "text": [
      "Collecting pytorch_lightning==1.0.4\n",
      "  Downloading pytorch_lightning-1.0.4-py3-none-any.whl (554 kB)\n",
      "Requirement already satisfied: fsspec>=0.8.0 in c:\\users\\roel\\.virtualenvs\\diagcovid-ckc2berq\\lib\\site-packages (from pytorch_lightning==1.0.4) (0.8.7)\n",
      "Requirement already satisfied: PyYAML>=5.1 in c:\\users\\roel\\.virtualenvs\\diagcovid-ckc2berq\\lib\\site-packages (from pytorch_lightning==1.0.4) (5.3.1)\n",
      "Requirement already satisfied: torch>=1.3 in c:\\users\\roel\\.virtualenvs\\diagcovid-ckc2berq\\lib\\site-packages (from pytorch_lightning==1.0.4) (1.8.1+cu111)\n",
      "Requirement already satisfied: tensorboard>=2.2.0 in c:\\users\\roel\\.virtualenvs\\diagcovid-ckc2berq\\lib\\site-packages (from pytorch_lightning==1.0.4) (2.4.1)\n",
      "Requirement already satisfied: future>=0.17.1 in c:\\users\\roel\\.virtualenvs\\diagcovid-ckc2berq\\lib\\site-packages (from pytorch_lightning==1.0.4) (0.18.2)\n",
      "Requirement already satisfied: numpy>=1.16.4 in c:\\users\\roel\\.virtualenvs\\diagcovid-ckc2berq\\lib\\site-packages (from pytorch_lightning==1.0.4) (1.20.1)\n",
      "Requirement already satisfied: tqdm>=4.41.0 in c:\\users\\roel\\.virtualenvs\\diagcovid-ckc2berq\\lib\\site-packages (from pytorch_lightning==1.0.4) (4.59.0)\n",
      "Requirement already satisfied: importlib-metadata in c:\\users\\roel\\.virtualenvs\\diagcovid-ckc2berq\\lib\\site-packages (from fsspec>=0.8.0->pytorch_lightning==1.0.4) (3.10.0)\n",
      "Requirement already satisfied: wheel>=0.26 in c:\\users\\roel\\.virtualenvs\\diagcovid-ckc2berq\\lib\\site-packages (from tensorboard>=2.2.0->pytorch_lightning==1.0.4) (0.36.2)\n",
      "Requirement already satisfied: google-auth<2,>=1.6.3 in c:\\users\\roel\\.virtualenvs\\diagcovid-ckc2berq\\lib\\site-packages (from tensorboard>=2.2.0->pytorch_lightning==1.0.4) (1.28.0)\n",
      "Requirement already satisfied: tensorboard-plugin-wit>=1.6.0 in c:\\users\\roel\\.virtualenvs\\diagcovid-ckc2berq\\lib\\site-packages (from tensorboard>=2.2.0->pytorch_lightning==1.0.4) (1.8.0)\n",
      "Requirement already satisfied: markdown>=2.6.8 in c:\\users\\roel\\.virtualenvs\\diagcovid-ckc2berq\\lib\\site-packages (from tensorboard>=2.2.0->pytorch_lightning==1.0.4) (3.3.4)\n",
      "Requirement already satisfied: six>=1.10.0 in c:\\users\\roel\\.virtualenvs\\diagcovid-ckc2berq\\lib\\site-packages (from tensorboard>=2.2.0->pytorch_lightning==1.0.4) (1.15.0)\n",
      "Requirement already satisfied: protobuf>=3.6.0 in c:\\users\\roel\\.virtualenvs\\diagcovid-ckc2berq\\lib\\site-packages (from tensorboard>=2.2.0->pytorch_lightning==1.0.4) (3.15.6)\n",
      "Requirement already satisfied: grpcio>=1.24.3 in c:\\users\\roel\\.virtualenvs\\diagcovid-ckc2berq\\lib\\site-packages (from tensorboard>=2.2.0->pytorch_lightning==1.0.4) (1.36.1)\n",
      "Requirement already satisfied: werkzeug>=0.11.15 in c:\\users\\roel\\.virtualenvs\\diagcovid-ckc2berq\\lib\\site-packages (from tensorboard>=2.2.0->pytorch_lightning==1.0.4) (1.0.1)\n",
      "Requirement already satisfied: absl-py>=0.4 in c:\\users\\roel\\.virtualenvs\\diagcovid-ckc2berq\\lib\\site-packages (from tensorboard>=2.2.0->pytorch_lightning==1.0.4) (0.12.0)\n",
      "Requirement already satisfied: google-auth-oauthlib<0.5,>=0.4.1 in c:\\users\\roel\\.virtualenvs\\diagcovid-ckc2berq\\lib\\site-packages (from tensorboard>=2.2.0->pytorch_lightning==1.0.4) (0.4.4)\n",
      "Requirement already satisfied: setuptools>=41.0.0 in c:\\users\\roel\\.virtualenvs\\diagcovid-ckc2berq\\lib\\site-packages (from tensorboard>=2.2.0->pytorch_lightning==1.0.4) (54.1.2)\n",
      "Requirement already satisfied: requests<3,>=2.21.0 in c:\\users\\roel\\.virtualenvs\\diagcovid-ckc2berq\\lib\\site-packages (from tensorboard>=2.2.0->pytorch_lightning==1.0.4) (2.25.1)\n",
      "Requirement already satisfied: cachetools<5.0,>=2.0.0 in c:\\users\\roel\\.virtualenvs\\diagcovid-ckc2berq\\lib\\site-packages (from google-auth<2,>=1.6.3->tensorboard>=2.2.0->pytorch_lightning==1.0.4) (4.2.1)\n",
      "Requirement already satisfied: rsa<5,>=3.1.4 in c:\\users\\roel\\.virtualenvs\\diagcovid-ckc2berq\\lib\\site-packages (from google-auth<2,>=1.6.3->tensorboard>=2.2.0->pytorch_lightning==1.0.4) (4.7.2)\n",
      "Requirement already satisfied: pyasn1-modules>=0.2.1 in c:\\users\\roel\\.virtualenvs\\diagcovid-ckc2berq\\lib\\site-packages (from google-auth<2,>=1.6.3->tensorboard>=2.2.0->pytorch_lightning==1.0.4) (0.2.8)\n",
      "Requirement already satisfied: requests-oauthlib>=0.7.0 in c:\\users\\roel\\.virtualenvs\\diagcovid-ckc2berq\\lib\\site-packages (from google-auth-oauthlib<0.5,>=0.4.1->tensorboard>=2.2.0->pytorch_lightning==1.0.4) (1.3.0)\n",
      "Requirement already satisfied: pyasn1<0.5.0,>=0.4.6 in c:\\users\\roel\\.virtualenvs\\diagcovid-ckc2berq\\lib\\site-packages (from pyasn1-modules>=0.2.1->google-auth<2,>=1.6.3->tensorboard>=2.2.0->pytorch_lightning==1.0.4) (0.4.8)\n",
      "Requirement already satisfied: urllib3<1.27,>=1.21.1 in c:\\users\\roel\\.virtualenvs\\diagcovid-ckc2berq\\lib\\site-packages (from requests<3,>=2.21.0->tensorboard>=2.2.0->pytorch_lightning==1.0.4) (1.26.4)\n",
      "Requirement already satisfied: idna<3,>=2.5 in c:\\users\\roel\\.virtualenvs\\diagcovid-ckc2berq\\lib\\site-packages (from requests<3,>=2.21.0->tensorboard>=2.2.0->pytorch_lightning==1.0.4) (2.10)\n",
      "Requirement already satisfied: chardet<5,>=3.0.2 in c:\\users\\roel\\.virtualenvs\\diagcovid-ckc2berq\\lib\\site-packages (from requests<3,>=2.21.0->tensorboard>=2.2.0->pytorch_lightning==1.0.4) (4.0.0)\n",
      "Requirement already satisfied: certifi>=2017.4.17 in c:\\users\\roel\\.virtualenvs\\diagcovid-ckc2berq\\lib\\site-packages (from requests<3,>=2.21.0->tensorboard>=2.2.0->pytorch_lightning==1.0.4) (2020.12.5)\n",
      "Requirement already satisfied: oauthlib>=3.0.0 in c:\\users\\roel\\.virtualenvs\\diagcovid-ckc2berq\\lib\\site-packages (from requests-oauthlib>=0.7.0->google-auth-oauthlib<0.5,>=0.4.1->tensorboard>=2.2.0->pytorch_lightning==1.0.4) (3.1.0)\n",
      "Requirement already satisfied: typing-extensions in c:\\users\\roel\\.virtualenvs\\diagcovid-ckc2berq\\lib\\site-packages (from torch>=1.3->pytorch_lightning==1.0.4) (3.7.4.3)\n",
      "Requirement already satisfied: zipp>=0.5 in c:\\users\\roel\\.virtualenvs\\diagcovid-ckc2berq\\lib\\site-packages (from importlib-metadata->fsspec>=0.8.0->pytorch_lightning==1.0.4) (3.4.1)\n",
      "Installing collected packages: pytorch-lightning\n",
      "  Attempting uninstall: pytorch-lightning\n",
      "    Found existing installation: pytorch-lightning 1.2.6\n",
      "    Uninstalling pytorch-lightning-1.2.6:\n",
      "      Successfully uninstalled pytorch-lightning-1.2.6\n",
      "Successfully installed pytorch-lightning-1.0.4\n"
     ]
    }
   ],
   "source": [
    "!pip install --upgrade pytorch_lightning==1.0.4"
   ]
  },
  {
   "cell_type": "code",
   "execution_count": 9,
   "id": "quiet-round",
   "metadata": {},
   "outputs": [
    {
     "name": "stdout",
     "output_type": "stream",
     "text": [
      "Name: pytorch-lightning\n",
      "Version: 1.0.4\n",
      "Summary: PyTorch Lightning is the lightweight PyTorch wrapper for ML researchers. Scale your models. Write less boilerplate.\n",
      "Home-page: https://github.com/PyTorchLightning/pytorch-lightning\n",
      "Author: William Falcon et al.\n",
      "Author-email: waf2107@columbia.edu\n",
      "License: Apache-2.0\n",
      "Location: c:\\users\\roel\\.virtualenvs\\diagcovid-ckc2berq\\lib\\site-packages\n",
      "Requires: tensorboard, PyYAML, torch, tqdm, fsspec, future, numpy\n",
      "Required-by: lightly\n"
     ]
    }
   ],
   "source": [
    "!pip show pytorch_lightning"
   ]
  },
  {
   "cell_type": "code",
   "execution_count": 40,
   "id": "copyrighted-appeal",
   "metadata": {},
   "outputs": [],
   "source": [
    "import pandas as pd"
   ]
  },
  {
   "cell_type": "code",
   "execution_count": 50,
   "id": "insured-shannon",
   "metadata": {},
   "outputs": [],
   "source": [
    "embeddings = pd.read_csv('lightly_outputs/2021-04-06/17-12-21/embeddings.csv')\n",
    "embeddings['label'] = embeddings.filenames.str.contains('b')"
   ]
  },
  {
   "cell_type": "code",
   "execution_count": 51,
   "id": "exterior-robin",
   "metadata": {},
   "outputs": [
    {
     "data": {
      "text/html": [
       "<div>\n",
       "<style scoped>\n",
       "    .dataframe tbody tr th:only-of-type {\n",
       "        vertical-align: middle;\n",
       "    }\n",
       "\n",
       "    .dataframe tbody tr th {\n",
       "        vertical-align: top;\n",
       "    }\n",
       "\n",
       "    .dataframe thead th {\n",
       "        text-align: right;\n",
       "    }\n",
       "</style>\n",
       "<table border=\"1\" class=\"dataframe\">\n",
       "  <thead>\n",
       "    <tr style=\"text-align: right;\">\n",
       "      <th></th>\n",
       "      <th>filenames</th>\n",
       "      <th>embedding_0</th>\n",
       "      <th>embedding_1</th>\n",
       "      <th>embedding_2</th>\n",
       "      <th>embedding_3</th>\n",
       "      <th>embedding_4</th>\n",
       "      <th>embedding_5</th>\n",
       "      <th>embedding_6</th>\n",
       "      <th>embedding_7</th>\n",
       "      <th>embedding_8</th>\n",
       "      <th>...</th>\n",
       "      <th>embedding_24</th>\n",
       "      <th>embedding_25</th>\n",
       "      <th>embedding_26</th>\n",
       "      <th>embedding_27</th>\n",
       "      <th>embedding_28</th>\n",
       "      <th>embedding_29</th>\n",
       "      <th>embedding_30</th>\n",
       "      <th>embedding_31</th>\n",
       "      <th>labels</th>\n",
       "      <th>label</th>\n",
       "    </tr>\n",
       "  </thead>\n",
       "  <tbody>\n",
       "    <tr>\n",
       "      <th>0</th>\n",
       "      <td>a\\0.tiff</td>\n",
       "      <td>0.631750</td>\n",
       "      <td>0.135141</td>\n",
       "      <td>0.223823</td>\n",
       "      <td>0.363638</td>\n",
       "      <td>-0.073308</td>\n",
       "      <td>0.073137</td>\n",
       "      <td>-0.082805</td>\n",
       "      <td>-0.654318</td>\n",
       "      <td>0.400650</td>\n",
       "      <td>...</td>\n",
       "      <td>0.024255</td>\n",
       "      <td>-0.094360</td>\n",
       "      <td>0.307903</td>\n",
       "      <td>0.146647</td>\n",
       "      <td>-0.381720</td>\n",
       "      <td>0.862298</td>\n",
       "      <td>0.124722</td>\n",
       "      <td>-0.464208</td>\n",
       "      <td>0</td>\n",
       "      <td>False</td>\n",
       "    </tr>\n",
       "    <tr>\n",
       "      <th>1</th>\n",
       "      <td>a\\1.tiff</td>\n",
       "      <td>0.629933</td>\n",
       "      <td>0.198157</td>\n",
       "      <td>0.294484</td>\n",
       "      <td>0.389673</td>\n",
       "      <td>-0.041127</td>\n",
       "      <td>-0.012093</td>\n",
       "      <td>-0.053142</td>\n",
       "      <td>-0.600220</td>\n",
       "      <td>0.380662</td>\n",
       "      <td>...</td>\n",
       "      <td>0.067606</td>\n",
       "      <td>-0.081894</td>\n",
       "      <td>0.346567</td>\n",
       "      <td>0.178877</td>\n",
       "      <td>-0.453919</td>\n",
       "      <td>0.910067</td>\n",
       "      <td>0.086063</td>\n",
       "      <td>-0.469467</td>\n",
       "      <td>0</td>\n",
       "      <td>False</td>\n",
       "    </tr>\n",
       "    <tr>\n",
       "      <th>2</th>\n",
       "      <td>a\\10.tiff</td>\n",
       "      <td>0.651616</td>\n",
       "      <td>0.185362</td>\n",
       "      <td>0.279296</td>\n",
       "      <td>0.383249</td>\n",
       "      <td>-0.064057</td>\n",
       "      <td>0.009271</td>\n",
       "      <td>-0.064175</td>\n",
       "      <td>-0.596428</td>\n",
       "      <td>0.400369</td>\n",
       "      <td>...</td>\n",
       "      <td>0.066288</td>\n",
       "      <td>-0.083154</td>\n",
       "      <td>0.353677</td>\n",
       "      <td>0.153413</td>\n",
       "      <td>-0.444636</td>\n",
       "      <td>0.891457</td>\n",
       "      <td>0.103996</td>\n",
       "      <td>-0.489240</td>\n",
       "      <td>0</td>\n",
       "      <td>False</td>\n",
       "    </tr>\n",
       "    <tr>\n",
       "      <th>3</th>\n",
       "      <td>a\\100.tiff</td>\n",
       "      <td>0.643270</td>\n",
       "      <td>0.178431</td>\n",
       "      <td>0.260471</td>\n",
       "      <td>0.375704</td>\n",
       "      <td>-0.049810</td>\n",
       "      <td>0.070997</td>\n",
       "      <td>-0.069119</td>\n",
       "      <td>-0.682432</td>\n",
       "      <td>0.393216</td>\n",
       "      <td>...</td>\n",
       "      <td>0.036365</td>\n",
       "      <td>-0.082869</td>\n",
       "      <td>0.343733</td>\n",
       "      <td>0.175767</td>\n",
       "      <td>-0.435390</td>\n",
       "      <td>0.927287</td>\n",
       "      <td>0.159751</td>\n",
       "      <td>-0.474876</td>\n",
       "      <td>0</td>\n",
       "      <td>False</td>\n",
       "    </tr>\n",
       "    <tr>\n",
       "      <th>4</th>\n",
       "      <td>a\\101.tiff</td>\n",
       "      <td>0.658543</td>\n",
       "      <td>0.207450</td>\n",
       "      <td>0.302897</td>\n",
       "      <td>0.402908</td>\n",
       "      <td>-0.037910</td>\n",
       "      <td>0.010552</td>\n",
       "      <td>-0.057553</td>\n",
       "      <td>-0.634830</td>\n",
       "      <td>0.400712</td>\n",
       "      <td>...</td>\n",
       "      <td>0.069403</td>\n",
       "      <td>-0.090388</td>\n",
       "      <td>0.369418</td>\n",
       "      <td>0.181070</td>\n",
       "      <td>-0.481589</td>\n",
       "      <td>0.954931</td>\n",
       "      <td>0.128951</td>\n",
       "      <td>-0.490112</td>\n",
       "      <td>0</td>\n",
       "      <td>False</td>\n",
       "    </tr>\n",
       "    <tr>\n",
       "      <th>...</th>\n",
       "      <td>...</td>\n",
       "      <td>...</td>\n",
       "      <td>...</td>\n",
       "      <td>...</td>\n",
       "      <td>...</td>\n",
       "      <td>...</td>\n",
       "      <td>...</td>\n",
       "      <td>...</td>\n",
       "      <td>...</td>\n",
       "      <td>...</td>\n",
       "      <td>...</td>\n",
       "      <td>...</td>\n",
       "      <td>...</td>\n",
       "      <td>...</td>\n",
       "      <td>...</td>\n",
       "      <td>...</td>\n",
       "      <td>...</td>\n",
       "      <td>...</td>\n",
       "      <td>...</td>\n",
       "      <td>...</td>\n",
       "      <td>...</td>\n",
       "    </tr>\n",
       "    <tr>\n",
       "      <th>995</th>\n",
       "      <td>b\\95.tiff</td>\n",
       "      <td>0.666526</td>\n",
       "      <td>0.092046</td>\n",
       "      <td>0.226021</td>\n",
       "      <td>0.405351</td>\n",
       "      <td>-0.103527</td>\n",
       "      <td>0.110270</td>\n",
       "      <td>-0.131303</td>\n",
       "      <td>-0.640028</td>\n",
       "      <td>0.416528</td>\n",
       "      <td>...</td>\n",
       "      <td>-0.017388</td>\n",
       "      <td>-0.081467</td>\n",
       "      <td>0.311955</td>\n",
       "      <td>0.097945</td>\n",
       "      <td>-0.397150</td>\n",
       "      <td>0.851438</td>\n",
       "      <td>0.129669</td>\n",
       "      <td>-0.442392</td>\n",
       "      <td>1</td>\n",
       "      <td>True</td>\n",
       "    </tr>\n",
       "    <tr>\n",
       "      <th>996</th>\n",
       "      <td>b\\96.tiff</td>\n",
       "      <td>0.644406</td>\n",
       "      <td>0.162971</td>\n",
       "      <td>0.271914</td>\n",
       "      <td>0.397598</td>\n",
       "      <td>-0.035402</td>\n",
       "      <td>0.026112</td>\n",
       "      <td>-0.065004</td>\n",
       "      <td>-0.613163</td>\n",
       "      <td>0.404062</td>\n",
       "      <td>...</td>\n",
       "      <td>0.056863</td>\n",
       "      <td>-0.095101</td>\n",
       "      <td>0.351612</td>\n",
       "      <td>0.156435</td>\n",
       "      <td>-0.441801</td>\n",
       "      <td>0.913515</td>\n",
       "      <td>0.108514</td>\n",
       "      <td>-0.478206</td>\n",
       "      <td>1</td>\n",
       "      <td>True</td>\n",
       "    </tr>\n",
       "    <tr>\n",
       "      <th>997</th>\n",
       "      <td>b\\97.tiff</td>\n",
       "      <td>0.616241</td>\n",
       "      <td>0.104160</td>\n",
       "      <td>0.184371</td>\n",
       "      <td>0.321377</td>\n",
       "      <td>-0.104550</td>\n",
       "      <td>0.065994</td>\n",
       "      <td>-0.089711</td>\n",
       "      <td>-0.581212</td>\n",
       "      <td>0.379221</td>\n",
       "      <td>...</td>\n",
       "      <td>0.015036</td>\n",
       "      <td>-0.081073</td>\n",
       "      <td>0.295150</td>\n",
       "      <td>0.112474</td>\n",
       "      <td>-0.321440</td>\n",
       "      <td>0.756116</td>\n",
       "      <td>0.112678</td>\n",
       "      <td>-0.452731</td>\n",
       "      <td>1</td>\n",
       "      <td>True</td>\n",
       "    </tr>\n",
       "    <tr>\n",
       "      <th>998</th>\n",
       "      <td>b\\98.tiff</td>\n",
       "      <td>0.618072</td>\n",
       "      <td>0.189312</td>\n",
       "      <td>0.281979</td>\n",
       "      <td>0.366635</td>\n",
       "      <td>-0.066572</td>\n",
       "      <td>0.000974</td>\n",
       "      <td>-0.065350</td>\n",
       "      <td>-0.616626</td>\n",
       "      <td>0.379001</td>\n",
       "      <td>...</td>\n",
       "      <td>0.053590</td>\n",
       "      <td>-0.092814</td>\n",
       "      <td>0.357552</td>\n",
       "      <td>0.191550</td>\n",
       "      <td>-0.428410</td>\n",
       "      <td>0.892665</td>\n",
       "      <td>0.122190</td>\n",
       "      <td>-0.469385</td>\n",
       "      <td>1</td>\n",
       "      <td>True</td>\n",
       "    </tr>\n",
       "    <tr>\n",
       "      <th>999</th>\n",
       "      <td>b\\99.tiff</td>\n",
       "      <td>0.653849</td>\n",
       "      <td>0.128196</td>\n",
       "      <td>0.256659</td>\n",
       "      <td>0.375724</td>\n",
       "      <td>-0.058518</td>\n",
       "      <td>0.056265</td>\n",
       "      <td>-0.076649</td>\n",
       "      <td>-0.605412</td>\n",
       "      <td>0.403606</td>\n",
       "      <td>...</td>\n",
       "      <td>0.045135</td>\n",
       "      <td>-0.084957</td>\n",
       "      <td>0.330672</td>\n",
       "      <td>0.124633</td>\n",
       "      <td>-0.417247</td>\n",
       "      <td>0.881344</td>\n",
       "      <td>0.128165</td>\n",
       "      <td>-0.487765</td>\n",
       "      <td>1</td>\n",
       "      <td>True</td>\n",
       "    </tr>\n",
       "  </tbody>\n",
       "</table>\n",
       "<p>1000 rows × 35 columns</p>\n",
       "</div>"
      ],
      "text/plain": [
       "      filenames  embedding_0  embedding_1  embedding_2  embedding_3  \\\n",
       "0      a\\0.tiff     0.631750     0.135141     0.223823     0.363638   \n",
       "1      a\\1.tiff     0.629933     0.198157     0.294484     0.389673   \n",
       "2     a\\10.tiff     0.651616     0.185362     0.279296     0.383249   \n",
       "3    a\\100.tiff     0.643270     0.178431     0.260471     0.375704   \n",
       "4    a\\101.tiff     0.658543     0.207450     0.302897     0.402908   \n",
       "..          ...          ...          ...          ...          ...   \n",
       "995   b\\95.tiff     0.666526     0.092046     0.226021     0.405351   \n",
       "996   b\\96.tiff     0.644406     0.162971     0.271914     0.397598   \n",
       "997   b\\97.tiff     0.616241     0.104160     0.184371     0.321377   \n",
       "998   b\\98.tiff     0.618072     0.189312     0.281979     0.366635   \n",
       "999   b\\99.tiff     0.653849     0.128196     0.256659     0.375724   \n",
       "\n",
       "     embedding_4  embedding_5  embedding_6  embedding_7  embedding_8  ...  \\\n",
       "0      -0.073308     0.073137    -0.082805    -0.654318     0.400650  ...   \n",
       "1      -0.041127    -0.012093    -0.053142    -0.600220     0.380662  ...   \n",
       "2      -0.064057     0.009271    -0.064175    -0.596428     0.400369  ...   \n",
       "3      -0.049810     0.070997    -0.069119    -0.682432     0.393216  ...   \n",
       "4      -0.037910     0.010552    -0.057553    -0.634830     0.400712  ...   \n",
       "..           ...          ...          ...          ...          ...  ...   \n",
       "995    -0.103527     0.110270    -0.131303    -0.640028     0.416528  ...   \n",
       "996    -0.035402     0.026112    -0.065004    -0.613163     0.404062  ...   \n",
       "997    -0.104550     0.065994    -0.089711    -0.581212     0.379221  ...   \n",
       "998    -0.066572     0.000974    -0.065350    -0.616626     0.379001  ...   \n",
       "999    -0.058518     0.056265    -0.076649    -0.605412     0.403606  ...   \n",
       "\n",
       "     embedding_24  embedding_25  embedding_26  embedding_27  embedding_28  \\\n",
       "0        0.024255     -0.094360      0.307903      0.146647     -0.381720   \n",
       "1        0.067606     -0.081894      0.346567      0.178877     -0.453919   \n",
       "2        0.066288     -0.083154      0.353677      0.153413     -0.444636   \n",
       "3        0.036365     -0.082869      0.343733      0.175767     -0.435390   \n",
       "4        0.069403     -0.090388      0.369418      0.181070     -0.481589   \n",
       "..            ...           ...           ...           ...           ...   \n",
       "995     -0.017388     -0.081467      0.311955      0.097945     -0.397150   \n",
       "996      0.056863     -0.095101      0.351612      0.156435     -0.441801   \n",
       "997      0.015036     -0.081073      0.295150      0.112474     -0.321440   \n",
       "998      0.053590     -0.092814      0.357552      0.191550     -0.428410   \n",
       "999      0.045135     -0.084957      0.330672      0.124633     -0.417247   \n",
       "\n",
       "     embedding_29  embedding_30  embedding_31  labels  label  \n",
       "0        0.862298      0.124722     -0.464208       0  False  \n",
       "1        0.910067      0.086063     -0.469467       0  False  \n",
       "2        0.891457      0.103996     -0.489240       0  False  \n",
       "3        0.927287      0.159751     -0.474876       0  False  \n",
       "4        0.954931      0.128951     -0.490112       0  False  \n",
       "..            ...           ...           ...     ...    ...  \n",
       "995      0.851438      0.129669     -0.442392       1   True  \n",
       "996      0.913515      0.108514     -0.478206       1   True  \n",
       "997      0.756116      0.112678     -0.452731       1   True  \n",
       "998      0.892665      0.122190     -0.469385       1   True  \n",
       "999      0.881344      0.128165     -0.487765       1   True  \n",
       "\n",
       "[1000 rows x 35 columns]"
      ]
     },
     "execution_count": 51,
     "metadata": {},
     "output_type": "execute_result"
    }
   ],
   "source": [
    "embeddings"
   ]
  },
  {
   "cell_type": "code",
   "execution_count": 52,
   "id": "desperate-drama",
   "metadata": {},
   "outputs": [],
   "source": [
    "from lightgbm.sklearn import LGBMClassifier\n",
    "from sklearn.model_selection import cross_validate"
   ]
  },
  {
   "cell_type": "code",
   "execution_count": 53,
   "id": "banner-coordination",
   "metadata": {},
   "outputs": [
    {
     "data": {
      "text/plain": [
       "LGBMClassifier()"
      ]
     },
     "execution_count": 53,
     "metadata": {},
     "output_type": "execute_result"
    }
   ],
   "source": [
    "clf = LGBMClassifier(n_jobs=-1)\n",
    "clf.fit(embeddings.loc[:, embeddings.columns.str.startswith('embedding')], embeddings['label'])"
   ]
  },
  {
   "cell_type": "code",
   "execution_count": 54,
   "id": "joint-aerospace",
   "metadata": {},
   "outputs": [
    {
     "data": {
      "text/plain": [
       "{'fit_time': array([0.18099856, 0.14100122, 0.14400101, 0.16499805, 0.13499832]),\n",
       " 'score_time': array([0.00599885, 0.00400066, 0.00399876, 0.00300217, 0.00400114]),\n",
       " 'test_score': array([0.9045, 0.8632, 0.8913, 0.8895, 0.9128])}"
      ]
     },
     "execution_count": 54,
     "metadata": {},
     "output_type": "execute_result"
    }
   ],
   "source": [
    "cross_validate(clf, embeddings.loc[:, embeddings.columns.str.startswith('embedding')], embeddings['label'], scoring='roc_auc')"
   ]
  },
  {
   "cell_type": "code",
   "execution_count": 55,
   "id": "enabling-vanilla",
   "metadata": {},
   "outputs": [],
   "source": [
    "from sklearn.manifold import TSNE\n",
    "embeddings_2d = TSNE(n_components=2).fit_transform(embeddings.loc[:, embeddings.columns.str.startswith('embedding')])"
   ]
  },
  {
   "cell_type": "code",
   "execution_count": 58,
   "id": "hispanic-corporation",
   "metadata": {},
   "outputs": [
    {
     "data": {
      "text/plain": [
       "<matplotlib.collections.PathCollection at 0x172ba988708>"
      ]
     },
     "execution_count": 58,
     "metadata": {},
     "output_type": "execute_result"
    },
    {
     "data": {
      "image/png": "[encoded data removed]",
      "text/plain": [
       "<Figure size 432x288 with 1 Axes>"
      ]
     },
     "metadata": {
      "needs_background": "light"
     },
     "output_type": "display_data"
    }
   ],
   "source": [
    "plt.scatter(embeddings_2d[embeddings['label'] == 0, 0], embeddings_2d[embeddings['label'] == 0, 1], color='r')\n",
    "plt.scatter(embeddings_2d[embeddings['label'] == 1, 0], embeddings_2d[embeddings['label'] == 1, 1], color='b')"
   ]
  },
  {
   "cell_type": "code",
   "execution_count": null,
   "id": "damaged-framework",
   "metadata": {},
   "outputs": [],
   "source": []
  }
 ],
 "metadata": {
  "kernelspec": {
   "display_name": "Python 3",
   "language": "python",
   "name": "python3"
  },
  "language_info": {
   "codemirror_mode": {
    "name": "ipython",
    "version": 3
   },
   "file_extension": ".py",
   "mimetype": "text/x-python",
   "name": "python",
   "nbconvert_exporter": "python",
   "pygments_lexer": "ipython3",
   "version": "3.7.9"
  }
 },
 "nbformat": 4,
 "nbformat_minor": 5
}
