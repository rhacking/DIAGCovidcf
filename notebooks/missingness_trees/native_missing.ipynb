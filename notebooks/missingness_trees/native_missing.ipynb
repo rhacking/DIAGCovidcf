{
 "cells": [
  {
   "cell_type": "code",
   "execution_count": 1,
   "id": "designed-variable",
   "metadata": {},
   "outputs": [],
   "source": [
    "from sklearn.base import BaseEstimator, ClassifierMixin\n",
    "import numpy as np\n",
    "from sklearn.datasets import load_breast_cancer\n",
    "from typing import List, Any"
   ]
  },
  {
   "cell_type": "code",
   "execution_count": 2,
   "id": "infinite-benefit",
   "metadata": {},
   "outputs": [],
   "source": [
    "from numba import njit, prange\n",
    "@njit(fastmath=True)\n",
    "def gini_impurity(X: np.ndarray):\n",
    "#     print([((y==c).sum()/len(y))**2 for c in np.unique(y)])\n",
    "#     return 1 - np.sum([((X[:, -1]==c).sum()/X.shape[0])**2 for c in np.unique(X[:, -1])])\n",
    "    result = 0\n",
    "    classes = np.unique(X[:, -1])\n",
    "    for c in classes:\n",
    "        result += ((X[:, -1]==c).sum()/X.shape[0])**2\n",
    "    return 1 - result\n",
    "\n",
    "@njit(fastmath=True)\n",
    "def gini_index(Xs: List[np.ndarray]):\n",
    "#     total_size = np.sum(np.array([X.shape[0] for X in Xs]))\n",
    "    total_size = 0\n",
    "    for X in Xs:\n",
    "        total_size += X.shape[0]\n",
    "    if total_size == 0:\n",
    "        return 1\n",
    "    result = 0\n",
    "    for X in Xs:\n",
    "        result += X.shape[0]/total_size * gini_impurity(X)\n",
    "    return result\n",
    "#     return np.sum([X.shape[0]/total_size * gini_impurity(X) for X in Xs])"
   ]
  },
  {
   "cell_type": "code",
   "execution_count": 3,
   "id": "guilty-washington",
   "metadata": {},
   "outputs": [],
   "source": [
    "@njit\n",
    "def split_data(X: np.ndarray, feature_index: int, split_value: float):\n",
    "#     is_na = ~((X[:, feature_index] < split_value) | (X[:, feature_index] >= split_value))\n",
    "    is_na = np.isnan(X[:, feature_index])\n",
    "    left = X[(X[:, feature_index] < split_value) | is_na]\n",
    "    right = X[(X[:, feature_index] >= split_value) | is_na]\n",
    "    return left, right"
   ]
  },
  {
   "cell_type": "code",
   "execution_count": 4,
   "id": "royal-stake",
   "metadata": {},
   "outputs": [],
   "source": [
    "@njit\n",
    "def generate_split_points(X: np.ndarray, feature_index: int):\n",
    "    splits = np.sort(X[:, feature_index])\n",
    "    return set(splits[~np.isnan(splits)])"
   ]
  },
  {
   "cell_type": "code",
   "execution_count": 5,
   "id": "arranged-constraint",
   "metadata": {},
   "outputs": [],
   "source": [
    "from dataclasses import dataclass\n",
    "from typing import Union\n",
    "\n",
    "@dataclass\n",
    "class Leaf:\n",
    "    value: int\n",
    "    n_samples: int\n",
    "\n",
    "@dataclass\n",
    "class Tree:\n",
    "    left: Union['Tree', Leaf]\n",
    "    right: Union['Tree', Leaf]\n",
    "    split_feature: int\n",
    "    split_value: float\n",
    "    n_samples: int"
   ]
  },
  {
   "cell_type": "code",
   "execution_count": 6,
   "id": "single-battle",
   "metadata": {},
   "outputs": [],
   "source": [
    "@njit(fastmath=True)\n",
    "def get_split(X: np.ndarray):\n",
    "    best_gini, best_feature, best_split, best_groups = np.inf, None, None, None\n",
    "    for feature_index in range(X.shape[1]-1):\n",
    "        for split_value in generate_split_points(X, feature_index):\n",
    "            groups = split_data(X, feature_index, split_value)\n",
    "            gini = gini_index(groups)\n",
    "            if gini < best_gini:\n",
    "                best_gini = gini\n",
    "                best_feature = feature_index\n",
    "                best_split = split_value\n",
    "                best_groups = groups\n",
    "    current_gini = gini_impurity(X)\n",
    "    if current_gini < best_gini:\n",
    "        return 0, 0, 0, (None, None)\n",
    "    return best_feature, best_split, best_gini, best_groups"
   ]
  },
  {
   "cell_type": "code",
   "execution_count": 7,
   "id": "literary-youth",
   "metadata": {},
   "outputs": [],
   "source": [
    "def most_frequent(a: np.ndarray):\n",
    "    values, counts = np.unique(a, return_counts=True)\n",
    "    ind = np.argmax(counts)\n",
    "    return values[ind]"
   ]
  },
  {
   "cell_type": "code",
   "execution_count": 8,
   "id": "alone-behavior",
   "metadata": {},
   "outputs": [],
   "source": [
    "def decision_tree(X: np.ndarray, last_gini=None):\n",
    "    best_feature, best_split, best_gini, (left, right) = get_split(X)\n",
    "#     print(best_gini)\n",
    "#     print(left is None)\n",
    "    if left is None or last_gini == best_gini:\n",
    "        return Leaf(most_frequent(X[:, -1]), X.shape[0])\n",
    "#     print(len(np.unique(left[:, -1])))\n",
    "#     print(np.unique(left[:, -1]))\n",
    "#     print(len(left))\n",
    "    if len(np.unique(left[:, -1])) == 1:\n",
    "#         print('left leaf')\n",
    "        left_tree = Leaf(most_frequent(left[:, -1]), left.shape[0])\n",
    "    elif len(np.unique(left[:, -1])) == 0:\n",
    "#         print('left leaf')\n",
    "        left_tree = Leaf(most_frequent(X[:, -1]), 1)\n",
    "    else:\n",
    "#         print('recurse')\n",
    "        left_tree = decision_tree(left, last_gini=best_gini)\n",
    "    \n",
    "#     print(len(np.unique(right[:, -1])))\n",
    "#     print(np.unique(right[:, -1]))\n",
    "#     print(len(right))\n",
    "#     print()\n",
    "    if len(np.unique(right[:, -1])) == 1:\n",
    "        right_tree = Leaf(most_frequent(right[:, -1]), right.shape[0])\n",
    "    elif len(np.unique(right[:, -1])) == 0:\n",
    "        right_tree = Leaf(most_frequent(X[:, -1]), 1)\n",
    "    else:\n",
    "#         print('right recurse')\n",
    "#         print(best_split)\n",
    "#         print(best_feature)\n",
    "#         print(np.unique(right[best_feature]))\n",
    "#         print(gini_index([left, right]))\n",
    "#         print(gini_impurity(right))\n",
    "        right_tree = decision_tree(right, last_gini=best_gini)\n",
    "    \n",
    "    return Tree(left_tree, right_tree, best_feature, best_split, X.shape[0])"
   ]
  },
  {
   "cell_type": "code",
   "execution_count": 9,
   "id": "compressed-earth",
   "metadata": {},
   "outputs": [
    {
     "ename": "NameError",
     "evalue": "name 'X_train' is not defined",
     "output_type": "error",
     "traceback": [
      "\u001b[1;31m---------------------------------------------------------------------------\u001b[0m",
      "\u001b[1;31mNameError\u001b[0m                                 Traceback (most recent call last)",
      "\u001b[1;32m<ipython-input-9-75d7afb1158c>\u001b[0m in \u001b[0;36m<module>\u001b[1;34m\u001b[0m\n\u001b[1;32m----> 1\u001b[1;33m \u001b[0mt\u001b[0m \u001b[1;33m=\u001b[0m \u001b[0mdecision_tree\u001b[0m\u001b[1;33m(\u001b[0m\u001b[0mnp\u001b[0m\u001b[1;33m.\u001b[0m\u001b[0mconcatenate\u001b[0m\u001b[1;33m(\u001b[0m\u001b[1;33m[\u001b[0m\u001b[1;33m(\u001b[0m\u001b[0mX_train\u001b[0m\u001b[1;33m)\u001b[0m\u001b[1;33m,\u001b[0m \u001b[0my_train\u001b[0m\u001b[1;33m[\u001b[0m\u001b[1;33m:\u001b[0m\u001b[1;33m,\u001b[0m \u001b[1;32mNone\u001b[0m\u001b[1;33m]\u001b[0m\u001b[1;33m]\u001b[0m\u001b[1;33m,\u001b[0m \u001b[0maxis\u001b[0m\u001b[1;33m=\u001b[0m\u001b[1;36m1\u001b[0m\u001b[1;33m)\u001b[0m\u001b[1;33m)\u001b[0m\u001b[1;33m\u001b[0m\u001b[1;33m\u001b[0m\u001b[0m\n\u001b[0m",
      "\u001b[1;31mNameError\u001b[0m: name 'X_train' is not defined"
     ]
    }
   ],
   "source": [
    "t = decision_tree(np.concatenate([(X_train), y_train[:, None]], axis=1))"
   ]
  },
  {
   "cell_type": "code",
   "execution_count": 11,
   "id": "generous-enterprise",
   "metadata": {},
   "outputs": [],
   "source": [
    "X, y = load_breast_cancer(return_X_y=True)"
   ]
  },
  {
   "cell_type": "code",
   "execution_count": 12,
   "id": "breeding-footwear",
   "metadata": {},
   "outputs": [
    {
     "data": {
      "text/plain": [
       "((569, 30), (569, 31))"
      ]
     },
     "execution_count": 12,
     "metadata": {},
     "output_type": "execute_result"
    }
   ],
   "source": [
    "X.shape, np.concatenate([X, y[:, None]], axis=1).shape"
   ]
  },
  {
   "cell_type": "code",
   "execution_count": 13,
   "id": "unauthorized-shoot",
   "metadata": {},
   "outputs": [
    {
     "ename": "NameError",
     "evalue": "name 'X_train' is not defined",
     "output_type": "error",
     "traceback": [
      "\u001b[1;31m---------------------------------------------------------------------------\u001b[0m",
      "\u001b[1;31mNameError\u001b[0m                                 Traceback (most recent call last)",
      "\u001b[1;32m<ipython-input-13-1fb0174be07f>\u001b[0m in \u001b[0;36m<module>\u001b[1;34m\u001b[0m\n\u001b[1;32m----> 1\u001b[1;33m \u001b[0mget_split\u001b[0m\u001b[1;33m(\u001b[0m\u001b[0mnp\u001b[0m\u001b[1;33m.\u001b[0m\u001b[0mconcatenate\u001b[0m\u001b[1;33m(\u001b[0m\u001b[1;33m[\u001b[0m\u001b[0mX_train\u001b[0m\u001b[1;33m,\u001b[0m \u001b[0my_train\u001b[0m\u001b[1;33m[\u001b[0m\u001b[1;33m:\u001b[0m\u001b[1;33m,\u001b[0m \u001b[1;32mNone\u001b[0m\u001b[1;33m]\u001b[0m\u001b[1;33m]\u001b[0m\u001b[1;33m,\u001b[0m \u001b[0maxis\u001b[0m\u001b[1;33m=\u001b[0m\u001b[1;36m1\u001b[0m\u001b[1;33m)\u001b[0m\u001b[1;33m)\u001b[0m\u001b[1;33m\u001b[0m\u001b[1;33m\u001b[0m\u001b[0m\n\u001b[0m",
      "\u001b[1;31mNameError\u001b[0m: name 'X_train' is not defined"
     ]
    }
   ],
   "source": [
    "get_split(np.concatenate([X_train, y_train[:, None]], axis=1))"
   ]
  },
  {
   "cell_type": "code",
   "execution_count": 138,
   "id": "broad-input",
   "metadata": {},
   "outputs": [
    {
     "data": {
      "text/plain": [
       "array([1., 1., 0., 1., 0., 1., 1., 0., 1., 1., 0., 0., 1., 0., 1., 1., 1.,\n",
       "       1., 1., 1., 1., 0., 0., 0., 1., 1., 1., 1., 0., 1., 1., 1., 1., 0.,\n",
       "       1., 1., 0., 1., 0., 1., 1., 1., 0., 0., 1., 0., 1., 0., 0., 1., 1.,\n",
       "       0., 0., 1., 0., 1., 1., 0., 1., 0., 0., 1., 1., 1., 1., 0., 1., 0.,\n",
       "       0., 1., 1., 1., 0., 1., 0., 1., 0., 1., 1., 1., 1., 1., 1., 1., 0.,\n",
       "       1., 1., 1., 1., 1., 0., 1., 1., 1., 0., 1., 0., 1., 0., 0., 0., 0.,\n",
       "       1., 1., 0., 1., 1., 1., 0., 0., 1., 0., 1., 1., 1., 0., 1., 1., 1.,\n",
       "       1., 1., 1., 1., 1., 1., 0., 1., 0., 1., 0., 0., 1., 0., 1., 0., 1.,\n",
       "       1., 1., 0., 1., 0., 0., 1., 1., 0., 1., 1., 1., 1., 0., 1., 1., 0.,\n",
       "       1., 1., 1., 0., 1., 1., 1., 0., 1., 0., 1., 0., 1., 0., 0., 0., 1.,\n",
       "       0., 1., 0., 1., 1., 0., 1., 1., 1., 0., 1., 1., 1., 1., 1., 1., 1.,\n",
       "       0., 1., 1., 1., 0., 0., 1., 1., 1., 1., 1., 1., 1., 0., 0., 0., 0.,\n",
       "       0., 1., 1., 0., 0., 1., 1., 1., 1., 1., 1., 1., 0., 0., 1., 0., 1.,\n",
       "       0., 1., 1., 1., 0., 1., 1., 1., 1., 1., 0., 1., 1., 0., 0., 0., 0.,\n",
       "       1., 0., 1., 1., 0., 0., 1., 0., 0., 1., 1., 1., 0., 1., 0., 0., 1.,\n",
       "       0., 0., 1., 0., 1., 1., 1., 1., 1., 1., 1., 1., 0., 1., 1., 1., 1.,\n",
       "       1., 0., 0., 0., 1., 1., 1., 0., 0., 0., 1., 1., 1., 1., 1., 0., 1.,\n",
       "       1., 0., 0., 0., 1., 1., 1., 1., 1., 0., 1., 1., 0., 1., 1., 1., 1.,\n",
       "       1., 1., 0., 0., 0., 1., 1., 1., 1., 0., 0., 0., 0., 1., 1., 1., 1.,\n",
       "       1., 1., 1., 0., 1., 1., 1., 1., 1., 1., 1., 1., 1., 0., 0., 1., 1.,\n",
       "       1., 1., 1., 1., 0., 1., 1., 1., 0., 0., 1., 0., 1., 1., 0., 1., 1.,\n",
       "       0., 0., 1., 0., 0., 1., 0., 1., 1., 0., 1., 0., 1., 1., 1., 1., 1.,\n",
       "       1., 0., 1., 1., 0., 1., 1., 0., 1., 1., 0., 1., 0., 0., 0., 0., 1.,\n",
       "       0., 1., 1., 0., 1., 1., 1., 0., 0., 1., 1., 1., 1., 0., 1., 1., 0.,\n",
       "       0., 1., 0., 1., 0., 1., 1., 0., 1., 1., 0., 1., 1., 1., 1., 1., 1.,\n",
       "       1., 0., 1., 1., 0., 0., 0., 1., 0., 0., 0., 1., 1., 1., 0., 1., 1.,\n",
       "       0., 0., 0., 0., 0., 0., 1., 0., 0., 0., 0., 1., 1.])"
      ]
     },
     "execution_count": 138,
     "metadata": {},
     "output_type": "execute_result"
    }
   ],
   "source": [
    "(np.concatenate([X_train, y_train[:, None]], axis=1))[:, -1]"
   ]
  },
  {
   "cell_type": "code",
   "execution_count": 14,
   "id": "smoking-filter",
   "metadata": {},
   "outputs": [],
   "source": [
    "def predict(tree: Union[Tree, Leaf], sample: np.ndarray):\n",
    "    if isinstance(tree, Leaf):\n",
    "        return tree.value\n",
    "    \n",
    "    if sample[tree.split_feature] < tree.split_value:\n",
    "        return predict(tree.left, sample)\n",
    "    elif np.isnan(sample[tree.split_feature]):\n",
    "        total_samples = tree.left.n_samples + tree.right.n_samples\n",
    "        return (predict(tree.left, sample)*tree.left.n_samples + predict(tree.right, sample)*tree.right.n_samples)/total_samples\n",
    "    \n",
    "    return predict(tree.right, sample)"
   ]
  },
  {
   "cell_type": "code",
   "execution_count": 54,
   "id": "widespread-offering",
   "metadata": {},
   "outputs": [],
   "source": [
    "from sklearn.model_selection import train_test_split\n",
    "X_train, X_test, y_train, y_test = train_test_split(X, y, test_size=0.2, shuffle=True)"
   ]
  },
  {
   "cell_type": "code",
   "execution_count": 16,
   "id": "numerous-mineral",
   "metadata": {},
   "outputs": [
    {
     "data": {
      "text/plain": [
       "array([1., 1., 1., 0., 1., 1., 0., 0., 1., 0., 0., 1., 1., 0., 1., 0., 1.,\n",
       "       1., 0., 0., 1., 1., 1., 1., 0., 1., 0., 1., 0., 1., 1., 0., 1., 1.,\n",
       "       1., 0., 1., 0., 1., 1., 1., 1., 0., 0., 1., 1., 0., 0., 0., 1., 1.,\n",
       "       0., 1., 0., 0., 1., 0., 1., 0., 0., 1., 0., 0., 1., 1., 0., 1., 1.,\n",
       "       0., 0., 0., 1., 0., 1., 1., 0., 1., 1., 0., 1., 0., 0., 1., 1., 0.,\n",
       "       1., 1., 1., 0., 0., 1., 1., 1., 1., 1., 1., 1., 1., 1., 0., 1., 1.,\n",
       "       1., 1., 0., 1., 1., 1., 1., 1., 1., 0., 1., 0., 1., 1., 1., 0., 0.,\n",
       "       0., 1., 0., 0., 1., 1., 0., 1., 1., 0., 0., 1., 0., 1., 1., 0., 1.,\n",
       "       0., 1., 0., 1., 1., 1., 1., 1., 0., 1., 0., 1., 1., 0., 0., 1., 0.,\n",
       "       0., 1., 1., 1., 1., 1., 1., 1., 1., 1., 1., 0., 1., 1., 1., 1., 0.,\n",
       "       1., 1., 0., 1., 0., 1., 0., 0., 0., 1., 1., 0., 0., 0., 0., 0., 1.,\n",
       "       0., 0., 1., 1., 0., 1., 0., 1., 0., 1., 1., 1., 1., 0., 0., 1., 1.,\n",
       "       1., 1., 0., 1., 1., 0., 1., 0., 1., 1., 1., 1., 1., 1., 1., 1., 1.,\n",
       "       1., 1., 1., 0., 1., 0., 1., 0., 1., 1., 0., 0., 1., 0., 0., 1., 1.,\n",
       "       1., 0., 1., 1., 0., 0., 1., 1., 1., 1., 0., 1., 1., 1., 0., 1., 1.,\n",
       "       1., 1., 1., 0., 1., 1., 1., 1., 1., 0., 1., 1., 0., 1., 1., 1., 1.,\n",
       "       1., 0., 0., 1., 1., 1., 0., 1., 0., 1., 1., 1., 0., 1., 1., 1., 1.,\n",
       "       1., 0., 1., 0., 1., 0., 0., 0., 0., 0., 1., 1., 0., 0., 1., 1., 1.,\n",
       "       0., 1., 1., 1., 0., 1., 0., 1., 1., 1., 1., 1., 0., 0., 0., 0., 1.,\n",
       "       0., 1., 0., 0., 0., 1., 1., 0., 1., 1., 1., 1., 0., 1., 0., 1., 0.,\n",
       "       1., 0., 1., 0., 1., 1., 1., 1., 1., 0., 0., 1., 1., 1., 1., 1., 1.,\n",
       "       1., 1., 1., 1., 1., 1., 1., 1., 1., 1., 0., 1., 1., 1., 0., 1., 0.,\n",
       "       1., 0., 1., 1., 1., 0., 0., 0., 1., 0., 1., 1., 1., 1., 0., 1., 1.,\n",
       "       1., 1., 0., 0., 0., 0., 1., 1., 1., 1., 0., 0., 0., 1., 0., 1., 1.,\n",
       "       0., 1., 0., 1., 0., 1., 0., 0., 1., 1., 1., 1., 0., 1., 0., 0., 0.,\n",
       "       0., 0., 0., 1., 0., 0., 1., 0., 0., 1., 1., 0., 1., 1., 0., 0., 1.,\n",
       "       1., 0., 1., 1., 0., 1., 0., 1., 1., 0., 1., 1., 0.])"
      ]
     },
     "execution_count": 16,
     "metadata": {},
     "output_type": "execute_result"
    }
   ],
   "source": [
    "np.concatenate([(X_train), y_train[:, None]], axis=1)[:, -1]"
   ]
  },
  {
   "cell_type": "code",
   "execution_count": 55,
   "id": "fifty-soundtrack",
   "metadata": {},
   "outputs": [],
   "source": [
    "X_train[y_train == 1, 4] = np.nan\n",
    "X_test[y_test == 0, 4] = np.nan"
   ]
  },
  {
   "cell_type": "code",
   "execution_count": 143,
   "id": "supposed-aspect",
   "metadata": {},
   "outputs": [
    {
     "data": {
      "text/plain": [
       "SimpleImputer()"
      ]
     },
     "execution_count": 143,
     "metadata": {},
     "output_type": "execute_result"
    }
   ],
   "source": [
    "from sklearn.impute import SimpleImputer\n",
    "imputer = SimpleImputer(strategy='mean')\n",
    "imputer.fit(X_train, y_train)"
   ]
  },
  {
   "cell_type": "code",
   "execution_count": 56,
   "id": "experienced-arizona",
   "metadata": {},
   "outputs": [],
   "source": [
    "t = decision_tree(np.concatenate([(X_train), y_train[:, None]], axis=1))"
   ]
  },
  {
   "cell_type": "code",
   "execution_count": 22,
   "id": "compound-olympus",
   "metadata": {},
   "outputs": [],
   "source": [
    "from sklearn.metrics import accuracy_score"
   ]
  },
  {
   "cell_type": "code",
   "execution_count": 23,
   "id": "alpha-campbell",
   "metadata": {},
   "outputs": [],
   "source": [
    "preds_train = [predict(t, X_train[i, :]) for i in range(X_train.shape[0])]"
   ]
  },
  {
   "cell_type": "code",
   "execution_count": 57,
   "id": "resistant-sullivan",
   "metadata": {},
   "outputs": [],
   "source": [
    "preds_train = [predict(t, (X_train[i:i+1, :])[0, :]) for i in range(X_train.shape[0])]"
   ]
  },
  {
   "cell_type": "code",
   "execution_count": 58,
   "id": "rapid-initial",
   "metadata": {},
   "outputs": [
    {
     "data": {
      "text/plain": [
       "0.9868131868131869"
      ]
     },
     "execution_count": 58,
     "metadata": {},
     "output_type": "execute_result"
    }
   ],
   "source": [
    "accuracy_score(y_train, preds_train)"
   ]
  },
  {
   "cell_type": "code",
   "execution_count": 28,
   "id": "radio-break",
   "metadata": {},
   "outputs": [],
   "source": [
    "import shap"
   ]
  },
  {
   "cell_type": "code",
   "execution_count": 29,
   "id": "according-million",
   "metadata": {},
   "outputs": [
    {
     "ename": "TypeError",
     "evalue": "__init__() missing 2 required positional arguments: 'model' and 'data'",
     "output_type": "error",
     "traceback": [
      "\u001b[1;31m---------------------------------------------------------------------------\u001b[0m",
      "\u001b[1;31mTypeError\u001b[0m                                 Traceback (most recent call last)",
      "\u001b[1;32m<ipython-input-29-56b7558cb8f1>\u001b[0m in \u001b[0;36m<module>\u001b[1;34m\u001b[0m\n\u001b[1;32m----> 1\u001b[1;33m \u001b[0mshap\u001b[0m\u001b[1;33m.\u001b[0m\u001b[0mKernelExplainer\u001b[0m\u001b[1;33m(\u001b[0m\u001b[1;33m)\u001b[0m\u001b[1;33m\u001b[0m\u001b[1;33m\u001b[0m\u001b[0m\n\u001b[0m",
      "\u001b[1;31mTypeError\u001b[0m: __init__() missing 2 required positional arguments: 'model' and 'data'"
     ]
    }
   ],
   "source": [
    "shap.KernelExplainer()"
   ]
  },
  {
   "cell_type": "code",
   "execution_count": 68,
   "id": "effective-string",
   "metadata": {},
   "outputs": [],
   "source": [
    "preds_test = [predict(t, X_test[i, :]) for i in range(X_test.shape[0])]"
   ]
  },
  {
   "cell_type": "code",
   "execution_count": 546,
   "id": "intimate-poland",
   "metadata": {},
   "outputs": [],
   "source": [
    "preds_test = [predict(t, imputer.transform(X_test[i:i+1, :])[0, :]) for i in range(X_test.shape[0])]"
   ]
  },
  {
   "cell_type": "code",
   "execution_count": 69,
   "id": "light-bryan",
   "metadata": {},
   "outputs": [
    {
     "data": {
      "text/plain": [
       "0.9122807017543859"
      ]
     },
     "execution_count": 69,
     "metadata": {},
     "output_type": "execute_result"
    }
   ],
   "source": [
    "accuracy_score(y_test, preds_test)"
   ]
  },
  {
   "cell_type": "code",
   "execution_count": 93,
   "id": "municipal-alarm",
   "metadata": {},
   "outputs": [
    {
     "data": {
      "text/plain": [
       "(1.0, 0.0)"
      ]
     },
     "execution_count": 93,
     "metadata": {},
     "output_type": "execute_result"
    }
   ],
   "source": [
    "from lightgbm.sklearn import LGBMClassifier\n",
    "lgbm = LGBMClassifier(n_jobs=-1)\n",
    "lgbm.fit(X_train, y_train)\n",
    "accuracy_score(y_train, lgbm.predict(X_train)), accuracy_score(y_test, lgbm.predict(X_test))"
   ]
  },
  {
   "cell_type": "code",
   "execution_count": 94,
   "id": "random-algorithm",
   "metadata": {},
   "outputs": [
    {
     "data": {
      "image/png": "[encoded data removed]",
      "text/plain": [
       "<Figure size 576x396 with 2 Axes>"
      ]
     },
     "metadata": {
      "needs_background": "light"
     },
     "output_type": "display_data"
    }
   ],
   "source": [
    "shap.plots.beeswarm(shap.TreeExplainer(lgbm)(X_samp)[:, :, 1])"
   ]
  },
  {
   "cell_type": "code",
   "execution_count": 91,
   "id": "antique-lounge",
   "metadata": {},
   "outputs": [
    {
     "data": {
      "text/plain": [
       "(1.0, 0.2982456140350877)"
      ]
     },
     "execution_count": 91,
     "metadata": {},
     "output_type": "execute_result"
    }
   ],
   "source": [
    "from sklearn.tree import DecisionTreeClassifier\n",
    "from sklearn.impute import SimpleImputer\n",
    "dt = DecisionTreeClassifier()\n",
    "imputer = SimpleImputer()\n",
    "dt.fit(imputer.fit_transform(X_train), y_train)\n",
    "accuracy_score(y_train, dt.predict(imputer.transform(X_train))), accuracy_score(y_test, dt.predict(imputer.transform(X_test)))"
   ]
  },
  {
   "cell_type": "code",
   "execution_count": 92,
   "id": "certified-headline",
   "metadata": {},
   "outputs": [
    {
     "data": {
      "image/png": "[encoded data removed]",
      "text/plain": [
       "<Figure size 576x396 with 2 Axes>"
      ]
     },
     "metadata": {
      "needs_background": "light"
     },
     "output_type": "display_data"
    }
   ],
   "source": [
    "shap.plots.beeswarm(shap.TreeExplainer(lgbm)(X_samp)[:, :, 1])"
   ]
  },
  {
   "cell_type": "code",
   "execution_count": null,
   "id": "willing-comparison",
   "metadata": {},
   "outputs": [],
   "source": []
  },
  {
   "cell_type": "code",
   "execution_count": 59,
   "id": "gorgeous-imaging",
   "metadata": {},
   "outputs": [],
   "source": [
    "import shap\n",
    "def predict_multiple(X):\n",
    "    return np.array([predict(t, X[i, :]) for i in range(X.shape[0])])\n",
    "explainer = shap.KernelExplainer(predict_multiple, shap.sample(X_train, 40))"
   ]
  },
  {
   "cell_type": "code",
   "execution_count": 61,
   "id": "surrounded-singles",
   "metadata": {},
   "outputs": [
    {
     "data": {
      "application/vnd.jupyter.widget-view+json": {
       "model_id": "416544fef7f44206bb1388667dc5e484",
       "version_major": 2,
       "version_minor": 0
      },
      "text/plain": [
       "  0%|          | 0/100 [00:00<?, ?it/s]"
      ]
     },
     "metadata": {},
     "output_type": "display_data"
    }
   ],
   "source": [
    "X_samp = shap.sample(X_test, 100)\n",
    "shap_values = explainer.shap_values(X_samp)"
   ]
  },
  {
   "cell_type": "code",
   "execution_count": 41,
   "id": "homeless-technique",
   "metadata": {},
   "outputs": [
    {
     "name": "stdout",
     "output_type": "stream",
     "text": [
      "Requirement already satisfied: shap in c:\\users\\roel\\.virtualenvs\\diagcovid-ckc2berq\\lib\\site-packages (0.39.0)"
     ]
    },
    {
     "name": "stderr",
     "output_type": "stream",
     "text": [
      "WARNING: You are using pip version 21.0.1; however, version 21.1.3 is available.\n",
      "You should consider upgrading via the 'c:\\users\\roel\\.virtualenvs\\diagcovid-ckc2berq\\scripts\\python.exe -m pip install --upgrade pip' command.\n"
     ]
    },
    {
     "name": "stdout",
     "output_type": "stream",
     "text": [
      "\n",
      "Requirement already satisfied: numba in c:\\users\\roel\\.virtualenvs\\diagcovid-ckc2berq\\lib\\site-packages (from shap) (0.53.0)\n",
      "Requirement already satisfied: scipy in c:\\users\\roel\\.virtualenvs\\diagcovid-ckc2berq\\lib\\site-packages (from shap) (1.5.3)\n",
      "Requirement already satisfied: slicer==0.0.7 in c:\\users\\roel\\.virtualenvs\\diagcovid-ckc2berq\\lib\\site-packages (from shap) (0.0.7)\n",
      "Requirement already satisfied: numpy in c:\\users\\roel\\.virtualenvs\\diagcovid-ckc2berq\\lib\\site-packages (from shap) (1.19.5)\n",
      "Requirement already satisfied: pandas in c:\\users\\roel\\.virtualenvs\\diagcovid-ckc2berq\\lib\\site-packages (from shap) (1.2.3)\n",
      "Requirement already satisfied: tqdm>4.25.0 in c:\\users\\roel\\.virtualenvs\\diagcovid-ckc2berq\\lib\\site-packages (from shap) (4.59.0)\n",
      "Requirement already satisfied: scikit-learn in c:\\users\\roel\\.virtualenvs\\diagcovid-ckc2berq\\lib\\site-packages (from shap) (0.24.1)\n",
      "Requirement already satisfied: cloudpickle in c:\\users\\roel\\.virtualenvs\\diagcovid-ckc2berq\\lib\\site-packages (from shap) (1.6.0)\n",
      "Requirement already satisfied: llvmlite<0.37,>=0.36.0rc1 in c:\\users\\roel\\.virtualenvs\\diagcovid-ckc2berq\\lib\\site-packages (from numba->shap) (0.36.0)\n",
      "Requirement already satisfied: setuptools in c:\\users\\roel\\.virtualenvs\\diagcovid-ckc2berq\\lib\\site-packages (from numba->shap) (54.1.2)\n",
      "Requirement already satisfied: python-dateutil>=2.7.3 in c:\\users\\roel\\.virtualenvs\\diagcovid-ckc2berq\\lib\\site-packages (from pandas->shap) (2.8.1)\n",
      "Requirement already satisfied: pytz>=2017.3 in c:\\users\\roel\\.virtualenvs\\diagcovid-ckc2berq\\lib\\site-packages (from pandas->shap) (2021.1)\n",
      "Requirement already satisfied: six>=1.5 in c:\\users\\roel\\.virtualenvs\\diagcovid-ckc2berq\\lib\\site-packages (from python-dateutil>=2.7.3->pandas->shap) (1.15.0)\n",
      "Requirement already satisfied: threadpoolctl>=2.0.0 in c:\\users\\roel\\.virtualenvs\\diagcovid-ckc2berq\\lib\\site-packages (from scikit-learn->shap) (2.1.0)\n",
      "Requirement already satisfied: joblib>=0.11 in c:\\users\\roel\\.virtualenvs\\diagcovid-ckc2berq\\lib\\site-packages (from scikit-learn->shap) (1.0.1)\n"
     ]
    }
   ],
   "source": [
    "!pip install --upgrade shap"
   ]
  },
  {
   "cell_type": "code",
   "execution_count": 38,
   "id": "short-barrier",
   "metadata": {},
   "outputs": [
    {
     "data": {
      "text/plain": [
       "(100, 30)"
      ]
     },
     "execution_count": 38,
     "metadata": {},
     "output_type": "execute_result"
    }
   ],
   "source": [
    "shap_values.shape"
   ]
  },
  {
   "cell_type": "code",
   "execution_count": 42,
   "id": "stock-workstation",
   "metadata": {},
   "outputs": [
    {
     "ename": "UnboundLocalError",
     "evalue": "local variable 'values' referenced before assignment",
     "output_type": "error",
     "traceback": [
      "\u001b[1;31m---------------------------------------------------------------------------\u001b[0m",
      "\u001b[1;31mUnboundLocalError\u001b[0m                         Traceback (most recent call last)",
      "\u001b[1;32m<ipython-input-42-33a95466bf49>\u001b[0m in \u001b[0;36m<module>\u001b[1;34m\u001b[0m\n\u001b[1;32m----> 1\u001b[1;33m \u001b[0mshap\u001b[0m\u001b[1;33m.\u001b[0m\u001b[0mplots\u001b[0m\u001b[1;33m.\u001b[0m\u001b[0mbeeswarm\u001b[0m\u001b[1;33m(\u001b[0m\u001b[0mshap_values\u001b[0m\u001b[1;33m)\u001b[0m\u001b[1;33m\u001b[0m\u001b[1;33m\u001b[0m\u001b[0m\n\u001b[0m",
      "\u001b[1;32mc:\\users\\roel\\.virtualenvs\\diagcovid-ckc2berq\\lib\\site-packages\\shap\\plots\\_beeswarm.py\u001b[0m in \u001b[0;36mbeeswarm\u001b[1;34m(shap_values, max_display, order, clustering, cluster_threshold, color, axis_color, alpha, show, log_scale, color_bar, plot_size, color_bar_label)\u001b[0m\n\u001b[0;32m     65\u001b[0m         \u001b[1;31m#     out_names = shap_exp.output_names\u001b[0m\u001b[1;33m\u001b[0m\u001b[1;33m\u001b[0m\u001b[1;33m\u001b[0m\u001b[0m\n\u001b[0;32m     66\u001b[0m \u001b[1;33m\u001b[0m\u001b[0m\n\u001b[1;32m---> 67\u001b[1;33m     \u001b[0morder\u001b[0m \u001b[1;33m=\u001b[0m \u001b[0mconvert_ordering\u001b[0m\u001b[1;33m(\u001b[0m\u001b[0morder\u001b[0m\u001b[1;33m,\u001b[0m \u001b[0mvalues\u001b[0m\u001b[1;33m)\u001b[0m\u001b[1;33m\u001b[0m\u001b[1;33m\u001b[0m\u001b[0m\n\u001b[0m\u001b[0;32m     68\u001b[0m \u001b[1;33m\u001b[0m\u001b[0m\n\u001b[0;32m     69\u001b[0m \u001b[1;33m\u001b[0m\u001b[0m\n",
      "\u001b[1;31mUnboundLocalError\u001b[0m: local variable 'values' referenced before assignment"
     ]
    }
   ],
   "source": [
    "shap.plots.beeswarm(shap_values)"
   ]
  },
  {
   "cell_type": "code",
   "execution_count": 62,
   "id": "stone-return",
   "metadata": {},
   "outputs": [
    {
     "data": {
      "image/png": "[encoded data removed]",
      "text/plain": [
       "<Figure size 576x684 with 2 Axes>"
      ]
     },
     "metadata": {
      "needs_background": "light"
     },
     "output_type": "display_data"
    }
   ],
   "source": [
    "shap.summary_plot(shap_values, features=X_samp)"
   ]
  },
  {
   "cell_type": "code",
   "execution_count": null,
   "id": "comfortable-baptist",
   "metadata": {},
   "outputs": [],
   "source": []
  },
  {
   "cell_type": "code",
   "execution_count": 65,
   "id": "convinced-tender",
   "metadata": {},
   "outputs": [
    {
     "data": {
      "text/plain": [
       "array([0.08682, 0.08928, 0.08182,     nan,     nan, 0.08099, 0.09984,\n",
       "           nan, 0.0988 , 0.06955, 0.09965, 0.07372, 0.09751, 0.09751,\n",
       "       0.08261,     nan, 0.1018 ,     nan,     nan, 0.09965, 0.08491,\n",
       "       0.09751,     nan, 0.07683, 0.08045, 0.09639,     nan, 0.09984,\n",
       "           nan, 0.09357,     nan, 0.1152 , 0.08928, 0.08182,     nan,\n",
       "           nan, 0.09751, 0.08582,     nan, 0.08054, 0.08054,     nan,\n",
       "           nan, 0.1037 , 0.1018 , 0.09984, 0.08983, 0.1037 , 0.09057,\n",
       "       0.07557, 0.08546, 0.07436, 0.1039 ,     nan,     nan,     nan,\n",
       "       0.1031 , 0.1031 , 0.06955, 0.06883, 0.09816, 0.09267, 0.09882,\n",
       "       0.08992, 0.1152 , 0.1078 , 0.09968, 0.1237 ,     nan, 0.09057,\n",
       "           nan, 0.1018 , 0.08099,     nan, 0.08983, 0.07436,     nan,\n",
       "           nan, 0.08491,     nan, 0.1225 , 0.1031 ,     nan,     nan,\n",
       "       0.06883, 0.08261, 0.1237 ,     nan, 0.1039 ,     nan,     nan,\n",
       "           nan, 0.08928, 0.08421,     nan,     nan,     nan, 0.09882,\n",
       "       0.07215, 0.1248 ])"
      ]
     },
     "execution_count": 65,
     "metadata": {},
     "output_type": "execute_result"
    }
   ],
   "source": [
    "X_samp[:, 4]"
   ]
  },
  {
   "cell_type": "code",
   "execution_count": null,
   "id": "meaningful-karaoke",
   "metadata": {},
   "outputs": [],
   "source": [
    "shap_values"
   ]
  },
  {
   "cell_type": "code",
   "execution_count": null,
   "id": "utility-mobile",
   "metadata": {},
   "outputs": [],
   "source": [
    "gini_impurity(y[y == 0])"
   ]
  },
  {
   "cell_type": "code",
   "execution_count": null,
   "id": "positive-clarity",
   "metadata": {},
   "outputs": [],
   "source": [
    "gini_index([y, y[y == 1]])"
   ]
  },
  {
   "cell_type": "code",
   "execution_count": 16,
   "id": "marked-drawing",
   "metadata": {},
   "outputs": [
    {
     "data": {
      "text/plain": [
       "array([0, 0, 0, 0, 0, 0, 0, 0, 0, 0, 0, 0, 0, 0, 0, 0, 0, 0, 0, 0, 0, 0,\n",
       "       0, 0, 0, 0, 0, 0, 0, 0, 0, 0, 0, 0, 0, 0, 0, 0, 0, 0, 0, 0, 0, 0,\n",
       "       0, 0, 0, 0, 0, 0, 0, 0, 0, 0, 0, 0, 0, 0, 0, 0, 0, 0, 0, 0, 0, 0,\n",
       "       0, 0, 0, 0, 0, 0, 0, 0, 0, 0, 0, 0, 0, 0, 0, 0, 0, 0, 0, 0, 0, 0,\n",
       "       0, 0, 0, 0, 0, 0, 0, 0, 0, 0, 0, 0, 0, 0, 0, 0, 0, 0, 0, 0, 0, 0,\n",
       "       0, 0, 0, 0, 0, 0, 0, 0, 0, 0, 0, 0, 0, 0, 0, 0, 0, 0, 0, 0, 0, 0,\n",
       "       0, 0, 0, 0, 0, 0, 0, 0, 0, 0, 0, 0, 0, 0, 0, 0, 0, 0, 0, 0, 0, 0,\n",
       "       0, 0, 0, 0, 0, 0, 0, 0, 0, 0, 0, 0, 0, 0, 0, 0, 0, 0, 0, 0, 0, 0,\n",
       "       0, 0, 0, 0, 0, 0, 0, 0, 0, 0, 0, 0, 0, 0, 0, 0, 0, 0, 0, 0, 0, 0,\n",
       "       0, 0, 0, 0, 0, 0, 0, 0, 0, 0, 0, 0, 0, 0])"
      ]
     },
     "execution_count": 16,
     "metadata": {},
     "output_type": "execute_result"
    }
   ],
   "source": [
    "y[y == 0]"
   ]
  },
  {
   "cell_type": "code",
   "execution_count": null,
   "id": "patient-letters",
   "metadata": {},
   "outputs": [],
   "source": []
  }
 ],
 "metadata": {
  "kernelspec": {
   "display_name": "Python 3",
   "language": "python",
   "name": "python3"
  },
  "language_info": {
   "codemirror_mode": {
    "name": "ipython",
    "version": 3
   },
   "file_extension": ".py",
   "mimetype": "text/x-python",
   "name": "python",
   "nbconvert_exporter": "python",
   "pygments_lexer": "ipython3",
   "version": "3.7.9"
  }
 },
 "nbformat": 4,
 "nbformat_minor": 5
}
