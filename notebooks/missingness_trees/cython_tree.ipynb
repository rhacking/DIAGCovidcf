{
 "cells": [
  {
   "cell_type": "code",
   "execution_count": 1,
   "id": "supposed-vision",
   "metadata": {},
   "outputs": [],
   "source": [
    "%load_ext Cython"
   ]
  },
  {
   "cell_type": "code",
   "execution_count": 16,
   "id": "reduced-madrid",
   "metadata": {},
   "outputs": [],
   "source": [
    "%%cython\n",
    "cimport numpy as np\n",
    "\n",
    "cdef class Node:\n",
    "    cdef np.int32_t[:] labels\n",
    "    \n",
    "cdef class Tree(Node):\n",
    "    cdef Node left\n",
    "    cdef Node right\n",
    "    cdef double split_value\n",
    "    cdef double split_feature"
   ]
  },
  {
   "cell_type": "code",
   "execution_count": 19,
   "id": "operating-genius",
   "metadata": {},
   "outputs": [
    {
     "name": "stderr",
     "output_type": "stream",
     "text": [
      "\n",
      "Error compiling Cython file:\n",
      "------------------------------------------------------------\n",
      "...\n",
      "cimport numpy as np\n",
      "\n",
      "def gini(np.ndarray[np.float64_t, ndim=1] x):\n",
      "    diffsum = 0\n",
      "    for i, xi in enumerate(x[:-1], 1):\n",
      "        diffsum += (np.abs(xi - x[i:])).sum()\n",
      "                     ^\n",
      "------------------------------------------------------------\n",
      "\n",
      "C:\\Users\\Roel\\.ipython\\cython\\_cython_magic_dc526d5b5e5e0d31cf76c00b84643ca6.pyx:6:22: cimported module has no attribute 'abs'\n",
      "\n",
      "Error compiling Cython file:\n",
      "------------------------------------------------------------\n",
      "...\n",
      "cimport numpy as np\n",
      "\n",
      "def gini(np.ndarray[np.float64_t, ndim=1] x):\n",
      "    diffsum = 0\n",
      "    for i, xi in enumerate(x[:-1], 1):\n",
      "        diffsum += (np.abs(xi - x[i:])).sum()\n",
      "                     ^\n",
      "------------------------------------------------------------\n",
      "\n",
      "C:\\Users\\Roel\\.ipython\\cython\\_cython_magic_dc526d5b5e5e0d31cf76c00b84643ca6.pyx:6:22: Compiler crash in AnalyseExpressionsTransform\n",
      "\n",
      "ModuleNode.body = StatListNode(_cython_magic_dc526d5b5e5e0d31cf76c00b84643ca6.pyx:1:0)\n",
      "StatListNode.stats[1] = StatListNode(_cython_magic_dc526d5b5e5e0d31cf76c00b84643ca6.pyx:3:0)\n",
      "StatListNode.stats[0] = DefNode(_cython_magic_dc526d5b5e5e0d31cf76c00b84643ca6.pyx:3:0,\n",
      "    modifiers = [...]/0,\n",
      "    name = 'gini',\n",
      "    np_args_idx = [...]/0,\n",
      "    num_required_args = 1,\n",
      "    outer_attrs = [...]/2,\n",
      "    py_wrapper_required = True,\n",
      "    reqd_kw_flags_cname = '0',\n",
      "    used = True)\n",
      "File 'ExprNodes.py', line 11049, in infer_type: AddNode(_cython_magic_dc526d5b5e5e0d31cf76c00b84643ca6.pyx:6:8,\n",
      "    infix = True,\n",
      "    operator = '+',\n",
      "    result_is_used = True,\n",
      "    use_managed_ref = True)\n",
      "File 'ExprNodes.py', line 5362, in infer_type: SimpleCallNode(_cython_magic_dc526d5b5e5e0d31cf76c00b84643ca6.pyx:6:43,\n",
      "    result_is_used = True,\n",
      "    use_managed_ref = True)\n",
      "File 'ExprNodes.py', line 6862, in infer_type: AttributeNode(_cython_magic_dc526d5b5e5e0d31cf76c00b84643ca6.pyx:6:39,\n",
      "    attribute = 'sum',\n",
      "    is_attribute = 1,\n",
      "    needs_none_check = True,\n",
      "    result_is_used = True,\n",
      "    use_managed_ref = True)\n",
      "File 'ExprNodes.py', line 5362, in infer_type: SimpleCallNode(_cython_magic_dc526d5b5e5e0d31cf76c00b84643ca6.pyx:6:26,\n",
      "    result_is_used = True,\n",
      "    use_managed_ref = True)\n",
      "File 'ExprNodes.py', line 6854, in infer_type: AttributeNode(_cython_magic_dc526d5b5e5e0d31cf76c00b84643ca6.pyx:6:22,\n",
      "    attribute = 'abs',\n",
      "    is_attribute = 1,\n",
      "    is_numpy_attribute = True,\n",
      "    needs_none_check = True,\n",
      "    result_is_used = True,\n",
      "    use_managed_ref = True)\n",
      "\n",
      "Compiler crash traceback from this point on:\n",
      "  File \"c:\\users\\roel\\.virtualenvs\\diagcovid-ckc2berq\\lib\\site-packages\\Cython\\Compiler\\ExprNodes.py\", line 6854, in infer_type\n",
      "    if node.entry.type and node.entry.type.is_cfunction:\n",
      "AttributeError: 'NoneType' object has no attribute 'type'\n"
     ]
    }
   ],
   "source": [
    "%%cython\n",
    "cimport numpy as np\n",
    "\n",
    "def gini(np.ndarray[np.float64_t, ndim=1] x):\n",
    "    diffsum = 0\n",
    "    for i, xi in enumerate(x[:-1], 1):\n",
    "        diffsum += (np.abs(xi - x[i:])).sum()\n",
    "    return diffsum / (len(x)**2 * np.mean(x))"
   ]
  },
  {
   "cell_type": "code",
   "execution_count": 8,
   "id": "practical-recipient",
   "metadata": {},
   "outputs": [],
   "source": [
    "%%cython\n",
    "cimport numpy as np\n",
    "def decision_tree(np.ndarray[np.float64_t, ndim=2] X, np.ndarray[np.int32_t, ndim=1] y):\n",
    "    if len(np.unique(y)) == 1:\n",
    "        return Node(y)\n",
    "    "
   ]
  },
  {
   "cell_type": "code",
   "execution_count": 9,
   "id": "flexible-kitchen",
   "metadata": {},
   "outputs": [],
   "source": [
    "from sklearn.model_selection import train_test_split\n",
    "from sklearn.datasets import load_breast_cancer\n",
    "import numpy as np\n",
    "X, y = load_breast_cancer(return_X_y=True)\n",
    "X_train, X_test, y_train, y_test = train_test_split(X, y, test_size=0.2, shuffle=True)\n",
    "X_train[y_train == 1, 4] = np.nan\n",
    "X_test[y_test == 0, 4] = np.nan"
   ]
  },
  {
   "cell_type": "code",
   "execution_count": 10,
   "id": "medical-pollution",
   "metadata": {},
   "outputs": [
    {
     "data": {
      "text/plain": [
       "(array([[1.799e+01, 1.038e+01, 1.228e+02, ..., 2.654e-01, 4.601e-01,\n",
       "         1.189e-01],\n",
       "        [2.057e+01, 1.777e+01, 1.329e+02, ..., 1.860e-01, 2.750e-01,\n",
       "         8.902e-02],\n",
       "        [1.969e+01, 2.125e+01, 1.300e+02, ..., 2.430e-01, 3.613e-01,\n",
       "         8.758e-02],\n",
       "        ...,\n",
       "        [1.660e+01, 2.808e+01, 1.083e+02, ..., 1.418e-01, 2.218e-01,\n",
       "         7.820e-02],\n",
       "        [2.060e+01, 2.933e+01, 1.401e+02, ..., 2.650e-01, 4.087e-01,\n",
       "         1.240e-01],\n",
       "        [7.760e+00, 2.454e+01, 4.792e+01, ..., 0.000e+00, 2.871e-01,\n",
       "         7.039e-02]]),\n",
       " array([0, 0, 0, 0, 0, 0, 0, 0, 0, 0, 0, 0, 0, 0, 0, 0, 0, 0, 0, 1, 1, 1,\n",
       "        0, 0, 0, 0, 0, 0, 0, 0, 0, 0, 0, 0, 0, 0, 0, 1, 0, 0, 0, 0, 0, 0,\n",
       "        0, 0, 1, 0, 1, 1, 1, 1, 1, 0, 0, 1, 0, 0, 1, 1, 1, 1, 0, 1, 0, 0,\n",
       "        1, 1, 1, 1, 0, 1, 0, 0, 1, 0, 1, 0, 0, 1, 1, 1, 0, 0, 1, 0, 0, 0,\n",
       "        1, 1, 1, 0, 1, 1, 0, 0, 1, 1, 1, 0, 0, 1, 1, 1, 1, 0, 1, 1, 0, 1,\n",
       "        1, 1, 1, 1, 1, 1, 1, 0, 0, 0, 1, 0, 0, 1, 1, 1, 0, 0, 1, 0, 1, 0,\n",
       "        0, 1, 0, 0, 1, 1, 0, 1, 1, 0, 1, 1, 1, 1, 0, 1, 1, 1, 1, 1, 1, 1,\n",
       "        1, 1, 0, 1, 1, 1, 1, 0, 0, 1, 0, 1, 1, 0, 0, 1, 1, 0, 0, 1, 1, 1,\n",
       "        1, 0, 1, 1, 0, 0, 0, 1, 0, 1, 0, 1, 1, 1, 0, 1, 1, 0, 0, 1, 0, 0,\n",
       "        0, 0, 1, 0, 0, 0, 1, 0, 1, 0, 1, 1, 0, 1, 0, 0, 0, 0, 1, 1, 0, 0,\n",
       "        1, 1, 1, 0, 1, 1, 1, 1, 1, 0, 0, 1, 1, 0, 1, 1, 0, 0, 1, 0, 1, 1,\n",
       "        1, 1, 0, 1, 1, 1, 1, 1, 0, 1, 0, 0, 0, 0, 0, 0, 0, 0, 0, 0, 0, 0,\n",
       "        0, 0, 1, 1, 1, 1, 1, 1, 0, 1, 0, 1, 1, 0, 1, 1, 0, 1, 0, 0, 1, 1,\n",
       "        1, 1, 1, 1, 1, 1, 1, 1, 1, 1, 1, 0, 1, 1, 0, 1, 0, 1, 1, 1, 1, 1,\n",
       "        1, 1, 1, 1, 1, 1, 1, 1, 1, 0, 1, 1, 1, 0, 1, 0, 1, 1, 1, 1, 0, 0,\n",
       "        0, 1, 1, 1, 1, 0, 1, 0, 1, 0, 1, 1, 1, 0, 1, 1, 1, 1, 1, 1, 1, 0,\n",
       "        0, 0, 1, 1, 1, 1, 1, 1, 1, 1, 1, 1, 1, 0, 0, 1, 0, 0, 0, 1, 0, 0,\n",
       "        1, 1, 1, 1, 1, 0, 1, 1, 1, 1, 1, 0, 1, 1, 1, 0, 1, 1, 0, 0, 1, 1,\n",
       "        1, 1, 1, 1, 0, 1, 1, 1, 1, 1, 1, 1, 0, 1, 1, 1, 1, 1, 0, 1, 1, 0,\n",
       "        1, 1, 1, 1, 1, 1, 1, 1, 1, 1, 1, 1, 0, 1, 0, 0, 1, 0, 1, 1, 1, 1,\n",
       "        1, 0, 1, 1, 0, 1, 0, 1, 1, 0, 1, 0, 1, 1, 1, 1, 1, 1, 1, 1, 0, 0,\n",
       "        1, 1, 1, 1, 1, 1, 0, 1, 1, 1, 1, 1, 1, 1, 1, 1, 1, 0, 1, 1, 1, 1,\n",
       "        1, 1, 1, 0, 1, 0, 1, 1, 0, 1, 1, 1, 1, 1, 0, 0, 1, 0, 1, 0, 1, 1,\n",
       "        1, 1, 1, 0, 1, 1, 0, 1, 0, 1, 0, 0, 1, 1, 1, 0, 1, 1, 1, 1, 1, 1,\n",
       "        1, 1, 1, 1, 1, 0, 1, 0, 0, 1, 1, 1, 1, 1, 1, 1, 1, 1, 1, 1, 1, 1,\n",
       "        1, 1, 1, 1, 1, 1, 1, 1, 1, 1, 1, 1, 0, 0, 0, 0, 0, 0, 1]))"
      ]
     },
     "execution_count": 10,
     "metadata": {},
     "output_type": "execute_result"
    }
   ],
   "source": [
    "decision_tree(X, y)"
   ]
  },
  {
   "cell_type": "code",
   "execution_count": null,
   "id": "executive-brass",
   "metadata": {},
   "outputs": [],
   "source": []
  }
 ],
 "metadata": {
  "kernelspec": {
   "display_name": "Python 3",
   "language": "python",
   "name": "python3"
  },
  "language_info": {
   "codemirror_mode": {
    "name": "ipython",
    "version": 3
   },
   "file_extension": ".py",
   "mimetype": "text/x-python",
   "name": "python",
   "nbconvert_exporter": "python",
   "pygments_lexer": "ipython3",
   "version": "3.7.9"
  }
 },
 "nbformat": 4,
 "nbformat_minor": 5
}
