{
 "cells": [
  {
   "cell_type": "code",
   "execution_count": 79,
   "id": "wanted-crime",
   "metadata": {},
   "outputs": [],
   "source": [
    "import pandas as pd\n",
    "from bonsai.ensemble.paloboost import PaloBoost\n",
    "from bonsai.ensemble.paloforest import PaloForest"
   ]
  },
  {
   "cell_type": "code",
   "execution_count": 3,
   "id": "productive-slovenia",
   "metadata": {},
   "outputs": [],
   "source": [
    "df = pd.read_pickle('../../data/processed/ictcf.pkl')"
   ]
  },
  {
   "cell_type": "code",
   "execution_count": 4,
   "id": "grand-monkey",
   "metadata": {},
   "outputs": [
    {
     "data": {
      "text/html": [
       "<div>\n",
       "<style scoped>\n",
       "    .dataframe tbody tr th:only-of-type {\n",
       "        vertical-align: middle;\n",
       "    }\n",
       "\n",
       "    .dataframe tbody tr th {\n",
       "        vertical-align: top;\n",
       "    }\n",
       "\n",
       "    .dataframe thead tr th {\n",
       "        text-align: left;\n",
       "    }\n",
       "</style>\n",
       "<table border=\"1\" class=\"dataframe\">\n",
       "  <thead>\n",
       "    <tr>\n",
       "      <th></th>\n",
       "      <th colspan=\"21\" halign=\"left\">Input</th>\n",
       "    </tr>\n",
       "    <tr>\n",
       "      <th></th>\n",
       "      <th colspan=\"10\" halign=\"left\">Clinical</th>\n",
       "      <th>...</th>\n",
       "      <th colspan=\"10\" halign=\"left\">Visual</th>\n",
       "    </tr>\n",
       "    <tr>\n",
       "      <th></th>\n",
       "      <th>Value_5NT</th>\n",
       "      <th>Value_AFU</th>\n",
       "      <th>Value_ALB</th>\n",
       "      <th>Value_ALG</th>\n",
       "      <th>Value_ALP</th>\n",
       "      <th>Value_ALT</th>\n",
       "      <th>Value_APOA1</th>\n",
       "      <th>Value_APOB</th>\n",
       "      <th>Value_APTT</th>\n",
       "      <th>Value_ASO</th>\n",
       "      <th>...</th>\n",
       "      <th>vis_feature_50</th>\n",
       "      <th>vis_feature_51</th>\n",
       "      <th>vis_feature_52</th>\n",
       "      <th>vis_feature_53</th>\n",
       "      <th>vis_feature_54</th>\n",
       "      <th>vis_feature_55</th>\n",
       "      <th>vis_feature_56</th>\n",
       "      <th>vis_feature_57</th>\n",
       "      <th>vis_feature_58</th>\n",
       "      <th>vis_feature_59</th>\n",
       "    </tr>\n",
       "  </thead>\n",
       "  <tbody>\n",
       "    <tr>\n",
       "      <th>0</th>\n",
       "      <td>0.6</td>\n",
       "      <td>NaN</td>\n",
       "      <td>-0.015</td>\n",
       "      <td>-0.6</td>\n",
       "      <td>0.109091</td>\n",
       "      <td>1.657143</td>\n",
       "      <td>NaN</td>\n",
       "      <td>NaN</td>\n",
       "      <td>0.677419</td>\n",
       "      <td>NaN</td>\n",
       "      <td>...</td>\n",
       "      <td>1.495522</td>\n",
       "      <td>1.407101</td>\n",
       "      <td>0.086921</td>\n",
       "      <td>0.072483</td>\n",
       "      <td>0.069505</td>\n",
       "      <td>0.051657</td>\n",
       "      <td>-0.409348</td>\n",
       "      <td>-0.414904</td>\n",
       "      <td>-0.435154</td>\n",
       "      <td>-0.488452</td>\n",
       "    </tr>\n",
       "    <tr>\n",
       "      <th>1</th>\n",
       "      <td>0.9</td>\n",
       "      <td>NaN</td>\n",
       "      <td>0.295</td>\n",
       "      <td>0.2</td>\n",
       "      <td>-0.036364</td>\n",
       "      <td>1.285714</td>\n",
       "      <td>NaN</td>\n",
       "      <td>NaN</td>\n",
       "      <td>1.012903</td>\n",
       "      <td>NaN</td>\n",
       "      <td>...</td>\n",
       "      <td>5.180016</td>\n",
       "      <td>5.079040</td>\n",
       "      <td>3.516342</td>\n",
       "      <td>3.404648</td>\n",
       "      <td>3.442693</td>\n",
       "      <td>3.337378</td>\n",
       "      <td>1.271466</td>\n",
       "      <td>1.221740</td>\n",
       "      <td>1.255130</td>\n",
       "      <td>1.191330</td>\n",
       "    </tr>\n",
       "    <tr>\n",
       "      <th>2</th>\n",
       "      <td>NaN</td>\n",
       "      <td>NaN</td>\n",
       "      <td>-0.250</td>\n",
       "      <td>-1.2</td>\n",
       "      <td>0.036364</td>\n",
       "      <td>1.542857</td>\n",
       "      <td>NaN</td>\n",
       "      <td>NaN</td>\n",
       "      <td>NaN</td>\n",
       "      <td>NaN</td>\n",
       "      <td>...</td>\n",
       "      <td>0.097889</td>\n",
       "      <td>0.061765</td>\n",
       "      <td>-0.239709</td>\n",
       "      <td>-0.255159</td>\n",
       "      <td>-0.260668</td>\n",
       "      <td>-0.277846</td>\n",
       "      <td>-0.393225</td>\n",
       "      <td>-0.406874</td>\n",
       "      <td>-0.414642</td>\n",
       "      <td>-0.454006</td>\n",
       "    </tr>\n",
       "    <tr>\n",
       "      <th>3</th>\n",
       "      <td>0.8</td>\n",
       "      <td>NaN</td>\n",
       "      <td>-0.165</td>\n",
       "      <td>-0.6</td>\n",
       "      <td>0.236364</td>\n",
       "      <td>0.857143</td>\n",
       "      <td>NaN</td>\n",
       "      <td>NaN</td>\n",
       "      <td>0.696774</td>\n",
       "      <td>NaN</td>\n",
       "      <td>...</td>\n",
       "      <td>0.958515</td>\n",
       "      <td>0.878605</td>\n",
       "      <td>0.145058</td>\n",
       "      <td>0.107863</td>\n",
       "      <td>0.133092</td>\n",
       "      <td>0.092496</td>\n",
       "      <td>-0.333626</td>\n",
       "      <td>-0.353214</td>\n",
       "      <td>-0.352350</td>\n",
       "      <td>-0.419885</td>\n",
       "    </tr>\n",
       "    <tr>\n",
       "      <th>4</th>\n",
       "      <td>NaN</td>\n",
       "      <td>NaN</td>\n",
       "      <td>NaN</td>\n",
       "      <td>NaN</td>\n",
       "      <td>NaN</td>\n",
       "      <td>NaN</td>\n",
       "      <td>NaN</td>\n",
       "      <td>NaN</td>\n",
       "      <td>NaN</td>\n",
       "      <td>NaN</td>\n",
       "      <td>...</td>\n",
       "      <td>-0.102868</td>\n",
       "      <td>-0.146057</td>\n",
       "      <td>-0.608026</td>\n",
       "      <td>-0.617320</td>\n",
       "      <td>-0.617773</td>\n",
       "      <td>-0.630355</td>\n",
       "      <td>-0.611461</td>\n",
       "      <td>-0.623873</td>\n",
       "      <td>-0.624798</td>\n",
       "      <td>-0.681182</td>\n",
       "    </tr>\n",
       "    <tr>\n",
       "      <th>...</th>\n",
       "      <td>...</td>\n",
       "      <td>...</td>\n",
       "      <td>...</td>\n",
       "      <td>...</td>\n",
       "      <td>...</td>\n",
       "      <td>...</td>\n",
       "      <td>...</td>\n",
       "      <td>...</td>\n",
       "      <td>...</td>\n",
       "      <td>...</td>\n",
       "      <td>...</td>\n",
       "      <td>...</td>\n",
       "      <td>...</td>\n",
       "      <td>...</td>\n",
       "      <td>...</td>\n",
       "      <td>...</td>\n",
       "      <td>...</td>\n",
       "      <td>...</td>\n",
       "      <td>...</td>\n",
       "      <td>...</td>\n",
       "      <td>...</td>\n",
       "    </tr>\n",
       "    <tr>\n",
       "      <th>1516</th>\n",
       "      <td>0.9</td>\n",
       "      <td>NaN</td>\n",
       "      <td>-0.045</td>\n",
       "      <td>-0.8</td>\n",
       "      <td>0.172727</td>\n",
       "      <td>2.600000</td>\n",
       "      <td>NaN</td>\n",
       "      <td>NaN</td>\n",
       "      <td>0.935484</td>\n",
       "      <td>NaN</td>\n",
       "      <td>...</td>\n",
       "      <td>2.803237</td>\n",
       "      <td>2.507623</td>\n",
       "      <td>0.919673</td>\n",
       "      <td>0.772426</td>\n",
       "      <td>0.912312</td>\n",
       "      <td>0.760904</td>\n",
       "      <td>-0.141144</td>\n",
       "      <td>-0.196170</td>\n",
       "      <td>-0.162558</td>\n",
       "      <td>-0.266687</td>\n",
       "    </tr>\n",
       "    <tr>\n",
       "      <th>1517</th>\n",
       "      <td>NaN</td>\n",
       "      <td>NaN</td>\n",
       "      <td>NaN</td>\n",
       "      <td>NaN</td>\n",
       "      <td>NaN</td>\n",
       "      <td>NaN</td>\n",
       "      <td>NaN</td>\n",
       "      <td>NaN</td>\n",
       "      <td>NaN</td>\n",
       "      <td>NaN</td>\n",
       "      <td>...</td>\n",
       "      <td>-0.630937</td>\n",
       "      <td>-0.590748</td>\n",
       "      <td>-0.850672</td>\n",
       "      <td>-0.832764</td>\n",
       "      <td>-0.867031</td>\n",
       "      <td>-0.852193</td>\n",
       "      <td>-0.569649</td>\n",
       "      <td>-0.572261</td>\n",
       "      <td>-0.597436</td>\n",
       "      <td>-0.649602</td>\n",
       "    </tr>\n",
       "    <tr>\n",
       "      <th>1518</th>\n",
       "      <td>NaN</td>\n",
       "      <td>NaN</td>\n",
       "      <td>NaN</td>\n",
       "      <td>NaN</td>\n",
       "      <td>NaN</td>\n",
       "      <td>NaN</td>\n",
       "      <td>NaN</td>\n",
       "      <td>NaN</td>\n",
       "      <td>NaN</td>\n",
       "      <td>NaN</td>\n",
       "      <td>...</td>\n",
       "      <td>-0.516554</td>\n",
       "      <td>-0.496094</td>\n",
       "      <td>-0.825329</td>\n",
       "      <td>-0.808753</td>\n",
       "      <td>-0.834399</td>\n",
       "      <td>-0.821405</td>\n",
       "      <td>-0.645694</td>\n",
       "      <td>-0.645272</td>\n",
       "      <td>-0.667305</td>\n",
       "      <td>-0.714351</td>\n",
       "    </tr>\n",
       "    <tr>\n",
       "      <th>1519</th>\n",
       "      <td>NaN</td>\n",
       "      <td>NaN</td>\n",
       "      <td>NaN</td>\n",
       "      <td>NaN</td>\n",
       "      <td>NaN</td>\n",
       "      <td>NaN</td>\n",
       "      <td>NaN</td>\n",
       "      <td>NaN</td>\n",
       "      <td>NaN</td>\n",
       "      <td>NaN</td>\n",
       "      <td>...</td>\n",
       "      <td>0.124466</td>\n",
       "      <td>0.111390</td>\n",
       "      <td>-0.201476</td>\n",
       "      <td>-0.209360</td>\n",
       "      <td>-0.209015</td>\n",
       "      <td>-0.221224</td>\n",
       "      <td>-0.407458</td>\n",
       "      <td>-0.420308</td>\n",
       "      <td>-0.431136</td>\n",
       "      <td>-0.493907</td>\n",
       "    </tr>\n",
       "    <tr>\n",
       "      <th>1520</th>\n",
       "      <td>NaN</td>\n",
       "      <td>NaN</td>\n",
       "      <td>NaN</td>\n",
       "      <td>NaN</td>\n",
       "      <td>NaN</td>\n",
       "      <td>NaN</td>\n",
       "      <td>NaN</td>\n",
       "      <td>NaN</td>\n",
       "      <td>NaN</td>\n",
       "      <td>NaN</td>\n",
       "      <td>...</td>\n",
       "      <td>1.869963</td>\n",
       "      <td>1.792377</td>\n",
       "      <td>1.302997</td>\n",
       "      <td>7.887997</td>\n",
       "      <td>1.169276</td>\n",
       "      <td>0.061628</td>\n",
       "      <td>-4.302420</td>\n",
       "      <td>-4.605498</td>\n",
       "      <td>-4.470306</td>\n",
       "      <td>-0.518231</td>\n",
       "    </tr>\n",
       "  </tbody>\n",
       "</table>\n",
       "<p>1521 rows × 192 columns</p>\n",
       "</div>"
      ],
      "text/plain": [
       "         Input                                                                \\\n",
       "      Clinical                                                                 \n",
       "     Value_5NT Value_AFU Value_ALB Value_ALG Value_ALP Value_ALT Value_APOA1   \n",
       "0          0.6       NaN    -0.015      -0.6  0.109091  1.657143         NaN   \n",
       "1          0.9       NaN     0.295       0.2 -0.036364  1.285714         NaN   \n",
       "2          NaN       NaN    -0.250      -1.2  0.036364  1.542857         NaN   \n",
       "3          0.8       NaN    -0.165      -0.6  0.236364  0.857143         NaN   \n",
       "4          NaN       NaN       NaN       NaN       NaN       NaN         NaN   \n",
       "...        ...       ...       ...       ...       ...       ...         ...   \n",
       "1516       0.9       NaN    -0.045      -0.8  0.172727  2.600000         NaN   \n",
       "1517       NaN       NaN       NaN       NaN       NaN       NaN         NaN   \n",
       "1518       NaN       NaN       NaN       NaN       NaN       NaN         NaN   \n",
       "1519       NaN       NaN       NaN       NaN       NaN       NaN         NaN   \n",
       "1520       NaN       NaN       NaN       NaN       NaN       NaN         NaN   \n",
       "\n",
       "                                      ...                                \\\n",
       "                                      ...         Visual                  \n",
       "     Value_APOB Value_APTT Value_ASO  ... vis_feature_50 vis_feature_51   \n",
       "0           NaN   0.677419       NaN  ...       1.495522       1.407101   \n",
       "1           NaN   1.012903       NaN  ...       5.180016       5.079040   \n",
       "2           NaN        NaN       NaN  ...       0.097889       0.061765   \n",
       "3           NaN   0.696774       NaN  ...       0.958515       0.878605   \n",
       "4           NaN        NaN       NaN  ...      -0.102868      -0.146057   \n",
       "...         ...        ...       ...  ...            ...            ...   \n",
       "1516        NaN   0.935484       NaN  ...       2.803237       2.507623   \n",
       "1517        NaN        NaN       NaN  ...      -0.630937      -0.590748   \n",
       "1518        NaN        NaN       NaN  ...      -0.516554      -0.496094   \n",
       "1519        NaN        NaN       NaN  ...       0.124466       0.111390   \n",
       "1520        NaN        NaN       NaN  ...       1.869963       1.792377   \n",
       "\n",
       "                                                                  \\\n",
       "                                                                   \n",
       "     vis_feature_52 vis_feature_53 vis_feature_54 vis_feature_55   \n",
       "0          0.086921       0.072483       0.069505       0.051657   \n",
       "1          3.516342       3.404648       3.442693       3.337378   \n",
       "2         -0.239709      -0.255159      -0.260668      -0.277846   \n",
       "3          0.145058       0.107863       0.133092       0.092496   \n",
       "4         -0.608026      -0.617320      -0.617773      -0.630355   \n",
       "...             ...            ...            ...            ...   \n",
       "1516       0.919673       0.772426       0.912312       0.760904   \n",
       "1517      -0.850672      -0.832764      -0.867031      -0.852193   \n",
       "1518      -0.825329      -0.808753      -0.834399      -0.821405   \n",
       "1519      -0.201476      -0.209360      -0.209015      -0.221224   \n",
       "1520       1.302997       7.887997       1.169276       0.061628   \n",
       "\n",
       "                                                                  \n",
       "                                                                  \n",
       "     vis_feature_56 vis_feature_57 vis_feature_58 vis_feature_59  \n",
       "0         -0.409348      -0.414904      -0.435154      -0.488452  \n",
       "1          1.271466       1.221740       1.255130       1.191330  \n",
       "2         -0.393225      -0.406874      -0.414642      -0.454006  \n",
       "3         -0.333626      -0.353214      -0.352350      -0.419885  \n",
       "4         -0.611461      -0.623873      -0.624798      -0.681182  \n",
       "...             ...            ...            ...            ...  \n",
       "1516      -0.141144      -0.196170      -0.162558      -0.266687  \n",
       "1517      -0.569649      -0.572261      -0.597436      -0.649602  \n",
       "1518      -0.645694      -0.645272      -0.667305      -0.714351  \n",
       "1519      -0.407458      -0.420308      -0.431136      -0.493907  \n",
       "1520      -4.302420      -4.605498      -4.470306      -0.518231  \n",
       "\n",
       "[1521 rows x 192 columns]"
      ]
     },
     "execution_count": 4,
     "metadata": {},
     "output_type": "execute_result"
    }
   ],
   "source": [
    "df"
   ]
  },
  {
   "cell_type": "code",
   "execution_count": 259,
   "id": "frozen-europe",
   "metadata": {},
   "outputs": [],
   "source": [
    "df_train = df[df.Meta.Metadata_Hospital != 'Union']\n",
    "df_test = df[df.Meta.Metadata_Hospital == 'Union']"
   ]
  },
  {
   "cell_type": "code",
   "execution_count": 260,
   "id": "veterinary-transportation",
   "metadata": {},
   "outputs": [],
   "source": [
    "import numpy as np\n",
    "import re\n",
    "def prepare(X):\n",
    "    for col in X.select_dtypes(include=['category']):\n",
    "        X[col] = X[col].cat.codes\n",
    "        X.loc[X[col] < 0, col] = np.nan\n",
    "\n",
    "    X.columns = [re.sub(r'[^0-9a-zA-Z_-]+ ', '', '_'.join(col).strip()) for col in X.columns.values]\n",
    "    return X\n",
    "\n",
    "X_train, y_train = df_train.Input.Clinical, df_train.Target.Metadata_PCR\n",
    "X_test, y_test = df_test.Input.Clinical, df_test.Target.Metadata_PCR\n",
    "X_train = prepare(X_train)\n",
    "X_test = prepare(X_test)"
   ]
  },
  {
   "cell_type": "code",
   "execution_count": 264,
   "id": "grand-syracuse",
   "metadata": {},
   "outputs": [
    {
     "data": {
      "text/plain": [
       "LGBMClassifier()"
      ]
     },
     "execution_count": 264,
     "metadata": {},
     "output_type": "execute_result"
    }
   ],
   "source": [
    "# %%timeit\n",
    "from bonsai.ensemble.randomforests import RandomForests\n",
    "from sklearn.ensemble import BaggingClassifier\n",
    "from bonsai.base.friedmantree import FriedmanTree\n",
    "from bonsai.ensemble.gbm import GBM\n",
    "from sklearn.svm import SVC\n",
    "from sklearn.neural_network import MLPClassifier\n",
    "from sklearn.pipeline import make_pipeline\n",
    "from sklearn.impute import SimpleImputer\n",
    "from sklearn.neighbors import KNeighborsClassifier\n",
    "from sklearn.naive_bayes import GaussianNB\n",
    "from sklearn.linear_model import BayesianRidge\n",
    "from sklearn.preprocessing import StandardScaler\n",
    "from lightgbm.sklearn import LGBMClassifier\n",
    "# boost = RandomForests(C45Tree, {})\n",
    "# boost = BaggingClassifier(C45Tree())\n",
    "# boost = GBM(distribution='')\n",
    "# boost = SVC()\n",
    "boost = make_pipeline(\n",
    "    SimpleImputer(), \n",
    "    MLPClassifier(hidden_layer_sizes=(5, ))\n",
    ")\n",
    "# boost = PaloBoost(distribution='gaussian', max_depth=2)\n",
    "# boost = make_pipeline(\n",
    "#     SimpleImputer(), \n",
    "#     StandardScaler(), \n",
    "#     BayesianRidge()\n",
    "# )\n",
    "# boost = BaggingClassifier(LGBMClassifier(n_jobs=-1, boosting_type='gbdt', n_estimators=10), n_estimators=4000, max_samples=1.0, bootstrap_features=False)\n",
    "boost = LGBMClassifier(n_jobs=-1)\n",
    "boost.fit(X_train.values, (y_train == 'Positive').values)"
   ]
  },
  {
   "cell_type": "code",
   "execution_count": 265,
   "id": "stunning-square",
   "metadata": {},
   "outputs": [
    {
     "data": {
      "text/plain": [
       "0.5657193605683837"
      ]
     },
     "execution_count": 265,
     "metadata": {},
     "output_type": "execute_result"
    }
   ],
   "source": [
    "from sklearn.metrics import accuracy_score\n",
    "accuracy_score((y_test == 'Positive').values, np.round(boost.predict(X_test.values)))"
   ]
  },
  {
   "cell_type": "code",
   "execution_count": 266,
   "id": "collaborative-expert",
   "metadata": {
    "tags": []
   },
   "outputs": [
    {
     "data": {
      "text/plain": [
       "0.6733189016093886"
      ]
     },
     "execution_count": 266,
     "metadata": {},
     "output_type": "execute_result"
    }
   ],
   "source": [
    "from sklearn.metrics import roc_auc_score\n",
    "roc_auc_score((y_test == 'Positive').values, boost.predict_proba(X_test.values)[:, 1])"
   ]
  },
  {
   "cell_type": "code",
   "execution_count": 307,
   "id": "collective-karma",
   "metadata": {},
   "outputs": [],
   "source": [
    "import shap\n",
    "top_feat = np.argsort(np.abs(shap.TreeExplainer(LGBMClassifier(n_jobs=-1).fit(X_train.values, (y_train == 'Positive').values))(X_test.values)[:, :, 1].values).mean(axis=0))[-10:]"
   ]
  },
  {
   "cell_type": "code",
   "execution_count": 308,
   "id": "prostate-grade",
   "metadata": {},
   "outputs": [
    {
     "data": {
      "text/plain": [
       "<AxesSubplot:>"
      ]
     },
     "execution_count": 308,
     "metadata": {},
     "output_type": "execute_result"
    },
    {
     "data": {
      "image/png": "[encoded data removed]",
      "text/plain": [
       "<Figure size 432x288 with 1 Axes>"
      ]
     },
     "metadata": {
      "needs_background": "light"
     },
     "output_type": "display_data"
    }
   ],
   "source": [
    "(X_train.iloc[:, top_feat].isna().sum()/X_train.shape[0]).plot()\n",
    "(X_test.iloc[:, top_feat].isna().sum()/X_test.shape[0]).plot()"
   ]
  },
  {
   "cell_type": "code",
   "execution_count": 291,
   "id": "micro-elements",
   "metadata": {},
   "outputs": [
    {
     "data": {
      "text/plain": [
       "0.01631334034368707"
      ]
     },
     "execution_count": 291,
     "metadata": {},
     "output_type": "execute_result"
    }
   ],
   "source": [
    "(df_train_r.isna().sum()/df_train_r.shape[0] - df_test_r.isna().sum()/df_test_r.shape[0]).abs().mean()"
   ]
  },
  {
   "cell_type": "code",
   "execution_count": 289,
   "id": "specialized-valuation",
   "metadata": {},
   "outputs": [
    {
     "data": {
      "text/plain": [
       "<AxesSubplot:>"
      ]
     },
     "execution_count": 289,
     "metadata": {},
     "output_type": "execute_result"
    },
    {
     "data": {
      "image/png": "[encoded data removed]",
      "text/plain": [
       "<Figure size 432x288 with 1 Axes>"
      ]
     },
     "metadata": {
      "needs_background": "light"
     },
     "output_type": "display_data"
    }
   ],
   "source": [
    "(X_train.isna().sum()/X_train.shape[0] - X_test.isna().sum()/X_test.shape[0]).abs().plot()\n",
    "(df_train_r.isna().sum()/df_train_r.shape[0] - df_test_r.isna().sum()/df_test_r.shape[0]).abs().plot()"
   ]
  },
  {
   "cell_type": "code",
   "execution_count": 286,
   "id": "promising-compiler",
   "metadata": {},
   "outputs": [],
   "source": [
    "from sklearn.model_selection import train_test_split\n",
    "df_train_r, df_test_r = train_test_split(df, test_size=0.2, shuffle=True)"
   ]
  },
  {
   "cell_type": "code",
   "execution_count": 288,
   "id": "equivalent-sending",
   "metadata": {},
   "outputs": [
    {
     "data": {
      "text/plain": [
       "<AxesSubplot:>"
      ]
     },
     "execution_count": 288,
     "metadata": {},
     "output_type": "execute_result"
    },
    {
     "data": {
      "image/png": "[encoded data removed]",
      "text/plain": [
       "<Figure size 432x288 with 1 Axes>"
      ]
     },
     "metadata": {
      "needs_background": "light"
     },
     "output_type": "display_data"
    }
   ],
   "source": [
    "(df_train_r.isna().sum()/df_train_r.shape[0] - df_test_r.isna().sum()/df_test_r.shape[0]).abs().plot()"
   ]
  },
  {
   "cell_type": "code",
   "execution_count": 262,
   "id": "finnish-orbit",
   "metadata": {},
   "outputs": [
    {
     "data": {
      "text/plain": [
       "0.5452930728241563"
      ]
     },
     "execution_count": 262,
     "metadata": {},
     "output_type": "execute_result"
    }
   ],
   "source": [
    "from sklearn.metrics import accuracy_score\n",
    "accuracy_score((y_test == 'Positive').values, np.round(boost.predict(X_test.values)))"
   ]
  },
  {
   "cell_type": "code",
   "execution_count": 263,
   "id": "smart-parker",
   "metadata": {
    "tags": []
   },
   "outputs": [
    {
     "data": {
      "text/plain": [
       "0.6965604391264859"
      ]
     },
     "execution_count": 263,
     "metadata": {},
     "output_type": "execute_result"
    }
   ],
   "source": [
    "from sklearn.metrics import roc_auc_score\n",
    "roc_auc_score((y_test == 'Positive').values, boost.predict_proba(X_test.values)[:, 1])"
   ]
  },
  {
   "cell_type": "code",
   "execution_count": 254,
   "id": "portable-buying",
   "metadata": {},
   "outputs": [
    {
     "name": "stderr",
     "output_type": "stream",
     "text": [
      "c:\\users\\roel\\.virtualenvs\\diagcovid-ckc2berq\\lib\\site-packages\\numpy\\lib\\nanfunctions.py:1390: RuntimeWarning: All-NaN slice encountered\n",
      "  overwrite_input, interpolation)\n"
     ]
    }
   ],
   "source": [
    "# %%timeit\n",
    "from bonsai.ensemble.randomforests import RandomForests\n",
    "from sklearn.ensemble import BaggingClassifier\n",
    "from bonsai.base.friedmantree import FriedmanTree\n",
    "from bonsai.ensemble.gbm import GBM\n",
    "from sklearn.svm import SVC\n",
    "from sklearn.neural_network import MLPClassifier\n",
    "from sklearn.pipeline import make_pipeline\n",
    "from sklearn.impute import SimpleImputer\n",
    "from sklearn.neighbors import KNeighborsClassifier\n",
    "from sklearn.naive_bayes import GaussianNB\n",
    "from sklearn.linear_model import BayesianRidge\n",
    "from sklearn.preprocessing import StandardScaler\n",
    "from lightgbm.sklearn import LGBMClassifier\n",
    "# boost = RandomForests(C45Tree, {})\n",
    "# boost = BaggingClassifier(C45Tree())\n",
    "# boost = GBM(distribution='')\n",
    "# boost = SVC()\n",
    "boost = make_pipeline(\n",
    "    SimpleImputer(), \n",
    "    MLPClassifier(hidden_layer_sizes=(5, ))\n",
    ")\n",
    "# boost = PaloBoost(distribution='gaussian', max_depth=2)\n",
    "boost = PaloForest()\n",
    "# boost = make_pipeline(\n",
    "#     SimpleImputer(), \n",
    "#     StandardScaler(), \n",
    "#     BayesianRidge()\n",
    "# )\n",
    "# boost = BaggingClassifier(LGBMClassifier(n_jobs=-1, boosting_type='gbdt', n_estimators=10), n_estimators=4000, max_samples=1.0, bootstrap_features=False)\n",
    "boost.fit(X_train.values, (y_train == 'Positive').values)"
   ]
  },
  {
   "cell_type": "code",
   "execution_count": 256,
   "id": "alien-brush",
   "metadata": {},
   "outputs": [
    {
     "data": {
      "text/plain": [
       "0.6227848101265823"
      ]
     },
     "execution_count": 256,
     "metadata": {},
     "output_type": "execute_result"
    }
   ],
   "source": [
    "from sklearn.metrics import accuracy_score\n",
    "accuracy_score((y_test == 'Positive').values, np.round(boost.predict(X_test.values)))"
   ]
  },
  {
   "cell_type": "code",
   "execution_count": 258,
   "id": "supreme-tamil",
   "metadata": {
    "tags": []
   },
   "outputs": [
    {
     "data": {
      "text/plain": [
       "0.6448397386427948"
      ]
     },
     "execution_count": 258,
     "metadata": {},
     "output_type": "execute_result"
    }
   ],
   "source": [
    "from sklearn.metrics import roc_auc_score\n",
    "roc_auc_score((y_test == 'Positive').values, boost.predict_proba(X_test.values))"
   ]
  },
  {
   "cell_type": "code",
   "execution_count": 13,
   "id": "comic-rotation",
   "metadata": {},
   "outputs": [
    {
     "ename": "SystemError",
     "evalue": "CPUDispatcher(<function grow at 0x0000028FFD3BCEE8>) returned a result with an error set",
     "output_type": "error",
     "traceback": [
      "\u001b[1;31m---------------------------------------------------------------------------\u001b[0m",
      "\u001b[1;31mZeroDivisionError\u001b[0m                         Traceback (most recent call last)",
      "\u001b[1;31mZeroDivisionError\u001b[0m: division by zero",
      "\nThe above exception was the direct cause of the following exception:\n",
      "\u001b[1;31mSystemError\u001b[0m                               Traceback (most recent call last)",
      "\u001b[1;32m<ipython-input-13-ee80d83bc54f>\u001b[0m in \u001b[0;36m<module>\u001b[1;34m\u001b[0m\n\u001b[0;32m      1\u001b[0m \u001b[1;32mfrom\u001b[0m \u001b[0mpalobst\u001b[0m \u001b[1;32mimport\u001b[0m \u001b[0mPaloBst\u001b[0m\u001b[1;33m\u001b[0m\u001b[1;33m\u001b[0m\u001b[0m\n\u001b[0;32m      2\u001b[0m \u001b[0mboost\u001b[0m \u001b[1;33m=\u001b[0m \u001b[0mPaloBst\u001b[0m\u001b[1;33m(\u001b[0m\u001b[1;33m)\u001b[0m\u001b[1;33m\u001b[0m\u001b[1;33m\u001b[0m\u001b[0m\n\u001b[1;32m----> 3\u001b[1;33m \u001b[0mboost\u001b[0m\u001b[1;33m.\u001b[0m\u001b[0mfit\u001b[0m\u001b[1;33m(\u001b[0m\u001b[0mX_train\u001b[0m\u001b[1;33m.\u001b[0m\u001b[0mvalues\u001b[0m\u001b[1;33m,\u001b[0m \u001b[1;33m(\u001b[0m\u001b[0my_train\u001b[0m \u001b[1;33m==\u001b[0m \u001b[1;34m'Positive'\u001b[0m\u001b[1;33m)\u001b[0m\u001b[1;33m.\u001b[0m\u001b[0mvalues\u001b[0m\u001b[1;33m)\u001b[0m\u001b[1;33m\u001b[0m\u001b[1;33m\u001b[0m\u001b[0m\n\u001b[0m",
      "\u001b[1;32mc:\\users\\roel\\documents\\diagcovid\\notebooks\\missingness_trees\\palobst\\palobst\\palobst.py\u001b[0m in \u001b[0;36mfit\u001b[1;34m(self, X, y)\u001b[0m\n\u001b[0;32m     93\u001b[0m                     \u001b[0mcache_h\u001b[0m\u001b[1;33m,\u001b[0m\u001b[1;33m\u001b[0m\u001b[1;33m\u001b[0m\u001b[0m\n\u001b[0;32m     94\u001b[0m                     \u001b[0mcache_n\u001b[0m\u001b[1;33m,\u001b[0m\u001b[1;33m\u001b[0m\u001b[1;33m\u001b[0m\u001b[0m\n\u001b[1;32m---> 95\u001b[1;33m                     cache_l)\n\u001b[0m\u001b[0;32m     96\u001b[0m \u001b[1;33m\u001b[0m\u001b[0m\n\u001b[0;32m     97\u001b[0m             bt.update_fi(t_rules[(t_nodes*i):(t_nodes*(i+1)),:],\n",
      "\u001b[1;31mSystemError\u001b[0m: CPUDispatcher(<function grow at 0x0000028FFD3BCEE8>) returned a result with an error set"
     ]
    }
   ],
   "source": [
    "from palobst import PaloBst\n",
    "boost = PaloBst()\n",
    "boost.fit(X_train.values, (y_train == 'Positive').values)"
   ]
  },
  {
   "cell_type": "code",
   "execution_count": 106,
   "id": "hazardous-bangladesh",
   "metadata": {},
   "outputs": [],
   "source": [
    "import optuna\n",
    "from sklearn.model_selection import cross_val_score, StratifiedKFold\n",
    "\n",
    "cv = StratifiedKFold()\n",
    "\n",
    "# 1. Define an objective function to be maximized.\n",
    "def objective(trial):\n",
    "    # 2. Suggest values for the hyperparameters using a trial object.\n",
    "    params = {\n",
    "        'distribution': trial.suggest_categorical('distribution', ['gaussian', 'bernoulli', '']), \n",
    "        'learning_rate': trial.suggest_loguniform('learning_rate', 1e-10, 0.5), \n",
    "        'subsample': trial.suggest_uniform('subsample', 0.1, 1.0), \n",
    "        'subsample_splts': trial.suggest_uniform('subsample_splits', 0.5, 1.0), \n",
    "        'max_depth': trial.suggest_int('max_depth', 1, 12), \n",
    "        'n_estimators': trial.suggest_int('n_estimators', 3, 280)\n",
    "    }\n",
    "    \n",
    "    clf = PaloBoost(n_jobs=8, **params)\n",
    "#     def get_params(deep=False):\n",
    "#         return params\n",
    "#     clf.get_params = get_params\n",
    "#     print(clf.get_params())\n",
    "    \n",
    "#     clf.fit(X_train.values, (y_train == 'Positive').values)\n",
    "    X, y =  X_train.values, (y_train == 'Positive').values\n",
    "    scores = []\n",
    "    for train_ind, test_ind in cv.split(X, y):\n",
    "        X_train_new, y_train_new = X[train_ind], y[train_ind]\n",
    "        X_val, y_val = X[test_ind], y[test_ind]\n",
    "        \n",
    "        clf.fit(X_train_new, y_train_new)\n",
    "        scores.append(roc_auc_score(y_val, (clf.predict_proba(X_val))))\n",
    "        \n",
    "#     cross_val_score(clf, X_train.values, (y_train == 'Positive').values, scoring='roc_auc')\n",
    "    \n",
    "    return np.mean(scores)"
   ]
  },
  {
   "cell_type": "code",
   "execution_count": 107,
   "id": "outstanding-identifier",
   "metadata": {},
   "outputs": [
    {
     "name": "stderr",
     "output_type": "stream",
     "text": [
      "\u001b[32m[I 2021-07-05 16:03:18,378]\u001b[0m A new study created in memory with name: no-name-1b628fad-9c45-4bec-a942-9f850bb4e3d7\u001b[0m\n",
      "c:\\users\\roel\\.virtualenvs\\diagcovid-ckc2berq\\lib\\site-packages\\numpy\\lib\\nanfunctions.py:1390: RuntimeWarning: All-NaN slice encountered\n",
      "  overwrite_input, interpolation)\n",
      "c:\\users\\roel\\.virtualenvs\\diagcovid-ckc2berq\\lib\\site-packages\\numpy\\lib\\nanfunctions.py:1390: RuntimeWarning: All-NaN slice encountered\n",
      "  overwrite_input, interpolation)\n",
      "c:\\users\\roel\\.virtualenvs\\diagcovid-ckc2berq\\lib\\site-packages\\numpy\\lib\\nanfunctions.py:1390: RuntimeWarning: All-NaN slice encountered\n",
      "  overwrite_input, interpolation)\n",
      "c:\\users\\roel\\.virtualenvs\\diagcovid-ckc2berq\\lib\\site-packages\\numpy\\lib\\nanfunctions.py:1390: RuntimeWarning: All-NaN slice encountered\n",
      "  overwrite_input, interpolation)\n",
      "c:\\users\\roel\\.virtualenvs\\diagcovid-ckc2berq\\lib\\site-packages\\numpy\\lib\\nanfunctions.py:1390: RuntimeWarning: All-NaN slice encountered\n",
      "  overwrite_input, interpolation)\n",
      "\u001b[32m[I 2021-07-05 16:03:37,889]\u001b[0m Trial 0 finished with value: 0.5 and parameters: {'distribution': 'gaussian', 'learning_rate': 5.813289309998497e-06, 'subsample': 0.64146570154663, 'subsample_splits': 0.9362335950344378, 'max_depth': 1, 'n_estimators': 196}. Best is trial 0 with value: 0.5.\u001b[0m\n",
      "c:\\users\\roel\\.virtualenvs\\diagcovid-ckc2berq\\lib\\site-packages\\numpy\\lib\\nanfunctions.py:1390: RuntimeWarning: All-NaN slice encountered\n",
      "  overwrite_input, interpolation)\n",
      "c:\\users\\roel\\.virtualenvs\\diagcovid-ckc2berq\\lib\\site-packages\\numpy\\lib\\nanfunctions.py:1390: RuntimeWarning: All-NaN slice encountered\n",
      "  overwrite_input, interpolation)\n",
      "c:\\users\\roel\\.virtualenvs\\diagcovid-ckc2berq\\lib\\site-packages\\numpy\\lib\\nanfunctions.py:1390: RuntimeWarning: All-NaN slice encountered\n",
      "  overwrite_input, interpolation)\n",
      "c:\\users\\roel\\.virtualenvs\\diagcovid-ckc2berq\\lib\\site-packages\\numpy\\lib\\nanfunctions.py:1390: RuntimeWarning: All-NaN slice encountered\n",
      "  overwrite_input, interpolation)\n",
      "c:\\users\\roel\\.virtualenvs\\diagcovid-ckc2berq\\lib\\site-packages\\numpy\\lib\\nanfunctions.py:1390: RuntimeWarning: All-NaN slice encountered\n",
      "  overwrite_input, interpolation)\n",
      "\u001b[32m[I 2021-07-05 16:05:01,996]\u001b[0m Trial 1 finished with value: 0.8748303390660339 and parameters: {'distribution': '', 'learning_rate': 7.0932367651222755e-06, 'subsample': 0.37205130869268666, 'subsample_splits': 0.7745411241949469, 'max_depth': 3, 'n_estimators': 215}. Best is trial 1 with value: 0.8748303390660339.\u001b[0m\n",
      "c:\\users\\roel\\.virtualenvs\\diagcovid-ckc2berq\\lib\\site-packages\\numpy\\lib\\nanfunctions.py:1390: RuntimeWarning: All-NaN slice encountered\n",
      "  overwrite_input, interpolation)\n",
      "c:\\users\\roel\\.virtualenvs\\diagcovid-ckc2berq\\lib\\site-packages\\numpy\\lib\\nanfunctions.py:1390: RuntimeWarning: All-NaN slice encountered\n",
      "  overwrite_input, interpolation)\n",
      "c:\\users\\roel\\.virtualenvs\\diagcovid-ckc2berq\\lib\\site-packages\\numpy\\lib\\nanfunctions.py:1390: RuntimeWarning: All-NaN slice encountered\n",
      "  overwrite_input, interpolation)\n",
      "c:\\users\\roel\\.virtualenvs\\diagcovid-ckc2berq\\lib\\site-packages\\numpy\\lib\\nanfunctions.py:1390: RuntimeWarning: All-NaN slice encountered\n",
      "  overwrite_input, interpolation)\n",
      "c:\\users\\roel\\.virtualenvs\\diagcovid-ckc2berq\\lib\\site-packages\\numpy\\lib\\nanfunctions.py:1390: RuntimeWarning: All-NaN slice encountered\n",
      "  overwrite_input, interpolation)\n",
      "\u001b[32m[I 2021-07-05 16:16:17,458]\u001b[0m Trial 2 finished with value: 0.8816245635499756 and parameters: {'distribution': 'gaussian', 'learning_rate': 5.150965579654248e-05, 'subsample': 0.705836469221825, 'subsample_splits': 0.7879345602117571, 'max_depth': 9, 'n_estimators': 175}. Best is trial 2 with value: 0.8816245635499756.\u001b[0m\n",
      "c:\\users\\roel\\.virtualenvs\\diagcovid-ckc2berq\\lib\\site-packages\\numpy\\lib\\nanfunctions.py:1390: RuntimeWarning: All-NaN slice encountered\n",
      "  overwrite_input, interpolation)\n",
      "\u001b[33m[W 2021-07-05 16:16:42,393]\u001b[0m Trial 3 failed because of the following error: ValueError('y should be a 1d array, got an array of shape (226, 2) instead.')\n",
      "Traceback (most recent call last):\n",
      "  File \"c:\\users\\roel\\.virtualenvs\\diagcovid-ckc2berq\\lib\\site-packages\\optuna\\_optimize.py\", line 217, in _run_trial\n",
      "    value_or_values = func(trial)\n",
      "  File \"<ipython-input-106-6cdde4f3e3a6>\", line 32, in objective\n",
      "    scores.append(roc_auc_score(y_val, (clf.predict_proba(X_val))))\n",
      "  File \"c:\\users\\roel\\.virtualenvs\\diagcovid-ckc2berq\\lib\\site-packages\\sklearn\\utils\\validation.py\", line 63, in inner_f\n",
      "    return f(*args, **kwargs)\n",
      "  File \"c:\\users\\roel\\.virtualenvs\\diagcovid-ckc2berq\\lib\\site-packages\\sklearn\\metrics\\_ranking.py\", line 545, in roc_auc_score\n",
      "    sample_weight=sample_weight)\n",
      "  File \"c:\\users\\roel\\.virtualenvs\\diagcovid-ckc2berq\\lib\\site-packages\\sklearn\\metrics\\_base.py\", line 77, in _average_binary_score\n",
      "    return binary_metric(y_true, y_score, sample_weight=sample_weight)\n",
      "  File \"c:\\users\\roel\\.virtualenvs\\diagcovid-ckc2berq\\lib\\site-packages\\sklearn\\metrics\\_ranking.py\", line 331, in _binary_roc_auc_score\n",
      "    sample_weight=sample_weight)\n",
      "  File \"c:\\users\\roel\\.virtualenvs\\diagcovid-ckc2berq\\lib\\site-packages\\sklearn\\utils\\validation.py\", line 63, in inner_f\n",
      "    return f(*args, **kwargs)\n",
      "  File \"c:\\users\\roel\\.virtualenvs\\diagcovid-ckc2berq\\lib\\site-packages\\sklearn\\metrics\\_ranking.py\", line 914, in roc_curve\n",
      "    y_true, y_score, pos_label=pos_label, sample_weight=sample_weight)\n",
      "  File \"c:\\users\\roel\\.virtualenvs\\diagcovid-ckc2berq\\lib\\site-packages\\sklearn\\metrics\\_ranking.py\", line 695, in _binary_clf_curve\n",
      "    y_score = column_or_1d(y_score)\n",
      "  File \"c:\\users\\roel\\.virtualenvs\\diagcovid-ckc2berq\\lib\\site-packages\\sklearn\\utils\\validation.py\", line 63, in inner_f\n",
      "    return f(*args, **kwargs)\n",
      "  File \"c:\\users\\roel\\.virtualenvs\\diagcovid-ckc2berq\\lib\\site-packages\\sklearn\\utils\\validation.py\", line 866, in column_or_1d\n",
      "    \"got an array of shape {} instead.\".format(shape))\n",
      "ValueError: y should be a 1d array, got an array of shape (226, 2) instead.\u001b[0m\n"
     ]
    },
    {
     "ename": "ValueError",
     "evalue": "y should be a 1d array, got an array of shape (226, 2) instead.",
     "output_type": "error",
     "traceback": [
      "\u001b[1;31m---------------------------------------------------------------------------\u001b[0m",
      "\u001b[1;31mValueError\u001b[0m                                Traceback (most recent call last)",
      "\u001b[1;32m<ipython-input-107-bc1353d99933>\u001b[0m in \u001b[0;36m<module>\u001b[1;34m\u001b[0m\n\u001b[0;32m      1\u001b[0m \u001b[1;31m# 3. Create a study object and optimize the objective function.\u001b[0m\u001b[1;33m\u001b[0m\u001b[1;33m\u001b[0m\u001b[1;33m\u001b[0m\u001b[0m\n\u001b[0;32m      2\u001b[0m \u001b[0mstudy\u001b[0m \u001b[1;33m=\u001b[0m \u001b[0moptuna\u001b[0m\u001b[1;33m.\u001b[0m\u001b[0mcreate_study\u001b[0m\u001b[1;33m(\u001b[0m\u001b[0mdirection\u001b[0m\u001b[1;33m=\u001b[0m\u001b[1;34m'maximize'\u001b[0m\u001b[1;33m)\u001b[0m\u001b[1;33m\u001b[0m\u001b[1;33m\u001b[0m\u001b[0m\n\u001b[1;32m----> 3\u001b[1;33m \u001b[0mstudy\u001b[0m\u001b[1;33m.\u001b[0m\u001b[0moptimize\u001b[0m\u001b[1;33m(\u001b[0m\u001b[0mobjective\u001b[0m\u001b[1;33m,\u001b[0m \u001b[0mn_trials\u001b[0m\u001b[1;33m=\u001b[0m\u001b[1;36m100\u001b[0m\u001b[1;33m)\u001b[0m\u001b[1;33m\u001b[0m\u001b[1;33m\u001b[0m\u001b[0m\n\u001b[0m",
      "\u001b[1;32mc:\\users\\roel\\.virtualenvs\\diagcovid-ckc2berq\\lib\\site-packages\\optuna\\study.py\u001b[0m in \u001b[0;36moptimize\u001b[1;34m(self, func, n_trials, timeout, n_jobs, catch, callbacks, gc_after_trial, show_progress_bar)\u001b[0m\n\u001b[0;32m    407\u001b[0m             \u001b[0mcallbacks\u001b[0m\u001b[1;33m=\u001b[0m\u001b[0mcallbacks\u001b[0m\u001b[1;33m,\u001b[0m\u001b[1;33m\u001b[0m\u001b[1;33m\u001b[0m\u001b[0m\n\u001b[0;32m    408\u001b[0m             \u001b[0mgc_after_trial\u001b[0m\u001b[1;33m=\u001b[0m\u001b[0mgc_after_trial\u001b[0m\u001b[1;33m,\u001b[0m\u001b[1;33m\u001b[0m\u001b[1;33m\u001b[0m\u001b[0m\n\u001b[1;32m--> 409\u001b[1;33m             \u001b[0mshow_progress_bar\u001b[0m\u001b[1;33m=\u001b[0m\u001b[0mshow_progress_bar\u001b[0m\u001b[1;33m,\u001b[0m\u001b[1;33m\u001b[0m\u001b[1;33m\u001b[0m\u001b[0m\n\u001b[0m\u001b[0;32m    410\u001b[0m         )\n\u001b[0;32m    411\u001b[0m \u001b[1;33m\u001b[0m\u001b[0m\n",
      "\u001b[1;32mc:\\users\\roel\\.virtualenvs\\diagcovid-ckc2berq\\lib\\site-packages\\optuna\\_optimize.py\u001b[0m in \u001b[0;36m_optimize\u001b[1;34m(study, func, n_trials, timeout, n_jobs, catch, callbacks, gc_after_trial, show_progress_bar)\u001b[0m\n\u001b[0;32m     74\u001b[0m                 \u001b[0mreseed_sampler_rng\u001b[0m\u001b[1;33m=\u001b[0m\u001b[1;32mFalse\u001b[0m\u001b[1;33m,\u001b[0m\u001b[1;33m\u001b[0m\u001b[1;33m\u001b[0m\u001b[0m\n\u001b[0;32m     75\u001b[0m                 \u001b[0mtime_start\u001b[0m\u001b[1;33m=\u001b[0m\u001b[1;32mNone\u001b[0m\u001b[1;33m,\u001b[0m\u001b[1;33m\u001b[0m\u001b[1;33m\u001b[0m\u001b[0m\n\u001b[1;32m---> 76\u001b[1;33m                 \u001b[0mprogress_bar\u001b[0m\u001b[1;33m=\u001b[0m\u001b[0mprogress_bar\u001b[0m\u001b[1;33m,\u001b[0m\u001b[1;33m\u001b[0m\u001b[1;33m\u001b[0m\u001b[0m\n\u001b[0m\u001b[0;32m     77\u001b[0m             )\n\u001b[0;32m     78\u001b[0m         \u001b[1;32melse\u001b[0m\u001b[1;33m:\u001b[0m\u001b[1;33m\u001b[0m\u001b[1;33m\u001b[0m\u001b[0m\n",
      "\u001b[1;32mc:\\users\\roel\\.virtualenvs\\diagcovid-ckc2berq\\lib\\site-packages\\optuna\\_optimize.py\u001b[0m in \u001b[0;36m_optimize_sequential\u001b[1;34m(study, func, n_trials, timeout, catch, callbacks, gc_after_trial, reseed_sampler_rng, time_start, progress_bar)\u001b[0m\n\u001b[0;32m    161\u001b[0m \u001b[1;33m\u001b[0m\u001b[0m\n\u001b[0;32m    162\u001b[0m         \u001b[1;32mtry\u001b[0m\u001b[1;33m:\u001b[0m\u001b[1;33m\u001b[0m\u001b[1;33m\u001b[0m\u001b[0m\n\u001b[1;32m--> 163\u001b[1;33m             \u001b[0mtrial\u001b[0m \u001b[1;33m=\u001b[0m \u001b[0m_run_trial\u001b[0m\u001b[1;33m(\u001b[0m\u001b[0mstudy\u001b[0m\u001b[1;33m,\u001b[0m \u001b[0mfunc\u001b[0m\u001b[1;33m,\u001b[0m \u001b[0mcatch\u001b[0m\u001b[1;33m)\u001b[0m\u001b[1;33m\u001b[0m\u001b[1;33m\u001b[0m\u001b[0m\n\u001b[0m\u001b[0;32m    164\u001b[0m         \u001b[1;32mexcept\u001b[0m \u001b[0mException\u001b[0m\u001b[1;33m:\u001b[0m\u001b[1;33m\u001b[0m\u001b[1;33m\u001b[0m\u001b[0m\n\u001b[0;32m    165\u001b[0m             \u001b[1;32mraise\u001b[0m\u001b[1;33m\u001b[0m\u001b[1;33m\u001b[0m\u001b[0m\n",
      "\u001b[1;32mc:\\users\\roel\\.virtualenvs\\diagcovid-ckc2berq\\lib\\site-packages\\optuna\\_optimize.py\u001b[0m in \u001b[0;36m_run_trial\u001b[1;34m(study, func, catch)\u001b[0m\n\u001b[0;32m    266\u001b[0m \u001b[1;33m\u001b[0m\u001b[0m\n\u001b[0;32m    267\u001b[0m     \u001b[1;32mif\u001b[0m \u001b[0mstate\u001b[0m \u001b[1;33m==\u001b[0m \u001b[0mTrialState\u001b[0m\u001b[1;33m.\u001b[0m\u001b[0mFAIL\u001b[0m \u001b[1;32mand\u001b[0m \u001b[0mfunc_err\u001b[0m \u001b[1;32mis\u001b[0m \u001b[1;32mnot\u001b[0m \u001b[1;32mNone\u001b[0m \u001b[1;32mand\u001b[0m \u001b[1;32mnot\u001b[0m \u001b[0misinstance\u001b[0m\u001b[1;33m(\u001b[0m\u001b[0mfunc_err\u001b[0m\u001b[1;33m,\u001b[0m \u001b[0mcatch\u001b[0m\u001b[1;33m)\u001b[0m\u001b[1;33m:\u001b[0m\u001b[1;33m\u001b[0m\u001b[1;33m\u001b[0m\u001b[0m\n\u001b[1;32m--> 268\u001b[1;33m         \u001b[1;32mraise\u001b[0m \u001b[0mfunc_err\u001b[0m\u001b[1;33m\u001b[0m\u001b[1;33m\u001b[0m\u001b[0m\n\u001b[0m\u001b[0;32m    269\u001b[0m     \u001b[1;32mreturn\u001b[0m \u001b[0mtrial\u001b[0m\u001b[1;33m\u001b[0m\u001b[1;33m\u001b[0m\u001b[0m\n\u001b[0;32m    270\u001b[0m \u001b[1;33m\u001b[0m\u001b[0m\n",
      "\u001b[1;32mc:\\users\\roel\\.virtualenvs\\diagcovid-ckc2berq\\lib\\site-packages\\optuna\\_optimize.py\u001b[0m in \u001b[0;36m_run_trial\u001b[1;34m(study, func, catch)\u001b[0m\n\u001b[0;32m    215\u001b[0m \u001b[1;33m\u001b[0m\u001b[0m\n\u001b[0;32m    216\u001b[0m     \u001b[1;32mtry\u001b[0m\u001b[1;33m:\u001b[0m\u001b[1;33m\u001b[0m\u001b[1;33m\u001b[0m\u001b[0m\n\u001b[1;32m--> 217\u001b[1;33m         \u001b[0mvalue_or_values\u001b[0m \u001b[1;33m=\u001b[0m \u001b[0mfunc\u001b[0m\u001b[1;33m(\u001b[0m\u001b[0mtrial\u001b[0m\u001b[1;33m)\u001b[0m\u001b[1;33m\u001b[0m\u001b[1;33m\u001b[0m\u001b[0m\n\u001b[0m\u001b[0;32m    218\u001b[0m     \u001b[1;32mexcept\u001b[0m \u001b[0mexceptions\u001b[0m\u001b[1;33m.\u001b[0m\u001b[0mTrialPruned\u001b[0m \u001b[1;32mas\u001b[0m \u001b[0me\u001b[0m\u001b[1;33m:\u001b[0m\u001b[1;33m\u001b[0m\u001b[1;33m\u001b[0m\u001b[0m\n\u001b[0;32m    219\u001b[0m         \u001b[1;31m# TODO(mamu): Handle multi-objective cases.\u001b[0m\u001b[1;33m\u001b[0m\u001b[1;33m\u001b[0m\u001b[1;33m\u001b[0m\u001b[0m\n",
      "\u001b[1;32m<ipython-input-106-6cdde4f3e3a6>\u001b[0m in \u001b[0;36mobjective\u001b[1;34m(trial)\u001b[0m\n\u001b[0;32m     30\u001b[0m \u001b[1;33m\u001b[0m\u001b[0m\n\u001b[0;32m     31\u001b[0m         \u001b[0mclf\u001b[0m\u001b[1;33m.\u001b[0m\u001b[0mfit\u001b[0m\u001b[1;33m(\u001b[0m\u001b[0mX_train_new\u001b[0m\u001b[1;33m,\u001b[0m \u001b[0my_train_new\u001b[0m\u001b[1;33m)\u001b[0m\u001b[1;33m\u001b[0m\u001b[1;33m\u001b[0m\u001b[0m\n\u001b[1;32m---> 32\u001b[1;33m         \u001b[0mscores\u001b[0m\u001b[1;33m.\u001b[0m\u001b[0mappend\u001b[0m\u001b[1;33m(\u001b[0m\u001b[0mroc_auc_score\u001b[0m\u001b[1;33m(\u001b[0m\u001b[0my_val\u001b[0m\u001b[1;33m,\u001b[0m \u001b[1;33m(\u001b[0m\u001b[0mclf\u001b[0m\u001b[1;33m.\u001b[0m\u001b[0mpredict_proba\u001b[0m\u001b[1;33m(\u001b[0m\u001b[0mX_val\u001b[0m\u001b[1;33m)\u001b[0m\u001b[1;33m)\u001b[0m\u001b[1;33m)\u001b[0m\u001b[1;33m)\u001b[0m\u001b[1;33m\u001b[0m\u001b[1;33m\u001b[0m\u001b[0m\n\u001b[0m\u001b[0;32m     33\u001b[0m \u001b[1;33m\u001b[0m\u001b[0m\n\u001b[0;32m     34\u001b[0m \u001b[1;31m#     cross_val_score(clf, X_train.values, (y_train == 'Positive').values, scoring='roc_auc')\u001b[0m\u001b[1;33m\u001b[0m\u001b[1;33m\u001b[0m\u001b[1;33m\u001b[0m\u001b[0m\n",
      "\u001b[1;32mc:\\users\\roel\\.virtualenvs\\diagcovid-ckc2berq\\lib\\site-packages\\sklearn\\utils\\validation.py\u001b[0m in \u001b[0;36minner_f\u001b[1;34m(*args, **kwargs)\u001b[0m\n\u001b[0;32m     61\u001b[0m             \u001b[0mextra_args\u001b[0m \u001b[1;33m=\u001b[0m \u001b[0mlen\u001b[0m\u001b[1;33m(\u001b[0m\u001b[0margs\u001b[0m\u001b[1;33m)\u001b[0m \u001b[1;33m-\u001b[0m \u001b[0mlen\u001b[0m\u001b[1;33m(\u001b[0m\u001b[0mall_args\u001b[0m\u001b[1;33m)\u001b[0m\u001b[1;33m\u001b[0m\u001b[1;33m\u001b[0m\u001b[0m\n\u001b[0;32m     62\u001b[0m             \u001b[1;32mif\u001b[0m \u001b[0mextra_args\u001b[0m \u001b[1;33m<=\u001b[0m \u001b[1;36m0\u001b[0m\u001b[1;33m:\u001b[0m\u001b[1;33m\u001b[0m\u001b[1;33m\u001b[0m\u001b[0m\n\u001b[1;32m---> 63\u001b[1;33m                 \u001b[1;32mreturn\u001b[0m \u001b[0mf\u001b[0m\u001b[1;33m(\u001b[0m\u001b[1;33m*\u001b[0m\u001b[0margs\u001b[0m\u001b[1;33m,\u001b[0m \u001b[1;33m**\u001b[0m\u001b[0mkwargs\u001b[0m\u001b[1;33m)\u001b[0m\u001b[1;33m\u001b[0m\u001b[1;33m\u001b[0m\u001b[0m\n\u001b[0m\u001b[0;32m     64\u001b[0m \u001b[1;33m\u001b[0m\u001b[0m\n\u001b[0;32m     65\u001b[0m             \u001b[1;31m# extra_args > 0\u001b[0m\u001b[1;33m\u001b[0m\u001b[1;33m\u001b[0m\u001b[1;33m\u001b[0m\u001b[0m\n",
      "\u001b[1;32mc:\\users\\roel\\.virtualenvs\\diagcovid-ckc2berq\\lib\\site-packages\\sklearn\\metrics\\_ranking.py\u001b[0m in \u001b[0;36mroc_auc_score\u001b[1;34m(y_true, y_score, average, sample_weight, max_fpr, multi_class, labels)\u001b[0m\n\u001b[0;32m    543\u001b[0m                                              max_fpr=max_fpr),\n\u001b[0;32m    544\u001b[0m                                      \u001b[0my_true\u001b[0m\u001b[1;33m,\u001b[0m \u001b[0my_score\u001b[0m\u001b[1;33m,\u001b[0m \u001b[0maverage\u001b[0m\u001b[1;33m,\u001b[0m\u001b[1;33m\u001b[0m\u001b[1;33m\u001b[0m\u001b[0m\n\u001b[1;32m--> 545\u001b[1;33m                                      sample_weight=sample_weight)\n\u001b[0m\u001b[0;32m    546\u001b[0m     \u001b[1;32melse\u001b[0m\u001b[1;33m:\u001b[0m  \u001b[1;31m# multilabel-indicator\u001b[0m\u001b[1;33m\u001b[0m\u001b[1;33m\u001b[0m\u001b[0m\n\u001b[0;32m    547\u001b[0m         return _average_binary_score(partial(_binary_roc_auc_score,\n",
      "\u001b[1;32mc:\\users\\roel\\.virtualenvs\\diagcovid-ckc2berq\\lib\\site-packages\\sklearn\\metrics\\_base.py\u001b[0m in \u001b[0;36m_average_binary_score\u001b[1;34m(binary_metric, y_true, y_score, average, sample_weight)\u001b[0m\n\u001b[0;32m     75\u001b[0m \u001b[1;33m\u001b[0m\u001b[0m\n\u001b[0;32m     76\u001b[0m     \u001b[1;32mif\u001b[0m \u001b[0my_type\u001b[0m \u001b[1;33m==\u001b[0m \u001b[1;34m\"binary\"\u001b[0m\u001b[1;33m:\u001b[0m\u001b[1;33m\u001b[0m\u001b[1;33m\u001b[0m\u001b[0m\n\u001b[1;32m---> 77\u001b[1;33m         \u001b[1;32mreturn\u001b[0m \u001b[0mbinary_metric\u001b[0m\u001b[1;33m(\u001b[0m\u001b[0my_true\u001b[0m\u001b[1;33m,\u001b[0m \u001b[0my_score\u001b[0m\u001b[1;33m,\u001b[0m \u001b[0msample_weight\u001b[0m\u001b[1;33m=\u001b[0m\u001b[0msample_weight\u001b[0m\u001b[1;33m)\u001b[0m\u001b[1;33m\u001b[0m\u001b[1;33m\u001b[0m\u001b[0m\n\u001b[0m\u001b[0;32m     78\u001b[0m \u001b[1;33m\u001b[0m\u001b[0m\n\u001b[0;32m     79\u001b[0m     \u001b[0mcheck_consistent_length\u001b[0m\u001b[1;33m(\u001b[0m\u001b[0my_true\u001b[0m\u001b[1;33m,\u001b[0m \u001b[0my_score\u001b[0m\u001b[1;33m,\u001b[0m \u001b[0msample_weight\u001b[0m\u001b[1;33m)\u001b[0m\u001b[1;33m\u001b[0m\u001b[1;33m\u001b[0m\u001b[0m\n",
      "\u001b[1;32mc:\\users\\roel\\.virtualenvs\\diagcovid-ckc2berq\\lib\\site-packages\\sklearn\\metrics\\_ranking.py\u001b[0m in \u001b[0;36m_binary_roc_auc_score\u001b[1;34m(y_true, y_score, sample_weight, max_fpr)\u001b[0m\n\u001b[0;32m    329\u001b[0m \u001b[1;33m\u001b[0m\u001b[0m\n\u001b[0;32m    330\u001b[0m     fpr, tpr, _ = roc_curve(y_true, y_score,\n\u001b[1;32m--> 331\u001b[1;33m                             sample_weight=sample_weight)\n\u001b[0m\u001b[0;32m    332\u001b[0m     \u001b[1;32mif\u001b[0m \u001b[0mmax_fpr\u001b[0m \u001b[1;32mis\u001b[0m \u001b[1;32mNone\u001b[0m \u001b[1;32mor\u001b[0m \u001b[0mmax_fpr\u001b[0m \u001b[1;33m==\u001b[0m \u001b[1;36m1\u001b[0m\u001b[1;33m:\u001b[0m\u001b[1;33m\u001b[0m\u001b[1;33m\u001b[0m\u001b[0m\n\u001b[0;32m    333\u001b[0m         \u001b[1;32mreturn\u001b[0m \u001b[0mauc\u001b[0m\u001b[1;33m(\u001b[0m\u001b[0mfpr\u001b[0m\u001b[1;33m,\u001b[0m \u001b[0mtpr\u001b[0m\u001b[1;33m)\u001b[0m\u001b[1;33m\u001b[0m\u001b[1;33m\u001b[0m\u001b[0m\n",
      "\u001b[1;32mc:\\users\\roel\\.virtualenvs\\diagcovid-ckc2berq\\lib\\site-packages\\sklearn\\utils\\validation.py\u001b[0m in \u001b[0;36minner_f\u001b[1;34m(*args, **kwargs)\u001b[0m\n\u001b[0;32m     61\u001b[0m             \u001b[0mextra_args\u001b[0m \u001b[1;33m=\u001b[0m \u001b[0mlen\u001b[0m\u001b[1;33m(\u001b[0m\u001b[0margs\u001b[0m\u001b[1;33m)\u001b[0m \u001b[1;33m-\u001b[0m \u001b[0mlen\u001b[0m\u001b[1;33m(\u001b[0m\u001b[0mall_args\u001b[0m\u001b[1;33m)\u001b[0m\u001b[1;33m\u001b[0m\u001b[1;33m\u001b[0m\u001b[0m\n\u001b[0;32m     62\u001b[0m             \u001b[1;32mif\u001b[0m \u001b[0mextra_args\u001b[0m \u001b[1;33m<=\u001b[0m \u001b[1;36m0\u001b[0m\u001b[1;33m:\u001b[0m\u001b[1;33m\u001b[0m\u001b[1;33m\u001b[0m\u001b[0m\n\u001b[1;32m---> 63\u001b[1;33m                 \u001b[1;32mreturn\u001b[0m \u001b[0mf\u001b[0m\u001b[1;33m(\u001b[0m\u001b[1;33m*\u001b[0m\u001b[0margs\u001b[0m\u001b[1;33m,\u001b[0m \u001b[1;33m**\u001b[0m\u001b[0mkwargs\u001b[0m\u001b[1;33m)\u001b[0m\u001b[1;33m\u001b[0m\u001b[1;33m\u001b[0m\u001b[0m\n\u001b[0m\u001b[0;32m     64\u001b[0m \u001b[1;33m\u001b[0m\u001b[0m\n\u001b[0;32m     65\u001b[0m             \u001b[1;31m# extra_args > 0\u001b[0m\u001b[1;33m\u001b[0m\u001b[1;33m\u001b[0m\u001b[1;33m\u001b[0m\u001b[0m\n",
      "\u001b[1;32mc:\\users\\roel\\.virtualenvs\\diagcovid-ckc2berq\\lib\\site-packages\\sklearn\\metrics\\_ranking.py\u001b[0m in \u001b[0;36mroc_curve\u001b[1;34m(y_true, y_score, pos_label, sample_weight, drop_intermediate)\u001b[0m\n\u001b[0;32m    912\u001b[0m     \"\"\"\n\u001b[0;32m    913\u001b[0m     fps, tps, thresholds = _binary_clf_curve(\n\u001b[1;32m--> 914\u001b[1;33m         y_true, y_score, pos_label=pos_label, sample_weight=sample_weight)\n\u001b[0m\u001b[0;32m    915\u001b[0m \u001b[1;33m\u001b[0m\u001b[0m\n\u001b[0;32m    916\u001b[0m     \u001b[1;31m# Attempt to drop thresholds corresponding to points in between and\u001b[0m\u001b[1;33m\u001b[0m\u001b[1;33m\u001b[0m\u001b[1;33m\u001b[0m\u001b[0m\n",
      "\u001b[1;32mc:\\users\\roel\\.virtualenvs\\diagcovid-ckc2berq\\lib\\site-packages\\sklearn\\metrics\\_ranking.py\u001b[0m in \u001b[0;36m_binary_clf_curve\u001b[1;34m(y_true, y_score, pos_label, sample_weight)\u001b[0m\n\u001b[0;32m    693\u001b[0m     \u001b[0mcheck_consistent_length\u001b[0m\u001b[1;33m(\u001b[0m\u001b[0my_true\u001b[0m\u001b[1;33m,\u001b[0m \u001b[0my_score\u001b[0m\u001b[1;33m,\u001b[0m \u001b[0msample_weight\u001b[0m\u001b[1;33m)\u001b[0m\u001b[1;33m\u001b[0m\u001b[1;33m\u001b[0m\u001b[0m\n\u001b[0;32m    694\u001b[0m     \u001b[0my_true\u001b[0m \u001b[1;33m=\u001b[0m \u001b[0mcolumn_or_1d\u001b[0m\u001b[1;33m(\u001b[0m\u001b[0my_true\u001b[0m\u001b[1;33m)\u001b[0m\u001b[1;33m\u001b[0m\u001b[1;33m\u001b[0m\u001b[0m\n\u001b[1;32m--> 695\u001b[1;33m     \u001b[0my_score\u001b[0m \u001b[1;33m=\u001b[0m \u001b[0mcolumn_or_1d\u001b[0m\u001b[1;33m(\u001b[0m\u001b[0my_score\u001b[0m\u001b[1;33m)\u001b[0m\u001b[1;33m\u001b[0m\u001b[1;33m\u001b[0m\u001b[0m\n\u001b[0m\u001b[0;32m    696\u001b[0m     \u001b[0massert_all_finite\u001b[0m\u001b[1;33m(\u001b[0m\u001b[0my_true\u001b[0m\u001b[1;33m)\u001b[0m\u001b[1;33m\u001b[0m\u001b[1;33m\u001b[0m\u001b[0m\n\u001b[0;32m    697\u001b[0m     \u001b[0massert_all_finite\u001b[0m\u001b[1;33m(\u001b[0m\u001b[0my_score\u001b[0m\u001b[1;33m)\u001b[0m\u001b[1;33m\u001b[0m\u001b[1;33m\u001b[0m\u001b[0m\n",
      "\u001b[1;32mc:\\users\\roel\\.virtualenvs\\diagcovid-ckc2berq\\lib\\site-packages\\sklearn\\utils\\validation.py\u001b[0m in \u001b[0;36minner_f\u001b[1;34m(*args, **kwargs)\u001b[0m\n\u001b[0;32m     61\u001b[0m             \u001b[0mextra_args\u001b[0m \u001b[1;33m=\u001b[0m \u001b[0mlen\u001b[0m\u001b[1;33m(\u001b[0m\u001b[0margs\u001b[0m\u001b[1;33m)\u001b[0m \u001b[1;33m-\u001b[0m \u001b[0mlen\u001b[0m\u001b[1;33m(\u001b[0m\u001b[0mall_args\u001b[0m\u001b[1;33m)\u001b[0m\u001b[1;33m\u001b[0m\u001b[1;33m\u001b[0m\u001b[0m\n\u001b[0;32m     62\u001b[0m             \u001b[1;32mif\u001b[0m \u001b[0mextra_args\u001b[0m \u001b[1;33m<=\u001b[0m \u001b[1;36m0\u001b[0m\u001b[1;33m:\u001b[0m\u001b[1;33m\u001b[0m\u001b[1;33m\u001b[0m\u001b[0m\n\u001b[1;32m---> 63\u001b[1;33m                 \u001b[1;32mreturn\u001b[0m \u001b[0mf\u001b[0m\u001b[1;33m(\u001b[0m\u001b[1;33m*\u001b[0m\u001b[0margs\u001b[0m\u001b[1;33m,\u001b[0m \u001b[1;33m**\u001b[0m\u001b[0mkwargs\u001b[0m\u001b[1;33m)\u001b[0m\u001b[1;33m\u001b[0m\u001b[1;33m\u001b[0m\u001b[0m\n\u001b[0m\u001b[0;32m     64\u001b[0m \u001b[1;33m\u001b[0m\u001b[0m\n\u001b[0;32m     65\u001b[0m             \u001b[1;31m# extra_args > 0\u001b[0m\u001b[1;33m\u001b[0m\u001b[1;33m\u001b[0m\u001b[1;33m\u001b[0m\u001b[0m\n",
      "\u001b[1;32mc:\\users\\roel\\.virtualenvs\\diagcovid-ckc2berq\\lib\\site-packages\\sklearn\\utils\\validation.py\u001b[0m in \u001b[0;36mcolumn_or_1d\u001b[1;34m(y, warn)\u001b[0m\n\u001b[0;32m    864\u001b[0m     raise ValueError(\n\u001b[0;32m    865\u001b[0m         \u001b[1;34m\"y should be a 1d array, \"\u001b[0m\u001b[1;33m\u001b[0m\u001b[1;33m\u001b[0m\u001b[0m\n\u001b[1;32m--> 866\u001b[1;33m         \"got an array of shape {} instead.\".format(shape))\n\u001b[0m\u001b[0;32m    867\u001b[0m \u001b[1;33m\u001b[0m\u001b[0m\n\u001b[0;32m    868\u001b[0m \u001b[1;33m\u001b[0m\u001b[0m\n",
      "\u001b[1;31mValueError\u001b[0m: y should be a 1d array, got an array of shape (226, 2) instead."
     ]
    }
   ],
   "source": [
    "# 3. Create a study object and optimize the objective function.\n",
    "study = optuna.create_study(direction='maximize')\n",
    "study.optimize(objective, n_trials=100)"
   ]
  },
  {
   "cell_type": "code",
   "execution_count": 78,
   "id": "reasonable-labor",
   "metadata": {},
   "outputs": [
    {
     "data": {
      "text/plain": [
       "0.7873417721518987"
      ]
     },
     "execution_count": 78,
     "metadata": {},
     "output_type": "execute_result"
    }
   ],
   "source": [
    "from sklearn.metrics import accuracy_score, roc_auc_score\n",
    "accuracy_score(y_test == 'Positive', np.round(boost.predict(X_test.values)))"
   ]
  },
  {
   "cell_type": "code",
   "execution_count": 79,
   "id": "express-presentation",
   "metadata": {},
   "outputs": [
    {
     "data": {
      "text/plain": [
       "0.840999125379431"
      ]
     },
     "execution_count": 79,
     "metadata": {},
     "output_type": "execute_result"
    }
   ],
   "source": [
    "roc_auc_score(y_test == 'Positive', (boost.predict_proba(X_test.values)))"
   ]
  },
  {
   "cell_type": "code",
   "execution_count": 28,
   "id": "preliminary-teach",
   "metadata": {},
   "outputs": [],
   "source": [
    "from sklearn.base import BaseEstimator, ClassifierMixin\n",
    "import numpy as np\n",
    "from sklearn.datasets import load_breast_cancer\n",
    "from lightgbm.sklearn import LGBMClassifier\n",
    "from bonsai.base.c45tree import C45Tree\n",
    "import seaborn as sns\n",
    "import matplotlib.pyplot as plt\n",
    "from typing import List, Any"
   ]
  },
  {
   "cell_type": "code",
   "execution_count": 29,
   "id": "rolled-catholic",
   "metadata": {},
   "outputs": [],
   "source": [
    "from numba import njit, prange\n",
    "@njit(fastmath=True)\n",
    "def gini_impurity(X: np.ndarray):\n",
    "    result = 0\n",
    "    classes = np.unique(X[:, -1])\n",
    "    for c in classes:\n",
    "        result += ((X[:, -1]==c).sum()/X.shape[0])**2\n",
    "    return 1 - result\n",
    "\n",
    "@njit(fastmath=True)\n",
    "def gini_index(Xs: List[np.ndarray]):\n",
    "#     total_size = np.sum(np.array([X.shape[0] for X in Xs]))\n",
    "    total_size = 0\n",
    "    for X in Xs:\n",
    "        total_size += X.shape[0]\n",
    "    if total_size == 0:\n",
    "        return 1\n",
    "    result = 0\n",
    "    for X in Xs:\n",
    "        result += X.shape[0]/total_size * gini_impurity(X)\n",
    "    return result\n",
    "#     return np.sum([X.shape[0]/total_size * gini_impurity(X) for X in Xs])"
   ]
  },
  {
   "cell_type": "code",
   "execution_count": 30,
   "id": "spectacular-height",
   "metadata": {},
   "outputs": [],
   "source": [
    "@njit\n",
    "def split_data(X: np.ndarray, feature_index: int, split_value: float):\n",
    "    is_na = np.isnan(X[:, feature_index])\n",
    "    left = X[(X[:, feature_index] < split_value) | is_na]\n",
    "    right = X[(X[:, feature_index] >= split_value) | is_na]\n",
    "    return left, right"
   ]
  },
  {
   "cell_type": "code",
   "execution_count": 31,
   "id": "proper-practice",
   "metadata": {},
   "outputs": [],
   "source": [
    "@njit\n",
    "def generate_split_points(X: np.ndarray, feature_index: int):\n",
    "    splits = np.sort(X[:, feature_index])\n",
    "    return set(splits[~np.isnan(splits)])"
   ]
  },
  {
   "cell_type": "code",
   "execution_count": 32,
   "id": "informative-moore",
   "metadata": {},
   "outputs": [],
   "source": [
    "from dataclasses import dataclass\n",
    "from typing import Union\n",
    "\n",
    "@dataclass\n",
    "class Leaf:\n",
    "    value: int\n",
    "    n_samples: int\n",
    "\n",
    "@dataclass\n",
    "class Tree:\n",
    "    left: Union['Tree', Leaf]\n",
    "    right: Union['Tree', Leaf]\n",
    "    split_feature: int\n",
    "    split_value: float\n",
    "    n_samples: int"
   ]
  },
  {
   "cell_type": "code",
   "execution_count": 33,
   "id": "chubby-category",
   "metadata": {},
   "outputs": [],
   "source": [
    "@njit(fastmath=True)\n",
    "def get_split(X: np.ndarray):\n",
    "    best_gini, best_feature, best_split, best_groups = np.inf, None, None, None\n",
    "    for feature_index in range(X.shape[1]-1):\n",
    "        for split_value in generate_split_points(X, feature_index):\n",
    "            groups = split_data(X, feature_index, split_value)\n",
    "            gini = gini_index(groups)\n",
    "            if gini < best_gini:\n",
    "                best_gini = gini\n",
    "                best_feature = feature_index\n",
    "                best_split = split_value\n",
    "                best_groups = groups\n",
    "    current_gini = gini_impurity(X)\n",
    "    if current_gini < best_gini:\n",
    "        return 0, 0, 0, (None, None)\n",
    "    return best_feature, best_split, best_gini, best_groups"
   ]
  },
  {
   "cell_type": "code",
   "execution_count": 34,
   "id": "played-spirit",
   "metadata": {},
   "outputs": [],
   "source": [
    "# @njit\n",
    "# def most_frequent(a: np.ndarray):\n",
    "#     values, counts = np.unique(a, return_counts=True)\n",
    "#     ind = np.argmax(counts)\n",
    "#     return values[ind]\n",
    "\n",
    "@njit\n",
    "def most_frequent(x):\n",
    "    return np.argmax(np.bincount(x.astype(np.int32)))"
   ]
  },
  {
   "cell_type": "code",
   "execution_count": 35,
   "id": "identical-excerpt",
   "metadata": {},
   "outputs": [],
   "source": [
    "def decision_tree(X: np.ndarray, last_gini=None):\n",
    "    best_feature, best_split, best_gini, (left, right) = get_split(X)\n",
    "#     print(best_gini)\n",
    "#     print(left is None)\n",
    "    if left is None or last_gini == best_gini:\n",
    "        return Leaf(most_frequent(X[:, -1]), X.shape[0])\n",
    "#     print(len(np.unique(left[:, -1])))\n",
    "#     print(np.unique(left[:, -1]))\n",
    "#     print(len(left))\n",
    "    if len(np.unique(left[:, -1])) == 1:\n",
    "#         print('left leaf')\n",
    "        left_tree = Leaf(most_frequent(left[:, -1]), left.shape[0])\n",
    "    elif len(np.unique(left[:, -1])) == 0:\n",
    "#         print('left leaf')\n",
    "        left_tree = Leaf(most_frequent(X[:, -1]), 1)\n",
    "    else:\n",
    "#         print('recurse')\n",
    "        left_tree = decision_tree(left, last_gini=best_gini)\n",
    "    \n",
    "#     print(len(np.unique(right[:, -1])))\n",
    "#     print(np.unique(right[:, -1]))\n",
    "#     print(len(right))\n",
    "#     print()\n",
    "    if len(np.unique(right[:, -1])) == 1:\n",
    "        right_tree = Leaf(most_frequent(right[:, -1]), right.shape[0])\n",
    "    elif len(np.unique(right[:, -1])) == 0:\n",
    "        right_tree = Leaf(most_frequent(X[:, -1]), 1)\n",
    "    else:\n",
    "#         print('right recurse')\n",
    "#         print(best_split)\n",
    "#         print(best_feature)\n",
    "#         print(np.unique(right[best_feature]))\n",
    "#         print(gini_index([left, right]))\n",
    "#         print(gini_impurity(right))\n",
    "        right_tree = decision_tree(right, last_gini=best_gini)\n",
    "    \n",
    "    return Tree(left_tree, right_tree, best_feature, best_split, X.shape[0])"
   ]
  },
  {
   "cell_type": "code",
   "execution_count": 36,
   "id": "caring-colony",
   "metadata": {},
   "outputs": [],
   "source": [
    "def predict(tree: Union[Tree, Leaf], sample: np.ndarray):\n",
    "    if isinstance(tree, Leaf):\n",
    "        return tree.value\n",
    "    \n",
    "    if sample[tree.split_feature] < tree.split_value:\n",
    "        return predict(tree.left, sample)\n",
    "    elif np.isnan(sample[tree.split_feature]):\n",
    "        total_samples = tree.left.n_samples + tree.right.n_samples\n",
    "        return (predict(tree.left, sample)*tree.left.n_samples + predict(tree.right, sample)*tree.right.n_samples)/total_samples\n",
    "    \n",
    "    return predict(tree.right, sample)"
   ]
  },
  {
   "cell_type": "code",
   "execution_count": 37,
   "id": "super-reconstruction",
   "metadata": {},
   "outputs": [],
   "source": [
    "class DecisionTree(BaseEstimator, ClassifierMixin):\n",
    "    def __init__(self, random_state=0):\n",
    "        pass\n",
    "    \n",
    "    def fit(self, data, labels):\n",
    "        self.tree = decision_tree(np.concatenate([data, labels[:, None]], axis=1))\n",
    "    \n",
    "    def predict(self, data):\n",
    "        return np.array([np.round(predict(self.tree, data[i, :])) for i in range(data.shape[0])])"
   ]
  },
  {
   "cell_type": "code",
   "execution_count": 38,
   "id": "million-wichita",
   "metadata": {},
   "outputs": [],
   "source": [
    "from scipy.stats import mode\n",
    "class RandomForest(BaseEstimator, ClassifierMixin):\n",
    "    def __init__(self, n_trees=10):\n",
    "        self.n_trees = n_trees\n",
    "        \n",
    "    def _boostrap_data(self, data):\n",
    "        return data[np.random.choice(data.shape[0], size=data.shape[0]), :]\n",
    "    \n",
    "    def fit(self, data, labels):\n",
    "        self.trees = [decision_tree(self._boostrap_data(np.concatenate([data, labels[:, None]], axis=1))) \n",
    "                      for i in range(self.n_trees)]\n",
    "        \n",
    "    def _predict_single(self, row):\n",
    "        return mode([np.round(predict(t, row)) for t in self.trees]).mode\n",
    "    \n",
    "    def predict(self, data):\n",
    "        return np.array([self._predict_single(data[i, :]) for i in range(data.shape[0])])"
   ]
  },
  {
   "cell_type": "code",
   "execution_count": 271,
   "id": "killing-greenhouse",
   "metadata": {},
   "outputs": [],
   "source": [
    "dt = RandomForest(n_trees=100)\n",
    "# dt = DecisionTree()\n",
    "dt.fit(np.array(X_train.values, order='C'), (y_train == 'Positive').values.astype(np.int32))"
   ]
  },
  {
   "cell_type": "code",
   "execution_count": 273,
   "id": "tamil-breakdown",
   "metadata": {},
   "outputs": [
    {
     "data": {
      "text/plain": [
       "0.5417406749555951"
      ]
     },
     "execution_count": 273,
     "metadata": {},
     "output_type": "execute_result"
    }
   ],
   "source": [
    "dt.score(np.array(X_test.values, order='C'), (y_test == 'Positive').values.astype(np.int32))"
   ]
  },
  {
   "cell_type": "code",
   "execution_count": 69,
   "id": "noble-nation",
   "metadata": {},
   "outputs": [
    {
     "data": {
      "text/plain": [
       "Pipeline(steps=[('lgbmclassifier', LGBMClassifier())])"
      ]
     },
     "execution_count": 69,
     "metadata": {},
     "output_type": "execute_result"
    }
   ],
   "source": [
    "from sklearn.tree import DecisionTreeClassifier\n",
    "from lightgbm.sklearn import LGBMClassifier\n",
    "from sklearn.impute import SimpleImputer\n",
    "from sklearn.pipeline import make_pipeline\n",
    "t = make_pipeline(\n",
    "#     SimpleImputer(), \n",
    "    LGBMClassifier()\n",
    ")\n",
    "t.fit(np.array(X_train.values, order='C'), (y_train == 'Positive').values.astype(np.int32))"
   ]
  },
  {
   "cell_type": "code",
   "execution_count": 70,
   "id": "identical-taiwan",
   "metadata": {},
   "outputs": [
    {
     "data": {
      "text/plain": [
       "0.5670886075949367"
      ]
     },
     "execution_count": 70,
     "metadata": {},
     "output_type": "execute_result"
    }
   ],
   "source": [
    "t.score(np.array(X_test.values, order='C'), (y_test == 'Positive').values.astype(np.int32))"
   ]
  },
  {
   "cell_type": "code",
   "execution_count": 71,
   "id": "optical-detroit",
   "metadata": {},
   "outputs": [
    {
     "data": {
      "text/plain": [
       "0.6689303904923599"
      ]
     },
     "execution_count": 71,
     "metadata": {},
     "output_type": "execute_result"
    }
   ],
   "source": [
    "from sklearn.metrics import roc_auc_score\n",
    "roc_auc_score((y_test == 'Positive').values.astype(np.int32), t.predict_proba(np.array(X_test.values, order='C'))[:, 1])"
   ]
  },
  {
   "cell_type": "code",
   "execution_count": 61,
   "id": "nonprofit-owner",
   "metadata": {},
   "outputs": [
    {
     "data": {
      "text/plain": [
       "False"
      ]
     },
     "execution_count": 61,
     "metadata": {},
     "output_type": "execute_result"
    }
   ],
   "source": [
    "np.isfortran((y_train == 'Positive').values.astype(np.int32))"
   ]
  },
  {
   "cell_type": "code",
   "execution_count": 63,
   "id": "alleged-brown",
   "metadata": {},
   "outputs": [
    {
     "data": {
      "text/plain": [
       "False"
      ]
     },
     "execution_count": 63,
     "metadata": {},
     "output_type": "execute_result"
    }
   ],
   "source": [
    "np.isfortran(np.array(X_train.values, order='c'))"
   ]
  },
  {
   "cell_type": "code",
   "execution_count": null,
   "id": "spoken-southwest",
   "metadata": {},
   "outputs": [],
   "source": []
  }
 ],
 "metadata": {
  "kernelspec": {
   "display_name": "Python 3",
   "language": "python",
   "name": "python3"
  },
  "language_info": {
   "codemirror_mode": {
    "name": "ipython",
    "version": 3
   },
   "file_extension": ".py",
   "mimetype": "text/x-python",
   "name": "python",
   "nbconvert_exporter": "python",
   "pygments_lexer": "ipython3",
   "version": "3.7.9"
  }
 },
 "nbformat": 4,
 "nbformat_minor": 5
}
