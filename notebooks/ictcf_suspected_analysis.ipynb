{
 "cells": [
  {
   "cell_type": "code",
   "execution_count": 1,
   "id": "stainless-austin",
   "metadata": {},
   "outputs": [],
   "source": [
    "import os\n",
    "import pickle\n",
    "import re\n",
    "from typing import Tuple\n",
    "import ast\n",
    "\n",
    "import click\n",
    "import pandas as pd\n",
    "import numpy as np\n",
    "import requests\n",
    "from tqdm import tqdm\n",
    "\n",
    "from covidcf.data.base import ensure_data_dirs, DATA_RAW_PATH, DATA_PROCESSED_PATH"
   ]
  },
  {
   "cell_type": "code",
   "execution_count": 2,
   "id": "divine-championship",
   "metadata": {},
   "outputs": [],
   "source": [
    "os.chdir('..')"
   ]
  },
  {
   "cell_type": "code",
   "execution_count": 9,
   "id": "express-immunology",
   "metadata": {},
   "outputs": [],
   "source": [
    "def get_patient(raw_data, pid: int):\n",
    "    return raw_data[pid]\n",
    "\n",
    "\n",
    "def get_patient_features(patient_data):\n",
    "    DOWN_ARROW = \"#8595;\"\n",
    "    UP_ARROW = \"#8593;\"\n",
    "    split_tables = patient_data[-1]\n",
    "    basic_info = split_tables.split(\"Basic Information\")[1]\n",
    "    found = re.findall(\n",
    "        r\"\\$(?P<name>[^\\$]+)@(?P<abbr>[^\\$]+)@(?P<value>[^\\$&]+)&?(?P<change>[^\\$]+)?@(?P<normal>[^\\$]+)\",\n",
    "        basic_info)\n",
    "\n",
    "    df = pd.DataFrame(found, columns=[\"Name\", \"Abbreviation\", \"Value\", \"Change\", \"Normal\"])\n",
    "    # TODO: Check if UP and DOWN arrow ar correct\n",
    "    df.Change = df.Change.str.replace(DOWN_ARROW, \"-1\").replace(UP_ARROW, \"1\").replace(\"\", \"0\")\n",
    "    pd.Change = pd.to_numeric(df.Change)\n",
    "    df.Normal = df.Normal.str.replace(\"<\", \"0-\")\n",
    "\n",
    "    # !!!!\n",
    "    df.Value = df.Value.str.replace(\"<\", \"\")\n",
    "    df.Value = df.Value.str.replace(\">\", \"\")\n",
    "    df[[\"NormalMin\", \"NormalMax\"]] = df.Normal.str.extract(r\"([\\d\\.]+)\\-([\\d\\.]+).+\")\n",
    "    df.drop(columns=['Normal'], inplace=True)\n",
    "\n",
    "    df.Value = pd.to_numeric(df.Value)\n",
    "    df.NormalMin = pd.to_numeric(df.NormalMin)\n",
    "    df.NormalMax = pd.to_numeric(df.NormalMax)\n",
    "\n",
    "    return df\n"
   ]
  },
  {
   "cell_type": "code",
   "execution_count": 10,
   "id": "verbal-handle",
   "metadata": {},
   "outputs": [],
   "source": [
    "def process_ictcf():\n",
    "    ensure_data_dirs()\n",
    "    RAW_ICTCF_PATH = os.path.join(DATA_RAW_PATH, 'patient.txt')\n",
    "\n",
    "    RAW_VIS_TRAIN = os.path.join(DATA_RAW_PATH, 'predictions__train_ens_features.p.csv')\n",
    "    RAW_VIS_VAL = os.path.join(DATA_RAW_PATH, 'predictions__val_ens_features.p.csv')\n",
    "    RAW_VIS_TEST = os.path.join(DATA_RAW_PATH, 'predictions__test_ens_features2.p.csv')\n",
    "\n",
    "    if not os.path.exists(RAW_ICTCF_PATH):\n",
    "        print('patient.txt missing, downloading...')\n",
    "        res = requests.get(\"http://ictcf.biocuckoo.cn/patient/patient.txt\")\n",
    "        text = res.text\n",
    "        with open(RAW_ICTCF_PATH, 'wb') as f:\n",
    "            f.write(res.content)\n",
    "    else:\n",
    "        with open(RAW_ICTCF_PATH, 'r', encoding='utf-8') as f:\n",
    "            text = f.read()\n",
    "\n",
    "    raw_data = [row.split(\"\\t\") for row in text.split(\"\\n\")]\n",
    "\n",
    "    patients = {}\n",
    "    print('Processing patient data...')\n",
    "    for i in tqdm(range(len(raw_data) - 1)):\n",
    "        features = get_patient_features(get_patient(raw_data, i))\n",
    "        patients[i] = features\n",
    "\n",
    "    df = pd.concat(patients)\n",
    "    df[\"Patient\"] = df.index.get_level_values(0)\n",
    "    return df"
   ]
  },
  {
   "cell_type": "code",
   "execution_count": 12,
   "id": "herbal-pollution",
   "metadata": {},
   "outputs": [
    {
     "name": "stderr",
     "output_type": "stream",
     "text": [
      "  1%|▋                                                       | 19/1521 [00:00<00:08, 186.27it/s]"
     ]
    },
    {
     "name": "stdout",
     "output_type": "stream",
     "text": [
      "Processing patient data...\n"
     ]
    },
    {
     "name": "stderr",
     "output_type": "stream",
     "text": [
      "100%|██████████████████████████████████████████████████████| 1521/1521 [00:07<00:00, 214.10it/s]\n"
     ]
    }
   ],
   "source": [
    "ictcf = process_ictcf()"
   ]
  },
  {
   "cell_type": "code",
   "execution_count": 14,
   "id": "competitive-trust",
   "metadata": {},
   "outputs": [],
   "source": [
    "from covidcf.data.ictcf import load_ictcf"
   ]
  },
  {
   "cell_type": "code",
   "execution_count": 16,
   "id": "internal-beginning",
   "metadata": {},
   "outputs": [],
   "source": [
    "df, X, y, = load_ictcf()"
   ]
  },
  {
   "cell_type": "code",
   "execution_count": 25,
   "id": "induced-utilization",
   "metadata": {},
   "outputs": [
    {
     "data": {
      "text/plain": [
       "Negative    248\n",
       "Positive     51\n",
       "Name: pcr, dtype: int64"
      ]
     },
     "execution_count": 25,
     "metadata": {},
     "output_type": "execute_result"
    }
   ],
   "source": [
    "df[df.Target.Metadata_Morbidity.str.lower().str.contains('suspected')].Target.pcr.value_counts()"
   ]
  },
  {
   "cell_type": "code",
   "execution_count": 41,
   "id": "controversial-battery",
   "metadata": {},
   "outputs": [
    {
     "data": {
      "text/plain": [
       "Negative    248\n",
       "Positive      0\n",
       "Name: pcr, dtype: int64"
      ]
     },
     "execution_count": 41,
     "metadata": {},
     "output_type": "execute_result"
    }
   ],
   "source": [
    "df[~df.Target.Metadata_Morbidity.str.contains('confirmed') & df.Target.Metadata_Morbidity.str.contains('Suspected')].Target.pcr.value_counts()"
   ]
  },
  {
   "cell_type": "code",
   "execution_count": 57,
   "id": "martial-omega",
   "metadata": {},
   "outputs": [
    {
     "data": {
      "text/plain": [
       "(array([0, 1, 2, 3, 4, 5, 6, 7]),\n",
       " [Text(0, 0, 'Control'),\n",
       "  Text(1, 0, 'Control (Community-acquired pneumonia)'),\n",
       "  Text(2, 0, 'Critically ill'),\n",
       "  Text(3, 0, 'Mild'),\n",
       "  Text(4, 0, 'Regular'),\n",
       "  Text(5, 0, 'Severe'),\n",
       "  Text(6, 0, 'Suspected'),\n",
       "  Text(7, 0, 'Suspected (COVID-19-confirmed later)')])"
      ]
     },
     "execution_count": 57,
     "metadata": {},
     "output_type": "execute_result"
    },
    {
     "data": {
      "image/png": "[encoded data removed]",
      "text/plain": [
       "<Figure size 432x288 with 1 Axes>"
      ]
     },
     "metadata": {
      "needs_background": "light"
     },
     "output_type": "display_data"
    }
   ],
   "source": [
    "import seaborn as sns\n",
    "import matplotlib.pyplot as plt\n",
    "pcrs_per_group = df.Target.pcr.groupby(df.Target.Metadata_Morbidity).value_counts().to_frame().rename(columns={'pcr': 'value'}).reset_index()\n",
    "sns.barplot(data=pcrs_per_group, x='Metadata_Morbidity', y='value', hue='pcr')\n",
    "plt.xticks(rotation=45, ha='right')"
   ]
  },
  {
   "cell_type": "code",
   "execution_count": null,
   "id": "junior-cooperation",
   "metadata": {},
   "outputs": [],
   "source": []
  }
 ],
 "metadata": {
  "kernelspec": {
   "display_name": "Python 3",
   "language": "python",
   "name": "python3"
  },
  "language_info": {
   "codemirror_mode": {
    "name": "ipython",
    "version": 3
   },
   "file_extension": ".py",
   "mimetype": "text/x-python",
   "name": "python",
   "nbconvert_exporter": "python",
   "pygments_lexer": "ipython3",
   "version": "3.7.9"
  }
 },
 "nbformat": 4,
 "nbformat_minor": 5
}
