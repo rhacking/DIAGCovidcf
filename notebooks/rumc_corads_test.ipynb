{
 "cells": [
  {
   "cell_type": "code",
   "execution_count": 165,
   "id": "charitable-walnut",
   "metadata": {},
   "outputs": [],
   "source": [
    "import pandas as pd\n",
    "from lightgbm.sklearn import LGBMRegressor\n",
    "import numpy as np\n",
    "import re\n",
    "import shap"
   ]
  },
  {
   "cell_type": "code",
   "execution_count": 166,
   "id": "adopted-pride",
   "metadata": {},
   "outputs": [],
   "source": [
    "def preprocess(df, feat_required):\n",
    "    df = df.copy()\n",
    "    X, y = df.Input.Visual, df.Target.pcr\n",
    "    X = X.copy()\n",
    "    y = y.copy()\n",
    "#     for col in X.select_dtypes(include=['category']):\n",
    "#         X[col] = X[col].cat.codes\n",
    "#         X.loc[X[col] < 0, col] = np.nan\n",
    "#         X[col] = X[col].astype('category')\n",
    "    \n",
    "    X = X[~y.isna()]\n",
    "    df = df[~y.isna()]\n",
    "    y = y[~y.isna()]\n",
    "    \n",
    "    if isinstance(X.columns, pd.MultiIndex):\n",
    "        X.columns = [re.sub(r'[^0-9a-zA-Z_-]+ ', '', '_'.join(col).strip()) for col in X.columns.values]\n",
    "    else:\n",
    "        X.columns = [re.sub(r'[^0-9a-zA-Z_-]+ ', '', col) for col in X.columns.values]\n",
    "        \n",
    "    has_sufficient_values = (1 - X.isna().mean() >= feat_required)\n",
    "    X = X.loc[:, has_sufficient_values]\n",
    "    return X, y, df\n",
    "\n",
    "def get_feature_importances(X, y, return_estimator=False, do_preprocess=True, clf=None):\n",
    "    if do_preprocess:\n",
    "        X, y = preprocess(X, y)\n",
    "    \n",
    "    if clf is None:\n",
    "        clf = LGBMClassifier(n_jobs=-1)\n",
    "        clf.fit(X, y)\n",
    "    \n",
    "    explainer = shap.TreeExplainer(clf)\n",
    "    shap_values = explainer(X)[:, :, 1]\n",
    "    if return_estimator:\n",
    "        return np.abs(shap_values.values * (~X.isna())).mean(axis=0), clf\n",
    "    else:\n",
    "        return np.abs(shap_values.values * (~X.isna())).mean(axis=0)"
   ]
  },
  {
   "cell_type": "code",
   "execution_count": 226,
   "id": "advisory-authorization",
   "metadata": {},
   "outputs": [],
   "source": [
    "df = pd.read_pickle('../data/processed/rumc.pkl')"
   ]
  },
  {
   "cell_type": "code",
   "execution_count": 227,
   "id": "defined-suggestion",
   "metadata": {},
   "outputs": [],
   "source": [
    "X, y, df = preprocess(df, 0.1)\n",
    "# X_train, y_train = preprocess(df[~is_test].Input.Clinical, df[~is_test].Target.corads, 0.16)\n",
    "# X_test, y_test = preprocess(df[is_test].Input.Clinical, df[is_test].Target.corads, 0.16)"
   ]
  },
  {
   "cell_type": "code",
   "execution_count": 228,
   "id": "macro-function",
   "metadata": {},
   "outputs": [],
   "source": [
    "is_test = df.Meta.part == 'test'\n",
    "X_train, y_train = X[~is_test], y[~is_test]\n",
    "X_test, y_test = X[is_test], y[is_test]"
   ]
  },
  {
   "cell_type": "code",
   "execution_count": 229,
   "id": "simplified-notion",
   "metadata": {},
   "outputs": [],
   "source": [
    "from sklearn.model_selection import train_test_split\n",
    "X_train, X_test, y_train, y_test = train_test_split(X, y, test_size=0.2, shuffle=True, stratify=y)"
   ]
  },
  {
   "cell_type": "code",
   "execution_count": 189,
   "id": "wireless-jungle",
   "metadata": {},
   "outputs": [
    {
     "data": {
      "text/plain": [
       "MultiIndex([('Input', 'Clinical',   'POLYCHROMASIE'),\n",
       "            ('Input', 'Clinical', 'POLYCHROMASIE, ')],\n",
       "           )"
      ]
     },
     "execution_count": 189,
     "metadata": {},
     "output_type": "execute_result"
    }
   ],
   "source": [
    "df.columns[df.columns.get_level_values(2).str.contains('POLYCHROMASIE')]"
   ]
  },
  {
   "cell_type": "code",
   "execution_count": 190,
   "id": "nominated-egyptian",
   "metadata": {},
   "outputs": [],
   "source": [
    "from covidcf.evaluation.metrics import corads_roc_auc"
   ]
  },
  {
   "cell_type": "code",
   "execution_count": 230,
   "id": "sophisticated-public",
   "metadata": {},
   "outputs": [],
   "source": [
    "reg = LGBMClassifier(n_jobs=-1).fit(X_train, y_train)"
   ]
  },
  {
   "cell_type": "code",
   "execution_count": 231,
   "id": "least-happiness",
   "metadata": {},
   "outputs": [
    {
     "data": {
      "text/plain": [
       "1.0"
      ]
     },
     "execution_count": 231,
     "metadata": {},
     "output_type": "execute_result"
    }
   ],
   "source": [
    "reg.score(X_train, y_train)"
   ]
  },
  {
   "cell_type": "code",
   "execution_count": 232,
   "id": "solar-orbit",
   "metadata": {},
   "outputs": [
    {
     "data": {
      "text/plain": [
       "0.5757575757575757"
      ]
     },
     "execution_count": 232,
     "metadata": {},
     "output_type": "execute_result"
    }
   ],
   "source": [
    "from sklearn.metrics import roc_auc_score\n",
    "roc_auc_score(y_test, reg.predict_proba(X_test)[:, 1])"
   ]
  },
  {
   "cell_type": "code",
   "execution_count": 233,
   "id": "possible-colombia",
   "metadata": {},
   "outputs": [
    {
     "data": {
      "text/plain": [
       "0.5656565656565656"
      ]
     },
     "execution_count": 233,
     "metadata": {},
     "output_type": "execute_result"
    }
   ],
   "source": [
    "from sklearn.metrics import roc_auc_score\n",
    "roc_auc_score(y_test, X_test.mean(axis=1).fillna(2))"
   ]
  },
  {
   "cell_type": "code",
   "execution_count": 85,
   "id": "wicked-laser",
   "metadata": {},
   "outputs": [
    {
     "data": {
      "text/plain": [
       "-0.7806456653358114"
      ]
     },
     "execution_count": 85,
     "metadata": {},
     "output_type": "execute_result"
    }
   ],
   "source": [
    "reg.score(X_test, y_test)"
   ]
  },
  {
   "cell_type": "code",
   "execution_count": 137,
   "id": "fatty-vector",
   "metadata": {},
   "outputs": [
    {
     "data": {
      "text/plain": [
       "0.49237288135593227"
      ]
     },
     "execution_count": 137,
     "metadata": {},
     "output_type": "execute_result"
    }
   ],
   "source": [
    "corads_roc_auc(y_test, reg.predict(X_test))"
   ]
  },
  {
   "cell_type": "code",
   "execution_count": 138,
   "id": "cellular-structure",
   "metadata": {},
   "outputs": [
    {
     "data": {
      "text/plain": [
       "0.8788826349801959"
      ]
     },
     "execution_count": 138,
     "metadata": {},
     "output_type": "execute_result"
    }
   ],
   "source": [
    "corads_roc_auc(y_train, reg.predict(X_train))"
   ]
  },
  {
   "cell_type": "code",
   "execution_count": 67,
   "id": "following-hearing",
   "metadata": {},
   "outputs": [
    {
     "data": {
      "text/plain": [
       "0.9370056497175141"
      ]
     },
     "execution_count": 67,
     "metadata": {},
     "output_type": "execute_result"
    }
   ],
   "source": [
    "corads_roc_auc(y_test, reg.predict(X_test))"
   ]
  },
  {
   "cell_type": "code",
   "execution_count": 140,
   "id": "coordinate-price",
   "metadata": {},
   "outputs": [],
   "source": [
    "from covidcf.evaluation.metrics import custom_metrics"
   ]
  },
  {
   "cell_type": "code",
   "execution_count": 177,
   "id": "found-bleeding",
   "metadata": {},
   "outputs": [
    {
     "data": {
      "text/plain": [
       "patientprimarymrn  study\n",
       "10008              st000    Negatief\n",
       "10017              st000    Negatief\n",
       "10020              st000    Negatief\n",
       "10025              st000    Negatief\n",
       "10033              st000    Negatief\n",
       "                              ...   \n",
       "10605              st000    Negatief\n",
       "10608              st000    Positief\n",
       "10610              st000    Negatief\n",
       "10611              st000    Positief\n",
       "10614              st000    Negatief\n",
       "Name: pcr, Length: 155, dtype: category\n",
       "Categories (2, object): ['Negatief', 'Positief']"
      ]
     },
     "execution_count": 177,
     "metadata": {},
     "output_type": "execute_result"
    }
   ],
   "source": [
    "y"
   ]
  },
  {
   "cell_type": "code",
   "execution_count": 176,
   "id": "innocent-sharing",
   "metadata": {},
   "outputs": [
    {
     "data": {
      "text/plain": [
       "0.5217234848484849"
      ]
     },
     "execution_count": 176,
     "metadata": {},
     "output_type": "execute_result"
    }
   ],
   "source": [
    "from sklearn.model_selection import cross_val_score, RepeatedStratifiedKFold\n",
    "cross_val_score(LGBMClassifier(n_jobs=-1, boosting_type='gbdt'), X, y, cv=RepeatedStratifiedKFold(n_splits=10), scoring='roc_auc').mean()"
   ]
  },
  {
   "cell_type": "code",
   "execution_count": null,
   "id": "german-dimension",
   "metadata": {},
   "outputs": [],
   "source": []
  }
 ],
 "metadata": {
  "kernelspec": {
   "display_name": "Python 3",
   "language": "python",
   "name": "python3"
  },
  "language_info": {
   "codemirror_mode": {
    "name": "ipython",
    "version": 3
   },
   "file_extension": ".py",
   "mimetype": "text/x-python",
   "name": "python",
   "nbconvert_exporter": "python",
   "pygments_lexer": "ipython3",
   "version": "3.7.9"
  }
 },
 "nbformat": 4,
 "nbformat_minor": 5
}
