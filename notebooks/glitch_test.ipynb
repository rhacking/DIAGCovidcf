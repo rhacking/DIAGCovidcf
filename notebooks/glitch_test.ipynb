{
 "cells": [
  {
   "cell_type": "code",
   "execution_count": 39,
   "id": "boolean-quilt",
   "metadata": {},
   "outputs": [],
   "source": [
    "# from sklearn.datasets import load\n",
    "from sklearn.model_selection import train_test_split\n",
    "from sklearn.linear_model import LogisticRegression"
   ]
  },
  {
   "cell_type": "code",
   "execution_count": 49,
   "id": "adapted-compound",
   "metadata": {},
   "outputs": [],
   "source": [
    "import pandas as pd\n",
    "from lightgbm.sklearn import LGBMClassifier\n",
    "import numpy as np\n",
    "import re\n",
    "import shap\n",
    "from lightgbm.sklearn import LGBMClassifier"
   ]
  },
  {
   "cell_type": "code",
   "execution_count": 50,
   "id": "arranged-nowhere",
   "metadata": {},
   "outputs": [],
   "source": [
    "def preprocess(X, y):\n",
    "    X = X.copy()\n",
    "    y = y.copy()\n",
    "    for col in X.select_dtypes(include=['category']):\n",
    "        X[col] = X[col].cat.codes\n",
    "        X.loc[X[col] < 0, col] = np.nan\n",
    "        X[col] = X[col].astype('category')\n",
    "    \n",
    "    X = X[~y.isna()]\n",
    "    y = y[~y.isna()]\n",
    "    \n",
    "    if isinstance(X.columns, pd.MultiIndex):\n",
    "        X.columns = [re.sub(r'[^0-9a-zA-Z_-]+ ', '', '_'.join(col).strip()) for col in X.columns.values]\n",
    "    else:\n",
    "        X.columns = [re.sub(r'[^0-9a-zA-Z_-]+ ', '', col) for col in X.columns.values]\n",
    "    return X, y\n",
    "\n",
    "def get_feature_importances(X, y, return_estimator=False, preprocess=True, clf=None):\n",
    "    if preprocess:\n",
    "        X, y = preprocess(X, y)\n",
    "    \n",
    "    if clf is None:\n",
    "        clf = LGBMClassifier(n_jobs=-1)\n",
    "        clf.fit(X, y)\n",
    "    \n",
    "    explainer = shap.TreeExplainer(clf)\n",
    "    shap_values = explainer(X)[:, :, 1]\n",
    "    if return_estimator:\n",
    "        return np.abs(shap_values.values * (~X.isna())).mean(axis=0), clf\n",
    "    else:\n",
    "        return np.abs(shap_values.values * (~X.isna())).mean(axis=0)"
   ]
  },
  {
   "cell_type": "code",
   "execution_count": 51,
   "id": "third-romania",
   "metadata": {},
   "outputs": [],
   "source": [
    "df = pd.read_pickle('../data/processed/ictcf.pkl')"
   ]
  },
  {
   "cell_type": "code",
   "execution_count": 57,
   "id": "reserved-hollywood",
   "metadata": {},
   "outputs": [],
   "source": [
    "X, y = preprocess(df.Input.Clinical, df.Target.pcr)\n"
   ]
  },
  {
   "cell_type": "code",
   "execution_count": 58,
   "id": "ranking-northeast",
   "metadata": {},
   "outputs": [],
   "source": [
    "X_train, X_test, y_train, y_test = train_test_split(X, y, test_size=0.2)"
   ]
  },
  {
   "cell_type": "code",
   "execution_count": 59,
   "id": "august-millennium",
   "metadata": {},
   "outputs": [
    {
     "data": {
      "text/plain": [
       "LGBMClassifier()"
      ]
     },
     "execution_count": 59,
     "metadata": {},
     "output_type": "execute_result"
    }
   ],
   "source": [
    "clf = LGBMClassifier(n_jobs=-1)\n",
    "clf.fit(X_train, y_train)"
   ]
  },
  {
   "cell_type": "code",
   "execution_count": 87,
   "id": "emerging-processing",
   "metadata": {},
   "outputs": [],
   "source": [
    "from sklearn.metrics import roc_auc_score\n",
    "preds = clf.predict_proba(X_test)[:, 1]\n",
    "preds_orig = (preds-preds.min())/(preds.max()-preds.min())\n",
    "results = []\n",
    "for i in range(80):\n",
    "    for j in range(20):\n",
    "        preds = preds_orig / 2**i\n",
    "        preds += np.random.rand()\n",
    "        results.append({'n': i, 'auc': roc_auc_score(y_test, preds)})\n",
    "results = pd.DataFrame(results)"
   ]
  },
  {
   "cell_type": "code",
   "execution_count": 88,
   "id": "alternative-compromise",
   "metadata": {},
   "outputs": [
    {
     "data": {
      "text/plain": [
       "<AxesSubplot:xlabel='n', ylabel='auc'>"
      ]
     },
     "execution_count": 88,
     "metadata": {},
     "output_type": "execute_result"
    },
    {
     "data": {
      "image/png": "[encoded data removed]",
      "text/plain": [
       "<Figure size 432x288 with 1 Axes>"
      ]
     },
     "metadata": {
      "needs_background": "light"
     },
     "output_type": "display_data"
    }
   ],
   "source": [
    "import seaborn as sns\n",
    "sns.lineplot(data=results, x='n', y='auc')"
   ]
  },
  {
   "cell_type": "code",
   "execution_count": 64,
   "id": "different-billy",
   "metadata": {},
   "outputs": [
    {
     "data": {
      "text/plain": [
       "(0.354234, 0.454234)"
      ]
     },
     "execution_count": 64,
     "metadata": {},
     "output_type": "execute_result"
    }
   ],
   "source": [
    "preds = clf.predict_proba(X_test)[:, 1]\n",
    "preds = (preds-preds.min())/(preds.max()-preds.min())\n",
    "preds /= 10\n",
    "preds += 0.354234\n",
    "preds.min(), preds.max()"
   ]
  },
  {
   "cell_type": "code",
   "execution_count": null,
   "id": "political-cooperation",
   "metadata": {},
   "outputs": [],
   "source": []
  }
 ],
 "metadata": {
  "kernelspec": {
   "display_name": "Python 3",
   "language": "python",
   "name": "python3"
  },
  "language_info": {
   "codemirror_mode": {
    "name": "ipython",
    "version": 3
   },
   "file_extension": ".py",
   "mimetype": "text/x-python",
   "name": "python",
   "nbconvert_exporter": "python",
   "pygments_lexer": "ipython3",
   "version": "3.7.9"
  }
 },
 "nbformat": 4,
 "nbformat_minor": 5
}
