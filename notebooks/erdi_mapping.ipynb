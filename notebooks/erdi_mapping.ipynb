{
 "cells": [
  {
   "cell_type": "code",
   "execution_count": 2,
   "id": "narrow-interaction",
   "metadata": {},
   "outputs": [],
   "source": [
    "import pandas as pd"
   ]
  },
  {
   "cell_type": "code",
   "execution_count": 3,
   "id": "religious-excuse",
   "metadata": {},
   "outputs": [],
   "source": [
    "df = pd.read_pickle('../data/processed/rumc.pkl')\n",
    "df_rumc = pd.read_csv('../data/raw/covid_ct_CF_anon_with_date_shifts.csv')"
   ]
  },
  {
   "cell_type": "code",
   "execution_count": 7,
   "id": "recovered-transcription",
   "metadata": {},
   "outputs": [
    {
     "data": {
      "text/plain": [
       "False"
      ]
     },
     "execution_count": 7,
     "metadata": {},
     "output_type": "execute_result"
    }
   ],
   "source": [
    "df.columns.str.contains('phosphatase').any()"
   ]
  },
  {
   "cell_type": "code",
   "execution_count": 8,
   "id": "modern-balance",
   "metadata": {},
   "outputs": [],
   "source": [
    "from difflib import SequenceMatcher\n",
    "\n",
    "def similar(a, b):\n",
    "    return SequenceMatcher(None, a, b).ratio()"
   ]
  },
  {
   "cell_type": "code",
   "execution_count": 59,
   "id": "solid-metabolism",
   "metadata": {},
   "outputs": [
    {
     "data": {
      "text/plain": [
       "Uraat            0.666667\n",
       "Ureum            0.666667\n",
       "pH (Urine)       0.428571\n",
       "Urinekweek       0.428571\n",
       "Kreatinine       0.428571\n",
       "Paracetamol      0.400000\n",
       "IgG (Urine)      0.400000\n",
       "corads           0.400000\n",
       "Methotrexaat     0.375000\n",
       "Borrelia IgM     0.375000\n",
       "Borrelia IgG     0.375000\n",
       "PISA ERO Area    0.352941\n",
       "Brucella Bang    0.352941\n",
       "Ureum (Urine)    0.352941\n",
       "Eiwit (Urine)    0.352941\n",
       "Uraat (Urine)    0.352941\n",
       "TV Vmean         0.333333\n",
       "MV Vmean         0.333333\n",
       "PV Vmean         0.333333\n",
       "AV Vmean         0.333333\n",
       "dtype: float64"
      ]
     },
     "execution_count": 59,
     "metadata": {},
     "output_type": "execute_result"
    }
   ],
   "source": [
    "pd.Series(*zip(*[(similar('Urea', str(col)), col) for col in df.columns])).sort_values(ascending=False).head(20)"
   ]
  },
  {
   "cell_type": "code",
   "execution_count": 4,
   "id": "formal-savannah",
   "metadata": {},
   "outputs": [],
   "source": [
    "features = [\n",
    "    'Alkalische fosfatase', \n",
    "    'ALAT', \n",
    "    'ASAT', \n",
    "    'Bilirubine direct', \n",
    "    'Bilirubine', \n",
    "    'Bilirubine totaal', \n",
    "    'CK', \n",
    "    'Basofielen', \n",
    "    'Eosinofielen', \n",
    "    'Eosinofiele granulocyten', \n",
    "    'Eosinofiele granulocyten EOSINOFIELE', \n",
    "    'Lymfocyten', \n",
    "    'Lymfocyten md', \n",
    "    'Monocyten', \n",
    "    'Monocyten md', \n",
    "    'D-Dimeer', \n",
    "    'Ferritine', \n",
    "    'Hemoglobine', \n",
    "    'Hematocriet', \n",
    "    'Kalium', \n",
    "    'Kreatinine', \n",
    "    'Lactaat', \n",
    "    'Leukocyten', \n",
    "    'Leucocyten', \n",
    "    'Magnesium', \n",
    "    'Natrium', \n",
    "    'Procalcitonine', \n",
    "    'Trombocyten', \n",
    "    'Ureum'\n",
    "]"
   ]
  },
  {
   "cell_type": "code",
   "execution_count": 38,
   "id": "grateful-contract",
   "metadata": {},
   "outputs": [
    {
     "data": {
      "text/plain": [
       "'CK'"
      ]
     },
     "execution_count": 38,
     "metadata": {},
     "output_type": "execute_result"
    }
   ],
   "source": [
    "df_rumc[df_rumc.labresultsname.str.match(features[6]+r'\\s*(?:\\(.+?\\))?', na=False)].labresultscommonname.str.extract(r'([^()]*[^\\s()])(?:\\s+\\(.+?\\))?').iloc[0, 0]"
   ]
  },
  {
   "cell_type": "code",
   "execution_count": 87,
   "id": "loose-acrylic",
   "metadata": {},
   "outputs": [],
   "source": [
    "mapping = [(f, df_rumc[df_rumc.labresultsname.str.match(f+r'\\s*(?:\\(.+?\\))?', na=False)].labresultscommonname.str.extract(r'([^()]*[^\\s()])(?:\\s+\\(.+?\\))?').iloc[0, 0]) for f in features]"
   ]
  },
  {
   "cell_type": "code",
   "execution_count": 91,
   "id": "suburban-vessel",
   "metadata": {},
   "outputs": [
    {
     "name": "stdout",
     "output_type": "stream",
     "text": [
      "('ALKALISCHE FOSFATASE', 'ALAT', 'ASAT', 'BILIRUBINE DIRECT', 'BILIRUBINE DIRECT', 'BILIRUBINE TOTAAL', 'CK', 'BASOFIELEN', 'EOSINOFIELEN', 'EOSINOFIELE GRANULOCYTEN CHL', 'EOSINOFIELE GRANULOCYTEN MD', 'LYMFOCYTEN', 'LYMFOCYTEN MD', 'MONOCYTEN MD', 'MONOCYTEN MD', 'D-DIMEER', 'FERRITINE', 'HEMOGLOBINE', 'HEMATOCRIET', 'KALIUM', 'KREATININE', 'LACTAAT', 'LEUK', \"LEUCO'S\", 'MAGNESIUM', 'NATRIUM', 'PROCALCITONINE', 'TROMBOCYTEN', 'UREUM')\n"
     ]
    }
   ],
   "source": [
    "_, new_vals = zip(*mapping)\n",
    "# print('\\n- '.join(new_vals))\n",
    "print(new_vals)"
   ]
  },
  {
   "cell_type": "code",
   "execution_count": 44,
   "id": "moving-stationery",
   "metadata": {},
   "outputs": [
    {
     "data": {
      "text/plain": [
       "LEUCO'S    875\n",
       "Name: labresultscommonname, dtype: int64"
      ]
     },
     "execution_count": 44,
     "metadata": {},
     "output_type": "execute_result"
    }
   ],
   "source": [
    "df_rumc[df_rumc.labresultsname == 'Leucocyten'].labresultscommonname.value_counts()"
   ]
  },
  {
   "cell_type": "code",
   "execution_count": 45,
   "id": "enclosed-object",
   "metadata": {},
   "outputs": [],
   "source": [
    "from difflib import SequenceMatcher\n",
    "\n",
    "def similar(a, b):\n",
    "    return SequenceMatcher(None, a, b).ratio()"
   ]
  },
  {
   "cell_type": "code",
   "execution_count": 79,
   "id": "strong-while",
   "metadata": {},
   "outputs": [],
   "source": [
    "names = df_rumc.labresultscommonname.str.extract(r'([^()]*[^\\s()])(?:\\s+\\(.+?\\))?').value_counts()[df_rumc.labresultscommonname.str.extract(r'([^()]*[^\\s()])(?:\\s+\\(.+?\\))?').value_counts() > 12].index.values"
   ]
  },
  {
   "cell_type": "code",
   "execution_count": 83,
   "id": "western-storage",
   "metadata": {},
   "outputs": [
    {
     "data": {
      "text/plain": [
       "'GLUCOSE'"
      ]
     },
     "execution_count": 83,
     "metadata": {},
     "output_type": "execute_result"
    }
   ],
   "source": [
    "names[0][0]"
   ]
  },
  {
   "cell_type": "code",
   "execution_count": 84,
   "id": "heavy-invitation",
   "metadata": {},
   "outputs": [],
   "source": [
    "from itertools import combinations\n",
    "similarities = []\n",
    "for a, b in combinations(range(len(names)), 2):\n",
    "    if a == b:\n",
    "        continue\n",
    "    name_a = names[a][0]\n",
    "    name_b = names[b][0]\n",
    "    s = similar(name_a, name_b)\n",
    "    similarities.append({'a': name_a, 'b': name_b, 'similarity': s})\n",
    "similarities = pd.DataFrame(similarities)"
   ]
  },
  {
   "cell_type": "code",
   "execution_count": 86,
   "id": "thick-africa",
   "metadata": {},
   "outputs": [
    {
     "data": {
      "text/html": [
       "<div>\n",
       "<style scoped>\n",
       "    .dataframe tbody tr th:only-of-type {\n",
       "        vertical-align: middle;\n",
       "    }\n",
       "\n",
       "    .dataframe tbody tr th {\n",
       "        vertical-align: top;\n",
       "    }\n",
       "\n",
       "    .dataframe thead th {\n",
       "        text-align: right;\n",
       "    }\n",
       "</style>\n",
       "<table border=\"1\" class=\"dataframe\">\n",
       "  <thead>\n",
       "    <tr style=\"text-align: right;\">\n",
       "      <th></th>\n",
       "      <th>a</th>\n",
       "      <th>b</th>\n",
       "      <th>similarity</th>\n",
       "    </tr>\n",
       "  </thead>\n",
       "  <tbody>\n",
       "    <tr>\n",
       "      <th>45041</th>\n",
       "      <td>PCR CORONAVIRUS NCOV-19</td>\n",
       "      <td>PCR CORONAVIRUS NCOV19</td>\n",
       "      <td>0.977778</td>\n",
       "    </tr>\n",
       "    <tr>\n",
       "      <th>184368</th>\n",
       "      <td>TBNK T-CEL MARKER CD8+ BINNEN CD3 ABSOLUUT</td>\n",
       "      <td>TBNK T-CEL MARKER CD4+ BINNEN CD3 ABSOLUUT</td>\n",
       "      <td>0.976190</td>\n",
       "    </tr>\n",
       "    <tr>\n",
       "      <th>68035</th>\n",
       "      <td>FRC REBREATHING RV</td>\n",
       "      <td>FRC REBREATHING ERV</td>\n",
       "      <td>0.972973</td>\n",
       "    </tr>\n",
       "    <tr>\n",
       "      <th>44597</th>\n",
       "      <td>TRANSFUSIE-EENHEID VOOR RAPPORTAGE1</td>\n",
       "      <td>TRANSFUSIE-EENHEID VOOR RAPPORTAGE3</td>\n",
       "      <td>0.971429</td>\n",
       "    </tr>\n",
       "    <tr>\n",
       "      <th>73353</th>\n",
       "      <td>TRANSFUSIE-EENHEID VOOR RAPPORTAGE2</td>\n",
       "      <td>TRANSFUSIE-EENHEID VOOR RAPPORTAGE3</td>\n",
       "      <td>0.971429</td>\n",
       "    </tr>\n",
       "    <tr>\n",
       "      <th>183652</th>\n",
       "      <td>TBNK T-CEL MARKER CD8+ BINNEN CD3 %</td>\n",
       "      <td>TBNK T-CEL MARKER CD4+ BINNEN CD3 %</td>\n",
       "      <td>0.971429</td>\n",
       "    </tr>\n",
       "    <tr>\n",
       "      <th>189365</th>\n",
       "      <td>TRANSFUSIE-EENHEID VOOR RAPPORTAGE3</td>\n",
       "      <td>TRANSFUSIE-EENHEID VOOR RAPPORTAGE4</td>\n",
       "      <td>0.971429</td>\n",
       "    </tr>\n",
       "    <tr>\n",
       "      <th>44645</th>\n",
       "      <td>TRANSFUSIE-EENHEID VOOR RAPPORTAGE1</td>\n",
       "      <td>TRANSFUSIE-EENHEID VOOR RAPPORTAGE4</td>\n",
       "      <td>0.971429</td>\n",
       "    </tr>\n",
       "    <tr>\n",
       "      <th>73401</th>\n",
       "      <td>TRANSFUSIE-EENHEID VOOR RAPPORTAGE2</td>\n",
       "      <td>TRANSFUSIE-EENHEID VOOR RAPPORTAGE4</td>\n",
       "      <td>0.971429</td>\n",
       "    </tr>\n",
       "    <tr>\n",
       "      <th>42558</th>\n",
       "      <td>PLAVEISELEPITHEEL</td>\n",
       "      <td>PLAVEISEL EPITHEEL</td>\n",
       "      <td>0.971429</td>\n",
       "    </tr>\n",
       "    <tr>\n",
       "      <th>44173</th>\n",
       "      <td>TRANSFUSIE-EENHEID VOOR RAPPORTAGE1</td>\n",
       "      <td>TRANSFUSIE-EENHEID VOOR RAPPORTAGE2</td>\n",
       "      <td>0.971429</td>\n",
       "    </tr>\n",
       "    <tr>\n",
       "      <th>150802</th>\n",
       "      <td>PCR PARA-INFLUENZA TYPE 2 VIRUS</td>\n",
       "      <td>PCR PARA-INFLUENZA TYPE 1 VIRUS</td>\n",
       "      <td>0.967742</td>\n",
       "    </tr>\n",
       "    <tr>\n",
       "      <th>150518</th>\n",
       "      <td>PCR PARA-INFLUENZA TYPE 3 VIRUS</td>\n",
       "      <td>PCR PARA-INFLUENZA TYPE 1 VIRUS</td>\n",
       "      <td>0.967742</td>\n",
       "    </tr>\n",
       "    <tr>\n",
       "      <th>150516</th>\n",
       "      <td>PCR PARA-INFLUENZA TYPE 3 VIRUS</td>\n",
       "      <td>PCR PARA-INFLUENZA TYPE 2 VIRUS</td>\n",
       "      <td>0.967742</td>\n",
       "    </tr>\n",
       "    <tr>\n",
       "      <th>127931</th>\n",
       "      <td>BIOMARKER COVID</td>\n",
       "      <td>BIOMARKERS COVID</td>\n",
       "      <td>0.967742</td>\n",
       "    </tr>\n",
       "    <tr>\n",
       "      <th>150233</th>\n",
       "      <td>PCR PARA-INFLUENZA TYPE 4 VIRUS</td>\n",
       "      <td>PCR PARA-INFLUENZA TYPE 1 VIRUS</td>\n",
       "      <td>0.967742</td>\n",
       "    </tr>\n",
       "    <tr>\n",
       "      <th>150230</th>\n",
       "      <td>PCR PARA-INFLUENZA TYPE 4 VIRUS</td>\n",
       "      <td>PCR PARA-INFLUENZA TYPE 3 VIRUS</td>\n",
       "      <td>0.967742</td>\n",
       "    </tr>\n",
       "    <tr>\n",
       "      <th>150231</th>\n",
       "      <td>PCR PARA-INFLUENZA TYPE 4 VIRUS</td>\n",
       "      <td>PCR PARA-INFLUENZA TYPE 2 VIRUS</td>\n",
       "      <td>0.967742</td>\n",
       "    </tr>\n",
       "    <tr>\n",
       "      <th>49030</th>\n",
       "      <td>BPAM BLOOD EXPIRATION DATE</td>\n",
       "      <td>BPAM BLOOD EXPIRATION DATE 2</td>\n",
       "      <td>0.962963</td>\n",
       "    </tr>\n",
       "    <tr>\n",
       "      <th>20520</th>\n",
       "      <td>NEUTROFIELE SEGMENTKERNIGE GRANULOCYTEN</td>\n",
       "      <td>NEUTROFIELE SEGMENTKERNIGE GRANULOCYTEN MD</td>\n",
       "      <td>0.962963</td>\n",
       "    </tr>\n",
       "    <tr>\n",
       "      <th>30890</th>\n",
       "      <td>SPIROMETRY FEV 1 % VC MAX</td>\n",
       "      <td>SPIROMETRY FIV 1 % VC MAX</td>\n",
       "      <td>0.960000</td>\n",
       "    </tr>\n",
       "    <tr>\n",
       "      <th>164109</th>\n",
       "      <td>LYSIS INDEX NA 60 MINUTEN</td>\n",
       "      <td>LYSIS INDEX NA 30 MINUTEN</td>\n",
       "      <td>0.960000</td>\n",
       "    </tr>\n",
       "    <tr>\n",
       "      <th>61476</th>\n",
       "      <td>INFLUENZA A SNELTEST PCR</td>\n",
       "      <td>INFLUENZA B SNELTEST PCR</td>\n",
       "      <td>0.958333</td>\n",
       "    </tr>\n",
       "    <tr>\n",
       "      <th>3764</th>\n",
       "      <td>ERYTROCYTEN</td>\n",
       "      <td>ERYTHROCYTEN</td>\n",
       "      <td>0.956522</td>\n",
       "    </tr>\n",
       "    <tr>\n",
       "      <th>116958</th>\n",
       "      <td>VITAMINE B12</td>\n",
       "      <td>VITAMINE B1</td>\n",
       "      <td>0.956522</td>\n",
       "    </tr>\n",
       "    <tr>\n",
       "      <th>148493</th>\n",
       "      <td>PCR CORONAVIRUS TYPE 43</td>\n",
       "      <td>PCR CORONAVIRUS TYPE 63</td>\n",
       "      <td>0.956522</td>\n",
       "    </tr>\n",
       "    <tr>\n",
       "      <th>3745</th>\n",
       "      <td>ERYTROCYTEN</td>\n",
       "      <td>ERYTRHOCYTEN</td>\n",
       "      <td>0.956522</td>\n",
       "    </tr>\n",
       "    <tr>\n",
       "      <th>53263</th>\n",
       "      <td>BPAM DISPENSE STATUS</td>\n",
       "      <td>BPAM DISPENSE STATUS 2</td>\n",
       "      <td>0.952381</td>\n",
       "    </tr>\n",
       "    <tr>\n",
       "      <th>151650</th>\n",
       "      <td>PCR INFLUENZA A VIRUS</td>\n",
       "      <td>PCR INFLUENZA B VIRUS</td>\n",
       "      <td>0.952381</td>\n",
       "    </tr>\n",
       "    <tr>\n",
       "      <th>147205</th>\n",
       "      <td>HEPATITIS B ANTI-HBC</td>\n",
       "      <td>HEPATITIS B ANTI-HBS</td>\n",
       "      <td>0.950000</td>\n",
       "    </tr>\n",
       "  </tbody>\n",
       "</table>\n",
       "</div>"
      ],
      "text/plain": [
       "                                                 a  \\\n",
       "45041                      PCR CORONAVIRUS NCOV-19   \n",
       "184368  TBNK T-CEL MARKER CD8+ BINNEN CD3 ABSOLUUT   \n",
       "68035                           FRC REBREATHING RV   \n",
       "44597          TRANSFUSIE-EENHEID VOOR RAPPORTAGE1   \n",
       "73353          TRANSFUSIE-EENHEID VOOR RAPPORTAGE2   \n",
       "183652         TBNK T-CEL MARKER CD8+ BINNEN CD3 %   \n",
       "189365         TRANSFUSIE-EENHEID VOOR RAPPORTAGE3   \n",
       "44645          TRANSFUSIE-EENHEID VOOR RAPPORTAGE1   \n",
       "73401          TRANSFUSIE-EENHEID VOOR RAPPORTAGE2   \n",
       "42558                            PLAVEISELEPITHEEL   \n",
       "44173          TRANSFUSIE-EENHEID VOOR RAPPORTAGE1   \n",
       "150802             PCR PARA-INFLUENZA TYPE 2 VIRUS   \n",
       "150518             PCR PARA-INFLUENZA TYPE 3 VIRUS   \n",
       "150516             PCR PARA-INFLUENZA TYPE 3 VIRUS   \n",
       "127931                             BIOMARKER COVID   \n",
       "150233             PCR PARA-INFLUENZA TYPE 4 VIRUS   \n",
       "150230             PCR PARA-INFLUENZA TYPE 4 VIRUS   \n",
       "150231             PCR PARA-INFLUENZA TYPE 4 VIRUS   \n",
       "49030                   BPAM BLOOD EXPIRATION DATE   \n",
       "20520      NEUTROFIELE SEGMENTKERNIGE GRANULOCYTEN   \n",
       "30890                    SPIROMETRY FEV 1 % VC MAX   \n",
       "164109                   LYSIS INDEX NA 60 MINUTEN   \n",
       "61476                     INFLUENZA A SNELTEST PCR   \n",
       "3764                                   ERYTROCYTEN   \n",
       "116958                                VITAMINE B12   \n",
       "148493                     PCR CORONAVIRUS TYPE 43   \n",
       "3745                                   ERYTROCYTEN   \n",
       "53263                         BPAM DISPENSE STATUS   \n",
       "151650                       PCR INFLUENZA A VIRUS   \n",
       "147205                        HEPATITIS B ANTI-HBC   \n",
       "\n",
       "                                                 b  similarity  \n",
       "45041                       PCR CORONAVIRUS NCOV19    0.977778  \n",
       "184368  TBNK T-CEL MARKER CD4+ BINNEN CD3 ABSOLUUT    0.976190  \n",
       "68035                          FRC REBREATHING ERV    0.972973  \n",
       "44597          TRANSFUSIE-EENHEID VOOR RAPPORTAGE3    0.971429  \n",
       "73353          TRANSFUSIE-EENHEID VOOR RAPPORTAGE3    0.971429  \n",
       "183652         TBNK T-CEL MARKER CD4+ BINNEN CD3 %    0.971429  \n",
       "189365         TRANSFUSIE-EENHEID VOOR RAPPORTAGE4    0.971429  \n",
       "44645          TRANSFUSIE-EENHEID VOOR RAPPORTAGE4    0.971429  \n",
       "73401          TRANSFUSIE-EENHEID VOOR RAPPORTAGE4    0.971429  \n",
       "42558                           PLAVEISEL EPITHEEL    0.971429  \n",
       "44173          TRANSFUSIE-EENHEID VOOR RAPPORTAGE2    0.971429  \n",
       "150802             PCR PARA-INFLUENZA TYPE 1 VIRUS    0.967742  \n",
       "150518             PCR PARA-INFLUENZA TYPE 1 VIRUS    0.967742  \n",
       "150516             PCR PARA-INFLUENZA TYPE 2 VIRUS    0.967742  \n",
       "127931                            BIOMARKERS COVID    0.967742  \n",
       "150233             PCR PARA-INFLUENZA TYPE 1 VIRUS    0.967742  \n",
       "150230             PCR PARA-INFLUENZA TYPE 3 VIRUS    0.967742  \n",
       "150231             PCR PARA-INFLUENZA TYPE 2 VIRUS    0.967742  \n",
       "49030                 BPAM BLOOD EXPIRATION DATE 2    0.962963  \n",
       "20520   NEUTROFIELE SEGMENTKERNIGE GRANULOCYTEN MD    0.962963  \n",
       "30890                    SPIROMETRY FIV 1 % VC MAX    0.960000  \n",
       "164109                   LYSIS INDEX NA 30 MINUTEN    0.960000  \n",
       "61476                     INFLUENZA B SNELTEST PCR    0.958333  \n",
       "3764                                  ERYTHROCYTEN    0.956522  \n",
       "116958                                 VITAMINE B1    0.956522  \n",
       "148493                     PCR CORONAVIRUS TYPE 63    0.956522  \n",
       "3745                                  ERYTRHOCYTEN    0.956522  \n",
       "53263                       BPAM DISPENSE STATUS 2    0.952381  \n",
       "151650                       PCR INFLUENZA B VIRUS    0.952381  \n",
       "147205                        HEPATITIS B ANTI-HBS    0.950000  "
      ]
     },
     "execution_count": 86,
     "metadata": {},
     "output_type": "execute_result"
    }
   ],
   "source": [
    "similarities.sort_values(by='similarity', ascending=False)[:30]"
   ]
  },
  {
   "cell_type": "code",
   "execution_count": 63,
   "id": "radical-dairy",
   "metadata": {},
   "outputs": [
    {
     "name": "stdout",
     "output_type": "stream",
     "text": [
      "Alkalische fosfatase\n",
      "- ALAT\n",
      "- ASAT\n",
      "- Bilirubine direct\n",
      "- Bilirubine\n",
      "- Bilirubine totaal\n",
      "- CK\n",
      "- Basofielen\n",
      "- Eosinofielen\n",
      "- Eosinofiele granulocyten\n",
      "- Eosinofiele granulocyten EOSINOFIELE\n",
      "- Lymfocyten\n",
      "- Lymfocyten md\n",
      "- Monocyten\n",
      "- Monocyten md\n",
      "- D-Dimeer\n",
      "- Ferritine\n",
      "- Hemoglobine\n",
      "- Hematocriet\n",
      "- Kalium\n",
      "- Kreatinine\n",
      "- Lactaat\n",
      "- Leukocyten\n",
      "- Leucocyten\n",
      "- Magnesium\n",
      "- Natrium\n",
      "- Procalcitonine\n",
      "- Trombocyten\n",
      "- Ureum\n"
     ]
    }
   ],
   "source": [
    "print('\\n- '.join(features))"
   ]
  },
  {
   "cell_type": "code",
   "execution_count": 58,
   "id": "black-mission",
   "metadata": {},
   "outputs": [
    {
     "data": {
      "text/plain": [
       "299"
      ]
     },
     "execution_count": 58,
     "metadata": {},
     "output_type": "execute_result"
    }
   ],
   "source": [
    "df['Trombocyten'].isna().sum()"
   ]
  },
  {
   "cell_type": "code",
   "execution_count": null,
   "id": "marine-boulder",
   "metadata": {},
   "outputs": [],
   "source": []
  }
 ],
 "metadata": {
  "kernelspec": {
   "display_name": "Python 3",
   "language": "python",
   "name": "python3"
  },
  "language_info": {
   "codemirror_mode": {
    "name": "ipython",
    "version": 3
   },
   "file_extension": ".py",
   "mimetype": "text/x-python",
   "name": "python",
   "nbconvert_exporter": "python",
   "pygments_lexer": "ipython3",
   "version": "3.7.9"
  }
 },
 "nbformat": 4,
 "nbformat_minor": 5
}
