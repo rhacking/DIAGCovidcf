{
 "cells": [
  {
   "cell_type": "code",
   "execution_count": 1,
   "metadata": {
    "id": "QAqL_KfcoMON"
   },
   "outputs": [],
   "source": [
    "from lightgbm.sklearn import LGBMClassifier\n",
    "import pandas as pd"
   ]
  },
  {
   "cell_type": "code",
   "execution_count": 2,
   "metadata": {
    "id": "H-IVTETJoaNd"
   },
   "outputs": [],
   "source": [
    "train = pd.read_csv('training.csv', index_col='ID')\n",
    "test = pd.read_csv('test.csv', index_col='ID')"
   ]
  },
  {
   "cell_type": "code",
   "execution_count": 3,
   "metadata": {
    "id": "iPF1NKdFo-J1"
   },
   "outputs": [],
   "source": [
    "X_train, y_train = pd.concat([train.iloc[:, 2:-2], train.iloc[:, -1]], axis=1), train.iloc[:, -2]\n",
    "X_test, y_test = pd.concat([test.iloc[:, 2:-2], test.iloc[:, -1]], axis=1), test.iloc[:, -2]"
   ]
  },
  {
   "cell_type": "code",
   "execution_count": 4,
   "metadata": {
    "colab": {
     "base_uri": "https://localhost:8080/"
    },
    "id": "CSdazCePCdXB",
    "outputId": "98d0ce91-1584-4764-8fbd-5032cf7ed069"
   },
   "outputs": [
    {
     "data": {
      "text/plain": [
       "RandomForestClassifier(n_jobs=-1)"
      ]
     },
     "execution_count": 4,
     "metadata": {},
     "output_type": "execute_result"
    }
   ],
   "source": [
    "from sklearn.ensemble import RandomForestClassifier\n",
    "from sklearn.impute import SimpleImputer\n",
    "rf = RandomForestClassifier(n_jobs=-1)\n",
    "imputer = SimpleImputer(strategy='mean')\n",
    "rf.fit(imputer.fit_transform(X_train), y_train)"
   ]
  },
  {
   "cell_type": "code",
   "execution_count": 5,
   "metadata": {
    "colab": {
     "base_uri": "https://localhost:8080/"
    },
    "id": "O-KBTNCjtTie",
    "outputId": "29b2354b-f1af-47f9-9281-7b0c6cbddcbb"
   },
   "outputs": [],
   "source": [
    "import lightgbm as lgb\n",
    "\n",
    "import optuna\n",
    "import numpy as np\n",
    "\n",
    "from sklearn.model_selection import cross_val_score\n",
    "import warnings\n",
    "\n",
    "# 1. Define an objective function to be maximized.\n",
    "def objective(trial):\n",
    "    # 2. Suggest values of the hyperparameters using a trial object.\n",
    "    param = {\n",
    "        'objective': 'binary',\n",
    "        'metric': 'auc',\n",
    "        'verbosity': -1,\n",
    "        'boosting_type': trial.suggest_categorical('boosting_type', ['gbdt', 'dart', 'rf', 'goss']),\n",
    "        'lambda_l1': trial.suggest_loguniform('lambda_l1', 1e-10, 100.0),\n",
    "        'lambda_l2': trial.suggest_loguniform('lambda_l2', 1e-10, 100.0),\n",
    "        'num_leaves': trial.suggest_int('num_leaves', 2, 400),\n",
    "        'max_depth': trial.suggest_int('max_depth', 0, 40), \n",
    "        'feature_fraction': trial.suggest_uniform('feature_fraction', 0.01, 1.0),\n",
    "        'feature_fraction_bynode': trial.suggest_uniform('feature_fraction_bynode', 0.01, 1.0), \n",
    "        'min_child_samples': trial.suggest_int('min_child_samples', 2, 200),\n",
    "        'linear_tree': trial.suggest_categorical('linear_tree', [False, True]), \n",
    "        'feature_pre_filter': False, \n",
    "        'max_bin': trial.suggest_int('max_bin', 7, 511), \n",
    "        'extra_trees': trial.suggest_categorical('extra_trees', [False, True]), \n",
    "        'path_smooth': trial.suggest_loguniform('path_smooth', 1e-12, 100), \n",
    "        'learning_rate': trial.suggest_loguniform('learning_rate', 1e-30, 1), \n",
    "        'min_gain_to_split': trial.suggest_loguniform('min_gain_to_split', 1e-20, 100), \n",
    "        'min_sum_hessian_in_leaf': trial.suggest_loguniform('min_sum_hessian_in_leaf', 1e-6, 1e2), \n",
    "        'num_boost_round': trial.suggest_int('num_boost_round', 2, 600)\n",
    "    }\n",
    "    \n",
    "    if param['boosting_type'] != 'goss':\n",
    "        not_goss_params = {\n",
    "            'bagging_fraction': trial.suggest_uniform('bagging_fraction', 0.01, 0.999999),\n",
    "            'bagging_freq': trial.suggest_int('bagging_freq', 1, 100),\n",
    "        }\n",
    "        param.update(not_goss_params)\n",
    "\n",
    "    if param['boosting_type'] == 'dart':\n",
    "        dart_params = {\n",
    "          'drop_rate': trial.suggest_uniform('drop_rate', 0.01, 1.0), \n",
    "          'max_drop': trial.suggest_int('max_drop', 0, 200), \n",
    "          'skip_drop': trial.suggest_uniform('skip_drop', 0.001, 1.0), \n",
    "          'xgboost_dart_mode': trial.suggest_categorical('xgboost_dart_mode', [False, True]), \n",
    "          'uniform_drop': trial.suggest_categorical('uniform_drop', [False, True])\n",
    "        }\n",
    "\n",
    "        param.update(dart_params)\n",
    "    \n",
    "    clf = BaggingClassifier(LGBMClassifier(n_jobs=-1, **param), n_estimators=55, \n",
    "                            bootstrap=trial.suggest_categorical('bootstrap', [False, True]), \n",
    "                            bootstrap_features=trial.suggest_categorical('bootstrap_features', [False, True]), \n",
    "                           max_samples=trial.suggest_uniform('max_samples', 0.01, 1.0), \n",
    "                           max_features=trial.suggest_uniform('max_features', 0.01, 1.0))\n",
    "    with warnings.catch_warnings():\n",
    "        warnings.filterwarnings('ignore')\n",
    "        return cross_val_score(clf, imputer.transform(X_train), y_train, cv=RepeatedStratifiedKFold(n_repeats=5), scoring='roc_auc').mean()\n",
    "#     aucs = []\n",
    "#     for i in range(5):\n",
    "#         train_data = lgb.Dataset(imputer.transform(X_train), label=y_train)\n",
    "#         aucs.append(lgb.cv(param, train_data, num_boost_round=num_boost_round, nfold=7)['auc-mean'][-1])\n",
    "#     # auc = roc_auc_score(split_data(test)[1], bst.predict(split_data(test)[0]))\n",
    "#     return np.mean(aucs)"
   ]
  },
  {
   "cell_type": "code",
   "execution_count": 493,
   "metadata": {
    "colab": {
     "base_uri": "https://localhost:8080/"
    },
    "id": "O-KBTNCjtTie",
    "outputId": "29b2354b-f1af-47f9-9281-7b0c6cbddcbb"
   },
   "outputs": [
    {
     "name": "stderr",
     "output_type": "stream",
     "text": [
      "\u001b[32m[I 2021-05-06 22:59:43,103]\u001b[0m A new study created in memory with name: no-name-44e3f6e1-47ea-4dfa-b153-a9ffe470d1db\u001b[0m\n"
     ]
    }
   ],
   "source": [
    "# 3. Create a study object and optimize the objective function.\n",
    "study = optuna.create_study(direction='maximize')"
   ]
  },
  {
   "cell_type": "code",
   "execution_count": 498,
   "metadata": {
    "colab": {
     "base_uri": "https://localhost:8080/"
    },
    "id": "XV8gJ8SWupnx",
    "outputId": "946c6ab7-bbb9-4110-fdcf-6d853e0bbacc",
    "scrolled": true,
    "tags": []
   },
   "outputs": [
    {
     "name": "stdout",
     "output_type": "stream",
     "text": [
      "[LightGBM] [Warning] feature_fraction is set=0.7364613377857425, colsample_bytree=1.0 will be ignored. Current value: feature_fraction=0.7364613377857425\n",
      "[LightGBM] [Warning] min_gain_to_split is set=8.915273773262573e-06, min_split_gain=0.0 will be ignored. Current value: min_gain_to_split=8.915273773262573e-06\n",
      "[LightGBM] [Warning] lambda_l1 is set=7.023109964209483e-07, reg_alpha=0.0 will be ignored. Current value: lambda_l1=7.023109964209483e-07\n",
      "[LightGBM] [Warning] min_sum_hessian_in_leaf is set=0.0006241746407671965, min_child_weight=0.001 will be ignored. Current value: min_sum_hessian_in_leaf=0.0006241746407671965\n",
      "[LightGBM] [Warning] bagging_fraction is set=0.5629712713271648, subsample=1.0 will be ignored. Current value: bagging_fraction=0.5629712713271648\n",
      "[LightGBM] [Warning] lambda_l2 is set=1.4981749049254008e-06, reg_lambda=0.0 will be ignored. Current value: lambda_l2=1.4981749049254008e-06\n",
      "[LightGBM] [Warning] bagging_freq is set=13, subsample_freq=0 will be ignored. Current value: bagging_freq=13\n",
      "[LightGBM] [Warning] num_iterations is set=274, num_boost_round=274 will be ignored. Current value: num_iterations=274\n",
      "[LightGBM] [Warning] feature_fraction is set=0.7364613377857425, colsample_bytree=1.0 will be ignored. Current value: feature_fraction=0.7364613377857425\n",
      "[LightGBM] [Warning] min_gain_to_split is set=8.915273773262573e-06, min_split_gain=0.0 will be ignored. Current value: min_gain_to_split=8.915273773262573e-06\n",
      "[LightGBM] [Warning] lambda_l1 is set=7.023109964209483e-07, reg_alpha=0.0 will be ignored. Current value: lambda_l1=7.023109964209483e-07\n",
      "[LightGBM] [Warning] min_sum_hessian_in_leaf is set=0.0006241746407671965, min_child_weight=0.001 will be ignored. Current value: min_sum_hessian_in_leaf=0.0006241746407671965\n",
      "[LightGBM] [Warning] bagging_fraction is set=0.5629712713271648, subsample=1.0 will be ignored. Current value: bagging_fraction=0.5629712713271648\n",
      "[LightGBM] [Warning] lambda_l2 is set=1.4981749049254008e-06, reg_lambda=0.0 will be ignored. Current value: lambda_l2=1.4981749049254008e-06\n",
      "[LightGBM] [Warning] bagging_freq is set=13, subsample_freq=0 will be ignored. Current value: bagging_freq=13\n",
      "[LightGBM] [Warning] num_iterations is set=274, num_boost_round=274 will be ignored. Current value: num_iterations=274\n",
      "[LightGBM] [Warning] feature_fraction is set=0.7364613377857425, colsample_bytree=1.0 will be ignored. Current value: feature_fraction=0.7364613377857425\n",
      "[LightGBM] [Warning] min_gain_to_split is set=8.915273773262573e-06, min_split_gain=0.0 will be ignored. Current value: min_gain_to_split=8.915273773262573e-06\n",
      "[LightGBM] [Warning] lambda_l1 is set=7.023109964209483e-07, reg_alpha=0.0 will be ignored. Current value: lambda_l1=7.023109964209483e-07\n",
      "[LightGBM] [Warning] min_sum_hessian_in_leaf is set=0.0006241746407671965, min_child_weight=0.001 will be ignored. Current value: min_sum_hessian_in_leaf=0.0006241746407671965\n",
      "[LightGBM] [Warning] bagging_fraction is set=0.5629712713271648, subsample=1.0 will be ignored. Current value: bagging_fraction=0.5629712713271648\n",
      "[LightGBM] [Warning] lambda_l2 is set=1.4981749049254008e-06, reg_lambda=0.0 will be ignored. Current value: lambda_l2=1.4981749049254008e-06\n",
      "[LightGBM] [Warning] bagging_freq is set=13, subsample_freq=0 will be ignored. Current value: bagging_freq=13\n",
      "[LightGBM] [Warning] num_iterations is set=274, num_boost_round=274 will be ignored. Current value: num_iterations=274\n",
      "[LightGBM] [Warning] feature_fraction is set=0.7364613377857425, colsample_bytree=1.0 will be ignored. Current value: feature_fraction=0.7364613377857425\n",
      "[LightGBM] [Warning] min_gain_to_split is set=8.915273773262573e-06, min_split_gain=0.0 will be ignored. Current value: min_gain_to_split=8.915273773262573e-06\n",
      "[LightGBM] [Warning] lambda_l1 is set=7.023109964209483e-07, reg_alpha=0.0 will be ignored. Current value: lambda_l1=7.023109964209483e-07\n",
      "[LightGBM] [Warning] min_sum_hessian_in_leaf is set=0.0006241746407671965, min_child_weight=0.001 will be ignored. Current value: min_sum_hessian_in_leaf=0.0006241746407671965\n",
      "[LightGBM] [Warning] bagging_fraction is set=0.5629712713271648, subsample=1.0 will be ignored. Current value: bagging_fraction=0.5629712713271648\n",
      "[LightGBM] [Warning] lambda_l2 is set=1.4981749049254008e-06, reg_lambda=0.0 will be ignored. Current value: lambda_l2=1.4981749049254008e-06\n",
      "[LightGBM] [Warning] bagging_freq is set=13, subsample_freq=0 will be ignored. Current value: bagging_freq=13\n",
      "[LightGBM] [Warning] num_iterations is set=274, num_boost_round=274 will be ignored. Current value: num_iterations=274\n",
      "[LightGBM] [Warning] feature_fraction is set=0.7364613377857425, colsample_bytree=1.0 will be ignored. Current value: feature_fraction=0.7364613377857425\n",
      "[LightGBM] [Warning] min_gain_to_split is set=8.915273773262573e-06, min_split_gain=0.0 will be ignored. Current value: min_gain_to_split=8.915273773262573e-06\n",
      "[LightGBM] [Warning] lambda_l1 is set=7.023109964209483e-07, reg_alpha=0.0 will be ignored. Current value: lambda_l1=7.023109964209483e-07\n",
      "[LightGBM] [Warning] min_sum_hessian_in_leaf is set=0.0006241746407671965, min_child_weight=0.001 will be ignored. Current value: min_sum_hessian_in_leaf=0.0006241746407671965\n",
      "[LightGBM] [Warning] bagging_fraction is set=0.5629712713271648, subsample=1.0 will be ignored. Current value: bagging_fraction=0.5629712713271648\n",
      "[LightGBM] [Warning] lambda_l2 is set=1.4981749049254008e-06, reg_lambda=0.0 will be ignored. Current value: lambda_l2=1.4981749049254008e-06\n",
      "[LightGBM] [Warning] bagging_freq is set=13, subsample_freq=0 will be ignored. Current value: bagging_freq=13\n",
      "[LightGBM] [Warning] num_iterations is set=274, num_boost_round=274 will be ignored. Current value: num_iterations=274\n",
      "[LightGBM] [Warning] feature_fraction is set=0.7364613377857425, colsample_bytree=1.0 will be ignored. Current value: feature_fraction=0.7364613377857425\n",
      "[LightGBM] [Warning] min_gain_to_split is set=8.915273773262573e-06, min_split_gain=0.0 will be ignored. Current value: min_gain_to_split=8.915273773262573e-06\n",
      "[LightGBM] [Warning] lambda_l1 is set=7.023109964209483e-07, reg_alpha=0.0 will be ignored. Current value: lambda_l1=7.023109964209483e-07\n",
      "[LightGBM] [Warning] min_sum_hessian_in_leaf is set=0.0006241746407671965, min_child_weight=0.001 will be ignored. Current value: min_sum_hessian_in_leaf=0.0006241746407671965\n",
      "[LightGBM] [Warning] bagging_fraction is set=0.5629712713271648, subsample=1.0 will be ignored. Current value: bagging_fraction=0.5629712713271648\n",
      "[LightGBM] [Warning] lambda_l2 is set=1.4981749049254008e-06, reg_lambda=0.0 will be ignored. Current value: lambda_l2=1.4981749049254008e-06\n",
      "[LightGBM] [Warning] bagging_freq is set=13, subsample_freq=0 will be ignored. Current value: bagging_freq=13\n",
      "[LightGBM] [Warning] num_iterations is set=274, num_boost_round=274 will be ignored. Current value: num_iterations=274\n",
      "[LightGBM] [Warning] feature_fraction is set=0.7364613377857425, colsample_bytree=1.0 will be ignored. Current value: feature_fraction=0.7364613377857425\n",
      "[LightGBM] [Warning] min_gain_to_split is set=8.915273773262573e-06, min_split_gain=0.0 will be ignored. Current value: min_gain_to_split=8.915273773262573e-06\n",
      "[LightGBM] [Warning] lambda_l1 is set=7.023109964209483e-07, reg_alpha=0.0 will be ignored. Current value: lambda_l1=7.023109964209483e-07\n",
      "[LightGBM] [Warning] min_sum_hessian_in_leaf is set=0.0006241746407671965, min_child_weight=0.001 will be ignored. Current value: min_sum_hessian_in_leaf=0.0006241746407671965\n",
      "[LightGBM] [Warning] bagging_fraction is set=0.5629712713271648, subsample=1.0 will be ignored. Current value: bagging_fraction=0.5629712713271648\n",
      "[LightGBM] [Warning] lambda_l2 is set=1.4981749049254008e-06, reg_lambda=0.0 will be ignored. Current value: lambda_l2=1.4981749049254008e-06\n",
      "[LightGBM] [Warning] bagging_freq is set=13, subsample_freq=0 will be ignored. Current value: bagging_freq=13\n",
      "[LightGBM] [Warning] num_iterations is set=274, num_boost_round=274 will be ignored. Current value: num_iterations=274\n",
      "[LightGBM] [Warning] feature_fraction is set=0.7364613377857425, colsample_bytree=1.0 will be ignored. Current value: feature_fraction=0.7364613377857425\n",
      "[LightGBM] [Warning] min_gain_to_split is set=8.915273773262573e-06, min_split_gain=0.0 will be ignored. Current value: min_gain_to_split=8.915273773262573e-06\n",
      "[LightGBM] [Warning] lambda_l1 is set=7.023109964209483e-07, reg_alpha=0.0 will be ignored. Current value: lambda_l1=7.023109964209483e-07\n",
      "[LightGBM] [Warning] min_sum_hessian_in_leaf is set=0.0006241746407671965, min_child_weight=0.001 will be ignored. Current value: min_sum_hessian_in_leaf=0.0006241746407671965\n",
      "[LightGBM] [Warning] bagging_fraction is set=0.5629712713271648, subsample=1.0 will be ignored. Current value: bagging_fraction=0.5629712713271648\n",
      "[LightGBM] [Warning] lambda_l2 is set=1.4981749049254008e-06, reg_lambda=0.0 will be ignored. Current value: lambda_l2=1.4981749049254008e-06\n",
      "[LightGBM] [Warning] bagging_freq is set=13, subsample_freq=0 will be ignored. Current value: bagging_freq=13\n",
      "[LightGBM] [Warning] num_iterations is set=274, num_boost_round=274 will be ignored. Current value: num_iterations=274\n",
      "[LightGBM] [Warning] feature_fraction is set=0.7364613377857425, colsample_bytree=1.0 will be ignored. Current value: feature_fraction=0.7364613377857425\n",
      "[LightGBM] [Warning] min_gain_to_split is set=8.915273773262573e-06, min_split_gain=0.0 will be ignored. Current value: min_gain_to_split=8.915273773262573e-06\n",
      "[LightGBM] [Warning] lambda_l1 is set=7.023109964209483e-07, reg_alpha=0.0 will be ignored. Current value: lambda_l1=7.023109964209483e-07\n",
      "[LightGBM] [Warning] min_sum_hessian_in_leaf is set=0.0006241746407671965, min_child_weight=0.001 will be ignored. Current value: min_sum_hessian_in_leaf=0.0006241746407671965\n",
      "[LightGBM] [Warning] bagging_fraction is set=0.5629712713271648, subsample=1.0 will be ignored. Current value: bagging_fraction=0.5629712713271648\n",
      "[LightGBM] [Warning] lambda_l2 is set=1.4981749049254008e-06, reg_lambda=0.0 will be ignored. Current value: lambda_l2=1.4981749049254008e-06\n",
      "[LightGBM] [Warning] bagging_freq is set=13, subsample_freq=0 will be ignored. Current value: bagging_freq=13\n",
      "[LightGBM] [Warning] num_iterations is set=274, num_boost_round=274 will be ignored. Current value: num_iterations=274\n",
      "[LightGBM] [Warning] feature_fraction is set=0.7364613377857425, colsample_bytree=1.0 will be ignored. Current value: feature_fraction=0.7364613377857425\n",
      "[LightGBM] [Warning] min_gain_to_split is set=8.915273773262573e-06, min_split_gain=0.0 will be ignored. Current value: min_gain_to_split=8.915273773262573e-06\n",
      "[LightGBM] [Warning] lambda_l1 is set=7.023109964209483e-07, reg_alpha=0.0 will be ignored. Current value: lambda_l1=7.023109964209483e-07\n",
      "[LightGBM] [Warning] min_sum_hessian_in_leaf is set=0.0006241746407671965, min_child_weight=0.001 will be ignored. Current value: min_sum_hessian_in_leaf=0.0006241746407671965\n",
      "[LightGBM] [Warning] bagging_fraction is set=0.5629712713271648, subsample=1.0 will be ignored. Current value: bagging_fraction=0.5629712713271648\n",
      "[LightGBM] [Warning] lambda_l2 is set=1.4981749049254008e-06, reg_lambda=0.0 will be ignored. Current value: lambda_l2=1.4981749049254008e-06\n",
      "[LightGBM] [Warning] bagging_freq is set=13, subsample_freq=0 will be ignored. Current value: bagging_freq=13\n",
      "[LightGBM] [Warning] num_iterations is set=274, num_boost_round=274 will be ignored. Current value: num_iterations=274\n",
      "[LightGBM] [Warning] feature_fraction is set=0.7364613377857425, colsample_bytree=1.0 will be ignored. Current value: feature_fraction=0.7364613377857425\n",
      "[LightGBM] [Warning] min_gain_to_split is set=8.915273773262573e-06, min_split_gain=0.0 will be ignored. Current value: min_gain_to_split=8.915273773262573e-06\n",
      "[LightGBM] [Warning] lambda_l1 is set=7.023109964209483e-07, reg_alpha=0.0 will be ignored. Current value: lambda_l1=7.023109964209483e-07\n",
      "[LightGBM] [Warning] min_sum_hessian_in_leaf is set=0.0006241746407671965, min_child_weight=0.001 will be ignored. Current value: min_sum_hessian_in_leaf=0.0006241746407671965\n",
      "[LightGBM] [Warning] bagging_fraction is set=0.5629712713271648, subsample=1.0 will be ignored. Current value: bagging_fraction=0.5629712713271648\n",
      "[LightGBM] [Warning] lambda_l2 is set=1.4981749049254008e-06, reg_lambda=0.0 will be ignored. Current value: lambda_l2=1.4981749049254008e-06\n",
      "[LightGBM] [Warning] bagging_freq is set=13, subsample_freq=0 will be ignored. Current value: bagging_freq=13\n",
      "[LightGBM] [Warning] num_iterations is set=274, num_boost_round=274 will be ignored. Current value: num_iterations=274\n",
      "[LightGBM] [Warning] feature_fraction is set=0.7364613377857425, colsample_bytree=1.0 will be ignored. Current value: feature_fraction=0.7364613377857425\n",
      "[LightGBM] [Warning] min_gain_to_split is set=8.915273773262573e-06, min_split_gain=0.0 will be ignored. Current value: min_gain_to_split=8.915273773262573e-06\n",
      "[LightGBM] [Warning] lambda_l1 is set=7.023109964209483e-07, reg_alpha=0.0 will be ignored. Current value: lambda_l1=7.023109964209483e-07\n",
      "[LightGBM] [Warning] min_sum_hessian_in_leaf is set=0.0006241746407671965, min_child_weight=0.001 will be ignored. Current value: min_sum_hessian_in_leaf=0.0006241746407671965\n",
      "[LightGBM] [Warning] bagging_fraction is set=0.5629712713271648, subsample=1.0 will be ignored. Current value: bagging_fraction=0.5629712713271648\n",
      "[LightGBM] [Warning] lambda_l2 is set=1.4981749049254008e-06, reg_lambda=0.0 will be ignored. Current value: lambda_l2=1.4981749049254008e-06\n",
      "[LightGBM] [Warning] bagging_freq is set=13, subsample_freq=0 will be ignored. Current value: bagging_freq=13\n",
      "[LightGBM] [Warning] num_iterations is set=274, num_boost_round=274 will be ignored. Current value: num_iterations=274\n",
      "[LightGBM] [Warning] feature_fraction is set=0.7364613377857425, colsample_bytree=1.0 will be ignored. Current value: feature_fraction=0.7364613377857425\n",
      "[LightGBM] [Warning] min_gain_to_split is set=8.915273773262573e-06, min_split_gain=0.0 will be ignored. Current value: min_gain_to_split=8.915273773262573e-06\n",
      "[LightGBM] [Warning] lambda_l1 is set=7.023109964209483e-07, reg_alpha=0.0 will be ignored. Current value: lambda_l1=7.023109964209483e-07\n",
      "[LightGBM] [Warning] min_sum_hessian_in_leaf is set=0.0006241746407671965, min_child_weight=0.001 will be ignored. Current value: min_sum_hessian_in_leaf=0.0006241746407671965\n",
      "[LightGBM] [Warning] bagging_fraction is set=0.5629712713271648, subsample=1.0 will be ignored. Current value: bagging_fraction=0.5629712713271648\n",
      "[LightGBM] [Warning] lambda_l2 is set=1.4981749049254008e-06, reg_lambda=0.0 will be ignored. Current value: lambda_l2=1.4981749049254008e-06\n",
      "[LightGBM] [Warning] bagging_freq is set=13, subsample_freq=0 will be ignored. Current value: bagging_freq=13\n",
      "[LightGBM] [Warning] num_iterations is set=274, num_boost_round=274 will be ignored. Current value: num_iterations=274\n",
      "[LightGBM] [Warning] feature_fraction is set=0.7364613377857425, colsample_bytree=1.0 will be ignored. Current value: feature_fraction=0.7364613377857425\n",
      "[LightGBM] [Warning] min_gain_to_split is set=8.915273773262573e-06, min_split_gain=0.0 will be ignored. Current value: min_gain_to_split=8.915273773262573e-06\n",
      "[LightGBM] [Warning] lambda_l1 is set=7.023109964209483e-07, reg_alpha=0.0 will be ignored. Current value: lambda_l1=7.023109964209483e-07\n",
      "[LightGBM] [Warning] min_sum_hessian_in_leaf is set=0.0006241746407671965, min_child_weight=0.001 will be ignored. Current value: min_sum_hessian_in_leaf=0.0006241746407671965\n",
      "[LightGBM] [Warning] bagging_fraction is set=0.5629712713271648, subsample=1.0 will be ignored. Current value: bagging_fraction=0.5629712713271648\n",
      "[LightGBM] [Warning] lambda_l2 is set=1.4981749049254008e-06, reg_lambda=0.0 will be ignored. Current value: lambda_l2=1.4981749049254008e-06\n",
      "[LightGBM] [Warning] bagging_freq is set=13, subsample_freq=0 will be ignored. Current value: bagging_freq=13\n",
      "[LightGBM] [Warning] num_iterations is set=274, num_boost_round=274 will be ignored. Current value: num_iterations=274\n",
      "[LightGBM] [Warning] feature_fraction is set=0.7364613377857425, colsample_bytree=1.0 will be ignored. Current value: feature_fraction=0.7364613377857425\n",
      "[LightGBM] [Warning] min_gain_to_split is set=8.915273773262573e-06, min_split_gain=0.0 will be ignored. Current value: min_gain_to_split=8.915273773262573e-06\n",
      "[LightGBM] [Warning] lambda_l1 is set=7.023109964209483e-07, reg_alpha=0.0 will be ignored. Current value: lambda_l1=7.023109964209483e-07\n",
      "[LightGBM] [Warning] min_sum_hessian_in_leaf is set=0.0006241746407671965, min_child_weight=0.001 will be ignored. Current value: min_sum_hessian_in_leaf=0.0006241746407671965\n",
      "[LightGBM] [Warning] bagging_fraction is set=0.5629712713271648, subsample=1.0 will be ignored. Current value: bagging_fraction=0.5629712713271648\n",
      "[LightGBM] [Warning] lambda_l2 is set=1.4981749049254008e-06, reg_lambda=0.0 will be ignored. Current value: lambda_l2=1.4981749049254008e-06\n",
      "[LightGBM] [Warning] bagging_freq is set=13, subsample_freq=0 will be ignored. Current value: bagging_freq=13\n",
      "[LightGBM] [Warning] num_iterations is set=274, num_boost_round=274 will be ignored. Current value: num_iterations=274\n",
      "[LightGBM] [Warning] feature_fraction is set=0.7364613377857425, colsample_bytree=1.0 will be ignored. Current value: feature_fraction=0.7364613377857425\n",
      "[LightGBM] [Warning] min_gain_to_split is set=8.915273773262573e-06, min_split_gain=0.0 will be ignored. Current value: min_gain_to_split=8.915273773262573e-06\n",
      "[LightGBM] [Warning] lambda_l1 is set=7.023109964209483e-07, reg_alpha=0.0 will be ignored. Current value: lambda_l1=7.023109964209483e-07\n",
      "[LightGBM] [Warning] min_sum_hessian_in_leaf is set=0.0006241746407671965, min_child_weight=0.001 will be ignored. Current value: min_sum_hessian_in_leaf=0.0006241746407671965\n",
      "[LightGBM] [Warning] bagging_fraction is set=0.5629712713271648, subsample=1.0 will be ignored. Current value: bagging_fraction=0.5629712713271648\n",
      "[LightGBM] [Warning] lambda_l2 is set=1.4981749049254008e-06, reg_lambda=0.0 will be ignored. Current value: lambda_l2=1.4981749049254008e-06\n",
      "[LightGBM] [Warning] bagging_freq is set=13, subsample_freq=0 will be ignored. Current value: bagging_freq=13\n",
      "[LightGBM] [Warning] num_iterations is set=274, num_boost_round=274 will be ignored. Current value: num_iterations=274\n",
      "[LightGBM] [Warning] feature_fraction is set=0.7364613377857425, colsample_bytree=1.0 will be ignored. Current value: feature_fraction=0.7364613377857425\n",
      "[LightGBM] [Warning] min_gain_to_split is set=8.915273773262573e-06, min_split_gain=0.0 will be ignored. Current value: min_gain_to_split=8.915273773262573e-06\n",
      "[LightGBM] [Warning] lambda_l1 is set=7.023109964209483e-07, reg_alpha=0.0 will be ignored. Current value: lambda_l1=7.023109964209483e-07\n",
      "[LightGBM] [Warning] min_sum_hessian_in_leaf is set=0.0006241746407671965, min_child_weight=0.001 will be ignored. Current value: min_sum_hessian_in_leaf=0.0006241746407671965\n",
      "[LightGBM] [Warning] bagging_fraction is set=0.5629712713271648, subsample=1.0 will be ignored. Current value: bagging_fraction=0.5629712713271648\n",
      "[LightGBM] [Warning] lambda_l2 is set=1.4981749049254008e-06, reg_lambda=0.0 will be ignored. Current value: lambda_l2=1.4981749049254008e-06\n",
      "[LightGBM] [Warning] bagging_freq is set=13, subsample_freq=0 will be ignored. Current value: bagging_freq=13\n",
      "[LightGBM] [Warning] num_iterations is set=274, num_boost_round=274 will be ignored. Current value: num_iterations=274\n",
      "[LightGBM] [Warning] feature_fraction is set=0.7364613377857425, colsample_bytree=1.0 will be ignored. Current value: feature_fraction=0.7364613377857425\n",
      "[LightGBM] [Warning] min_gain_to_split is set=8.915273773262573e-06, min_split_gain=0.0 will be ignored. Current value: min_gain_to_split=8.915273773262573e-06\n",
      "[LightGBM] [Warning] lambda_l1 is set=7.023109964209483e-07, reg_alpha=0.0 will be ignored. Current value: lambda_l1=7.023109964209483e-07\n",
      "[LightGBM] [Warning] min_sum_hessian_in_leaf is set=0.0006241746407671965, min_child_weight=0.001 will be ignored. Current value: min_sum_hessian_in_leaf=0.0006241746407671965\n",
      "[LightGBM] [Warning] bagging_fraction is set=0.5629712713271648, subsample=1.0 will be ignored. Current value: bagging_fraction=0.5629712713271648\n",
      "[LightGBM] [Warning] lambda_l2 is set=1.4981749049254008e-06, reg_lambda=0.0 will be ignored. Current value: lambda_l2=1.4981749049254008e-06\n",
      "[LightGBM] [Warning] bagging_freq is set=13, subsample_freq=0 will be ignored. Current value: bagging_freq=13\n",
      "[LightGBM] [Warning] num_iterations is set=274, num_boost_round=274 will be ignored. Current value: num_iterations=274\n",
      "[LightGBM] [Warning] feature_fraction is set=0.7364613377857425, colsample_bytree=1.0 will be ignored. Current value: feature_fraction=0.7364613377857425\n",
      "[LightGBM] [Warning] min_gain_to_split is set=8.915273773262573e-06, min_split_gain=0.0 will be ignored. Current value: min_gain_to_split=8.915273773262573e-06\n",
      "[LightGBM] [Warning] lambda_l1 is set=7.023109964209483e-07, reg_alpha=0.0 will be ignored. Current value: lambda_l1=7.023109964209483e-07\n",
      "[LightGBM] [Warning] min_sum_hessian_in_leaf is set=0.0006241746407671965, min_child_weight=0.001 will be ignored. Current value: min_sum_hessian_in_leaf=0.0006241746407671965\n",
      "[LightGBM] [Warning] bagging_fraction is set=0.5629712713271648, subsample=1.0 will be ignored. Current value: bagging_fraction=0.5629712713271648\n",
      "[LightGBM] [Warning] lambda_l2 is set=1.4981749049254008e-06, reg_lambda=0.0 will be ignored. Current value: lambda_l2=1.4981749049254008e-06\n",
      "[LightGBM] [Warning] bagging_freq is set=13, subsample_freq=0 will be ignored. Current value: bagging_freq=13\n",
      "[LightGBM] [Warning] num_iterations is set=274, num_boost_round=274 will be ignored. Current value: num_iterations=274\n",
      "[LightGBM] [Warning] feature_fraction is set=0.7364613377857425, colsample_bytree=1.0 will be ignored. Current value: feature_fraction=0.7364613377857425\n",
      "[LightGBM] [Warning] min_gain_to_split is set=8.915273773262573e-06, min_split_gain=0.0 will be ignored. Current value: min_gain_to_split=8.915273773262573e-06\n",
      "[LightGBM] [Warning] lambda_l1 is set=7.023109964209483e-07, reg_alpha=0.0 will be ignored. Current value: lambda_l1=7.023109964209483e-07\n",
      "[LightGBM] [Warning] min_sum_hessian_in_leaf is set=0.0006241746407671965, min_child_weight=0.001 will be ignored. Current value: min_sum_hessian_in_leaf=0.0006241746407671965\n",
      "[LightGBM] [Warning] bagging_fraction is set=0.5629712713271648, subsample=1.0 will be ignored. Current value: bagging_fraction=0.5629712713271648\n",
      "[LightGBM] [Warning] lambda_l2 is set=1.4981749049254008e-06, reg_lambda=0.0 will be ignored. Current value: lambda_l2=1.4981749049254008e-06\n",
      "[LightGBM] [Warning] bagging_freq is set=13, subsample_freq=0 will be ignored. Current value: bagging_freq=13\n",
      "[LightGBM] [Warning] num_iterations is set=274, num_boost_round=274 will be ignored. Current value: num_iterations=274\n",
      "[LightGBM] [Warning] feature_fraction is set=0.7364613377857425, colsample_bytree=1.0 will be ignored. Current value: feature_fraction=0.7364613377857425\n",
      "[LightGBM] [Warning] min_gain_to_split is set=8.915273773262573e-06, min_split_gain=0.0 will be ignored. Current value: min_gain_to_split=8.915273773262573e-06\n",
      "[LightGBM] [Warning] lambda_l1 is set=7.023109964209483e-07, reg_alpha=0.0 will be ignored. Current value: lambda_l1=7.023109964209483e-07\n",
      "[LightGBM] [Warning] min_sum_hessian_in_leaf is set=0.0006241746407671965, min_child_weight=0.001 will be ignored. Current value: min_sum_hessian_in_leaf=0.0006241746407671965\n",
      "[LightGBM] [Warning] bagging_fraction is set=0.5629712713271648, subsample=1.0 will be ignored. Current value: bagging_fraction=0.5629712713271648\n",
      "[LightGBM] [Warning] lambda_l2 is set=1.4981749049254008e-06, reg_lambda=0.0 will be ignored. Current value: lambda_l2=1.4981749049254008e-06\n",
      "[LightGBM] [Warning] bagging_freq is set=13, subsample_freq=0 will be ignored. Current value: bagging_freq=13\n",
      "[LightGBM] [Warning] num_iterations is set=274, num_boost_round=274 will be ignored. Current value: num_iterations=274\n",
      "[LightGBM] [Warning] feature_fraction is set=0.7364613377857425, colsample_bytree=1.0 will be ignored. Current value: feature_fraction=0.7364613377857425\n",
      "[LightGBM] [Warning] min_gain_to_split is set=8.915273773262573e-06, min_split_gain=0.0 will be ignored. Current value: min_gain_to_split=8.915273773262573e-06\n",
      "[LightGBM] [Warning] lambda_l1 is set=7.023109964209483e-07, reg_alpha=0.0 will be ignored. Current value: lambda_l1=7.023109964209483e-07\n",
      "[LightGBM] [Warning] min_sum_hessian_in_leaf is set=0.0006241746407671965, min_child_weight=0.001 will be ignored. Current value: min_sum_hessian_in_leaf=0.0006241746407671965\n",
      "[LightGBM] [Warning] bagging_fraction is set=0.5629712713271648, subsample=1.0 will be ignored. Current value: bagging_fraction=0.5629712713271648\n",
      "[LightGBM] [Warning] lambda_l2 is set=1.4981749049254008e-06, reg_lambda=0.0 will be ignored. Current value: lambda_l2=1.4981749049254008e-06\n",
      "[LightGBM] [Warning] bagging_freq is set=13, subsample_freq=0 will be ignored. Current value: bagging_freq=13\n",
      "[LightGBM] [Warning] num_iterations is set=274, num_boost_round=274 will be ignored. Current value: num_iterations=274\n",
      "[LightGBM] [Warning] feature_fraction is set=0.7364613377857425, colsample_bytree=1.0 will be ignored. Current value: feature_fraction=0.7364613377857425\n",
      "[LightGBM] [Warning] min_gain_to_split is set=8.915273773262573e-06, min_split_gain=0.0 will be ignored. Current value: min_gain_to_split=8.915273773262573e-06\n",
      "[LightGBM] [Warning] lambda_l1 is set=7.023109964209483e-07, reg_alpha=0.0 will be ignored. Current value: lambda_l1=7.023109964209483e-07\n",
      "[LightGBM] [Warning] min_sum_hessian_in_leaf is set=0.0006241746407671965, min_child_weight=0.001 will be ignored. Current value: min_sum_hessian_in_leaf=0.0006241746407671965\n",
      "[LightGBM] [Warning] bagging_fraction is set=0.5629712713271648, subsample=1.0 will be ignored. Current value: bagging_fraction=0.5629712713271648\n",
      "[LightGBM] [Warning] lambda_l2 is set=1.4981749049254008e-06, reg_lambda=0.0 will be ignored. Current value: lambda_l2=1.4981749049254008e-06\n",
      "[LightGBM] [Warning] bagging_freq is set=13, subsample_freq=0 will be ignored. Current value: bagging_freq=13\n",
      "[LightGBM] [Warning] num_iterations is set=274, num_boost_round=274 will be ignored. Current value: num_iterations=274\n",
      "[LightGBM] [Warning] feature_fraction is set=0.7364613377857425, colsample_bytree=1.0 will be ignored. Current value: feature_fraction=0.7364613377857425\n",
      "[LightGBM] [Warning] min_gain_to_split is set=8.915273773262573e-06, min_split_gain=0.0 will be ignored. Current value: min_gain_to_split=8.915273773262573e-06\n",
      "[LightGBM] [Warning] lambda_l1 is set=7.023109964209483e-07, reg_alpha=0.0 will be ignored. Current value: lambda_l1=7.023109964209483e-07\n",
      "[LightGBM] [Warning] min_sum_hessian_in_leaf is set=0.0006241746407671965, min_child_weight=0.001 will be ignored. Current value: min_sum_hessian_in_leaf=0.0006241746407671965\n",
      "[LightGBM] [Warning] bagging_fraction is set=0.5629712713271648, subsample=1.0 will be ignored. Current value: bagging_fraction=0.5629712713271648\n",
      "[LightGBM] [Warning] lambda_l2 is set=1.4981749049254008e-06, reg_lambda=0.0 will be ignored. Current value: lambda_l2=1.4981749049254008e-06\n",
      "[LightGBM] [Warning] bagging_freq is set=13, subsample_freq=0 will be ignored. Current value: bagging_freq=13\n",
      "[LightGBM] [Warning] num_iterations is set=274, num_boost_round=274 will be ignored. Current value: num_iterations=274\n"
     ]
    },
    {
     "name": "stderr",
     "output_type": "stream",
     "text": [
      "\u001b[32m[I 2021-05-07 12:51:21,135]\u001b[0m Trial 106 finished with value: 0.9555046372616032 and parameters: {'boosting_type': 'dart', 'lambda_l1': 7.023109964209483e-07, 'lambda_l2': 1.4981749049254008e-06, 'num_leaves': 312, 'max_depth': 39, 'feature_fraction': 0.7364613377857425, 'feature_fraction_bynode': 0.7058457890157069, 'min_child_samples': 7, 'linear_tree': False, 'max_bin': 476, 'extra_trees': False, 'path_smooth': 0.49103948407616294, 'learning_rate': 2.5507300751471178e-11, 'min_gain_to_split': 8.915273773262573e-06, 'min_sum_hessian_in_leaf': 0.0006241746407671965, 'num_boost_round': 274, 'bagging_fraction': 0.5629712713271648, 'bagging_freq': 13, 'drop_rate': 0.08154617440836566, 'max_drop': 181, 'skip_drop': 0.2809764678896793, 'xgboost_dart_mode': True, 'uniform_drop': False, 'bootstrap': False, 'bootstrap_features': False, 'max_samples': 0.4843900000837969, 'max_features': 0.8922193655117059}. Best is trial 46 with value: 0.9561926386307191.\u001b[0m\n"
     ]
    },
    {
     "name": "stdout",
     "output_type": "stream",
     "text": [
      "[LightGBM] [Warning] feature_fraction is set=0.7426443733945727, colsample_bytree=1.0 will be ignored. Current value: feature_fraction=0.7426443733945727\n",
      "[LightGBM] [Warning] min_gain_to_split is set=1.9788078522087852e-07, min_split_gain=0.0 will be ignored. Current value: min_gain_to_split=1.9788078522087852e-07\n",
      "[LightGBM] [Warning] lambda_l1 is set=3.3472027147554746e-09, reg_alpha=0.0 will be ignored. Current value: lambda_l1=3.3472027147554746e-09\n",
      "[LightGBM] [Warning] min_sum_hessian_in_leaf is set=0.0013205564891015425, min_child_weight=0.001 will be ignored. Current value: min_sum_hessian_in_leaf=0.0013205564891015425\n",
      "[LightGBM] [Warning] bagging_fraction is set=0.5637914603567465, subsample=1.0 will be ignored. Current value: bagging_fraction=0.5637914603567465\n",
      "[LightGBM] [Warning] lambda_l2 is set=1.6190598844791202e-06, reg_lambda=0.0 will be ignored. Current value: lambda_l2=1.6190598844791202e-06\n",
      "[LightGBM] [Warning] bagging_freq is set=9, subsample_freq=0 will be ignored. Current value: bagging_freq=9\n",
      "[LightGBM] [Warning] num_iterations is set=269, num_boost_round=269 will be ignored. Current value: num_iterations=269\n"
     ]
    },
    {
     "ename": "KeyboardInterrupt",
     "evalue": "",
     "output_type": "error",
     "traceback": [
      "\u001b[1;31m---------------------------------------------------------------------------\u001b[0m",
      "\u001b[1;31mKeyboardInterrupt\u001b[0m                         Traceback (most recent call last)",
      "\u001b[1;32m<ipython-input-498-1a4d0168dfd3>\u001b[0m in \u001b[0;36m<module>\u001b[1;34m\u001b[0m\n\u001b[1;32m----> 1\u001b[1;33m \u001b[0mstudy\u001b[0m\u001b[1;33m.\u001b[0m\u001b[0moptimize\u001b[0m\u001b[1;33m(\u001b[0m\u001b[0mobjective\u001b[0m\u001b[1;33m,\u001b[0m \u001b[0mn_trials\u001b[0m\u001b[1;33m=\u001b[0m\u001b[1;36m2000\u001b[0m\u001b[1;33m)\u001b[0m\u001b[1;33m\u001b[0m\u001b[1;33m\u001b[0m\u001b[0m\n\u001b[0m",
      "\u001b[1;32mc:\\users\\roel\\.virtualenvs\\diagcovid-ckc2berq\\lib\\site-packages\\optuna\\study.py\u001b[0m in \u001b[0;36moptimize\u001b[1;34m(self, func, n_trials, timeout, n_jobs, catch, callbacks, gc_after_trial, show_progress_bar)\u001b[0m\n\u001b[0;32m    407\u001b[0m             \u001b[0mcallbacks\u001b[0m\u001b[1;33m=\u001b[0m\u001b[0mcallbacks\u001b[0m\u001b[1;33m,\u001b[0m\u001b[1;33m\u001b[0m\u001b[1;33m\u001b[0m\u001b[0m\n\u001b[0;32m    408\u001b[0m             \u001b[0mgc_after_trial\u001b[0m\u001b[1;33m=\u001b[0m\u001b[0mgc_after_trial\u001b[0m\u001b[1;33m,\u001b[0m\u001b[1;33m\u001b[0m\u001b[1;33m\u001b[0m\u001b[0m\n\u001b[1;32m--> 409\u001b[1;33m             \u001b[0mshow_progress_bar\u001b[0m\u001b[1;33m=\u001b[0m\u001b[0mshow_progress_bar\u001b[0m\u001b[1;33m,\u001b[0m\u001b[1;33m\u001b[0m\u001b[1;33m\u001b[0m\u001b[0m\n\u001b[0m\u001b[0;32m    410\u001b[0m         )\n\u001b[0;32m    411\u001b[0m \u001b[1;33m\u001b[0m\u001b[0m\n",
      "\u001b[1;32mc:\\users\\roel\\.virtualenvs\\diagcovid-ckc2berq\\lib\\site-packages\\optuna\\_optimize.py\u001b[0m in \u001b[0;36m_optimize\u001b[1;34m(study, func, n_trials, timeout, n_jobs, catch, callbacks, gc_after_trial, show_progress_bar)\u001b[0m\n\u001b[0;32m     74\u001b[0m                 \u001b[0mreseed_sampler_rng\u001b[0m\u001b[1;33m=\u001b[0m\u001b[1;32mFalse\u001b[0m\u001b[1;33m,\u001b[0m\u001b[1;33m\u001b[0m\u001b[1;33m\u001b[0m\u001b[0m\n\u001b[0;32m     75\u001b[0m                 \u001b[0mtime_start\u001b[0m\u001b[1;33m=\u001b[0m\u001b[1;32mNone\u001b[0m\u001b[1;33m,\u001b[0m\u001b[1;33m\u001b[0m\u001b[1;33m\u001b[0m\u001b[0m\n\u001b[1;32m---> 76\u001b[1;33m                 \u001b[0mprogress_bar\u001b[0m\u001b[1;33m=\u001b[0m\u001b[0mprogress_bar\u001b[0m\u001b[1;33m,\u001b[0m\u001b[1;33m\u001b[0m\u001b[1;33m\u001b[0m\u001b[0m\n\u001b[0m\u001b[0;32m     77\u001b[0m             )\n\u001b[0;32m     78\u001b[0m         \u001b[1;32melse\u001b[0m\u001b[1;33m:\u001b[0m\u001b[1;33m\u001b[0m\u001b[1;33m\u001b[0m\u001b[0m\n",
      "\u001b[1;32mc:\\users\\roel\\.virtualenvs\\diagcovid-ckc2berq\\lib\\site-packages\\optuna\\_optimize.py\u001b[0m in \u001b[0;36m_optimize_sequential\u001b[1;34m(study, func, n_trials, timeout, catch, callbacks, gc_after_trial, reseed_sampler_rng, time_start, progress_bar)\u001b[0m\n\u001b[0;32m    161\u001b[0m \u001b[1;33m\u001b[0m\u001b[0m\n\u001b[0;32m    162\u001b[0m         \u001b[1;32mtry\u001b[0m\u001b[1;33m:\u001b[0m\u001b[1;33m\u001b[0m\u001b[1;33m\u001b[0m\u001b[0m\n\u001b[1;32m--> 163\u001b[1;33m             \u001b[0mtrial\u001b[0m \u001b[1;33m=\u001b[0m \u001b[0m_run_trial\u001b[0m\u001b[1;33m(\u001b[0m\u001b[0mstudy\u001b[0m\u001b[1;33m,\u001b[0m \u001b[0mfunc\u001b[0m\u001b[1;33m,\u001b[0m \u001b[0mcatch\u001b[0m\u001b[1;33m)\u001b[0m\u001b[1;33m\u001b[0m\u001b[1;33m\u001b[0m\u001b[0m\n\u001b[0m\u001b[0;32m    164\u001b[0m         \u001b[1;32mexcept\u001b[0m \u001b[0mException\u001b[0m\u001b[1;33m:\u001b[0m\u001b[1;33m\u001b[0m\u001b[1;33m\u001b[0m\u001b[0m\n\u001b[0;32m    165\u001b[0m             \u001b[1;32mraise\u001b[0m\u001b[1;33m\u001b[0m\u001b[1;33m\u001b[0m\u001b[0m\n",
      "\u001b[1;32mc:\\users\\roel\\.virtualenvs\\diagcovid-ckc2berq\\lib\\site-packages\\optuna\\_optimize.py\u001b[0m in \u001b[0;36m_run_trial\u001b[1;34m(study, func, catch)\u001b[0m\n\u001b[0;32m    215\u001b[0m \u001b[1;33m\u001b[0m\u001b[0m\n\u001b[0;32m    216\u001b[0m     \u001b[1;32mtry\u001b[0m\u001b[1;33m:\u001b[0m\u001b[1;33m\u001b[0m\u001b[1;33m\u001b[0m\u001b[0m\n\u001b[1;32m--> 217\u001b[1;33m         \u001b[0mvalue_or_values\u001b[0m \u001b[1;33m=\u001b[0m \u001b[0mfunc\u001b[0m\u001b[1;33m(\u001b[0m\u001b[0mtrial\u001b[0m\u001b[1;33m)\u001b[0m\u001b[1;33m\u001b[0m\u001b[1;33m\u001b[0m\u001b[0m\n\u001b[0m\u001b[0;32m    218\u001b[0m     \u001b[1;32mexcept\u001b[0m \u001b[0mexceptions\u001b[0m\u001b[1;33m.\u001b[0m\u001b[0mTrialPruned\u001b[0m \u001b[1;32mas\u001b[0m \u001b[0me\u001b[0m\u001b[1;33m:\u001b[0m\u001b[1;33m\u001b[0m\u001b[1;33m\u001b[0m\u001b[0m\n\u001b[0;32m    219\u001b[0m         \u001b[1;31m# TODO(mamu): Handle multi-objective cases.\u001b[0m\u001b[1;33m\u001b[0m\u001b[1;33m\u001b[0m\u001b[1;33m\u001b[0m\u001b[0m\n",
      "\u001b[1;32m<ipython-input-497-fdb6ceb6b3ef>\u001b[0m in \u001b[0;36mobjective\u001b[1;34m(trial)\u001b[0m\n\u001b[0;32m     58\u001b[0m     \u001b[1;32mwith\u001b[0m \u001b[0mwarnings\u001b[0m\u001b[1;33m.\u001b[0m\u001b[0mcatch_warnings\u001b[0m\u001b[1;33m(\u001b[0m\u001b[1;33m)\u001b[0m\u001b[1;33m:\u001b[0m\u001b[1;33m\u001b[0m\u001b[1;33m\u001b[0m\u001b[0m\n\u001b[0;32m     59\u001b[0m         \u001b[0mwarnings\u001b[0m\u001b[1;33m.\u001b[0m\u001b[0mfilterwarnings\u001b[0m\u001b[1;33m(\u001b[0m\u001b[1;34m'ignore'\u001b[0m\u001b[1;33m)\u001b[0m\u001b[1;33m\u001b[0m\u001b[1;33m\u001b[0m\u001b[0m\n\u001b[1;32m---> 60\u001b[1;33m         \u001b[1;32mreturn\u001b[0m \u001b[0mcross_val_score\u001b[0m\u001b[1;33m(\u001b[0m\u001b[0mclf\u001b[0m\u001b[1;33m,\u001b[0m \u001b[0mimputer\u001b[0m\u001b[1;33m.\u001b[0m\u001b[0mtransform\u001b[0m\u001b[1;33m(\u001b[0m\u001b[0mX_train\u001b[0m\u001b[1;33m)\u001b[0m\u001b[1;33m,\u001b[0m \u001b[0my_train\u001b[0m\u001b[1;33m,\u001b[0m \u001b[0mcv\u001b[0m\u001b[1;33m=\u001b[0m\u001b[0mRepeatedStratifiedKFold\u001b[0m\u001b[1;33m(\u001b[0m\u001b[0mn_repeats\u001b[0m\u001b[1;33m=\u001b[0m\u001b[1;36m5\u001b[0m\u001b[1;33m)\u001b[0m\u001b[1;33m,\u001b[0m \u001b[0mscoring\u001b[0m\u001b[1;33m=\u001b[0m\u001b[1;34m'roc_auc'\u001b[0m\u001b[1;33m)\u001b[0m\u001b[1;33m.\u001b[0m\u001b[0mmean\u001b[0m\u001b[1;33m(\u001b[0m\u001b[1;33m)\u001b[0m\u001b[1;33m\u001b[0m\u001b[1;33m\u001b[0m\u001b[0m\n\u001b[0m\u001b[0;32m     61\u001b[0m \u001b[1;31m#     aucs = []\u001b[0m\u001b[1;33m\u001b[0m\u001b[1;33m\u001b[0m\u001b[1;33m\u001b[0m\u001b[0m\n\u001b[0;32m     62\u001b[0m \u001b[1;31m#     for i in range(5):\u001b[0m\u001b[1;33m\u001b[0m\u001b[1;33m\u001b[0m\u001b[1;33m\u001b[0m\u001b[0m\n",
      "\u001b[1;32mc:\\users\\roel\\.virtualenvs\\diagcovid-ckc2berq\\lib\\site-packages\\sklearn\\utils\\validation.py\u001b[0m in \u001b[0;36minner_f\u001b[1;34m(*args, **kwargs)\u001b[0m\n\u001b[0;32m     61\u001b[0m             \u001b[0mextra_args\u001b[0m \u001b[1;33m=\u001b[0m \u001b[0mlen\u001b[0m\u001b[1;33m(\u001b[0m\u001b[0margs\u001b[0m\u001b[1;33m)\u001b[0m \u001b[1;33m-\u001b[0m \u001b[0mlen\u001b[0m\u001b[1;33m(\u001b[0m\u001b[0mall_args\u001b[0m\u001b[1;33m)\u001b[0m\u001b[1;33m\u001b[0m\u001b[1;33m\u001b[0m\u001b[0m\n\u001b[0;32m     62\u001b[0m             \u001b[1;32mif\u001b[0m \u001b[0mextra_args\u001b[0m \u001b[1;33m<=\u001b[0m \u001b[1;36m0\u001b[0m\u001b[1;33m:\u001b[0m\u001b[1;33m\u001b[0m\u001b[1;33m\u001b[0m\u001b[0m\n\u001b[1;32m---> 63\u001b[1;33m                 \u001b[1;32mreturn\u001b[0m \u001b[0mf\u001b[0m\u001b[1;33m(\u001b[0m\u001b[1;33m*\u001b[0m\u001b[0margs\u001b[0m\u001b[1;33m,\u001b[0m \u001b[1;33m**\u001b[0m\u001b[0mkwargs\u001b[0m\u001b[1;33m)\u001b[0m\u001b[1;33m\u001b[0m\u001b[1;33m\u001b[0m\u001b[0m\n\u001b[0m\u001b[0;32m     64\u001b[0m \u001b[1;33m\u001b[0m\u001b[0m\n\u001b[0;32m     65\u001b[0m             \u001b[1;31m# extra_args > 0\u001b[0m\u001b[1;33m\u001b[0m\u001b[1;33m\u001b[0m\u001b[1;33m\u001b[0m\u001b[0m\n",
      "\u001b[1;32mc:\\users\\roel\\.virtualenvs\\diagcovid-ckc2berq\\lib\\site-packages\\sklearn\\model_selection\\_validation.py\u001b[0m in \u001b[0;36mcross_val_score\u001b[1;34m(estimator, X, y, groups, scoring, cv, n_jobs, verbose, fit_params, pre_dispatch, error_score)\u001b[0m\n\u001b[0;32m    443\u001b[0m                                 \u001b[0mfit_params\u001b[0m\u001b[1;33m=\u001b[0m\u001b[0mfit_params\u001b[0m\u001b[1;33m,\u001b[0m\u001b[1;33m\u001b[0m\u001b[1;33m\u001b[0m\u001b[0m\n\u001b[0;32m    444\u001b[0m                                 \u001b[0mpre_dispatch\u001b[0m\u001b[1;33m=\u001b[0m\u001b[0mpre_dispatch\u001b[0m\u001b[1;33m,\u001b[0m\u001b[1;33m\u001b[0m\u001b[1;33m\u001b[0m\u001b[0m\n\u001b[1;32m--> 445\u001b[1;33m                                 error_score=error_score)\n\u001b[0m\u001b[0;32m    446\u001b[0m     \u001b[1;32mreturn\u001b[0m \u001b[0mcv_results\u001b[0m\u001b[1;33m[\u001b[0m\u001b[1;34m'test_score'\u001b[0m\u001b[1;33m]\u001b[0m\u001b[1;33m\u001b[0m\u001b[1;33m\u001b[0m\u001b[0m\n\u001b[0;32m    447\u001b[0m \u001b[1;33m\u001b[0m\u001b[0m\n",
      "\u001b[1;32mc:\\users\\roel\\.virtualenvs\\diagcovid-ckc2berq\\lib\\site-packages\\sklearn\\utils\\validation.py\u001b[0m in \u001b[0;36minner_f\u001b[1;34m(*args, **kwargs)\u001b[0m\n\u001b[0;32m     61\u001b[0m             \u001b[0mextra_args\u001b[0m \u001b[1;33m=\u001b[0m \u001b[0mlen\u001b[0m\u001b[1;33m(\u001b[0m\u001b[0margs\u001b[0m\u001b[1;33m)\u001b[0m \u001b[1;33m-\u001b[0m \u001b[0mlen\u001b[0m\u001b[1;33m(\u001b[0m\u001b[0mall_args\u001b[0m\u001b[1;33m)\u001b[0m\u001b[1;33m\u001b[0m\u001b[1;33m\u001b[0m\u001b[0m\n\u001b[0;32m     62\u001b[0m             \u001b[1;32mif\u001b[0m \u001b[0mextra_args\u001b[0m \u001b[1;33m<=\u001b[0m \u001b[1;36m0\u001b[0m\u001b[1;33m:\u001b[0m\u001b[1;33m\u001b[0m\u001b[1;33m\u001b[0m\u001b[0m\n\u001b[1;32m---> 63\u001b[1;33m                 \u001b[1;32mreturn\u001b[0m \u001b[0mf\u001b[0m\u001b[1;33m(\u001b[0m\u001b[1;33m*\u001b[0m\u001b[0margs\u001b[0m\u001b[1;33m,\u001b[0m \u001b[1;33m**\u001b[0m\u001b[0mkwargs\u001b[0m\u001b[1;33m)\u001b[0m\u001b[1;33m\u001b[0m\u001b[1;33m\u001b[0m\u001b[0m\n\u001b[0m\u001b[0;32m     64\u001b[0m \u001b[1;33m\u001b[0m\u001b[0m\n\u001b[0;32m     65\u001b[0m             \u001b[1;31m# extra_args > 0\u001b[0m\u001b[1;33m\u001b[0m\u001b[1;33m\u001b[0m\u001b[1;33m\u001b[0m\u001b[0m\n",
      "\u001b[1;32mc:\\users\\roel\\.virtualenvs\\diagcovid-ckc2berq\\lib\\site-packages\\sklearn\\model_selection\\_validation.py\u001b[0m in \u001b[0;36mcross_validate\u001b[1;34m(estimator, X, y, groups, scoring, cv, n_jobs, verbose, fit_params, pre_dispatch, return_train_score, return_estimator, error_score)\u001b[0m\n\u001b[0;32m    250\u001b[0m             \u001b[0mreturn_times\u001b[0m\u001b[1;33m=\u001b[0m\u001b[1;32mTrue\u001b[0m\u001b[1;33m,\u001b[0m \u001b[0mreturn_estimator\u001b[0m\u001b[1;33m=\u001b[0m\u001b[0mreturn_estimator\u001b[0m\u001b[1;33m,\u001b[0m\u001b[1;33m\u001b[0m\u001b[1;33m\u001b[0m\u001b[0m\n\u001b[0;32m    251\u001b[0m             error_score=error_score)\n\u001b[1;32m--> 252\u001b[1;33m         for train, test in cv.split(X, y, groups))\n\u001b[0m\u001b[0;32m    253\u001b[0m \u001b[1;33m\u001b[0m\u001b[0m\n\u001b[0;32m    254\u001b[0m     \u001b[1;31m# For callabe scoring, the return type is only know after calling. If the\u001b[0m\u001b[1;33m\u001b[0m\u001b[1;33m\u001b[0m\u001b[1;33m\u001b[0m\u001b[0m\n",
      "\u001b[1;32mc:\\users\\roel\\.virtualenvs\\diagcovid-ckc2berq\\lib\\site-packages\\joblib\\parallel.py\u001b[0m in \u001b[0;36m__call__\u001b[1;34m(self, iterable)\u001b[0m\n\u001b[0;32m   1039\u001b[0m             \u001b[1;31m# remaining jobs.\u001b[0m\u001b[1;33m\u001b[0m\u001b[1;33m\u001b[0m\u001b[1;33m\u001b[0m\u001b[0m\n\u001b[0;32m   1040\u001b[0m             \u001b[0mself\u001b[0m\u001b[1;33m.\u001b[0m\u001b[0m_iterating\u001b[0m \u001b[1;33m=\u001b[0m \u001b[1;32mFalse\u001b[0m\u001b[1;33m\u001b[0m\u001b[1;33m\u001b[0m\u001b[0m\n\u001b[1;32m-> 1041\u001b[1;33m             \u001b[1;32mif\u001b[0m \u001b[0mself\u001b[0m\u001b[1;33m.\u001b[0m\u001b[0mdispatch_one_batch\u001b[0m\u001b[1;33m(\u001b[0m\u001b[0miterator\u001b[0m\u001b[1;33m)\u001b[0m\u001b[1;33m:\u001b[0m\u001b[1;33m\u001b[0m\u001b[1;33m\u001b[0m\u001b[0m\n\u001b[0m\u001b[0;32m   1042\u001b[0m                 \u001b[0mself\u001b[0m\u001b[1;33m.\u001b[0m\u001b[0m_iterating\u001b[0m \u001b[1;33m=\u001b[0m \u001b[0mself\u001b[0m\u001b[1;33m.\u001b[0m\u001b[0m_original_iterator\u001b[0m \u001b[1;32mis\u001b[0m \u001b[1;32mnot\u001b[0m \u001b[1;32mNone\u001b[0m\u001b[1;33m\u001b[0m\u001b[1;33m\u001b[0m\u001b[0m\n\u001b[0;32m   1043\u001b[0m \u001b[1;33m\u001b[0m\u001b[0m\n",
      "\u001b[1;32mc:\\users\\roel\\.virtualenvs\\diagcovid-ckc2berq\\lib\\site-packages\\joblib\\parallel.py\u001b[0m in \u001b[0;36mdispatch_one_batch\u001b[1;34m(self, iterator)\u001b[0m\n\u001b[0;32m    857\u001b[0m                 \u001b[1;32mreturn\u001b[0m \u001b[1;32mFalse\u001b[0m\u001b[1;33m\u001b[0m\u001b[1;33m\u001b[0m\u001b[0m\n\u001b[0;32m    858\u001b[0m             \u001b[1;32melse\u001b[0m\u001b[1;33m:\u001b[0m\u001b[1;33m\u001b[0m\u001b[1;33m\u001b[0m\u001b[0m\n\u001b[1;32m--> 859\u001b[1;33m                 \u001b[0mself\u001b[0m\u001b[1;33m.\u001b[0m\u001b[0m_dispatch\u001b[0m\u001b[1;33m(\u001b[0m\u001b[0mtasks\u001b[0m\u001b[1;33m)\u001b[0m\u001b[1;33m\u001b[0m\u001b[1;33m\u001b[0m\u001b[0m\n\u001b[0m\u001b[0;32m    860\u001b[0m                 \u001b[1;32mreturn\u001b[0m \u001b[1;32mTrue\u001b[0m\u001b[1;33m\u001b[0m\u001b[1;33m\u001b[0m\u001b[0m\n\u001b[0;32m    861\u001b[0m \u001b[1;33m\u001b[0m\u001b[0m\n",
      "\u001b[1;32mc:\\users\\roel\\.virtualenvs\\diagcovid-ckc2berq\\lib\\site-packages\\joblib\\parallel.py\u001b[0m in \u001b[0;36m_dispatch\u001b[1;34m(self, batch)\u001b[0m\n\u001b[0;32m    775\u001b[0m         \u001b[1;32mwith\u001b[0m \u001b[0mself\u001b[0m\u001b[1;33m.\u001b[0m\u001b[0m_lock\u001b[0m\u001b[1;33m:\u001b[0m\u001b[1;33m\u001b[0m\u001b[1;33m\u001b[0m\u001b[0m\n\u001b[0;32m    776\u001b[0m             \u001b[0mjob_idx\u001b[0m \u001b[1;33m=\u001b[0m \u001b[0mlen\u001b[0m\u001b[1;33m(\u001b[0m\u001b[0mself\u001b[0m\u001b[1;33m.\u001b[0m\u001b[0m_jobs\u001b[0m\u001b[1;33m)\u001b[0m\u001b[1;33m\u001b[0m\u001b[1;33m\u001b[0m\u001b[0m\n\u001b[1;32m--> 777\u001b[1;33m             \u001b[0mjob\u001b[0m \u001b[1;33m=\u001b[0m \u001b[0mself\u001b[0m\u001b[1;33m.\u001b[0m\u001b[0m_backend\u001b[0m\u001b[1;33m.\u001b[0m\u001b[0mapply_async\u001b[0m\u001b[1;33m(\u001b[0m\u001b[0mbatch\u001b[0m\u001b[1;33m,\u001b[0m \u001b[0mcallback\u001b[0m\u001b[1;33m=\u001b[0m\u001b[0mcb\u001b[0m\u001b[1;33m)\u001b[0m\u001b[1;33m\u001b[0m\u001b[1;33m\u001b[0m\u001b[0m\n\u001b[0m\u001b[0;32m    778\u001b[0m             \u001b[1;31m# A job can complete so quickly than its callback is\u001b[0m\u001b[1;33m\u001b[0m\u001b[1;33m\u001b[0m\u001b[1;33m\u001b[0m\u001b[0m\n\u001b[0;32m    779\u001b[0m             \u001b[1;31m# called before we get here, causing self._jobs to\u001b[0m\u001b[1;33m\u001b[0m\u001b[1;33m\u001b[0m\u001b[1;33m\u001b[0m\u001b[0m\n",
      "\u001b[1;32mc:\\users\\roel\\.virtualenvs\\diagcovid-ckc2berq\\lib\\site-packages\\joblib\\_parallel_backends.py\u001b[0m in \u001b[0;36mapply_async\u001b[1;34m(self, func, callback)\u001b[0m\n\u001b[0;32m    206\u001b[0m     \u001b[1;32mdef\u001b[0m \u001b[0mapply_async\u001b[0m\u001b[1;33m(\u001b[0m\u001b[0mself\u001b[0m\u001b[1;33m,\u001b[0m \u001b[0mfunc\u001b[0m\u001b[1;33m,\u001b[0m \u001b[0mcallback\u001b[0m\u001b[1;33m=\u001b[0m\u001b[1;32mNone\u001b[0m\u001b[1;33m)\u001b[0m\u001b[1;33m:\u001b[0m\u001b[1;33m\u001b[0m\u001b[1;33m\u001b[0m\u001b[0m\n\u001b[0;32m    207\u001b[0m         \u001b[1;34m\"\"\"Schedule a func to be run\"\"\"\u001b[0m\u001b[1;33m\u001b[0m\u001b[1;33m\u001b[0m\u001b[0m\n\u001b[1;32m--> 208\u001b[1;33m         \u001b[0mresult\u001b[0m \u001b[1;33m=\u001b[0m \u001b[0mImmediateResult\u001b[0m\u001b[1;33m(\u001b[0m\u001b[0mfunc\u001b[0m\u001b[1;33m)\u001b[0m\u001b[1;33m\u001b[0m\u001b[1;33m\u001b[0m\u001b[0m\n\u001b[0m\u001b[0;32m    209\u001b[0m         \u001b[1;32mif\u001b[0m \u001b[0mcallback\u001b[0m\u001b[1;33m:\u001b[0m\u001b[1;33m\u001b[0m\u001b[1;33m\u001b[0m\u001b[0m\n\u001b[0;32m    210\u001b[0m             \u001b[0mcallback\u001b[0m\u001b[1;33m(\u001b[0m\u001b[0mresult\u001b[0m\u001b[1;33m)\u001b[0m\u001b[1;33m\u001b[0m\u001b[1;33m\u001b[0m\u001b[0m\n",
      "\u001b[1;32mc:\\users\\roel\\.virtualenvs\\diagcovid-ckc2berq\\lib\\site-packages\\joblib\\_parallel_backends.py\u001b[0m in \u001b[0;36m__init__\u001b[1;34m(self, batch)\u001b[0m\n\u001b[0;32m    570\u001b[0m         \u001b[1;31m# Don't delay the application, to avoid keeping the input\u001b[0m\u001b[1;33m\u001b[0m\u001b[1;33m\u001b[0m\u001b[1;33m\u001b[0m\u001b[0m\n\u001b[0;32m    571\u001b[0m         \u001b[1;31m# arguments in memory\u001b[0m\u001b[1;33m\u001b[0m\u001b[1;33m\u001b[0m\u001b[1;33m\u001b[0m\u001b[0m\n\u001b[1;32m--> 572\u001b[1;33m         \u001b[0mself\u001b[0m\u001b[1;33m.\u001b[0m\u001b[0mresults\u001b[0m \u001b[1;33m=\u001b[0m \u001b[0mbatch\u001b[0m\u001b[1;33m(\u001b[0m\u001b[1;33m)\u001b[0m\u001b[1;33m\u001b[0m\u001b[1;33m\u001b[0m\u001b[0m\n\u001b[0m\u001b[0;32m    573\u001b[0m \u001b[1;33m\u001b[0m\u001b[0m\n\u001b[0;32m    574\u001b[0m     \u001b[1;32mdef\u001b[0m \u001b[0mget\u001b[0m\u001b[1;33m(\u001b[0m\u001b[0mself\u001b[0m\u001b[1;33m)\u001b[0m\u001b[1;33m:\u001b[0m\u001b[1;33m\u001b[0m\u001b[1;33m\u001b[0m\u001b[0m\n",
      "\u001b[1;32mc:\\users\\roel\\.virtualenvs\\diagcovid-ckc2berq\\lib\\site-packages\\joblib\\parallel.py\u001b[0m in \u001b[0;36m__call__\u001b[1;34m(self)\u001b[0m\n\u001b[0;32m    261\u001b[0m         \u001b[1;32mwith\u001b[0m \u001b[0mparallel_backend\u001b[0m\u001b[1;33m(\u001b[0m\u001b[0mself\u001b[0m\u001b[1;33m.\u001b[0m\u001b[0m_backend\u001b[0m\u001b[1;33m,\u001b[0m \u001b[0mn_jobs\u001b[0m\u001b[1;33m=\u001b[0m\u001b[0mself\u001b[0m\u001b[1;33m.\u001b[0m\u001b[0m_n_jobs\u001b[0m\u001b[1;33m)\u001b[0m\u001b[1;33m:\u001b[0m\u001b[1;33m\u001b[0m\u001b[1;33m\u001b[0m\u001b[0m\n\u001b[0;32m    262\u001b[0m             return [func(*args, **kwargs)\n\u001b[1;32m--> 263\u001b[1;33m                     for func, args, kwargs in self.items]\n\u001b[0m\u001b[0;32m    264\u001b[0m \u001b[1;33m\u001b[0m\u001b[0m\n\u001b[0;32m    265\u001b[0m     \u001b[1;32mdef\u001b[0m \u001b[0m__reduce__\u001b[0m\u001b[1;33m(\u001b[0m\u001b[0mself\u001b[0m\u001b[1;33m)\u001b[0m\u001b[1;33m:\u001b[0m\u001b[1;33m\u001b[0m\u001b[1;33m\u001b[0m\u001b[0m\n",
      "\u001b[1;32mc:\\users\\roel\\.virtualenvs\\diagcovid-ckc2berq\\lib\\site-packages\\joblib\\parallel.py\u001b[0m in \u001b[0;36m<listcomp>\u001b[1;34m(.0)\u001b[0m\n\u001b[0;32m    261\u001b[0m         \u001b[1;32mwith\u001b[0m \u001b[0mparallel_backend\u001b[0m\u001b[1;33m(\u001b[0m\u001b[0mself\u001b[0m\u001b[1;33m.\u001b[0m\u001b[0m_backend\u001b[0m\u001b[1;33m,\u001b[0m \u001b[0mn_jobs\u001b[0m\u001b[1;33m=\u001b[0m\u001b[0mself\u001b[0m\u001b[1;33m.\u001b[0m\u001b[0m_n_jobs\u001b[0m\u001b[1;33m)\u001b[0m\u001b[1;33m:\u001b[0m\u001b[1;33m\u001b[0m\u001b[1;33m\u001b[0m\u001b[0m\n\u001b[0;32m    262\u001b[0m             return [func(*args, **kwargs)\n\u001b[1;32m--> 263\u001b[1;33m                     for func, args, kwargs in self.items]\n\u001b[0m\u001b[0;32m    264\u001b[0m \u001b[1;33m\u001b[0m\u001b[0m\n\u001b[0;32m    265\u001b[0m     \u001b[1;32mdef\u001b[0m \u001b[0m__reduce__\u001b[0m\u001b[1;33m(\u001b[0m\u001b[0mself\u001b[0m\u001b[1;33m)\u001b[0m\u001b[1;33m:\u001b[0m\u001b[1;33m\u001b[0m\u001b[1;33m\u001b[0m\u001b[0m\n",
      "\u001b[1;32mc:\\users\\roel\\.virtualenvs\\diagcovid-ckc2berq\\lib\\site-packages\\sklearn\\utils\\fixes.py\u001b[0m in \u001b[0;36m__call__\u001b[1;34m(self, *args, **kwargs)\u001b[0m\n\u001b[0;32m    220\u001b[0m     \u001b[1;32mdef\u001b[0m \u001b[0m__call__\u001b[0m\u001b[1;33m(\u001b[0m\u001b[0mself\u001b[0m\u001b[1;33m,\u001b[0m \u001b[1;33m*\u001b[0m\u001b[0margs\u001b[0m\u001b[1;33m,\u001b[0m \u001b[1;33m**\u001b[0m\u001b[0mkwargs\u001b[0m\u001b[1;33m)\u001b[0m\u001b[1;33m:\u001b[0m\u001b[1;33m\u001b[0m\u001b[1;33m\u001b[0m\u001b[0m\n\u001b[0;32m    221\u001b[0m         \u001b[1;32mwith\u001b[0m \u001b[0mconfig_context\u001b[0m\u001b[1;33m(\u001b[0m\u001b[1;33m**\u001b[0m\u001b[0mself\u001b[0m\u001b[1;33m.\u001b[0m\u001b[0mconfig\u001b[0m\u001b[1;33m)\u001b[0m\u001b[1;33m:\u001b[0m\u001b[1;33m\u001b[0m\u001b[1;33m\u001b[0m\u001b[0m\n\u001b[1;32m--> 222\u001b[1;33m             \u001b[1;32mreturn\u001b[0m \u001b[0mself\u001b[0m\u001b[1;33m.\u001b[0m\u001b[0mfunction\u001b[0m\u001b[1;33m(\u001b[0m\u001b[1;33m*\u001b[0m\u001b[0margs\u001b[0m\u001b[1;33m,\u001b[0m \u001b[1;33m**\u001b[0m\u001b[0mkwargs\u001b[0m\u001b[1;33m)\u001b[0m\u001b[1;33m\u001b[0m\u001b[1;33m\u001b[0m\u001b[0m\n\u001b[0m",
      "\u001b[1;32mc:\\users\\roel\\.virtualenvs\\diagcovid-ckc2berq\\lib\\site-packages\\sklearn\\model_selection\\_validation.py\u001b[0m in \u001b[0;36m_fit_and_score\u001b[1;34m(estimator, X, y, scorer, train, test, verbose, parameters, fit_params, return_train_score, return_parameters, return_n_test_samples, return_times, return_estimator, split_progress, candidate_progress, error_score)\u001b[0m\n\u001b[0;32m    591\u001b[0m             \u001b[0mestimator\u001b[0m\u001b[1;33m.\u001b[0m\u001b[0mfit\u001b[0m\u001b[1;33m(\u001b[0m\u001b[0mX_train\u001b[0m\u001b[1;33m,\u001b[0m \u001b[1;33m**\u001b[0m\u001b[0mfit_params\u001b[0m\u001b[1;33m)\u001b[0m\u001b[1;33m\u001b[0m\u001b[1;33m\u001b[0m\u001b[0m\n\u001b[0;32m    592\u001b[0m         \u001b[1;32melse\u001b[0m\u001b[1;33m:\u001b[0m\u001b[1;33m\u001b[0m\u001b[1;33m\u001b[0m\u001b[0m\n\u001b[1;32m--> 593\u001b[1;33m             \u001b[0mestimator\u001b[0m\u001b[1;33m.\u001b[0m\u001b[0mfit\u001b[0m\u001b[1;33m(\u001b[0m\u001b[0mX_train\u001b[0m\u001b[1;33m,\u001b[0m \u001b[0my_train\u001b[0m\u001b[1;33m,\u001b[0m \u001b[1;33m**\u001b[0m\u001b[0mfit_params\u001b[0m\u001b[1;33m)\u001b[0m\u001b[1;33m\u001b[0m\u001b[1;33m\u001b[0m\u001b[0m\n\u001b[0m\u001b[0;32m    594\u001b[0m \u001b[1;33m\u001b[0m\u001b[0m\n\u001b[0;32m    595\u001b[0m     \u001b[1;32mexcept\u001b[0m \u001b[0mException\u001b[0m \u001b[1;32mas\u001b[0m \u001b[0me\u001b[0m\u001b[1;33m:\u001b[0m\u001b[1;33m\u001b[0m\u001b[1;33m\u001b[0m\u001b[0m\n",
      "\u001b[1;32mc:\\users\\roel\\.virtualenvs\\diagcovid-ckc2berq\\lib\\site-packages\\sklearn\\ensemble\\_bagging.py\u001b[0m in \u001b[0;36mfit\u001b[1;34m(self, X, y, sample_weight)\u001b[0m\n\u001b[0;32m    242\u001b[0m         \u001b[0mself\u001b[0m \u001b[1;33m:\u001b[0m \u001b[0mobject\u001b[0m\u001b[1;33m\u001b[0m\u001b[1;33m\u001b[0m\u001b[0m\n\u001b[0;32m    243\u001b[0m         \"\"\"\n\u001b[1;32m--> 244\u001b[1;33m         \u001b[1;32mreturn\u001b[0m \u001b[0mself\u001b[0m\u001b[1;33m.\u001b[0m\u001b[0m_fit\u001b[0m\u001b[1;33m(\u001b[0m\u001b[0mX\u001b[0m\u001b[1;33m,\u001b[0m \u001b[0my\u001b[0m\u001b[1;33m,\u001b[0m \u001b[0mself\u001b[0m\u001b[1;33m.\u001b[0m\u001b[0mmax_samples\u001b[0m\u001b[1;33m,\u001b[0m \u001b[0msample_weight\u001b[0m\u001b[1;33m=\u001b[0m\u001b[0msample_weight\u001b[0m\u001b[1;33m)\u001b[0m\u001b[1;33m\u001b[0m\u001b[1;33m\u001b[0m\u001b[0m\n\u001b[0m\u001b[0;32m    245\u001b[0m \u001b[1;33m\u001b[0m\u001b[0m\n\u001b[0;32m    246\u001b[0m     \u001b[1;32mdef\u001b[0m \u001b[0m_parallel_args\u001b[0m\u001b[1;33m(\u001b[0m\u001b[0mself\u001b[0m\u001b[1;33m)\u001b[0m\u001b[1;33m:\u001b[0m\u001b[1;33m\u001b[0m\u001b[1;33m\u001b[0m\u001b[0m\n",
      "\u001b[1;32mc:\\users\\roel\\.virtualenvs\\diagcovid-ckc2berq\\lib\\site-packages\\sklearn\\ensemble\\_bagging.py\u001b[0m in \u001b[0;36m_fit\u001b[1;34m(self, X, y, max_samples, max_depth, sample_weight)\u001b[0m\n\u001b[0;32m    379\u001b[0m                 \u001b[0mtotal_n_estimators\u001b[0m\u001b[1;33m,\u001b[0m\u001b[1;33m\u001b[0m\u001b[1;33m\u001b[0m\u001b[0m\n\u001b[0;32m    380\u001b[0m                 verbose=self.verbose)\n\u001b[1;32m--> 381\u001b[1;33m             for i in range(n_jobs))\n\u001b[0m\u001b[0;32m    382\u001b[0m \u001b[1;33m\u001b[0m\u001b[0m\n\u001b[0;32m    383\u001b[0m         \u001b[1;31m# Reduce\u001b[0m\u001b[1;33m\u001b[0m\u001b[1;33m\u001b[0m\u001b[1;33m\u001b[0m\u001b[0m\n",
      "\u001b[1;32mc:\\users\\roel\\.virtualenvs\\diagcovid-ckc2berq\\lib\\site-packages\\joblib\\parallel.py\u001b[0m in \u001b[0;36m__call__\u001b[1;34m(self, iterable)\u001b[0m\n\u001b[0;32m   1039\u001b[0m             \u001b[1;31m# remaining jobs.\u001b[0m\u001b[1;33m\u001b[0m\u001b[1;33m\u001b[0m\u001b[1;33m\u001b[0m\u001b[0m\n\u001b[0;32m   1040\u001b[0m             \u001b[0mself\u001b[0m\u001b[1;33m.\u001b[0m\u001b[0m_iterating\u001b[0m \u001b[1;33m=\u001b[0m \u001b[1;32mFalse\u001b[0m\u001b[1;33m\u001b[0m\u001b[1;33m\u001b[0m\u001b[0m\n\u001b[1;32m-> 1041\u001b[1;33m             \u001b[1;32mif\u001b[0m \u001b[0mself\u001b[0m\u001b[1;33m.\u001b[0m\u001b[0mdispatch_one_batch\u001b[0m\u001b[1;33m(\u001b[0m\u001b[0miterator\u001b[0m\u001b[1;33m)\u001b[0m\u001b[1;33m:\u001b[0m\u001b[1;33m\u001b[0m\u001b[1;33m\u001b[0m\u001b[0m\n\u001b[0m\u001b[0;32m   1042\u001b[0m                 \u001b[0mself\u001b[0m\u001b[1;33m.\u001b[0m\u001b[0m_iterating\u001b[0m \u001b[1;33m=\u001b[0m \u001b[0mself\u001b[0m\u001b[1;33m.\u001b[0m\u001b[0m_original_iterator\u001b[0m \u001b[1;32mis\u001b[0m \u001b[1;32mnot\u001b[0m \u001b[1;32mNone\u001b[0m\u001b[1;33m\u001b[0m\u001b[1;33m\u001b[0m\u001b[0m\n\u001b[0;32m   1043\u001b[0m \u001b[1;33m\u001b[0m\u001b[0m\n",
      "\u001b[1;32mc:\\users\\roel\\.virtualenvs\\diagcovid-ckc2berq\\lib\\site-packages\\joblib\\parallel.py\u001b[0m in \u001b[0;36mdispatch_one_batch\u001b[1;34m(self, iterator)\u001b[0m\n\u001b[0;32m    857\u001b[0m                 \u001b[1;32mreturn\u001b[0m \u001b[1;32mFalse\u001b[0m\u001b[1;33m\u001b[0m\u001b[1;33m\u001b[0m\u001b[0m\n\u001b[0;32m    858\u001b[0m             \u001b[1;32melse\u001b[0m\u001b[1;33m:\u001b[0m\u001b[1;33m\u001b[0m\u001b[1;33m\u001b[0m\u001b[0m\n\u001b[1;32m--> 859\u001b[1;33m                 \u001b[0mself\u001b[0m\u001b[1;33m.\u001b[0m\u001b[0m_dispatch\u001b[0m\u001b[1;33m(\u001b[0m\u001b[0mtasks\u001b[0m\u001b[1;33m)\u001b[0m\u001b[1;33m\u001b[0m\u001b[1;33m\u001b[0m\u001b[0m\n\u001b[0m\u001b[0;32m    860\u001b[0m                 \u001b[1;32mreturn\u001b[0m \u001b[1;32mTrue\u001b[0m\u001b[1;33m\u001b[0m\u001b[1;33m\u001b[0m\u001b[0m\n\u001b[0;32m    861\u001b[0m \u001b[1;33m\u001b[0m\u001b[0m\n",
      "\u001b[1;32mc:\\users\\roel\\.virtualenvs\\diagcovid-ckc2berq\\lib\\site-packages\\joblib\\parallel.py\u001b[0m in \u001b[0;36m_dispatch\u001b[1;34m(self, batch)\u001b[0m\n\u001b[0;32m    775\u001b[0m         \u001b[1;32mwith\u001b[0m \u001b[0mself\u001b[0m\u001b[1;33m.\u001b[0m\u001b[0m_lock\u001b[0m\u001b[1;33m:\u001b[0m\u001b[1;33m\u001b[0m\u001b[1;33m\u001b[0m\u001b[0m\n\u001b[0;32m    776\u001b[0m             \u001b[0mjob_idx\u001b[0m \u001b[1;33m=\u001b[0m \u001b[0mlen\u001b[0m\u001b[1;33m(\u001b[0m\u001b[0mself\u001b[0m\u001b[1;33m.\u001b[0m\u001b[0m_jobs\u001b[0m\u001b[1;33m)\u001b[0m\u001b[1;33m\u001b[0m\u001b[1;33m\u001b[0m\u001b[0m\n\u001b[1;32m--> 777\u001b[1;33m             \u001b[0mjob\u001b[0m \u001b[1;33m=\u001b[0m \u001b[0mself\u001b[0m\u001b[1;33m.\u001b[0m\u001b[0m_backend\u001b[0m\u001b[1;33m.\u001b[0m\u001b[0mapply_async\u001b[0m\u001b[1;33m(\u001b[0m\u001b[0mbatch\u001b[0m\u001b[1;33m,\u001b[0m \u001b[0mcallback\u001b[0m\u001b[1;33m=\u001b[0m\u001b[0mcb\u001b[0m\u001b[1;33m)\u001b[0m\u001b[1;33m\u001b[0m\u001b[1;33m\u001b[0m\u001b[0m\n\u001b[0m\u001b[0;32m    778\u001b[0m             \u001b[1;31m# A job can complete so quickly than its callback is\u001b[0m\u001b[1;33m\u001b[0m\u001b[1;33m\u001b[0m\u001b[1;33m\u001b[0m\u001b[0m\n\u001b[0;32m    779\u001b[0m             \u001b[1;31m# called before we get here, causing self._jobs to\u001b[0m\u001b[1;33m\u001b[0m\u001b[1;33m\u001b[0m\u001b[1;33m\u001b[0m\u001b[0m\n",
      "\u001b[1;32mc:\\users\\roel\\.virtualenvs\\diagcovid-ckc2berq\\lib\\site-packages\\joblib\\_parallel_backends.py\u001b[0m in \u001b[0;36mapply_async\u001b[1;34m(self, func, callback)\u001b[0m\n\u001b[0;32m    206\u001b[0m     \u001b[1;32mdef\u001b[0m \u001b[0mapply_async\u001b[0m\u001b[1;33m(\u001b[0m\u001b[0mself\u001b[0m\u001b[1;33m,\u001b[0m \u001b[0mfunc\u001b[0m\u001b[1;33m,\u001b[0m \u001b[0mcallback\u001b[0m\u001b[1;33m=\u001b[0m\u001b[1;32mNone\u001b[0m\u001b[1;33m)\u001b[0m\u001b[1;33m:\u001b[0m\u001b[1;33m\u001b[0m\u001b[1;33m\u001b[0m\u001b[0m\n\u001b[0;32m    207\u001b[0m         \u001b[1;34m\"\"\"Schedule a func to be run\"\"\"\u001b[0m\u001b[1;33m\u001b[0m\u001b[1;33m\u001b[0m\u001b[0m\n\u001b[1;32m--> 208\u001b[1;33m         \u001b[0mresult\u001b[0m \u001b[1;33m=\u001b[0m \u001b[0mImmediateResult\u001b[0m\u001b[1;33m(\u001b[0m\u001b[0mfunc\u001b[0m\u001b[1;33m)\u001b[0m\u001b[1;33m\u001b[0m\u001b[1;33m\u001b[0m\u001b[0m\n\u001b[0m\u001b[0;32m    209\u001b[0m         \u001b[1;32mif\u001b[0m \u001b[0mcallback\u001b[0m\u001b[1;33m:\u001b[0m\u001b[1;33m\u001b[0m\u001b[1;33m\u001b[0m\u001b[0m\n\u001b[0;32m    210\u001b[0m             \u001b[0mcallback\u001b[0m\u001b[1;33m(\u001b[0m\u001b[0mresult\u001b[0m\u001b[1;33m)\u001b[0m\u001b[1;33m\u001b[0m\u001b[1;33m\u001b[0m\u001b[0m\n",
      "\u001b[1;32mc:\\users\\roel\\.virtualenvs\\diagcovid-ckc2berq\\lib\\site-packages\\joblib\\_parallel_backends.py\u001b[0m in \u001b[0;36m__init__\u001b[1;34m(self, batch)\u001b[0m\n\u001b[0;32m    570\u001b[0m         \u001b[1;31m# Don't delay the application, to avoid keeping the input\u001b[0m\u001b[1;33m\u001b[0m\u001b[1;33m\u001b[0m\u001b[1;33m\u001b[0m\u001b[0m\n\u001b[0;32m    571\u001b[0m         \u001b[1;31m# arguments in memory\u001b[0m\u001b[1;33m\u001b[0m\u001b[1;33m\u001b[0m\u001b[1;33m\u001b[0m\u001b[0m\n\u001b[1;32m--> 572\u001b[1;33m         \u001b[0mself\u001b[0m\u001b[1;33m.\u001b[0m\u001b[0mresults\u001b[0m \u001b[1;33m=\u001b[0m \u001b[0mbatch\u001b[0m\u001b[1;33m(\u001b[0m\u001b[1;33m)\u001b[0m\u001b[1;33m\u001b[0m\u001b[1;33m\u001b[0m\u001b[0m\n\u001b[0m\u001b[0;32m    573\u001b[0m \u001b[1;33m\u001b[0m\u001b[0m\n\u001b[0;32m    574\u001b[0m     \u001b[1;32mdef\u001b[0m \u001b[0mget\u001b[0m\u001b[1;33m(\u001b[0m\u001b[0mself\u001b[0m\u001b[1;33m)\u001b[0m\u001b[1;33m:\u001b[0m\u001b[1;33m\u001b[0m\u001b[1;33m\u001b[0m\u001b[0m\n",
      "\u001b[1;32mc:\\users\\roel\\.virtualenvs\\diagcovid-ckc2berq\\lib\\site-packages\\joblib\\parallel.py\u001b[0m in \u001b[0;36m__call__\u001b[1;34m(self)\u001b[0m\n\u001b[0;32m    261\u001b[0m         \u001b[1;32mwith\u001b[0m \u001b[0mparallel_backend\u001b[0m\u001b[1;33m(\u001b[0m\u001b[0mself\u001b[0m\u001b[1;33m.\u001b[0m\u001b[0m_backend\u001b[0m\u001b[1;33m,\u001b[0m \u001b[0mn_jobs\u001b[0m\u001b[1;33m=\u001b[0m\u001b[0mself\u001b[0m\u001b[1;33m.\u001b[0m\u001b[0m_n_jobs\u001b[0m\u001b[1;33m)\u001b[0m\u001b[1;33m:\u001b[0m\u001b[1;33m\u001b[0m\u001b[1;33m\u001b[0m\u001b[0m\n\u001b[0;32m    262\u001b[0m             return [func(*args, **kwargs)\n\u001b[1;32m--> 263\u001b[1;33m                     for func, args, kwargs in self.items]\n\u001b[0m\u001b[0;32m    264\u001b[0m \u001b[1;33m\u001b[0m\u001b[0m\n\u001b[0;32m    265\u001b[0m     \u001b[1;32mdef\u001b[0m \u001b[0m__reduce__\u001b[0m\u001b[1;33m(\u001b[0m\u001b[0mself\u001b[0m\u001b[1;33m)\u001b[0m\u001b[1;33m:\u001b[0m\u001b[1;33m\u001b[0m\u001b[1;33m\u001b[0m\u001b[0m\n",
      "\u001b[1;32mc:\\users\\roel\\.virtualenvs\\diagcovid-ckc2berq\\lib\\site-packages\\joblib\\parallel.py\u001b[0m in \u001b[0;36m<listcomp>\u001b[1;34m(.0)\u001b[0m\n\u001b[0;32m    261\u001b[0m         \u001b[1;32mwith\u001b[0m \u001b[0mparallel_backend\u001b[0m\u001b[1;33m(\u001b[0m\u001b[0mself\u001b[0m\u001b[1;33m.\u001b[0m\u001b[0m_backend\u001b[0m\u001b[1;33m,\u001b[0m \u001b[0mn_jobs\u001b[0m\u001b[1;33m=\u001b[0m\u001b[0mself\u001b[0m\u001b[1;33m.\u001b[0m\u001b[0m_n_jobs\u001b[0m\u001b[1;33m)\u001b[0m\u001b[1;33m:\u001b[0m\u001b[1;33m\u001b[0m\u001b[1;33m\u001b[0m\u001b[0m\n\u001b[0;32m    262\u001b[0m             return [func(*args, **kwargs)\n\u001b[1;32m--> 263\u001b[1;33m                     for func, args, kwargs in self.items]\n\u001b[0m\u001b[0;32m    264\u001b[0m \u001b[1;33m\u001b[0m\u001b[0m\n\u001b[0;32m    265\u001b[0m     \u001b[1;32mdef\u001b[0m \u001b[0m__reduce__\u001b[0m\u001b[1;33m(\u001b[0m\u001b[0mself\u001b[0m\u001b[1;33m)\u001b[0m\u001b[1;33m:\u001b[0m\u001b[1;33m\u001b[0m\u001b[1;33m\u001b[0m\u001b[0m\n",
      "\u001b[1;32mc:\\users\\roel\\.virtualenvs\\diagcovid-ckc2berq\\lib\\site-packages\\sklearn\\utils\\fixes.py\u001b[0m in \u001b[0;36m__call__\u001b[1;34m(self, *args, **kwargs)\u001b[0m\n\u001b[0;32m    220\u001b[0m     \u001b[1;32mdef\u001b[0m \u001b[0m__call__\u001b[0m\u001b[1;33m(\u001b[0m\u001b[0mself\u001b[0m\u001b[1;33m,\u001b[0m \u001b[1;33m*\u001b[0m\u001b[0margs\u001b[0m\u001b[1;33m,\u001b[0m \u001b[1;33m**\u001b[0m\u001b[0mkwargs\u001b[0m\u001b[1;33m)\u001b[0m\u001b[1;33m:\u001b[0m\u001b[1;33m\u001b[0m\u001b[1;33m\u001b[0m\u001b[0m\n\u001b[0;32m    221\u001b[0m         \u001b[1;32mwith\u001b[0m \u001b[0mconfig_context\u001b[0m\u001b[1;33m(\u001b[0m\u001b[1;33m**\u001b[0m\u001b[0mself\u001b[0m\u001b[1;33m.\u001b[0m\u001b[0mconfig\u001b[0m\u001b[1;33m)\u001b[0m\u001b[1;33m:\u001b[0m\u001b[1;33m\u001b[0m\u001b[1;33m\u001b[0m\u001b[0m\n\u001b[1;32m--> 222\u001b[1;33m             \u001b[1;32mreturn\u001b[0m \u001b[0mself\u001b[0m\u001b[1;33m.\u001b[0m\u001b[0mfunction\u001b[0m\u001b[1;33m(\u001b[0m\u001b[1;33m*\u001b[0m\u001b[0margs\u001b[0m\u001b[1;33m,\u001b[0m \u001b[1;33m**\u001b[0m\u001b[0mkwargs\u001b[0m\u001b[1;33m)\u001b[0m\u001b[1;33m\u001b[0m\u001b[1;33m\u001b[0m\u001b[0m\n\u001b[0m",
      "\u001b[1;32mc:\\users\\roel\\.virtualenvs\\diagcovid-ckc2berq\\lib\\site-packages\\sklearn\\ensemble\\_bagging.py\u001b[0m in \u001b[0;36m_parallel_build_estimators\u001b[1;34m(n_estimators, ensemble, X, y, sample_weight, seeds, total_n_estimators, verbose)\u001b[0m\n\u001b[0;32m    109\u001b[0m                 \u001b[0mcurr_sample_weight\u001b[0m\u001b[1;33m[\u001b[0m\u001b[0mnot_indices_mask\u001b[0m\u001b[1;33m]\u001b[0m \u001b[1;33m=\u001b[0m \u001b[1;36m0\u001b[0m\u001b[1;33m\u001b[0m\u001b[1;33m\u001b[0m\u001b[0m\n\u001b[0;32m    110\u001b[0m \u001b[1;33m\u001b[0m\u001b[0m\n\u001b[1;32m--> 111\u001b[1;33m             \u001b[0mestimator\u001b[0m\u001b[1;33m.\u001b[0m\u001b[0mfit\u001b[0m\u001b[1;33m(\u001b[0m\u001b[0mX\u001b[0m\u001b[1;33m[\u001b[0m\u001b[1;33m:\u001b[0m\u001b[1;33m,\u001b[0m \u001b[0mfeatures\u001b[0m\u001b[1;33m]\u001b[0m\u001b[1;33m,\u001b[0m \u001b[0my\u001b[0m\u001b[1;33m,\u001b[0m \u001b[0msample_weight\u001b[0m\u001b[1;33m=\u001b[0m\u001b[0mcurr_sample_weight\u001b[0m\u001b[1;33m)\u001b[0m\u001b[1;33m\u001b[0m\u001b[1;33m\u001b[0m\u001b[0m\n\u001b[0m\u001b[0;32m    112\u001b[0m \u001b[1;33m\u001b[0m\u001b[0m\n\u001b[0;32m    113\u001b[0m         \u001b[1;32melse\u001b[0m\u001b[1;33m:\u001b[0m\u001b[1;33m\u001b[0m\u001b[1;33m\u001b[0m\u001b[0m\n",
      "\u001b[1;32mc:\\users\\roel\\.virtualenvs\\diagcovid-ckc2berq\\lib\\site-packages\\lightgbm\\sklearn.py\u001b[0m in \u001b[0;36mfit\u001b[1;34m(self, X, y, sample_weight, init_score, eval_set, eval_names, eval_sample_weight, eval_class_weight, eval_init_score, eval_metric, early_stopping_rounds, verbose, feature_name, categorical_feature, callbacks, init_model)\u001b[0m\n\u001b[0;32m    893\u001b[0m                     \u001b[0meval_metric\u001b[0m\u001b[1;33m=\u001b[0m\u001b[0meval_metric\u001b[0m\u001b[1;33m,\u001b[0m \u001b[0mearly_stopping_rounds\u001b[0m\u001b[1;33m=\u001b[0m\u001b[0mearly_stopping_rounds\u001b[0m\u001b[1;33m,\u001b[0m\u001b[1;33m\u001b[0m\u001b[1;33m\u001b[0m\u001b[0m\n\u001b[0;32m    894\u001b[0m                     \u001b[0mverbose\u001b[0m\u001b[1;33m=\u001b[0m\u001b[0mverbose\u001b[0m\u001b[1;33m,\u001b[0m \u001b[0mfeature_name\u001b[0m\u001b[1;33m=\u001b[0m\u001b[0mfeature_name\u001b[0m\u001b[1;33m,\u001b[0m \u001b[0mcategorical_feature\u001b[0m\u001b[1;33m=\u001b[0m\u001b[0mcategorical_feature\u001b[0m\u001b[1;33m,\u001b[0m\u001b[1;33m\u001b[0m\u001b[1;33m\u001b[0m\u001b[0m\n\u001b[1;32m--> 895\u001b[1;33m                     callbacks=callbacks, init_model=init_model)\n\u001b[0m\u001b[0;32m    896\u001b[0m         \u001b[1;32mreturn\u001b[0m \u001b[0mself\u001b[0m\u001b[1;33m\u001b[0m\u001b[1;33m\u001b[0m\u001b[0m\n\u001b[0;32m    897\u001b[0m \u001b[1;33m\u001b[0m\u001b[0m\n",
      "\u001b[1;32mc:\\users\\roel\\.virtualenvs\\diagcovid-ckc2berq\\lib\\site-packages\\lightgbm\\sklearn.py\u001b[0m in \u001b[0;36mfit\u001b[1;34m(self, X, y, sample_weight, init_score, group, eval_set, eval_names, eval_sample_weight, eval_class_weight, eval_init_score, eval_group, eval_metric, early_stopping_rounds, verbose, feature_name, categorical_feature, callbacks, init_model)\u001b[0m\n\u001b[0;32m    686\u001b[0m                               \u001b[0mevals_result\u001b[0m\u001b[1;33m=\u001b[0m\u001b[0mevals_result\u001b[0m\u001b[1;33m,\u001b[0m \u001b[0mfobj\u001b[0m\u001b[1;33m=\u001b[0m\u001b[0mself\u001b[0m\u001b[1;33m.\u001b[0m\u001b[0m_fobj\u001b[0m\u001b[1;33m,\u001b[0m \u001b[0mfeval\u001b[0m\u001b[1;33m=\u001b[0m\u001b[0meval_metrics_callable\u001b[0m\u001b[1;33m,\u001b[0m\u001b[1;33m\u001b[0m\u001b[1;33m\u001b[0m\u001b[0m\n\u001b[0;32m    687\u001b[0m                               \u001b[0mverbose_eval\u001b[0m\u001b[1;33m=\u001b[0m\u001b[0mverbose\u001b[0m\u001b[1;33m,\u001b[0m \u001b[0mfeature_name\u001b[0m\u001b[1;33m=\u001b[0m\u001b[0mfeature_name\u001b[0m\u001b[1;33m,\u001b[0m\u001b[1;33m\u001b[0m\u001b[1;33m\u001b[0m\u001b[0m\n\u001b[1;32m--> 688\u001b[1;33m                               callbacks=callbacks, init_model=init_model)\n\u001b[0m\u001b[0;32m    689\u001b[0m \u001b[1;33m\u001b[0m\u001b[0m\n\u001b[0;32m    690\u001b[0m         \u001b[1;32mif\u001b[0m \u001b[0mevals_result\u001b[0m\u001b[1;33m:\u001b[0m\u001b[1;33m\u001b[0m\u001b[1;33m\u001b[0m\u001b[0m\n",
      "\u001b[1;32mc:\\users\\roel\\.virtualenvs\\diagcovid-ckc2berq\\lib\\site-packages\\lightgbm\\engine.py\u001b[0m in \u001b[0;36mtrain\u001b[1;34m(params, train_set, num_boost_round, valid_sets, valid_names, fobj, feval, init_model, feature_name, categorical_feature, early_stopping_rounds, evals_result, verbose_eval, learning_rates, keep_training_booster, callbacks)\u001b[0m\n\u001b[0;32m    247\u001b[0m                                     evaluation_result_list=None))\n\u001b[0;32m    248\u001b[0m \u001b[1;33m\u001b[0m\u001b[0m\n\u001b[1;32m--> 249\u001b[1;33m         \u001b[0mbooster\u001b[0m\u001b[1;33m.\u001b[0m\u001b[0mupdate\u001b[0m\u001b[1;33m(\u001b[0m\u001b[0mfobj\u001b[0m\u001b[1;33m=\u001b[0m\u001b[0mfobj\u001b[0m\u001b[1;33m)\u001b[0m\u001b[1;33m\u001b[0m\u001b[1;33m\u001b[0m\u001b[0m\n\u001b[0m\u001b[0;32m    250\u001b[0m \u001b[1;33m\u001b[0m\u001b[0m\n\u001b[0;32m    251\u001b[0m         \u001b[0mevaluation_result_list\u001b[0m \u001b[1;33m=\u001b[0m \u001b[1;33m[\u001b[0m\u001b[1;33m]\u001b[0m\u001b[1;33m\u001b[0m\u001b[1;33m\u001b[0m\u001b[0m\n",
      "\u001b[1;32mc:\\users\\roel\\.virtualenvs\\diagcovid-ckc2berq\\lib\\site-packages\\lightgbm\\basic.py\u001b[0m in \u001b[0;36mupdate\u001b[1;34m(self, train_set, fobj)\u001b[0m\n\u001b[0;32m   2643\u001b[0m             _safe_call(_LIB.LGBM_BoosterUpdateOneIter(\n\u001b[0;32m   2644\u001b[0m                 \u001b[0mself\u001b[0m\u001b[1;33m.\u001b[0m\u001b[0mhandle\u001b[0m\u001b[1;33m,\u001b[0m\u001b[1;33m\u001b[0m\u001b[1;33m\u001b[0m\u001b[0m\n\u001b[1;32m-> 2645\u001b[1;33m                 ctypes.byref(is_finished)))\n\u001b[0m\u001b[0;32m   2646\u001b[0m             \u001b[0mself\u001b[0m\u001b[1;33m.\u001b[0m\u001b[0m__is_predicted_cur_iter\u001b[0m \u001b[1;33m=\u001b[0m \u001b[1;33m[\u001b[0m\u001b[1;32mFalse\u001b[0m \u001b[1;32mfor\u001b[0m \u001b[0m_\u001b[0m \u001b[1;32min\u001b[0m \u001b[0mrange\u001b[0m\u001b[1;33m(\u001b[0m\u001b[0mself\u001b[0m\u001b[1;33m.\u001b[0m\u001b[0m__num_dataset\u001b[0m\u001b[1;33m)\u001b[0m\u001b[1;33m]\u001b[0m\u001b[1;33m\u001b[0m\u001b[1;33m\u001b[0m\u001b[0m\n\u001b[0;32m   2647\u001b[0m             \u001b[1;32mreturn\u001b[0m \u001b[0mis_finished\u001b[0m\u001b[1;33m.\u001b[0m\u001b[0mvalue\u001b[0m \u001b[1;33m==\u001b[0m \u001b[1;36m1\u001b[0m\u001b[1;33m\u001b[0m\u001b[1;33m\u001b[0m\u001b[0m\n",
      "\u001b[1;31mKeyboardInterrupt\u001b[0m: "
     ]
    }
   ],
   "source": [
    "study.optimize(objective, n_trials=2000)"
   ]
  },
  {
   "cell_type": "code",
   "execution_count": 499,
   "metadata": {
    "colab": {
     "base_uri": "https://localhost:8080/"
    },
    "id": "iwLdQmex68q0",
    "outputId": "039841cf-dd1e-4720-d8dc-3d52b2f6e7ba"
   },
   "outputs": [
    {
     "data": {
      "text/plain": [
       "{'boosting_type': 'dart',\n",
       " 'lambda_l1': 1.1961812599652771e-05,\n",
       " 'lambda_l2': 1.2587196260919115e-07,\n",
       " 'num_leaves': 192,\n",
       " 'max_depth': 33,\n",
       " 'feature_fraction': 0.752141516229958,\n",
       " 'feature_fraction_bynode': 0.6457482970569157,\n",
       " 'min_child_samples': 28,\n",
       " 'linear_tree': True,\n",
       " 'max_bin': 317,\n",
       " 'extra_trees': False,\n",
       " 'path_smooth': 0.0012206261722791053,\n",
       " 'learning_rate': 2.386327391705984e-05,\n",
       " 'min_gain_to_split': 7.37091913654807e-19,\n",
       " 'min_sum_hessian_in_leaf': 4.4705743138019685,\n",
       " 'num_boost_round': 234,\n",
       " 'bagging_fraction': 0.5464694298890714,\n",
       " 'bagging_freq': 3,\n",
       " 'drop_rate': 0.31615481709441695,\n",
       " 'max_drop': 72,\n",
       " 'skip_drop': 0.7175896406288498,\n",
       " 'xgboost_dart_mode': False,\n",
       " 'uniform_drop': True,\n",
       " 'bootstrap': True,\n",
       " 'bootstrap_features': False,\n",
       " 'max_samples': 0.6128750341368362,\n",
       " 'max_features': 0.8123059068795566}"
      ]
     },
     "execution_count": 499,
     "metadata": {},
     "output_type": "execute_result"
    }
   ],
   "source": [
    "study.best_params"
   ]
  },
  {
   "cell_type": "code",
   "execution_count": 283,
   "metadata": {
    "colab": {
     "base_uri": "https://localhost:8080/"
    },
    "collapsed": true,
    "id": "RC741Y_F65jj",
    "jupyter": {
     "outputs_hidden": true
    },
    "outputId": "5b010874-c272-4afb-d1ab-eab7d5573ec2",
    "tags": []
   },
   "outputs": [
    {
     "name": "stderr",
     "output_type": "stream",
     "text": [
      "c:\\users\\roel\\.virtualenvs\\diagcovid-ckc2berq\\lib\\site-packages\\lightgbm\\engine.py:148: UserWarning: Found `num_boost_round` in params. Will use it instead of argument\n",
      "  _log_warning(\"Found `{}` in params. Will use it instead of argument\".format(alias))\n"
     ]
    },
    {
     "name": "stdout",
     "output_type": "stream",
     "text": [
      "[LightGBM] [Warning] Auto-choosing col-wise multi-threading, the overhead of testing was 0.000405 seconds.\n",
      "You can set `force_col_wise=true` to remove the overhead.\n",
      "[LightGBM] [Info] Total Bins 1389\n",
      "[LightGBM] [Info] Number of data points in the train set: 640, number of used features: 26\n",
      "[LightGBM] [Info] Start training from score 0.596875\n",
      "[LightGBM] [Warning] No further splits with positive gain, best gain: -inf\n",
      "[LightGBM] [Warning] No further splits with positive gain, best gain: -inf\n",
      "[LightGBM] [Warning] No further splits with positive gain, best gain: -inf\n",
      "[LightGBM] [Warning] No further splits with positive gain, best gain: -inf\n",
      "[LightGBM] [Warning] No further splits with positive gain, best gain: -inf\n",
      "[LightGBM] [Warning] No further splits with positive gain, best gain: -inf\n",
      "[LightGBM] [Warning] No further splits with positive gain, best gain: -inf\n",
      "[LightGBM] [Warning] No further splits with positive gain, best gain: -inf\n",
      "[LightGBM] [Warning] No further splits with positive gain, best gain: -inf\n",
      "[LightGBM] [Warning] No further splits with positive gain, best gain: -inf\n",
      "[LightGBM] [Warning] No further splits with positive gain, best gain: -inf\n",
      "[LightGBM] [Warning] No further splits with positive gain, best gain: -inf\n",
      "[LightGBM] [Warning] No further splits with positive gain, best gain: -inf\n",
      "[LightGBM] [Warning] No further splits with positive gain, best gain: -inf\n",
      "[LightGBM] [Warning] No further splits with positive gain, best gain: -inf\n",
      "[LightGBM] [Warning] No further splits with positive gain, best gain: -inf\n",
      "[LightGBM] [Warning] No further splits with positive gain, best gain: -inf\n",
      "[LightGBM] [Warning] No further splits with positive gain, best gain: -inf\n",
      "[LightGBM] [Warning] No further splits with positive gain, best gain: -inf\n",
      "[LightGBM] [Warning] No further splits with positive gain, best gain: -inf\n",
      "[LightGBM] [Warning] No further splits with positive gain, best gain: -inf\n",
      "[LightGBM] [Warning] No further splits with positive gain, best gain: -inf\n",
      "[LightGBM] [Warning] No further splits with positive gain, best gain: -inf\n",
      "[LightGBM] [Warning] No further splits with positive gain, best gain: -inf\n",
      "[LightGBM] [Warning] No further splits with positive gain, best gain: -inf\n",
      "[LightGBM] [Warning] No further splits with positive gain, best gain: -inf\n",
      "[LightGBM] [Warning] No further splits with positive gain, best gain: -inf\n",
      "[LightGBM] [Warning] No further splits with positive gain, best gain: -inf\n",
      "[LightGBM] [Warning] No further splits with positive gain, best gain: -inf\n",
      "[LightGBM] [Warning] No further splits with positive gain, best gain: -inf\n",
      "[LightGBM] [Warning] No further splits with positive gain, best gain: -inf\n",
      "[LightGBM] [Warning] No further splits with positive gain, best gain: -inf\n",
      "[LightGBM] [Warning] No further splits with positive gain, best gain: -inf\n",
      "[LightGBM] [Warning] No further splits with positive gain, best gain: -inf\n",
      "[LightGBM] [Warning] No further splits with positive gain, best gain: -inf\n",
      "[LightGBM] [Warning] No further splits with positive gain, best gain: -inf\n",
      "[LightGBM] [Warning] No further splits with positive gain, best gain: -inf\n",
      "[LightGBM] [Warning] No further splits with positive gain, best gain: -inf\n",
      "[LightGBM] [Warning] No further splits with positive gain, best gain: -inf\n",
      "[LightGBM] [Warning] No further splits with positive gain, best gain: -inf\n",
      "[LightGBM] [Warning] No further splits with positive gain, best gain: -inf\n",
      "[LightGBM] [Warning] No further splits with positive gain, best gain: -inf\n",
      "[LightGBM] [Warning] No further splits with positive gain, best gain: -inf\n",
      "[LightGBM] [Warning] No further splits with positive gain, best gain: -inf\n",
      "[LightGBM] [Warning] No further splits with positive gain, best gain: -inf\n",
      "[LightGBM] [Warning] No further splits with positive gain, best gain: -inf\n",
      "[LightGBM] [Warning] No further splits with positive gain, best gain: -inf\n",
      "[LightGBM] [Warning] No further splits with positive gain, best gain: -inf\n",
      "[LightGBM] [Warning] No further splits with positive gain, best gain: -inf\n",
      "[LightGBM] [Warning] No further splits with positive gain, best gain: -inf\n",
      "[LightGBM] [Warning] No further splits with positive gain, best gain: -inf\n",
      "[LightGBM] [Warning] No further splits with positive gain, best gain: -inf\n",
      "[LightGBM] [Warning] No further splits with positive gain, best gain: -inf\n",
      "[LightGBM] [Warning] No further splits with positive gain, best gain: -inf\n",
      "[LightGBM] [Warning] No further splits with positive gain, best gain: -inf\n",
      "[LightGBM] [Warning] No further splits with positive gain, best gain: -inf\n",
      "[LightGBM] [Warning] No further splits with positive gain, best gain: -inf\n",
      "[LightGBM] [Warning] No further splits with positive gain, best gain: -inf\n",
      "[LightGBM] [Warning] No further splits with positive gain, best gain: -inf\n",
      "[LightGBM] [Warning] No further splits with positive gain, best gain: -inf\n",
      "[LightGBM] [Warning] No further splits with positive gain, best gain: -inf\n",
      "[LightGBM] [Warning] No further splits with positive gain, best gain: -inf\n",
      "[LightGBM] [Warning] No further splits with positive gain, best gain: -inf\n",
      "[LightGBM] [Warning] No further splits with positive gain, best gain: -inf\n",
      "[LightGBM] [Warning] No further splits with positive gain, best gain: -inf\n",
      "[LightGBM] [Warning] No further splits with positive gain, best gain: -inf\n",
      "[LightGBM] [Warning] No further splits with positive gain, best gain: -inf\n",
      "[LightGBM] [Warning] No further splits with positive gain, best gain: -inf\n",
      "[LightGBM] [Warning] No further splits with positive gain, best gain: -inf\n",
      "[LightGBM] [Warning] No further splits with positive gain, best gain: -inf\n",
      "[LightGBM] [Warning] No further splits with positive gain, best gain: -inf\n",
      "[LightGBM] [Warning] No further splits with positive gain, best gain: -inf\n",
      "[LightGBM] [Warning] No further splits with positive gain, best gain: -inf\n",
      "[LightGBM] [Warning] No further splits with positive gain, best gain: -inf\n",
      "[LightGBM] [Warning] No further splits with positive gain, best gain: -inf\n",
      "[LightGBM] [Warning] No further splits with positive gain, best gain: -inf\n",
      "[LightGBM] [Warning] No further splits with positive gain, best gain: -inf\n",
      "[LightGBM] [Warning] No further splits with positive gain, best gain: -inf\n",
      "[LightGBM] [Warning] No further splits with positive gain, best gain: -inf\n",
      "[LightGBM] [Warning] No further splits with positive gain, best gain: -inf\n",
      "[LightGBM] [Warning] No further splits with positive gain, best gain: -inf\n",
      "[LightGBM] [Warning] No further splits with positive gain, best gain: -inf\n",
      "[LightGBM] [Warning] No further splits with positive gain, best gain: -inf\n",
      "[LightGBM] [Warning] No further splits with positive gain, best gain: -inf\n",
      "[LightGBM] [Warning] No further splits with positive gain, best gain: -inf\n",
      "[LightGBM] [Warning] No further splits with positive gain, best gain: -inf\n",
      "[LightGBM] [Warning] No further splits with positive gain, best gain: -inf\n",
      "[LightGBM] [Warning] No further splits with positive gain, best gain: -inf\n",
      "[LightGBM] [Warning] No further splits with positive gain, best gain: -inf\n",
      "[LightGBM] [Warning] No further splits with positive gain, best gain: -inf\n",
      "[LightGBM] [Warning] No further splits with positive gain, best gain: -inf\n",
      "[LightGBM] [Warning] No further splits with positive gain, best gain: -inf\n",
      "[LightGBM] [Warning] No further splits with positive gain, best gain: -inf\n",
      "[LightGBM] [Warning] No further splits with positive gain, best gain: -inf\n",
      "[LightGBM] [Warning] No further splits with positive gain, best gain: -inf\n",
      "[LightGBM] [Warning] No further splits with positive gain, best gain: -inf\n",
      "[LightGBM] [Warning] No further splits with positive gain, best gain: -inf\n",
      "[LightGBM] [Warning] No further splits with positive gain, best gain: -inf\n",
      "[LightGBM] [Warning] No further splits with positive gain, best gain: -inf\n",
      "[LightGBM] [Warning] No further splits with positive gain, best gain: -inf\n",
      "[LightGBM] [Warning] No further splits with positive gain, best gain: -inf\n",
      "[LightGBM] [Warning] No further splits with positive gain, best gain: -inf\n",
      "[LightGBM] [Warning] No further splits with positive gain, best gain: -inf\n",
      "[LightGBM] [Warning] No further splits with positive gain, best gain: -inf\n",
      "[LightGBM] [Warning] No further splits with positive gain, best gain: -inf\n",
      "[LightGBM] [Warning] No further splits with positive gain, best gain: -inf\n",
      "[LightGBM] [Warning] No further splits with positive gain, best gain: -inf\n",
      "[LightGBM] [Warning] No further splits with positive gain, best gain: -inf\n",
      "[LightGBM] [Warning] No further splits with positive gain, best gain: -inf\n",
      "[LightGBM] [Warning] No further splits with positive gain, best gain: -inf\n",
      "[LightGBM] [Warning] No further splits with positive gain, best gain: -inf\n",
      "[LightGBM] [Warning] No further splits with positive gain, best gain: -inf\n",
      "[LightGBM] [Warning] No further splits with positive gain, best gain: -inf\n",
      "[LightGBM] [Warning] No further splits with positive gain, best gain: -inf\n",
      "[LightGBM] [Warning] No further splits with positive gain, best gain: -inf\n",
      "[LightGBM] [Warning] No further splits with positive gain, best gain: -inf\n",
      "[LightGBM] [Warning] No further splits with positive gain, best gain: -inf\n",
      "[LightGBM] [Warning] No further splits with positive gain, best gain: -inf\n",
      "[LightGBM] [Warning] No further splits with positive gain, best gain: -inf\n",
      "[LightGBM] [Warning] No further splits with positive gain, best gain: -inf\n",
      "[LightGBM] [Warning] No further splits with positive gain, best gain: -inf\n",
      "[LightGBM] [Warning] No further splits with positive gain, best gain: -inf\n",
      "[LightGBM] [Warning] No further splits with positive gain, best gain: -inf\n",
      "[LightGBM] [Warning] No further splits with positive gain, best gain: -inf\n",
      "[LightGBM] [Warning] No further splits with positive gain, best gain: -inf\n",
      "[LightGBM] [Warning] No further splits with positive gain, best gain: -inf\n",
      "[LightGBM] [Warning] No further splits with positive gain, best gain: -inf\n",
      "[LightGBM] [Warning] No further splits with positive gain, best gain: -inf\n",
      "[LightGBM] [Warning] No further splits with positive gain, best gain: -inf\n",
      "[LightGBM] [Warning] No further splits with positive gain, best gain: -inf\n",
      "[LightGBM] [Warning] No further splits with positive gain, best gain: -inf\n",
      "[LightGBM] [Warning] No further splits with positive gain, best gain: -inf\n",
      "[LightGBM] [Warning] No further splits with positive gain, best gain: -inf\n",
      "[LightGBM] [Warning] No further splits with positive gain, best gain: -inf\n",
      "[LightGBM] [Warning] No further splits with positive gain, best gain: -inf\n",
      "[LightGBM] [Warning] No further splits with positive gain, best gain: -inf\n",
      "[LightGBM] [Warning] No further splits with positive gain, best gain: -inf\n",
      "[LightGBM] [Warning] No further splits with positive gain, best gain: -inf\n",
      "[LightGBM] [Warning] No further splits with positive gain, best gain: -inf\n",
      "[LightGBM] [Warning] No further splits with positive gain, best gain: -inf\n",
      "[LightGBM] [Warning] No further splits with positive gain, best gain: -inf\n",
      "[LightGBM] [Warning] No further splits with positive gain, best gain: -inf\n",
      "[LightGBM] [Warning] No further splits with positive gain, best gain: -inf\n",
      "[LightGBM] [Warning] No further splits with positive gain, best gain: -inf\n",
      "[LightGBM] [Warning] No further splits with positive gain, best gain: -inf\n",
      "[LightGBM] [Warning] No further splits with positive gain, best gain: -inf\n",
      "[LightGBM] [Warning] No further splits with positive gain, best gain: -inf\n",
      "[LightGBM] [Warning] No further splits with positive gain, best gain: -inf\n",
      "[LightGBM] [Warning] No further splits with positive gain, best gain: -inf\n",
      "[LightGBM] [Warning] No further splits with positive gain, best gain: -inf\n",
      "[LightGBM] [Warning] No further splits with positive gain, best gain: -inf\n",
      "[LightGBM] [Warning] No further splits with positive gain, best gain: -inf\n",
      "[LightGBM] [Warning] No further splits with positive gain, best gain: -inf\n",
      "[LightGBM] [Warning] No further splits with positive gain, best gain: -inf\n",
      "[LightGBM] [Warning] No further splits with positive gain, best gain: -inf\n",
      "[LightGBM] [Warning] No further splits with positive gain, best gain: -inf\n",
      "[LightGBM] [Warning] No further splits with positive gain, best gain: -inf\n",
      "[LightGBM] [Warning] No further splits with positive gain, best gain: -inf\n",
      "[LightGBM] [Warning] No further splits with positive gain, best gain: -inf\n",
      "[LightGBM] [Warning] No further splits with positive gain, best gain: -inf\n",
      "[LightGBM] [Warning] No further splits with positive gain, best gain: -inf\n",
      "[LightGBM] [Warning] No further splits with positive gain, best gain: -inf\n",
      "[LightGBM] [Warning] No further splits with positive gain, best gain: -inf\n",
      "[LightGBM] [Warning] No further splits with positive gain, best gain: -inf\n",
      "[LightGBM] [Warning] No further splits with positive gain, best gain: -inf\n",
      "[LightGBM] [Warning] No further splits with positive gain, best gain: -inf\n",
      "[LightGBM] [Warning] No further splits with positive gain, best gain: -inf\n",
      "[LightGBM] [Warning] No further splits with positive gain, best gain: -inf\n",
      "[LightGBM] [Warning] No further splits with positive gain, best gain: -inf\n",
      "[LightGBM] [Warning] No further splits with positive gain, best gain: -inf\n",
      "[LightGBM] [Warning] No further splits with positive gain, best gain: -inf\n",
      "[LightGBM] [Warning] No further splits with positive gain, best gain: -inf\n"
     ]
    }
   ],
   "source": [
    "train_data = lgb.Dataset(imputer.transform(X_train), label=y_train)\n",
    "bst = lgb.train(study.best_params, train_data)"
   ]
  },
  {
   "cell_type": "code",
   "execution_count": 9,
   "metadata": {},
   "outputs": [
    {
     "data": {
      "text/plain": [
       "0.8957384827393724"
      ]
     },
     "execution_count": 9,
     "metadata": {},
     "output_type": "execute_result"
    }
   ],
   "source": [
    "from sklearn.metrics import roc_auc_score\n",
    "roc_auc_score(y_test, RandomForestClassifier().fit(imputer.fit_transform(X_train), y_train).predict_proba(imputer.transform(X_test))[:, 1])"
   ]
  },
  {
   "cell_type": "code",
   "execution_count": 17,
   "metadata": {},
   "outputs": [
    {
     "name": "stdout",
     "output_type": "stream",
     "text": [
      "[LightGBM] [Warning] feature_fraction is set=0.7825821342453619, colsample_bytree=1.0 will be ignored. Current value: feature_fraction=0.7825821342453619\n",
      "[LightGBM] [Warning] lambda_l1 is set=1.9189596189904522e-07, reg_alpha=0.0 will be ignored. Current value: lambda_l1=1.9189596189904522e-07\n",
      "[LightGBM] [Warning] lambda_l2 is set=0.0006655926990612055, reg_lambda=0.0 will be ignored. Current value: lambda_l2=0.0006655926990612055\n",
      "[LightGBM] [Warning] num_iterations is set=76, num_boost_round=76 will be ignored. Current value: num_iterations=76\n"
     ]
    },
    {
     "name": "stderr",
     "output_type": "stream",
     "text": [
      "c:\\users\\roel\\.virtualenvs\\diagcovid-ckc2berq\\lib\\site-packages\\lightgbm\\engine.py:148: UserWarning: Found `num_boost_round` in params. Will use it instead of argument\n",
      "  _log_warning(\"Found `{}` in params. Will use it instead of argument\".format(alias))\n"
     ]
    },
    {
     "data": {
      "text/plain": [
       "0.919828353132032"
      ]
     },
     "execution_count": 17,
     "metadata": {},
     "output_type": "execute_result"
    }
   ],
   "source": [
    "roc_auc_score(y_test, LGBMClassifier(n_jobs=-1, **params).fit(imputer.fit_transform(X_train), y_train).predict_proba(imputer.transform(X_test))[:, 1])"
   ]
  },
  {
   "cell_type": "code",
   "execution_count": 417,
   "metadata": {},
   "outputs": [
    {
     "data": {
      "text/plain": [
       "{'boosting_type': 'goss',\n",
       " 'lambda_l1': 1.9189596189904522e-07,\n",
       " 'lambda_l2': 0.0006655926990612055,\n",
       " 'num_leaves': 337,\n",
       " 'max_depth': 5,\n",
       " 'feature_fraction': 0.7825821342453619,\n",
       " 'feature_fraction_bynode': 0.6408502521352901,\n",
       " 'min_child_samples': 50,\n",
       " 'linear_tree': True,\n",
       " 'max_bin': 428,\n",
       " 'extra_trees': True,\n",
       " 'num_boost_round': 76}"
      ]
     },
     "execution_count": 417,
     "metadata": {},
     "output_type": "execute_result"
    }
   ],
   "source": [
    "study.best_params"
   ]
  },
  {
   "cell_type": "code",
   "execution_count": 14,
   "metadata": {},
   "outputs": [],
   "source": [
    "params = {'boosting_type': 'goss',\n",
    " 'lambda_l1': 1.9189596189904522e-07,\n",
    " 'lambda_l2': 0.0006655926990612055,\n",
    " 'num_leaves': 337,\n",
    " 'max_depth': 5,\n",
    " 'feature_fraction': 0.7825821342453619,\n",
    " 'feature_fraction_bynode': 0.6408502521352901,\n",
    " 'min_child_samples': 50,\n",
    " 'linear_tree': True,\n",
    " 'max_bin': 428,\n",
    " 'extra_trees': True,\n",
    " 'num_boost_round': 76}"
   ]
  },
  {
   "cell_type": "code",
   "execution_count": 15,
   "metadata": {},
   "outputs": [
    {
     "ename": "NameError",
     "evalue": "name 'bagging_params' is not defined",
     "output_type": "error",
     "traceback": [
      "\u001b[1;31m---------------------------------------------------------------------------\u001b[0m",
      "\u001b[1;31mNameError\u001b[0m                                 Traceback (most recent call last)",
      "\u001b[1;32m<ipython-input-15-5a04a216692a>\u001b[0m in \u001b[0;36m<module>\u001b[1;34m\u001b[0m\n\u001b[1;32m----> 1\u001b[1;33m \u001b[0mbagging_params\u001b[0m\u001b[1;33m\u001b[0m\u001b[1;33m\u001b[0m\u001b[0m\n\u001b[0m",
      "\u001b[1;31mNameError\u001b[0m: name 'bagging_params' is not defined"
     ]
    }
   ],
   "source": [
    "bagging_params"
   ]
  },
  {
   "cell_type": "code",
   "execution_count": 16,
   "metadata": {},
   "outputs": [],
   "source": [
    "lgbm_params = {k: v for k, v in params.items() if k not in ['bootstrap', 'bootstrap_features', 'max_samples', 'max_features']}\n",
    "bagging_params = {k: v for k, v in params.items() if k in ['bootstrap', 'bootstrap_features', 'max_samples', 'max_features']}"
   ]
  },
  {
   "cell_type": "code",
   "execution_count": 18,
   "metadata": {
    "scrolled": true,
    "tags": []
   },
   "outputs": [
    {
     "data": {
      "text/plain": [
       "0.9253580337362849"
      ]
     },
     "execution_count": 18,
     "metadata": {},
     "output_type": "execute_result"
    }
   ],
   "source": [
    "from sklearn.ensemble import VotingClassifier, StackingClassifier\n",
    "from sklearn.tree import DecisionTreeClassifier\n",
    "from sklearn.neural_network import MLPClassifier\n",
    "from sklearn.model_selection import RepeatedStratifiedKFold\n",
    "from dagging import DaggingClassifier\n",
    "from sklearn.ensemble import BaggingClassifier\n",
    "from sklearn.metrics import roc_auc_score\n",
    "# blah1 = LGBMClassifier(n_jobs=-1, **lgbm_params)\n",
    "# blah2 = DaggingClassifier(n_estimators=150)\n",
    "# blah3 = RandomForestClassifier(n_jobs=1, n_estimators=400)\n",
    "# blah4 = BaggingClassifier(LGBMClassifier(n_jobs=-1, **lgbm_params), bootstrap_features=True, n_estimators=4000)\n",
    "# blah = DaggingClassifier(LGBMClassifier(n_jobs=-1), n_estimators=10)\n",
    "blah = BaggingClassifier(LGBMClassifier(n_jobs=-1, boosting_type='goss'), n_estimators=800, bootstrap_features=True)\n",
    "# blah = LGBMClassifier(n_jobs=-1, **study.best_params)\n",
    "\n",
    "# blah = VotingClassifier([('lgbm', blah1), ('dagging', blah2), ('bagging', blah3), ('lgbm_bagging', blah4)], voting='soft')\n",
    "# blah = StackingClassifier([('lgbm', blah1), ('dagging', blah2), ('bagging', blah3)], LGBMClassifier(n_jobs=-1), cv=12)\n",
    "roc_auc_score(y_test, blah.fit(imputer.transform(X_train), y_train).predict_proba(imputer.transform(X_test))[:, 1])"
   ]
  },
  {
   "cell_type": "code",
   "execution_count": 418,
   "metadata": {},
   "outputs": [],
   "source": [
    "import pandas as pd\n",
    "import numpy as np\n",
    "import scipy.stats\n",
    "\n",
    "# AUC comparison adapted from\n",
    "# https://github.com/Netflix/vmaf/\n",
    "def compute_midrank(x):\n",
    "    \"\"\"Computes midranks.\n",
    "    Args:\n",
    "       x - a 1D numpy array\n",
    "    Returns:\n",
    "       array of midranks\n",
    "    \"\"\"\n",
    "    J = np.argsort(x)\n",
    "    Z = x[J]\n",
    "    N = len(x)\n",
    "    T = np.zeros(N, dtype=np.float)\n",
    "    i = 0\n",
    "    while i < N:\n",
    "        j = i\n",
    "        while j < N and Z[j] == Z[i]:\n",
    "            j += 1\n",
    "        T[i:j] = 0.5*(i + j - 1)\n",
    "        i = j\n",
    "    T2 = np.empty(N, dtype=np.float)\n",
    "    # Note(kazeevn) +1 is due to Python using 0-based indexing\n",
    "    # instead of 1-based in the AUC formula in the paper\n",
    "    T2[J] = T + 1\n",
    "    return T2\n",
    "\n",
    "\n",
    "def fastDeLong(predictions_sorted_transposed, label_1_count):\n",
    "    \"\"\"\n",
    "    The fast version of DeLong's method for computing the covariance of\n",
    "    unadjusted AUC.\n",
    "    Args:\n",
    "       predictions_sorted_transposed: a 2D numpy.array[n_classifiers, n_examples]\n",
    "          sorted such as the examples with label \"1\" are first\n",
    "    Returns:\n",
    "       (AUC value, DeLong covariance)\n",
    "    Reference:\n",
    "     @article{sun2014fast,\n",
    "       title={Fast Implementation of DeLong's Algorithm for\n",
    "              Comparing the Areas Under Correlated Receiver Operating Characteristic Curves},\n",
    "       author={Xu Sun and Weichao Xu},\n",
    "       journal={IEEE Signal Processing Letters},\n",
    "       volume={21},\n",
    "       number={11},\n",
    "       pages={1389--1393},\n",
    "       year={2014},\n",
    "       publisher={IEEE}\n",
    "     }\n",
    "    \"\"\"\n",
    "    # Short variables are named as they are in the paper\n",
    "    m = label_1_count\n",
    "    n = predictions_sorted_transposed.shape[1] - m\n",
    "    positive_examples = predictions_sorted_transposed[:, :m]\n",
    "    negative_examples = predictions_sorted_transposed[:, m:]\n",
    "    k = predictions_sorted_transposed.shape[0]\n",
    "\n",
    "    tx = np.empty([k, m], dtype=np.float)\n",
    "    ty = np.empty([k, n], dtype=np.float)\n",
    "    tz = np.empty([k, m + n], dtype=np.float)\n",
    "    for r in range(k):\n",
    "        tx[r, :] = compute_midrank(positive_examples[r, :])\n",
    "        ty[r, :] = compute_midrank(negative_examples[r, :])\n",
    "        tz[r, :] = compute_midrank(predictions_sorted_transposed[r, :])\n",
    "    aucs = tz[:, :m].sum(axis=1) / m / n - float(m + 1.0) / 2.0 / n\n",
    "    v01 = (tz[:, :m] - tx[:, :]) / n\n",
    "    v10 = 1.0 - (tz[:, m:] - ty[:, :]) / m\n",
    "    sx = np.cov(v01)\n",
    "    sy = np.cov(v10)\n",
    "    delongcov = sx / m + sy / n\n",
    "    return aucs, delongcov\n",
    "\n",
    "\n",
    "def calc_pvalue(aucs, sigma):\n",
    "    \"\"\"Computes log(10) of p-values.\n",
    "    Args:\n",
    "       aucs: 1D array of AUCs\n",
    "       sigma: AUC DeLong covariances\n",
    "    Returns:\n",
    "       log10(pvalue)\n",
    "    \"\"\"\n",
    "    l = np.array([[1, -1]])\n",
    "    z = np.abs(np.diff(aucs)) / np.sqrt(np.dot(np.dot(l, sigma), l.T))\n",
    "    return np.log10(2) + scipy.stats.norm.logsf(z, loc=0, scale=1) / np.log(10)\n",
    "\n",
    "\n",
    "def compute_ground_truth_statistics(ground_truth):\n",
    "    assert np.array_equal(np.unique(ground_truth), [0, 1])\n",
    "    order = (-ground_truth).argsort()\n",
    "    label_1_count = int(ground_truth.sum())\n",
    "    return order, label_1_count\n",
    "\n",
    "\n",
    "def delong_roc_variance(ground_truth, predictions):\n",
    "    \"\"\"\n",
    "    Computes ROC AUC variance for a single set of predictions\n",
    "    Args:\n",
    "       ground_truth: np.array of 0 and 1\n",
    "       predictions: np.array of floats of the probability of being class 1\n",
    "    \"\"\"\n",
    "    order, label_1_count = compute_ground_truth_statistics(ground_truth)\n",
    "    predictions_sorted_transposed = predictions[np.newaxis, order]\n",
    "    aucs, delongcov = fastDeLong(predictions_sorted_transposed, label_1_count)\n",
    "    assert len(aucs) == 1, \"There is a bug in the code, please forward this to the developers\"\n",
    "    return aucs[0], delongcov\n",
    "\n",
    "\n",
    "def delong_roc_test(ground_truth, predictions_one, predictions_two):\n",
    "    \"\"\"\n",
    "    Computes log(p-value) for hypothesis that two ROC AUCs are different\n",
    "    Args:\n",
    "       ground_truth: np.array of 0 and 1\n",
    "       predictions_one: predictions of the first model,\n",
    "          np.array of floats of the probability of being class 1\n",
    "       predictions_two: predictions of the second model,\n",
    "          np.array of floats of the probability of being class 1\n",
    "    \"\"\"\n",
    "    order, label_1_count = compute_ground_truth_statistics(ground_truth)\n",
    "    predictions_sorted_transposed = np.vstack((predictions_one, predictions_two))[:, order]\n",
    "    aucs, delongcov = fastDeLong(predictions_sorted_transposed, label_1_count)\n",
    "    return calc_pvalue(aucs, delongcov)"
   ]
  },
  {
   "cell_type": "code",
   "execution_count": 419,
   "metadata": {},
   "outputs": [],
   "source": [
    "blah_probs = blah.predict_proba(imputer.transform(X_test))[:, 1]"
   ]
  },
  {
   "cell_type": "code",
   "execution_count": 441,
   "metadata": {},
   "outputs": [
    {
     "name": "stdout",
     "output_type": "stream",
     "text": [
      "[LightGBM] [Warning] feature_fraction is set=0.7825821342453619, colsample_bytree=1.0 will be ignored. Current value: feature_fraction=0.7825821342453619\n",
      "[LightGBM] [Warning] lambda_l1 is set=1.9189596189904522e-07, reg_alpha=0.0 will be ignored. Current value: lambda_l1=1.9189596189904522e-07\n",
      "[LightGBM] [Warning] lambda_l2 is set=0.0006655926990612055, reg_lambda=0.0 will be ignored. Current value: lambda_l2=0.0006655926990612055\n",
      "[LightGBM] [Warning] num_iterations is set=76, num_boost_round=76 will be ignored. Current value: num_iterations=76\n"
     ]
    },
    {
     "name": "stderr",
     "output_type": "stream",
     "text": [
      "c:\\users\\roel\\.virtualenvs\\diagcovid-ckc2berq\\lib\\site-packages\\lightgbm\\engine.py:148: UserWarning: Found `num_boost_round` in params. Will use it instead of argument\n",
      "  _log_warning(\"Found `{}` in params. Will use it instead of argument\".format(alias))\n"
     ]
    }
   ],
   "source": [
    "rf_probs = LGBMClassifier(n_jobs=-1, **study.best_params).fit((imputer.transform(X_train)), y_train).predict_proba((imputer.transform(X_test)))[:, 1]"
   ]
  },
  {
   "cell_type": "code",
   "execution_count": 467,
   "metadata": {},
   "outputs": [],
   "source": [
    "blah_preds = blah.predict(imputer.transform(X_test))\n",
    "rf_preds = rf.predict(imputer.transform(X_test))"
   ]
  },
  {
   "cell_type": "code",
   "execution_count": 468,
   "metadata": {},
   "outputs": [],
   "source": [
    "# blah_correct = ((blah_probs >= 0.5) == y_test).sum()\n",
    "# blah_incorrect = ((blah_probs >= 0.5) != y_test).sum()\n",
    "\n",
    "# rf_correct = ((blah_probs >= 0.5) == y_test).sum()\n",
    "# blah_incorrect = ((blah_probs >= 0.5) != y_test).sum()\n",
    "\n",
    "ct = np.array([\n",
    "    [(blah_preds == y_test) & (rf_preds == y_test), (blah_preds == y_test) & (rf_preds != y_test)], \n",
    "    [(blah_preds != y_test) & (rf_preds == y_test), (blah_preds != y_test) & (rf_preds != y_test)]\n",
    "])"
   ]
  },
  {
   "cell_type": "code",
   "execution_count": 469,
   "metadata": {},
   "outputs": [
    {
     "data": {
      "text/plain": [
       "array([[375,  26],\n",
       "       [ 12,  75]])"
      ]
     },
     "execution_count": 469,
     "metadata": {},
     "output_type": "execute_result"
    }
   ],
   "source": [
    "ct.sum(axis=2)"
   ]
  },
  {
   "cell_type": "code",
   "execution_count": 463,
   "metadata": {},
   "outputs": [
    {
     "data": {
      "text/plain": [
       "0.058961995241030504"
      ]
     },
     "execution_count": 463,
     "metadata": {},
     "output_type": "execute_result"
    }
   ],
   "source": [
    "from sklearn.metrics import roc_curve\n",
    "def Find_Optimal_Cutoff(target, predicted):\n",
    "    fpr, tpr, threshold = roc_curve(target, predicted)\n",
    "    i = np.arange(len(tpr)) \n",
    "    roc = pd.DataFrame({'tf' : pd.Series(tpr-(1-fpr), index=i), 'threshold' : pd.Series(threshold, index=i)})\n",
    "#     roc_t = roc.ix[(roc.tf-0).abs().argsort()[:1]]\n",
    "    roc.sort_values(by='tf', ascending=False)\n",
    "\n",
    "#     return list(roc_t['threshold']) \n",
    "    return roc.sort_values(by='tf', ascending=False).iloc[0].threshold\n",
    "Find_Optimal_Cutoff(y_test, blah_probs)"
   ]
  },
  {
   "cell_type": "code",
   "execution_count": 474,
   "metadata": {},
   "outputs": [],
   "source": [
    "del test_for_n"
   ]
  },
  {
   "cell_type": "code",
   "execution_count": 473,
   "metadata": {},
   "outputs": [
    {
     "data": {
      "text/plain": [
       "(12.0, 0.03355243967962451)"
      ]
     },
     "execution_count": 473,
     "metadata": {},
     "output_type": "execute_result"
    }
   ],
   "source": [
    "from statsmodels.stats.contingency_tables import mcnemar\n",
    "result = mcnemar(ct.sum(axis=2), exact=True)\n",
    "result.statistic, result.pvalue"
   ]
  },
  {
   "cell_type": "code",
   "execution_count": 443,
   "metadata": {},
   "outputs": [
    {
     "name": "stderr",
     "output_type": "stream",
     "text": [
      "c:\\users\\roel\\.virtualenvs\\diagcovid-ckc2berq\\lib\\site-packages\\ipykernel_launcher.py:61: DeprecationWarning: `np.float` is a deprecated alias for the builtin `float`. To silence this warning, use `float` by itself. Doing this will not modify any behavior and is safe. If you specifically wanted the numpy scalar type, use `np.float64` here.\n",
      "Deprecated in NumPy 1.20; for more details and guidance: https://numpy.org/devdocs/release/1.20.0-notes.html#deprecations\n",
      "c:\\users\\roel\\.virtualenvs\\diagcovid-ckc2berq\\lib\\site-packages\\ipykernel_launcher.py:62: DeprecationWarning: `np.float` is a deprecated alias for the builtin `float`. To silence this warning, use `float` by itself. Doing this will not modify any behavior and is safe. If you specifically wanted the numpy scalar type, use `np.float64` here.\n",
      "Deprecated in NumPy 1.20; for more details and guidance: https://numpy.org/devdocs/release/1.20.0-notes.html#deprecations\n",
      "c:\\users\\roel\\.virtualenvs\\diagcovid-ckc2berq\\lib\\site-packages\\ipykernel_launcher.py:63: DeprecationWarning: `np.float` is a deprecated alias for the builtin `float`. To silence this warning, use `float` by itself. Doing this will not modify any behavior and is safe. If you specifically wanted the numpy scalar type, use `np.float64` here.\n",
      "Deprecated in NumPy 1.20; for more details and guidance: https://numpy.org/devdocs/release/1.20.0-notes.html#deprecations\n",
      "c:\\users\\roel\\.virtualenvs\\diagcovid-ckc2berq\\lib\\site-packages\\ipykernel_launcher.py:17: DeprecationWarning: `np.float` is a deprecated alias for the builtin `float`. To silence this warning, use `float` by itself. Doing this will not modify any behavior and is safe. If you specifically wanted the numpy scalar type, use `np.float64` here.\n",
      "Deprecated in NumPy 1.20; for more details and guidance: https://numpy.org/devdocs/release/1.20.0-notes.html#deprecations\n",
      "c:\\users\\roel\\.virtualenvs\\diagcovid-ckc2berq\\lib\\site-packages\\ipykernel_launcher.py:25: DeprecationWarning: `np.float` is a deprecated alias for the builtin `float`. To silence this warning, use `float` by itself. Doing this will not modify any behavior and is safe. If you specifically wanted the numpy scalar type, use `np.float64` here.\n",
      "Deprecated in NumPy 1.20; for more details and guidance: https://numpy.org/devdocs/release/1.20.0-notes.html#deprecations\n"
     ]
    },
    {
     "data": {
      "text/plain": [
       "array([[0.13300189]])"
      ]
     },
     "execution_count": 443,
     "metadata": {},
     "output_type": "execute_result"
    }
   ],
   "source": [
    "np.exp(delong_roc_test(y_test, blah_probs, rf_probs))"
   ]
  },
  {
   "cell_type": "code",
   "execution_count": 12,
   "metadata": {
    "id": "Cn8Y00Y_z6xe",
    "tags": []
   },
   "outputs": [],
   "source": [
    "import random\n",
    "def random_combination(iterable, r):\n",
    "    \"Random selection from itertools.combinations(iterable, r)\"\n",
    "    pool = tuple(iterable)\n",
    "    n = len(pool)\n",
    "    indices = sorted(random.sample(range(n), r))\n",
    "    return tuple(pool[i] for i in indices)"
   ]
  },
  {
   "cell_type": "code",
   "execution_count": 13,
   "metadata": {
    "id": "wosLDrtb4A9Z"
   },
   "outputs": [],
   "source": [
    "import math"
   ]
  },
  {
   "cell_type": "code",
   "execution_count": 19,
   "metadata": {
    "colab": {
     "base_uri": "https://localhost:8080/"
    },
    "id": "F7-dURcSxTBV",
    "outputId": "6c7cd268-fc35-49ce-b6ec-0e41ad5600a7",
    "tags": []
   },
   "outputs": [
    {
     "name": "stdout",
     "output_type": "stream",
     "text": [
      "1\n",
      "2\n",
      "3\n",
      "4\n",
      "5\n",
      "6\n",
      "7\n",
      "8\n",
      "9\n",
      "10\n",
      "11\n",
      "12\n",
      "13\n",
      "14\n",
      "15\n",
      "16\n",
      "17\n",
      "18\n",
      "19\n",
      "20\n",
      "21\n",
      "22\n",
      "23\n",
      "24\n",
      "25\n",
      "26\n",
      "27\n",
      "28\n"
     ]
    }
   ],
   "source": [
    "from itertools import combinations\n",
    "import numpy as np\n",
    "import math\n",
    "test_for_n = {}\n",
    "for i in range(1, 29):\n",
    "    print(i)\n",
    "    # cols = np.array(list(combinations(X_test.columns, i)))\n",
    "    # np.random.shuffle(cols)\n",
    "    # cols = cols[:1000]\n",
    "    # cols = set()\n",
    "    n_combs = math.factorial(len(X_test.columns)) / (math.factorial(i) * math.factorial(len(X_test.columns)-i))\n",
    "    cols = set()\n",
    "    while len(cols) < min([100, n_combs]):\n",
    "        cols.add(random_combination(X_test.columns, i))\n",
    "    # combs = combinations(X_test.columns, i)\n",
    "    # n_combs = math.factorial(len(X_test.columns)) / (math.factorial(i) * math.factorial(len(X_test.columns)-i))\n",
    "    # prob = \n",
    "    # for comb in combs:\n",
    "    test_for_n[i] = pd.concat([X_test.iloc[0:0]] + [X_test[list(col)] for col in cols], axis=0)"
   ]
  },
  {
   "cell_type": "code",
   "execution_count": 64,
   "metadata": {},
   "outputs": [
    {
     "name": "stdout",
     "output_type": "stream",
     "text": [
      "[IterativeImputer] Completing matrix with shape (640, 28)\n"
     ]
    },
    {
     "ename": "KeyboardInterrupt",
     "evalue": "",
     "output_type": "error",
     "traceback": [
      "\u001b[1;31m---------------------------------------------------------------------------\u001b[0m",
      "\u001b[1;31mKeyboardInterrupt\u001b[0m                         Traceback (most recent call last)",
      "\u001b[1;32m<ipython-input-64-33d0b8d7604f>\u001b[0m in \u001b[0;36m<module>\u001b[1;34m\u001b[0m\n\u001b[0;32m      8\u001b[0m \u001b[1;32mimport\u001b[0m \u001b[0mxgboost\u001b[0m \u001b[1;32mas\u001b[0m \u001b[0mxgb\u001b[0m\u001b[1;33m\u001b[0m\u001b[1;33m\u001b[0m\u001b[0m\n\u001b[0;32m      9\u001b[0m \u001b[0miter_imputer\u001b[0m \u001b[1;33m=\u001b[0m \u001b[0mIterativeImputer\u001b[0m\u001b[1;33m(\u001b[0m \u001b[0msample_posterior\u001b[0m\u001b[1;33m=\u001b[0m\u001b[1;32mTrue\u001b[0m\u001b[1;33m,\u001b[0m \u001b[0mverbose\u001b[0m\u001b[1;33m=\u001b[0m\u001b[1;36m1\u001b[0m\u001b[1;33m,\u001b[0m \u001b[0mmax_iter\u001b[0m\u001b[1;33m=\u001b[0m\u001b[1;36m100\u001b[0m\u001b[1;33m)\u001b[0m\u001b[1;33m\u001b[0m\u001b[1;33m\u001b[0m\u001b[0m\n\u001b[1;32m---> 10\u001b[1;33m \u001b[0miter_imputer\u001b[0m\u001b[1;33m.\u001b[0m\u001b[0mfit\u001b[0m\u001b[1;33m(\u001b[0m\u001b[0mX_train\u001b[0m\u001b[1;33m,\u001b[0m \u001b[0my_train\u001b[0m\u001b[1;33m)\u001b[0m\u001b[1;33m\u001b[0m\u001b[1;33m\u001b[0m\u001b[0m\n\u001b[0m",
      "\u001b[1;32mc:\\users\\roel\\.virtualenvs\\diagcovid-ckc2berq\\lib\\site-packages\\sklearn\\impute\\_iterative.py\u001b[0m in \u001b[0;36mfit\u001b[1;34m(self, X, y)\u001b[0m\n\u001b[0;32m    755\u001b[0m             \u001b[0mReturns\u001b[0m \u001b[0mself\u001b[0m\u001b[1;33m.\u001b[0m\u001b[1;33m\u001b[0m\u001b[1;33m\u001b[0m\u001b[0m\n\u001b[0;32m    756\u001b[0m         \"\"\"\n\u001b[1;32m--> 757\u001b[1;33m         \u001b[0mself\u001b[0m\u001b[1;33m.\u001b[0m\u001b[0mfit_transform\u001b[0m\u001b[1;33m(\u001b[0m\u001b[0mX\u001b[0m\u001b[1;33m)\u001b[0m\u001b[1;33m\u001b[0m\u001b[1;33m\u001b[0m\u001b[0m\n\u001b[0m\u001b[0;32m    758\u001b[0m         \u001b[1;32mreturn\u001b[0m \u001b[0mself\u001b[0m\u001b[1;33m\u001b[0m\u001b[1;33m\u001b[0m\u001b[0m\n",
      "\u001b[1;32mc:\\users\\roel\\.virtualenvs\\diagcovid-ckc2berq\\lib\\site-packages\\sklearn\\impute\\_iterative.py\u001b[0m in \u001b[0;36mfit_transform\u001b[1;34m(self, X, y)\u001b[0m\n\u001b[0;32m    657\u001b[0m                 Xt, estimator = self._impute_one_feature(\n\u001b[0;32m    658\u001b[0m                     \u001b[0mXt\u001b[0m\u001b[1;33m,\u001b[0m \u001b[0mmask_missing_values\u001b[0m\u001b[1;33m,\u001b[0m \u001b[0mfeat_idx\u001b[0m\u001b[1;33m,\u001b[0m \u001b[0mneighbor_feat_idx\u001b[0m\u001b[1;33m,\u001b[0m\u001b[1;33m\u001b[0m\u001b[1;33m\u001b[0m\u001b[0m\n\u001b[1;32m--> 659\u001b[1;33m                     estimator=None, fit_mode=True)\n\u001b[0m\u001b[0;32m    660\u001b[0m                 estimator_triplet = _ImputerTriplet(feat_idx,\n\u001b[0;32m    661\u001b[0m                                                     \u001b[0mneighbor_feat_idx\u001b[0m\u001b[1;33m,\u001b[0m\u001b[1;33m\u001b[0m\u001b[1;33m\u001b[0m\u001b[0m\n",
      "\u001b[1;32mc:\\users\\roel\\.virtualenvs\\diagcovid-ckc2berq\\lib\\site-packages\\sklearn\\impute\\_iterative.py\u001b[0m in \u001b[0;36m_impute_one_feature\u001b[1;34m(self, X_filled, mask_missing_values, feat_idx, neighbor_feat_idx, estimator, fit_mode)\u001b[0m\n\u001b[0;32m    307\u001b[0m             y_train = _safe_indexing(X_filled[:, feat_idx],\n\u001b[0;32m    308\u001b[0m                                      ~missing_row_mask)\n\u001b[1;32m--> 309\u001b[1;33m             \u001b[0mestimator\u001b[0m\u001b[1;33m.\u001b[0m\u001b[0mfit\u001b[0m\u001b[1;33m(\u001b[0m\u001b[0mX_train\u001b[0m\u001b[1;33m,\u001b[0m \u001b[0my_train\u001b[0m\u001b[1;33m)\u001b[0m\u001b[1;33m\u001b[0m\u001b[1;33m\u001b[0m\u001b[0m\n\u001b[0m\u001b[0;32m    310\u001b[0m \u001b[1;33m\u001b[0m\u001b[0m\n\u001b[0;32m    311\u001b[0m         \u001b[1;31m# if no missing values, don't predict\u001b[0m\u001b[1;33m\u001b[0m\u001b[1;33m\u001b[0m\u001b[1;33m\u001b[0m\u001b[0m\n",
      "\u001b[1;32mc:\\users\\roel\\.virtualenvs\\diagcovid-ckc2berq\\lib\\site-packages\\sklearn\\linear_model\\_bayes.py\u001b[0m in \u001b[0;36mfit\u001b[1;34m(self, X, y, sample_weight)\u001b[0m\n\u001b[0;32m    248\u001b[0m             coef_, rmse_ = self._update_coef_(X, y, n_samples, n_features,\n\u001b[0;32m    249\u001b[0m                                               \u001b[0mXT_y\u001b[0m\u001b[1;33m,\u001b[0m \u001b[0mU\u001b[0m\u001b[1;33m,\u001b[0m \u001b[0mVh\u001b[0m\u001b[1;33m,\u001b[0m \u001b[0meigen_vals_\u001b[0m\u001b[1;33m,\u001b[0m\u001b[1;33m\u001b[0m\u001b[1;33m\u001b[0m\u001b[0m\n\u001b[1;32m--> 250\u001b[1;33m                                               alpha_, lambda_)\n\u001b[0m\u001b[0;32m    251\u001b[0m             \u001b[1;32mif\u001b[0m \u001b[0mself\u001b[0m\u001b[1;33m.\u001b[0m\u001b[0mcompute_score\u001b[0m\u001b[1;33m:\u001b[0m\u001b[1;33m\u001b[0m\u001b[1;33m\u001b[0m\u001b[0m\n\u001b[0;32m    252\u001b[0m                 \u001b[1;31m# compute the log marginal likelihood\u001b[0m\u001b[1;33m\u001b[0m\u001b[1;33m\u001b[0m\u001b[1;33m\u001b[0m\u001b[0m\n",
      "\u001b[1;32mc:\\users\\roel\\.virtualenvs\\diagcovid-ckc2berq\\lib\\site-packages\\sklearn\\linear_model\\_bayes.py\u001b[0m in \u001b[0;36m_update_coef_\u001b[1;34m(self, X, y, n_samples, n_features, XT_y, U, Vh, eigen_vals_, alpha_, lambda_)\u001b[0m\n\u001b[0;32m    352\u001b[0m                                          U.T, y])\n\u001b[0;32m    353\u001b[0m \u001b[1;33m\u001b[0m\u001b[0m\n\u001b[1;32m--> 354\u001b[1;33m         \u001b[0mrmse_\u001b[0m \u001b[1;33m=\u001b[0m \u001b[0mnp\u001b[0m\u001b[1;33m.\u001b[0m\u001b[0msum\u001b[0m\u001b[1;33m(\u001b[0m\u001b[1;33m(\u001b[0m\u001b[0my\u001b[0m \u001b[1;33m-\u001b[0m \u001b[0mnp\u001b[0m\u001b[1;33m.\u001b[0m\u001b[0mdot\u001b[0m\u001b[1;33m(\u001b[0m\u001b[0mX\u001b[0m\u001b[1;33m,\u001b[0m \u001b[0mcoef_\u001b[0m\u001b[1;33m)\u001b[0m\u001b[1;33m)\u001b[0m \u001b[1;33m**\u001b[0m \u001b[1;36m2\u001b[0m\u001b[1;33m)\u001b[0m\u001b[1;33m\u001b[0m\u001b[1;33m\u001b[0m\u001b[0m\n\u001b[0m\u001b[0;32m    355\u001b[0m \u001b[1;33m\u001b[0m\u001b[0m\n\u001b[0;32m    356\u001b[0m         \u001b[1;32mreturn\u001b[0m \u001b[0mcoef_\u001b[0m\u001b[1;33m,\u001b[0m \u001b[0mrmse_\u001b[0m\u001b[1;33m\u001b[0m\u001b[1;33m\u001b[0m\u001b[0m\n",
      "\u001b[1;32m<__array_function__ internals>\u001b[0m in \u001b[0;36mdot\u001b[1;34m(*args, **kwargs)\u001b[0m\n",
      "\u001b[1;31mKeyboardInterrupt\u001b[0m: "
     ]
    }
   ],
   "source": [
    "# explicitly requi00re this experimental feature\n",
    "from sklearn.experimental import enable_iterative_imputer  # noqa\n",
    "# now you can import normally from sklearn.impute\n",
    "from sklearn.impute import IterativeImputer\n",
    "from lightgbm.sklearn import LGBMRegressor\n",
    "from sklearn.ensemble import RandomForestRegressor\n",
    "from sklearn.linear_model import BayesianRidge\n",
    "import xgboost as xgb\n",
    "iter_imputer = IterativeImputer( sample_posterior=True, verbose=1, max_iter=100)\n",
    "iter_imputer.fit(X_train, y_train)"
   ]
  },
  {
   "cell_type": "code",
   "execution_count": 96,
   "metadata": {},
   "outputs": [],
   "source": [
    "n_combs = math.factorial(len(X_test.columns)) / (math.factorial(i) * math.factorial(len(X_test.columns)-i))\n",
    "cols = set()\n",
    "while len(cols) < min([10, n_combs]):\n",
    "    cols.add(random_combination(X_test.columns, 4))"
   ]
  },
  {
   "cell_type": "code",
   "execution_count": 98,
   "metadata": {},
   "outputs": [
    {
     "data": {
      "text/html": [
       "<div>\n",
       "<style scoped>\n",
       "    .dataframe tbody tr th:only-of-type {\n",
       "        vertical-align: middle;\n",
       "    }\n",
       "\n",
       "    .dataframe tbody tr th {\n",
       "        vertical-align: top;\n",
       "    }\n",
       "\n",
       "    .dataframe thead th {\n",
       "        text-align: right;\n",
       "    }\n",
       "</style>\n",
       "<table border=\"1\" class=\"dataframe\">\n",
       "  <thead>\n",
       "    <tr style=\"text-align: right;\">\n",
       "      <th></th>\n",
       "      <th>AF</th>\n",
       "      <th>ALAT</th>\n",
       "      <th>ASAT</th>\n",
       "      <th>BILD</th>\n",
       "      <th>BILT</th>\n",
       "      <th>CK</th>\n",
       "      <th>CRP</th>\n",
       "      <th>BASOA</th>\n",
       "      <th>EOSA</th>\n",
       "      <th>LYMFA</th>\n",
       "      <th>...</th>\n",
       "      <th>KR</th>\n",
       "      <th>LD</th>\n",
       "      <th>LEU</th>\n",
       "      <th>MCV</th>\n",
       "      <th>MG</th>\n",
       "      <th>NA</th>\n",
       "      <th>PCAL</th>\n",
       "      <th>TRMB</th>\n",
       "      <th>UR</th>\n",
       "      <th>our_cxr_score</th>\n",
       "    </tr>\n",
       "    <tr>\n",
       "      <th>ID</th>\n",
       "      <th></th>\n",
       "      <th></th>\n",
       "      <th></th>\n",
       "      <th></th>\n",
       "      <th></th>\n",
       "      <th></th>\n",
       "      <th></th>\n",
       "      <th></th>\n",
       "      <th></th>\n",
       "      <th></th>\n",
       "      <th></th>\n",
       "      <th></th>\n",
       "      <th></th>\n",
       "      <th></th>\n",
       "      <th></th>\n",
       "      <th></th>\n",
       "      <th></th>\n",
       "      <th></th>\n",
       "      <th></th>\n",
       "      <th></th>\n",
       "      <th></th>\n",
       "    </tr>\n",
       "  </thead>\n",
       "  <tbody>\n",
       "    <tr>\n",
       "      <th>1</th>\n",
       "      <td>78.0</td>\n",
       "      <td>NaN</td>\n",
       "      <td>NaN</td>\n",
       "      <td>NaN</td>\n",
       "      <td>14.0</td>\n",
       "      <td>NaN</td>\n",
       "      <td>NaN</td>\n",
       "      <td>NaN</td>\n",
       "      <td>NaN</td>\n",
       "      <td>NaN</td>\n",
       "      <td>...</td>\n",
       "      <td>NaN</td>\n",
       "      <td>NaN</td>\n",
       "      <td>NaN</td>\n",
       "      <td>NaN</td>\n",
       "      <td>NaN</td>\n",
       "      <td>NaN</td>\n",
       "      <td>NaN</td>\n",
       "      <td>232.0</td>\n",
       "      <td>NaN</td>\n",
       "      <td>NaN</td>\n",
       "    </tr>\n",
       "    <tr>\n",
       "      <th>2</th>\n",
       "      <td>67.0</td>\n",
       "      <td>NaN</td>\n",
       "      <td>NaN</td>\n",
       "      <td>NaN</td>\n",
       "      <td>8.0</td>\n",
       "      <td>NaN</td>\n",
       "      <td>NaN</td>\n",
       "      <td>NaN</td>\n",
       "      <td>NaN</td>\n",
       "      <td>NaN</td>\n",
       "      <td>...</td>\n",
       "      <td>NaN</td>\n",
       "      <td>NaN</td>\n",
       "      <td>NaN</td>\n",
       "      <td>NaN</td>\n",
       "      <td>NaN</td>\n",
       "      <td>NaN</td>\n",
       "      <td>NaN</td>\n",
       "      <td>274.0</td>\n",
       "      <td>NaN</td>\n",
       "      <td>NaN</td>\n",
       "    </tr>\n",
       "    <tr>\n",
       "      <th>3</th>\n",
       "      <td>65.0</td>\n",
       "      <td>NaN</td>\n",
       "      <td>NaN</td>\n",
       "      <td>NaN</td>\n",
       "      <td>9.0</td>\n",
       "      <td>NaN</td>\n",
       "      <td>NaN</td>\n",
       "      <td>NaN</td>\n",
       "      <td>NaN</td>\n",
       "      <td>NaN</td>\n",
       "      <td>...</td>\n",
       "      <td>NaN</td>\n",
       "      <td>NaN</td>\n",
       "      <td>NaN</td>\n",
       "      <td>NaN</td>\n",
       "      <td>NaN</td>\n",
       "      <td>NaN</td>\n",
       "      <td>NaN</td>\n",
       "      <td>273.0</td>\n",
       "      <td>NaN</td>\n",
       "      <td>NaN</td>\n",
       "    </tr>\n",
       "    <tr>\n",
       "      <th>4</th>\n",
       "      <td>NaN</td>\n",
       "      <td>NaN</td>\n",
       "      <td>NaN</td>\n",
       "      <td>NaN</td>\n",
       "      <td>4.0</td>\n",
       "      <td>NaN</td>\n",
       "      <td>NaN</td>\n",
       "      <td>NaN</td>\n",
       "      <td>NaN</td>\n",
       "      <td>NaN</td>\n",
       "      <td>...</td>\n",
       "      <td>NaN</td>\n",
       "      <td>NaN</td>\n",
       "      <td>NaN</td>\n",
       "      <td>NaN</td>\n",
       "      <td>NaN</td>\n",
       "      <td>NaN</td>\n",
       "      <td>NaN</td>\n",
       "      <td>319.0</td>\n",
       "      <td>NaN</td>\n",
       "      <td>NaN</td>\n",
       "    </tr>\n",
       "    <tr>\n",
       "      <th>5</th>\n",
       "      <td>61.0</td>\n",
       "      <td>NaN</td>\n",
       "      <td>NaN</td>\n",
       "      <td>NaN</td>\n",
       "      <td>10.0</td>\n",
       "      <td>NaN</td>\n",
       "      <td>NaN</td>\n",
       "      <td>NaN</td>\n",
       "      <td>NaN</td>\n",
       "      <td>NaN</td>\n",
       "      <td>...</td>\n",
       "      <td>NaN</td>\n",
       "      <td>NaN</td>\n",
       "      <td>NaN</td>\n",
       "      <td>NaN</td>\n",
       "      <td>NaN</td>\n",
       "      <td>NaN</td>\n",
       "      <td>NaN</td>\n",
       "      <td>311.0</td>\n",
       "      <td>NaN</td>\n",
       "      <td>NaN</td>\n",
       "    </tr>\n",
       "    <tr>\n",
       "      <th>...</th>\n",
       "      <td>...</td>\n",
       "      <td>...</td>\n",
       "      <td>...</td>\n",
       "      <td>...</td>\n",
       "      <td>...</td>\n",
       "      <td>...</td>\n",
       "      <td>...</td>\n",
       "      <td>...</td>\n",
       "      <td>...</td>\n",
       "      <td>...</td>\n",
       "      <td>...</td>\n",
       "      <td>...</td>\n",
       "      <td>...</td>\n",
       "      <td>...</td>\n",
       "      <td>...</td>\n",
       "      <td>...</td>\n",
       "      <td>...</td>\n",
       "      <td>...</td>\n",
       "      <td>...</td>\n",
       "      <td>...</td>\n",
       "      <td>...</td>\n",
       "    </tr>\n",
       "    <tr>\n",
       "      <th>484</th>\n",
       "      <td>NaN</td>\n",
       "      <td>NaN</td>\n",
       "      <td>13.0</td>\n",
       "      <td>NaN</td>\n",
       "      <td>NaN</td>\n",
       "      <td>NaN</td>\n",
       "      <td>NaN</td>\n",
       "      <td>NaN</td>\n",
       "      <td>NaN</td>\n",
       "      <td>NaN</td>\n",
       "      <td>...</td>\n",
       "      <td>NaN</td>\n",
       "      <td>NaN</td>\n",
       "      <td>NaN</td>\n",
       "      <td>NaN</td>\n",
       "      <td>NaN</td>\n",
       "      <td>137.0</td>\n",
       "      <td>NaN</td>\n",
       "      <td>291.0</td>\n",
       "      <td>NaN</td>\n",
       "      <td>NaN</td>\n",
       "    </tr>\n",
       "    <tr>\n",
       "      <th>485</th>\n",
       "      <td>NaN</td>\n",
       "      <td>NaN</td>\n",
       "      <td>19.0</td>\n",
       "      <td>NaN</td>\n",
       "      <td>NaN</td>\n",
       "      <td>NaN</td>\n",
       "      <td>NaN</td>\n",
       "      <td>NaN</td>\n",
       "      <td>NaN</td>\n",
       "      <td>NaN</td>\n",
       "      <td>...</td>\n",
       "      <td>NaN</td>\n",
       "      <td>NaN</td>\n",
       "      <td>NaN</td>\n",
       "      <td>NaN</td>\n",
       "      <td>NaN</td>\n",
       "      <td>134.0</td>\n",
       "      <td>NaN</td>\n",
       "      <td>430.0</td>\n",
       "      <td>NaN</td>\n",
       "      <td>NaN</td>\n",
       "    </tr>\n",
       "    <tr>\n",
       "      <th>486</th>\n",
       "      <td>NaN</td>\n",
       "      <td>NaN</td>\n",
       "      <td>45.0</td>\n",
       "      <td>NaN</td>\n",
       "      <td>NaN</td>\n",
       "      <td>NaN</td>\n",
       "      <td>NaN</td>\n",
       "      <td>NaN</td>\n",
       "      <td>NaN</td>\n",
       "      <td>NaN</td>\n",
       "      <td>...</td>\n",
       "      <td>NaN</td>\n",
       "      <td>NaN</td>\n",
       "      <td>NaN</td>\n",
       "      <td>NaN</td>\n",
       "      <td>NaN</td>\n",
       "      <td>134.0</td>\n",
       "      <td>NaN</td>\n",
       "      <td>238.0</td>\n",
       "      <td>NaN</td>\n",
       "      <td>NaN</td>\n",
       "    </tr>\n",
       "    <tr>\n",
       "      <th>487</th>\n",
       "      <td>NaN</td>\n",
       "      <td>NaN</td>\n",
       "      <td>18.0</td>\n",
       "      <td>NaN</td>\n",
       "      <td>NaN</td>\n",
       "      <td>NaN</td>\n",
       "      <td>NaN</td>\n",
       "      <td>NaN</td>\n",
       "      <td>NaN</td>\n",
       "      <td>NaN</td>\n",
       "      <td>...</td>\n",
       "      <td>NaN</td>\n",
       "      <td>NaN</td>\n",
       "      <td>NaN</td>\n",
       "      <td>NaN</td>\n",
       "      <td>NaN</td>\n",
       "      <td>131.0</td>\n",
       "      <td>NaN</td>\n",
       "      <td>221.0</td>\n",
       "      <td>NaN</td>\n",
       "      <td>NaN</td>\n",
       "    </tr>\n",
       "    <tr>\n",
       "      <th>488</th>\n",
       "      <td>NaN</td>\n",
       "      <td>NaN</td>\n",
       "      <td>15.0</td>\n",
       "      <td>NaN</td>\n",
       "      <td>NaN</td>\n",
       "      <td>NaN</td>\n",
       "      <td>NaN</td>\n",
       "      <td>NaN</td>\n",
       "      <td>NaN</td>\n",
       "      <td>NaN</td>\n",
       "      <td>...</td>\n",
       "      <td>NaN</td>\n",
       "      <td>NaN</td>\n",
       "      <td>NaN</td>\n",
       "      <td>NaN</td>\n",
       "      <td>NaN</td>\n",
       "      <td>141.0</td>\n",
       "      <td>NaN</td>\n",
       "      <td>305.0</td>\n",
       "      <td>NaN</td>\n",
       "      <td>NaN</td>\n",
       "    </tr>\n",
       "  </tbody>\n",
       "</table>\n",
       "<p>4880 rows × 28 columns</p>\n",
       "</div>"
      ],
      "text/plain": [
       "       AF  ALAT  ASAT  BILD  BILT  CK  CRP  BASOA  EOSA  LYMFA  ...  KR  LD  \\\n",
       "ID                                                              ...           \n",
       "1    78.0   NaN   NaN   NaN  14.0 NaN  NaN    NaN   NaN    NaN  ... NaN NaN   \n",
       "2    67.0   NaN   NaN   NaN   8.0 NaN  NaN    NaN   NaN    NaN  ... NaN NaN   \n",
       "3    65.0   NaN   NaN   NaN   9.0 NaN  NaN    NaN   NaN    NaN  ... NaN NaN   \n",
       "4     NaN   NaN   NaN   NaN   4.0 NaN  NaN    NaN   NaN    NaN  ... NaN NaN   \n",
       "5    61.0   NaN   NaN   NaN  10.0 NaN  NaN    NaN   NaN    NaN  ... NaN NaN   \n",
       "..    ...   ...   ...   ...   ...  ..  ...    ...   ...    ...  ...  ..  ..   \n",
       "484   NaN   NaN  13.0   NaN   NaN NaN  NaN    NaN   NaN    NaN  ... NaN NaN   \n",
       "485   NaN   NaN  19.0   NaN   NaN NaN  NaN    NaN   NaN    NaN  ... NaN NaN   \n",
       "486   NaN   NaN  45.0   NaN   NaN NaN  NaN    NaN   NaN    NaN  ... NaN NaN   \n",
       "487   NaN   NaN  18.0   NaN   NaN NaN  NaN    NaN   NaN    NaN  ... NaN NaN   \n",
       "488   NaN   NaN  15.0   NaN   NaN NaN  NaN    NaN   NaN    NaN  ... NaN NaN   \n",
       "\n",
       "     LEU  MCV  MG     NA  PCAL   TRMB  UR  our_cxr_score  \n",
       "ID                                                        \n",
       "1    NaN  NaN NaN    NaN   NaN  232.0 NaN            NaN  \n",
       "2    NaN  NaN NaN    NaN   NaN  274.0 NaN            NaN  \n",
       "3    NaN  NaN NaN    NaN   NaN  273.0 NaN            NaN  \n",
       "4    NaN  NaN NaN    NaN   NaN  319.0 NaN            NaN  \n",
       "5    NaN  NaN NaN    NaN   NaN  311.0 NaN            NaN  \n",
       "..   ...  ...  ..    ...   ...    ...  ..            ...  \n",
       "484  NaN  NaN NaN  137.0   NaN  291.0 NaN            NaN  \n",
       "485  NaN  NaN NaN  134.0   NaN  430.0 NaN            NaN  \n",
       "486  NaN  NaN NaN  134.0   NaN  238.0 NaN            NaN  \n",
       "487  NaN  NaN NaN  131.0   NaN  221.0 NaN            NaN  \n",
       "488  NaN  NaN NaN  141.0   NaN  305.0 NaN            NaN  \n",
       "\n",
       "[4880 rows x 28 columns]"
      ]
     },
     "execution_count": 98,
     "metadata": {},
     "output_type": "execute_result"
    }
   ],
   "source": [
    "pd.concat([X_test.iloc[0:0]] + [X_test[list(col)] for col in cols], axis=0)"
   ]
  },
  {
   "cell_type": "code",
   "execution_count": 69,
   "metadata": {},
   "outputs": [
    {
     "data": {
      "text/plain": [
       "KNNImputer()"
      ]
     },
     "execution_count": 69,
     "metadata": {},
     "output_type": "execute_result"
    }
   ],
   "source": [
    "from sklearn.impute import KNNImputer\n",
    "knn_imputer = KNNImputer()\n",
    "knn_imputer.fit(X_train, y_train)"
   ]
  },
  {
   "cell_type": "code",
   "execution_count": 134,
   "metadata": {},
   "outputs": [
    {
     "name": "stdout",
     "output_type": "stream",
     "text": [
      "Collecting git+https://github.com/chkoar/dagging.git\n",
      "  Cloning https://github.com/chkoar/dagging.git to c:\\users\\roel\\appdata\\local\\temp\\pip-req-build-hr7wj5gm\n",
      "Requirement already satisfied: numpy in c:\\users\\roel\\.virtualenvs\\diagcovid-ckc2berq\\lib\\site-packages (from dagging==0.2.dev0) (1.20.1)\n",
      "Requirement already satisfied: scipy in c:\\users\\roel\\.virtualenvs\\diagcovid-ckc2berq\\lib\\site-packages (from dagging==0.2.dev0) (1.5.3)\n",
      "Requirement already satisfied: scikit-learn in c:\\users\\roel\\.virtualenvs\\diagcovid-ckc2berq\\lib\\site-packages (from dagging==0.2.dev0) (0.24.1)\n",
      "Requirement already satisfied: joblib>=0.11 in c:\\users\\roel\\.virtualenvs\\diagcovid-ckc2berq\\lib\\site-packages (from scikit-learn->dagging==0.2.dev0) (1.0.1)\n",
      "Requirement already satisfied: threadpoolctl>=2.0.0 in c:\\users\\roel\\.virtualenvs\\diagcovid-ckc2berq\\lib\\site-packages (from scikit-learn->dagging==0.2.dev0) (2.1.0)\n",
      "Building wheels for collected packages: dagging\n",
      "  Building wheel for dagging (setup.py): started\n",
      "  Building wheel for dagging (setup.py): finished with status 'done'\n",
      "  Created wheel for dagging: filename=dagging-0.2.dev0-py3-none-any.whl size=7256 sha256=932ee5e3c3224d63d80cc083d3ca09a7df9a966a98cbaa83cec8fad203e3604d\n",
      "  Stored in directory: C:\\Users\\Roel\\AppData\\Local\\Temp\\pip-ephem-wheel-cache-4chkcf2h\\wheels\\a3\\c8\\16\\65283b3ba070edae8012da687e5c8cf86b2828a90f0edb2e9c\n",
      "Successfully built dagging\n",
      "Installing collected packages: dagging\n",
      "  Attempting uninstall: dagging\n",
      "    Found existing installation: dagging 0.2.2\n",
      "    Uninstalling dagging-0.2.2:\n",
      "      Successfully uninstalled dagging-0.2.2\n",
      "Successfully installed dagging-0.2.dev0\n"
     ]
    },
    {
     "name": "stderr",
     "output_type": "stream",
     "text": [
      "  Running command git clone -q https://github.com/chkoar/dagging.git 'C:\\Users\\Roel\\AppData\\Local\\Temp\\pip-req-build-hr7wj5gm'\n",
      "WARNING: You are using pip version 21.0.1; however, version 21.1 is available.\n",
      "You should consider upgrading via the 'c:\\users\\roel\\.virtualenvs\\diagcovid-ckc2berq\\scripts\\python.exe -m pip install --upgrade pip' command.\n"
     ]
    }
   ],
   "source": [
    "!pip install git+https://github.com/chkoar/dagging.git"
   ]
  },
  {
   "cell_type": "code",
   "execution_count": 193,
   "metadata": {},
   "outputs": [
    {
     "data": {
      "text/plain": [
       "DaggingClassifier(base_estimator=BaggingClassifier(base_estimator=KNeighborsClassifier(),\n",
       "                                                   bootstrap_features=True,\n",
       "                                                   n_estimators=400),\n",
       "                  n_estimators=3)"
      ]
     },
     "execution_count": 193,
     "metadata": {},
     "output_type": "execute_result"
    }
   ],
   "source": [
    "from sklearn.neighbors import KNeighborsClassifier\n",
    "knn_clf = DaggingClassifier(BaggingClassifier(KNeighborsClassifier(), 400, bootstrap_features=True), n_estimators=3)\n",
    "knn_clf.fit(imputer.transform(X_train), y_train)"
   ]
  },
  {
   "cell_type": "code",
   "execution_count": 194,
   "metadata": {},
   "outputs": [
    {
     "data": {
      "text/plain": [
       "0.8314145167198703"
      ]
     },
     "execution_count": 194,
     "metadata": {},
     "output_type": "execute_result"
    }
   ],
   "source": [
    "roc_auc_score(y_test, knn_clf.predict_proba(imputer.transform(X_test))[:, 1])"
   ]
  },
  {
   "cell_type": "code",
   "execution_count": 227,
   "metadata": {
    "colab": {
     "base_uri": "https://localhost:8080/"
    },
    "id": "ZqlUUrPBGpA_",
    "outputId": "cc903015-3d3b-44e6-a99c-347273e08e4c"
   },
   "outputs": [],
   "source": [
    "from sklearn.ensemble import BaggingClassifier\n",
    "from lightgbm.sklearn import LGBMClassifier\n",
    "from dagging import DaggingClassifier\n",
    "from sklearn.ensemble import ExtraTreesClassifier\n",
    "# lgbm_bagged = DaggingClassifier(ExtraTreesClassifier(n_estimators=500), n_estimators=5)\n",
    "lgbm_bagged = ExtraTreesClassifier(n_estimators=500)\n",
    "# X_repeated = pd.concat([iter_imputer.transform(X_train) for i in range(4)])"
   ]
  },
  {
   "cell_type": "code",
   "execution_count": 228,
   "metadata": {
    "colab": {
     "base_uri": "https://localhost:8080/"
    },
    "id": "ZqlUUrPBGpA_",
    "outputId": "cc903015-3d3b-44e6-a99c-347273e08e4c"
   },
   "outputs": [
    {
     "data": {
      "text/plain": [
       "ExtraTreesClassifier(n_estimators=500)"
      ]
     },
     "execution_count": 228,
     "metadata": {},
     "output_type": "execute_result"
    }
   ],
   "source": [
    "lgbm_bagged.fit(imputer.transform(X_train), y_train)"
   ]
  },
  {
   "cell_type": "code",
   "execution_count": 115,
   "metadata": {
    "scrolled": true,
    "tags": []
   },
   "outputs": [
    {
     "name": "stderr",
     "output_type": "stream",
     "text": [
      "[flaml.automl: 05-05 19:04:59] {890} INFO - Evaluation method: cv\n",
      "[flaml.automl: 05-05 19:04:59] {596} INFO - Using StratifiedKFold\n",
      "[flaml.automl: 05-05 19:04:59] {911} INFO - Minimizing error metric: 1-roc_auc\n",
      "[flaml.automl: 05-05 19:04:59] {930} INFO - List of ML learners in AutoML Run: ['lgbm', 'rf', 'catboost', 'xgboost', 'extra_tree', 'lrl1']\n",
      "[flaml.automl: 05-05 19:04:59] {994} INFO - iteration 0, current learner lgbm\n",
      "[flaml.automl: 05-05 19:04:59] {1147} INFO -  at 0.1s,\tbest lgbm's error=0.0671,\tbest lgbm's error=0.0671\n",
      "[flaml.automl: 05-05 19:04:59] {994} INFO - iteration 1, current learner lgbm\n",
      "[flaml.automl: 05-05 19:04:59] {1147} INFO -  at 0.2s,\tbest lgbm's error=0.0671,\tbest lgbm's error=0.0671\n",
      "[flaml.automl: 05-05 19:04:59] {994} INFO - iteration 2, current learner lgbm\n",
      "[flaml.automl: 05-05 19:04:59] {1147} INFO -  at 0.2s,\tbest lgbm's error=0.0536,\tbest lgbm's error=0.0536\n",
      "[flaml.automl: 05-05 19:04:59] {994} INFO - iteration 3, current learner xgboost\n",
      "c:\\users\\roel\\.virtualenvs\\diagcovid-ckc2berq\\lib\\site-packages\\xgboost\\sklearn.py:888: UserWarning: The use of label encoder in XGBClassifier is deprecated and will be removed in a future release. To remove this warning, do the following: 1) Pass option use_label_encoder=False when constructing XGBClassifier object; and 2) Encode your labels (y) as integers starting with 0, i.e. 0, 1, 2, ..., [num_class - 1].\n",
      "  warnings.warn(label_encoder_deprecation_msg, UserWarning)\n",
      "c:\\users\\roel\\.virtualenvs\\diagcovid-ckc2berq\\lib\\site-packages\\xgboost\\sklearn.py:888: UserWarning: The use of label encoder in XGBClassifier is deprecated and will be removed in a future release. To remove this warning, do the following: 1) Pass option use_label_encoder=False when constructing XGBClassifier object; and 2) Encode your labels (y) as integers starting with 0, i.e. 0, 1, 2, ..., [num_class - 1].\n",
      "  warnings.warn(label_encoder_deprecation_msg, UserWarning)\n",
      "c:\\users\\roel\\.virtualenvs\\diagcovid-ckc2berq\\lib\\site-packages\\xgboost\\sklearn.py:888: UserWarning: The use of label encoder in XGBClassifier is deprecated and will be removed in a future release. To remove this warning, do the following: 1) Pass option use_label_encoder=False when constructing XGBClassifier object; and 2) Encode your labels (y) as integers starting with 0, i.e. 0, 1, 2, ..., [num_class - 1].\n",
      "  warnings.warn(label_encoder_deprecation_msg, UserWarning)\n",
      "c:\\users\\roel\\.virtualenvs\\diagcovid-ckc2berq\\lib\\site-packages\\xgboost\\sklearn.py:888: UserWarning: The use of label encoder in XGBClassifier is deprecated and will be removed in a future release. To remove this warning, do the following: 1) Pass option use_label_encoder=False when constructing XGBClassifier object; and 2) Encode your labels (y) as integers starting with 0, i.e. 0, 1, 2, ..., [num_class - 1].\n",
      "  warnings.warn(label_encoder_deprecation_msg, UserWarning)\n",
      "c:\\users\\roel\\.virtualenvs\\diagcovid-ckc2berq\\lib\\site-packages\\xgboost\\sklearn.py:888: UserWarning: The use of label encoder in XGBClassifier is deprecated and will be removed in a future release. To remove this warning, do the following: 1) Pass option use_label_encoder=False when constructing XGBClassifier object; and 2) Encode your labels (y) as integers starting with 0, i.e. 0, 1, 2, ..., [num_class - 1].\n",
      "  warnings.warn(label_encoder_deprecation_msg, UserWarning)\n",
      "[flaml.automl: 05-05 19:04:59] {1147} INFO -  at 0.3s,\tbest xgboost's error=0.0744,\tbest lgbm's error=0.0536\n",
      "[flaml.automl: 05-05 19:04:59] {994} INFO - iteration 4, current learner lgbm\n",
      "[flaml.automl: 05-05 19:04:59] {1147} INFO -  at 0.4s,\tbest lgbm's error=0.0536,\tbest lgbm's error=0.0536\n",
      "[flaml.automl: 05-05 19:04:59] {994} INFO - iteration 5, current learner lgbm\n",
      "[flaml.automl: 05-05 19:04:59] {1147} INFO -  at 0.5s,\tbest lgbm's error=0.0536,\tbest lgbm's error=0.0536\n",
      "[flaml.automl: 05-05 19:04:59] {994} INFO - iteration 6, current learner lgbm\n",
      "[flaml.automl: 05-05 19:04:59] {1147} INFO -  at 0.6s,\tbest lgbm's error=0.0517,\tbest lgbm's error=0.0517\n",
      "[flaml.automl: 05-05 19:04:59] {994} INFO - iteration 7, current learner lgbm\n",
      "[flaml.automl: 05-05 19:04:59] {1147} INFO -  at 0.6s,\tbest lgbm's error=0.0517,\tbest lgbm's error=0.0517\n",
      "[flaml.automl: 05-05 19:04:59] {994} INFO - iteration 8, current learner lgbm\n",
      "[flaml.automl: 05-05 19:04:59] {1147} INFO -  at 0.7s,\tbest lgbm's error=0.0517,\tbest lgbm's error=0.0517\n",
      "[flaml.automl: 05-05 19:04:59] {994} INFO - iteration 9, current learner xgboost\n",
      "c:\\users\\roel\\.virtualenvs\\diagcovid-ckc2berq\\lib\\site-packages\\xgboost\\sklearn.py:888: UserWarning: The use of label encoder in XGBClassifier is deprecated and will be removed in a future release. To remove this warning, do the following: 1) Pass option use_label_encoder=False when constructing XGBClassifier object; and 2) Encode your labels (y) as integers starting with 0, i.e. 0, 1, 2, ..., [num_class - 1].\n",
      "  warnings.warn(label_encoder_deprecation_msg, UserWarning)\n",
      "c:\\users\\roel\\.virtualenvs\\diagcovid-ckc2berq\\lib\\site-packages\\xgboost\\sklearn.py:888: UserWarning: The use of label encoder in XGBClassifier is deprecated and will be removed in a future release. To remove this warning, do the following: 1) Pass option use_label_encoder=False when constructing XGBClassifier object; and 2) Encode your labels (y) as integers starting with 0, i.e. 0, 1, 2, ..., [num_class - 1].\n",
      "  warnings.warn(label_encoder_deprecation_msg, UserWarning)\n",
      "c:\\users\\roel\\.virtualenvs\\diagcovid-ckc2berq\\lib\\site-packages\\xgboost\\sklearn.py:888: UserWarning: The use of label encoder in XGBClassifier is deprecated and will be removed in a future release. To remove this warning, do the following: 1) Pass option use_label_encoder=False when constructing XGBClassifier object; and 2) Encode your labels (y) as integers starting with 0, i.e. 0, 1, 2, ..., [num_class - 1].\n",
      "  warnings.warn(label_encoder_deprecation_msg, UserWarning)\n",
      "c:\\users\\roel\\.virtualenvs\\diagcovid-ckc2berq\\lib\\site-packages\\xgboost\\sklearn.py:888: UserWarning: The use of label encoder in XGBClassifier is deprecated and will be removed in a future release. To remove this warning, do the following: 1) Pass option use_label_encoder=False when constructing XGBClassifier object; and 2) Encode your labels (y) as integers starting with 0, i.e. 0, 1, 2, ..., [num_class - 1].\n",
      "  warnings.warn(label_encoder_deprecation_msg, UserWarning)\n",
      "c:\\users\\roel\\.virtualenvs\\diagcovid-ckc2berq\\lib\\site-packages\\xgboost\\sklearn.py:888: UserWarning: The use of label encoder in XGBClassifier is deprecated and will be removed in a future release. To remove this warning, do the following: 1) Pass option use_label_encoder=False when constructing XGBClassifier object; and 2) Encode your labels (y) as integers starting with 0, i.e. 0, 1, 2, ..., [num_class - 1].\n",
      "  warnings.warn(label_encoder_deprecation_msg, UserWarning)\n",
      "[flaml.automl: 05-05 19:04:59] {1147} INFO -  at 0.8s,\tbest xgboost's error=0.0744,\tbest lgbm's error=0.0517\n",
      "[flaml.automl: 05-05 19:04:59] {994} INFO - iteration 10, current learner xgboost\n",
      "c:\\users\\roel\\.virtualenvs\\diagcovid-ckc2berq\\lib\\site-packages\\xgboost\\sklearn.py:888: UserWarning: The use of label encoder in XGBClassifier is deprecated and will be removed in a future release. To remove this warning, do the following: 1) Pass option use_label_encoder=False when constructing XGBClassifier object; and 2) Encode your labels (y) as integers starting with 0, i.e. 0, 1, 2, ..., [num_class - 1].\n",
      "  warnings.warn(label_encoder_deprecation_msg, UserWarning)\n",
      "c:\\users\\roel\\.virtualenvs\\diagcovid-ckc2berq\\lib\\site-packages\\xgboost\\sklearn.py:888: UserWarning: The use of label encoder in XGBClassifier is deprecated and will be removed in a future release. To remove this warning, do the following: 1) Pass option use_label_encoder=False when constructing XGBClassifier object; and 2) Encode your labels (y) as integers starting with 0, i.e. 0, 1, 2, ..., [num_class - 1].\n",
      "  warnings.warn(label_encoder_deprecation_msg, UserWarning)\n",
      "c:\\users\\roel\\.virtualenvs\\diagcovid-ckc2berq\\lib\\site-packages\\xgboost\\sklearn.py:888: UserWarning: The use of label encoder in XGBClassifier is deprecated and will be removed in a future release. To remove this warning, do the following: 1) Pass option use_label_encoder=False when constructing XGBClassifier object; and 2) Encode your labels (y) as integers starting with 0, i.e. 0, 1, 2, ..., [num_class - 1].\n",
      "  warnings.warn(label_encoder_deprecation_msg, UserWarning)\n",
      "c:\\users\\roel\\.virtualenvs\\diagcovid-ckc2berq\\lib\\site-packages\\xgboost\\sklearn.py:888: UserWarning: The use of label encoder in XGBClassifier is deprecated and will be removed in a future release. To remove this warning, do the following: 1) Pass option use_label_encoder=False when constructing XGBClassifier object; and 2) Encode your labels (y) as integers starting with 0, i.e. 0, 1, 2, ..., [num_class - 1].\n",
      "  warnings.warn(label_encoder_deprecation_msg, UserWarning)\n",
      "c:\\users\\roel\\.virtualenvs\\diagcovid-ckc2berq\\lib\\site-packages\\xgboost\\sklearn.py:888: UserWarning: The use of label encoder in XGBClassifier is deprecated and will be removed in a future release. To remove this warning, do the following: 1) Pass option use_label_encoder=False when constructing XGBClassifier object; and 2) Encode your labels (y) as integers starting with 0, i.e. 0, 1, 2, ..., [num_class - 1].\n",
      "  warnings.warn(label_encoder_deprecation_msg, UserWarning)\n",
      "[flaml.automl: 05-05 19:04:59] {1147} INFO -  at 0.9s,\tbest xgboost's error=0.0570,\tbest lgbm's error=0.0517\n",
      "[flaml.automl: 05-05 19:04:59] {994} INFO - iteration 11, current learner extra_tree\n",
      "[flaml.automl: 05-05 19:05:01] {1147} INFO -  at 2.2s,\tbest extra_tree's error=0.0788,\tbest lgbm's error=0.0517\n",
      "[flaml.automl: 05-05 19:05:01] {994} INFO - iteration 12, current learner rf\n",
      "[flaml.automl: 05-05 19:05:02] {1147} INFO -  at 3.4s,\tbest rf's error=0.0804,\tbest lgbm's error=0.0517\n",
      "[flaml.automl: 05-05 19:05:02] {994} INFO - iteration 13, current learner xgboost\n",
      "c:\\users\\roel\\.virtualenvs\\diagcovid-ckc2berq\\lib\\site-packages\\xgboost\\sklearn.py:888: UserWarning: The use of label encoder in XGBClassifier is deprecated and will be removed in a future release. To remove this warning, do the following: 1) Pass option use_label_encoder=False when constructing XGBClassifier object; and 2) Encode your labels (y) as integers starting with 0, i.e. 0, 1, 2, ..., [num_class - 1].\n",
      "  warnings.warn(label_encoder_deprecation_msg, UserWarning)\n",
      "c:\\users\\roel\\.virtualenvs\\diagcovid-ckc2berq\\lib\\site-packages\\xgboost\\sklearn.py:888: UserWarning: The use of label encoder in XGBClassifier is deprecated and will be removed in a future release. To remove this warning, do the following: 1) Pass option use_label_encoder=False when constructing XGBClassifier object; and 2) Encode your labels (y) as integers starting with 0, i.e. 0, 1, 2, ..., [num_class - 1].\n",
      "  warnings.warn(label_encoder_deprecation_msg, UserWarning)\n",
      "c:\\users\\roel\\.virtualenvs\\diagcovid-ckc2berq\\lib\\site-packages\\xgboost\\sklearn.py:888: UserWarning: The use of label encoder in XGBClassifier is deprecated and will be removed in a future release. To remove this warning, do the following: 1) Pass option use_label_encoder=False when constructing XGBClassifier object; and 2) Encode your labels (y) as integers starting with 0, i.e. 0, 1, 2, ..., [num_class - 1].\n",
      "  warnings.warn(label_encoder_deprecation_msg, UserWarning)\n",
      "c:\\users\\roel\\.virtualenvs\\diagcovid-ckc2berq\\lib\\site-packages\\xgboost\\sklearn.py:888: UserWarning: The use of label encoder in XGBClassifier is deprecated and will be removed in a future release. To remove this warning, do the following: 1) Pass option use_label_encoder=False when constructing XGBClassifier object; and 2) Encode your labels (y) as integers starting with 0, i.e. 0, 1, 2, ..., [num_class - 1].\n",
      "  warnings.warn(label_encoder_deprecation_msg, UserWarning)\n",
      "c:\\users\\roel\\.virtualenvs\\diagcovid-ckc2berq\\lib\\site-packages\\xgboost\\sklearn.py:888: UserWarning: The use of label encoder in XGBClassifier is deprecated and will be removed in a future release. To remove this warning, do the following: 1) Pass option use_label_encoder=False when constructing XGBClassifier object; and 2) Encode your labels (y) as integers starting with 0, i.e. 0, 1, 2, ..., [num_class - 1].\n",
      "  warnings.warn(label_encoder_deprecation_msg, UserWarning)\n",
      "[flaml.automl: 05-05 19:05:02] {1147} INFO -  at 3.5s,\tbest xgboost's error=0.0570,\tbest lgbm's error=0.0517\n",
      "[flaml.automl: 05-05 19:05:02] {994} INFO - iteration 14, current learner rf\n",
      "[flaml.automl: 05-05 19:05:03] {1147} INFO -  at 4.8s,\tbest rf's error=0.0804,\tbest lgbm's error=0.0517\n",
      "[flaml.automl: 05-05 19:05:03] {994} INFO - iteration 15, current learner xgboost\n",
      "c:\\users\\roel\\.virtualenvs\\diagcovid-ckc2berq\\lib\\site-packages\\xgboost\\sklearn.py:888: UserWarning: The use of label encoder in XGBClassifier is deprecated and will be removed in a future release. To remove this warning, do the following: 1) Pass option use_label_encoder=False when constructing XGBClassifier object; and 2) Encode your labels (y) as integers starting with 0, i.e. 0, 1, 2, ..., [num_class - 1].\n",
      "  warnings.warn(label_encoder_deprecation_msg, UserWarning)\n",
      "c:\\users\\roel\\.virtualenvs\\diagcovid-ckc2berq\\lib\\site-packages\\xgboost\\sklearn.py:888: UserWarning: The use of label encoder in XGBClassifier is deprecated and will be removed in a future release. To remove this warning, do the following: 1) Pass option use_label_encoder=False when constructing XGBClassifier object; and 2) Encode your labels (y) as integers starting with 0, i.e. 0, 1, 2, ..., [num_class - 1].\n",
      "  warnings.warn(label_encoder_deprecation_msg, UserWarning)\n",
      "c:\\users\\roel\\.virtualenvs\\diagcovid-ckc2berq\\lib\\site-packages\\xgboost\\sklearn.py:888: UserWarning: The use of label encoder in XGBClassifier is deprecated and will be removed in a future release. To remove this warning, do the following: 1) Pass option use_label_encoder=False when constructing XGBClassifier object; and 2) Encode your labels (y) as integers starting with 0, i.e. 0, 1, 2, ..., [num_class - 1].\n",
      "  warnings.warn(label_encoder_deprecation_msg, UserWarning)\n",
      "c:\\users\\roel\\.virtualenvs\\diagcovid-ckc2berq\\lib\\site-packages\\xgboost\\sklearn.py:888: UserWarning: The use of label encoder in XGBClassifier is deprecated and will be removed in a future release. To remove this warning, do the following: 1) Pass option use_label_encoder=False when constructing XGBClassifier object; and 2) Encode your labels (y) as integers starting with 0, i.e. 0, 1, 2, ..., [num_class - 1].\n",
      "  warnings.warn(label_encoder_deprecation_msg, UserWarning)\n",
      "c:\\users\\roel\\.virtualenvs\\diagcovid-ckc2berq\\lib\\site-packages\\xgboost\\sklearn.py:888: UserWarning: The use of label encoder in XGBClassifier is deprecated and will be removed in a future release. To remove this warning, do the following: 1) Pass option use_label_encoder=False when constructing XGBClassifier object; and 2) Encode your labels (y) as integers starting with 0, i.e. 0, 1, 2, ..., [num_class - 1].\n",
      "  warnings.warn(label_encoder_deprecation_msg, UserWarning)\n",
      "[flaml.automl: 05-05 19:05:04] {1147} INFO -  at 5.0s,\tbest xgboost's error=0.0570,\tbest lgbm's error=0.0517\n",
      "[flaml.automl: 05-05 19:05:04] {994} INFO - iteration 16, current learner lgbm\n",
      "[flaml.automl: 05-05 19:05:04] {1147} INFO -  at 5.0s,\tbest lgbm's error=0.0517,\tbest lgbm's error=0.0517\n",
      "[flaml.automl: 05-05 19:05:04] {994} INFO - iteration 17, current learner xgboost\n",
      "c:\\users\\roel\\.virtualenvs\\diagcovid-ckc2berq\\lib\\site-packages\\xgboost\\sklearn.py:888: UserWarning: The use of label encoder in XGBClassifier is deprecated and will be removed in a future release. To remove this warning, do the following: 1) Pass option use_label_encoder=False when constructing XGBClassifier object; and 2) Encode your labels (y) as integers starting with 0, i.e. 0, 1, 2, ..., [num_class - 1].\n",
      "  warnings.warn(label_encoder_deprecation_msg, UserWarning)\n",
      "c:\\users\\roel\\.virtualenvs\\diagcovid-ckc2berq\\lib\\site-packages\\xgboost\\sklearn.py:888: UserWarning: The use of label encoder in XGBClassifier is deprecated and will be removed in a future release. To remove this warning, do the following: 1) Pass option use_label_encoder=False when constructing XGBClassifier object; and 2) Encode your labels (y) as integers starting with 0, i.e. 0, 1, 2, ..., [num_class - 1].\n",
      "  warnings.warn(label_encoder_deprecation_msg, UserWarning)\n",
      "c:\\users\\roel\\.virtualenvs\\diagcovid-ckc2berq\\lib\\site-packages\\xgboost\\sklearn.py:888: UserWarning: The use of label encoder in XGBClassifier is deprecated and will be removed in a future release. To remove this warning, do the following: 1) Pass option use_label_encoder=False when constructing XGBClassifier object; and 2) Encode your labels (y) as integers starting with 0, i.e. 0, 1, 2, ..., [num_class - 1].\n",
      "  warnings.warn(label_encoder_deprecation_msg, UserWarning)\n",
      "c:\\users\\roel\\.virtualenvs\\diagcovid-ckc2berq\\lib\\site-packages\\xgboost\\sklearn.py:888: UserWarning: The use of label encoder in XGBClassifier is deprecated and will be removed in a future release. To remove this warning, do the following: 1) Pass option use_label_encoder=False when constructing XGBClassifier object; and 2) Encode your labels (y) as integers starting with 0, i.e. 0, 1, 2, ..., [num_class - 1].\n",
      "  warnings.warn(label_encoder_deprecation_msg, UserWarning)\n",
      "c:\\users\\roel\\.virtualenvs\\diagcovid-ckc2berq\\lib\\site-packages\\xgboost\\sklearn.py:888: UserWarning: The use of label encoder in XGBClassifier is deprecated and will be removed in a future release. To remove this warning, do the following: 1) Pass option use_label_encoder=False when constructing XGBClassifier object; and 2) Encode your labels (y) as integers starting with 0, i.e. 0, 1, 2, ..., [num_class - 1].\n",
      "  warnings.warn(label_encoder_deprecation_msg, UserWarning)\n",
      "[flaml.automl: 05-05 19:05:04] {1147} INFO -  at 5.1s,\tbest xgboost's error=0.0570,\tbest lgbm's error=0.0517\n",
      "[flaml.automl: 05-05 19:05:04] {994} INFO - iteration 18, current learner lgbm\n",
      "[flaml.automl: 05-05 19:05:04] {1147} INFO -  at 5.2s,\tbest lgbm's error=0.0517,\tbest lgbm's error=0.0517\n",
      "[flaml.automl: 05-05 19:05:04] {994} INFO - iteration 19, current learner xgboost\n",
      "c:\\users\\roel\\.virtualenvs\\diagcovid-ckc2berq\\lib\\site-packages\\xgboost\\sklearn.py:888: UserWarning: The use of label encoder in XGBClassifier is deprecated and will be removed in a future release. To remove this warning, do the following: 1) Pass option use_label_encoder=False when constructing XGBClassifier object; and 2) Encode your labels (y) as integers starting with 0, i.e. 0, 1, 2, ..., [num_class - 1].\n",
      "  warnings.warn(label_encoder_deprecation_msg, UserWarning)\n",
      "c:\\users\\roel\\.virtualenvs\\diagcovid-ckc2berq\\lib\\site-packages\\xgboost\\sklearn.py:888: UserWarning: The use of label encoder in XGBClassifier is deprecated and will be removed in a future release. To remove this warning, do the following: 1) Pass option use_label_encoder=False when constructing XGBClassifier object; and 2) Encode your labels (y) as integers starting with 0, i.e. 0, 1, 2, ..., [num_class - 1].\n",
      "  warnings.warn(label_encoder_deprecation_msg, UserWarning)\n",
      "c:\\users\\roel\\.virtualenvs\\diagcovid-ckc2berq\\lib\\site-packages\\xgboost\\sklearn.py:888: UserWarning: The use of label encoder in XGBClassifier is deprecated and will be removed in a future release. To remove this warning, do the following: 1) Pass option use_label_encoder=False when constructing XGBClassifier object; and 2) Encode your labels (y) as integers starting with 0, i.e. 0, 1, 2, ..., [num_class - 1].\n",
      "  warnings.warn(label_encoder_deprecation_msg, UserWarning)\n",
      "c:\\users\\roel\\.virtualenvs\\diagcovid-ckc2berq\\lib\\site-packages\\xgboost\\sklearn.py:888: UserWarning: The use of label encoder in XGBClassifier is deprecated and will be removed in a future release. To remove this warning, do the following: 1) Pass option use_label_encoder=False when constructing XGBClassifier object; and 2) Encode your labels (y) as integers starting with 0, i.e. 0, 1, 2, ..., [num_class - 1].\n",
      "  warnings.warn(label_encoder_deprecation_msg, UserWarning)\n",
      "c:\\users\\roel\\.virtualenvs\\diagcovid-ckc2berq\\lib\\site-packages\\xgboost\\sklearn.py:888: UserWarning: The use of label encoder in XGBClassifier is deprecated and will be removed in a future release. To remove this warning, do the following: 1) Pass option use_label_encoder=False when constructing XGBClassifier object; and 2) Encode your labels (y) as integers starting with 0, i.e. 0, 1, 2, ..., [num_class - 1].\n",
      "  warnings.warn(label_encoder_deprecation_msg, UserWarning)\n",
      "[flaml.automl: 05-05 19:05:04] {1147} INFO -  at 5.3s,\tbest xgboost's error=0.0570,\tbest lgbm's error=0.0517\n",
      "[flaml.automl: 05-05 19:05:04] {994} INFO - iteration 20, current learner lgbm\n",
      "[flaml.automl: 05-05 19:05:04] {1147} INFO -  at 5.4s,\tbest lgbm's error=0.0517,\tbest lgbm's error=0.0517\n",
      "[flaml.automl: 05-05 19:05:04] {994} INFO - iteration 21, current learner rf\n",
      "[flaml.automl: 05-05 19:05:05] {1147} INFO -  at 6.7s,\tbest rf's error=0.0741,\tbest lgbm's error=0.0517\n",
      "[flaml.automl: 05-05 19:05:05] {994} INFO - iteration 22, current learner lgbm\n",
      "[flaml.automl: 05-05 19:05:05] {1147} INFO -  at 6.8s,\tbest lgbm's error=0.0517,\tbest lgbm's error=0.0517\n",
      "[flaml.automl: 05-05 19:05:05] {994} INFO - iteration 23, current learner lgbm\n",
      "[flaml.automl: 05-05 19:05:05] {1147} INFO -  at 6.9s,\tbest lgbm's error=0.0517,\tbest lgbm's error=0.0517\n",
      "[flaml.automl: 05-05 19:05:05] {994} INFO - iteration 24, current learner xgboost\n",
      "c:\\users\\roel\\.virtualenvs\\diagcovid-ckc2berq\\lib\\site-packages\\xgboost\\sklearn.py:888: UserWarning: The use of label encoder in XGBClassifier is deprecated and will be removed in a future release. To remove this warning, do the following: 1) Pass option use_label_encoder=False when constructing XGBClassifier object; and 2) Encode your labels (y) as integers starting with 0, i.e. 0, 1, 2, ..., [num_class - 1].\n",
      "  warnings.warn(label_encoder_deprecation_msg, UserWarning)\n",
      "c:\\users\\roel\\.virtualenvs\\diagcovid-ckc2berq\\lib\\site-packages\\xgboost\\sklearn.py:888: UserWarning: The use of label encoder in XGBClassifier is deprecated and will be removed in a future release. To remove this warning, do the following: 1) Pass option use_label_encoder=False when constructing XGBClassifier object; and 2) Encode your labels (y) as integers starting with 0, i.e. 0, 1, 2, ..., [num_class - 1].\n",
      "  warnings.warn(label_encoder_deprecation_msg, UserWarning)\n",
      "c:\\users\\roel\\.virtualenvs\\diagcovid-ckc2berq\\lib\\site-packages\\xgboost\\sklearn.py:888: UserWarning: The use of label encoder in XGBClassifier is deprecated and will be removed in a future release. To remove this warning, do the following: 1) Pass option use_label_encoder=False when constructing XGBClassifier object; and 2) Encode your labels (y) as integers starting with 0, i.e. 0, 1, 2, ..., [num_class - 1].\n",
      "  warnings.warn(label_encoder_deprecation_msg, UserWarning)\n",
      "c:\\users\\roel\\.virtualenvs\\diagcovid-ckc2berq\\lib\\site-packages\\xgboost\\sklearn.py:888: UserWarning: The use of label encoder in XGBClassifier is deprecated and will be removed in a future release. To remove this warning, do the following: 1) Pass option use_label_encoder=False when constructing XGBClassifier object; and 2) Encode your labels (y) as integers starting with 0, i.e. 0, 1, 2, ..., [num_class - 1].\n",
      "  warnings.warn(label_encoder_deprecation_msg, UserWarning)\n",
      "c:\\users\\roel\\.virtualenvs\\diagcovid-ckc2berq\\lib\\site-packages\\xgboost\\sklearn.py:888: UserWarning: The use of label encoder in XGBClassifier is deprecated and will be removed in a future release. To remove this warning, do the following: 1) Pass option use_label_encoder=False when constructing XGBClassifier object; and 2) Encode your labels (y) as integers starting with 0, i.e. 0, 1, 2, ..., [num_class - 1].\n",
      "  warnings.warn(label_encoder_deprecation_msg, UserWarning)\n",
      "[flaml.automl: 05-05 19:05:06] {1147} INFO -  at 7.0s,\tbest xgboost's error=0.0561,\tbest lgbm's error=0.0517\n",
      "[flaml.automl: 05-05 19:05:06] {994} INFO - iteration 25, current learner extra_tree\n",
      "[flaml.automl: 05-05 19:05:07] {1147} INFO -  at 8.2s,\tbest extra_tree's error=0.0788,\tbest lgbm's error=0.0517\n",
      "[flaml.automl: 05-05 19:05:07] {994} INFO - iteration 26, current learner lgbm\n",
      "[flaml.automl: 05-05 19:05:07] {1147} INFO -  at 8.3s,\tbest lgbm's error=0.0517,\tbest lgbm's error=0.0517\n",
      "[flaml.automl: 05-05 19:05:07] {994} INFO - iteration 27, current learner xgboost\n",
      "c:\\users\\roel\\.virtualenvs\\diagcovid-ckc2berq\\lib\\site-packages\\xgboost\\sklearn.py:888: UserWarning: The use of label encoder in XGBClassifier is deprecated and will be removed in a future release. To remove this warning, do the following: 1) Pass option use_label_encoder=False when constructing XGBClassifier object; and 2) Encode your labels (y) as integers starting with 0, i.e. 0, 1, 2, ..., [num_class - 1].\n",
      "  warnings.warn(label_encoder_deprecation_msg, UserWarning)\n",
      "c:\\users\\roel\\.virtualenvs\\diagcovid-ckc2berq\\lib\\site-packages\\xgboost\\sklearn.py:888: UserWarning: The use of label encoder in XGBClassifier is deprecated and will be removed in a future release. To remove this warning, do the following: 1) Pass option use_label_encoder=False when constructing XGBClassifier object; and 2) Encode your labels (y) as integers starting with 0, i.e. 0, 1, 2, ..., [num_class - 1].\n",
      "  warnings.warn(label_encoder_deprecation_msg, UserWarning)\n",
      "c:\\users\\roel\\.virtualenvs\\diagcovid-ckc2berq\\lib\\site-packages\\xgboost\\sklearn.py:888: UserWarning: The use of label encoder in XGBClassifier is deprecated and will be removed in a future release. To remove this warning, do the following: 1) Pass option use_label_encoder=False when constructing XGBClassifier object; and 2) Encode your labels (y) as integers starting with 0, i.e. 0, 1, 2, ..., [num_class - 1].\n",
      "  warnings.warn(label_encoder_deprecation_msg, UserWarning)\n",
      "c:\\users\\roel\\.virtualenvs\\diagcovid-ckc2berq\\lib\\site-packages\\xgboost\\sklearn.py:888: UserWarning: The use of label encoder in XGBClassifier is deprecated and will be removed in a future release. To remove this warning, do the following: 1) Pass option use_label_encoder=False when constructing XGBClassifier object; and 2) Encode your labels (y) as integers starting with 0, i.e. 0, 1, 2, ..., [num_class - 1].\n",
      "  warnings.warn(label_encoder_deprecation_msg, UserWarning)\n",
      "c:\\users\\roel\\.virtualenvs\\diagcovid-ckc2berq\\lib\\site-packages\\xgboost\\sklearn.py:888: UserWarning: The use of label encoder in XGBClassifier is deprecated and will be removed in a future release. To remove this warning, do the following: 1) Pass option use_label_encoder=False when constructing XGBClassifier object; and 2) Encode your labels (y) as integers starting with 0, i.e. 0, 1, 2, ..., [num_class - 1].\n",
      "  warnings.warn(label_encoder_deprecation_msg, UserWarning)\n",
      "[flaml.automl: 05-05 19:05:07] {1147} INFO -  at 8.4s,\tbest xgboost's error=0.0561,\tbest lgbm's error=0.0517\n",
      "[flaml.automl: 05-05 19:05:07] {994} INFO - iteration 28, current learner extra_tree\n",
      "[flaml.automl: 05-05 19:05:08] {1147} INFO -  at 9.8s,\tbest extra_tree's error=0.0723,\tbest lgbm's error=0.0517\n",
      "[flaml.automl: 05-05 19:05:08] {994} INFO - iteration 29, current learner xgboost\n",
      "c:\\users\\roel\\.virtualenvs\\diagcovid-ckc2berq\\lib\\site-packages\\xgboost\\sklearn.py:888: UserWarning: The use of label encoder in XGBClassifier is deprecated and will be removed in a future release. To remove this warning, do the following: 1) Pass option use_label_encoder=False when constructing XGBClassifier object; and 2) Encode your labels (y) as integers starting with 0, i.e. 0, 1, 2, ..., [num_class - 1].\n",
      "  warnings.warn(label_encoder_deprecation_msg, UserWarning)\n",
      "c:\\users\\roel\\.virtualenvs\\diagcovid-ckc2berq\\lib\\site-packages\\xgboost\\sklearn.py:888: UserWarning: The use of label encoder in XGBClassifier is deprecated and will be removed in a future release. To remove this warning, do the following: 1) Pass option use_label_encoder=False when constructing XGBClassifier object; and 2) Encode your labels (y) as integers starting with 0, i.e. 0, 1, 2, ..., [num_class - 1].\n",
      "  warnings.warn(label_encoder_deprecation_msg, UserWarning)\n",
      "c:\\users\\roel\\.virtualenvs\\diagcovid-ckc2berq\\lib\\site-packages\\xgboost\\sklearn.py:888: UserWarning: The use of label encoder in XGBClassifier is deprecated and will be removed in a future release. To remove this warning, do the following: 1) Pass option use_label_encoder=False when constructing XGBClassifier object; and 2) Encode your labels (y) as integers starting with 0, i.e. 0, 1, 2, ..., [num_class - 1].\n",
      "  warnings.warn(label_encoder_deprecation_msg, UserWarning)\n",
      "c:\\users\\roel\\.virtualenvs\\diagcovid-ckc2berq\\lib\\site-packages\\xgboost\\sklearn.py:888: UserWarning: The use of label encoder in XGBClassifier is deprecated and will be removed in a future release. To remove this warning, do the following: 1) Pass option use_label_encoder=False when constructing XGBClassifier object; and 2) Encode your labels (y) as integers starting with 0, i.e. 0, 1, 2, ..., [num_class - 1].\n",
      "  warnings.warn(label_encoder_deprecation_msg, UserWarning)\n",
      "c:\\users\\roel\\.virtualenvs\\diagcovid-ckc2berq\\lib\\site-packages\\xgboost\\sklearn.py:888: UserWarning: The use of label encoder in XGBClassifier is deprecated and will be removed in a future release. To remove this warning, do the following: 1) Pass option use_label_encoder=False when constructing XGBClassifier object; and 2) Encode your labels (y) as integers starting with 0, i.e. 0, 1, 2, ..., [num_class - 1].\n",
      "  warnings.warn(label_encoder_deprecation_msg, UserWarning)\n",
      "[flaml.automl: 05-05 19:05:08] {1147} INFO -  at 9.9s,\tbest xgboost's error=0.0561,\tbest lgbm's error=0.0517\n",
      "[flaml.automl: 05-05 19:05:08] {994} INFO - iteration 30, current learner lgbm\n",
      "[flaml.automl: 05-05 19:05:09] {1147} INFO -  at 10.0s,\tbest lgbm's error=0.0517,\tbest lgbm's error=0.0517\n",
      "[flaml.automl: 05-05 19:05:09] {994} INFO - iteration 31, current learner lgbm\n",
      "[flaml.automl: 05-05 19:05:09] {1147} INFO -  at 10.0s,\tbest lgbm's error=0.0517,\tbest lgbm's error=0.0517\n",
      "[flaml.automl: 05-05 19:05:09] {994} INFO - iteration 32, current learner lgbm\n",
      "[flaml.automl: 05-05 19:05:09] {1147} INFO -  at 10.2s,\tbest lgbm's error=0.0489,\tbest lgbm's error=0.0489\n",
      "[flaml.automl: 05-05 19:05:09] {994} INFO - iteration 33, current learner xgboost\n",
      "c:\\users\\roel\\.virtualenvs\\diagcovid-ckc2berq\\lib\\site-packages\\xgboost\\sklearn.py:888: UserWarning: The use of label encoder in XGBClassifier is deprecated and will be removed in a future release. To remove this warning, do the following: 1) Pass option use_label_encoder=False when constructing XGBClassifier object; and 2) Encode your labels (y) as integers starting with 0, i.e. 0, 1, 2, ..., [num_class - 1].\n",
      "  warnings.warn(label_encoder_deprecation_msg, UserWarning)\n",
      "c:\\users\\roel\\.virtualenvs\\diagcovid-ckc2berq\\lib\\site-packages\\xgboost\\sklearn.py:888: UserWarning: The use of label encoder in XGBClassifier is deprecated and will be removed in a future release. To remove this warning, do the following: 1) Pass option use_label_encoder=False when constructing XGBClassifier object; and 2) Encode your labels (y) as integers starting with 0, i.e. 0, 1, 2, ..., [num_class - 1].\n",
      "  warnings.warn(label_encoder_deprecation_msg, UserWarning)\n",
      "c:\\users\\roel\\.virtualenvs\\diagcovid-ckc2berq\\lib\\site-packages\\xgboost\\sklearn.py:888: UserWarning: The use of label encoder in XGBClassifier is deprecated and will be removed in a future release. To remove this warning, do the following: 1) Pass option use_label_encoder=False when constructing XGBClassifier object; and 2) Encode your labels (y) as integers starting with 0, i.e. 0, 1, 2, ..., [num_class - 1].\n",
      "  warnings.warn(label_encoder_deprecation_msg, UserWarning)\n",
      "c:\\users\\roel\\.virtualenvs\\diagcovid-ckc2berq\\lib\\site-packages\\xgboost\\sklearn.py:888: UserWarning: The use of label encoder in XGBClassifier is deprecated and will be removed in a future release. To remove this warning, do the following: 1) Pass option use_label_encoder=False when constructing XGBClassifier object; and 2) Encode your labels (y) as integers starting with 0, i.e. 0, 1, 2, ..., [num_class - 1].\n",
      "  warnings.warn(label_encoder_deprecation_msg, UserWarning)\n",
      "c:\\users\\roel\\.virtualenvs\\diagcovid-ckc2berq\\lib\\site-packages\\xgboost\\sklearn.py:888: UserWarning: The use of label encoder in XGBClassifier is deprecated and will be removed in a future release. To remove this warning, do the following: 1) Pass option use_label_encoder=False when constructing XGBClassifier object; and 2) Encode your labels (y) as integers starting with 0, i.e. 0, 1, 2, ..., [num_class - 1].\n",
      "  warnings.warn(label_encoder_deprecation_msg, UserWarning)\n",
      "[flaml.automl: 05-05 19:05:09] {1147} INFO -  at 10.3s,\tbest xgboost's error=0.0536,\tbest lgbm's error=0.0489\n",
      "[flaml.automl: 05-05 19:05:09] {994} INFO - iteration 34, current learner lgbm\n",
      "[flaml.automl: 05-05 19:05:09] {1147} INFO -  at 10.4s,\tbest lgbm's error=0.0461,\tbest lgbm's error=0.0461\n",
      "[flaml.automl: 05-05 19:05:09] {994} INFO - iteration 35, current learner lgbm\n",
      "[flaml.automl: 05-05 19:05:09] {1147} INFO -  at 10.5s,\tbest lgbm's error=0.0461,\tbest lgbm's error=0.0461\n",
      "[flaml.automl: 05-05 19:05:09] {994} INFO - iteration 36, current learner xgboost\n",
      "c:\\users\\roel\\.virtualenvs\\diagcovid-ckc2berq\\lib\\site-packages\\xgboost\\sklearn.py:888: UserWarning: The use of label encoder in XGBClassifier is deprecated and will be removed in a future release. To remove this warning, do the following: 1) Pass option use_label_encoder=False when constructing XGBClassifier object; and 2) Encode your labels (y) as integers starting with 0, i.e. 0, 1, 2, ..., [num_class - 1].\n",
      "  warnings.warn(label_encoder_deprecation_msg, UserWarning)\n",
      "c:\\users\\roel\\.virtualenvs\\diagcovid-ckc2berq\\lib\\site-packages\\xgboost\\sklearn.py:888: UserWarning: The use of label encoder in XGBClassifier is deprecated and will be removed in a future release. To remove this warning, do the following: 1) Pass option use_label_encoder=False when constructing XGBClassifier object; and 2) Encode your labels (y) as integers starting with 0, i.e. 0, 1, 2, ..., [num_class - 1].\n",
      "  warnings.warn(label_encoder_deprecation_msg, UserWarning)\n",
      "c:\\users\\roel\\.virtualenvs\\diagcovid-ckc2berq\\lib\\site-packages\\xgboost\\sklearn.py:888: UserWarning: The use of label encoder in XGBClassifier is deprecated and will be removed in a future release. To remove this warning, do the following: 1) Pass option use_label_encoder=False when constructing XGBClassifier object; and 2) Encode your labels (y) as integers starting with 0, i.e. 0, 1, 2, ..., [num_class - 1].\n",
      "  warnings.warn(label_encoder_deprecation_msg, UserWarning)\n",
      "c:\\users\\roel\\.virtualenvs\\diagcovid-ckc2berq\\lib\\site-packages\\xgboost\\sklearn.py:888: UserWarning: The use of label encoder in XGBClassifier is deprecated and will be removed in a future release. To remove this warning, do the following: 1) Pass option use_label_encoder=False when constructing XGBClassifier object; and 2) Encode your labels (y) as integers starting with 0, i.e. 0, 1, 2, ..., [num_class - 1].\n",
      "  warnings.warn(label_encoder_deprecation_msg, UserWarning)\n",
      "c:\\users\\roel\\.virtualenvs\\diagcovid-ckc2berq\\lib\\site-packages\\xgboost\\sklearn.py:888: UserWarning: The use of label encoder in XGBClassifier is deprecated and will be removed in a future release. To remove this warning, do the following: 1) Pass option use_label_encoder=False when constructing XGBClassifier object; and 2) Encode your labels (y) as integers starting with 0, i.e. 0, 1, 2, ..., [num_class - 1].\n",
      "  warnings.warn(label_encoder_deprecation_msg, UserWarning)\n",
      "[flaml.automl: 05-05 19:05:09] {1147} INFO -  at 10.6s,\tbest xgboost's error=0.0536,\tbest lgbm's error=0.0461\n",
      "[flaml.automl: 05-05 19:05:09] {994} INFO - iteration 37, current learner lgbm\n",
      "[flaml.automl: 05-05 19:05:09] {1147} INFO -  at 10.7s,\tbest lgbm's error=0.0461,\tbest lgbm's error=0.0461\n",
      "[flaml.automl: 05-05 19:05:09] {994} INFO - iteration 38, current learner xgboost\n",
      "c:\\users\\roel\\.virtualenvs\\diagcovid-ckc2berq\\lib\\site-packages\\xgboost\\sklearn.py:888: UserWarning: The use of label encoder in XGBClassifier is deprecated and will be removed in a future release. To remove this warning, do the following: 1) Pass option use_label_encoder=False when constructing XGBClassifier object; and 2) Encode your labels (y) as integers starting with 0, i.e. 0, 1, 2, ..., [num_class - 1].\n",
      "  warnings.warn(label_encoder_deprecation_msg, UserWarning)\n",
      "c:\\users\\roel\\.virtualenvs\\diagcovid-ckc2berq\\lib\\site-packages\\xgboost\\sklearn.py:888: UserWarning: The use of label encoder in XGBClassifier is deprecated and will be removed in a future release. To remove this warning, do the following: 1) Pass option use_label_encoder=False when constructing XGBClassifier object; and 2) Encode your labels (y) as integers starting with 0, i.e. 0, 1, 2, ..., [num_class - 1].\n",
      "  warnings.warn(label_encoder_deprecation_msg, UserWarning)\n",
      "c:\\users\\roel\\.virtualenvs\\diagcovid-ckc2berq\\lib\\site-packages\\xgboost\\sklearn.py:888: UserWarning: The use of label encoder in XGBClassifier is deprecated and will be removed in a future release. To remove this warning, do the following: 1) Pass option use_label_encoder=False when constructing XGBClassifier object; and 2) Encode your labels (y) as integers starting with 0, i.e. 0, 1, 2, ..., [num_class - 1].\n",
      "  warnings.warn(label_encoder_deprecation_msg, UserWarning)\n",
      "c:\\users\\roel\\.virtualenvs\\diagcovid-ckc2berq\\lib\\site-packages\\xgboost\\sklearn.py:888: UserWarning: The use of label encoder in XGBClassifier is deprecated and will be removed in a future release. To remove this warning, do the following: 1) Pass option use_label_encoder=False when constructing XGBClassifier object; and 2) Encode your labels (y) as integers starting with 0, i.e. 0, 1, 2, ..., [num_class - 1].\n",
      "  warnings.warn(label_encoder_deprecation_msg, UserWarning)\n",
      "c:\\users\\roel\\.virtualenvs\\diagcovid-ckc2berq\\lib\\site-packages\\xgboost\\sklearn.py:888: UserWarning: The use of label encoder in XGBClassifier is deprecated and will be removed in a future release. To remove this warning, do the following: 1) Pass option use_label_encoder=False when constructing XGBClassifier object; and 2) Encode your labels (y) as integers starting with 0, i.e. 0, 1, 2, ..., [num_class - 1].\n",
      "  warnings.warn(label_encoder_deprecation_msg, UserWarning)\n",
      "[flaml.automl: 05-05 19:05:09] {1147} INFO -  at 10.8s,\tbest xgboost's error=0.0536,\tbest lgbm's error=0.0461\n",
      "[flaml.automl: 05-05 19:05:09] {994} INFO - iteration 39, current learner lgbm\n",
      "[flaml.automl: 05-05 19:05:09] {1147} INFO -  at 10.9s,\tbest lgbm's error=0.0461,\tbest lgbm's error=0.0461\n",
      "[flaml.automl: 05-05 19:05:09] {994} INFO - iteration 40, current learner xgboost\n",
      "c:\\users\\roel\\.virtualenvs\\diagcovid-ckc2berq\\lib\\site-packages\\xgboost\\sklearn.py:888: UserWarning: The use of label encoder in XGBClassifier is deprecated and will be removed in a future release. To remove this warning, do the following: 1) Pass option use_label_encoder=False when constructing XGBClassifier object; and 2) Encode your labels (y) as integers starting with 0, i.e. 0, 1, 2, ..., [num_class - 1].\n",
      "  warnings.warn(label_encoder_deprecation_msg, UserWarning)\n",
      "c:\\users\\roel\\.virtualenvs\\diagcovid-ckc2berq\\lib\\site-packages\\xgboost\\sklearn.py:888: UserWarning: The use of label encoder in XGBClassifier is deprecated and will be removed in a future release. To remove this warning, do the following: 1) Pass option use_label_encoder=False when constructing XGBClassifier object; and 2) Encode your labels (y) as integers starting with 0, i.e. 0, 1, 2, ..., [num_class - 1].\n",
      "  warnings.warn(label_encoder_deprecation_msg, UserWarning)\n",
      "c:\\users\\roel\\.virtualenvs\\diagcovid-ckc2berq\\lib\\site-packages\\xgboost\\sklearn.py:888: UserWarning: The use of label encoder in XGBClassifier is deprecated and will be removed in a future release. To remove this warning, do the following: 1) Pass option use_label_encoder=False when constructing XGBClassifier object; and 2) Encode your labels (y) as integers starting with 0, i.e. 0, 1, 2, ..., [num_class - 1].\n",
      "  warnings.warn(label_encoder_deprecation_msg, UserWarning)\n",
      "c:\\users\\roel\\.virtualenvs\\diagcovid-ckc2berq\\lib\\site-packages\\xgboost\\sklearn.py:888: UserWarning: The use of label encoder in XGBClassifier is deprecated and will be removed in a future release. To remove this warning, do the following: 1) Pass option use_label_encoder=False when constructing XGBClassifier object; and 2) Encode your labels (y) as integers starting with 0, i.e. 0, 1, 2, ..., [num_class - 1].\n",
      "  warnings.warn(label_encoder_deprecation_msg, UserWarning)\n",
      "c:\\users\\roel\\.virtualenvs\\diagcovid-ckc2berq\\lib\\site-packages\\xgboost\\sklearn.py:888: UserWarning: The use of label encoder in XGBClassifier is deprecated and will be removed in a future release. To remove this warning, do the following: 1) Pass option use_label_encoder=False when constructing XGBClassifier object; and 2) Encode your labels (y) as integers starting with 0, i.e. 0, 1, 2, ..., [num_class - 1].\n",
      "  warnings.warn(label_encoder_deprecation_msg, UserWarning)\n",
      "[flaml.automl: 05-05 19:05:10] {1147} INFO -  at 11.0s,\tbest xgboost's error=0.0536,\tbest lgbm's error=0.0461\n",
      "[flaml.automl: 05-05 19:05:10] {994} INFO - iteration 41, current learner xgboost\n",
      "c:\\users\\roel\\.virtualenvs\\diagcovid-ckc2berq\\lib\\site-packages\\xgboost\\sklearn.py:888: UserWarning: The use of label encoder in XGBClassifier is deprecated and will be removed in a future release. To remove this warning, do the following: 1) Pass option use_label_encoder=False when constructing XGBClassifier object; and 2) Encode your labels (y) as integers starting with 0, i.e. 0, 1, 2, ..., [num_class - 1].\n",
      "  warnings.warn(label_encoder_deprecation_msg, UserWarning)\n",
      "c:\\users\\roel\\.virtualenvs\\diagcovid-ckc2berq\\lib\\site-packages\\xgboost\\sklearn.py:888: UserWarning: The use of label encoder in XGBClassifier is deprecated and will be removed in a future release. To remove this warning, do the following: 1) Pass option use_label_encoder=False when constructing XGBClassifier object; and 2) Encode your labels (y) as integers starting with 0, i.e. 0, 1, 2, ..., [num_class - 1].\n",
      "  warnings.warn(label_encoder_deprecation_msg, UserWarning)\n",
      "c:\\users\\roel\\.virtualenvs\\diagcovid-ckc2berq\\lib\\site-packages\\xgboost\\sklearn.py:888: UserWarning: The use of label encoder in XGBClassifier is deprecated and will be removed in a future release. To remove this warning, do the following: 1) Pass option use_label_encoder=False when constructing XGBClassifier object; and 2) Encode your labels (y) as integers starting with 0, i.e. 0, 1, 2, ..., [num_class - 1].\n",
      "  warnings.warn(label_encoder_deprecation_msg, UserWarning)\n",
      "c:\\users\\roel\\.virtualenvs\\diagcovid-ckc2berq\\lib\\site-packages\\xgboost\\sklearn.py:888: UserWarning: The use of label encoder in XGBClassifier is deprecated and will be removed in a future release. To remove this warning, do the following: 1) Pass option use_label_encoder=False when constructing XGBClassifier object; and 2) Encode your labels (y) as integers starting with 0, i.e. 0, 1, 2, ..., [num_class - 1].\n",
      "  warnings.warn(label_encoder_deprecation_msg, UserWarning)\n",
      "c:\\users\\roel\\.virtualenvs\\diagcovid-ckc2berq\\lib\\site-packages\\xgboost\\sklearn.py:888: UserWarning: The use of label encoder in XGBClassifier is deprecated and will be removed in a future release. To remove this warning, do the following: 1) Pass option use_label_encoder=False when constructing XGBClassifier object; and 2) Encode your labels (y) as integers starting with 0, i.e. 0, 1, 2, ..., [num_class - 1].\n",
      "  warnings.warn(label_encoder_deprecation_msg, UserWarning)\n",
      "[flaml.automl: 05-05 19:05:10] {1147} INFO -  at 11.2s,\tbest xgboost's error=0.0498,\tbest lgbm's error=0.0461\n",
      "[flaml.automl: 05-05 19:05:10] {994} INFO - iteration 42, current learner lgbm\n",
      "[flaml.automl: 05-05 19:05:10] {1147} INFO -  at 11.2s,\tbest lgbm's error=0.0461,\tbest lgbm's error=0.0461\n",
      "[flaml.automl: 05-05 19:05:10] {994} INFO - iteration 43, current learner xgboost\n",
      "c:\\users\\roel\\.virtualenvs\\diagcovid-ckc2berq\\lib\\site-packages\\xgboost\\sklearn.py:888: UserWarning: The use of label encoder in XGBClassifier is deprecated and will be removed in a future release. To remove this warning, do the following: 1) Pass option use_label_encoder=False when constructing XGBClassifier object; and 2) Encode your labels (y) as integers starting with 0, i.e. 0, 1, 2, ..., [num_class - 1].\n",
      "  warnings.warn(label_encoder_deprecation_msg, UserWarning)\n",
      "c:\\users\\roel\\.virtualenvs\\diagcovid-ckc2berq\\lib\\site-packages\\xgboost\\sklearn.py:888: UserWarning: The use of label encoder in XGBClassifier is deprecated and will be removed in a future release. To remove this warning, do the following: 1) Pass option use_label_encoder=False when constructing XGBClassifier object; and 2) Encode your labels (y) as integers starting with 0, i.e. 0, 1, 2, ..., [num_class - 1].\n",
      "  warnings.warn(label_encoder_deprecation_msg, UserWarning)\n",
      "c:\\users\\roel\\.virtualenvs\\diagcovid-ckc2berq\\lib\\site-packages\\xgboost\\sklearn.py:888: UserWarning: The use of label encoder in XGBClassifier is deprecated and will be removed in a future release. To remove this warning, do the following: 1) Pass option use_label_encoder=False when constructing XGBClassifier object; and 2) Encode your labels (y) as integers starting with 0, i.e. 0, 1, 2, ..., [num_class - 1].\n",
      "  warnings.warn(label_encoder_deprecation_msg, UserWarning)\n",
      "c:\\users\\roel\\.virtualenvs\\diagcovid-ckc2berq\\lib\\site-packages\\xgboost\\sklearn.py:888: UserWarning: The use of label encoder in XGBClassifier is deprecated and will be removed in a future release. To remove this warning, do the following: 1) Pass option use_label_encoder=False when constructing XGBClassifier object; and 2) Encode your labels (y) as integers starting with 0, i.e. 0, 1, 2, ..., [num_class - 1].\n",
      "  warnings.warn(label_encoder_deprecation_msg, UserWarning)\n",
      "c:\\users\\roel\\.virtualenvs\\diagcovid-ckc2berq\\lib\\site-packages\\xgboost\\sklearn.py:888: UserWarning: The use of label encoder in XGBClassifier is deprecated and will be removed in a future release. To remove this warning, do the following: 1) Pass option use_label_encoder=False when constructing XGBClassifier object; and 2) Encode your labels (y) as integers starting with 0, i.e. 0, 1, 2, ..., [num_class - 1].\n",
      "  warnings.warn(label_encoder_deprecation_msg, UserWarning)\n",
      "[flaml.automl: 05-05 19:05:10] {1147} INFO -  at 11.4s,\tbest xgboost's error=0.0498,\tbest lgbm's error=0.0461\n",
      "[flaml.automl: 05-05 19:05:10] {994} INFO - iteration 44, current learner extra_tree\n",
      "[flaml.automl: 05-05 19:05:11] {1147} INFO -  at 12.7s,\tbest extra_tree's error=0.0603,\tbest lgbm's error=0.0461\n",
      "[flaml.automl: 05-05 19:05:11] {994} INFO - iteration 45, current learner xgboost\n",
      "c:\\users\\roel\\.virtualenvs\\diagcovid-ckc2berq\\lib\\site-packages\\xgboost\\sklearn.py:888: UserWarning: The use of label encoder in XGBClassifier is deprecated and will be removed in a future release. To remove this warning, do the following: 1) Pass option use_label_encoder=False when constructing XGBClassifier object; and 2) Encode your labels (y) as integers starting with 0, i.e. 0, 1, 2, ..., [num_class - 1].\n",
      "  warnings.warn(label_encoder_deprecation_msg, UserWarning)\n",
      "c:\\users\\roel\\.virtualenvs\\diagcovid-ckc2berq\\lib\\site-packages\\xgboost\\sklearn.py:888: UserWarning: The use of label encoder in XGBClassifier is deprecated and will be removed in a future release. To remove this warning, do the following: 1) Pass option use_label_encoder=False when constructing XGBClassifier object; and 2) Encode your labels (y) as integers starting with 0, i.e. 0, 1, 2, ..., [num_class - 1].\n",
      "  warnings.warn(label_encoder_deprecation_msg, UserWarning)\n",
      "c:\\users\\roel\\.virtualenvs\\diagcovid-ckc2berq\\lib\\site-packages\\xgboost\\sklearn.py:888: UserWarning: The use of label encoder in XGBClassifier is deprecated and will be removed in a future release. To remove this warning, do the following: 1) Pass option use_label_encoder=False when constructing XGBClassifier object; and 2) Encode your labels (y) as integers starting with 0, i.e. 0, 1, 2, ..., [num_class - 1].\n",
      "  warnings.warn(label_encoder_deprecation_msg, UserWarning)\n",
      "c:\\users\\roel\\.virtualenvs\\diagcovid-ckc2berq\\lib\\site-packages\\xgboost\\sklearn.py:888: UserWarning: The use of label encoder in XGBClassifier is deprecated and will be removed in a future release. To remove this warning, do the following: 1) Pass option use_label_encoder=False when constructing XGBClassifier object; and 2) Encode your labels (y) as integers starting with 0, i.e. 0, 1, 2, ..., [num_class - 1].\n",
      "  warnings.warn(label_encoder_deprecation_msg, UserWarning)\n",
      "c:\\users\\roel\\.virtualenvs\\diagcovid-ckc2berq\\lib\\site-packages\\xgboost\\sklearn.py:888: UserWarning: The use of label encoder in XGBClassifier is deprecated and will be removed in a future release. To remove this warning, do the following: 1) Pass option use_label_encoder=False when constructing XGBClassifier object; and 2) Encode your labels (y) as integers starting with 0, i.e. 0, 1, 2, ..., [num_class - 1].\n",
      "  warnings.warn(label_encoder_deprecation_msg, UserWarning)\n",
      "[flaml.automl: 05-05 19:05:11] {1147} INFO -  at 12.9s,\tbest xgboost's error=0.0498,\tbest lgbm's error=0.0461\n",
      "[flaml.automl: 05-05 19:05:11] {994} INFO - iteration 46, current learner lgbm\n",
      "[flaml.automl: 05-05 19:05:11] {1147} INFO -  at 12.9s,\tbest lgbm's error=0.0461,\tbest lgbm's error=0.0461\n",
      "[flaml.automl: 05-05 19:05:11] {994} INFO - iteration 47, current learner xgboost\n",
      "c:\\users\\roel\\.virtualenvs\\diagcovid-ckc2berq\\lib\\site-packages\\xgboost\\sklearn.py:888: UserWarning: The use of label encoder in XGBClassifier is deprecated and will be removed in a future release. To remove this warning, do the following: 1) Pass option use_label_encoder=False when constructing XGBClassifier object; and 2) Encode your labels (y) as integers starting with 0, i.e. 0, 1, 2, ..., [num_class - 1].\n",
      "  warnings.warn(label_encoder_deprecation_msg, UserWarning)\n",
      "c:\\users\\roel\\.virtualenvs\\diagcovid-ckc2berq\\lib\\site-packages\\xgboost\\sklearn.py:888: UserWarning: The use of label encoder in XGBClassifier is deprecated and will be removed in a future release. To remove this warning, do the following: 1) Pass option use_label_encoder=False when constructing XGBClassifier object; and 2) Encode your labels (y) as integers starting with 0, i.e. 0, 1, 2, ..., [num_class - 1].\n",
      "  warnings.warn(label_encoder_deprecation_msg, UserWarning)\n",
      "c:\\users\\roel\\.virtualenvs\\diagcovid-ckc2berq\\lib\\site-packages\\xgboost\\sklearn.py:888: UserWarning: The use of label encoder in XGBClassifier is deprecated and will be removed in a future release. To remove this warning, do the following: 1) Pass option use_label_encoder=False when constructing XGBClassifier object; and 2) Encode your labels (y) as integers starting with 0, i.e. 0, 1, 2, ..., [num_class - 1].\n",
      "  warnings.warn(label_encoder_deprecation_msg, UserWarning)\n",
      "c:\\users\\roel\\.virtualenvs\\diagcovid-ckc2berq\\lib\\site-packages\\xgboost\\sklearn.py:888: UserWarning: The use of label encoder in XGBClassifier is deprecated and will be removed in a future release. To remove this warning, do the following: 1) Pass option use_label_encoder=False when constructing XGBClassifier object; and 2) Encode your labels (y) as integers starting with 0, i.e. 0, 1, 2, ..., [num_class - 1].\n",
      "  warnings.warn(label_encoder_deprecation_msg, UserWarning)\n",
      "c:\\users\\roel\\.virtualenvs\\diagcovid-ckc2berq\\lib\\site-packages\\xgboost\\sklearn.py:888: UserWarning: The use of label encoder in XGBClassifier is deprecated and will be removed in a future release. To remove this warning, do the following: 1) Pass option use_label_encoder=False when constructing XGBClassifier object; and 2) Encode your labels (y) as integers starting with 0, i.e. 0, 1, 2, ..., [num_class - 1].\n",
      "  warnings.warn(label_encoder_deprecation_msg, UserWarning)\n",
      "[flaml.automl: 05-05 19:05:12] {1147} INFO -  at 13.1s,\tbest xgboost's error=0.0498,\tbest lgbm's error=0.0461\n",
      "[flaml.automl: 05-05 19:05:12] {994} INFO - iteration 48, current learner lgbm\n",
      "[flaml.automl: 05-05 19:05:12] {1147} INFO -  at 13.2s,\tbest lgbm's error=0.0461,\tbest lgbm's error=0.0461\n",
      "[flaml.automl: 05-05 19:05:12] {994} INFO - iteration 49, current learner rf\n",
      "[flaml.automl: 05-05 19:05:13] {1147} INFO -  at 14.6s,\tbest rf's error=0.0741,\tbest lgbm's error=0.0461\n",
      "[flaml.automl: 05-05 19:05:13] {994} INFO - iteration 50, current learner extra_tree\n",
      "[flaml.automl: 05-05 19:05:15] {1147} INFO -  at 16.0s,\tbest extra_tree's error=0.0488,\tbest lgbm's error=0.0461\n",
      "[flaml.automl: 05-05 19:05:15] {994} INFO - iteration 51, current learner lgbm\n",
      "[flaml.automl: 05-05 19:05:15] {1147} INFO -  at 16.0s,\tbest lgbm's error=0.0461,\tbest lgbm's error=0.0461\n",
      "[flaml.automl: 05-05 19:05:15] {994} INFO - iteration 52, current learner lgbm\n",
      "[flaml.automl: 05-05 19:05:15] {1147} INFO -  at 16.2s,\tbest lgbm's error=0.0420,\tbest lgbm's error=0.0420\n",
      "[flaml.automl: 05-05 19:05:15] {994} INFO - iteration 53, current learner lgbm\n",
      "[flaml.automl: 05-05 19:05:15] {1147} INFO -  at 16.3s,\tbest lgbm's error=0.0420,\tbest lgbm's error=0.0420\n",
      "[flaml.automl: 05-05 19:05:15] {994} INFO - iteration 54, current learner lgbm\n",
      "[flaml.automl: 05-05 19:05:15] {1147} INFO -  at 16.4s,\tbest lgbm's error=0.0417,\tbest lgbm's error=0.0417\n",
      "[flaml.automl: 05-05 19:05:15] {994} INFO - iteration 55, current learner xgboost\n",
      "c:\\users\\roel\\.virtualenvs\\diagcovid-ckc2berq\\lib\\site-packages\\xgboost\\sklearn.py:888: UserWarning: The use of label encoder in XGBClassifier is deprecated and will be removed in a future release. To remove this warning, do the following: 1) Pass option use_label_encoder=False when constructing XGBClassifier object; and 2) Encode your labels (y) as integers starting with 0, i.e. 0, 1, 2, ..., [num_class - 1].\n",
      "  warnings.warn(label_encoder_deprecation_msg, UserWarning)\n",
      "c:\\users\\roel\\.virtualenvs\\diagcovid-ckc2berq\\lib\\site-packages\\xgboost\\sklearn.py:888: UserWarning: The use of label encoder in XGBClassifier is deprecated and will be removed in a future release. To remove this warning, do the following: 1) Pass option use_label_encoder=False when constructing XGBClassifier object; and 2) Encode your labels (y) as integers starting with 0, i.e. 0, 1, 2, ..., [num_class - 1].\n",
      "  warnings.warn(label_encoder_deprecation_msg, UserWarning)\n",
      "c:\\users\\roel\\.virtualenvs\\diagcovid-ckc2berq\\lib\\site-packages\\xgboost\\sklearn.py:888: UserWarning: The use of label encoder in XGBClassifier is deprecated and will be removed in a future release. To remove this warning, do the following: 1) Pass option use_label_encoder=False when constructing XGBClassifier object; and 2) Encode your labels (y) as integers starting with 0, i.e. 0, 1, 2, ..., [num_class - 1].\n",
      "  warnings.warn(label_encoder_deprecation_msg, UserWarning)\n",
      "c:\\users\\roel\\.virtualenvs\\diagcovid-ckc2berq\\lib\\site-packages\\xgboost\\sklearn.py:888: UserWarning: The use of label encoder in XGBClassifier is deprecated and will be removed in a future release. To remove this warning, do the following: 1) Pass option use_label_encoder=False when constructing XGBClassifier object; and 2) Encode your labels (y) as integers starting with 0, i.e. 0, 1, 2, ..., [num_class - 1].\n",
      "  warnings.warn(label_encoder_deprecation_msg, UserWarning)\n",
      "c:\\users\\roel\\.virtualenvs\\diagcovid-ckc2berq\\lib\\site-packages\\xgboost\\sklearn.py:888: UserWarning: The use of label encoder in XGBClassifier is deprecated and will be removed in a future release. To remove this warning, do the following: 1) Pass option use_label_encoder=False when constructing XGBClassifier object; and 2) Encode your labels (y) as integers starting with 0, i.e. 0, 1, 2, ..., [num_class - 1].\n",
      "  warnings.warn(label_encoder_deprecation_msg, UserWarning)\n",
      "[flaml.automl: 05-05 19:05:15] {1147} INFO -  at 16.6s,\tbest xgboost's error=0.0498,\tbest lgbm's error=0.0417\n",
      "[flaml.automl: 05-05 19:05:15] {994} INFO - iteration 56, current learner lgbm\n",
      "[flaml.automl: 05-05 19:05:15] {1147} INFO -  at 16.7s,\tbest lgbm's error=0.0415,\tbest lgbm's error=0.0415\n",
      "[flaml.automl: 05-05 19:05:15] {994} INFO - iteration 57, current learner lgbm\n",
      "[flaml.automl: 05-05 19:05:15] {1147} INFO -  at 16.9s,\tbest lgbm's error=0.0415,\tbest lgbm's error=0.0415\n",
      "[flaml.automl: 05-05 19:05:15] {994} INFO - iteration 58, current learner lgbm\n",
      "[flaml.automl: 05-05 19:05:15] {1147} INFO -  at 16.9s,\tbest lgbm's error=0.0415,\tbest lgbm's error=0.0415\n",
      "[flaml.automl: 05-05 19:05:15] {994} INFO - iteration 59, current learner lgbm\n",
      "[flaml.automl: 05-05 19:05:16] {1147} INFO -  at 17.1s,\tbest lgbm's error=0.0415,\tbest lgbm's error=0.0415\n",
      "[flaml.automl: 05-05 19:05:16] {994} INFO - iteration 60, current learner xgboost\n",
      "c:\\users\\roel\\.virtualenvs\\diagcovid-ckc2berq\\lib\\site-packages\\xgboost\\sklearn.py:888: UserWarning: The use of label encoder in XGBClassifier is deprecated and will be removed in a future release. To remove this warning, do the following: 1) Pass option use_label_encoder=False when constructing XGBClassifier object; and 2) Encode your labels (y) as integers starting with 0, i.e. 0, 1, 2, ..., [num_class - 1].\n",
      "  warnings.warn(label_encoder_deprecation_msg, UserWarning)\n",
      "c:\\users\\roel\\.virtualenvs\\diagcovid-ckc2berq\\lib\\site-packages\\xgboost\\sklearn.py:888: UserWarning: The use of label encoder in XGBClassifier is deprecated and will be removed in a future release. To remove this warning, do the following: 1) Pass option use_label_encoder=False when constructing XGBClassifier object; and 2) Encode your labels (y) as integers starting with 0, i.e. 0, 1, 2, ..., [num_class - 1].\n",
      "  warnings.warn(label_encoder_deprecation_msg, UserWarning)\n",
      "c:\\users\\roel\\.virtualenvs\\diagcovid-ckc2berq\\lib\\site-packages\\xgboost\\sklearn.py:888: UserWarning: The use of label encoder in XGBClassifier is deprecated and will be removed in a future release. To remove this warning, do the following: 1) Pass option use_label_encoder=False when constructing XGBClassifier object; and 2) Encode your labels (y) as integers starting with 0, i.e. 0, 1, 2, ..., [num_class - 1].\n",
      "  warnings.warn(label_encoder_deprecation_msg, UserWarning)\n",
      "c:\\users\\roel\\.virtualenvs\\diagcovid-ckc2berq\\lib\\site-packages\\xgboost\\sklearn.py:888: UserWarning: The use of label encoder in XGBClassifier is deprecated and will be removed in a future release. To remove this warning, do the following: 1) Pass option use_label_encoder=False when constructing XGBClassifier object; and 2) Encode your labels (y) as integers starting with 0, i.e. 0, 1, 2, ..., [num_class - 1].\n",
      "  warnings.warn(label_encoder_deprecation_msg, UserWarning)\n",
      "c:\\users\\roel\\.virtualenvs\\diagcovid-ckc2berq\\lib\\site-packages\\xgboost\\sklearn.py:888: UserWarning: The use of label encoder in XGBClassifier is deprecated and will be removed in a future release. To remove this warning, do the following: 1) Pass option use_label_encoder=False when constructing XGBClassifier object; and 2) Encode your labels (y) as integers starting with 0, i.e. 0, 1, 2, ..., [num_class - 1].\n",
      "  warnings.warn(label_encoder_deprecation_msg, UserWarning)\n",
      "[flaml.automl: 05-05 19:05:16] {1147} INFO -  at 17.2s,\tbest xgboost's error=0.0498,\tbest lgbm's error=0.0415\n",
      "[flaml.automl: 05-05 19:05:16] {994} INFO - iteration 61, current learner lgbm\n",
      "[flaml.automl: 05-05 19:05:16] {1147} INFO -  at 17.3s,\tbest lgbm's error=0.0415,\tbest lgbm's error=0.0415\n",
      "[flaml.automl: 05-05 19:05:16] {994} INFO - iteration 62, current learner xgboost\n",
      "c:\\users\\roel\\.virtualenvs\\diagcovid-ckc2berq\\lib\\site-packages\\xgboost\\sklearn.py:888: UserWarning: The use of label encoder in XGBClassifier is deprecated and will be removed in a future release. To remove this warning, do the following: 1) Pass option use_label_encoder=False when constructing XGBClassifier object; and 2) Encode your labels (y) as integers starting with 0, i.e. 0, 1, 2, ..., [num_class - 1].\n",
      "  warnings.warn(label_encoder_deprecation_msg, UserWarning)\n",
      "c:\\users\\roel\\.virtualenvs\\diagcovid-ckc2berq\\lib\\site-packages\\xgboost\\sklearn.py:888: UserWarning: The use of label encoder in XGBClassifier is deprecated and will be removed in a future release. To remove this warning, do the following: 1) Pass option use_label_encoder=False when constructing XGBClassifier object; and 2) Encode your labels (y) as integers starting with 0, i.e. 0, 1, 2, ..., [num_class - 1].\n",
      "  warnings.warn(label_encoder_deprecation_msg, UserWarning)\n",
      "c:\\users\\roel\\.virtualenvs\\diagcovid-ckc2berq\\lib\\site-packages\\xgboost\\sklearn.py:888: UserWarning: The use of label encoder in XGBClassifier is deprecated and will be removed in a future release. To remove this warning, do the following: 1) Pass option use_label_encoder=False when constructing XGBClassifier object; and 2) Encode your labels (y) as integers starting with 0, i.e. 0, 1, 2, ..., [num_class - 1].\n",
      "  warnings.warn(label_encoder_deprecation_msg, UserWarning)\n",
      "c:\\users\\roel\\.virtualenvs\\diagcovid-ckc2berq\\lib\\site-packages\\xgboost\\sklearn.py:888: UserWarning: The use of label encoder in XGBClassifier is deprecated and will be removed in a future release. To remove this warning, do the following: 1) Pass option use_label_encoder=False when constructing XGBClassifier object; and 2) Encode your labels (y) as integers starting with 0, i.e. 0, 1, 2, ..., [num_class - 1].\n",
      "  warnings.warn(label_encoder_deprecation_msg, UserWarning)\n",
      "c:\\users\\roel\\.virtualenvs\\diagcovid-ckc2berq\\lib\\site-packages\\xgboost\\sklearn.py:888: UserWarning: The use of label encoder in XGBClassifier is deprecated and will be removed in a future release. To remove this warning, do the following: 1) Pass option use_label_encoder=False when constructing XGBClassifier object; and 2) Encode your labels (y) as integers starting with 0, i.e. 0, 1, 2, ..., [num_class - 1].\n",
      "  warnings.warn(label_encoder_deprecation_msg, UserWarning)\n",
      "[flaml.automl: 05-05 19:05:16] {1147} INFO -  at 17.5s,\tbest xgboost's error=0.0489,\tbest lgbm's error=0.0415\n",
      "[flaml.automl: 05-05 19:05:16] {994} INFO - iteration 63, current learner xgboost\n",
      "c:\\users\\roel\\.virtualenvs\\diagcovid-ckc2berq\\lib\\site-packages\\xgboost\\sklearn.py:888: UserWarning: The use of label encoder in XGBClassifier is deprecated and will be removed in a future release. To remove this warning, do the following: 1) Pass option use_label_encoder=False when constructing XGBClassifier object; and 2) Encode your labels (y) as integers starting with 0, i.e. 0, 1, 2, ..., [num_class - 1].\n",
      "  warnings.warn(label_encoder_deprecation_msg, UserWarning)\n",
      "c:\\users\\roel\\.virtualenvs\\diagcovid-ckc2berq\\lib\\site-packages\\xgboost\\sklearn.py:888: UserWarning: The use of label encoder in XGBClassifier is deprecated and will be removed in a future release. To remove this warning, do the following: 1) Pass option use_label_encoder=False when constructing XGBClassifier object; and 2) Encode your labels (y) as integers starting with 0, i.e. 0, 1, 2, ..., [num_class - 1].\n",
      "  warnings.warn(label_encoder_deprecation_msg, UserWarning)\n",
      "c:\\users\\roel\\.virtualenvs\\diagcovid-ckc2berq\\lib\\site-packages\\xgboost\\sklearn.py:888: UserWarning: The use of label encoder in XGBClassifier is deprecated and will be removed in a future release. To remove this warning, do the following: 1) Pass option use_label_encoder=False when constructing XGBClassifier object; and 2) Encode your labels (y) as integers starting with 0, i.e. 0, 1, 2, ..., [num_class - 1].\n",
      "  warnings.warn(label_encoder_deprecation_msg, UserWarning)\n",
      "c:\\users\\roel\\.virtualenvs\\diagcovid-ckc2berq\\lib\\site-packages\\xgboost\\sklearn.py:888: UserWarning: The use of label encoder in XGBClassifier is deprecated and will be removed in a future release. To remove this warning, do the following: 1) Pass option use_label_encoder=False when constructing XGBClassifier object; and 2) Encode your labels (y) as integers starting with 0, i.e. 0, 1, 2, ..., [num_class - 1].\n",
      "  warnings.warn(label_encoder_deprecation_msg, UserWarning)\n",
      "c:\\users\\roel\\.virtualenvs\\diagcovid-ckc2berq\\lib\\site-packages\\xgboost\\sklearn.py:888: UserWarning: The use of label encoder in XGBClassifier is deprecated and will be removed in a future release. To remove this warning, do the following: 1) Pass option use_label_encoder=False when constructing XGBClassifier object; and 2) Encode your labels (y) as integers starting with 0, i.e. 0, 1, 2, ..., [num_class - 1].\n",
      "  warnings.warn(label_encoder_deprecation_msg, UserWarning)\n",
      "[flaml.automl: 05-05 19:05:16] {1147} INFO -  at 17.6s,\tbest xgboost's error=0.0489,\tbest lgbm's error=0.0415\n",
      "[flaml.automl: 05-05 19:05:16] {994} INFO - iteration 64, current learner lgbm\n",
      "[flaml.automl: 05-05 19:05:16] {1147} INFO -  at 17.7s,\tbest lgbm's error=0.0415,\tbest lgbm's error=0.0415\n",
      "[flaml.automl: 05-05 19:05:16] {994} INFO - iteration 65, current learner lgbm\n",
      "[flaml.automl: 05-05 19:05:16] {1147} INFO -  at 17.9s,\tbest lgbm's error=0.0415,\tbest lgbm's error=0.0415\n",
      "[flaml.automl: 05-05 19:05:16] {994} INFO - iteration 66, current learner xgboost\n",
      "c:\\users\\roel\\.virtualenvs\\diagcovid-ckc2berq\\lib\\site-packages\\xgboost\\sklearn.py:888: UserWarning: The use of label encoder in XGBClassifier is deprecated and will be removed in a future release. To remove this warning, do the following: 1) Pass option use_label_encoder=False when constructing XGBClassifier object; and 2) Encode your labels (y) as integers starting with 0, i.e. 0, 1, 2, ..., [num_class - 1].\n",
      "  warnings.warn(label_encoder_deprecation_msg, UserWarning)\n",
      "c:\\users\\roel\\.virtualenvs\\diagcovid-ckc2berq\\lib\\site-packages\\xgboost\\sklearn.py:888: UserWarning: The use of label encoder in XGBClassifier is deprecated and will be removed in a future release. To remove this warning, do the following: 1) Pass option use_label_encoder=False when constructing XGBClassifier object; and 2) Encode your labels (y) as integers starting with 0, i.e. 0, 1, 2, ..., [num_class - 1].\n",
      "  warnings.warn(label_encoder_deprecation_msg, UserWarning)\n",
      "c:\\users\\roel\\.virtualenvs\\diagcovid-ckc2berq\\lib\\site-packages\\xgboost\\sklearn.py:888: UserWarning: The use of label encoder in XGBClassifier is deprecated and will be removed in a future release. To remove this warning, do the following: 1) Pass option use_label_encoder=False when constructing XGBClassifier object; and 2) Encode your labels (y) as integers starting with 0, i.e. 0, 1, 2, ..., [num_class - 1].\n",
      "  warnings.warn(label_encoder_deprecation_msg, UserWarning)\n",
      "c:\\users\\roel\\.virtualenvs\\diagcovid-ckc2berq\\lib\\site-packages\\xgboost\\sklearn.py:888: UserWarning: The use of label encoder in XGBClassifier is deprecated and will be removed in a future release. To remove this warning, do the following: 1) Pass option use_label_encoder=False when constructing XGBClassifier object; and 2) Encode your labels (y) as integers starting with 0, i.e. 0, 1, 2, ..., [num_class - 1].\n",
      "  warnings.warn(label_encoder_deprecation_msg, UserWarning)\n",
      "c:\\users\\roel\\.virtualenvs\\diagcovid-ckc2berq\\lib\\site-packages\\xgboost\\sklearn.py:888: UserWarning: The use of label encoder in XGBClassifier is deprecated and will be removed in a future release. To remove this warning, do the following: 1) Pass option use_label_encoder=False when constructing XGBClassifier object; and 2) Encode your labels (y) as integers starting with 0, i.e. 0, 1, 2, ..., [num_class - 1].\n",
      "  warnings.warn(label_encoder_deprecation_msg, UserWarning)\n",
      "[flaml.automl: 05-05 19:05:17] {1147} INFO -  at 18.1s,\tbest xgboost's error=0.0489,\tbest lgbm's error=0.0415\n",
      "[flaml.automl: 05-05 19:05:17] {994} INFO - iteration 67, current learner rf\n",
      "[flaml.automl: 05-05 19:05:18] {1147} INFO -  at 19.5s,\tbest rf's error=0.0658,\tbest lgbm's error=0.0415\n",
      "[flaml.automl: 05-05 19:05:18] {994} INFO - iteration 68, current learner lgbm\n",
      "[flaml.automl: 05-05 19:05:18] {1147} INFO -  at 19.7s,\tbest lgbm's error=0.0415,\tbest lgbm's error=0.0415\n",
      "[flaml.automl: 05-05 19:05:18] {994} INFO - iteration 69, current learner xgboost\n",
      "c:\\users\\roel\\.virtualenvs\\diagcovid-ckc2berq\\lib\\site-packages\\xgboost\\sklearn.py:888: UserWarning: The use of label encoder in XGBClassifier is deprecated and will be removed in a future release. To remove this warning, do the following: 1) Pass option use_label_encoder=False when constructing XGBClassifier object; and 2) Encode your labels (y) as integers starting with 0, i.e. 0, 1, 2, ..., [num_class - 1].\n",
      "  warnings.warn(label_encoder_deprecation_msg, UserWarning)\n",
      "c:\\users\\roel\\.virtualenvs\\diagcovid-ckc2berq\\lib\\site-packages\\xgboost\\sklearn.py:888: UserWarning: The use of label encoder in XGBClassifier is deprecated and will be removed in a future release. To remove this warning, do the following: 1) Pass option use_label_encoder=False when constructing XGBClassifier object; and 2) Encode your labels (y) as integers starting with 0, i.e. 0, 1, 2, ..., [num_class - 1].\n",
      "  warnings.warn(label_encoder_deprecation_msg, UserWarning)\n",
      "c:\\users\\roel\\.virtualenvs\\diagcovid-ckc2berq\\lib\\site-packages\\xgboost\\sklearn.py:888: UserWarning: The use of label encoder in XGBClassifier is deprecated and will be removed in a future release. To remove this warning, do the following: 1) Pass option use_label_encoder=False when constructing XGBClassifier object; and 2) Encode your labels (y) as integers starting with 0, i.e. 0, 1, 2, ..., [num_class - 1].\n",
      "  warnings.warn(label_encoder_deprecation_msg, UserWarning)\n",
      "c:\\users\\roel\\.virtualenvs\\diagcovid-ckc2berq\\lib\\site-packages\\xgboost\\sklearn.py:888: UserWarning: The use of label encoder in XGBClassifier is deprecated and will be removed in a future release. To remove this warning, do the following: 1) Pass option use_label_encoder=False when constructing XGBClassifier object; and 2) Encode your labels (y) as integers starting with 0, i.e. 0, 1, 2, ..., [num_class - 1].\n",
      "  warnings.warn(label_encoder_deprecation_msg, UserWarning)\n",
      "c:\\users\\roel\\.virtualenvs\\diagcovid-ckc2berq\\lib\\site-packages\\xgboost\\sklearn.py:888: UserWarning: The use of label encoder in XGBClassifier is deprecated and will be removed in a future release. To remove this warning, do the following: 1) Pass option use_label_encoder=False when constructing XGBClassifier object; and 2) Encode your labels (y) as integers starting with 0, i.e. 0, 1, 2, ..., [num_class - 1].\n",
      "  warnings.warn(label_encoder_deprecation_msg, UserWarning)\n",
      "[flaml.automl: 05-05 19:05:18] {1147} INFO -  at 19.9s,\tbest xgboost's error=0.0489,\tbest lgbm's error=0.0415\n",
      "[flaml.automl: 05-05 19:05:18] {994} INFO - iteration 70, current learner xgboost\n",
      "c:\\users\\roel\\.virtualenvs\\diagcovid-ckc2berq\\lib\\site-packages\\xgboost\\sklearn.py:888: UserWarning: The use of label encoder in XGBClassifier is deprecated and will be removed in a future release. To remove this warning, do the following: 1) Pass option use_label_encoder=False when constructing XGBClassifier object; and 2) Encode your labels (y) as integers starting with 0, i.e. 0, 1, 2, ..., [num_class - 1].\n",
      "  warnings.warn(label_encoder_deprecation_msg, UserWarning)\n",
      "c:\\users\\roel\\.virtualenvs\\diagcovid-ckc2berq\\lib\\site-packages\\xgboost\\sklearn.py:888: UserWarning: The use of label encoder in XGBClassifier is deprecated and will be removed in a future release. To remove this warning, do the following: 1) Pass option use_label_encoder=False when constructing XGBClassifier object; and 2) Encode your labels (y) as integers starting with 0, i.e. 0, 1, 2, ..., [num_class - 1].\n",
      "  warnings.warn(label_encoder_deprecation_msg, UserWarning)\n",
      "c:\\users\\roel\\.virtualenvs\\diagcovid-ckc2berq\\lib\\site-packages\\xgboost\\sklearn.py:888: UserWarning: The use of label encoder in XGBClassifier is deprecated and will be removed in a future release. To remove this warning, do the following: 1) Pass option use_label_encoder=False when constructing XGBClassifier object; and 2) Encode your labels (y) as integers starting with 0, i.e. 0, 1, 2, ..., [num_class - 1].\n",
      "  warnings.warn(label_encoder_deprecation_msg, UserWarning)\n",
      "c:\\users\\roel\\.virtualenvs\\diagcovid-ckc2berq\\lib\\site-packages\\xgboost\\sklearn.py:888: UserWarning: The use of label encoder in XGBClassifier is deprecated and will be removed in a future release. To remove this warning, do the following: 1) Pass option use_label_encoder=False when constructing XGBClassifier object; and 2) Encode your labels (y) as integers starting with 0, i.e. 0, 1, 2, ..., [num_class - 1].\n",
      "  warnings.warn(label_encoder_deprecation_msg, UserWarning)\n",
      "c:\\users\\roel\\.virtualenvs\\diagcovid-ckc2berq\\lib\\site-packages\\xgboost\\sklearn.py:888: UserWarning: The use of label encoder in XGBClassifier is deprecated and will be removed in a future release. To remove this warning, do the following: 1) Pass option use_label_encoder=False when constructing XGBClassifier object; and 2) Encode your labels (y) as integers starting with 0, i.e. 0, 1, 2, ..., [num_class - 1].\n",
      "  warnings.warn(label_encoder_deprecation_msg, UserWarning)\n",
      "[flaml.automl: 05-05 19:05:19] {1147} INFO -  at 20.0s,\tbest xgboost's error=0.0489,\tbest lgbm's error=0.0415\n",
      "[flaml.automl: 05-05 19:05:19] {994} INFO - iteration 71, current learner xgboost\n",
      "c:\\users\\roel\\.virtualenvs\\diagcovid-ckc2berq\\lib\\site-packages\\xgboost\\sklearn.py:888: UserWarning: The use of label encoder in XGBClassifier is deprecated and will be removed in a future release. To remove this warning, do the following: 1) Pass option use_label_encoder=False when constructing XGBClassifier object; and 2) Encode your labels (y) as integers starting with 0, i.e. 0, 1, 2, ..., [num_class - 1].\n",
      "  warnings.warn(label_encoder_deprecation_msg, UserWarning)\n",
      "c:\\users\\roel\\.virtualenvs\\diagcovid-ckc2berq\\lib\\site-packages\\xgboost\\sklearn.py:888: UserWarning: The use of label encoder in XGBClassifier is deprecated and will be removed in a future release. To remove this warning, do the following: 1) Pass option use_label_encoder=False when constructing XGBClassifier object; and 2) Encode your labels (y) as integers starting with 0, i.e. 0, 1, 2, ..., [num_class - 1].\n",
      "  warnings.warn(label_encoder_deprecation_msg, UserWarning)\n",
      "c:\\users\\roel\\.virtualenvs\\diagcovid-ckc2berq\\lib\\site-packages\\xgboost\\sklearn.py:888: UserWarning: The use of label encoder in XGBClassifier is deprecated and will be removed in a future release. To remove this warning, do the following: 1) Pass option use_label_encoder=False when constructing XGBClassifier object; and 2) Encode your labels (y) as integers starting with 0, i.e. 0, 1, 2, ..., [num_class - 1].\n",
      "  warnings.warn(label_encoder_deprecation_msg, UserWarning)\n",
      "c:\\users\\roel\\.virtualenvs\\diagcovid-ckc2berq\\lib\\site-packages\\xgboost\\sklearn.py:888: UserWarning: The use of label encoder in XGBClassifier is deprecated and will be removed in a future release. To remove this warning, do the following: 1) Pass option use_label_encoder=False when constructing XGBClassifier object; and 2) Encode your labels (y) as integers starting with 0, i.e. 0, 1, 2, ..., [num_class - 1].\n",
      "  warnings.warn(label_encoder_deprecation_msg, UserWarning)\n",
      "c:\\users\\roel\\.virtualenvs\\diagcovid-ckc2berq\\lib\\site-packages\\xgboost\\sklearn.py:888: UserWarning: The use of label encoder in XGBClassifier is deprecated and will be removed in a future release. To remove this warning, do the following: 1) Pass option use_label_encoder=False when constructing XGBClassifier object; and 2) Encode your labels (y) as integers starting with 0, i.e. 0, 1, 2, ..., [num_class - 1].\n",
      "  warnings.warn(label_encoder_deprecation_msg, UserWarning)\n",
      "[flaml.automl: 05-05 19:05:19] {1147} INFO -  at 20.2s,\tbest xgboost's error=0.0463,\tbest lgbm's error=0.0415\n",
      "[flaml.automl: 05-05 19:05:19] {994} INFO - iteration 72, current learner extra_tree\n",
      "[flaml.automl: 05-05 19:05:20] {1147} INFO -  at 21.5s,\tbest extra_tree's error=0.0488,\tbest lgbm's error=0.0415\n",
      "[flaml.automl: 05-05 19:05:20] {994} INFO - iteration 73, current learner xgboost\n",
      "c:\\users\\roel\\.virtualenvs\\diagcovid-ckc2berq\\lib\\site-packages\\xgboost\\sklearn.py:888: UserWarning: The use of label encoder in XGBClassifier is deprecated and will be removed in a future release. To remove this warning, do the following: 1) Pass option use_label_encoder=False when constructing XGBClassifier object; and 2) Encode your labels (y) as integers starting with 0, i.e. 0, 1, 2, ..., [num_class - 1].\n",
      "  warnings.warn(label_encoder_deprecation_msg, UserWarning)\n",
      "c:\\users\\roel\\.virtualenvs\\diagcovid-ckc2berq\\lib\\site-packages\\xgboost\\sklearn.py:888: UserWarning: The use of label encoder in XGBClassifier is deprecated and will be removed in a future release. To remove this warning, do the following: 1) Pass option use_label_encoder=False when constructing XGBClassifier object; and 2) Encode your labels (y) as integers starting with 0, i.e. 0, 1, 2, ..., [num_class - 1].\n",
      "  warnings.warn(label_encoder_deprecation_msg, UserWarning)\n",
      "c:\\users\\roel\\.virtualenvs\\diagcovid-ckc2berq\\lib\\site-packages\\xgboost\\sklearn.py:888: UserWarning: The use of label encoder in XGBClassifier is deprecated and will be removed in a future release. To remove this warning, do the following: 1) Pass option use_label_encoder=False when constructing XGBClassifier object; and 2) Encode your labels (y) as integers starting with 0, i.e. 0, 1, 2, ..., [num_class - 1].\n",
      "  warnings.warn(label_encoder_deprecation_msg, UserWarning)\n",
      "c:\\users\\roel\\.virtualenvs\\diagcovid-ckc2berq\\lib\\site-packages\\xgboost\\sklearn.py:888: UserWarning: The use of label encoder in XGBClassifier is deprecated and will be removed in a future release. To remove this warning, do the following: 1) Pass option use_label_encoder=False when constructing XGBClassifier object; and 2) Encode your labels (y) as integers starting with 0, i.e. 0, 1, 2, ..., [num_class - 1].\n",
      "  warnings.warn(label_encoder_deprecation_msg, UserWarning)\n",
      "c:\\users\\roel\\.virtualenvs\\diagcovid-ckc2berq\\lib\\site-packages\\xgboost\\sklearn.py:888: UserWarning: The use of label encoder in XGBClassifier is deprecated and will be removed in a future release. To remove this warning, do the following: 1) Pass option use_label_encoder=False when constructing XGBClassifier object; and 2) Encode your labels (y) as integers starting with 0, i.e. 0, 1, 2, ..., [num_class - 1].\n",
      "  warnings.warn(label_encoder_deprecation_msg, UserWarning)\n",
      "[flaml.automl: 05-05 19:05:20] {1147} INFO -  at 21.7s,\tbest xgboost's error=0.0458,\tbest lgbm's error=0.0415\n",
      "[flaml.automl: 05-05 19:05:20] {994} INFO - iteration 74, current learner extra_tree\n",
      "[flaml.automl: 05-05 19:05:22] {1147} INFO -  at 23.2s,\tbest extra_tree's error=0.0488,\tbest lgbm's error=0.0415\n",
      "[flaml.automl: 05-05 19:05:22] {994} INFO - iteration 75, current learner lgbm\n",
      "[flaml.automl: 05-05 19:05:22] {1147} INFO -  at 23.3s,\tbest lgbm's error=0.0415,\tbest lgbm's error=0.0415\n",
      "[flaml.automl: 05-05 19:05:22] {994} INFO - iteration 76, current learner lgbm\n",
      "[flaml.automl: 05-05 19:05:22] {1147} INFO -  at 23.4s,\tbest lgbm's error=0.0415,\tbest lgbm's error=0.0415\n",
      "[flaml.automl: 05-05 19:05:22] {994} INFO - iteration 77, current learner xgboost\n",
      "c:\\users\\roel\\.virtualenvs\\diagcovid-ckc2berq\\lib\\site-packages\\xgboost\\sklearn.py:888: UserWarning: The use of label encoder in XGBClassifier is deprecated and will be removed in a future release. To remove this warning, do the following: 1) Pass option use_label_encoder=False when constructing XGBClassifier object; and 2) Encode your labels (y) as integers starting with 0, i.e. 0, 1, 2, ..., [num_class - 1].\n",
      "  warnings.warn(label_encoder_deprecation_msg, UserWarning)\n",
      "c:\\users\\roel\\.virtualenvs\\diagcovid-ckc2berq\\lib\\site-packages\\xgboost\\sklearn.py:888: UserWarning: The use of label encoder in XGBClassifier is deprecated and will be removed in a future release. To remove this warning, do the following: 1) Pass option use_label_encoder=False when constructing XGBClassifier object; and 2) Encode your labels (y) as integers starting with 0, i.e. 0, 1, 2, ..., [num_class - 1].\n",
      "  warnings.warn(label_encoder_deprecation_msg, UserWarning)\n",
      "c:\\users\\roel\\.virtualenvs\\diagcovid-ckc2berq\\lib\\site-packages\\xgboost\\sklearn.py:888: UserWarning: The use of label encoder in XGBClassifier is deprecated and will be removed in a future release. To remove this warning, do the following: 1) Pass option use_label_encoder=False when constructing XGBClassifier object; and 2) Encode your labels (y) as integers starting with 0, i.e. 0, 1, 2, ..., [num_class - 1].\n",
      "  warnings.warn(label_encoder_deprecation_msg, UserWarning)\n",
      "c:\\users\\roel\\.virtualenvs\\diagcovid-ckc2berq\\lib\\site-packages\\xgboost\\sklearn.py:888: UserWarning: The use of label encoder in XGBClassifier is deprecated and will be removed in a future release. To remove this warning, do the following: 1) Pass option use_label_encoder=False when constructing XGBClassifier object; and 2) Encode your labels (y) as integers starting with 0, i.e. 0, 1, 2, ..., [num_class - 1].\n",
      "  warnings.warn(label_encoder_deprecation_msg, UserWarning)\n",
      "c:\\users\\roel\\.virtualenvs\\diagcovid-ckc2berq\\lib\\site-packages\\xgboost\\sklearn.py:888: UserWarning: The use of label encoder in XGBClassifier is deprecated and will be removed in a future release. To remove this warning, do the following: 1) Pass option use_label_encoder=False when constructing XGBClassifier object; and 2) Encode your labels (y) as integers starting with 0, i.e. 0, 1, 2, ..., [num_class - 1].\n",
      "  warnings.warn(label_encoder_deprecation_msg, UserWarning)\n",
      "[flaml.automl: 05-05 19:05:22] {1147} INFO -  at 23.6s,\tbest xgboost's error=0.0458,\tbest lgbm's error=0.0415\n",
      "[flaml.automl: 05-05 19:05:22] {994} INFO - iteration 78, current learner xgboost\n",
      "c:\\users\\roel\\.virtualenvs\\diagcovid-ckc2berq\\lib\\site-packages\\xgboost\\sklearn.py:888: UserWarning: The use of label encoder in XGBClassifier is deprecated and will be removed in a future release. To remove this warning, do the following: 1) Pass option use_label_encoder=False when constructing XGBClassifier object; and 2) Encode your labels (y) as integers starting with 0, i.e. 0, 1, 2, ..., [num_class - 1].\n",
      "  warnings.warn(label_encoder_deprecation_msg, UserWarning)\n",
      "c:\\users\\roel\\.virtualenvs\\diagcovid-ckc2berq\\lib\\site-packages\\xgboost\\sklearn.py:888: UserWarning: The use of label encoder in XGBClassifier is deprecated and will be removed in a future release. To remove this warning, do the following: 1) Pass option use_label_encoder=False when constructing XGBClassifier object; and 2) Encode your labels (y) as integers starting with 0, i.e. 0, 1, 2, ..., [num_class - 1].\n",
      "  warnings.warn(label_encoder_deprecation_msg, UserWarning)\n",
      "c:\\users\\roel\\.virtualenvs\\diagcovid-ckc2berq\\lib\\site-packages\\xgboost\\sklearn.py:888: UserWarning: The use of label encoder in XGBClassifier is deprecated and will be removed in a future release. To remove this warning, do the following: 1) Pass option use_label_encoder=False when constructing XGBClassifier object; and 2) Encode your labels (y) as integers starting with 0, i.e. 0, 1, 2, ..., [num_class - 1].\n",
      "  warnings.warn(label_encoder_deprecation_msg, UserWarning)\n",
      "c:\\users\\roel\\.virtualenvs\\diagcovid-ckc2berq\\lib\\site-packages\\xgboost\\sklearn.py:888: UserWarning: The use of label encoder in XGBClassifier is deprecated and will be removed in a future release. To remove this warning, do the following: 1) Pass option use_label_encoder=False when constructing XGBClassifier object; and 2) Encode your labels (y) as integers starting with 0, i.e. 0, 1, 2, ..., [num_class - 1].\n",
      "  warnings.warn(label_encoder_deprecation_msg, UserWarning)\n",
      "c:\\users\\roel\\.virtualenvs\\diagcovid-ckc2berq\\lib\\site-packages\\xgboost\\sklearn.py:888: UserWarning: The use of label encoder in XGBClassifier is deprecated and will be removed in a future release. To remove this warning, do the following: 1) Pass option use_label_encoder=False when constructing XGBClassifier object; and 2) Encode your labels (y) as integers starting with 0, i.e. 0, 1, 2, ..., [num_class - 1].\n",
      "  warnings.warn(label_encoder_deprecation_msg, UserWarning)\n",
      "[flaml.automl: 05-05 19:05:23] {1147} INFO -  at 24.0s,\tbest xgboost's error=0.0458,\tbest lgbm's error=0.0415\n",
      "[flaml.automl: 05-05 19:05:23] {994} INFO - iteration 79, current learner lgbm\n",
      "[flaml.automl: 05-05 19:05:23] {1147} INFO -  at 24.2s,\tbest lgbm's error=0.0415,\tbest lgbm's error=0.0415\n",
      "[flaml.automl: 05-05 19:05:23] {994} INFO - iteration 80, current learner extra_tree\n",
      "[flaml.automl: 05-05 19:05:24] {1147} INFO -  at 25.6s,\tbest extra_tree's error=0.0477,\tbest lgbm's error=0.0415\n",
      "[flaml.automl: 05-05 19:05:24] {994} INFO - iteration 81, current learner rf\n",
      "[flaml.automl: 05-05 19:05:26] {1147} INFO -  at 27.0s,\tbest rf's error=0.0573,\tbest lgbm's error=0.0415\n",
      "[flaml.automl: 05-05 19:05:26] {994} INFO - iteration 82, current learner xgboost\n",
      "c:\\users\\roel\\.virtualenvs\\diagcovid-ckc2berq\\lib\\site-packages\\xgboost\\sklearn.py:888: UserWarning: The use of label encoder in XGBClassifier is deprecated and will be removed in a future release. To remove this warning, do the following: 1) Pass option use_label_encoder=False when constructing XGBClassifier object; and 2) Encode your labels (y) as integers starting with 0, i.e. 0, 1, 2, ..., [num_class - 1].\n",
      "  warnings.warn(label_encoder_deprecation_msg, UserWarning)\n",
      "c:\\users\\roel\\.virtualenvs\\diagcovid-ckc2berq\\lib\\site-packages\\xgboost\\sklearn.py:888: UserWarning: The use of label encoder in XGBClassifier is deprecated and will be removed in a future release. To remove this warning, do the following: 1) Pass option use_label_encoder=False when constructing XGBClassifier object; and 2) Encode your labels (y) as integers starting with 0, i.e. 0, 1, 2, ..., [num_class - 1].\n",
      "  warnings.warn(label_encoder_deprecation_msg, UserWarning)\n",
      "c:\\users\\roel\\.virtualenvs\\diagcovid-ckc2berq\\lib\\site-packages\\xgboost\\sklearn.py:888: UserWarning: The use of label encoder in XGBClassifier is deprecated and will be removed in a future release. To remove this warning, do the following: 1) Pass option use_label_encoder=False when constructing XGBClassifier object; and 2) Encode your labels (y) as integers starting with 0, i.e. 0, 1, 2, ..., [num_class - 1].\n",
      "  warnings.warn(label_encoder_deprecation_msg, UserWarning)\n",
      "c:\\users\\roel\\.virtualenvs\\diagcovid-ckc2berq\\lib\\site-packages\\xgboost\\sklearn.py:888: UserWarning: The use of label encoder in XGBClassifier is deprecated and will be removed in a future release. To remove this warning, do the following: 1) Pass option use_label_encoder=False when constructing XGBClassifier object; and 2) Encode your labels (y) as integers starting with 0, i.e. 0, 1, 2, ..., [num_class - 1].\n",
      "  warnings.warn(label_encoder_deprecation_msg, UserWarning)\n",
      "c:\\users\\roel\\.virtualenvs\\diagcovid-ckc2berq\\lib\\site-packages\\xgboost\\sklearn.py:888: UserWarning: The use of label encoder in XGBClassifier is deprecated and will be removed in a future release. To remove this warning, do the following: 1) Pass option use_label_encoder=False when constructing XGBClassifier object; and 2) Encode your labels (y) as integers starting with 0, i.e. 0, 1, 2, ..., [num_class - 1].\n",
      "  warnings.warn(label_encoder_deprecation_msg, UserWarning)\n",
      "[flaml.automl: 05-05 19:05:26] {1147} INFO -  at 27.5s,\tbest xgboost's error=0.0458,\tbest lgbm's error=0.0415\n",
      "[flaml.automl: 05-05 19:05:26] {994} INFO - iteration 83, current learner xgboost\n",
      "c:\\users\\roel\\.virtualenvs\\diagcovid-ckc2berq\\lib\\site-packages\\xgboost\\sklearn.py:888: UserWarning: The use of label encoder in XGBClassifier is deprecated and will be removed in a future release. To remove this warning, do the following: 1) Pass option use_label_encoder=False when constructing XGBClassifier object; and 2) Encode your labels (y) as integers starting with 0, i.e. 0, 1, 2, ..., [num_class - 1].\n",
      "  warnings.warn(label_encoder_deprecation_msg, UserWarning)\n",
      "c:\\users\\roel\\.virtualenvs\\diagcovid-ckc2berq\\lib\\site-packages\\xgboost\\sklearn.py:888: UserWarning: The use of label encoder in XGBClassifier is deprecated and will be removed in a future release. To remove this warning, do the following: 1) Pass option use_label_encoder=False when constructing XGBClassifier object; and 2) Encode your labels (y) as integers starting with 0, i.e. 0, 1, 2, ..., [num_class - 1].\n",
      "  warnings.warn(label_encoder_deprecation_msg, UserWarning)\n",
      "c:\\users\\roel\\.virtualenvs\\diagcovid-ckc2berq\\lib\\site-packages\\xgboost\\sklearn.py:888: UserWarning: The use of label encoder in XGBClassifier is deprecated and will be removed in a future release. To remove this warning, do the following: 1) Pass option use_label_encoder=False when constructing XGBClassifier object; and 2) Encode your labels (y) as integers starting with 0, i.e. 0, 1, 2, ..., [num_class - 1].\n",
      "  warnings.warn(label_encoder_deprecation_msg, UserWarning)\n",
      "c:\\users\\roel\\.virtualenvs\\diagcovid-ckc2berq\\lib\\site-packages\\xgboost\\sklearn.py:888: UserWarning: The use of label encoder in XGBClassifier is deprecated and will be removed in a future release. To remove this warning, do the following: 1) Pass option use_label_encoder=False when constructing XGBClassifier object; and 2) Encode your labels (y) as integers starting with 0, i.e. 0, 1, 2, ..., [num_class - 1].\n",
      "  warnings.warn(label_encoder_deprecation_msg, UserWarning)\n",
      "c:\\users\\roel\\.virtualenvs\\diagcovid-ckc2berq\\lib\\site-packages\\xgboost\\sklearn.py:888: UserWarning: The use of label encoder in XGBClassifier is deprecated and will be removed in a future release. To remove this warning, do the following: 1) Pass option use_label_encoder=False when constructing XGBClassifier object; and 2) Encode your labels (y) as integers starting with 0, i.e. 0, 1, 2, ..., [num_class - 1].\n",
      "  warnings.warn(label_encoder_deprecation_msg, UserWarning)\n",
      "[flaml.automl: 05-05 19:05:26] {1147} INFO -  at 27.6s,\tbest xgboost's error=0.0458,\tbest lgbm's error=0.0415\n",
      "[flaml.automl: 05-05 19:05:26] {994} INFO - iteration 84, current learner xgboost\n",
      "c:\\users\\roel\\.virtualenvs\\diagcovid-ckc2berq\\lib\\site-packages\\xgboost\\sklearn.py:888: UserWarning: The use of label encoder in XGBClassifier is deprecated and will be removed in a future release. To remove this warning, do the following: 1) Pass option use_label_encoder=False when constructing XGBClassifier object; and 2) Encode your labels (y) as integers starting with 0, i.e. 0, 1, 2, ..., [num_class - 1].\n",
      "  warnings.warn(label_encoder_deprecation_msg, UserWarning)\n",
      "c:\\users\\roel\\.virtualenvs\\diagcovid-ckc2berq\\lib\\site-packages\\xgboost\\sklearn.py:888: UserWarning: The use of label encoder in XGBClassifier is deprecated and will be removed in a future release. To remove this warning, do the following: 1) Pass option use_label_encoder=False when constructing XGBClassifier object; and 2) Encode your labels (y) as integers starting with 0, i.e. 0, 1, 2, ..., [num_class - 1].\n",
      "  warnings.warn(label_encoder_deprecation_msg, UserWarning)\n",
      "c:\\users\\roel\\.virtualenvs\\diagcovid-ckc2berq\\lib\\site-packages\\xgboost\\sklearn.py:888: UserWarning: The use of label encoder in XGBClassifier is deprecated and will be removed in a future release. To remove this warning, do the following: 1) Pass option use_label_encoder=False when constructing XGBClassifier object; and 2) Encode your labels (y) as integers starting with 0, i.e. 0, 1, 2, ..., [num_class - 1].\n",
      "  warnings.warn(label_encoder_deprecation_msg, UserWarning)\n",
      "c:\\users\\roel\\.virtualenvs\\diagcovid-ckc2berq\\lib\\site-packages\\xgboost\\sklearn.py:888: UserWarning: The use of label encoder in XGBClassifier is deprecated and will be removed in a future release. To remove this warning, do the following: 1) Pass option use_label_encoder=False when constructing XGBClassifier object; and 2) Encode your labels (y) as integers starting with 0, i.e. 0, 1, 2, ..., [num_class - 1].\n",
      "  warnings.warn(label_encoder_deprecation_msg, UserWarning)\n",
      "c:\\users\\roel\\.virtualenvs\\diagcovid-ckc2berq\\lib\\site-packages\\xgboost\\sklearn.py:888: UserWarning: The use of label encoder in XGBClassifier is deprecated and will be removed in a future release. To remove this warning, do the following: 1) Pass option use_label_encoder=False when constructing XGBClassifier object; and 2) Encode your labels (y) as integers starting with 0, i.e. 0, 1, 2, ..., [num_class - 1].\n",
      "  warnings.warn(label_encoder_deprecation_msg, UserWarning)\n",
      "[flaml.automl: 05-05 19:05:26] {1147} INFO -  at 27.8s,\tbest xgboost's error=0.0458,\tbest lgbm's error=0.0415\n",
      "[flaml.automl: 05-05 19:05:26] {994} INFO - iteration 85, current learner rf\n",
      "[flaml.automl: 05-05 19:05:28] {1147} INFO -  at 29.2s,\tbest rf's error=0.0573,\tbest lgbm's error=0.0415\n",
      "[flaml.automl: 05-05 19:05:28] {994} INFO - iteration 86, current learner xgboost\n",
      "c:\\users\\roel\\.virtualenvs\\diagcovid-ckc2berq\\lib\\site-packages\\xgboost\\sklearn.py:888: UserWarning: The use of label encoder in XGBClassifier is deprecated and will be removed in a future release. To remove this warning, do the following: 1) Pass option use_label_encoder=False when constructing XGBClassifier object; and 2) Encode your labels (y) as integers starting with 0, i.e. 0, 1, 2, ..., [num_class - 1].\n",
      "  warnings.warn(label_encoder_deprecation_msg, UserWarning)\n",
      "c:\\users\\roel\\.virtualenvs\\diagcovid-ckc2berq\\lib\\site-packages\\xgboost\\sklearn.py:888: UserWarning: The use of label encoder in XGBClassifier is deprecated and will be removed in a future release. To remove this warning, do the following: 1) Pass option use_label_encoder=False when constructing XGBClassifier object; and 2) Encode your labels (y) as integers starting with 0, i.e. 0, 1, 2, ..., [num_class - 1].\n",
      "  warnings.warn(label_encoder_deprecation_msg, UserWarning)\n",
      "c:\\users\\roel\\.virtualenvs\\diagcovid-ckc2berq\\lib\\site-packages\\xgboost\\sklearn.py:888: UserWarning: The use of label encoder in XGBClassifier is deprecated and will be removed in a future release. To remove this warning, do the following: 1) Pass option use_label_encoder=False when constructing XGBClassifier object; and 2) Encode your labels (y) as integers starting with 0, i.e. 0, 1, 2, ..., [num_class - 1].\n",
      "  warnings.warn(label_encoder_deprecation_msg, UserWarning)\n",
      "c:\\users\\roel\\.virtualenvs\\diagcovid-ckc2berq\\lib\\site-packages\\xgboost\\sklearn.py:888: UserWarning: The use of label encoder in XGBClassifier is deprecated and will be removed in a future release. To remove this warning, do the following: 1) Pass option use_label_encoder=False when constructing XGBClassifier object; and 2) Encode your labels (y) as integers starting with 0, i.e. 0, 1, 2, ..., [num_class - 1].\n",
      "  warnings.warn(label_encoder_deprecation_msg, UserWarning)\n",
      "c:\\users\\roel\\.virtualenvs\\diagcovid-ckc2berq\\lib\\site-packages\\xgboost\\sklearn.py:888: UserWarning: The use of label encoder in XGBClassifier is deprecated and will be removed in a future release. To remove this warning, do the following: 1) Pass option use_label_encoder=False when constructing XGBClassifier object; and 2) Encode your labels (y) as integers starting with 0, i.e. 0, 1, 2, ..., [num_class - 1].\n",
      "  warnings.warn(label_encoder_deprecation_msg, UserWarning)\n",
      "[flaml.automl: 05-05 19:05:28] {1147} INFO -  at 29.5s,\tbest xgboost's error=0.0458,\tbest lgbm's error=0.0415\n",
      "[flaml.automl: 05-05 19:05:28] {994} INFO - iteration 87, current learner lgbm\n",
      "[flaml.automl: 05-05 19:05:28] {1147} INFO -  at 29.9s,\tbest lgbm's error=0.0415,\tbest lgbm's error=0.0415\n",
      "[flaml.automl: 05-05 19:05:28] {994} INFO - iteration 88, current learner catboost\n",
      "[flaml.automl: 05-05 19:05:29] {1147} INFO -  at 30.7s,\tbest catboost's error=0.0438,\tbest lgbm's error=0.0415\n",
      "[flaml.automl: 05-05 19:05:29] {994} INFO - iteration 89, current learner rf\n",
      "[flaml.automl: 05-05 19:05:31] {1147} INFO -  at 32.1s,\tbest rf's error=0.0573,\tbest lgbm's error=0.0415\n",
      "[flaml.automl: 05-05 19:05:31] {994} INFO - iteration 90, current learner xgboost\n",
      "c:\\users\\roel\\.virtualenvs\\diagcovid-ckc2berq\\lib\\site-packages\\xgboost\\sklearn.py:888: UserWarning: The use of label encoder in XGBClassifier is deprecated and will be removed in a future release. To remove this warning, do the following: 1) Pass option use_label_encoder=False when constructing XGBClassifier object; and 2) Encode your labels (y) as integers starting with 0, i.e. 0, 1, 2, ..., [num_class - 1].\n",
      "  warnings.warn(label_encoder_deprecation_msg, UserWarning)\n",
      "c:\\users\\roel\\.virtualenvs\\diagcovid-ckc2berq\\lib\\site-packages\\xgboost\\sklearn.py:888: UserWarning: The use of label encoder in XGBClassifier is deprecated and will be removed in a future release. To remove this warning, do the following: 1) Pass option use_label_encoder=False when constructing XGBClassifier object; and 2) Encode your labels (y) as integers starting with 0, i.e. 0, 1, 2, ..., [num_class - 1].\n",
      "  warnings.warn(label_encoder_deprecation_msg, UserWarning)\n",
      "c:\\users\\roel\\.virtualenvs\\diagcovid-ckc2berq\\lib\\site-packages\\xgboost\\sklearn.py:888: UserWarning: The use of label encoder in XGBClassifier is deprecated and will be removed in a future release. To remove this warning, do the following: 1) Pass option use_label_encoder=False when constructing XGBClassifier object; and 2) Encode your labels (y) as integers starting with 0, i.e. 0, 1, 2, ..., [num_class - 1].\n",
      "  warnings.warn(label_encoder_deprecation_msg, UserWarning)\n",
      "c:\\users\\roel\\.virtualenvs\\diagcovid-ckc2berq\\lib\\site-packages\\xgboost\\sklearn.py:888: UserWarning: The use of label encoder in XGBClassifier is deprecated and will be removed in a future release. To remove this warning, do the following: 1) Pass option use_label_encoder=False when constructing XGBClassifier object; and 2) Encode your labels (y) as integers starting with 0, i.e. 0, 1, 2, ..., [num_class - 1].\n",
      "  warnings.warn(label_encoder_deprecation_msg, UserWarning)\n",
      "c:\\users\\roel\\.virtualenvs\\diagcovid-ckc2berq\\lib\\site-packages\\xgboost\\sklearn.py:888: UserWarning: The use of label encoder in XGBClassifier is deprecated and will be removed in a future release. To remove this warning, do the following: 1) Pass option use_label_encoder=False when constructing XGBClassifier object; and 2) Encode your labels (y) as integers starting with 0, i.e. 0, 1, 2, ..., [num_class - 1].\n",
      "  warnings.warn(label_encoder_deprecation_msg, UserWarning)\n",
      "[flaml.automl: 05-05 19:05:31] {1147} INFO -  at 32.3s,\tbest xgboost's error=0.0458,\tbest lgbm's error=0.0415\n",
      "[flaml.automl: 05-05 19:05:31] {994} INFO - iteration 91, current learner catboost\n",
      "[flaml.automl: 05-05 19:05:32] {1147} INFO -  at 33.2s,\tbest catboost's error=0.0422,\tbest lgbm's error=0.0415\n",
      "[flaml.automl: 05-05 19:05:32] {994} INFO - iteration 92, current learner extra_tree\n",
      "[flaml.automl: 05-05 19:05:33] {1147} INFO -  at 34.6s,\tbest extra_tree's error=0.0477,\tbest lgbm's error=0.0415\n",
      "[flaml.automl: 05-05 19:05:33] {994} INFO - iteration 93, current learner catboost\n",
      "[flaml.automl: 05-05 19:05:34] {1147} INFO -  at 35.5s,\tbest catboost's error=0.0422,\tbest lgbm's error=0.0415\n",
      "[flaml.automl: 05-05 19:05:34] {994} INFO - iteration 94, current learner catboost\n",
      "[flaml.automl: 05-05 19:05:36] {1147} INFO -  at 37.0s,\tbest catboost's error=0.0411,\tbest catboost's error=0.0411\n",
      "[flaml.automl: 05-05 19:05:36] {994} INFO - iteration 95, current learner lgbm\n",
      "[flaml.automl: 05-05 19:05:36] {1147} INFO -  at 37.2s,\tbest lgbm's error=0.0415,\tbest catboost's error=0.0411\n",
      "[flaml.automl: 05-05 19:05:36] {994} INFO - iteration 96, current learner extra_tree\n",
      "[flaml.automl: 05-05 19:05:37] {1147} INFO -  at 38.7s,\tbest extra_tree's error=0.0462,\tbest catboost's error=0.0411\n",
      "[flaml.automl: 05-05 19:05:37] {994} INFO - iteration 97, current learner rf\n",
      "[flaml.automl: 05-05 19:05:39] {1147} INFO -  at 40.1s,\tbest rf's error=0.0569,\tbest catboost's error=0.0411\n",
      "[flaml.automl: 05-05 19:05:39] {994} INFO - iteration 98, current learner catboost\n",
      "[flaml.automl: 05-05 19:05:40] {1147} INFO -  at 41.2s,\tbest catboost's error=0.0411,\tbest catboost's error=0.0411\n",
      "[flaml.automl: 05-05 19:05:40] {994} INFO - iteration 99, current learner rf\n",
      "[flaml.automl: 05-05 19:05:41] {1147} INFO -  at 42.6s,\tbest rf's error=0.0569,\tbest catboost's error=0.0411\n",
      "[flaml.automl: 05-05 19:05:41] {994} INFO - iteration 100, current learner lgbm\n",
      "[flaml.automl: 05-05 19:05:41] {1147} INFO -  at 42.7s,\tbest lgbm's error=0.0415,\tbest catboost's error=0.0411\n",
      "[flaml.automl: 05-05 19:05:41] {994} INFO - iteration 101, current learner extra_tree\n",
      "[flaml.automl: 05-05 19:05:43] {1147} INFO -  at 44.2s,\tbest extra_tree's error=0.0462,\tbest catboost's error=0.0411\n",
      "[flaml.automl: 05-05 19:05:43] {994} INFO - iteration 102, current learner catboost\n",
      "[flaml.automl: 05-05 19:05:44] {1147} INFO -  at 45.2s,\tbest catboost's error=0.0411,\tbest catboost's error=0.0411\n",
      "[flaml.automl: 05-05 19:05:44] {994} INFO - iteration 103, current learner lgbm\n",
      "[flaml.automl: 05-05 19:05:44] {1147} INFO -  at 45.5s,\tbest lgbm's error=0.0415,\tbest catboost's error=0.0411\n",
      "[flaml.automl: 05-05 19:05:44] {994} INFO - iteration 104, current learner xgboost\n",
      "c:\\users\\roel\\.virtualenvs\\diagcovid-ckc2berq\\lib\\site-packages\\xgboost\\sklearn.py:888: UserWarning: The use of label encoder in XGBClassifier is deprecated and will be removed in a future release. To remove this warning, do the following: 1) Pass option use_label_encoder=False when constructing XGBClassifier object; and 2) Encode your labels (y) as integers starting with 0, i.e. 0, 1, 2, ..., [num_class - 1].\n",
      "  warnings.warn(label_encoder_deprecation_msg, UserWarning)\n",
      "c:\\users\\roel\\.virtualenvs\\diagcovid-ckc2berq\\lib\\site-packages\\xgboost\\sklearn.py:888: UserWarning: The use of label encoder in XGBClassifier is deprecated and will be removed in a future release. To remove this warning, do the following: 1) Pass option use_label_encoder=False when constructing XGBClassifier object; and 2) Encode your labels (y) as integers starting with 0, i.e. 0, 1, 2, ..., [num_class - 1].\n",
      "  warnings.warn(label_encoder_deprecation_msg, UserWarning)\n",
      "c:\\users\\roel\\.virtualenvs\\diagcovid-ckc2berq\\lib\\site-packages\\xgboost\\sklearn.py:888: UserWarning: The use of label encoder in XGBClassifier is deprecated and will be removed in a future release. To remove this warning, do the following: 1) Pass option use_label_encoder=False when constructing XGBClassifier object; and 2) Encode your labels (y) as integers starting with 0, i.e. 0, 1, 2, ..., [num_class - 1].\n",
      "  warnings.warn(label_encoder_deprecation_msg, UserWarning)\n",
      "c:\\users\\roel\\.virtualenvs\\diagcovid-ckc2berq\\lib\\site-packages\\xgboost\\sklearn.py:888: UserWarning: The use of label encoder in XGBClassifier is deprecated and will be removed in a future release. To remove this warning, do the following: 1) Pass option use_label_encoder=False when constructing XGBClassifier object; and 2) Encode your labels (y) as integers starting with 0, i.e. 0, 1, 2, ..., [num_class - 1].\n",
      "  warnings.warn(label_encoder_deprecation_msg, UserWarning)\n",
      "c:\\users\\roel\\.virtualenvs\\diagcovid-ckc2berq\\lib\\site-packages\\xgboost\\sklearn.py:888: UserWarning: The use of label encoder in XGBClassifier is deprecated and will be removed in a future release. To remove this warning, do the following: 1) Pass option use_label_encoder=False when constructing XGBClassifier object; and 2) Encode your labels (y) as integers starting with 0, i.e. 0, 1, 2, ..., [num_class - 1].\n",
      "  warnings.warn(label_encoder_deprecation_msg, UserWarning)\n",
      "[flaml.automl: 05-05 19:05:44] {1147} INFO -  at 45.9s,\tbest xgboost's error=0.0446,\tbest catboost's error=0.0411\n",
      "[flaml.automl: 05-05 19:05:44] {994} INFO - iteration 105, current learner rf\n",
      "[flaml.automl: 05-05 19:05:46] {1147} INFO -  at 47.3s,\tbest rf's error=0.0569,\tbest catboost's error=0.0411\n",
      "[flaml.automl: 05-05 19:05:46] {994} INFO - iteration 106, current learner catboost\n",
      "[flaml.automl: 05-05 19:05:47] {1147} INFO -  at 48.2s,\tbest catboost's error=0.0411,\tbest catboost's error=0.0411\n",
      "[flaml.automl: 05-05 19:05:47] {994} INFO - iteration 107, current learner extra_tree\n",
      "[flaml.automl: 05-05 19:05:48] {1147} INFO -  at 49.6s,\tbest extra_tree's error=0.0462,\tbest catboost's error=0.0411\n",
      "[flaml.automl: 05-05 19:05:48] {994} INFO - iteration 108, current learner rf\n",
      "[flaml.automl: 05-05 19:05:50] {1147} INFO -  at 51.0s,\tbest rf's error=0.0569,\tbest catboost's error=0.0411\n",
      "[flaml.automl: 05-05 19:05:50] {994} INFO - iteration 109, current learner extra_tree\n",
      "[flaml.automl: 05-05 19:05:51] {1147} INFO -  at 52.4s,\tbest extra_tree's error=0.0462,\tbest catboost's error=0.0411\n",
      "[flaml.automl: 05-05 19:05:51] {994} INFO - iteration 110, current learner catboost\n",
      "[flaml.automl: 05-05 19:05:53] {1147} INFO -  at 54.2s,\tbest catboost's error=0.0411,\tbest catboost's error=0.0411\n",
      "[flaml.automl: 05-05 19:05:53] {994} INFO - iteration 111, current learner lgbm\n",
      "[flaml.automl: 05-05 19:05:53] {1147} INFO -  at 54.4s,\tbest lgbm's error=0.0415,\tbest catboost's error=0.0411\n",
      "[flaml.automl: 05-05 19:05:53] {994} INFO - iteration 112, current learner extra_tree\n",
      "[flaml.automl: 05-05 19:05:54] {1147} INFO -  at 55.8s,\tbest extra_tree's error=0.0462,\tbest catboost's error=0.0411\n",
      "[flaml.automl: 05-05 19:05:54] {994} INFO - iteration 113, current learner xgboost\n",
      "c:\\users\\roel\\.virtualenvs\\diagcovid-ckc2berq\\lib\\site-packages\\xgboost\\sklearn.py:888: UserWarning: The use of label encoder in XGBClassifier is deprecated and will be removed in a future release. To remove this warning, do the following: 1) Pass option use_label_encoder=False when constructing XGBClassifier object; and 2) Encode your labels (y) as integers starting with 0, i.e. 0, 1, 2, ..., [num_class - 1].\n",
      "  warnings.warn(label_encoder_deprecation_msg, UserWarning)\n",
      "c:\\users\\roel\\.virtualenvs\\diagcovid-ckc2berq\\lib\\site-packages\\xgboost\\sklearn.py:888: UserWarning: The use of label encoder in XGBClassifier is deprecated and will be removed in a future release. To remove this warning, do the following: 1) Pass option use_label_encoder=False when constructing XGBClassifier object; and 2) Encode your labels (y) as integers starting with 0, i.e. 0, 1, 2, ..., [num_class - 1].\n",
      "  warnings.warn(label_encoder_deprecation_msg, UserWarning)\n",
      "c:\\users\\roel\\.virtualenvs\\diagcovid-ckc2berq\\lib\\site-packages\\xgboost\\sklearn.py:888: UserWarning: The use of label encoder in XGBClassifier is deprecated and will be removed in a future release. To remove this warning, do the following: 1) Pass option use_label_encoder=False when constructing XGBClassifier object; and 2) Encode your labels (y) as integers starting with 0, i.e. 0, 1, 2, ..., [num_class - 1].\n",
      "  warnings.warn(label_encoder_deprecation_msg, UserWarning)\n",
      "c:\\users\\roel\\.virtualenvs\\diagcovid-ckc2berq\\lib\\site-packages\\xgboost\\sklearn.py:888: UserWarning: The use of label encoder in XGBClassifier is deprecated and will be removed in a future release. To remove this warning, do the following: 1) Pass option use_label_encoder=False when constructing XGBClassifier object; and 2) Encode your labels (y) as integers starting with 0, i.e. 0, 1, 2, ..., [num_class - 1].\n",
      "  warnings.warn(label_encoder_deprecation_msg, UserWarning)\n",
      "c:\\users\\roel\\.virtualenvs\\diagcovid-ckc2berq\\lib\\site-packages\\xgboost\\sklearn.py:888: UserWarning: The use of label encoder in XGBClassifier is deprecated and will be removed in a future release. To remove this warning, do the following: 1) Pass option use_label_encoder=False when constructing XGBClassifier object; and 2) Encode your labels (y) as integers starting with 0, i.e. 0, 1, 2, ..., [num_class - 1].\n",
      "  warnings.warn(label_encoder_deprecation_msg, UserWarning)\n",
      "[flaml.automl: 05-05 19:05:55] {1147} INFO -  at 56.6s,\tbest xgboost's error=0.0445,\tbest catboost's error=0.0411\n",
      "[flaml.automl: 05-05 19:05:55] {994} INFO - iteration 114, current learner extra_tree\n",
      "[flaml.automl: 05-05 19:05:57] {1147} INFO -  at 58.0s,\tbest extra_tree's error=0.0462,\tbest catboost's error=0.0411\n",
      "[flaml.automl: 05-05 19:05:57] {994} INFO - iteration 115, current learner lgbm\n",
      "[flaml.automl: 05-05 19:05:57] {1147} INFO -  at 58.2s,\tbest lgbm's error=0.0415,\tbest catboost's error=0.0411\n",
      "[flaml.automl: 05-05 19:05:57] {994} INFO - iteration 116, current learner lgbm\n",
      "[flaml.automl: 05-05 19:05:57] {1147} INFO -  at 58.4s,\tbest lgbm's error=0.0415,\tbest catboost's error=0.0411\n",
      "[flaml.automl: 05-05 19:05:57] {994} INFO - iteration 117, current learner xgboost\n",
      "c:\\users\\roel\\.virtualenvs\\diagcovid-ckc2berq\\lib\\site-packages\\xgboost\\sklearn.py:888: UserWarning: The use of label encoder in XGBClassifier is deprecated and will be removed in a future release. To remove this warning, do the following: 1) Pass option use_label_encoder=False when constructing XGBClassifier object; and 2) Encode your labels (y) as integers starting with 0, i.e. 0, 1, 2, ..., [num_class - 1].\n",
      "  warnings.warn(label_encoder_deprecation_msg, UserWarning)\n",
      "c:\\users\\roel\\.virtualenvs\\diagcovid-ckc2berq\\lib\\site-packages\\xgboost\\sklearn.py:888: UserWarning: The use of label encoder in XGBClassifier is deprecated and will be removed in a future release. To remove this warning, do the following: 1) Pass option use_label_encoder=False when constructing XGBClassifier object; and 2) Encode your labels (y) as integers starting with 0, i.e. 0, 1, 2, ..., [num_class - 1].\n",
      "  warnings.warn(label_encoder_deprecation_msg, UserWarning)\n",
      "c:\\users\\roel\\.virtualenvs\\diagcovid-ckc2berq\\lib\\site-packages\\xgboost\\sklearn.py:888: UserWarning: The use of label encoder in XGBClassifier is deprecated and will be removed in a future release. To remove this warning, do the following: 1) Pass option use_label_encoder=False when constructing XGBClassifier object; and 2) Encode your labels (y) as integers starting with 0, i.e. 0, 1, 2, ..., [num_class - 1].\n",
      "  warnings.warn(label_encoder_deprecation_msg, UserWarning)\n",
      "c:\\users\\roel\\.virtualenvs\\diagcovid-ckc2berq\\lib\\site-packages\\xgboost\\sklearn.py:888: UserWarning: The use of label encoder in XGBClassifier is deprecated and will be removed in a future release. To remove this warning, do the following: 1) Pass option use_label_encoder=False when constructing XGBClassifier object; and 2) Encode your labels (y) as integers starting with 0, i.e. 0, 1, 2, ..., [num_class - 1].\n",
      "  warnings.warn(label_encoder_deprecation_msg, UserWarning)\n",
      "c:\\users\\roel\\.virtualenvs\\diagcovid-ckc2berq\\lib\\site-packages\\xgboost\\sklearn.py:888: UserWarning: The use of label encoder in XGBClassifier is deprecated and will be removed in a future release. To remove this warning, do the following: 1) Pass option use_label_encoder=False when constructing XGBClassifier object; and 2) Encode your labels (y) as integers starting with 0, i.e. 0, 1, 2, ..., [num_class - 1].\n",
      "  warnings.warn(label_encoder_deprecation_msg, UserWarning)\n",
      "[flaml.automl: 05-05 19:05:57] {1147} INFO -  at 58.7s,\tbest xgboost's error=0.0445,\tbest catboost's error=0.0411\n",
      "[flaml.automl: 05-05 19:05:57] {994} INFO - iteration 118, current learner xgboost\n",
      "c:\\users\\roel\\.virtualenvs\\diagcovid-ckc2berq\\lib\\site-packages\\xgboost\\sklearn.py:888: UserWarning: The use of label encoder in XGBClassifier is deprecated and will be removed in a future release. To remove this warning, do the following: 1) Pass option use_label_encoder=False when constructing XGBClassifier object; and 2) Encode your labels (y) as integers starting with 0, i.e. 0, 1, 2, ..., [num_class - 1].\n",
      "  warnings.warn(label_encoder_deprecation_msg, UserWarning)\n",
      "c:\\users\\roel\\.virtualenvs\\diagcovid-ckc2berq\\lib\\site-packages\\xgboost\\sklearn.py:888: UserWarning: The use of label encoder in XGBClassifier is deprecated and will be removed in a future release. To remove this warning, do the following: 1) Pass option use_label_encoder=False when constructing XGBClassifier object; and 2) Encode your labels (y) as integers starting with 0, i.e. 0, 1, 2, ..., [num_class - 1].\n",
      "  warnings.warn(label_encoder_deprecation_msg, UserWarning)\n",
      "c:\\users\\roel\\.virtualenvs\\diagcovid-ckc2berq\\lib\\site-packages\\xgboost\\sklearn.py:888: UserWarning: The use of label encoder in XGBClassifier is deprecated and will be removed in a future release. To remove this warning, do the following: 1) Pass option use_label_encoder=False when constructing XGBClassifier object; and 2) Encode your labels (y) as integers starting with 0, i.e. 0, 1, 2, ..., [num_class - 1].\n",
      "  warnings.warn(label_encoder_deprecation_msg, UserWarning)\n",
      "c:\\users\\roel\\.virtualenvs\\diagcovid-ckc2berq\\lib\\site-packages\\xgboost\\sklearn.py:888: UserWarning: The use of label encoder in XGBClassifier is deprecated and will be removed in a future release. To remove this warning, do the following: 1) Pass option use_label_encoder=False when constructing XGBClassifier object; and 2) Encode your labels (y) as integers starting with 0, i.e. 0, 1, 2, ..., [num_class - 1].\n",
      "  warnings.warn(label_encoder_deprecation_msg, UserWarning)\n",
      "c:\\users\\roel\\.virtualenvs\\diagcovid-ckc2berq\\lib\\site-packages\\xgboost\\sklearn.py:888: UserWarning: The use of label encoder in XGBClassifier is deprecated and will be removed in a future release. To remove this warning, do the following: 1) Pass option use_label_encoder=False when constructing XGBClassifier object; and 2) Encode your labels (y) as integers starting with 0, i.e. 0, 1, 2, ..., [num_class - 1].\n",
      "  warnings.warn(label_encoder_deprecation_msg, UserWarning)\n",
      "c:\\users\\roel\\.virtualenvs\\diagcovid-ckc2berq\\lib\\site-packages\\xgboost\\sklearn.py:888: UserWarning: The use of label encoder in XGBClassifier is deprecated and will be removed in a future release. To remove this warning, do the following: 1) Pass option use_label_encoder=False when constructing XGBClassifier object; and 2) Encode your labels (y) as integers starting with 0, i.e. 0, 1, 2, ..., [num_class - 1].\n",
      "  warnings.warn(label_encoder_deprecation_msg, UserWarning)\n",
      "[flaml.automl: 05-05 19:05:58] {1147} INFO -  at 59.3s,\tbest xgboost's error=0.0411,\tbest xgboost's error=0.0411\n",
      "[flaml.automl: 05-05 19:05:58] {994} INFO - iteration 119, current learner lgbm\n",
      "[flaml.automl: 05-05 19:05:58] {1147} INFO -  at 59.5s,\tbest lgbm's error=0.0415,\tbest xgboost's error=0.0411\n",
      "[flaml.automl: 05-05 19:05:58] {994} INFO - iteration 120, current learner xgboost\n",
      "c:\\users\\roel\\.virtualenvs\\diagcovid-ckc2berq\\lib\\site-packages\\xgboost\\sklearn.py:888: UserWarning: The use of label encoder in XGBClassifier is deprecated and will be removed in a future release. To remove this warning, do the following: 1) Pass option use_label_encoder=False when constructing XGBClassifier object; and 2) Encode your labels (y) as integers starting with 0, i.e. 0, 1, 2, ..., [num_class - 1].\n",
      "  warnings.warn(label_encoder_deprecation_msg, UserWarning)\n",
      "c:\\users\\roel\\.virtualenvs\\diagcovid-ckc2berq\\lib\\site-packages\\xgboost\\sklearn.py:888: UserWarning: The use of label encoder in XGBClassifier is deprecated and will be removed in a future release. To remove this warning, do the following: 1) Pass option use_label_encoder=False when constructing XGBClassifier object; and 2) Encode your labels (y) as integers starting with 0, i.e. 0, 1, 2, ..., [num_class - 1].\n",
      "  warnings.warn(label_encoder_deprecation_msg, UserWarning)\n",
      "c:\\users\\roel\\.virtualenvs\\diagcovid-ckc2berq\\lib\\site-packages\\xgboost\\sklearn.py:888: UserWarning: The use of label encoder in XGBClassifier is deprecated and will be removed in a future release. To remove this warning, do the following: 1) Pass option use_label_encoder=False when constructing XGBClassifier object; and 2) Encode your labels (y) as integers starting with 0, i.e. 0, 1, 2, ..., [num_class - 1].\n",
      "  warnings.warn(label_encoder_deprecation_msg, UserWarning)\n",
      "c:\\users\\roel\\.virtualenvs\\diagcovid-ckc2berq\\lib\\site-packages\\xgboost\\sklearn.py:888: UserWarning: The use of label encoder in XGBClassifier is deprecated and will be removed in a future release. To remove this warning, do the following: 1) Pass option use_label_encoder=False when constructing XGBClassifier object; and 2) Encode your labels (y) as integers starting with 0, i.e. 0, 1, 2, ..., [num_class - 1].\n",
      "  warnings.warn(label_encoder_deprecation_msg, UserWarning)\n",
      "c:\\users\\roel\\.virtualenvs\\diagcovid-ckc2berq\\lib\\site-packages\\xgboost\\sklearn.py:888: UserWarning: The use of label encoder in XGBClassifier is deprecated and will be removed in a future release. To remove this warning, do the following: 1) Pass option use_label_encoder=False when constructing XGBClassifier object; and 2) Encode your labels (y) as integers starting with 0, i.e. 0, 1, 2, ..., [num_class - 1].\n",
      "  warnings.warn(label_encoder_deprecation_msg, UserWarning)\n",
      "[flaml.automl: 05-05 19:05:59] {1147} INFO -  at 60.4s,\tbest xgboost's error=0.0411,\tbest xgboost's error=0.0411\n",
      "[flaml.automl: 05-05 19:05:59] {994} INFO - iteration 121, current learner xgboost\n",
      "c:\\users\\roel\\.virtualenvs\\diagcovid-ckc2berq\\lib\\site-packages\\xgboost\\sklearn.py:888: UserWarning: The use of label encoder in XGBClassifier is deprecated and will be removed in a future release. To remove this warning, do the following: 1) Pass option use_label_encoder=False when constructing XGBClassifier object; and 2) Encode your labels (y) as integers starting with 0, i.e. 0, 1, 2, ..., [num_class - 1].\n",
      "  warnings.warn(label_encoder_deprecation_msg, UserWarning)\n",
      "c:\\users\\roel\\.virtualenvs\\diagcovid-ckc2berq\\lib\\site-packages\\xgboost\\sklearn.py:888: UserWarning: The use of label encoder in XGBClassifier is deprecated and will be removed in a future release. To remove this warning, do the following: 1) Pass option use_label_encoder=False when constructing XGBClassifier object; and 2) Encode your labels (y) as integers starting with 0, i.e. 0, 1, 2, ..., [num_class - 1].\n",
      "  warnings.warn(label_encoder_deprecation_msg, UserWarning)\n",
      "c:\\users\\roel\\.virtualenvs\\diagcovid-ckc2berq\\lib\\site-packages\\xgboost\\sklearn.py:888: UserWarning: The use of label encoder in XGBClassifier is deprecated and will be removed in a future release. To remove this warning, do the following: 1) Pass option use_label_encoder=False when constructing XGBClassifier object; and 2) Encode your labels (y) as integers starting with 0, i.e. 0, 1, 2, ..., [num_class - 1].\n",
      "  warnings.warn(label_encoder_deprecation_msg, UserWarning)\n",
      "c:\\users\\roel\\.virtualenvs\\diagcovid-ckc2berq\\lib\\site-packages\\xgboost\\sklearn.py:888: UserWarning: The use of label encoder in XGBClassifier is deprecated and will be removed in a future release. To remove this warning, do the following: 1) Pass option use_label_encoder=False when constructing XGBClassifier object; and 2) Encode your labels (y) as integers starting with 0, i.e. 0, 1, 2, ..., [num_class - 1].\n",
      "  warnings.warn(label_encoder_deprecation_msg, UserWarning)\n",
      "c:\\users\\roel\\.virtualenvs\\diagcovid-ckc2berq\\lib\\site-packages\\xgboost\\sklearn.py:888: UserWarning: The use of label encoder in XGBClassifier is deprecated and will be removed in a future release. To remove this warning, do the following: 1) Pass option use_label_encoder=False when constructing XGBClassifier object; and 2) Encode your labels (y) as integers starting with 0, i.e. 0, 1, 2, ..., [num_class - 1].\n",
      "  warnings.warn(label_encoder_deprecation_msg, UserWarning)\n",
      "[flaml.automl: 05-05 19:06:00] {1147} INFO -  at 61.0s,\tbest xgboost's error=0.0411,\tbest xgboost's error=0.0411\n",
      "[flaml.automl: 05-05 19:06:00] {994} INFO - iteration 122, current learner extra_tree\n",
      "[flaml.automl: 05-05 19:06:01] {1147} INFO -  at 62.4s,\tbest extra_tree's error=0.0433,\tbest xgboost's error=0.0411\n",
      "[flaml.automl: 05-05 19:06:01] {994} INFO - iteration 123, current learner xgboost\n",
      "c:\\users\\roel\\.virtualenvs\\diagcovid-ckc2berq\\lib\\site-packages\\xgboost\\sklearn.py:888: UserWarning: The use of label encoder in XGBClassifier is deprecated and will be removed in a future release. To remove this warning, do the following: 1) Pass option use_label_encoder=False when constructing XGBClassifier object; and 2) Encode your labels (y) as integers starting with 0, i.e. 0, 1, 2, ..., [num_class - 1].\n",
      "  warnings.warn(label_encoder_deprecation_msg, UserWarning)\n",
      "c:\\users\\roel\\.virtualenvs\\diagcovid-ckc2berq\\lib\\site-packages\\xgboost\\sklearn.py:888: UserWarning: The use of label encoder in XGBClassifier is deprecated and will be removed in a future release. To remove this warning, do the following: 1) Pass option use_label_encoder=False when constructing XGBClassifier object; and 2) Encode your labels (y) as integers starting with 0, i.e. 0, 1, 2, ..., [num_class - 1].\n",
      "  warnings.warn(label_encoder_deprecation_msg, UserWarning)\n",
      "c:\\users\\roel\\.virtualenvs\\diagcovid-ckc2berq\\lib\\site-packages\\xgboost\\sklearn.py:888: UserWarning: The use of label encoder in XGBClassifier is deprecated and will be removed in a future release. To remove this warning, do the following: 1) Pass option use_label_encoder=False when constructing XGBClassifier object; and 2) Encode your labels (y) as integers starting with 0, i.e. 0, 1, 2, ..., [num_class - 1].\n",
      "  warnings.warn(label_encoder_deprecation_msg, UserWarning)\n",
      "c:\\users\\roel\\.virtualenvs\\diagcovid-ckc2berq\\lib\\site-packages\\xgboost\\sklearn.py:888: UserWarning: The use of label encoder in XGBClassifier is deprecated and will be removed in a future release. To remove this warning, do the following: 1) Pass option use_label_encoder=False when constructing XGBClassifier object; and 2) Encode your labels (y) as integers starting with 0, i.e. 0, 1, 2, ..., [num_class - 1].\n",
      "  warnings.warn(label_encoder_deprecation_msg, UserWarning)\n",
      "c:\\users\\roel\\.virtualenvs\\diagcovid-ckc2berq\\lib\\site-packages\\xgboost\\sklearn.py:888: UserWarning: The use of label encoder in XGBClassifier is deprecated and will be removed in a future release. To remove this warning, do the following: 1) Pass option use_label_encoder=False when constructing XGBClassifier object; and 2) Encode your labels (y) as integers starting with 0, i.e. 0, 1, 2, ..., [num_class - 1].\n",
      "  warnings.warn(label_encoder_deprecation_msg, UserWarning)\n",
      "[flaml.automl: 05-05 19:06:01] {1147} INFO -  at 62.9s,\tbest xgboost's error=0.0411,\tbest xgboost's error=0.0411\n",
      "[flaml.automl: 05-05 19:06:01] {994} INFO - iteration 124, current learner lgbm\n",
      "[flaml.automl: 05-05 19:06:02] {1147} INFO -  at 63.0s,\tbest lgbm's error=0.0415,\tbest xgboost's error=0.0411\n",
      "[flaml.automl: 05-05 19:06:02] {994} INFO - iteration 125, current learner lgbm\n",
      "[flaml.automl: 05-05 19:06:02] {1147} INFO -  at 63.5s,\tbest lgbm's error=0.0415,\tbest xgboost's error=0.0411\n",
      "[flaml.automl: 05-05 19:06:02] {994} INFO - iteration 126, current learner lgbm\n",
      "[flaml.automl: 05-05 19:06:02] {1147} INFO -  at 63.6s,\tbest lgbm's error=0.0415,\tbest xgboost's error=0.0411\n",
      "[flaml.automl: 05-05 19:06:02] {994} INFO - iteration 127, current learner lgbm\n",
      "[flaml.automl: 05-05 19:06:03] {1147} INFO -  at 64.0s,\tbest lgbm's error=0.0415,\tbest xgboost's error=0.0411\n",
      "[flaml.automl: 05-05 19:06:03] {994} INFO - iteration 128, current learner rf\n",
      "[flaml.automl: 05-05 19:06:04] {1147} INFO -  at 65.5s,\tbest rf's error=0.0569,\tbest xgboost's error=0.0411\n",
      "[flaml.automl: 05-05 19:06:04] {994} INFO - iteration 129, current learner xgboost\n",
      "c:\\users\\roel\\.virtualenvs\\diagcovid-ckc2berq\\lib\\site-packages\\xgboost\\sklearn.py:888: UserWarning: The use of label encoder in XGBClassifier is deprecated and will be removed in a future release. To remove this warning, do the following: 1) Pass option use_label_encoder=False when constructing XGBClassifier object; and 2) Encode your labels (y) as integers starting with 0, i.e. 0, 1, 2, ..., [num_class - 1].\n",
      "  warnings.warn(label_encoder_deprecation_msg, UserWarning)\n",
      "c:\\users\\roel\\.virtualenvs\\diagcovid-ckc2berq\\lib\\site-packages\\xgboost\\sklearn.py:888: UserWarning: The use of label encoder in XGBClassifier is deprecated and will be removed in a future release. To remove this warning, do the following: 1) Pass option use_label_encoder=False when constructing XGBClassifier object; and 2) Encode your labels (y) as integers starting with 0, i.e. 0, 1, 2, ..., [num_class - 1].\n",
      "  warnings.warn(label_encoder_deprecation_msg, UserWarning)\n",
      "c:\\users\\roel\\.virtualenvs\\diagcovid-ckc2berq\\lib\\site-packages\\xgboost\\sklearn.py:888: UserWarning: The use of label encoder in XGBClassifier is deprecated and will be removed in a future release. To remove this warning, do the following: 1) Pass option use_label_encoder=False when constructing XGBClassifier object; and 2) Encode your labels (y) as integers starting with 0, i.e. 0, 1, 2, ..., [num_class - 1].\n",
      "  warnings.warn(label_encoder_deprecation_msg, UserWarning)\n",
      "c:\\users\\roel\\.virtualenvs\\diagcovid-ckc2berq\\lib\\site-packages\\xgboost\\sklearn.py:888: UserWarning: The use of label encoder in XGBClassifier is deprecated and will be removed in a future release. To remove this warning, do the following: 1) Pass option use_label_encoder=False when constructing XGBClassifier object; and 2) Encode your labels (y) as integers starting with 0, i.e. 0, 1, 2, ..., [num_class - 1].\n",
      "  warnings.warn(label_encoder_deprecation_msg, UserWarning)\n",
      "c:\\users\\roel\\.virtualenvs\\diagcovid-ckc2berq\\lib\\site-packages\\xgboost\\sklearn.py:888: UserWarning: The use of label encoder in XGBClassifier is deprecated and will be removed in a future release. To remove this warning, do the following: 1) Pass option use_label_encoder=False when constructing XGBClassifier object; and 2) Encode your labels (y) as integers starting with 0, i.e. 0, 1, 2, ..., [num_class - 1].\n",
      "  warnings.warn(label_encoder_deprecation_msg, UserWarning)\n",
      "[flaml.automl: 05-05 19:06:04] {1147} INFO -  at 65.8s,\tbest xgboost's error=0.0411,\tbest xgboost's error=0.0411\n",
      "[flaml.automl: 05-05 19:06:04] {994} INFO - iteration 130, current learner catboost\n",
      "[flaml.automl: 05-05 19:06:05] {1147} INFO -  at 66.9s,\tbest catboost's error=0.0411,\tbest xgboost's error=0.0411\n",
      "[flaml.automl: 05-05 19:06:05] {994} INFO - iteration 131, current learner xgboost\n",
      "c:\\users\\roel\\.virtualenvs\\diagcovid-ckc2berq\\lib\\site-packages\\xgboost\\sklearn.py:888: UserWarning: The use of label encoder in XGBClassifier is deprecated and will be removed in a future release. To remove this warning, do the following: 1) Pass option use_label_encoder=False when constructing XGBClassifier object; and 2) Encode your labels (y) as integers starting with 0, i.e. 0, 1, 2, ..., [num_class - 1].\n",
      "  warnings.warn(label_encoder_deprecation_msg, UserWarning)\n",
      "c:\\users\\roel\\.virtualenvs\\diagcovid-ckc2berq\\lib\\site-packages\\xgboost\\sklearn.py:888: UserWarning: The use of label encoder in XGBClassifier is deprecated and will be removed in a future release. To remove this warning, do the following: 1) Pass option use_label_encoder=False when constructing XGBClassifier object; and 2) Encode your labels (y) as integers starting with 0, i.e. 0, 1, 2, ..., [num_class - 1].\n",
      "  warnings.warn(label_encoder_deprecation_msg, UserWarning)\n",
      "c:\\users\\roel\\.virtualenvs\\diagcovid-ckc2berq\\lib\\site-packages\\xgboost\\sklearn.py:888: UserWarning: The use of label encoder in XGBClassifier is deprecated and will be removed in a future release. To remove this warning, do the following: 1) Pass option use_label_encoder=False when constructing XGBClassifier object; and 2) Encode your labels (y) as integers starting with 0, i.e. 0, 1, 2, ..., [num_class - 1].\n",
      "  warnings.warn(label_encoder_deprecation_msg, UserWarning)\n",
      "c:\\users\\roel\\.virtualenvs\\diagcovid-ckc2berq\\lib\\site-packages\\xgboost\\sklearn.py:888: UserWarning: The use of label encoder in XGBClassifier is deprecated and will be removed in a future release. To remove this warning, do the following: 1) Pass option use_label_encoder=False when constructing XGBClassifier object; and 2) Encode your labels (y) as integers starting with 0, i.e. 0, 1, 2, ..., [num_class - 1].\n",
      "  warnings.warn(label_encoder_deprecation_msg, UserWarning)\n",
      "c:\\users\\roel\\.virtualenvs\\diagcovid-ckc2berq\\lib\\site-packages\\xgboost\\sklearn.py:888: UserWarning: The use of label encoder in XGBClassifier is deprecated and will be removed in a future release. To remove this warning, do the following: 1) Pass option use_label_encoder=False when constructing XGBClassifier object; and 2) Encode your labels (y) as integers starting with 0, i.e. 0, 1, 2, ..., [num_class - 1].\n",
      "  warnings.warn(label_encoder_deprecation_msg, UserWarning)\n",
      "[flaml.automl: 05-05 19:06:06] {1147} INFO -  at 67.4s,\tbest xgboost's error=0.0411,\tbest xgboost's error=0.0411\n",
      "[flaml.automl: 05-05 19:06:06] {994} INFO - iteration 132, current learner xgboost\n",
      "c:\\users\\roel\\.virtualenvs\\diagcovid-ckc2berq\\lib\\site-packages\\xgboost\\sklearn.py:888: UserWarning: The use of label encoder in XGBClassifier is deprecated and will be removed in a future release. To remove this warning, do the following: 1) Pass option use_label_encoder=False when constructing XGBClassifier object; and 2) Encode your labels (y) as integers starting with 0, i.e. 0, 1, 2, ..., [num_class - 1].\n",
      "  warnings.warn(label_encoder_deprecation_msg, UserWarning)\n",
      "c:\\users\\roel\\.virtualenvs\\diagcovid-ckc2berq\\lib\\site-packages\\xgboost\\sklearn.py:888: UserWarning: The use of label encoder in XGBClassifier is deprecated and will be removed in a future release. To remove this warning, do the following: 1) Pass option use_label_encoder=False when constructing XGBClassifier object; and 2) Encode your labels (y) as integers starting with 0, i.e. 0, 1, 2, ..., [num_class - 1].\n",
      "  warnings.warn(label_encoder_deprecation_msg, UserWarning)\n",
      "c:\\users\\roel\\.virtualenvs\\diagcovid-ckc2berq\\lib\\site-packages\\xgboost\\sklearn.py:888: UserWarning: The use of label encoder in XGBClassifier is deprecated and will be removed in a future release. To remove this warning, do the following: 1) Pass option use_label_encoder=False when constructing XGBClassifier object; and 2) Encode your labels (y) as integers starting with 0, i.e. 0, 1, 2, ..., [num_class - 1].\n",
      "  warnings.warn(label_encoder_deprecation_msg, UserWarning)\n",
      "c:\\users\\roel\\.virtualenvs\\diagcovid-ckc2berq\\lib\\site-packages\\xgboost\\sklearn.py:888: UserWarning: The use of label encoder in XGBClassifier is deprecated and will be removed in a future release. To remove this warning, do the following: 1) Pass option use_label_encoder=False when constructing XGBClassifier object; and 2) Encode your labels (y) as integers starting with 0, i.e. 0, 1, 2, ..., [num_class - 1].\n",
      "  warnings.warn(label_encoder_deprecation_msg, UserWarning)\n",
      "c:\\users\\roel\\.virtualenvs\\diagcovid-ckc2berq\\lib\\site-packages\\xgboost\\sklearn.py:888: UserWarning: The use of label encoder in XGBClassifier is deprecated and will be removed in a future release. To remove this warning, do the following: 1) Pass option use_label_encoder=False when constructing XGBClassifier object; and 2) Encode your labels (y) as integers starting with 0, i.e. 0, 1, 2, ..., [num_class - 1].\n",
      "  warnings.warn(label_encoder_deprecation_msg, UserWarning)\n",
      "[flaml.automl: 05-05 19:06:06] {1147} INFO -  at 67.8s,\tbest xgboost's error=0.0411,\tbest xgboost's error=0.0411\n",
      "[flaml.automl: 05-05 19:06:06] {994} INFO - iteration 133, current learner lgbm\n",
      "[flaml.automl: 05-05 19:06:07] {1147} INFO -  at 68.0s,\tbest lgbm's error=0.0415,\tbest xgboost's error=0.0411\n",
      "[flaml.automl: 05-05 19:06:07] {994} INFO - iteration 134, current learner rf\n",
      "[flaml.automl: 05-05 19:06:08] {1147} INFO -  at 69.4s,\tbest rf's error=0.0569,\tbest xgboost's error=0.0411\n",
      "[flaml.automl: 05-05 19:06:08] {994} INFO - iteration 135, current learner xgboost\n",
      "c:\\users\\roel\\.virtualenvs\\diagcovid-ckc2berq\\lib\\site-packages\\xgboost\\sklearn.py:888: UserWarning: The use of label encoder in XGBClassifier is deprecated and will be removed in a future release. To remove this warning, do the following: 1) Pass option use_label_encoder=False when constructing XGBClassifier object; and 2) Encode your labels (y) as integers starting with 0, i.e. 0, 1, 2, ..., [num_class - 1].\n",
      "  warnings.warn(label_encoder_deprecation_msg, UserWarning)\n",
      "c:\\users\\roel\\.virtualenvs\\diagcovid-ckc2berq\\lib\\site-packages\\xgboost\\sklearn.py:888: UserWarning: The use of label encoder in XGBClassifier is deprecated and will be removed in a future release. To remove this warning, do the following: 1) Pass option use_label_encoder=False when constructing XGBClassifier object; and 2) Encode your labels (y) as integers starting with 0, i.e. 0, 1, 2, ..., [num_class - 1].\n",
      "  warnings.warn(label_encoder_deprecation_msg, UserWarning)\n",
      "c:\\users\\roel\\.virtualenvs\\diagcovid-ckc2berq\\lib\\site-packages\\xgboost\\sklearn.py:888: UserWarning: The use of label encoder in XGBClassifier is deprecated and will be removed in a future release. To remove this warning, do the following: 1) Pass option use_label_encoder=False when constructing XGBClassifier object; and 2) Encode your labels (y) as integers starting with 0, i.e. 0, 1, 2, ..., [num_class - 1].\n",
      "  warnings.warn(label_encoder_deprecation_msg, UserWarning)\n",
      "c:\\users\\roel\\.virtualenvs\\diagcovid-ckc2berq\\lib\\site-packages\\xgboost\\sklearn.py:888: UserWarning: The use of label encoder in XGBClassifier is deprecated and will be removed in a future release. To remove this warning, do the following: 1) Pass option use_label_encoder=False when constructing XGBClassifier object; and 2) Encode your labels (y) as integers starting with 0, i.e. 0, 1, 2, ..., [num_class - 1].\n",
      "  warnings.warn(label_encoder_deprecation_msg, UserWarning)\n",
      "c:\\users\\roel\\.virtualenvs\\diagcovid-ckc2berq\\lib\\site-packages\\xgboost\\sklearn.py:888: UserWarning: The use of label encoder in XGBClassifier is deprecated and will be removed in a future release. To remove this warning, do the following: 1) Pass option use_label_encoder=False when constructing XGBClassifier object; and 2) Encode your labels (y) as integers starting with 0, i.e. 0, 1, 2, ..., [num_class - 1].\n",
      "  warnings.warn(label_encoder_deprecation_msg, UserWarning)\n",
      "[flaml.automl: 05-05 19:06:08] {1147} INFO -  at 69.8s,\tbest xgboost's error=0.0411,\tbest xgboost's error=0.0411\n",
      "[flaml.automl: 05-05 19:06:08] {994} INFO - iteration 136, current learner extra_tree\n",
      "[flaml.automl: 05-05 19:06:10] {1147} INFO -  at 71.3s,\tbest extra_tree's error=0.0433,\tbest xgboost's error=0.0411\n",
      "[flaml.automl: 05-05 19:06:10] {994} INFO - iteration 137, current learner catboost\n",
      "[flaml.automl: 05-05 19:06:11] {1147} INFO -  at 72.3s,\tbest catboost's error=0.0411,\tbest xgboost's error=0.0411\n",
      "[flaml.automl: 05-05 19:06:11] {994} INFO - iteration 138, current learner lgbm\n",
      "[flaml.automl: 05-05 19:06:11] {1147} INFO -  at 72.4s,\tbest lgbm's error=0.0415,\tbest xgboost's error=0.0411\n",
      "[flaml.automl: 05-05 19:06:11] {994} INFO - iteration 139, current learner xgboost\n",
      "c:\\users\\roel\\.virtualenvs\\diagcovid-ckc2berq\\lib\\site-packages\\xgboost\\sklearn.py:888: UserWarning: The use of label encoder in XGBClassifier is deprecated and will be removed in a future release. To remove this warning, do the following: 1) Pass option use_label_encoder=False when constructing XGBClassifier object; and 2) Encode your labels (y) as integers starting with 0, i.e. 0, 1, 2, ..., [num_class - 1].\n",
      "  warnings.warn(label_encoder_deprecation_msg, UserWarning)\n",
      "c:\\users\\roel\\.virtualenvs\\diagcovid-ckc2berq\\lib\\site-packages\\xgboost\\sklearn.py:888: UserWarning: The use of label encoder in XGBClassifier is deprecated and will be removed in a future release. To remove this warning, do the following: 1) Pass option use_label_encoder=False when constructing XGBClassifier object; and 2) Encode your labels (y) as integers starting with 0, i.e. 0, 1, 2, ..., [num_class - 1].\n",
      "  warnings.warn(label_encoder_deprecation_msg, UserWarning)\n",
      "c:\\users\\roel\\.virtualenvs\\diagcovid-ckc2berq\\lib\\site-packages\\xgboost\\sklearn.py:888: UserWarning: The use of label encoder in XGBClassifier is deprecated and will be removed in a future release. To remove this warning, do the following: 1) Pass option use_label_encoder=False when constructing XGBClassifier object; and 2) Encode your labels (y) as integers starting with 0, i.e. 0, 1, 2, ..., [num_class - 1].\n",
      "  warnings.warn(label_encoder_deprecation_msg, UserWarning)\n",
      "c:\\users\\roel\\.virtualenvs\\diagcovid-ckc2berq\\lib\\site-packages\\xgboost\\sklearn.py:888: UserWarning: The use of label encoder in XGBClassifier is deprecated and will be removed in a future release. To remove this warning, do the following: 1) Pass option use_label_encoder=False when constructing XGBClassifier object; and 2) Encode your labels (y) as integers starting with 0, i.e. 0, 1, 2, ..., [num_class - 1].\n",
      "  warnings.warn(label_encoder_deprecation_msg, UserWarning)\n",
      "c:\\users\\roel\\.virtualenvs\\diagcovid-ckc2berq\\lib\\site-packages\\xgboost\\sklearn.py:888: UserWarning: The use of label encoder in XGBClassifier is deprecated and will be removed in a future release. To remove this warning, do the following: 1) Pass option use_label_encoder=False when constructing XGBClassifier object; and 2) Encode your labels (y) as integers starting with 0, i.e. 0, 1, 2, ..., [num_class - 1].\n",
      "  warnings.warn(label_encoder_deprecation_msg, UserWarning)\n",
      "[flaml.automl: 05-05 19:06:11] {1147} INFO -  at 72.9s,\tbest xgboost's error=0.0411,\tbest xgboost's error=0.0411\n",
      "[flaml.automl: 05-05 19:06:11] {994} INFO - iteration 140, current learner lgbm\n",
      "[flaml.automl: 05-05 19:06:12] {1147} INFO -  at 73.1s,\tbest lgbm's error=0.0415,\tbest xgboost's error=0.0411\n",
      "[flaml.automl: 05-05 19:06:12] {994} INFO - iteration 141, current learner xgboost\n",
      "c:\\users\\roel\\.virtualenvs\\diagcovid-ckc2berq\\lib\\site-packages\\xgboost\\sklearn.py:888: UserWarning: The use of label encoder in XGBClassifier is deprecated and will be removed in a future release. To remove this warning, do the following: 1) Pass option use_label_encoder=False when constructing XGBClassifier object; and 2) Encode your labels (y) as integers starting with 0, i.e. 0, 1, 2, ..., [num_class - 1].\n",
      "  warnings.warn(label_encoder_deprecation_msg, UserWarning)\n",
      "c:\\users\\roel\\.virtualenvs\\diagcovid-ckc2berq\\lib\\site-packages\\xgboost\\sklearn.py:888: UserWarning: The use of label encoder in XGBClassifier is deprecated and will be removed in a future release. To remove this warning, do the following: 1) Pass option use_label_encoder=False when constructing XGBClassifier object; and 2) Encode your labels (y) as integers starting with 0, i.e. 0, 1, 2, ..., [num_class - 1].\n",
      "  warnings.warn(label_encoder_deprecation_msg, UserWarning)\n",
      "c:\\users\\roel\\.virtualenvs\\diagcovid-ckc2berq\\lib\\site-packages\\xgboost\\sklearn.py:888: UserWarning: The use of label encoder in XGBClassifier is deprecated and will be removed in a future release. To remove this warning, do the following: 1) Pass option use_label_encoder=False when constructing XGBClassifier object; and 2) Encode your labels (y) as integers starting with 0, i.e. 0, 1, 2, ..., [num_class - 1].\n",
      "  warnings.warn(label_encoder_deprecation_msg, UserWarning)\n",
      "c:\\users\\roel\\.virtualenvs\\diagcovid-ckc2berq\\lib\\site-packages\\xgboost\\sklearn.py:888: UserWarning: The use of label encoder in XGBClassifier is deprecated and will be removed in a future release. To remove this warning, do the following: 1) Pass option use_label_encoder=False when constructing XGBClassifier object; and 2) Encode your labels (y) as integers starting with 0, i.e. 0, 1, 2, ..., [num_class - 1].\n",
      "  warnings.warn(label_encoder_deprecation_msg, UserWarning)\n",
      "c:\\users\\roel\\.virtualenvs\\diagcovid-ckc2berq\\lib\\site-packages\\xgboost\\sklearn.py:888: UserWarning: The use of label encoder in XGBClassifier is deprecated and will be removed in a future release. To remove this warning, do the following: 1) Pass option use_label_encoder=False when constructing XGBClassifier object; and 2) Encode your labels (y) as integers starting with 0, i.e. 0, 1, 2, ..., [num_class - 1].\n",
      "  warnings.warn(label_encoder_deprecation_msg, UserWarning)\n",
      "[flaml.automl: 05-05 19:06:12] {1147} INFO -  at 73.5s,\tbest xgboost's error=0.0411,\tbest xgboost's error=0.0411\n",
      "[flaml.automl: 05-05 19:06:12] {994} INFO - iteration 142, current learner rf\n",
      "[flaml.automl: 05-05 19:06:13] {1147} INFO -  at 74.9s,\tbest rf's error=0.0569,\tbest xgboost's error=0.0411\n",
      "[flaml.automl: 05-05 19:06:13] {994} INFO - iteration 143, current learner extra_tree\n",
      "[flaml.automl: 05-05 19:06:15] {1147} INFO -  at 76.2s,\tbest extra_tree's error=0.0433,\tbest xgboost's error=0.0411\n",
      "[flaml.automl: 05-05 19:06:15] {994} INFO - iteration 144, current learner xgboost\n",
      "c:\\users\\roel\\.virtualenvs\\diagcovid-ckc2berq\\lib\\site-packages\\xgboost\\sklearn.py:888: UserWarning: The use of label encoder in XGBClassifier is deprecated and will be removed in a future release. To remove this warning, do the following: 1) Pass option use_label_encoder=False when constructing XGBClassifier object; and 2) Encode your labels (y) as integers starting with 0, i.e. 0, 1, 2, ..., [num_class - 1].\n",
      "  warnings.warn(label_encoder_deprecation_msg, UserWarning)\n",
      "c:\\users\\roel\\.virtualenvs\\diagcovid-ckc2berq\\lib\\site-packages\\xgboost\\sklearn.py:888: UserWarning: The use of label encoder in XGBClassifier is deprecated and will be removed in a future release. To remove this warning, do the following: 1) Pass option use_label_encoder=False when constructing XGBClassifier object; and 2) Encode your labels (y) as integers starting with 0, i.e. 0, 1, 2, ..., [num_class - 1].\n",
      "  warnings.warn(label_encoder_deprecation_msg, UserWarning)\n",
      "c:\\users\\roel\\.virtualenvs\\diagcovid-ckc2berq\\lib\\site-packages\\xgboost\\sklearn.py:888: UserWarning: The use of label encoder in XGBClassifier is deprecated and will be removed in a future release. To remove this warning, do the following: 1) Pass option use_label_encoder=False when constructing XGBClassifier object; and 2) Encode your labels (y) as integers starting with 0, i.e. 0, 1, 2, ..., [num_class - 1].\n",
      "  warnings.warn(label_encoder_deprecation_msg, UserWarning)\n",
      "c:\\users\\roel\\.virtualenvs\\diagcovid-ckc2berq\\lib\\site-packages\\xgboost\\sklearn.py:888: UserWarning: The use of label encoder in XGBClassifier is deprecated and will be removed in a future release. To remove this warning, do the following: 1) Pass option use_label_encoder=False when constructing XGBClassifier object; and 2) Encode your labels (y) as integers starting with 0, i.e. 0, 1, 2, ..., [num_class - 1].\n",
      "  warnings.warn(label_encoder_deprecation_msg, UserWarning)\n",
      "c:\\users\\roel\\.virtualenvs\\diagcovid-ckc2berq\\lib\\site-packages\\xgboost\\sklearn.py:888: UserWarning: The use of label encoder in XGBClassifier is deprecated and will be removed in a future release. To remove this warning, do the following: 1) Pass option use_label_encoder=False when constructing XGBClassifier object; and 2) Encode your labels (y) as integers starting with 0, i.e. 0, 1, 2, ..., [num_class - 1].\n",
      "  warnings.warn(label_encoder_deprecation_msg, UserWarning)\n",
      "[flaml.automl: 05-05 19:06:15] {1147} INFO -  at 76.5s,\tbest xgboost's error=0.0411,\tbest xgboost's error=0.0411\n",
      "[flaml.automl: 05-05 19:06:15] {994} INFO - iteration 145, current learner catboost\n",
      "[flaml.automl: 05-05 19:06:16] {1147} INFO -  at 77.2s,\tbest catboost's error=0.0411,\tbest xgboost's error=0.0411\n",
      "[flaml.automl: 05-05 19:06:16] {994} INFO - iteration 146, current learner lgbm\n",
      "[flaml.automl: 05-05 19:06:16] {1147} INFO -  at 77.4s,\tbest lgbm's error=0.0415,\tbest xgboost's error=0.0411\n",
      "[flaml.automl: 05-05 19:06:16] {994} INFO - iteration 147, current learner lgbm\n",
      "[flaml.automl: 05-05 19:06:16] {1147} INFO -  at 77.6s,\tbest lgbm's error=0.0415,\tbest xgboost's error=0.0411\n",
      "[flaml.automl: 05-05 19:06:16] {994} INFO - iteration 148, current learner lgbm\n",
      "[flaml.automl: 05-05 19:06:16] {1147} INFO -  at 77.8s,\tbest lgbm's error=0.0415,\tbest xgboost's error=0.0411\n",
      "[flaml.automl: 05-05 19:06:16] {994} INFO - iteration 149, current learner lgbm\n",
      "[flaml.automl: 05-05 19:06:16] {1147} INFO -  at 77.9s,\tbest lgbm's error=0.0415,\tbest xgboost's error=0.0411\n",
      "[flaml.automl: 05-05 19:06:16] {994} INFO - iteration 150, current learner lgbm\n",
      "[flaml.automl: 05-05 19:06:17] {1147} INFO -  at 78.0s,\tbest lgbm's error=0.0415,\tbest xgboost's error=0.0411\n",
      "[flaml.automl: 05-05 19:06:17] {994} INFO - iteration 151, current learner lgbm\n",
      "[flaml.automl: 05-05 19:06:17] {1147} INFO -  at 78.1s,\tbest lgbm's error=0.0415,\tbest xgboost's error=0.0411\n",
      "[flaml.automl: 05-05 19:06:17] {994} INFO - iteration 152, current learner xgboost\n",
      "c:\\users\\roel\\.virtualenvs\\diagcovid-ckc2berq\\lib\\site-packages\\xgboost\\sklearn.py:888: UserWarning: The use of label encoder in XGBClassifier is deprecated and will be removed in a future release. To remove this warning, do the following: 1) Pass option use_label_encoder=False when constructing XGBClassifier object; and 2) Encode your labels (y) as integers starting with 0, i.e. 0, 1, 2, ..., [num_class - 1].\n",
      "  warnings.warn(label_encoder_deprecation_msg, UserWarning)\n",
      "c:\\users\\roel\\.virtualenvs\\diagcovid-ckc2berq\\lib\\site-packages\\xgboost\\sklearn.py:888: UserWarning: The use of label encoder in XGBClassifier is deprecated and will be removed in a future release. To remove this warning, do the following: 1) Pass option use_label_encoder=False when constructing XGBClassifier object; and 2) Encode your labels (y) as integers starting with 0, i.e. 0, 1, 2, ..., [num_class - 1].\n",
      "  warnings.warn(label_encoder_deprecation_msg, UserWarning)\n",
      "c:\\users\\roel\\.virtualenvs\\diagcovid-ckc2berq\\lib\\site-packages\\xgboost\\sklearn.py:888: UserWarning: The use of label encoder in XGBClassifier is deprecated and will be removed in a future release. To remove this warning, do the following: 1) Pass option use_label_encoder=False when constructing XGBClassifier object; and 2) Encode your labels (y) as integers starting with 0, i.e. 0, 1, 2, ..., [num_class - 1].\n",
      "  warnings.warn(label_encoder_deprecation_msg, UserWarning)\n",
      "c:\\users\\roel\\.virtualenvs\\diagcovid-ckc2berq\\lib\\site-packages\\xgboost\\sklearn.py:888: UserWarning: The use of label encoder in XGBClassifier is deprecated and will be removed in a future release. To remove this warning, do the following: 1) Pass option use_label_encoder=False when constructing XGBClassifier object; and 2) Encode your labels (y) as integers starting with 0, i.e. 0, 1, 2, ..., [num_class - 1].\n",
      "  warnings.warn(label_encoder_deprecation_msg, UserWarning)\n",
      "c:\\users\\roel\\.virtualenvs\\diagcovid-ckc2berq\\lib\\site-packages\\xgboost\\sklearn.py:888: UserWarning: The use of label encoder in XGBClassifier is deprecated and will be removed in a future release. To remove this warning, do the following: 1) Pass option use_label_encoder=False when constructing XGBClassifier object; and 2) Encode your labels (y) as integers starting with 0, i.e. 0, 1, 2, ..., [num_class - 1].\n",
      "  warnings.warn(label_encoder_deprecation_msg, UserWarning)\n",
      "[flaml.automl: 05-05 19:06:18] {1147} INFO -  at 79.6s,\tbest xgboost's error=0.0411,\tbest xgboost's error=0.0411\n",
      "[flaml.automl: 05-05 19:06:18] {1187} INFO - selected model: XGBClassifier(base_score=0.5, booster='gbtree',\n",
      "              colsample_bylevel=0.5301956135917765, colsample_bynode=1,\n",
      "              colsample_bytree=0.7840485183682367, gamma=0, gpu_id=-1,\n",
      "              grow_policy='lossguide', importance_type='gain',\n",
      "              interaction_constraints='', learning_rate=0.03393913345893701,\n",
      "              max_delta_step=0, max_depth=0, max_leaves=62,\n",
      "              min_child_weight=3.213055523890749, missing=nan,\n",
      "              monotone_constraints='()', n_estimators=73, n_jobs=-1,\n",
      "              num_parallel_tree=1, random_state=0,\n",
      "              reg_alpha=0.04619489841743009, reg_lambda=0.005816617631008078,\n",
      "              scale_pos_weight=1, subsample=0.6309950788839568,\n",
      "              tree_method='hist', validate_parameters=1, verbosity=0)\n",
      "[flaml.automl: 05-05 19:06:18] {1197} INFO - [('xgboost', <flaml.model.XGBoostSklearnEstimator object at 0x000001F242ADBD48>), ('catboost', <flaml.model.CatBoostEstimator object at 0x000001F2F5A067C8>), ('lgbm', <flaml.model.LGBMEstimator object at 0x000001F338381B88>), ('extra_tree', <flaml.model.ExtraTreeEstimator object at 0x000001F2F2706548>), ('rf', <flaml.model.RandomForestEstimator object at 0x000001F2F7246F08>)]\n"
     ]
    },
    {
     "ename": "TerminatedWorkerError",
     "evalue": "A worker process managed by the executor was unexpectedly terminated. This could be caused by a segmentation fault while calling the function or by an excessive memory usage causing the Operating System to kill the worker.\n",
     "output_type": "error",
     "traceback": [
      "\u001b[1;31m---------------------------------------------------------------------------\u001b[0m",
      "\u001b[1;31mTerminatedWorkerError\u001b[0m                     Traceback (most recent call last)",
      "\u001b[1;32m<ipython-input-115-1f6249bc4658>\u001b[0m in \u001b[0;36m<module>\u001b[1;34m\u001b[0m\n\u001b[0;32m      1\u001b[0m \u001b[1;32mfrom\u001b[0m \u001b[0mflaml\u001b[0m \u001b[1;32mimport\u001b[0m \u001b[0mAutoML\u001b[0m\u001b[1;33m\u001b[0m\u001b[1;33m\u001b[0m\u001b[0m\n\u001b[0;32m      2\u001b[0m \u001b[0mautoml\u001b[0m \u001b[1;33m=\u001b[0m \u001b[0mAutoML\u001b[0m\u001b[1;33m(\u001b[0m\u001b[1;33m)\u001b[0m\u001b[1;33m\u001b[0m\u001b[1;33m\u001b[0m\u001b[0m\n\u001b[1;32m----> 3\u001b[1;33m \u001b[0mautoml\u001b[0m\u001b[1;33m.\u001b[0m\u001b[0mfit\u001b[0m\u001b[1;33m(\u001b[0m\u001b[0mX_train\u001b[0m\u001b[1;33m,\u001b[0m \u001b[0my_train\u001b[0m\u001b[1;33m,\u001b[0m \u001b[0mtask\u001b[0m\u001b[1;33m=\u001b[0m\u001b[1;34m\"classification\"\u001b[0m\u001b[1;33m,\u001b[0m \u001b[0mensemble\u001b[0m\u001b[1;33m=\u001b[0m\u001b[1;32mTrue\u001b[0m\u001b[1;33m,\u001b[0m \u001b[0mmetric\u001b[0m\u001b[1;33m=\u001b[0m\u001b[1;34m'roc_auc'\u001b[0m\u001b[1;33m,\u001b[0m \u001b[0mtime_budget\u001b[0m\u001b[1;33m=\u001b[0m\u001b[1;36m80\u001b[0m\u001b[1;33m)\u001b[0m\u001b[1;33m\u001b[0m\u001b[1;33m\u001b[0m\u001b[0m\n\u001b[0m",
      "\u001b[1;32mc:\\users\\roel\\.virtualenvs\\diagcovid-ckc2berq\\lib\\site-packages\\flaml\\automl.py\u001b[0m in \u001b[0;36mfit\u001b[1;34m(self, X_train, y_train, dataframe, label, metric, task, n_jobs, log_file_name, estimator_list, time_budget, max_iter, sample, ensemble, eval_method, log_type, model_history, split_ratio, n_splits, log_training_metric, mem_thres, X_val, y_val, sample_weight_val, retrain_full, split_type, learner_selector, hpo_method, verbose, **fit_kwargs)\u001b[0m\n\u001b[0;32m    941\u001b[0m             \u001b[0mself\u001b[0m\u001b[1;33m.\u001b[0m\u001b[0m_save_model_history\u001b[0m \u001b[1;33m=\u001b[0m \u001b[0mmodel_history\u001b[0m\u001b[1;33m\u001b[0m\u001b[1;33m\u001b[0m\u001b[0m\n\u001b[0;32m    942\u001b[0m             \u001b[0mself\u001b[0m\u001b[1;33m.\u001b[0m\u001b[0m_state\u001b[0m\u001b[1;33m.\u001b[0m\u001b[0mn_jobs\u001b[0m \u001b[1;33m=\u001b[0m \u001b[0mn_jobs\u001b[0m\u001b[1;33m\u001b[0m\u001b[1;33m\u001b[0m\u001b[0m\n\u001b[1;32m--> 943\u001b[1;33m             \u001b[0mself\u001b[0m\u001b[1;33m.\u001b[0m\u001b[0m_search\u001b[0m\u001b[1;33m(\u001b[0m\u001b[1;33m)\u001b[0m\u001b[1;33m\u001b[0m\u001b[1;33m\u001b[0m\u001b[0m\n\u001b[0m\u001b[0;32m    944\u001b[0m             \u001b[0mlogger\u001b[0m\u001b[1;33m.\u001b[0m\u001b[0minfo\u001b[0m\u001b[1;33m(\u001b[0m\u001b[1;34m\"fit succeeded\"\u001b[0m\u001b[1;33m)\u001b[0m\u001b[1;33m\u001b[0m\u001b[1;33m\u001b[0m\u001b[0m\n\u001b[0;32m    945\u001b[0m         \u001b[1;32mif\u001b[0m \u001b[0mverbose\u001b[0m \u001b[1;33m==\u001b[0m \u001b[1;36m0\u001b[0m\u001b[1;33m:\u001b[0m\u001b[1;33m\u001b[0m\u001b[1;33m\u001b[0m\u001b[0m\n",
      "\u001b[1;32mc:\\users\\roel\\.virtualenvs\\diagcovid-ckc2berq\\lib\\site-packages\\flaml\\automl.py\u001b[0m in \u001b[0;36m_search\u001b[1;34m(self)\u001b[0m\n\u001b[0;32m   1211\u001b[0m                         'sample_weight'] = self._sample_weight_full\n\u001b[0;32m   1212\u001b[0m                 stacker.fit(self._X_train_all, self._y_train_all,\n\u001b[1;32m-> 1213\u001b[1;33m                             **self._state.fit_kwargs)\n\u001b[0m\u001b[0;32m   1214\u001b[0m                 \u001b[0mlogger\u001b[0m\u001b[1;33m.\u001b[0m\u001b[0minfo\u001b[0m\u001b[1;33m(\u001b[0m\u001b[1;34mf'ensemble: {stacker}'\u001b[0m\u001b[1;33m)\u001b[0m\u001b[1;33m\u001b[0m\u001b[1;33m\u001b[0m\u001b[0m\n\u001b[0;32m   1215\u001b[0m                 \u001b[0mself\u001b[0m\u001b[1;33m.\u001b[0m\u001b[0m_trained_estimator\u001b[0m \u001b[1;33m=\u001b[0m \u001b[0mstacker\u001b[0m\u001b[1;33m\u001b[0m\u001b[1;33m\u001b[0m\u001b[0m\n",
      "\u001b[1;32mc:\\users\\roel\\.virtualenvs\\diagcovid-ckc2berq\\lib\\site-packages\\sklearn\\ensemble\\_stacking.py\u001b[0m in \u001b[0;36mfit\u001b[1;34m(self, X, y, sample_weight)\u001b[0m\n\u001b[0;32m    437\u001b[0m         \u001b[0mself\u001b[0m\u001b[1;33m.\u001b[0m\u001b[0m_le\u001b[0m \u001b[1;33m=\u001b[0m \u001b[0mLabelEncoder\u001b[0m\u001b[1;33m(\u001b[0m\u001b[1;33m)\u001b[0m\u001b[1;33m.\u001b[0m\u001b[0mfit\u001b[0m\u001b[1;33m(\u001b[0m\u001b[0my\u001b[0m\u001b[1;33m)\u001b[0m\u001b[1;33m\u001b[0m\u001b[1;33m\u001b[0m\u001b[0m\n\u001b[0;32m    438\u001b[0m         \u001b[0mself\u001b[0m\u001b[1;33m.\u001b[0m\u001b[0mclasses_\u001b[0m \u001b[1;33m=\u001b[0m \u001b[0mself\u001b[0m\u001b[1;33m.\u001b[0m\u001b[0m_le\u001b[0m\u001b[1;33m.\u001b[0m\u001b[0mclasses_\u001b[0m\u001b[1;33m\u001b[0m\u001b[1;33m\u001b[0m\u001b[0m\n\u001b[1;32m--> 439\u001b[1;33m         \u001b[1;32mreturn\u001b[0m \u001b[0msuper\u001b[0m\u001b[1;33m(\u001b[0m\u001b[1;33m)\u001b[0m\u001b[1;33m.\u001b[0m\u001b[0mfit\u001b[0m\u001b[1;33m(\u001b[0m\u001b[0mX\u001b[0m\u001b[1;33m,\u001b[0m \u001b[0mself\u001b[0m\u001b[1;33m.\u001b[0m\u001b[0m_le\u001b[0m\u001b[1;33m.\u001b[0m\u001b[0mtransform\u001b[0m\u001b[1;33m(\u001b[0m\u001b[0my\u001b[0m\u001b[1;33m)\u001b[0m\u001b[1;33m,\u001b[0m \u001b[0msample_weight\u001b[0m\u001b[1;33m)\u001b[0m\u001b[1;33m\u001b[0m\u001b[1;33m\u001b[0m\u001b[0m\n\u001b[0m\u001b[0;32m    440\u001b[0m \u001b[1;33m\u001b[0m\u001b[0m\n\u001b[0;32m    441\u001b[0m     \u001b[1;33m@\u001b[0m\u001b[0mif_delegate_has_method\u001b[0m\u001b[1;33m(\u001b[0m\u001b[0mdelegate\u001b[0m\u001b[1;33m=\u001b[0m\u001b[1;34m'final_estimator_'\u001b[0m\u001b[1;33m)\u001b[0m\u001b[1;33m\u001b[0m\u001b[1;33m\u001b[0m\u001b[0m\n",
      "\u001b[1;32mc:\\users\\roel\\.virtualenvs\\diagcovid-ckc2berq\\lib\\site-packages\\sklearn\\ensemble\\_stacking.py\u001b[0m in \u001b[0;36mfit\u001b[1;34m(self, X, y, sample_weight)\u001b[0m\n\u001b[0;32m    147\u001b[0m         self.estimators_ = Parallel(n_jobs=self.n_jobs)(\n\u001b[0;32m    148\u001b[0m             \u001b[0mdelayed\u001b[0m\u001b[1;33m(\u001b[0m\u001b[0m_fit_single_estimator\u001b[0m\u001b[1;33m)\u001b[0m\u001b[1;33m(\u001b[0m\u001b[0mclone\u001b[0m\u001b[1;33m(\u001b[0m\u001b[0mest\u001b[0m\u001b[1;33m)\u001b[0m\u001b[1;33m,\u001b[0m \u001b[0mX\u001b[0m\u001b[1;33m,\u001b[0m \u001b[0my\u001b[0m\u001b[1;33m,\u001b[0m \u001b[0msample_weight\u001b[0m\u001b[1;33m)\u001b[0m\u001b[1;33m\u001b[0m\u001b[1;33m\u001b[0m\u001b[0m\n\u001b[1;32m--> 149\u001b[1;33m             \u001b[1;32mfor\u001b[0m \u001b[0mest\u001b[0m \u001b[1;32min\u001b[0m \u001b[0mall_estimators\u001b[0m \u001b[1;32mif\u001b[0m \u001b[0mest\u001b[0m \u001b[1;33m!=\u001b[0m \u001b[1;34m'drop'\u001b[0m\u001b[1;33m\u001b[0m\u001b[1;33m\u001b[0m\u001b[0m\n\u001b[0m\u001b[0;32m    150\u001b[0m         )\n\u001b[0;32m    151\u001b[0m \u001b[1;33m\u001b[0m\u001b[0m\n",
      "\u001b[1;32mc:\\users\\roel\\.virtualenvs\\diagcovid-ckc2berq\\lib\\site-packages\\joblib\\parallel.py\u001b[0m in \u001b[0;36m__call__\u001b[1;34m(self, iterable)\u001b[0m\n\u001b[0;32m   1052\u001b[0m \u001b[1;33m\u001b[0m\u001b[0m\n\u001b[0;32m   1053\u001b[0m             \u001b[1;32mwith\u001b[0m \u001b[0mself\u001b[0m\u001b[1;33m.\u001b[0m\u001b[0m_backend\u001b[0m\u001b[1;33m.\u001b[0m\u001b[0mretrieval_context\u001b[0m\u001b[1;33m(\u001b[0m\u001b[1;33m)\u001b[0m\u001b[1;33m:\u001b[0m\u001b[1;33m\u001b[0m\u001b[1;33m\u001b[0m\u001b[0m\n\u001b[1;32m-> 1054\u001b[1;33m                 \u001b[0mself\u001b[0m\u001b[1;33m.\u001b[0m\u001b[0mretrieve\u001b[0m\u001b[1;33m(\u001b[0m\u001b[1;33m)\u001b[0m\u001b[1;33m\u001b[0m\u001b[1;33m\u001b[0m\u001b[0m\n\u001b[0m\u001b[0;32m   1055\u001b[0m             \u001b[1;31m# Make sure that we get a last message telling us we are done\u001b[0m\u001b[1;33m\u001b[0m\u001b[1;33m\u001b[0m\u001b[1;33m\u001b[0m\u001b[0m\n\u001b[0;32m   1056\u001b[0m             \u001b[0melapsed_time\u001b[0m \u001b[1;33m=\u001b[0m \u001b[0mtime\u001b[0m\u001b[1;33m.\u001b[0m\u001b[0mtime\u001b[0m\u001b[1;33m(\u001b[0m\u001b[1;33m)\u001b[0m \u001b[1;33m-\u001b[0m \u001b[0mself\u001b[0m\u001b[1;33m.\u001b[0m\u001b[0m_start_time\u001b[0m\u001b[1;33m\u001b[0m\u001b[1;33m\u001b[0m\u001b[0m\n",
      "\u001b[1;32mc:\\users\\roel\\.virtualenvs\\diagcovid-ckc2berq\\lib\\site-packages\\joblib\\parallel.py\u001b[0m in \u001b[0;36mretrieve\u001b[1;34m(self)\u001b[0m\n\u001b[0;32m    931\u001b[0m             \u001b[1;32mtry\u001b[0m\u001b[1;33m:\u001b[0m\u001b[1;33m\u001b[0m\u001b[1;33m\u001b[0m\u001b[0m\n\u001b[0;32m    932\u001b[0m                 \u001b[1;32mif\u001b[0m \u001b[0mgetattr\u001b[0m\u001b[1;33m(\u001b[0m\u001b[0mself\u001b[0m\u001b[1;33m.\u001b[0m\u001b[0m_backend\u001b[0m\u001b[1;33m,\u001b[0m \u001b[1;34m'supports_timeout'\u001b[0m\u001b[1;33m,\u001b[0m \u001b[1;32mFalse\u001b[0m\u001b[1;33m)\u001b[0m\u001b[1;33m:\u001b[0m\u001b[1;33m\u001b[0m\u001b[1;33m\u001b[0m\u001b[0m\n\u001b[1;32m--> 933\u001b[1;33m                     \u001b[0mself\u001b[0m\u001b[1;33m.\u001b[0m\u001b[0m_output\u001b[0m\u001b[1;33m.\u001b[0m\u001b[0mextend\u001b[0m\u001b[1;33m(\u001b[0m\u001b[0mjob\u001b[0m\u001b[1;33m.\u001b[0m\u001b[0mget\u001b[0m\u001b[1;33m(\u001b[0m\u001b[0mtimeout\u001b[0m\u001b[1;33m=\u001b[0m\u001b[0mself\u001b[0m\u001b[1;33m.\u001b[0m\u001b[0mtimeout\u001b[0m\u001b[1;33m)\u001b[0m\u001b[1;33m)\u001b[0m\u001b[1;33m\u001b[0m\u001b[1;33m\u001b[0m\u001b[0m\n\u001b[0m\u001b[0;32m    934\u001b[0m                 \u001b[1;32melse\u001b[0m\u001b[1;33m:\u001b[0m\u001b[1;33m\u001b[0m\u001b[1;33m\u001b[0m\u001b[0m\n\u001b[0;32m    935\u001b[0m                     \u001b[0mself\u001b[0m\u001b[1;33m.\u001b[0m\u001b[0m_output\u001b[0m\u001b[1;33m.\u001b[0m\u001b[0mextend\u001b[0m\u001b[1;33m(\u001b[0m\u001b[0mjob\u001b[0m\u001b[1;33m.\u001b[0m\u001b[0mget\u001b[0m\u001b[1;33m(\u001b[0m\u001b[1;33m)\u001b[0m\u001b[1;33m)\u001b[0m\u001b[1;33m\u001b[0m\u001b[1;33m\u001b[0m\u001b[0m\n",
      "\u001b[1;32mc:\\users\\roel\\.virtualenvs\\diagcovid-ckc2berq\\lib\\site-packages\\joblib\\_parallel_backends.py\u001b[0m in \u001b[0;36mwrap_future_result\u001b[1;34m(future, timeout)\u001b[0m\n\u001b[0;32m    540\u001b[0m         AsyncResults.get from multiprocessing.\"\"\"\n\u001b[0;32m    541\u001b[0m         \u001b[1;32mtry\u001b[0m\u001b[1;33m:\u001b[0m\u001b[1;33m\u001b[0m\u001b[1;33m\u001b[0m\u001b[0m\n\u001b[1;32m--> 542\u001b[1;33m             \u001b[1;32mreturn\u001b[0m \u001b[0mfuture\u001b[0m\u001b[1;33m.\u001b[0m\u001b[0mresult\u001b[0m\u001b[1;33m(\u001b[0m\u001b[0mtimeout\u001b[0m\u001b[1;33m=\u001b[0m\u001b[0mtimeout\u001b[0m\u001b[1;33m)\u001b[0m\u001b[1;33m\u001b[0m\u001b[1;33m\u001b[0m\u001b[0m\n\u001b[0m\u001b[0;32m    543\u001b[0m         \u001b[1;32mexcept\u001b[0m \u001b[0mCfTimeoutError\u001b[0m \u001b[1;32mas\u001b[0m \u001b[0me\u001b[0m\u001b[1;33m:\u001b[0m\u001b[1;33m\u001b[0m\u001b[1;33m\u001b[0m\u001b[0m\n\u001b[0;32m    544\u001b[0m             \u001b[1;32mraise\u001b[0m \u001b[0mTimeoutError\u001b[0m \u001b[1;32mfrom\u001b[0m \u001b[0me\u001b[0m\u001b[1;33m\u001b[0m\u001b[1;33m\u001b[0m\u001b[0m\n",
      "\u001b[1;32mC:\\Python37\\Lib\\concurrent\\futures\\_base.py\u001b[0m in \u001b[0;36mresult\u001b[1;34m(self, timeout)\u001b[0m\n\u001b[0;32m    433\u001b[0m                 \u001b[1;32mraise\u001b[0m \u001b[0mCancelledError\u001b[0m\u001b[1;33m(\u001b[0m\u001b[1;33m)\u001b[0m\u001b[1;33m\u001b[0m\u001b[1;33m\u001b[0m\u001b[0m\n\u001b[0;32m    434\u001b[0m             \u001b[1;32melif\u001b[0m \u001b[0mself\u001b[0m\u001b[1;33m.\u001b[0m\u001b[0m_state\u001b[0m \u001b[1;33m==\u001b[0m \u001b[0mFINISHED\u001b[0m\u001b[1;33m:\u001b[0m\u001b[1;33m\u001b[0m\u001b[1;33m\u001b[0m\u001b[0m\n\u001b[1;32m--> 435\u001b[1;33m                 \u001b[1;32mreturn\u001b[0m \u001b[0mself\u001b[0m\u001b[1;33m.\u001b[0m\u001b[0m__get_result\u001b[0m\u001b[1;33m(\u001b[0m\u001b[1;33m)\u001b[0m\u001b[1;33m\u001b[0m\u001b[1;33m\u001b[0m\u001b[0m\n\u001b[0m\u001b[0;32m    436\u001b[0m             \u001b[1;32melse\u001b[0m\u001b[1;33m:\u001b[0m\u001b[1;33m\u001b[0m\u001b[1;33m\u001b[0m\u001b[0m\n\u001b[0;32m    437\u001b[0m                 \u001b[1;32mraise\u001b[0m \u001b[0mTimeoutError\u001b[0m\u001b[1;33m(\u001b[0m\u001b[1;33m)\u001b[0m\u001b[1;33m\u001b[0m\u001b[1;33m\u001b[0m\u001b[0m\n",
      "\u001b[1;32mC:\\Python37\\Lib\\concurrent\\futures\\_base.py\u001b[0m in \u001b[0;36m__get_result\u001b[1;34m(self)\u001b[0m\n\u001b[0;32m    382\u001b[0m     \u001b[1;32mdef\u001b[0m \u001b[0m__get_result\u001b[0m\u001b[1;33m(\u001b[0m\u001b[0mself\u001b[0m\u001b[1;33m)\u001b[0m\u001b[1;33m:\u001b[0m\u001b[1;33m\u001b[0m\u001b[1;33m\u001b[0m\u001b[0m\n\u001b[0;32m    383\u001b[0m         \u001b[1;32mif\u001b[0m \u001b[0mself\u001b[0m\u001b[1;33m.\u001b[0m\u001b[0m_exception\u001b[0m\u001b[1;33m:\u001b[0m\u001b[1;33m\u001b[0m\u001b[1;33m\u001b[0m\u001b[0m\n\u001b[1;32m--> 384\u001b[1;33m             \u001b[1;32mraise\u001b[0m \u001b[0mself\u001b[0m\u001b[1;33m.\u001b[0m\u001b[0m_exception\u001b[0m\u001b[1;33m\u001b[0m\u001b[1;33m\u001b[0m\u001b[0m\n\u001b[0m\u001b[0;32m    385\u001b[0m         \u001b[1;32melse\u001b[0m\u001b[1;33m:\u001b[0m\u001b[1;33m\u001b[0m\u001b[1;33m\u001b[0m\u001b[0m\n\u001b[0;32m    386\u001b[0m             \u001b[1;32mreturn\u001b[0m \u001b[0mself\u001b[0m\u001b[1;33m.\u001b[0m\u001b[0m_result\u001b[0m\u001b[1;33m\u001b[0m\u001b[1;33m\u001b[0m\u001b[0m\n",
      "\u001b[1;31mTerminatedWorkerError\u001b[0m: A worker process managed by the executor was unexpectedly terminated. This could be caused by a segmentation fault while calling the function or by an excessive memory usage causing the Operating System to kill the worker.\n"
     ]
    }
   ],
   "source": [
    "from flaml import AutoML\n",
    "automl = AutoML()\n",
    "automl.fit(X_train, y_train, task=\"classification\", ensemble=True, metric='roc_auc', time_budget=80)"
   ]
  },
  {
   "cell_type": "code",
   "execution_count": 229,
   "metadata": {},
   "outputs": [
    {
     "data": {
      "text/plain": [
       "0.8963839028729919"
      ]
     },
     "execution_count": 229,
     "metadata": {},
     "output_type": "execute_result"
    }
   ],
   "source": [
    "roc_auc_score(y_test, lgbm_bagged.predict_proba(imputer.transform(X_test))[:, 1])"
   ]
  },
  {
   "cell_type": "code",
   "execution_count": 121,
   "metadata": {},
   "outputs": [
    {
     "data": {
      "text/plain": [
       "0.9182235246916811"
      ]
     },
     "execution_count": 121,
     "metadata": {},
     "output_type": "execute_result"
    }
   ],
   "source": [
    "roc_auc_score(y_test, lgbm_bagged.predict_proba(X_test)[:, 1])"
   ]
  },
  {
   "cell_type": "code",
   "execution_count": 234,
   "metadata": {},
   "outputs": [
    {
     "name": "stdout",
     "output_type": "stream",
     "text": [
      "Collecting autokeras\n",
      "  Using cached autokeras-1.0.12-py3-none-any.whl (164 kB)\n",
      "Collecting tensorflow>=2.3.0\n",
      "  Using cached tensorflow-2.4.1-cp37-cp37m-win_amd64.whl (370.7 MB)\n",
      "Collecting keras-tuner>=1.0.2\n",
      "  Using cached keras_tuner-1.0.2-py3-none-any.whl\n",
      "Requirement already satisfied: packaging in c:\\users\\roel\\.virtualenvs\\diagcovid-ckc2berq\\lib\\site-packages (from autokeras) (20.9)\n",
      "Requirement already satisfied: scikit-learn in c:\\users\\roel\\.virtualenvs\\diagcovid-ckc2berq\\lib\\site-packages (from autokeras) (0.24.1)\n",
      "Requirement already satisfied: pandas in c:\\users\\roel\\.virtualenvs\\diagcovid-ckc2berq\\lib\\site-packages (from autokeras) (1.2.3)\n",
      "Requirement already satisfied: scipy in c:\\users\\roel\\.virtualenvs\\diagcovid-ckc2berq\\lib\\site-packages (from keras-tuner>=1.0.2->autokeras) (1.5.3)\n",
      "Requirement already satisfied: future in c:\\users\\roel\\.virtualenvs\\diagcovid-ckc2berq\\lib\\site-packages (from keras-tuner>=1.0.2->autokeras) (0.18.2)\n",
      "Requirement already satisfied: tqdm in c:\\users\\roel\\.virtualenvs\\diagcovid-ckc2berq\\lib\\site-packages (from keras-tuner>=1.0.2->autokeras) (4.59.0)\n",
      "Collecting terminaltables\n",
      "  Using cached terminaltables-3.1.0-py3-none-any.whl\n",
      "Requirement already satisfied: numpy in c:\\users\\roel\\.virtualenvs\\diagcovid-ckc2berq\\lib\\site-packages (from keras-tuner>=1.0.2->autokeras) (1.19.5)\n",
      "Requirement already satisfied: requests in c:\\users\\roel\\.virtualenvs\\diagcovid-ckc2berq\\lib\\site-packages (from keras-tuner>=1.0.2->autokeras) (2.25.1)\n",
      "Requirement already satisfied: tabulate in c:\\users\\roel\\.virtualenvs\\diagcovid-ckc2berq\\lib\\site-packages (from keras-tuner>=1.0.2->autokeras) (0.8.9)\n",
      "Requirement already satisfied: colorama in c:\\users\\roel\\.virtualenvs\\diagcovid-ckc2berq\\lib\\site-packages (from keras-tuner>=1.0.2->autokeras) (0.4.4)\n",
      "Collecting tensorflow-estimator<2.5.0,>=2.4.0\n",
      "  Using cached tensorflow_estimator-2.4.0-py2.py3-none-any.whl (462 kB)\n",
      "Requirement already satisfied: typing-extensions~=3.7.4 in c:\\users\\roel\\.virtualenvs\\diagcovid-ckc2berq\\lib\\site-packages (from tensorflow>=2.3.0->autokeras) (3.7.4.3)\n",
      "Collecting opt-einsum~=3.3.0\n",
      "  Using cached opt_einsum-3.3.0-py3-none-any.whl (65 kB)\n",
      "Requirement already satisfied: protobuf>=3.9.2 in c:\\users\\roel\\.virtualenvs\\diagcovid-ckc2berq\\lib\\site-packages (from tensorflow>=2.3.0->autokeras) (3.15.6)\n",
      "Collecting google-pasta~=0.2\n",
      "  Using cached google_pasta-0.2.0-py3-none-any.whl (57 kB)\n",
      "Collecting grpcio~=1.32.0\n",
      "  Using cached grpcio-1.32.0-cp37-cp37m-win_amd64.whl (2.5 MB)\n",
      "Collecting astunparse~=1.6.3\n",
      "  Using cached astunparse-1.6.3-py2.py3-none-any.whl (12 kB)\n",
      "Requirement already satisfied: wheel~=0.35 in c:\\users\\roel\\.virtualenvs\\diagcovid-ckc2berq\\lib\\site-packages (from tensorflow>=2.3.0->autokeras) (0.36.2)\n",
      "Collecting wrapt~=1.12.1\n",
      "  Using cached wrapt-1.12.1-py3-none-any.whl\n",
      "Collecting gast==0.3.3\n",
      "  Using cached gast-0.3.3-py2.py3-none-any.whl (9.7 kB)\n",
      "Collecting flatbuffers~=1.12.0\n",
      "  Using cached flatbuffers-1.12-py2.py3-none-any.whl (15 kB)\n",
      "Collecting h5py~=2.10.0\n",
      "  Using cached h5py-2.10.0-cp37-cp37m-win_amd64.whl (2.5 MB)\n",
      "Collecting termcolor~=1.1.0\n",
      "  Using cached termcolor-1.1.0-py3-none-any.whl\n",
      "Requirement already satisfied: six~=1.15.0 in c:\\users\\roel\\.virtualenvs\\diagcovid-ckc2berq\\lib\\site-packages (from tensorflow>=2.3.0->autokeras) (1.15.0)\n",
      "Requirement already satisfied: absl-py~=0.10 in c:\\users\\roel\\.virtualenvs\\diagcovid-ckc2berq\\lib\\site-packages (from tensorflow>=2.3.0->autokeras) (0.12.0)\n",
      "Requirement already satisfied: tensorboard~=2.4 in c:\\users\\roel\\.virtualenvs\\diagcovid-ckc2berq\\lib\\site-packages (from tensorflow>=2.3.0->autokeras) (2.4.1)\n",
      "Collecting keras-preprocessing~=1.1.2\n",
      "  Using cached Keras_Preprocessing-1.1.2-py2.py3-none-any.whl (42 kB)\n",
      "Requirement already satisfied: werkzeug>=0.11.15 in c:\\users\\roel\\.virtualenvs\\diagcovid-ckc2berq\\lib\\site-packages (from tensorboard~=2.4->tensorflow>=2.3.0->autokeras) (1.0.1)\n",
      "Requirement already satisfied: markdown>=2.6.8 in c:\\users\\roel\\.virtualenvs\\diagcovid-ckc2berq\\lib\\site-packages (from tensorboard~=2.4->tensorflow>=2.3.0->autokeras) (3.3.4)\n",
      "Requirement already satisfied: tensorboard-plugin-wit>=1.6.0 in c:\\users\\roel\\.virtualenvs\\diagcovid-ckc2berq\\lib\\site-packages (from tensorboard~=2.4->tensorflow>=2.3.0->autokeras) (1.8.0)\n",
      "Requirement already satisfied: google-auth-oauthlib<0.5,>=0.4.1 in c:\\users\\roel\\.virtualenvs\\diagcovid-ckc2berq\\lib\\site-packages (from tensorboard~=2.4->tensorflow>=2.3.0->autokeras) (0.4.4)"
     ]
    },
    {
     "name": "stderr",
     "output_type": "stream",
     "text": [
      "WARNING: You are using pip version 21.0.1; however, version 21.1 is available.\n",
      "You should consider upgrading via the 'c:\\users\\roel\\.virtualenvs\\diagcovid-ckc2berq\\scripts\\python.exe -m pip install --upgrade pip' command.\n"
     ]
    },
    {
     "name": "stdout",
     "output_type": "stream",
     "text": [
      "\n",
      "Requirement already satisfied: google-auth<2,>=1.6.3 in c:\\users\\roel\\.virtualenvs\\diagcovid-ckc2berq\\lib\\site-packages (from tensorboard~=2.4->tensorflow>=2.3.0->autokeras) (1.28.0)\n",
      "Requirement already satisfied: setuptools>=41.0.0 in c:\\users\\roel\\.virtualenvs\\diagcovid-ckc2berq\\lib\\site-packages (from tensorboard~=2.4->tensorflow>=2.3.0->autokeras) (54.1.2)\n",
      "Requirement already satisfied: cachetools<5.0,>=2.0.0 in c:\\users\\roel\\.virtualenvs\\diagcovid-ckc2berq\\lib\\site-packages (from google-auth<2,>=1.6.3->tensorboard~=2.4->tensorflow>=2.3.0->autokeras) (4.2.1)\n",
      "Requirement already satisfied: rsa<5,>=3.1.4 in c:\\users\\roel\\.virtualenvs\\diagcovid-ckc2berq\\lib\\site-packages (from google-auth<2,>=1.6.3->tensorboard~=2.4->tensorflow>=2.3.0->autokeras) (4.7.2)\n",
      "Requirement already satisfied: pyasn1-modules>=0.2.1 in c:\\users\\roel\\.virtualenvs\\diagcovid-ckc2berq\\lib\\site-packages (from google-auth<2,>=1.6.3->tensorboard~=2.4->tensorflow>=2.3.0->autokeras) (0.2.8)\n",
      "Requirement already satisfied: requests-oauthlib>=0.7.0 in c:\\users\\roel\\.virtualenvs\\diagcovid-ckc2berq\\lib\\site-packages (from google-auth-oauthlib<0.5,>=0.4.1->tensorboard~=2.4->tensorflow>=2.3.0->autokeras) (1.3.0)\n",
      "Requirement already satisfied: importlib-metadata in c:\\users\\roel\\.virtualenvs\\diagcovid-ckc2berq\\lib\\site-packages (from markdown>=2.6.8->tensorboard~=2.4->tensorflow>=2.3.0->autokeras) (3.10.0)\n",
      "Requirement already satisfied: pyasn1<0.5.0,>=0.4.6 in c:\\users\\roel\\.virtualenvs\\diagcovid-ckc2berq\\lib\\site-packages (from pyasn1-modules>=0.2.1->google-auth<2,>=1.6.3->tensorboard~=2.4->tensorflow>=2.3.0->autokeras) (0.4.8)\n",
      "Requirement already satisfied: idna<3,>=2.5 in c:\\users\\roel\\.virtualenvs\\diagcovid-ckc2berq\\lib\\site-packages (from requests->keras-tuner>=1.0.2->autokeras) (2.10)\n",
      "Requirement already satisfied: urllib3<1.27,>=1.21.1 in c:\\users\\roel\\.virtualenvs\\diagcovid-ckc2berq\\lib\\site-packages (from requests->keras-tuner>=1.0.2->autokeras) (1.26.4)\n",
      "Requirement already satisfied: certifi>=2017.4.17 in c:\\users\\roel\\.virtualenvs\\diagcovid-ckc2berq\\lib\\site-packages (from requests->keras-tuner>=1.0.2->autokeras) (2020.12.5)\n",
      "Requirement already satisfied: chardet<5,>=3.0.2 in c:\\users\\roel\\.virtualenvs\\diagcovid-ckc2berq\\lib\\site-packages (from requests->keras-tuner>=1.0.2->autokeras) (4.0.0)\n",
      "Requirement already satisfied: oauthlib>=3.0.0 in c:\\users\\roel\\.virtualenvs\\diagcovid-ckc2berq\\lib\\site-packages (from requests-oauthlib>=0.7.0->google-auth-oauthlib<0.5,>=0.4.1->tensorboard~=2.4->tensorflow>=2.3.0->autokeras) (3.1.0)\n",
      "Requirement already satisfied: zipp>=0.5 in c:\\users\\roel\\.virtualenvs\\diagcovid-ckc2berq\\lib\\site-packages (from importlib-metadata->markdown>=2.6.8->tensorboard~=2.4->tensorflow>=2.3.0->autokeras) (3.4.1)\n",
      "Requirement already satisfied: pyparsing>=2.0.2 in c:\\users\\roel\\.virtualenvs\\diagcovid-ckc2berq\\lib\\site-packages (from packaging->autokeras) (2.4.7)\n",
      "Requirement already satisfied: pytz>=2017.3 in c:\\users\\roel\\.virtualenvs\\diagcovid-ckc2berq\\lib\\site-packages (from pandas->autokeras) (2021.1)\n",
      "Requirement already satisfied: python-dateutil>=2.7.3 in c:\\users\\roel\\.virtualenvs\\diagcovid-ckc2berq\\lib\\site-packages (from pandas->autokeras) (2.8.1)\n",
      "Requirement already satisfied: threadpoolctl>=2.0.0 in c:\\users\\roel\\.virtualenvs\\diagcovid-ckc2berq\\lib\\site-packages (from scikit-learn->autokeras) (2.1.0)\n",
      "Requirement already satisfied: joblib>=0.11 in c:\\users\\roel\\.virtualenvs\\diagcovid-ckc2berq\\lib\\site-packages (from scikit-learn->autokeras) (1.0.1)\n",
      "Installing collected packages: grpcio, wrapt, terminaltables, termcolor, tensorflow-estimator, opt-einsum, keras-preprocessing, h5py, google-pasta, gast, flatbuffers, astunparse, tensorflow, keras-tuner, autokeras\n",
      "  Attempting uninstall: grpcio\n",
      "    Found existing installation: grpcio 1.36.1\n",
      "    Uninstalling grpcio-1.36.1:\n",
      "      Successfully uninstalled grpcio-1.36.1\n",
      "Successfully installed astunparse-1.6.3 autokeras-1.0.12 flatbuffers-1.12 gast-0.3.3 google-pasta-0.2.0 grpcio-1.32.0 h5py-2.10.0 keras-preprocessing-1.1.2 keras-tuner-1.0.2 opt-einsum-3.3.0 tensorflow-2.4.1 tensorflow-estimator-2.4.0 termcolor-1.1.0 terminaltables-3.1.0 wrapt-1.12.1\n"
     ]
    }
   ],
   "source": [
    "!pip install autokeras"
   ]
  },
  {
   "cell_type": "code",
   "execution_count": 249,
   "metadata": {},
   "outputs": [
    {
     "name": "stdout",
     "output_type": "stream",
     "text": [
      "Trial 1 Complete [00h 00m 14s]\n",
      "val_auc: 0.9382480382919312\n",
      "\n",
      "Best val_auc So Far: 0.9509803652763367\n",
      "Total elapsed time: 00h 00m 14s\n",
      "INFO:tensorflow:Oracle triggered exit\n",
      "Epoch 1/52\n",
      "20/20 [==============================] - 1s 1ms/step - loss: 0.8240 - auc: 0.7120\n",
      "Epoch 2/52\n",
      "20/20 [==============================] - 0s 1ms/step - loss: 0.6809 - auc: 0.4281\n",
      "Epoch 3/52\n",
      "20/20 [==============================] - 0s 1ms/step - loss: 0.5938 - auc: 0.5100\n",
      "Epoch 4/52\n",
      "20/20 [==============================] - 0s 1ms/step - loss: 0.5284 - auc: 0.5456\n",
      "Epoch 5/52\n",
      "20/20 [==============================] - 0s 1ms/step - loss: 0.4781 - auc: 0.5600\n",
      "Epoch 6/52\n",
      "20/20 [==============================] - 0s 1ms/step - loss: 0.4386 - auc: 0.5680\n",
      "Epoch 7/52\n",
      "20/20 [==============================] - 0s 1ms/step - loss: 0.4070 - auc: 0.5728\n",
      "Epoch 8/52\n",
      "20/20 [==============================] - 0s 1ms/step - loss: 0.3817 - auc: 0.5760\n",
      "Epoch 9/52\n",
      "20/20 [==============================] - 0s 1ms/step - loss: 0.3607 - auc: 0.5790\n",
      "Epoch 10/52\n",
      "20/20 [==============================] - 0s 1ms/step - loss: 0.3432 - auc: 0.5809\n",
      "Epoch 11/52\n",
      "20/20 [==============================] - 0s 1ms/step - loss: 0.3284 - auc: 0.5830\n",
      "Epoch 12/52\n",
      "20/20 [==============================] - 0s 1ms/step - loss: 0.3156 - auc: 0.5845\n",
      "Epoch 13/52\n",
      "20/20 [==============================] - 0s 1ms/step - loss: 0.3044 - auc: 0.5859\n",
      "Epoch 14/52\n",
      "20/20 [==============================] - 0s 1ms/step - loss: 0.2945 - auc: 0.5871\n",
      "Epoch 15/52\n",
      "20/20 [==============================] - 0s 1ms/step - loss: 0.2857 - auc: 0.5881\n",
      "Epoch 16/52\n",
      "20/20 [==============================] - 0s 1ms/step - loss: 0.2780 - auc: 0.5892\n",
      "Epoch 17/52\n",
      "20/20 [==============================] - 0s 1ms/step - loss: 0.2710 - auc: 0.5901\n",
      "Epoch 18/52\n",
      "20/20 [==============================] - 0s 1ms/step - loss: 0.2647 - auc: 0.5911\n",
      "Epoch 19/52\n",
      "20/20 [==============================] - 0s 1ms/step - loss: 0.2589 - auc: 0.5919\n",
      "Epoch 20/52\n",
      "20/20 [==============================] - 0s 1ms/step - loss: 0.2535 - auc: 0.5925\n",
      "Epoch 21/52\n",
      "20/20 [==============================] - 0s 1ms/step - loss: 0.2486 - auc: 0.5931\n",
      "Epoch 22/52\n",
      "20/20 [==============================] - 0s 1ms/step - loss: 0.2440 - auc: 0.5938\n",
      "Epoch 23/52\n",
      "20/20 [==============================] - 0s 1ms/step - loss: 0.2396 - auc: 0.5945\n",
      "Epoch 24/52\n",
      "20/20 [==============================] - 0s 1ms/step - loss: 0.2357 - auc: 0.5951\n",
      "Epoch 25/52\n",
      "20/20 [==============================] - 0s 1ms/step - loss: 0.2320 - auc: 0.5953\n",
      "Epoch 26/52\n",
      "20/20 [==============================] - 0s 1ms/step - loss: 0.2285 - auc: 0.5962\n",
      "Epoch 27/52\n",
      "20/20 [==============================] - 0s 1ms/step - loss: 0.2252 - auc: 0.5968\n",
      "Epoch 28/52\n",
      "20/20 [==============================] - 0s 1ms/step - loss: 0.2221 - auc: 0.5974\n",
      "Epoch 29/52\n",
      "20/20 [==============================] - 0s 1ms/step - loss: 0.2191 - auc: 0.5980\n",
      "Epoch 30/52\n",
      "20/20 [==============================] - 0s 1ms/step - loss: 0.2163 - auc: 0.5983\n",
      "Epoch 31/52\n",
      "20/20 [==============================] - 0s 1ms/step - loss: 0.2137 - auc: 0.5990\n",
      "Epoch 32/52\n",
      "20/20 [==============================] - 0s 1ms/step - loss: 0.2111 - auc: 0.5994\n",
      "Epoch 33/52\n",
      "20/20 [==============================] - 0s 1ms/step - loss: 0.2086 - auc: 0.5997\n",
      "Epoch 34/52\n",
      "20/20 [==============================] - 0s 1ms/step - loss: 0.2062 - auc: 0.6002\n",
      "Epoch 35/52\n",
      "20/20 [==============================] - 0s 1ms/step - loss: 0.2040 - auc: 0.6003\n",
      "Epoch 36/52\n",
      "20/20 [==============================] - 0s 1ms/step - loss: 0.2019 - auc: 0.6007\n",
      "Epoch 37/52\n",
      "20/20 [==============================] - 0s 1ms/step - loss: 0.1999 - auc: 0.6009\n",
      "Epoch 38/52\n",
      "20/20 [==============================] - 0s 1ms/step - loss: 0.1980 - auc: 0.6013\n",
      "Epoch 39/52\n",
      "20/20 [==============================] - 0s 1ms/step - loss: 0.1961 - auc: 0.6017\n",
      "Epoch 40/52\n",
      "20/20 [==============================] - 0s 1ms/step - loss: 0.1943 - auc: 0.6019\n",
      "Epoch 41/52\n",
      "20/20 [==============================] - 0s 1ms/step - loss: 0.1925 - auc: 0.6022\n",
      "Epoch 42/52\n",
      "20/20 [==============================] - 0s 1ms/step - loss: 0.1908 - auc: 0.6026\n",
      "Epoch 43/52\n",
      "20/20 [==============================] - 0s 1ms/step - loss: 0.1891 - auc: 0.6028\n",
      "Epoch 44/52\n",
      "20/20 [==============================] - 0s 1ms/step - loss: 0.1875 - auc: 0.6030\n",
      "Epoch 45/52\n",
      "20/20 [==============================] - 0s 1ms/step - loss: 0.1859 - auc: 0.6034\n",
      "Epoch 46/52\n",
      "20/20 [==============================] - 0s 1ms/step - loss: 0.1844 - auc: 0.6037\n",
      "Epoch 47/52\n",
      "20/20 [==============================] - 0s 1ms/step - loss: 0.1829 - auc: 0.6041\n",
      "Epoch 48/52\n",
      "20/20 [==============================] - 0s 1ms/step - loss: 0.1814 - auc: 0.6042\n",
      "Epoch 49/52\n",
      "20/20 [==============================] - 0s 1ms/step - loss: 0.1799 - auc: 0.6045\n",
      "Epoch 50/52\n",
      "20/20 [==============================] - 0s 1ms/step - loss: 0.1785 - auc: 0.6048\n",
      "Epoch 51/52\n",
      "20/20 [==============================] - 0s 1ms/step - loss: 0.1771 - auc: 0.6050\n",
      "Epoch 52/52\n",
      "20/20 [==============================] - 0s 1ms/step - loss: 0.1757 - auc: 0.6050\n",
      "INFO:tensorflow:Assets written to: .\\structured_data_classifier\\best_model\\assets\n"
     ]
    }
   ],
   "source": [
    "import autokeras as ak\n",
    "from tensorflow.keras.metrics import AUC\n",
    "from kerastuner import Objective\n",
    "ak_clf = ak.StructuredDataClassifier(metrics=[AUC()], objective=Objective('val_auc', 'max'), max_trials=16)\n",
    "ak_clf.fit(X_train, y_train.values)"
   ]
  },
  {
   "cell_type": "code",
   "execution_count": 253,
   "metadata": {},
   "outputs": [
    {
     "name": "stdout",
     "output_type": "stream",
     "text": [
      "WARNING:tensorflow:11 out of the last 11 calls to <function recreate_function.<locals>.restored_function_body at 0x000001F407D9C828> triggered tf.function retracing. Tracing is expensive and the excessive number of tracings could be due to (1) creating @tf.function repeatedly in a loop, (2) passing tensors with different shapes, (3) passing Python objects instead of tensors. For (1), please define your @tf.function outside of the loop. For (2), @tf.function has experimental_relax_shapes=True option that relaxes argument shapes that can avoid unnecessary retracing. For (3), please refer to https://www.tensorflow.org/guide/function#controlling_retracing and https://www.tensorflow.org/api_docs/python/tf/function for  more details.\n",
      "WARNING:tensorflow:11 out of the last 11 calls to <function recreate_function.<locals>.restored_function_body at 0x000001F407D985E8> triggered tf.function retracing. Tracing is expensive and the excessive number of tracings could be due to (1) creating @tf.function repeatedly in a loop, (2) passing tensors with different shapes, (3) passing Python objects instead of tensors. For (1), please define your @tf.function outside of the loop. For (2), @tf.function has experimental_relax_shapes=True option that relaxes argument shapes that can avoid unnecessary retracing. For (3), please refer to https://www.tensorflow.org/guide/function#controlling_retracing and https://www.tensorflow.org/api_docs/python/tf/function for  more details.\n",
      "WARNING:tensorflow:11 out of the last 11 calls to <function recreate_function.<locals>.restored_function_body at 0x000001F407D79948> triggered tf.function retracing. Tracing is expensive and the excessive number of tracings could be due to (1) creating @tf.function repeatedly in a loop, (2) passing tensors with different shapes, (3) passing Python objects instead of tensors. For (1), please define your @tf.function outside of the loop. For (2), @tf.function has experimental_relax_shapes=True option that relaxes argument shapes that can avoid unnecessary retracing. For (3), please refer to https://www.tensorflow.org/guide/function#controlling_retracing and https://www.tensorflow.org/api_docs/python/tf/function for  more details.\n",
      "WARNING:tensorflow:11 out of the last 11 calls to <function recreate_function.<locals>.restored_function_body at 0x000001F407D8AC18> triggered tf.function retracing. Tracing is expensive and the excessive number of tracings could be due to (1) creating @tf.function repeatedly in a loop, (2) passing tensors with different shapes, (3) passing Python objects instead of tensors. For (1), please define your @tf.function outside of the loop. For (2), @tf.function has experimental_relax_shapes=True option that relaxes argument shapes that can avoid unnecessary retracing. For (3), please refer to https://www.tensorflow.org/guide/function#controlling_retracing and https://www.tensorflow.org/api_docs/python/tf/function for  more details.\n",
      "WARNING:tensorflow:11 out of the last 11 calls to <function recreate_function.<locals>.restored_function_body at 0x000001F407DA4048> triggered tf.function retracing. Tracing is expensive and the excessive number of tracings could be due to (1) creating @tf.function repeatedly in a loop, (2) passing tensors with different shapes, (3) passing Python objects instead of tensors. For (1), please define your @tf.function outside of the loop. For (2), @tf.function has experimental_relax_shapes=True option that relaxes argument shapes that can avoid unnecessary retracing. For (3), please refer to https://www.tensorflow.org/guide/function#controlling_retracing and https://www.tensorflow.org/api_docs/python/tf/function for  more details.\n"
     ]
    }
   ],
   "source": [
    "model = ak_clf.export_model()"
   ]
  },
  {
   "cell_type": "code",
   "execution_count": 255,
   "metadata": {},
   "outputs": [
    {
     "data": {
      "text/plain": [
       "0.896558340746943"
      ]
     },
     "execution_count": 255,
     "metadata": {},
     "output_type": "execute_result"
    }
   ],
   "source": [
    "roc_auc_score(y_test, model.predict(X_test))"
   ]
  },
  {
   "cell_type": "code",
   "execution_count": 271,
   "metadata": {},
   "outputs": [
    {
     "data": {
      "text/plain": [
       "LogisticRegression(max_iter=500)"
      ]
     },
     "execution_count": 271,
     "metadata": {},
     "output_type": "execute_result"
    }
   ],
   "source": [
    "from sklearn.linear_model import LogisticRegression\n",
    "from sklearn.preprocessing import StandardScaler\n",
    "lr = LogisticRegression(max_iter=500)\n",
    "scaler = StandardScaler()\n",
    "scaler.fit(X_train)\n",
    "lr.fit(scaler.transform(imputer.transform(X_train)), y_train)"
   ]
  },
  {
   "cell_type": "code",
   "execution_count": 26,
   "metadata": {},
   "outputs": [
    {
     "data": {
      "text/plain": [
       "RandomForestClassifier()"
      ]
     },
     "execution_count": 26,
     "metadata": {},
     "output_type": "execute_result"
    }
   ],
   "source": [
    "rf = RandomForestClassifier()\n",
    "rf.fit(imputer.transform(X_train), y_train)"
   ]
  },
  {
   "cell_type": "code",
   "execution_count": 24,
   "metadata": {
    "colab": {
     "base_uri": "https://localhost:8080/"
    },
    "id": "OVoDuA5g2E28",
    "outputId": "7871cb85-fc47-4947-9910-6843c231faa8"
   },
   "outputs": [],
   "source": [
    "from sklearn.metrics import roc_auc_score\n",
    "from tqdm import tqdm\n",
    "results = []\n",
    "results_imp = []\n",
    "results_bagged = []\n",
    "results_rf = []\n",
    "results_nn = []\n",
    "results = []"
   ]
  },
  {
   "cell_type": "code",
   "execution_count": 27,
   "metadata": {
    "colab": {
     "base_uri": "https://localhost:8080/"
    },
    "id": "OVoDuA5g2E28",
    "outputId": "7871cb85-fc47-4947-9910-6843c231faa8"
   },
   "outputs": [
    {
     "name": "stderr",
     "output_type": "stream",
     "text": [
      "  0%|                                                                                                          | 0/28 [00:00<?, ?it/s]"
     ]
    },
    {
     "name": "stdout",
     "output_type": "stream",
     "text": [
      "1\n",
      "2\n"
     ]
    },
    {
     "name": "stderr",
     "output_type": "stream",
     "text": [
      "  7%|███████                                                                                           | 2/28 [00:00<00:03,  7.18it/s]"
     ]
    },
    {
     "name": "stdout",
     "output_type": "stream",
     "text": [
      "3\n"
     ]
    },
    {
     "name": "stderr",
     "output_type": "stream",
     "text": [
      " 11%|██████████▌                                                                                       | 3/28 [00:00<00:04,  5.35it/s]"
     ]
    },
    {
     "name": "stdout",
     "output_type": "stream",
     "text": [
      "4\n"
     ]
    },
    {
     "name": "stderr",
     "output_type": "stream",
     "text": [
      " 14%|██████████████                                                                                    | 4/28 [00:00<00:05,  4.72it/s]"
     ]
    },
    {
     "name": "stdout",
     "output_type": "stream",
     "text": [
      "5\n"
     ]
    },
    {
     "name": "stderr",
     "output_type": "stream",
     "text": [
      " 18%|█████████████████▌                                                                                | 5/28 [00:01<00:05,  4.25it/s]"
     ]
    },
    {
     "name": "stdout",
     "output_type": "stream",
     "text": [
      "6\n"
     ]
    },
    {
     "name": "stderr",
     "output_type": "stream",
     "text": [
      " 21%|█████████████████████                                                                             | 6/28 [00:01<00:05,  4.06it/s]"
     ]
    },
    {
     "name": "stdout",
     "output_type": "stream",
     "text": [
      "7\n"
     ]
    },
    {
     "name": "stderr",
     "output_type": "stream",
     "text": [
      " 25%|████████████████████████▌                                                                         | 7/28 [00:01<00:05,  3.86it/s]"
     ]
    },
    {
     "name": "stdout",
     "output_type": "stream",
     "text": [
      "8\n"
     ]
    },
    {
     "name": "stderr",
     "output_type": "stream",
     "text": [
      " 29%|████████████████████████████                                                                      | 8/28 [00:01<00:05,  3.81it/s]"
     ]
    },
    {
     "name": "stdout",
     "output_type": "stream",
     "text": [
      "9\n"
     ]
    },
    {
     "name": "stderr",
     "output_type": "stream",
     "text": [
      " 32%|███████████████████████████████▌                                                                  | 9/28 [00:02<00:05,  3.68it/s]"
     ]
    },
    {
     "name": "stdout",
     "output_type": "stream",
     "text": [
      "10\n"
     ]
    },
    {
     "name": "stderr",
     "output_type": "stream",
     "text": [
      " 36%|██████████████████████████████████▋                                                              | 10/28 [00:02<00:05,  3.60it/s]"
     ]
    },
    {
     "name": "stdout",
     "output_type": "stream",
     "text": [
      "11\n"
     ]
    },
    {
     "name": "stderr",
     "output_type": "stream",
     "text": [
      " 39%|██████████████████████████████████████                                                           | 11/28 [00:02<00:04,  3.58it/s]"
     ]
    },
    {
     "name": "stdout",
     "output_type": "stream",
     "text": [
      "12\n"
     ]
    },
    {
     "name": "stderr",
     "output_type": "stream",
     "text": [
      " 43%|█████████████████████████████████████████▌                                                       | 12/28 [00:03<00:04,  3.53it/s]"
     ]
    },
    {
     "name": "stdout",
     "output_type": "stream",
     "text": [
      "13\n"
     ]
    },
    {
     "name": "stderr",
     "output_type": "stream",
     "text": [
      " 46%|█████████████████████████████████████████████                                                    | 13/28 [00:03<00:04,  3.46it/s]"
     ]
    },
    {
     "name": "stdout",
     "output_type": "stream",
     "text": [
      "14\n"
     ]
    },
    {
     "name": "stderr",
     "output_type": "stream",
     "text": [
      " 50%|████████████████████████████████████████████████▌                                                | 14/28 [00:03<00:04,  3.49it/s]"
     ]
    },
    {
     "name": "stdout",
     "output_type": "stream",
     "text": [
      "15\n"
     ]
    },
    {
     "name": "stderr",
     "output_type": "stream",
     "text": [
      " 54%|███████████████████████████████████████████████████▉                                             | 15/28 [00:03<00:03,  3.40it/s]"
     ]
    },
    {
     "name": "stdout",
     "output_type": "stream",
     "text": [
      "16\n"
     ]
    },
    {
     "name": "stderr",
     "output_type": "stream",
     "text": [
      " 57%|███████████████████████████████████████████████████████▍                                         | 16/28 [00:04<00:03,  3.42it/s]"
     ]
    },
    {
     "name": "stdout",
     "output_type": "stream",
     "text": [
      "17\n"
     ]
    },
    {
     "name": "stderr",
     "output_type": "stream",
     "text": [
      " 61%|██████████████████████████████████████████████████████████▉                                      | 17/28 [00:04<00:03,  3.35it/s]"
     ]
    },
    {
     "name": "stdout",
     "output_type": "stream",
     "text": [
      "18\n"
     ]
    },
    {
     "name": "stderr",
     "output_type": "stream",
     "text": [
      " 64%|██████████████████████████████████████████████████████████████▎                                  | 18/28 [00:04<00:02,  3.34it/s]"
     ]
    },
    {
     "name": "stdout",
     "output_type": "stream",
     "text": [
      "19\n"
     ]
    },
    {
     "name": "stderr",
     "output_type": "stream",
     "text": [
      " 68%|█████████████████████████████████████████████████████████████████▊                               | 19/28 [00:05<00:02,  3.32it/s]"
     ]
    },
    {
     "name": "stdout",
     "output_type": "stream",
     "text": [
      "20\n"
     ]
    },
    {
     "name": "stderr",
     "output_type": "stream",
     "text": [
      " 71%|█████████████████████████████████████████████████████████████████████▎                           | 20/28 [00:05<00:02,  3.32it/s]"
     ]
    },
    {
     "name": "stdout",
     "output_type": "stream",
     "text": [
      "21\n"
     ]
    },
    {
     "name": "stderr",
     "output_type": "stream",
     "text": [
      " 75%|████████████████████████████████████████████████████████████████████████▊                        | 21/28 [00:05<00:02,  3.32it/s]"
     ]
    },
    {
     "name": "stdout",
     "output_type": "stream",
     "text": [
      "22\n"
     ]
    },
    {
     "name": "stderr",
     "output_type": "stream",
     "text": [
      " 79%|████████████████████████████████████████████████████████████████████████████▏                    | 22/28 [00:06<00:01,  3.38it/s]"
     ]
    },
    {
     "name": "stdout",
     "output_type": "stream",
     "text": [
      "23\n"
     ]
    },
    {
     "name": "stderr",
     "output_type": "stream",
     "text": [
      " 82%|███████████████████████████████████████████████████████████████████████████████▋                 | 23/28 [00:06<00:01,  3.38it/s]"
     ]
    },
    {
     "name": "stdout",
     "output_type": "stream",
     "text": [
      "24\n"
     ]
    },
    {
     "name": "stderr",
     "output_type": "stream",
     "text": [
      " 86%|███████████████████████████████████████████████████████████████████████████████████▏             | 24/28 [00:06<00:01,  3.43it/s]"
     ]
    },
    {
     "name": "stdout",
     "output_type": "stream",
     "text": [
      "25\n"
     ]
    },
    {
     "name": "stderr",
     "output_type": "stream",
     "text": [
      " 89%|██████████████████████████████████████████████████████████████████████████████████████▌          | 25/28 [00:06<00:00,  3.48it/s]"
     ]
    },
    {
     "name": "stdout",
     "output_type": "stream",
     "text": [
      "26\n"
     ]
    },
    {
     "name": "stderr",
     "output_type": "stream",
     "text": [
      "100%|█████████████████████████████████████████████████████████████████████████████████████████████████| 28/28 [00:07<00:00,  3.86it/s]"
     ]
    },
    {
     "name": "stdout",
     "output_type": "stream",
     "text": [
      "27\n",
      "28\n"
     ]
    },
    {
     "name": "stderr",
     "output_type": "stream",
     "text": [
      "\n"
     ]
    }
   ],
   "source": [
    "for i in tqdm(range(1, 29)):\n",
    "    print(i)\n",
    "    \n",
    "#     results_imp.append(roc_auc_score(y, bst.predict(X_imputed)))\n",
    "#     results_bagged.append(roc_auc_score(y, lgbm_bagged.predict_proba(X_imputed)[:, 1]))\n",
    "#     results_nn.append(roc_auc_score(y, model.predict(X_imputed)))\n",
    "    X = test_for_n[i]\n",
    "    y = y_test.loc[X.index]\n",
    "#     results.append(roc_auc_score(y, bst.predict(X)))\n",
    "    all_nan = X.isna().all(axis=1)\n",
    "    X = X.drop(X[all_nan].index)\n",
    "    y = y.drop(y[all_nan].index)\n",
    "#         X_imputed = imputer.transform(X)\n",
    "#     results.append({'model': 'lgbm_hyperopt', 'i': i, 'score': roc_auc_score(y, blah.predict_proba((imputer.transform(X)))[:, 1])})\n",
    "    results.append({'model': 'rf', 'i': i, 'score': roc_auc_score(y, rf.predict_proba((imputer.transform(X)))[:, 1])})\n",
    "\n",
    "#     results_rf.append(roc_auc_score(y, rf.predict_proba(imputer.transform(X))[:, 1]))"
   ]
  },
  {
   "cell_type": "code",
   "execution_count": 30,
   "metadata": {},
   "outputs": [
    {
     "data": {
      "text/plain": [
       "<AxesSubplot:xlabel='i', ylabel='score'>"
      ]
     },
     "execution_count": 30,
     "metadata": {},
     "output_type": "execute_result"
    },
    {
     "data": {
      "image/png": "[encoded data removed]",
      "text/plain": [
       "<Figure size 432x288 with 1 Axes>"
      ]
     },
     "metadata": {},
     "output_type": "display_data"
    }
   ],
   "source": [
    "import seaborn as sns\n",
    "sns.set()\n",
    "sns.lineplot(data=pd.DataFrame(results), x='i', y='score', hue='model')"
   ]
  },
  {
   "cell_type": "code",
   "execution_count": 29,
   "metadata": {},
   "outputs": [
    {
     "data": {
      "text/plain": [
       "<AxesSubplot:xlabel='i', ylabel='score'>"
      ]
     },
     "execution_count": 29,
     "metadata": {},
     "output_type": "execute_result"
    },
    {
     "data": {
      "image/png": "[encoded data removed]",
      "text/plain": [
       "<Figure size 432x288 with 1 Axes>"
      ]
     },
     "metadata": {
      "needs_background": "light"
     },
     "output_type": "display_data"
    }
   ],
   "source": [
    "import seaborn as sns\n",
    "sns.lineplot(data=pd.DataFrame(results), x='i', y='score', hue='model')"
   ]
  },
  {
   "cell_type": "code",
   "execution_count": 257,
   "metadata": {
    "colab": {
     "base_uri": "https://localhost:8080/",
     "height": 284
    },
    "id": "7aLsLnNy71tB",
    "outputId": "f44219ee-53ef-4d0f-df7e-5142403a90bc"
   },
   "outputs": [
    {
     "data": {
      "text/plain": [
       "<matplotlib.legend.Legend at 0x1f408588f08>"
      ]
     },
     "execution_count": 257,
     "metadata": {},
     "output_type": "execute_result"
    },
    {
     "data": {
      "image/png": "[encoded data removed]",
      "text/plain": [
       "<Figure size 432x288 with 1 Axes>"
      ]
     },
     "metadata": {
      "needs_background": "light"
     },
     "output_type": "display_data"
    }
   ],
   "source": [
    "import matplotlib.pyplot as plt\n",
    "# plt.plot(np.arange(1, 6), results, label='lgbm')\n",
    "# plt.plot(np.arange(1, 6), results_imp, label='lgbm_imp')\n",
    "# plt.plot(np.arange(1, 6), results_bagged, label='lgbm_bagged')\n",
    "plt.plot(np.arange(1, 6), results_nn, label='nn')\n",
    "# plt.plot(np.arange(1, 6), results_rf, label='rf')\n",
    "plt.legend()"
   ]
  },
  {
   "cell_type": "code",
   "execution_count": 20,
   "metadata": {
    "colab": {
     "base_uri": "https://localhost:8080/",
     "height": 284
    },
    "id": "7aLsLnNy71tB",
    "outputId": "f44219ee-53ef-4d0f-df7e-5142403a90bc"
   },
   "outputs": [
    {
     "data": {
      "text/plain": [
       "<matplotlib.legend.Legend at 0x1f2342d4d48>"
      ]
     },
     "execution_count": 20,
     "metadata": {},
     "output_type": "execute_result"
    },
    {
     "data": {
      "image/png": "[encoded data removed]",
      "text/plain": [
       "<Figure size 432x288 with 1 Axes>"
      ]
     },
     "metadata": {
      "needs_background": "light"
     },
     "output_type": "display_data"
    }
   ],
   "source": [
    "import matplotlib.pyplot as plt\n",
    "plt.plot(np.arange(1, 6), results, label='lgbm')\n",
    "plt.plot(np.arange(1, 6), results_imp, label='lgbm_imp')\n",
    "plt.plot(np.arange(1, 6), results_bagged, label='lgbm_bagged')\n",
    "plt.plot(np.arange(1, 6), results_rf, label='rf')\n",
    "plt.legend()"
   ]
  },
  {
   "cell_type": "code",
   "execution_count": 113,
   "metadata": {
    "colab": {
     "base_uri": "https://localhost:8080/"
    },
    "id": "gGAo9Gn6CWD_",
    "outputId": "ac821a4b-b3a9-44f5-d5e8-6ef5b2895f43"
   },
   "outputs": [
    {
     "name": "stdout",
     "output_type": "stream",
     "text": [
      "processor\t: 0\n",
      "vendor_id\t: GenuineIntel\n",
      "cpu family\t: 6\n",
      "model\t\t: 63\n",
      "model name\t: Intel(R) Xeon(R) CPU @ 2.30GHz\n",
      "stepping\t: 0\n",
      "microcode\t: 0x1\n",
      "cpu MHz\t\t: 2299.998\n",
      "cache size\t: 46080 KB\n",
      "physical id\t: 0\n",
      "siblings\t: 2\n",
      "core id\t\t: 0\n",
      "cpu cores\t: 1\n",
      "apicid\t\t: 0\n",
      "initial apicid\t: 0\n",
      "fpu\t\t: yes\n",
      "fpu_exception\t: yes\n",
      "cpuid level\t: 13\n",
      "wp\t\t: yes\n",
      "flags\t\t: fpu vme de pse tsc msr pae mce cx8 apic sep mtrr pge mca cmov pat pse36 clflush mmx fxsr sse sse2 ss ht syscall nx pdpe1gb rdtscp lm constant_tsc rep_good nopl xtopology nonstop_tsc cpuid tsc_known_freq pni pclmulqdq ssse3 fma cx16 pcid sse4_1 sse4_2 x2apic movbe popcnt aes xsave avx f16c rdrand hypervisor lahf_lm abm invpcid_single ssbd ibrs ibpb stibp fsgsbase tsc_adjust bmi1 avx2 smep bmi2 erms invpcid xsaveopt arat md_clear arch_capabilities\n",
      "bugs\t\t: cpu_meltdown spectre_v1 spectre_v2 spec_store_bypass l1tf mds swapgs\n",
      "bogomips\t: 4599.99\n",
      "clflush size\t: 64\n",
      "cache_alignment\t: 64\n",
      "address sizes\t: 46 bits physical, 48 bits virtual\n",
      "power management:\n",
      "\n",
      "processor\t: 1\n",
      "vendor_id\t: GenuineIntel\n",
      "cpu family\t: 6\n",
      "model\t\t: 63\n",
      "model name\t: Intel(R) Xeon(R) CPU @ 2.30GHz\n",
      "stepping\t: 0\n",
      "microcode\t: 0x1\n",
      "cpu MHz\t\t: 2299.998\n",
      "cache size\t: 46080 KB\n",
      "physical id\t: 0\n",
      "siblings\t: 2\n",
      "core id\t\t: 0\n",
      "cpu cores\t: 1\n",
      "apicid\t\t: 1\n",
      "initial apicid\t: 1\n",
      "fpu\t\t: yes\n",
      "fpu_exception\t: yes\n",
      "cpuid level\t: 13\n",
      "wp\t\t: yes\n",
      "flags\t\t: fpu vme de pse tsc msr pae mce cx8 apic sep mtrr pge mca cmov pat pse36 clflush mmx fxsr sse sse2 ss ht syscall nx pdpe1gb rdtscp lm constant_tsc rep_good nopl xtopology nonstop_tsc cpuid tsc_known_freq pni pclmulqdq ssse3 fma cx16 pcid sse4_1 sse4_2 x2apic movbe popcnt aes xsave avx f16c rdrand hypervisor lahf_lm abm invpcid_single ssbd ibrs ibpb stibp fsgsbase tsc_adjust bmi1 avx2 smep bmi2 erms invpcid xsaveopt arat md_clear arch_capabilities\n",
      "bugs\t\t: cpu_meltdown spectre_v1 spectre_v2 spec_store_bypass l1tf mds swapgs\n",
      "bogomips\t: 4599.99\n",
      "clflush size\t: 64\n",
      "cache_alignment\t: 64\n",
      "address sizes\t: 46 bits physical, 48 bits virtual\n",
      "power management:\n",
      "\n"
     ]
    }
   ],
   "source": [
    "!cat /proc/cpuinfo"
   ]
  },
  {
   "cell_type": "code",
   "execution_count": 33,
   "metadata": {
    "colab": {
     "base_uri": "https://localhost:8080/"
    },
    "id": "94UiLdxG1uPx",
    "outputId": "67cf94a9-73a6-4879-ed7e-5d3ea9267b84"
   },
   "outputs": [
    {
     "data": {
      "text/plain": [
       "ID\n",
       "1      1\n",
       "2      1\n",
       "3      1\n",
       "4      1\n",
       "5      1\n",
       "      ..\n",
       "484    0\n",
       "485    0\n",
       "486    0\n",
       "487    0\n",
       "488    0\n",
       "Name: PCR Result, Length: 488000, dtype: int64"
      ]
     },
     "execution_count": 33,
     "metadata": {
      "tags": []
     },
     "output_type": "execute_result"
    }
   ],
   "source": [
    "y_test.loc[test_for_n[3].index]"
   ]
  },
  {
   "cell_type": "code",
   "execution_count": 32,
   "metadata": {
    "colab": {
     "base_uri": "https://localhost:8080/"
    },
    "id": "HBacclyV0HWk",
    "outputId": "dfaf87fb-ac7a-4081-fa1f-dc1f5a857b5b"
   },
   "outputs": [
    {
     "data": {
      "text/plain": [
       "ID\n",
       "1      1\n",
       "2      1\n",
       "3      1\n",
       "4      1\n",
       "5      1\n",
       "      ..\n",
       "484    0\n",
       "485    0\n",
       "486    0\n",
       "487    0\n",
       "488    0\n",
       "Name: PCR Result, Length: 488, dtype: int64"
      ]
     },
     "execution_count": 32,
     "metadata": {
      "tags": []
     },
     "output_type": "execute_result"
    }
   ],
   "source": [
    "y_test"
   ]
  },
  {
   "cell_type": "code",
   "execution_count": 87,
   "metadata": {
    "colab": {
     "base_uri": "https://localhost:8080/",
     "height": 174
    },
    "id": "9YvVokQ_zW5d",
    "outputId": "4459466f-87cb-464c-8c43-4eed29950af8"
   },
   "outputs": [
    {
     "ename": "TypeError",
     "evalue": "ignored",
     "output_type": "error",
     "traceback": [
      "\u001b[0;31m---------------------------------------------------------------------------\u001b[0m",
      "\u001b[0;31mTypeError\u001b[0m                                 Traceback (most recent call last)",
      "\u001b[0;32m<ipython-input-87-54150b5e0a97>\u001b[0m in \u001b[0;36m<module>\u001b[0;34m()\u001b[0m\n\u001b[0;32m----> 1\u001b[0;31m \u001b[0mnp\u001b[0m\u001b[0;34m.\u001b[0m\u001b[0mrandom\u001b[0m\u001b[0;34m.\u001b[0m\u001b[0mshuffle\u001b[0m\u001b[0;34m(\u001b[0m\u001b[0mnp\u001b[0m\u001b[0;34m.\u001b[0m\u001b[0marray\u001b[0m\u001b[0;34m(\u001b[0m\u001b[0mlist\u001b[0m\u001b[0;34m(\u001b[0m\u001b[0mcombinations\u001b[0m\u001b[0;34m(\u001b[0m\u001b[0mtest\u001b[0m\u001b[0;34m.\u001b[0m\u001b[0mcolumns\u001b[0m\u001b[0;34m,\u001b[0m \u001b[0mi\u001b[0m\u001b[0;34m)\u001b[0m\u001b[0;34m)\u001b[0m\u001b[0;34m)\u001b[0m\u001b[0;34m)\u001b[0m\u001b[0;34m[\u001b[0m\u001b[0;34m:\u001b[0m\u001b[0;36m1000\u001b[0m\u001b[0;34m]\u001b[0m\u001b[0;34m\u001b[0m\u001b[0;34m\u001b[0m\u001b[0m\n\u001b[0m",
      "\u001b[0;31mTypeError\u001b[0m: 'NoneType' object is not subscriptable"
     ]
    }
   ],
   "source": [
    "combinations = np.array(list(combinations(test.columns, i))))"
   ]
  },
  {
   "cell_type": "code",
   "execution_count": 73,
   "metadata": {
    "colab": {
     "base_uri": "https://localhost:8080/"
    },
    "id": "0fNVJlH2x8Hv",
    "outputId": "5f90dc66-e289-497b-f6d6-6fab70d54e7f"
   },
   "outputs": [
    {
     "data": {
      "text/plain": [
       "30"
      ]
     },
     "execution_count": 73,
     "metadata": {
      "tags": []
     },
     "output_type": "execute_result"
    }
   ],
   "source": [
    "len(split_data(test)[0].columns)"
   ]
  },
  {
   "cell_type": "code",
   "execution_count": 29,
   "metadata": {
    "colab": {
     "base_uri": "https://localhost:8080/"
    },
    "id": "cDCl_YxitjM_",
    "outputId": "952571f6-0725-452f-aab7-5d0ef390b331"
   },
   "outputs": [
    {
     "name": "stdout",
     "output_type": "stream",
     "text": [
      "Collecting optuna\n",
      "\u001b[?25l  Downloading https://files.pythonhosted.org/packages/2b/21/d13081805e1e1afc71f5bb743ece324c8bd576237c51b899ecb38a717502/optuna-2.7.0-py3-none-any.whl (293kB)\n",
      "\u001b[K     |████████████████████████████████| 296kB 3.9MB/s \n",
      "\u001b[?25hCollecting cmaes>=0.8.2\n",
      "  Downloading https://files.pythonhosted.org/packages/01/1f/43b01223a0366171f474320c6e966c39a11587287f098a5f09809b45e05f/cmaes-0.8.2-py3-none-any.whl\n",
      "Collecting alembic\n",
      "\u001b[?25l  Downloading https://files.pythonhosted.org/packages/c8/3c/1e089b6a4b73481239615a10629acfb56c5625f0dde332932bac6efea972/alembic-1.6.0-py2.py3-none-any.whl (164kB)\n",
      "\u001b[K     |████████████████████████████████| 174kB 14.9MB/s \n",
      "\u001b[?25hCollecting cliff\n",
      "\u001b[?25l  Downloading https://files.pythonhosted.org/packages/a2/d6/7d9acb68a77acd140be7fececb7f2701b2a29d2da9c54184cb8f93509590/cliff-3.7.0-py3-none-any.whl (80kB)\n",
      "\u001b[K     |████████████████████████████████| 81kB 8.1MB/s \n",
      "\u001b[?25hRequirement already satisfied: scipy!=1.4.0 in /usr/local/lib/python3.7/dist-packages (from optuna) (1.4.1)\n",
      "Requirement already satisfied: sqlalchemy>=1.1.0 in /usr/local/lib/python3.7/dist-packages (from optuna) (1.4.7)\n",
      "Requirement already satisfied: tqdm in /usr/local/lib/python3.7/dist-packages (from optuna) (4.41.1)\n",
      "Requirement already satisfied: numpy in /usr/local/lib/python3.7/dist-packages (from optuna) (1.19.5)\n",
      "Collecting colorlog\n",
      "  Downloading https://files.pythonhosted.org/packages/32/e6/e9ddc6fa1104fda718338b341e4b3dc31cd8039ab29e52fc73b508515361/colorlog-5.0.1-py2.py3-none-any.whl\n",
      "Requirement already satisfied: packaging>=20.0 in /usr/local/lib/python3.7/dist-packages (from optuna) (20.9)\n",
      "Collecting python-editor>=0.3\n",
      "  Downloading https://files.pythonhosted.org/packages/c6/d3/201fc3abe391bbae6606e6f1d598c15d367033332bd54352b12f35513717/python_editor-1.0.4-py3-none-any.whl\n",
      "Collecting Mako\n",
      "\u001b[?25l  Downloading https://files.pythonhosted.org/packages/f3/54/dbc07fbb20865d3b78fdb7cf7fa713e2cba4f87f71100074ef2dc9f9d1f7/Mako-1.1.4-py2.py3-none-any.whl (75kB)\n",
      "\u001b[K     |████████████████████████████████| 81kB 8.5MB/s \n",
      "\u001b[?25hRequirement already satisfied: python-dateutil in /usr/local/lib/python3.7/dist-packages (from alembic->optuna) (2.8.1)\n",
      "Requirement already satisfied: PyYAML>=3.12 in /usr/local/lib/python3.7/dist-packages (from cliff->optuna) (3.13)\n",
      "Requirement already satisfied: pyparsing>=2.1.0 in /usr/local/lib/python3.7/dist-packages (from cliff->optuna) (2.4.7)\n",
      "Collecting stevedore>=2.0.1\n",
      "\u001b[?25l  Downloading https://files.pythonhosted.org/packages/d4/49/b602307aeac3df3384ff1fcd05da9c0376c622a6c48bb5325f28ab165b57/stevedore-3.3.0-py3-none-any.whl (49kB)\n",
      "\u001b[K     |████████████████████████████████| 51kB 6.9MB/s \n",
      "\u001b[?25hCollecting cmd2>=1.0.0\n",
      "\u001b[?25l  Downloading https://files.pythonhosted.org/packages/15/8b/15061b32332bb35ea2a2f6263d0f616779d576e82739ec8e7fcf3c94abf5/cmd2-1.5.0-py3-none-any.whl (133kB)\n",
      "\u001b[K     |████████████████████████████████| 143kB 18.3MB/s \n",
      "\u001b[?25hRequirement already satisfied: PrettyTable>=0.7.2 in /usr/local/lib/python3.7/dist-packages (from cliff->optuna) (2.1.0)\n",
      "Collecting pbr!=2.1.0,>=2.0.0\n",
      "\u001b[?25l  Downloading https://files.pythonhosted.org/packages/18/e0/1d4702dd81121d04a477c272d47ee5b6bc970d1a0990b11befa275c55cf2/pbr-5.6.0-py2.py3-none-any.whl (111kB)\n",
      "\u001b[K     |████████████████████████████████| 112kB 18.8MB/s \n",
      "\u001b[?25hRequirement already satisfied: importlib-metadata; python_version < \"3.8\" in /usr/local/lib/python3.7/dist-packages (from sqlalchemy>=1.1.0->optuna) (3.10.1)\n",
      "Requirement already satisfied: greenlet!=0.4.17; python_version >= \"3\" in /usr/local/lib/python3.7/dist-packages (from sqlalchemy>=1.1.0->optuna) (1.0.0)\n",
      "Requirement already satisfied: MarkupSafe>=0.9.2 in /usr/local/lib/python3.7/dist-packages (from Mako->alembic->optuna) (1.1.1)\n",
      "Requirement already satisfied: six>=1.5 in /usr/local/lib/python3.7/dist-packages (from python-dateutil->alembic->optuna) (1.15.0)\n",
      "Requirement already satisfied: wcwidth>=0.1.7 in /usr/local/lib/python3.7/dist-packages (from cmd2>=1.0.0->cliff->optuna) (0.2.5)\n",
      "Collecting colorama>=0.3.7\n",
      "  Downloading https://files.pythonhosted.org/packages/44/98/5b86278fbbf250d239ae0ecb724f8572af1c91f4a11edf4d36a206189440/colorama-0.4.4-py2.py3-none-any.whl\n",
      "Collecting pyperclip>=1.6\n",
      "  Downloading https://files.pythonhosted.org/packages/a7/2c/4c64579f847bd5d539803c8b909e54ba087a79d01bb3aba433a95879a6c5/pyperclip-1.8.2.tar.gz\n",
      "Requirement already satisfied: attrs>=16.3.0 in /usr/local/lib/python3.7/dist-packages (from cmd2>=1.0.0->cliff->optuna) (20.3.0)\n",
      "Requirement already satisfied: typing-extensions>=3.6.4; python_version < \"3.8\" in /usr/local/lib/python3.7/dist-packages (from importlib-metadata; python_version < \"3.8\"->sqlalchemy>=1.1.0->optuna) (3.7.4.3)\n",
      "Requirement already satisfied: zipp>=0.5 in /usr/local/lib/python3.7/dist-packages (from importlib-metadata; python_version < \"3.8\"->sqlalchemy>=1.1.0->optuna) (3.4.1)\n",
      "Building wheels for collected packages: pyperclip\n",
      "  Building wheel for pyperclip (setup.py) ... \u001b[?25l\u001b[?25hdone\n",
      "  Created wheel for pyperclip: filename=pyperclip-1.8.2-cp37-none-any.whl size=11107 sha256=5e2d4737f0398bf28cbe61c94c2595bdbf3f094b3ca170bd338b20061609b8af\n",
      "  Stored in directory: /root/.cache/pip/wheels/25/af/b8/3407109267803f4015e1ee2ff23be0c8c19ce4008665931ee1\n",
      "Successfully built pyperclip\n",
      "Installing collected packages: cmaes, python-editor, Mako, alembic, pbr, stevedore, colorama, pyperclip, cmd2, cliff, colorlog, optuna\n",
      "Successfully installed Mako-1.1.4 alembic-1.6.0 cliff-3.7.0 cmaes-0.8.2 cmd2-1.5.0 colorama-0.4.4 colorlog-5.0.1 optuna-2.7.0 pbr-5.6.0 pyperclip-1.8.2 python-editor-1.0.4 stevedore-3.3.0\n"
     ]
    }
   ],
   "source": [
    "!pip install optuna"
   ]
  },
  {
   "cell_type": "code",
   "execution_count": 9,
   "metadata": {
    "id": "B9_a7S92pUUQ"
   },
   "outputs": [],
   "source": [
    "from sklearn.metrics import roc_auc_score"
   ]
  },
  {
   "cell_type": "code",
   "execution_count": 11,
   "metadata": {
    "colab": {
     "base_uri": "https://localhost:8080/",
     "height": 1000
    },
    "id": "nbmOM1c_qNKc",
    "outputId": "16a5df7b-3cba-4f07-b9fc-28d5930b4514"
   },
   "outputs": [
    {
     "ename": "ValueError",
     "evalue": "ignored",
     "output_type": "error",
     "traceback": [
      "\u001b[0;31m---------------------------------------------------------------------------\u001b[0m",
      "\u001b[0;31mValueError\u001b[0m                                Traceback (most recent call last)",
      "\u001b[0;32m<ipython-input-11-228e4ff5a994>\u001b[0m in \u001b[0;36m<module>\u001b[0;34m()\u001b[0m\n\u001b[0;32m----> 1\u001b[0;31m \u001b[0mclf\u001b[0m\u001b[0;34m.\u001b[0m\u001b[0mpredict\u001b[0m\u001b[0;34m(\u001b[0m\u001b[0;34m*\u001b[0m\u001b[0msplit_data\u001b[0m\u001b[0;34m(\u001b[0m\u001b[0mtest\u001b[0m\u001b[0;34m[\u001b[0m\u001b[0mtrain\u001b[0m\u001b[0;34m.\u001b[0m\u001b[0mcolumns\u001b[0m\u001b[0;34m]\u001b[0m\u001b[0;34m)\u001b[0m\u001b[0;34m)\u001b[0m\u001b[0;34m\u001b[0m\u001b[0;34m\u001b[0m\u001b[0m\n\u001b[0m",
      "\u001b[0;32m/usr/local/lib/python3.7/dist-packages/lightgbm/sklearn.py\u001b[0m in \u001b[0;36mpredict\u001b[0;34m(self, X, raw_score, start_iteration, num_iteration, pred_leaf, pred_contrib, **kwargs)\u001b[0m\n\u001b[1;32m    906\u001b[0m         \u001b[0;34m\"\"\"Docstring is inherited from the LGBMModel.\"\"\"\u001b[0m\u001b[0;34m\u001b[0m\u001b[0;34m\u001b[0m\u001b[0m\n\u001b[1;32m    907\u001b[0m         result = self.predict_proba(X, raw_score, start_iteration, num_iteration,\n\u001b[0;32m--> 908\u001b[0;31m                                     pred_leaf, pred_contrib, **kwargs)\n\u001b[0m\u001b[1;32m    909\u001b[0m         \u001b[0;32mif\u001b[0m \u001b[0mcallable\u001b[0m\u001b[0;34m(\u001b[0m\u001b[0mself\u001b[0m\u001b[0;34m.\u001b[0m\u001b[0m_objective\u001b[0m\u001b[0;34m)\u001b[0m \u001b[0;32mor\u001b[0m \u001b[0mraw_score\u001b[0m \u001b[0;32mor\u001b[0m \u001b[0mpred_leaf\u001b[0m \u001b[0;32mor\u001b[0m \u001b[0mpred_contrib\u001b[0m\u001b[0;34m:\u001b[0m\u001b[0;34m\u001b[0m\u001b[0;34m\u001b[0m\u001b[0m\n\u001b[1;32m    910\u001b[0m             \u001b[0;32mreturn\u001b[0m \u001b[0mresult\u001b[0m\u001b[0;34m\u001b[0m\u001b[0;34m\u001b[0m\u001b[0m\n",
      "\u001b[0;32m/usr/local/lib/python3.7/dist-packages/lightgbm/sklearn.py\u001b[0m in \u001b[0;36mpredict_proba\u001b[0;34m(self, X, raw_score, start_iteration, num_iteration, pred_leaf, pred_contrib, **kwargs)\u001b[0m\n\u001b[1;32m    918\u001b[0m                       pred_leaf=False, pred_contrib=False, **kwargs):\n\u001b[1;32m    919\u001b[0m         \u001b[0;34m\"\"\"Docstring is set after definition, using a template.\"\"\"\u001b[0m\u001b[0;34m\u001b[0m\u001b[0;34m\u001b[0m\u001b[0m\n\u001b[0;32m--> 920\u001b[0;31m         \u001b[0mresult\u001b[0m \u001b[0;34m=\u001b[0m \u001b[0msuper\u001b[0m\u001b[0;34m(\u001b[0m\u001b[0;34m)\u001b[0m\u001b[0;34m.\u001b[0m\u001b[0mpredict\u001b[0m\u001b[0;34m(\u001b[0m\u001b[0mX\u001b[0m\u001b[0;34m,\u001b[0m \u001b[0mraw_score\u001b[0m\u001b[0;34m,\u001b[0m \u001b[0mstart_iteration\u001b[0m\u001b[0;34m,\u001b[0m \u001b[0mnum_iteration\u001b[0m\u001b[0;34m,\u001b[0m \u001b[0mpred_leaf\u001b[0m\u001b[0;34m,\u001b[0m \u001b[0mpred_contrib\u001b[0m\u001b[0;34m,\u001b[0m \u001b[0;34m**\u001b[0m\u001b[0mkwargs\u001b[0m\u001b[0;34m)\u001b[0m\u001b[0;34m\u001b[0m\u001b[0;34m\u001b[0m\u001b[0m\n\u001b[0m\u001b[1;32m    921\u001b[0m         \u001b[0;32mif\u001b[0m \u001b[0mcallable\u001b[0m\u001b[0;34m(\u001b[0m\u001b[0mself\u001b[0m\u001b[0;34m.\u001b[0m\u001b[0m_objective\u001b[0m\u001b[0;34m)\u001b[0m \u001b[0;32mand\u001b[0m \u001b[0;32mnot\u001b[0m \u001b[0;34m(\u001b[0m\u001b[0mraw_score\u001b[0m \u001b[0;32mor\u001b[0m \u001b[0mpred_leaf\u001b[0m \u001b[0;32mor\u001b[0m \u001b[0mpred_contrib\u001b[0m\u001b[0;34m)\u001b[0m\u001b[0;34m:\u001b[0m\u001b[0;34m\u001b[0m\u001b[0;34m\u001b[0m\u001b[0m\n\u001b[1;32m    922\u001b[0m             _log_warning(\"Cannot compute class probabilities or labels \"\n",
      "\u001b[0;32m/usr/local/lib/python3.7/dist-packages/lightgbm/sklearn.py\u001b[0m in \u001b[0;36mpredict\u001b[0;34m(self, X, raw_score, start_iteration, num_iteration, pred_leaf, pred_contrib, **kwargs)\u001b[0m\n\u001b[1;32m    725\u001b[0m                              % (self._n_features, n_features))\n\u001b[1;32m    726\u001b[0m         return self._Booster.predict(X, raw_score=raw_score, start_iteration=start_iteration, num_iteration=num_iteration,\n\u001b[0;32m--> 727\u001b[0;31m                                      pred_leaf=pred_leaf, pred_contrib=pred_contrib, **kwargs)\n\u001b[0m\u001b[1;32m    728\u001b[0m \u001b[0;34m\u001b[0m\u001b[0m\n\u001b[1;32m    729\u001b[0m     predict.__doc__ = _lgbmmodel_doc_predict.format(\n",
      "\u001b[0;32m/usr/local/lib/python3.7/dist-packages/lightgbm/basic.py\u001b[0m in \u001b[0;36mpredict\u001b[0;34m(self, data, start_iteration, num_iteration, raw_score, pred_leaf, pred_contrib, data_has_header, is_reshape, **kwargs)\u001b[0m\n\u001b[1;32m   3142\u001b[0m         return predictor.predict(data, start_iteration, num_iteration,\n\u001b[1;32m   3143\u001b[0m                                  \u001b[0mraw_score\u001b[0m\u001b[0;34m,\u001b[0m \u001b[0mpred_leaf\u001b[0m\u001b[0;34m,\u001b[0m \u001b[0mpred_contrib\u001b[0m\u001b[0;34m,\u001b[0m\u001b[0;34m\u001b[0m\u001b[0;34m\u001b[0m\u001b[0m\n\u001b[0;32m-> 3144\u001b[0;31m                                  data_has_header, is_reshape)\n\u001b[0m\u001b[1;32m   3145\u001b[0m \u001b[0;34m\u001b[0m\u001b[0m\n\u001b[1;32m   3146\u001b[0m     \u001b[0;32mdef\u001b[0m \u001b[0mrefit\u001b[0m\u001b[0;34m(\u001b[0m\u001b[0mself\u001b[0m\u001b[0;34m,\u001b[0m \u001b[0mdata\u001b[0m\u001b[0;34m,\u001b[0m \u001b[0mlabel\u001b[0m\u001b[0;34m,\u001b[0m \u001b[0mdecay_rate\u001b[0m\u001b[0;34m=\u001b[0m\u001b[0;36m0.9\u001b[0m\u001b[0;34m,\u001b[0m \u001b[0;34m**\u001b[0m\u001b[0mkwargs\u001b[0m\u001b[0;34m)\u001b[0m\u001b[0;34m:\u001b[0m\u001b[0;34m\u001b[0m\u001b[0;34m\u001b[0m\u001b[0m\n",
      "\u001b[0;32m/usr/local/lib/python3.7/dist-packages/lightgbm/basic.py\u001b[0m in \u001b[0;36mpredict\u001b[0;34m(self, data, start_iteration, num_iteration, raw_score, pred_leaf, pred_contrib, data_has_header, is_reshape)\u001b[0m\n\u001b[1;32m    698\u001b[0m         \u001b[0mdata\u001b[0m \u001b[0;34m=\u001b[0m \u001b[0m_data_from_pandas\u001b[0m\u001b[0;34m(\u001b[0m\u001b[0mdata\u001b[0m\u001b[0;34m,\u001b[0m \u001b[0;32mNone\u001b[0m\u001b[0;34m,\u001b[0m \u001b[0;32mNone\u001b[0m\u001b[0;34m,\u001b[0m \u001b[0mself\u001b[0m\u001b[0;34m.\u001b[0m\u001b[0mpandas_categorical\u001b[0m\u001b[0;34m)\u001b[0m\u001b[0;34m[\u001b[0m\u001b[0;36m0\u001b[0m\u001b[0;34m]\u001b[0m\u001b[0;34m\u001b[0m\u001b[0;34m\u001b[0m\u001b[0m\n\u001b[1;32m    699\u001b[0m         \u001b[0mpredict_type\u001b[0m \u001b[0;34m=\u001b[0m \u001b[0mC_API_PREDICT_NORMAL\u001b[0m\u001b[0;34m\u001b[0m\u001b[0;34m\u001b[0m\u001b[0m\n\u001b[0;32m--> 700\u001b[0;31m         \u001b[0;32mif\u001b[0m \u001b[0mraw_score\u001b[0m\u001b[0;34m:\u001b[0m\u001b[0;34m\u001b[0m\u001b[0;34m\u001b[0m\u001b[0m\n\u001b[0m\u001b[1;32m    701\u001b[0m             \u001b[0mpredict_type\u001b[0m \u001b[0;34m=\u001b[0m \u001b[0mC_API_PREDICT_RAW_SCORE\u001b[0m\u001b[0;34m\u001b[0m\u001b[0;34m\u001b[0m\u001b[0m\n\u001b[1;32m    702\u001b[0m         \u001b[0;32mif\u001b[0m \u001b[0mpred_leaf\u001b[0m\u001b[0;34m:\u001b[0m\u001b[0;34m\u001b[0m\u001b[0;34m\u001b[0m\u001b[0m\n",
      "\u001b[0;32m/usr/local/lib/python3.7/dist-packages/pandas/core/generic.py\u001b[0m in \u001b[0;36m__nonzero__\u001b[0;34m(self)\u001b[0m\n\u001b[1;32m   1328\u001b[0m     \u001b[0;32mdef\u001b[0m \u001b[0m__nonzero__\u001b[0m\u001b[0;34m(\u001b[0m\u001b[0mself\u001b[0m\u001b[0;34m)\u001b[0m\u001b[0;34m:\u001b[0m\u001b[0;34m\u001b[0m\u001b[0;34m\u001b[0m\u001b[0m\n\u001b[1;32m   1329\u001b[0m         raise ValueError(\n\u001b[0;32m-> 1330\u001b[0;31m             \u001b[0;34mf\"The truth value of a {type(self).__name__} is ambiguous. \"\u001b[0m\u001b[0;34m\u001b[0m\u001b[0;34m\u001b[0m\u001b[0m\n\u001b[0m\u001b[1;32m   1331\u001b[0m             \u001b[0;34m\"Use a.empty, a.bool(), a.item(), a.any() or a.all().\"\u001b[0m\u001b[0;34m\u001b[0m\u001b[0;34m\u001b[0m\u001b[0m\n\u001b[1;32m   1332\u001b[0m         )\n",
      "\u001b[0;31mValueError\u001b[0m: The truth value of a Series is ambiguous. Use a.empty, a.bool(), a.item(), a.any() or a.all()."
     ]
    }
   ],
   "source": [
    "clf.predict(*split_data(test[train.columns]))"
   ]
  },
  {
   "cell_type": "code",
   "execution_count": 33,
   "metadata": {
    "colab": {
     "base_uri": "https://localhost:8080/"
    },
    "id": "q9RKQRqVqPUM",
    "outputId": "f9d696fa-2ede-4419-89f5-72057dea208e"
   },
   "outputs": [
    {
     "data": {
      "text/plain": [
       "(     Age Sex     AF   ALAT  ASAT  BILD  ...   MCV    MG     NA  PCAL   TRMB    UR\n",
       " ID                                      ...                                      \n",
       " 1     63   M   78.0   23.0  22.0   5.0  ...  94.0  0.80  138.0  0.03  232.0   5.7\n",
       " 2     54   M   67.0   40.0  37.0   3.0  ...  87.0  0.75  143.0  0.06  274.0   4.1\n",
       " 3     47   F   65.0  172.0   NaN   4.0  ...  84.0  0.85  137.0  0.16  273.0   2.1\n",
       " 4     56   F    NaN    NaN   NaN   1.0  ...  91.0   NaN  134.0  0.06  319.0   3.2\n",
       " 5     58   M   61.0   17.0  23.0   4.0  ...  92.0  0.73  139.0  0.05  311.0   5.5\n",
       " ..   ...  ..    ...    ...   ...   ...  ...   ...   ...    ...   ...    ...   ...\n",
       " 484   68   F  189.0    9.0  13.0   4.0  ...  95.0  0.78  137.0   NaN  291.0  12.0\n",
       " 485   84   M   69.0   18.0  19.0   2.0  ...  93.0  0.80  134.0  0.05  430.0   5.8\n",
       " 486   89   M   87.0   21.0  45.0   6.0  ...  90.0  0.73  134.0  0.47  238.0  10.9\n",
       " 487   79   M   51.0   17.0  18.0   3.0  ...  95.0  0.83  131.0  0.01  221.0   4.2\n",
       " 488   63   F   83.0    9.0  15.0   1.0  ...  95.0  0.82  141.0  0.09  305.0   5.5\n",
       " \n",
       " [488 rows x 29 columns], ID\n",
       " 1      1\n",
       " 2      1\n",
       " 3      1\n",
       " 4      1\n",
       " 5      1\n",
       "       ..\n",
       " 484    0\n",
       " 485    0\n",
       " 486    0\n",
       " 487    0\n",
       " 488    0\n",
       " Name: PCR Result, Length: 488, dtype: int64)"
      ]
     },
     "execution_count": 33,
     "metadata": {
      "tags": []
     },
     "output_type": "execute_result"
    }
   ],
   "source": [
    "split_data(test[train.columns])"
   ]
  },
  {
   "cell_type": "code",
   "execution_count": 35,
   "metadata": {
    "colab": {
     "base_uri": "https://localhost:8080/",
     "height": 371
    },
    "id": "niOM9Zhdqa2S",
    "outputId": "0af7ae8c-70a4-406c-f073-2a75737e9460"
   },
   "outputs": [
    {
     "name": "stdout",
     "output_type": "stream",
     "text": [
      "Collecting lightgbm\n",
      "\u001b[?25l  Downloading https://files.pythonhosted.org/packages/18/b2/fff8370f48549ce223f929fe8cab4ee6bf285a41f86037d91312b48ed95b/lightgbm-3.2.1-py3-none-manylinux1_x86_64.whl (2.0MB)\n",
      "\u001b[K     |████████████████████████████████| 2.0MB 3.8MB/s \n",
      "\u001b[?25hRequirement already satisfied, skipping upgrade: wheel in /usr/local/lib/python3.7/dist-packages (from lightgbm) (0.36.2)\n",
      "Requirement already satisfied, skipping upgrade: scikit-learn!=0.22.0 in /usr/local/lib/python3.7/dist-packages (from lightgbm) (0.22.2.post1)\n",
      "Requirement already satisfied, skipping upgrade: scipy in /usr/local/lib/python3.7/dist-packages (from lightgbm) (1.4.1)\n",
      "Requirement already satisfied, skipping upgrade: numpy in /usr/local/lib/python3.7/dist-packages (from lightgbm) (1.19.5)\n",
      "Requirement already satisfied, skipping upgrade: joblib>=0.11 in /usr/local/lib/python3.7/dist-packages (from scikit-learn!=0.22.0->lightgbm) (1.0.1)\n",
      "Installing collected packages: lightgbm\n",
      "  Found existing installation: lightgbm 2.2.3\n",
      "    Uninstalling lightgbm-2.2.3:\n",
      "      Successfully uninstalled lightgbm-2.2.3\n",
      "Successfully installed lightgbm-3.2.1\n"
     ]
    },
    {
     "data": {
      "application/vnd.colab-display-data+json": {
       "pip_warning": {
        "packages": [
         "lightgbm"
        ]
       }
      }
     },
     "metadata": {
      "tags": []
     },
     "output_type": "display_data"
    }
   ],
   "source": [
    "!pip install --upgrade lightgbm"
   ]
  },
  {
   "cell_type": "code",
   "execution_count": 39,
   "metadata": {
    "id": "W-0vzgGCq2yo"
   },
   "outputs": [
    {
     "data": {
      "text/plain": [
       "(0.5, 1.0)"
      ]
     },
     "execution_count": 39,
     "metadata": {},
     "output_type": "execute_result"
    },
    {
     "data": {
      "image/png": "[encoded data removed]",
      "text/plain": [
       "<Figure size 432x288 with 1 Axes>"
      ]
     },
     "metadata": {
      "needs_background": "light"
     },
     "output_type": "display_data"
    }
   ],
   "source": [
    "import seaborn as sns\n",
    "import matplotlib.pyplot as plt\n",
    "plt.figure(figsize=(6, 4))\n",
    "sns.barplot(x=['bagged_lightgbm_opt', 'bagged_lightgbm', 'lightgbm_opt', 'lightgbm', 'random_forest', 'dfcn'], \n",
    "            y=[0.9299631936085963, 0.9253580337362849, 0.919828353132032, 0.8993667905175572, 0.8957384827393724, 0.924], \n",
    "           order=np.array(['bagged_lightgbm_opt', 'bagged_lightgbm', 'lightgbm_opt', 'lightgbm', 'random_forest', 'dfcn'])[np.argsort([0.9299631936085963, 0.9253580337362849, 0.919828353132032, 0.8993667905175572, 0.8957384827393724, 0.924])])\n",
    "plt.xticks(rotation=40, ha='right')\n",
    "plt.ylim(0.5, 1.0)"
   ]
  },
  {
   "cell_type": "code",
   "execution_count": 30,
   "metadata": {},
   "outputs": [
    {
     "data": {
      "text/html": [
       "<div>\n",
       "<style scoped>\n",
       "    .dataframe tbody tr th:only-of-type {\n",
       "        vertical-align: middle;\n",
       "    }\n",
       "\n",
       "    .dataframe tbody tr th {\n",
       "        vertical-align: top;\n",
       "    }\n",
       "\n",
       "    .dataframe thead th {\n",
       "        text-align: right;\n",
       "    }\n",
       "</style>\n",
       "<table border=\"1\" class=\"dataframe\">\n",
       "  <thead>\n",
       "    <tr style=\"text-align: right;\">\n",
       "      <th></th>\n",
       "      <th>name</th>\n",
       "      <th>auc</th>\n",
       "    </tr>\n",
       "  </thead>\n",
       "  <tbody>\n",
       "    <tr>\n",
       "      <th>0</th>\n",
       "      <td>bagged_lightgbm_opt</td>\n",
       "      <td>0.929963</td>\n",
       "    </tr>\n",
       "    <tr>\n",
       "      <th>1</th>\n",
       "      <td>bagged_lightgbm</td>\n",
       "      <td>0.925358</td>\n",
       "    </tr>\n",
       "    <tr>\n",
       "      <th>2</th>\n",
       "      <td>lightgbm_opt</td>\n",
       "      <td>0.919828</td>\n",
       "    </tr>\n",
       "    <tr>\n",
       "      <th>3</th>\n",
       "      <td>lightgbm</td>\n",
       "      <td>0.899367</td>\n",
       "    </tr>\n",
       "    <tr>\n",
       "      <th>4</th>\n",
       "      <td>random_forest</td>\n",
       "      <td>0.895738</td>\n",
       "    </tr>\n",
       "    <tr>\n",
       "      <th>5</th>\n",
       "      <td>dfcn</td>\n",
       "      <td>0.924000</td>\n",
       "    </tr>\n",
       "  </tbody>\n",
       "</table>\n",
       "</div>"
      ],
      "text/plain": [
       "                  name       auc\n",
       "0  bagged_lightgbm_opt  0.929963\n",
       "1      bagged_lightgbm  0.925358\n",
       "2         lightgbm_opt  0.919828\n",
       "3             lightgbm  0.899367\n",
       "4        random_forest  0.895738\n",
       "5                 dfcn  0.924000"
      ]
     },
     "execution_count": 30,
     "metadata": {},
     "output_type": "execute_result"
    }
   ],
   "source": [
    "results = pd.DataFrame({'name': ['bagged_lightgbm_opt', 'bagged_lightgbm', 'lightgbm_opt', 'lightgbm', 'random_forest', 'dfcn'], 'auc': [0.9299631936085963, 0.9253580337362849, 0.919828353132032, 0.8993667905175572, 0.8957384827393724, 0.924]})\n",
    "results"
   ]
  },
  {
   "cell_type": "code",
   "execution_count": null,
   "metadata": {},
   "outputs": [],
   "source": []
  }
 ],
 "metadata": {
  "colab": {
   "collapsed_sections": [],
   "name": "erdi_test",
   "provenance": []
  },
  "kernelspec": {
   "display_name": "Python 3",
   "language": "python",
   "name": "python3"
  },
  "language_info": {
   "codemirror_mode": {
    "name": "ipython",
    "version": 3
   },
   "file_extension": ".py",
   "mimetype": "text/x-python",
   "name": "python",
   "nbconvert_exporter": "python",
   "pygments_lexer": "ipython3",
   "version": "3.7.9"
  }
 },
 "nbformat": 4,
 "nbformat_minor": 4
}
