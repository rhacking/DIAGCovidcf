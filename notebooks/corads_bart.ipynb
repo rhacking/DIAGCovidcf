{
 "cells": [
  {
   "cell_type": "code",
   "execution_count": 1,
   "id": "random-compound",
   "metadata": {},
   "outputs": [],
   "source": [
    "from covidcf.evaluation.base import load_data, prepreprocess_data\n",
    "from covidcf.config.base import load_config\n",
    "from covidcf.config.dataset import DatasetTarget\n",
    "import os"
   ]
  },
  {
   "cell_type": "code",
   "execution_count": 2,
   "id": "negative-nation",
   "metadata": {},
   "outputs": [],
   "source": [
    "os.chdir('..')"
   ]
  },
  {
   "cell_type": "code",
   "execution_count": 9,
   "id": "moving-hurricane",
   "metadata": {},
   "outputs": [
    {
     "data": {
      "text/html": [
       "<div>\n",
       "<style scoped>\n",
       "    .dataframe tbody tr th:only-of-type {\n",
       "        vertical-align: middle;\n",
       "    }\n",
       "\n",
       "    .dataframe tbody tr th {\n",
       "        vertical-align: top;\n",
       "    }\n",
       "\n",
       "    .dataframe thead tr th {\n",
       "        text-align: left;\n",
       "    }\n",
       "</style>\n",
       "<table border=\"1\" class=\"dataframe\">\n",
       "  <thead>\n",
       "    <tr>\n",
       "      <th></th>\n",
       "      <th colspan=\"20\" halign=\"left\">Input</th>\n",
       "      <th>Meta</th>\n",
       "    </tr>\n",
       "    <tr>\n",
       "      <th></th>\n",
       "      <th colspan=\"10\" halign=\"left\">Clinical</th>\n",
       "      <th>...</th>\n",
       "      <th colspan=\"9\" halign=\"left\">Visual</th>\n",
       "      <th>cohort</th>\n",
       "    </tr>\n",
       "    <tr>\n",
       "      <th></th>\n",
       "      <th>Value_5NT</th>\n",
       "      <th>Value_AFU</th>\n",
       "      <th>Value_ALB</th>\n",
       "      <th>Value_ALG</th>\n",
       "      <th>Value_ALP</th>\n",
       "      <th>Value_ALT</th>\n",
       "      <th>Value_APOA1</th>\n",
       "      <th>Value_APOB</th>\n",
       "      <th>Value_APTT</th>\n",
       "      <th>Value_ASO</th>\n",
       "      <th>...</th>\n",
       "      <th>vis_feature_51</th>\n",
       "      <th>vis_feature_52</th>\n",
       "      <th>vis_feature_53</th>\n",
       "      <th>vis_feature_54</th>\n",
       "      <th>vis_feature_55</th>\n",
       "      <th>vis_feature_56</th>\n",
       "      <th>vis_feature_57</th>\n",
       "      <th>vis_feature_58</th>\n",
       "      <th>vis_feature_59</th>\n",
       "      <th></th>\n",
       "    </tr>\n",
       "  </thead>\n",
       "  <tbody>\n",
       "    <tr>\n",
       "      <th>0</th>\n",
       "      <td>0.6</td>\n",
       "      <td>NaN</td>\n",
       "      <td>-0.015</td>\n",
       "      <td>-0.6</td>\n",
       "      <td>0.109091</td>\n",
       "      <td>1.657143</td>\n",
       "      <td>NaN</td>\n",
       "      <td>NaN</td>\n",
       "      <td>0.677419</td>\n",
       "      <td>NaN</td>\n",
       "      <td>...</td>\n",
       "      <td>1.407101</td>\n",
       "      <td>0.086921</td>\n",
       "      <td>0.072483</td>\n",
       "      <td>0.069505</td>\n",
       "      <td>0.051657</td>\n",
       "      <td>-0.409348</td>\n",
       "      <td>-0.414904</td>\n",
       "      <td>-0.435154</td>\n",
       "      <td>-0.488452</td>\n",
       "      <td>c1</td>\n",
       "    </tr>\n",
       "    <tr>\n",
       "      <th>1</th>\n",
       "      <td>0.9</td>\n",
       "      <td>NaN</td>\n",
       "      <td>0.295</td>\n",
       "      <td>0.2</td>\n",
       "      <td>-0.036364</td>\n",
       "      <td>1.285714</td>\n",
       "      <td>NaN</td>\n",
       "      <td>NaN</td>\n",
       "      <td>1.012903</td>\n",
       "      <td>NaN</td>\n",
       "      <td>...</td>\n",
       "      <td>5.079040</td>\n",
       "      <td>3.516342</td>\n",
       "      <td>3.404648</td>\n",
       "      <td>3.442693</td>\n",
       "      <td>3.337378</td>\n",
       "      <td>1.271466</td>\n",
       "      <td>1.221740</td>\n",
       "      <td>1.255130</td>\n",
       "      <td>1.191330</td>\n",
       "      <td>c1</td>\n",
       "    </tr>\n",
       "    <tr>\n",
       "      <th>2</th>\n",
       "      <td>NaN</td>\n",
       "      <td>NaN</td>\n",
       "      <td>-0.250</td>\n",
       "      <td>-1.2</td>\n",
       "      <td>0.036364</td>\n",
       "      <td>1.542857</td>\n",
       "      <td>NaN</td>\n",
       "      <td>NaN</td>\n",
       "      <td>NaN</td>\n",
       "      <td>NaN</td>\n",
       "      <td>...</td>\n",
       "      <td>0.061765</td>\n",
       "      <td>-0.239709</td>\n",
       "      <td>-0.255159</td>\n",
       "      <td>-0.260668</td>\n",
       "      <td>-0.277846</td>\n",
       "      <td>-0.393225</td>\n",
       "      <td>-0.406874</td>\n",
       "      <td>-0.414642</td>\n",
       "      <td>-0.454006</td>\n",
       "      <td>c1</td>\n",
       "    </tr>\n",
       "    <tr>\n",
       "      <th>3</th>\n",
       "      <td>0.8</td>\n",
       "      <td>NaN</td>\n",
       "      <td>-0.165</td>\n",
       "      <td>-0.6</td>\n",
       "      <td>0.236364</td>\n",
       "      <td>0.857143</td>\n",
       "      <td>NaN</td>\n",
       "      <td>NaN</td>\n",
       "      <td>0.696774</td>\n",
       "      <td>NaN</td>\n",
       "      <td>...</td>\n",
       "      <td>0.878605</td>\n",
       "      <td>0.145058</td>\n",
       "      <td>0.107863</td>\n",
       "      <td>0.133092</td>\n",
       "      <td>0.092496</td>\n",
       "      <td>-0.333626</td>\n",
       "      <td>-0.353214</td>\n",
       "      <td>-0.352350</td>\n",
       "      <td>-0.419885</td>\n",
       "      <td>c1</td>\n",
       "    </tr>\n",
       "    <tr>\n",
       "      <th>4</th>\n",
       "      <td>NaN</td>\n",
       "      <td>NaN</td>\n",
       "      <td>NaN</td>\n",
       "      <td>NaN</td>\n",
       "      <td>NaN</td>\n",
       "      <td>NaN</td>\n",
       "      <td>NaN</td>\n",
       "      <td>NaN</td>\n",
       "      <td>NaN</td>\n",
       "      <td>NaN</td>\n",
       "      <td>...</td>\n",
       "      <td>-0.146057</td>\n",
       "      <td>-0.608026</td>\n",
       "      <td>-0.617320</td>\n",
       "      <td>-0.617773</td>\n",
       "      <td>-0.630355</td>\n",
       "      <td>-0.611461</td>\n",
       "      <td>-0.623873</td>\n",
       "      <td>-0.624798</td>\n",
       "      <td>-0.681182</td>\n",
       "      <td>c1</td>\n",
       "    </tr>\n",
       "    <tr>\n",
       "      <th>...</th>\n",
       "      <td>...</td>\n",
       "      <td>...</td>\n",
       "      <td>...</td>\n",
       "      <td>...</td>\n",
       "      <td>...</td>\n",
       "      <td>...</td>\n",
       "      <td>...</td>\n",
       "      <td>...</td>\n",
       "      <td>...</td>\n",
       "      <td>...</td>\n",
       "      <td>...</td>\n",
       "      <td>...</td>\n",
       "      <td>...</td>\n",
       "      <td>...</td>\n",
       "      <td>...</td>\n",
       "      <td>...</td>\n",
       "      <td>...</td>\n",
       "      <td>...</td>\n",
       "      <td>...</td>\n",
       "      <td>...</td>\n",
       "      <td>...</td>\n",
       "    </tr>\n",
       "    <tr>\n",
       "      <th>1516</th>\n",
       "      <td>0.9</td>\n",
       "      <td>NaN</td>\n",
       "      <td>-0.045</td>\n",
       "      <td>-0.8</td>\n",
       "      <td>0.172727</td>\n",
       "      <td>2.600000</td>\n",
       "      <td>NaN</td>\n",
       "      <td>NaN</td>\n",
       "      <td>0.935484</td>\n",
       "      <td>NaN</td>\n",
       "      <td>...</td>\n",
       "      <td>2.507623</td>\n",
       "      <td>0.919673</td>\n",
       "      <td>0.772426</td>\n",
       "      <td>0.912312</td>\n",
       "      <td>0.760904</td>\n",
       "      <td>-0.141144</td>\n",
       "      <td>-0.196170</td>\n",
       "      <td>-0.162558</td>\n",
       "      <td>-0.266687</td>\n",
       "      <td>c2</td>\n",
       "    </tr>\n",
       "    <tr>\n",
       "      <th>1517</th>\n",
       "      <td>NaN</td>\n",
       "      <td>NaN</td>\n",
       "      <td>NaN</td>\n",
       "      <td>NaN</td>\n",
       "      <td>NaN</td>\n",
       "      <td>NaN</td>\n",
       "      <td>NaN</td>\n",
       "      <td>NaN</td>\n",
       "      <td>NaN</td>\n",
       "      <td>NaN</td>\n",
       "      <td>...</td>\n",
       "      <td>-0.590748</td>\n",
       "      <td>-0.850672</td>\n",
       "      <td>-0.832764</td>\n",
       "      <td>-0.867031</td>\n",
       "      <td>-0.852193</td>\n",
       "      <td>-0.569649</td>\n",
       "      <td>-0.572261</td>\n",
       "      <td>-0.597436</td>\n",
       "      <td>-0.649602</td>\n",
       "      <td>c2</td>\n",
       "    </tr>\n",
       "    <tr>\n",
       "      <th>1518</th>\n",
       "      <td>NaN</td>\n",
       "      <td>NaN</td>\n",
       "      <td>NaN</td>\n",
       "      <td>NaN</td>\n",
       "      <td>NaN</td>\n",
       "      <td>NaN</td>\n",
       "      <td>NaN</td>\n",
       "      <td>NaN</td>\n",
       "      <td>NaN</td>\n",
       "      <td>NaN</td>\n",
       "      <td>...</td>\n",
       "      <td>-0.496094</td>\n",
       "      <td>-0.825329</td>\n",
       "      <td>-0.808753</td>\n",
       "      <td>-0.834399</td>\n",
       "      <td>-0.821405</td>\n",
       "      <td>-0.645694</td>\n",
       "      <td>-0.645272</td>\n",
       "      <td>-0.667305</td>\n",
       "      <td>-0.714351</td>\n",
       "      <td>c2</td>\n",
       "    </tr>\n",
       "    <tr>\n",
       "      <th>1519</th>\n",
       "      <td>NaN</td>\n",
       "      <td>NaN</td>\n",
       "      <td>NaN</td>\n",
       "      <td>NaN</td>\n",
       "      <td>NaN</td>\n",
       "      <td>NaN</td>\n",
       "      <td>NaN</td>\n",
       "      <td>NaN</td>\n",
       "      <td>NaN</td>\n",
       "      <td>NaN</td>\n",
       "      <td>...</td>\n",
       "      <td>0.111390</td>\n",
       "      <td>-0.201476</td>\n",
       "      <td>-0.209360</td>\n",
       "      <td>-0.209015</td>\n",
       "      <td>-0.221224</td>\n",
       "      <td>-0.407458</td>\n",
       "      <td>-0.420308</td>\n",
       "      <td>-0.431136</td>\n",
       "      <td>-0.493907</td>\n",
       "      <td>c2</td>\n",
       "    </tr>\n",
       "    <tr>\n",
       "      <th>1520</th>\n",
       "      <td>NaN</td>\n",
       "      <td>NaN</td>\n",
       "      <td>NaN</td>\n",
       "      <td>NaN</td>\n",
       "      <td>NaN</td>\n",
       "      <td>NaN</td>\n",
       "      <td>NaN</td>\n",
       "      <td>NaN</td>\n",
       "      <td>NaN</td>\n",
       "      <td>NaN</td>\n",
       "      <td>...</td>\n",
       "      <td>1.792377</td>\n",
       "      <td>1.302997</td>\n",
       "      <td>7.887997</td>\n",
       "      <td>1.169276</td>\n",
       "      <td>0.061628</td>\n",
       "      <td>-4.302420</td>\n",
       "      <td>-4.605498</td>\n",
       "      <td>-4.470306</td>\n",
       "      <td>-0.518231</td>\n",
       "      <td>c2</td>\n",
       "    </tr>\n",
       "  </tbody>\n",
       "</table>\n",
       "<p>1521 rows × 193 columns</p>\n",
       "</div>"
      ],
      "text/plain": [
       "         Input                                                                \\\n",
       "      Clinical                                                                 \n",
       "     Value_5NT Value_AFU Value_ALB Value_ALG Value_ALP Value_ALT Value_APOA1   \n",
       "0          0.6       NaN    -0.015      -0.6  0.109091  1.657143         NaN   \n",
       "1          0.9       NaN     0.295       0.2 -0.036364  1.285714         NaN   \n",
       "2          NaN       NaN    -0.250      -1.2  0.036364  1.542857         NaN   \n",
       "3          0.8       NaN    -0.165      -0.6  0.236364  0.857143         NaN   \n",
       "4          NaN       NaN       NaN       NaN       NaN       NaN         NaN   \n",
       "...        ...       ...       ...       ...       ...       ...         ...   \n",
       "1516       0.9       NaN    -0.045      -0.8  0.172727  2.600000         NaN   \n",
       "1517       NaN       NaN       NaN       NaN       NaN       NaN         NaN   \n",
       "1518       NaN       NaN       NaN       NaN       NaN       NaN         NaN   \n",
       "1519       NaN       NaN       NaN       NaN       NaN       NaN         NaN   \n",
       "1520       NaN       NaN       NaN       NaN       NaN       NaN         NaN   \n",
       "\n",
       "                                      ...                                \\\n",
       "                                      ...         Visual                  \n",
       "     Value_APOB Value_APTT Value_ASO  ... vis_feature_51 vis_feature_52   \n",
       "0           NaN   0.677419       NaN  ...       1.407101       0.086921   \n",
       "1           NaN   1.012903       NaN  ...       5.079040       3.516342   \n",
       "2           NaN        NaN       NaN  ...       0.061765      -0.239709   \n",
       "3           NaN   0.696774       NaN  ...       0.878605       0.145058   \n",
       "4           NaN        NaN       NaN  ...      -0.146057      -0.608026   \n",
       "...         ...        ...       ...  ...            ...            ...   \n",
       "1516        NaN   0.935484       NaN  ...       2.507623       0.919673   \n",
       "1517        NaN        NaN       NaN  ...      -0.590748      -0.850672   \n",
       "1518        NaN        NaN       NaN  ...      -0.496094      -0.825329   \n",
       "1519        NaN        NaN       NaN  ...       0.111390      -0.201476   \n",
       "1520        NaN        NaN       NaN  ...       1.792377       1.302997   \n",
       "\n",
       "                                                                  \\\n",
       "                                                                   \n",
       "     vis_feature_53 vis_feature_54 vis_feature_55 vis_feature_56   \n",
       "0          0.072483       0.069505       0.051657      -0.409348   \n",
       "1          3.404648       3.442693       3.337378       1.271466   \n",
       "2         -0.255159      -0.260668      -0.277846      -0.393225   \n",
       "3          0.107863       0.133092       0.092496      -0.333626   \n",
       "4         -0.617320      -0.617773      -0.630355      -0.611461   \n",
       "...             ...            ...            ...            ...   \n",
       "1516       0.772426       0.912312       0.760904      -0.141144   \n",
       "1517      -0.832764      -0.867031      -0.852193      -0.569649   \n",
       "1518      -0.808753      -0.834399      -0.821405      -0.645694   \n",
       "1519      -0.209360      -0.209015      -0.221224      -0.407458   \n",
       "1520       7.887997       1.169276       0.061628      -4.302420   \n",
       "\n",
       "                                                    Meta  \n",
       "                                                  cohort  \n",
       "     vis_feature_57 vis_feature_58 vis_feature_59         \n",
       "0         -0.414904      -0.435154      -0.488452     c1  \n",
       "1          1.221740       1.255130       1.191330     c1  \n",
       "2         -0.406874      -0.414642      -0.454006     c1  \n",
       "3         -0.353214      -0.352350      -0.419885     c1  \n",
       "4         -0.623873      -0.624798      -0.681182     c1  \n",
       "...             ...            ...            ...    ...  \n",
       "1516      -0.196170      -0.162558      -0.266687     c2  \n",
       "1517      -0.572261      -0.597436      -0.649602     c2  \n",
       "1518      -0.645272      -0.667305      -0.714351     c2  \n",
       "1519      -0.420308      -0.431136      -0.493907     c2  \n",
       "1520      -4.605498      -4.470306      -0.518231     c2  \n",
       "\n",
       "[1521 rows x 193 columns]"
      ]
     },
     "execution_count": 9,
     "metadata": {},
     "output_type": "execute_result"
    }
   ],
   "source": [
    "df = load_data('ictcf')\n",
    "df"
   ]
  },
  {
   "cell_type": "code",
   "execution_count": 10,
   "id": "acute-insulin",
   "metadata": {},
   "outputs": [],
   "source": [
    "config = load_config('experiments/within_dataset/ictcf/combined/gbdt.yaml')"
   ]
  },
  {
   "cell_type": "code",
   "execution_count": 11,
   "id": "olive-monitoring",
   "metadata": {},
   "outputs": [],
   "source": [
    "config.dataset.target = DatasetTarget.PCR"
   ]
  },
  {
   "cell_type": "code",
   "execution_count": 12,
   "id": "recorded-metropolitan",
   "metadata": {},
   "outputs": [
    {
     "name": "stderr",
     "output_type": "stream",
     "text": [
      "\n",
      "A value is trying to be set on a copy of a slice from a DataFrame.\n",
      "Try using .loc[row_indexer,col_indexer] = value instead\n",
      "\n",
      "See the caveats in the documentation: https://pandas.pydata.org/pandas-docs/stable/user_guide/indexing.html#returning-a-view-versus-a-copy\n",
      "\n",
      "A value is trying to be set on a copy of a slice from a DataFrame.\n",
      "Try using .loc[row_indexer,col_indexer] = value instead\n",
      "\n",
      "See the caveats in the documentation: https://pandas.pydata.org/pandas-docs/stable/user_guide/indexing.html#returning-a-view-versus-a-copy\n",
      "\n",
      "A value is trying to be set on a copy of a slice from a DataFrame.\n",
      "Try using .loc[row_indexer,col_indexer] = value instead\n",
      "\n",
      "See the caveats in the documentation: https://pandas.pydata.org/pandas-docs/stable/user_guide/indexing.html#returning-a-view-versus-a-copy\n",
      "\n",
      "A value is trying to be set on a copy of a slice from a DataFrame.\n",
      "Try using .loc[row_indexer,col_indexer] = value instead\n",
      "\n",
      "See the caveats in the documentation: https://pandas.pydata.org/pandas-docs/stable/user_guide/indexing.html#returning-a-view-versus-a-copy\n",
      "\n",
      "A value is trying to be set on a copy of a slice from a DataFrame.\n",
      "Try using .loc[row_indexer,col_indexer] = value instead\n",
      "\n",
      "See the caveats in the documentation: https://pandas.pydata.org/pandas-docs/stable/user_guide/indexing.html#returning-a-view-versus-a-copy\n",
      "\n",
      "A value is trying to be set on a copy of a slice from a DataFrame.\n",
      "Try using .loc[row_indexer,col_indexer] = value instead\n",
      "\n",
      "See the caveats in the documentation: https://pandas.pydata.org/pandas-docs/stable/user_guide/indexing.html#returning-a-view-versus-a-copy\n",
      "\n",
      "A value is trying to be set on a copy of a slice from a DataFrame.\n",
      "Try using .loc[row_indexer,col_indexer] = value instead\n",
      "\n",
      "See the caveats in the documentation: https://pandas.pydata.org/pandas-docs/stable/user_guide/indexing.html#returning-a-view-versus-a-copy\n",
      "\n",
      "A value is trying to be set on a copy of a slice from a DataFrame.\n",
      "Try using .loc[row_indexer,col_indexer] = value instead\n",
      "\n",
      "See the caveats in the documentation: https://pandas.pydata.org/pandas-docs/stable/user_guide/indexing.html#returning-a-view-versus-a-copy\n",
      "\n",
      "A value is trying to be set on a copy of a slice from a DataFrame.\n",
      "Try using .loc[row_indexer,col_indexer] = value instead\n",
      "\n",
      "See the caveats in the documentation: https://pandas.pydata.org/pandas-docs/stable/user_guide/indexing.html#returning-a-view-versus-a-copy\n",
      "\n",
      "A value is trying to be set on a copy of a slice from a DataFrame.\n",
      "Try using .loc[row_indexer,col_indexer] = value instead\n",
      "\n",
      "See the caveats in the documentation: https://pandas.pydata.org/pandas-docs/stable/user_guide/indexing.html#returning-a-view-versus-a-copy\n",
      "\n",
      "A value is trying to be set on a copy of a slice from a DataFrame.\n",
      "Try using .loc[row_indexer,col_indexer] = value instead\n",
      "\n",
      "See the caveats in the documentation: https://pandas.pydata.org/pandas-docs/stable/user_guide/indexing.html#returning-a-view-versus-a-copy\n",
      "\n",
      "A value is trying to be set on a copy of a slice from a DataFrame.\n",
      "Try using .loc[row_indexer,col_indexer] = value instead\n",
      "\n",
      "See the caveats in the documentation: https://pandas.pydata.org/pandas-docs/stable/user_guide/indexing.html#returning-a-view-versus-a-copy\n",
      "\n",
      "A value is trying to be set on a copy of a slice from a DataFrame.\n",
      "Try using .loc[row_indexer,col_indexer] = value instead\n",
      "\n",
      "See the caveats in the documentation: https://pandas.pydata.org/pandas-docs/stable/user_guide/indexing.html#returning-a-view-versus-a-copy\n",
      "\n",
      "A value is trying to be set on a copy of a slice from a DataFrame.\n",
      "Try using .loc[row_indexer,col_indexer] = value instead\n",
      "\n",
      "See the caveats in the documentation: https://pandas.pydata.org/pandas-docs/stable/user_guide/indexing.html#returning-a-view-versus-a-copy\n",
      "\n",
      "A value is trying to be set on a copy of a slice from a DataFrame.\n",
      "Try using .loc[row_indexer,col_indexer] = value instead\n",
      "\n",
      "See the caveats in the documentation: https://pandas.pydata.org/pandas-docs/stable/user_guide/indexing.html#returning-a-view-versus-a-copy\n"
     ]
    }
   ],
   "source": [
    "df = prepreprocess_data(df, config)"
   ]
  },
  {
   "cell_type": "code",
   "execution_count": 13,
   "id": "fifth-syndication",
   "metadata": {},
   "outputs": [],
   "source": [
    "df, X, y = df"
   ]
  },
  {
   "cell_type": "code",
   "execution_count": 14,
   "id": "powerful-memory",
   "metadata": {},
   "outputs": [],
   "source": [
    "df.to_('df.csv')\n",
    "X.to_csv('X.csv')\n",
    "y.to_csv('y.csv')"
   ]
  },
  {
   "cell_type": "code",
   "execution_count": 18,
   "id": "stone-decade",
   "metadata": {},
   "outputs": [
    {
     "data": {
      "text/plain": [
       "False"
      ]
     },
     "execution_count": 18,
     "metadata": {},
     "output_type": "execute_result"
    }
   ],
   "source": [
    "y.isna().any()"
   ]
  },
  {
   "cell_type": "code",
   "execution_count": 26,
   "id": "serial-olympus",
   "metadata": {},
   "outputs": [
    {
     "name": "stderr",
     "output_type": "stream",
     "text": [
      "\n",
      "A value is trying to be set on a copy of a slice from a DataFrame.\n",
      "Try using .loc[row_indexer,col_indexer] = value instead\n",
      "\n",
      "See the caveats in the documentation: https://pandas.pydata.org/pandas-docs/stable/user_guide/indexing.html#returning-a-view-versus-a-copy\n"
     ]
    }
   ],
   "source": [
    "for col in X.columns:\n",
    "    if X[col].dtype.name == 'category':\n",
    "        X[col].cat.add_categories('?', inplace=True)\n",
    "        X.loc[X[col].isna(), col] = '?'"
   ]
  },
  {
   "cell_type": "code",
   "execution_count": 43,
   "id": "devoted-bankruptcy",
   "metadata": {},
   "outputs": [],
   "source": [
    "import arff\n",
    "arff.dump('X_train.arff', pd.concat([X[df.Meta.hospital == 'Union'], y[df.Meta.hospital == 'Union'] == 'Positive'], axis=1).values, relation='X_train', names=list(X.columns.str.replace(' ', '_')) + ['pcr'])"
   ]
  },
  {
   "cell_type": "code",
   "execution_count": 44,
   "id": "geographic-shower",
   "metadata": {},
   "outputs": [],
   "source": [
    "arff.dump('X_test.arff', pd.concat([X[df.Meta.hospital != 'Union'], y[df.Meta.hospital != 'Union'] == 'Positive'], axis=1).values, relation='X_train', names=list(X.columns.str.replace(' ', '_')) + ['pcr'])"
   ]
  },
  {
   "cell_type": "code",
   "execution_count": 33,
   "id": "configured-picking",
   "metadata": {},
   "outputs": [
    {
     "data": {
      "text/plain": [
       "array([[-0.014999999999999857, -0.6000000000000001, 0.10909090909090909,\n",
       "        ..., -0.4351544, -0.48845235, 'Positive'],\n",
       "       [0.29499999999999993, 0.20000000000000018, -0.03636363636363636,\n",
       "        ..., 1.25513, 1.19133, 'Positive'],\n",
       "       [-0.25, -1.2, 0.03636363636363636, ..., -0.4146418, -0.454006,\n",
       "        'Positive'],\n",
       "       ...,\n",
       "       ['?', '?', '?', ..., -0.667305, -0.714351, 'Positive'],\n",
       "       ['?', '?', '?', ..., -0.4311356, -0.49390742, 'Positive'],\n",
       "       ['?', '?', '?', ..., -4.47030604, -0.518230915, 'Positive']],\n",
       "      dtype=object)"
      ]
     },
     "execution_count": 33,
     "metadata": {},
     "output_type": "execute_result"
    }
   ],
   "source": [
    "pd.concat([X.fillna('?'), y], axis=1).values"
   ]
  },
  {
   "cell_type": "code",
   "execution_count": 9,
   "id": "outstanding-argument",
   "metadata": {},
   "outputs": [],
   "source": [
    "X_train, y_train = X[df.Meta.part != 'test'], y[df.Meta.part != 'test']\n",
    "X_test, y_test, = X[df.Meta.part == 'test'], y[df.Meta.part == 'test']"
   ]
  },
  {
   "cell_type": "code",
   "execution_count": 16,
   "id": "reverse-pulse",
   "metadata": {},
   "outputs": [],
   "source": [
    "from bartpy.sklearnmodel import SklearnModel"
   ]
  },
  {
   "cell_type": "code",
   "execution_count": 17,
   "id": "regulated-finding",
   "metadata": {},
   "outputs": [
    {
     "name": "stderr",
     "output_type": "stream",
     "text": [
      "  0%|                                                                   | 0/200 [00:00<?, ?it/s]"
     ]
    },
    {
     "name": "stdout",
     "output_type": "stream",
     "text": [
      "Starting burn\n"
     ]
    },
    {
     "name": "stderr",
     "output_type": "stream",
     "text": [
      "divide by zero encountered in log\n",
      "invalid value encountered in double_scalars\n",
      "divide by zero encountered in true_divide\n",
      "invalid value encountered in double_scalars\n",
      "  0%|▎                                                          | 1/200 [00:00<01:51,  1.78it/s]invalid value encountered in sqrt\n",
      "divide by zero encountered in double_scalars\n",
      " 36%|█████████████████████▏                                    | 73/200 [00:15<00:27,  4.65it/s]divide by zero encountered in double_scalars\n",
      "invalid value encountered in double_scalars\n",
      "100%|█████████████████████████████████████████████████████████| 200/200 [00:41<00:00,  4.86it/s]\n",
      "  0%|                                                                   | 0/200 [00:00<?, ?it/s]"
     ]
    },
    {
     "name": "stdout",
     "output_type": "stream",
     "text": [
      "Starting sampling\n"
     ]
    },
    {
     "name": "stderr",
     "output_type": "stream",
     "text": [
      "100%|█████████████████████████████████████████████████████████| 200/200 [00:45<00:00,  4.39it/s]\n",
      "  0%|                                                                   | 0/200 [00:00<?, ?it/s]"
     ]
    },
    {
     "name": "stdout",
     "output_type": "stream",
     "text": [
      "Starting burn\n"
     ]
    },
    {
     "name": "stderr",
     "output_type": "stream",
     "text": [
      "  4%|██▋                                                        | 9/200 [00:02<00:45,  4.21it/s]invalid value encountered in power\n",
      "100%|█████████████████████████████████████████████████████████| 200/200 [00:45<00:00,  4.39it/s]\n",
      "  0%|                                                                   | 0/200 [00:00<?, ?it/s]"
     ]
    },
    {
     "name": "stdout",
     "output_type": "stream",
     "text": [
      "Starting sampling\n"
     ]
    },
    {
     "name": "stderr",
     "output_type": "stream",
     "text": [
      "100%|█████████████████████████████████████████████████████████| 200/200 [00:43<00:00,  4.61it/s]\n",
      "  0%|                                                                   | 0/200 [00:00<?, ?it/s]"
     ]
    },
    {
     "name": "stdout",
     "output_type": "stream",
     "text": [
      "Starting burn\n"
     ]
    },
    {
     "name": "stderr",
     "output_type": "stream",
     "text": [
      "100%|█████████████████████████████████████████████████████████| 200/200 [00:43<00:00,  4.58it/s]\n",
      "  0%|                                                                   | 0/200 [00:00<?, ?it/s]"
     ]
    },
    {
     "name": "stdout",
     "output_type": "stream",
     "text": [
      "Starting sampling\n"
     ]
    },
    {
     "name": "stderr",
     "output_type": "stream",
     "text": [
      "100%|█████████████████████████████████████████████████████████| 200/200 [00:43<00:00,  4.64it/s]\n",
      "  0%|                                                                   | 0/200 [00:00<?, ?it/s]"
     ]
    },
    {
     "name": "stdout",
     "output_type": "stream",
     "text": [
      "Starting burn\n"
     ]
    },
    {
     "name": "stderr",
     "output_type": "stream",
     "text": [
      "100%|█████████████████████████████████████████████████████████| 200/200 [00:43<00:00,  4.57it/s]\n",
      "  0%|                                                                   | 0/200 [00:00<?, ?it/s]"
     ]
    },
    {
     "name": "stdout",
     "output_type": "stream",
     "text": [
      "Starting sampling\n"
     ]
    },
    {
     "name": "stderr",
     "output_type": "stream",
     "text": [
      "100%|█████████████████████████████████████████████████████████| 200/200 [00:44<00:00,  4.52it/s]\n"
     ]
    },
    {
     "data": {
      "text/plain": [
       "SklearnModel(n_jobs=1)"
      ]
     },
     "execution_count": 17,
     "metadata": {},
     "output_type": "execute_result"
    }
   ],
   "source": [
    "model = SklearnModel(n_jobs=1)\n",
    "model.fit(X_train, y_train)"
   ]
  },
  {
   "cell_type": "code",
   "execution_count": 18,
   "id": "complicated-merit",
   "metadata": {},
   "outputs": [
    {
     "data": {
      "text/plain": [
       "-0.04465648854961857"
      ]
     },
     "execution_count": 18,
     "metadata": {},
     "output_type": "execute_result"
    }
   ],
   "source": [
    "model.score(X_test, y_test)"
   ]
  },
  {
   "cell_type": "code",
   "execution_count": 11,
   "id": "imported-tomato",
   "metadata": {},
   "outputs": [],
   "source": [
    "from lightgbm.sklearn import LGBMRegressor"
   ]
  },
  {
   "cell_type": "code",
   "execution_count": 21,
   "id": "running-tomato",
   "metadata": {},
   "outputs": [
    {
     "data": {
      "text/plain": [
       "LGBMRegressor()"
      ]
     },
     "execution_count": 21,
     "metadata": {},
     "output_type": "execute_result"
    }
   ],
   "source": [
    "reg = LGBMRegressor(n_jobs=-1)\n",
    "reg.fit(X_train, y_train)"
   ]
  },
  {
   "cell_type": "code",
   "execution_count": 23,
   "id": "buried-villa",
   "metadata": {},
   "outputs": [],
   "source": [
    "from sklearn.metrics import roc_auc_score\n",
    "import numpy as np\n",
    "def score_corads(y_true, y_pred):\n",
    "    y_true = y_true >= 3\n",
    "    return roc_auc_score(y_true, np.clip(y_pred, 0, 4)/4)"
   ]
  },
  {
   "cell_type": "code",
   "execution_count": 28,
   "id": "structured-sussex",
   "metadata": {},
   "outputs": [
    {
     "ename": "TypeError",
     "evalue": "prepreprocess_data() missing 1 required positional argument: 'config'",
     "output_type": "error",
     "traceback": [
      "\u001b[1;31m---------------------------------------------------------------------------\u001b[0m",
      "\u001b[1;31mTypeError\u001b[0m                                 Traceback (most recent call last)",
      "\u001b[1;32m<ipython-input-28-de69958fd905>\u001b[0m in \u001b[0;36m<module>\u001b[1;34m\u001b[0m\n\u001b[1;32m----> 1\u001b[1;33m \u001b[0mprepreprocess_data\u001b[0m\u001b[1;33m(\u001b[0m\u001b[0mX\u001b[0m\u001b[1;33m)\u001b[0m\u001b[1;33m\u001b[0m\u001b[1;33m\u001b[0m\u001b[0m\n\u001b[0m",
      "\u001b[1;31mTypeError\u001b[0m: prepreprocess_data() missing 1 required positional argument: 'config'"
     ]
    }
   ],
   "source": [
    "prepreprocess_data(X)"
   ]
  },
  {
   "cell_type": "code",
   "execution_count": 19,
   "id": "desperate-briefs",
   "metadata": {},
   "outputs": [],
   "source": [
    "model_preds = model.predict(X_test)"
   ]
  },
  {
   "cell_type": "code",
   "execution_count": 27,
   "id": "english-flood",
   "metadata": {},
   "outputs": [
    {
     "data": {
      "text/plain": [
       "array([2., 2., 2., 2., 2., 2., 2., 2., 2., 2., 2., 2., 2., 2., 2., 2., 2.,\n",
       "       2., 2., 2., 2., 2., 2., 2., 2., 2., 2., 2., 2., 2., 2., 2., 2., 2.,\n",
       "       2., 2., 2., 2., 2., 2., 2., 2., 2., 2., 2., 2., 2., 2., 2., 2., 2.,\n",
       "       2., 2., 2., 2., 2., 2., 2., 2., 2., 2., 2., 2., 2., 2., 2., 2., 2.,\n",
       "       2., 2., 2., 2., 2., 2., 2., 2., 2., 2., 2., 2., 2., 2., 2., 2., 2.,\n",
       "       2., 2., 2., 2., 2., 2., 2., 2., 2., 2., 2., 2., 2., 2., 2., 2., 2.,\n",
       "       2., 2., 2., 2., 2., 2., 2., 2., 2., 2., 2., 2., 2., 2., 2., 2., 2.])"
      ]
     },
     "execution_count": 27,
     "metadata": {},
     "output_type": "execute_result"
    }
   ],
   "source": [
    "model_preds"
   ]
  },
  {
   "cell_type": "code",
   "execution_count": 20,
   "id": "declared-enforcement",
   "metadata": {},
   "outputs": [
    {
     "data": {
      "text/plain": [
       "-0.04465648854961857"
      ]
     },
     "execution_count": 20,
     "metadata": {},
     "output_type": "execute_result"
    }
   ],
   "source": [
    "from sklearn.metrics import r2_score\n",
    "r2_score(y_test, model_preds)"
   ]
  },
  {
   "cell_type": "code",
   "execution_count": 25,
   "id": "promising-employment",
   "metadata": {},
   "outputs": [
    {
     "data": {
      "text/plain": [
       "0.5"
      ]
     },
     "execution_count": 25,
     "metadata": {},
     "output_type": "execute_result"
    }
   ],
   "source": [
    "score_corads(y_test, model_preds)"
   ]
  },
  {
   "cell_type": "code",
   "execution_count": 10,
   "id": "right-lawrence",
   "metadata": {},
   "outputs": [
    {
     "name": "stdout",
     "output_type": "stream",
     "text": [
      "Collecting git+https://github.com/JakeColtman/bartpy.git\n",
      "  Cloning https://github.com/JakeColtman/bartpy.git to c:\\users\\roel\\appdata\\local\\temp\\pip-req-build-hsn38px2\n",
      "Requirement already satisfied: joblib in c:\\users\\roel\\.virtualenvs\\diagcovid-ckc2berq\\lib\\site-packages (from bartpy==0.0.2) (1.0.1)\n",
      "Requirement already satisfied: matplotlib in c:\\users\\roel\\.virtualenvs\\diagcovid-ckc2berq\\lib\\site-packages (from bartpy==0.0.2) (3.3.4)\n",
      "Requirement already satisfied: numpy in c:\\users\\roel\\.virtualenvs\\diagcovid-ckc2berq\\lib\\site-packages (from bartpy==0.0.2) (1.19.5)\n",
      "Requirement already satisfied: pandas in c:\\users\\roel\\.virtualenvs\\diagcovid-ckc2berq\\lib\\site-packages (from bartpy==0.0.2) (1.2.3)\n",
      "Requirement already satisfied: scipy in c:\\users\\roel\\.virtualenvs\\diagcovid-ckc2berq\\lib\\site-packages (from bartpy==0.0.2) (1.5.3)\n",
      "Requirement already satisfied: seaborn in c:\\users\\roel\\.virtualenvs\\diagcovid-ckc2berq\\lib\\site-packages (from bartpy==0.0.2) (0.11.1)\n",
      "Requirement already satisfied: sklearn in c:\\users\\roel\\.virtualenvs\\diagcovid-ckc2berq\\lib\\site-packages (from bartpy==0.0.2) (0.0)\n",
      "Requirement already satisfied: statsmodels in c:\\users\\roel\\.virtualenvs\\diagcovid-ckc2berq\\lib\\site-packages (from bartpy==0.0.2) (0.12.2)\n",
      "Requirement already satisfied: tqdm in c:\\users\\roel\\.virtualenvs\\diagcovid-ckc2berq\\lib\\site-packages (from bartpy==0.0.2) (4.59.0)\n",
      "Requirement already satisfied: kiwisolver>=1.0.1 in c:\\users\\roel\\.virtualenvs\\diagcovid-ckc2berq\\lib\\site-packages (from matplotlib->bartpy==0.0.2) (1.3.1)\n",
      "Requirement already satisfied: python-dateutil>=2.1 in c:\\users\\roel\\.virtualenvs\\diagcovid-ckc2berq\\lib\\site-packages (from matplotlib->bartpy==0.0.2) (2.8.1)\n",
      "Requirement already satisfied: pillow>=6.2.0 in c:\\users\\roel\\.virtualenvs\\diagcovid-ckc2berq\\lib\\site-packages (from matplotlib->bartpy==0.0.2) (8.1.2)\n",
      "Requirement already satisfied: cycler>=0.10 in c:\\users\\roel\\.virtualenvs\\diagcovid-ckc2berq\\lib\\site-packages (from matplotlib->bartpy==0.0.2) (0.10.0)\n",
      "Requirement already satisfied: pyparsing!=2.0.4,!=2.1.2,!=2.1.6,>=2.0.3 in c:\\users\\roel\\.virtualenvs\\diagcovid-ckc2berq\\lib\\site-packages (from matplotlib->bartpy==0.0.2) (2.4.7)\n",
      "Requirement already satisfied: six in c:\\users\\roel\\.virtualenvs\\diagcovid-ckc2berq\\lib\\site-packages (from cycler>=0.10->matplotlib->bartpy==0.0.2) (1.15.0)\n",
      "Requirement already satisfied: pytz>=2017.3 in c:\\users\\roel\\.virtualenvs\\diagcovid-ckc2berq\\lib\\site-packages (from pandas->bartpy==0.0.2) (2021.1)\n",
      "Requirement already satisfied: scikit-learn in c:\\users\\roel\\.virtualenvs\\diagcovid-ckc2berq\\lib\\site-packages (from sklearn->bartpy==0.0.2) (0.24.1)\n",
      "Requirement already satisfied: threadpoolctl>=2.0.0 in c:\\users\\roel\\.virtualenvs\\diagcovid-ckc2berq\\lib\\site-packages (from scikit-learn->sklearn->bartpy==0.0.2) (2.1.0)\n",
      "Requirement already satisfied: patsy>=0.5 in c:\\users\\roel\\.virtualenvs\\diagcovid-ckc2berq\\lib\\site-packages (from statsmodels->bartpy==0.0.2) (0.5.1)\n",
      "Building wheels for collected packages: bartpy\n",
      "  Building wheel for bartpy (setup.py): started\n",
      "  Building wheel for bartpy (setup.py): finished with status 'done'\n",
      "  Created wheel for bartpy: filename=bartpy-0.0.2-py3-none-any.whl size=53446 sha256=63335b9f45de78f751d17c7ed8c6395fbe62411a87d43611116bbdc17bb587e6\n",
      "  Stored in directory: C:\\Users\\Roel\\AppData\\Local\\Temp\\pip-ephem-wheel-cache-3sywe7no\\wheels\\d9\\23\\41\\d13943255fc60cbf0a088b80529b2f060fb36b00b229ba518e\n",
      "Successfully built bartpy\n",
      "Installing collected packages: bartpy\n",
      "Successfully installed bartpy-0.0.2\n"
     ]
    },
    {
     "name": "stderr",
     "output_type": "stream",
     "text": [
      "  Running command git clone -q https://github.com/JakeColtman/bartpy.git 'C:\\Users\\Roel\\AppData\\Local\\Temp\\pip-req-build-hsn38px2'\n",
      "WARNING: You are using pip version 21.0.1; however, version 21.2.2 is available.\n",
      "You should consider upgrading via the 'c:\\users\\roel\\.virtualenvs\\diagcovid-ckc2berq\\scripts\\python.exe -m pip install --upgrade pip' command.\n"
     ]
    }
   ],
   "source": [
    "!pip install git+https://github.com/JakeColtman/bartpy.git --upgrade"
   ]
  },
  {
   "cell_type": "code",
   "execution_count": null,
   "id": "instant-photographer",
   "metadata": {},
   "outputs": [],
   "source": []
  }
 ],
 "metadata": {
  "kernelspec": {
   "display_name": "Python 3",
   "language": "python",
   "name": "python3"
  },
  "language_info": {
   "codemirror_mode": {
    "name": "ipython",
    "version": 3
   },
   "file_extension": ".py",
   "mimetype": "text/x-python",
   "name": "python",
   "nbconvert_exporter": "python",
   "pygments_lexer": "ipython3",
   "version": "3.7.9"
  }
 },
 "nbformat": 4,
 "nbformat_minor": 5
}
