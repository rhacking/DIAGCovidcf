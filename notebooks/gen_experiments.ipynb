{
 "cells": [
  {
   "cell_type": "code",
   "execution_count": 2,
   "id": "complicated-support",
   "metadata": {},
   "outputs": [],
   "source": [
    "import os\n",
    "import yaml\n",
    "import copy\n",
    "import numpy as np\n",
    "from pathlib import Path"
   ]
  },
  {
   "cell_type": "code",
   "execution_count": 3,
   "id": "secure-adrian",
   "metadata": {},
   "outputs": [],
   "source": [
    "base_configs = []\n",
    "for f in os.scandir('../configs/base_learners/'):\n",
    "    if f.name.endswith('.yaml'):\n",
    "        with open(f.path, 'r') as fh:\n",
    "            config = yaml.load(fh, Loader=yaml.SafeLoader)\n",
    "        base_configs.append((f.name.split('.')[0], config))"
   ]
  },
  {
   "cell_type": "code",
   "execution_count": 4,
   "id": "about-focus",
   "metadata": {},
   "outputs": [],
   "source": [
    "datasets = ['rumc', 'ictcf', 'cwz']"
   ]
  },
  {
   "cell_type": "code",
   "execution_count": 127,
   "id": "utility-headset",
   "metadata": {},
   "outputs": [],
   "source": [
    "Path('../experiments/within_dataset/').mkdir(parents=True, exist_ok=True)\n",
    "seed = np.random.randint(1000000)\n",
    "for dataset in datasets:\n",
    "    Path(os.path.join('../experiments/within_dataset/', dataset)).mkdir(parents=True, exist_ok=True)\n",
    "    with open(os.path.join('../experiments/within_dataset/', dataset, 'meta.yaml'), 'w') as fh:\n",
    "        yaml.dump({}, fh)\n",
    "    for name, conf in base_configs:\n",
    "        c = copy.deepcopy(conf)\n",
    "        c['dataset']['name'] = dataset\n",
    "        c['dataset']['target'] = 'PCR' if dataset in ['rumc', 'ictcf'] else 'DIAGNOSIS'\n",
    "        if dataset == 'cwz':\n",
    "            c['dataset']['test'] = dict(\n",
    "                cv=dict(\n",
    "                    test_size=0.2,\n",
    "                    seed=seed\n",
    "                )\n",
    "            )\n",
    "        elif dataset == 'ictcf':\n",
    "            c['dataset']['test'] = dict(\n",
    "                cv=dict(\n",
    "                    part_name='cohort', \n",
    "                    part='c2'\n",
    "                )\n",
    "            )\n",
    "        elif dataset == 'rumc':\n",
    "            c['dataset']['test'] = dict(\n",
    "                cv=dict(\n",
    "                    part_name='part', \n",
    "                    part='test'\n",
    "                )\n",
    "            )\n",
    "            if name not in ['lr', 'dart']:\n",
    "                c['dataset']['early_stopping']['cv'] = dict(\n",
    "                    part_name='part', \n",
    "                    part='val'\n",
    "                )\n",
    "        c['dataset']['feature_value_fraction_required'] = 0.1\n",
    "        with open(os.path.join('../experiments/within_dataset/', dataset, f'{name}.yaml'), 'w') as fh:\n",
    "            yaml.dump(c, fh)"
   ]
  },
  {
   "cell_type": "code",
   "execution_count": 119,
   "id": "verified-terrace",
   "metadata": {},
   "outputs": [],
   "source": [
    "datasets = {'ictcf': ['Union', 'Liyuan'], 'cwz': ['cwz', 'rumc']}\n",
    "Path('../experiments/between_dataset/').mkdir(parents=True, exist_ok=True)\n",
    "seed = np.random.randint(1000000)\n",
    "for dataset, hospitals in datasets.items():\n",
    "    for hospital in hospitals:\n",
    "        path = os.path.join('../experiments/between_dataset/', dataset+'_'+hospital)\n",
    "        Path(path).mkdir(parents=True, exist_ok=True)\n",
    "        with open(os.path.join(path, 'meta.yaml'), 'w') as fh:\n",
    "            yaml.dump({}, fh)\n",
    "        for name, conf in base_configs:\n",
    "            c = copy.deepcopy(conf)\n",
    "            c['dataset']['name'] = dataset\n",
    "            c['dataset']['target'] = 'PCR' if dataset in ['rumc', 'ictcf'] else 'DIAGNOSIS'\n",
    "            c['dataset']['test'] = dict(cv=dict(part_name='hospital', part=hospital))\n",
    "            c['dataset']['feature_value_fraction_required'] = 0.1\n",
    "            with open(os.path.join(path, f'{name}.yaml'), 'w') as fh:\n",
    "                yaml.dump(c, fh)"
   ]
  },
  {
   "cell_type": "code",
   "execution_count": 79,
   "id": "paperback-detector",
   "metadata": {},
   "outputs": [],
   "source": [
    "base_hyper_configs = []\n",
    "for f in os.scandir('../configs/base_learners_hyperopt/'):\n",
    "    if f.name.endswith('.yaml'):\n",
    "        with open(f.path, 'r') as fh:\n",
    "            config = yaml.load(fh, Loader=yaml.SafeLoader)\n",
    "        base_hyper_configs.append((f.name.split('.')[0], config))"
   ]
  },
  {
   "cell_type": "code",
   "execution_count": 80,
   "id": "swiss-sunrise",
   "metadata": {},
   "outputs": [],
   "source": [
    "datasets = ['rumc', 'ictcf', 'cwz']"
   ]
  },
  {
   "cell_type": "code",
   "execution_count": 81,
   "id": "congressional-accounting",
   "metadata": {},
   "outputs": [],
   "source": [
    "Path('../experiments/within_dataset_hyperopt/').mkdir(parents=True, exist_ok=True)\n",
    "seed = np.random.randint(1000000)\n",
    "for dataset in datasets:\n",
    "    path = os.path.join('../experiments/within_dataset_hyperopt/', dataset)\n",
    "    Path(path).mkdir(parents=True, exist_ok=True)\n",
    "    with open(os.path.join(path, 'meta.yaml'), 'w') as fh:\n",
    "        yaml.dump({}, fh)\n",
    "    for name, conf in base_hyper_configs:\n",
    "        c = copy.deepcopy(conf)\n",
    "        c['dataset']['name'] = dataset\n",
    "        c['dataset']['target'] = 'PCR' if dataset in ['rumc', 'ictcf'] else 'DIAGNOSIS'\n",
    "        c['n_trials'] = 5\n",
    "        c['dataset']['validation'] = dict(\n",
    "            metric='roc_auc', \n",
    "            cv=dict(\n",
    "                n_folds=5, \n",
    "                n_repeats=2\n",
    "            )\n",
    "        )\n",
    "        if dataset == 'cwz':\n",
    "            c['dataset']['test'] = dict(\n",
    "                cv=dict(\n",
    "                    test_size=0.2,\n",
    "                    seed=seed\n",
    "                )\n",
    "            )\n",
    "        elif dataset == 'ictcf':\n",
    "            c['dataset']['test'] = dict(\n",
    "                cv=dict(\n",
    "                    part_name='cohort', \n",
    "                    part='c2'\n",
    "                )\n",
    "            )\n",
    "        elif dataset == 'rumc':\n",
    "            c['dataset']['test'] = dict(\n",
    "                cv=dict(\n",
    "                    part_name='part', \n",
    "                    part='test'\n",
    "                )\n",
    "            )\n",
    "            if name not in ['lr', 'dart']:\n",
    "                c['dataset']['early_stopping']['cv'] = dict(\n",
    "                    part_name='part', \n",
    "                    part='val'\n",
    "                )\n",
    "        with open(os.path.join(path, f'{name}.yaml'), 'w') as fh:\n",
    "            yaml.dump(c, fh)"
   ]
  },
  {
   "cell_type": "code",
   "execution_count": 82,
   "id": "threatened-officer",
   "metadata": {},
   "outputs": [],
   "source": [
    "datasets = {'ictcf': ['Union', 'Liyuan'], 'cwz': ['cwz', 'rumc']}\n",
    "Path('../experiments/between_dataset_hyperopt/').mkdir(parents=True, exist_ok=True)\n",
    "seed = np.random.randint(1000000)\n",
    "for dataset, hospitals in datasets.items():\n",
    "    for hospital in hospitals:\n",
    "        path = os.path.join('../experiments/between_dataset_hyperopt/', dataset+'_'+hospital)\n",
    "        Path(path).mkdir(parents=True, exist_ok=True)\n",
    "        with open(os.path.join(path, 'meta.yaml'), 'w') as fh:\n",
    "            yaml.dump({}, fh)\n",
    "        for name, conf in base_hyper_configs:\n",
    "            c = copy.deepcopy(conf)\n",
    "            c['dataset']['name'] = dataset\n",
    "            c['dataset']['target'] = 'PCR' if dataset in ['rumc', 'ictcf'] else 'DIAGNOSIS'\n",
    "            c['dataset']['test'] = dict(cv=dict(part_name='hospital', part=hospital))\n",
    "            c['n_trials'] = 5\n",
    "            c['dataset']['validation'] = dict(\n",
    "                metric='roc_auc', \n",
    "                cv=dict(\n",
    "                    n_folds=5, \n",
    "                    n_repeats=2\n",
    "                )\n",
    "            )\n",
    "            with open(os.path.join(path, f'{name}.yaml'), 'w') as fh:\n",
    "                yaml.dump(c, fh)"
   ]
  },
  {
   "cell_type": "code",
   "execution_count": 137,
   "id": "further-balloon",
   "metadata": {},
   "outputs": [],
   "source": [
    "Path('../experiments/within_dataset_missing/').mkdir(parents=True, exist_ok=True)\n",
    "seed = np.random.randint(1000000)\n",
    "for dataset in datasets:\n",
    "    path = os.path.join('../experiments/within_dataset_missing/', dataset)\n",
    "    Path(path).mkdir(parents=True, exist_ok=True)\n",
    "    with open(os.path.join(path, 'meta.yaml'), 'w') as fh:\n",
    "        yaml.dump({}, fh)\n",
    "    for name, conf in base_configs:\n",
    "        c = copy.deepcopy(conf)\n",
    "        c['dataset']['name'] = dataset\n",
    "        c['dataset']['target'] = 'PCR' if dataset in ['rumc', 'ictcf'] else 'DIAGNOSIS'\n",
    "        if dataset == 'cwz':\n",
    "            c['dataset']['test'] = dict(\n",
    "                cv=dict(\n",
    "                    test_size=0.2,\n",
    "                    seed=seed\n",
    "                )\n",
    "            )\n",
    "        elif dataset == 'ictcf':\n",
    "            c['dataset']['test'] = dict(\n",
    "                cv=dict(\n",
    "                    part_name='cohort', \n",
    "                    part='c2'\n",
    "                )\n",
    "            )\n",
    "        elif dataset == 'rumc':\n",
    "            c['dataset']['test'] = dict(\n",
    "                cv=dict(\n",
    "                    part_name='part', \n",
    "                    part='test'\n",
    "                )\n",
    "            )\n",
    "        c['dataset']['feature_value_fraction_required'] = 0.005\n",
    "        c['pipeline']['missing_indicators'] = True\n",
    "        with open(os.path.join(path, f'{name}.yaml'), 'w') as fh:\n",
    "            yaml.dump(c, fh)"
   ]
  },
  {
   "cell_type": "code",
   "execution_count": 76,
   "id": "artificial-handy",
   "metadata": {},
   "outputs": [],
   "source": [
    "Path('../experiments/impute_predict_missing/').mkdir(parents=True, exist_ok=True)\n",
    "impute_methods = ['MEAN', 'MEDIAN', 'MICE', 'KNN3', 'KNN5', 'KNN10', 'CONSTANT']\n",
    "seed = np.random.randint(1000000)\n",
    "for dataset in datasets:\n",
    "    path = os.path.join('../experiments/impute_predict_missing/', dataset)\n",
    "    Path(path).mkdir(parents=True, exist_ok=True)\n",
    "    with open(os.path.join(path, 'meta.yaml'), 'w') as fh:\n",
    "        yaml.dump({}, fh)\n",
    "    for name, conf in base_configs:\n",
    "        if name != 'rf_sklearn':\n",
    "            continue\n",
    "        for impute in impute_methods:\n",
    "            c = copy.deepcopy(conf)\n",
    "            c['dataset']['name'] = dataset\n",
    "            c['dataset']['target'] = 'MISSING'\n",
    "            if dataset == 'cwz':\n",
    "                c['dataset']['test'] = dict(\n",
    "                    cv=dict(\n",
    "                        test_size=0.2,\n",
    "                        seed=seed\n",
    "                    )\n",
    "                )\n",
    "            elif dataset == 'ictcf':\n",
    "                c['dataset']['test'] = dict(\n",
    "                    cv=dict(\n",
    "                        part_name='cohort', \n",
    "                        part='c2'\n",
    "                    )\n",
    "                )\n",
    "            elif dataset == 'rumc':\n",
    "                c['dataset']['test'] = dict(\n",
    "                    cv=dict(\n",
    "                        part_name='part', \n",
    "                        part='test'\n",
    "                    )\n",
    "                )\n",
    "            c['dataset']['feature_value_fraction_required'] = 0.005\n",
    "            c['pipeline']['imputation']['numeric'] = impute\n",
    "            c['human_name'] = impute\n",
    "            with open(os.path.join(path, f'{name}_{impute}.yaml'), 'w') as fh:\n",
    "                yaml.dump(c, fh)"
   ]
  },
  {
   "cell_type": "code",
   "execution_count": 78,
   "id": "romantic-pierre",
   "metadata": {},
   "outputs": [],
   "source": [
    "Path('../experiments/predict_with_impute/').mkdir(parents=True, exist_ok=True)\n",
    "impute_methods = ['MEAN', 'MEDIAN', 'MICE', 'KNN3', 'KNN5', 'KNN10', 'CONSTANT', 'NONE']\n",
    "seed = np.random.randint(1000000)\n",
    "for dataset in datasets:\n",
    "    path = os.path.join('../experiments/predict_with_impute/', dataset)\n",
    "    Path(path).mkdir(parents=True, exist_ok=True)\n",
    "    with open(os.path.join(path, 'meta.yaml'), 'w') as fh:\n",
    "        yaml.dump({}, fh)\n",
    "    for name, conf in base_configs:\n",
    "        for impute in impute_methods:\n",
    "            c = copy.deepcopy(conf)\n",
    "            c['dataset']['name'] = dataset\n",
    "            c['dataset']['target'] = 'PCR' if dataset in ['rumc', 'ictcf'] else 'DIAGNOSIS'\n",
    "            if dataset == 'cwz':\n",
    "                c['dataset']['test'] = dict(\n",
    "                    cv=dict(\n",
    "                        test_size=0.2,\n",
    "                        seed=seed\n",
    "                    )\n",
    "                )\n",
    "            elif dataset == 'ictcf':\n",
    "                c['dataset']['test'] = dict(\n",
    "                    cv=dict(\n",
    "                        part_name='cohort', \n",
    "                        part='c2'\n",
    "                    )\n",
    "                )\n",
    "            elif dataset == 'rumc':\n",
    "                c['dataset']['test'] = dict(\n",
    "                    cv=dict(\n",
    "                        part_name='part', \n",
    "                        part='test'\n",
    "                    )\n",
    "                )\n",
    "            c['dataset']['feature_value_fraction_required'] = 0.005\n",
    "            c['pipeline']['imputation']['numeric'] = impute\n",
    "            c['row_name'] = impute\n",
    "            with open(os.path.join(path, f'{name}_{impute}.yaml'), 'w') as fh:\n",
    "                yaml.dump(c, fh)"
   ]
  },
  {
   "cell_type": "code",
   "execution_count": 34,
   "id": "novel-cemetery",
   "metadata": {},
   "outputs": [],
   "source": [
    "from covidcf.config.meta import MetaConfig, MetaSchema"
   ]
  },
  {
   "cell_type": "code",
   "execution_count": 236,
   "id": "capital-blade",
   "metadata": {},
   "outputs": [],
   "source": [
    "def load_config(path: Path):\n",
    "    with open(path, 'r') as fh:\n",
    "        config = yaml.load(fh, Loader=yaml.SafeLoader)\n",
    "    return path.stem, config\n",
    "\n",
    "def generate_experiment(name: str, configs, datasets, do_hyperopt: bool, generate_configs_callback, overview_metrics=None, \n",
    "                        overview_x='model', overview_row=None, plot_shap=False, n_hyperopt_trials: int = 5, hyperopt_cv=None):\n",
    "    base_path = Path('../experiments/')\n",
    "    experiment_path = base_path.joinpath(name)\n",
    "    experiment_path.mkdir(parents=True, exist_ok=True)\n",
    "    \n",
    "    configs_path = Path('../configs/base_learners_hyperopt/') if do_hyperopt else Path('../configs/base_learners/')\n",
    "    base_configs = [load_config(path) for path in configs_path.iterdir() if path.stem in configs or configs == 'all']\n",
    "\n",
    "    seed = np.random.randint(1000000)\n",
    "    if datasets == 'all':\n",
    "        datasets = ['rumc', 'ictcf', 'cwz']\n",
    "        test_cvs = {'cwz': dict(test_size=0.2, seed=seed), 'ictcf': dict(part_name='cohort', part='c2'), 'rumc': dict(part_name='part', part='test')}\n",
    "    elif datasets == 'cross':\n",
    "        datasets = ['ictcf_Union', 'ictcf_Liyuan', 'cwz_cwz', 'cwz_rumc']\n",
    "        test_cvs = {'ictcf_Union': dict(part_name='hospital', part='Union'), \n",
    "                    'ictcf_Liyuan': dict(part_name='hospital', part='Liyuan'), \n",
    "                    'cwz_cwz': dict(part_name='hospital', part='cwz'), \n",
    "                    'cwz_rumc': dict(part_name='hospital', part='rumc')}\n",
    "    \n",
    "    overview_metrics = ['roc_auc', 'accuracy'] if overview_metrics is None else overview_metrics\n",
    "    meta = MetaConfig(overview=MetaConfig.OverviewConfig(x=overview_x, row=overview_row, metrics=overview_metrics), plot_shap=plot_shap)\n",
    "    \n",
    "    hyperopt_cv = dict(n_folds=5, n_repeats=2) if hyperopt_cv is None else hyperopt_cv\n",
    "    \n",
    "    for dataset in datasets:\n",
    "        path = experiment_path.joinpath(dataset)\n",
    "        path.mkdir(parents=True, exist_ok=True)\n",
    "        with open(path.joinpath('meta.yaml'), 'w') as fh:\n",
    "            yaml.dump(MetaSchema.dump(meta), fh)\n",
    "        for name, conf in base_configs:\n",
    "            c = copy.deepcopy(conf)\n",
    "            c['dataset']['name'] = dataset.split('_')[0]\n",
    "            c['dataset']['target'] = 'PCR' if dataset in ['rumc', 'ictcf'] else 'DIAGNOSIS'\n",
    "            c['dataset']['test'] = dict(cv=test_cvs[dataset])\n",
    "            \n",
    "            if do_hyperopt:\n",
    "                c['n_trials'] = n_hyperopt_trials\n",
    "                c['dataset']['validation'] = dict(metric='roc_auc', cv=hyperopt_cv)\n",
    "            \n",
    "            experiments_configs = generate_configs_callback(dataset, name, c)\n",
    "            for experiment_name, experiment_config in experiments_configs:\n",
    "                with open(path.joinpath(f'{experiment_name}.yaml'), 'w') as fh:\n",
    "                    yaml.dump(experiment_config, fh)"
   ]
  },
  {
   "cell_type": "code",
   "execution_count": 232,
   "id": "dependent-folks",
   "metadata": {},
   "outputs": [],
   "source": [
    "def gen_configs(dataset, config_name, config):\n",
    "    impute_methods = ['MEAN', 'MEDIAN', 'MICE', 'KNN3', 'KNN5', 'KNN10', 'CONSTANT', 'NONE']\n",
    "    for impute in impute_methods:\n",
    "        c = copy.deepcopy(config)\n",
    "        c['dataset']['feature_value_fraction_required'] = 0.005\n",
    "        c['pipeline']['imputation']['numeric'] = impute\n",
    "        c['meta'].update(dict(impute_method=impute))\n",
    "        yield f'{config_name}_{impute}', c\n",
    "generate_experiment('predict_with_impute', configs='all', datasets='cross', do_hyperopt=False, generate_configs_callback=gen_configs, \n",
    "                    overview_row='impute_method')"
   ]
  },
  {
   "cell_type": "code",
   "execution_count": 237,
   "id": "acquired-reducing",
   "metadata": {},
   "outputs": [],
   "source": [
    "def gen_configs(dataset, config_name, config):\n",
    "    c = copy.deepcopy(config)\n",
    "    c['parameters'] = dict(estimator=dict(base_estimator=c['parameters']['estimator']))\n",
    "    c['pipeline']['estimator_type'] = 'SHAP_ZERO'\n",
    "    yield f'{config_name}', c\n",
    "generate_experiment('shap_zeroing', configs=['gbdt', 'dart', 'goss', 'rf'], datasets='cross', do_hyperopt=False, generate_configs_callback=gen_configs)\n",
    "generate_experiment('shap_zeroing_hyperopt', configs=['gbdt', 'dart', 'goss', 'rf'], datasets='cross', do_hyperopt=True, generate_configs_callback=gen_configs)"
   ]
  },
  {
   "cell_type": "code",
   "execution_count": 239,
   "id": "certain-malta",
   "metadata": {},
   "outputs": [],
   "source": [
    "def gen_configs(dataset, config_name, config):\n",
    "    c = copy.deepcopy(config)\n",
    "    c['parameters'] = dict(estimator=dict(base_estimator=c['parameters']['estimator']))\n",
    "    c['parameters']['estimator']['n_repeat'] = 50\n",
    "    c['pipeline']['estimator_type'] = 'REP_IMPUTE'\n",
    "    yield f'{config_name}', c\n",
    "    if config_name == 'gbdt':\n",
    "        c = copy.deepcopy(config)\n",
    "        c['meta']['model'] = 'Baseline'\n",
    "        yield f'{config_name}_base', c\n",
    "generate_experiment('test_time_impute', configs=['gbdt', 'dart', 'goss', 'rf'], datasets='cross', do_hyperopt=False, generate_configs_callback=gen_configs, plot_shap=True)"
   ]
  },
  {
   "cell_type": "code",
   "execution_count": 95,
   "id": "anticipated-vision",
   "metadata": {},
   "outputs": [
    {
     "data": {
      "text/plain": [
       "'dart'"
      ]
     },
     "execution_count": 95,
     "metadata": {},
     "output_type": "execute_result"
    }
   ],
   "source": [
    "Path('../configs/base_learners_hyperopt/dart.yaml').stem"
   ]
  },
  {
   "cell_type": "code",
   "execution_count": 143,
   "id": "improved-luther",
   "metadata": {},
   "outputs": [
    {
     "data": {
      "text/plain": [
       "(10, 10)"
      ]
     },
     "execution_count": 143,
     "metadata": {},
     "output_type": "execute_result"
    }
   ],
   "source": [
    "np.isnan(np.random.rand(10, 10)).shape"
   ]
  },
  {
   "cell_type": "code",
   "execution_count": 78,
   "id": "specified-species",
   "metadata": {},
   "outputs": [
    {
     "data": {
      "text/plain": [
       "True"
      ]
     },
     "execution_count": 78,
     "metadata": {},
     "output_type": "execute_result"
    }
   ],
   "source": [
    "os.path.exists(os.path.join('../experiments/within_dataset/', dataset))"
   ]
  },
  {
   "cell_type": "code",
   "execution_count": 58,
   "id": "extensive-florence",
   "metadata": {},
   "outputs": [
    {
     "data": {
      "text/plain": [
       "cwz     262\n",
       "rumc    172\n",
       "Name: hospital, dtype: int64"
      ]
     },
     "execution_count": 58,
     "metadata": {},
     "output_type": "execute_result"
    }
   ],
   "source": [
    "import pandas as pd\n",
    "pd.read_pickle('../data/processed/cwz.pkl').Meta.hospital.value_counts()"
   ]
  },
  {
   "cell_type": "code",
   "execution_count": 110,
   "id": "public-ability",
   "metadata": {},
   "outputs": [],
   "source": [
    "s = (~pd.read_pickle('../data/processed/rumc.pkl').Input.Clinical.isna()).sum()"
   ]
  },
  {
   "cell_type": "code",
   "execution_count": 111,
   "id": "possible-channels",
   "metadata": {},
   "outputs": [
    {
     "data": {
      "text/plain": [
       "(799, 654)"
      ]
     },
     "execution_count": 111,
     "metadata": {},
     "output_type": "execute_result"
    }
   ],
   "source": [
    "pd.read_pickle('../data/processed/rumc.pkl').shape"
   ]
  },
  {
   "cell_type": "code",
   "execution_count": 112,
   "id": "received-geometry",
   "metadata": {},
   "outputs": [
    {
     "data": {
      "text/plain": [
       "sex                                              508\n",
       "age                                              508\n",
       "MCV                                              163\n",
       "ERYTROCYTEN                                      163\n",
       "RED CELL DISTRIBUTION WIDTH (RDW)                163\n",
       "HEMATOCRIET                                      163\n",
       "HEMOGLOBINE                                      163\n",
       "TROMBOCYTEN                                      163\n",
       "LEUK                                             163\n",
       "MCH                                              163\n",
       "MCHC                                             163\n",
       "KREATININE                                       163\n",
       "MDRD-GFR                                         162\n",
       "CKD-EPI-GFR, ML/MIN/1.73 M2                      162\n",
       "ALAT                                             141\n",
       "CRP                                              128\n",
       "LDH                                              128\n",
       "ALKALISCHE FOSFATASE                             124\n",
       "KALIUM                                           123\n",
       "UREUM                                            122\n",
       "NATRIUM                                          118\n",
       "NEUTROFIELE SEGMENTKERNIGE GRANULOCYTEN (ABS)    115\n",
       "BASOFIELE GRANULOCYTEN (ABSOLUUT)                115\n",
       "EOSINOFIELE GRANULOCYTEN (ABSOLUUT)              115\n",
       "LYMFOCYTEN (ABSOLUUT)                            115\n",
       "ASAT                                             115\n",
       "MONOCYTEN (ABSOLUUT)                             115\n",
       "BILIRUBINE TOTAAL                                113\n",
       "GAMMA GT                                         111\n",
       "GEÏONISEERD CALCIUM (BLOEDGAS)                   103\n",
       "NATRIUM (BLOEDGAS)                               103\n",
       "GLUCOSE (BLOEDGAS)                               103\n",
       "CHLORIDE (BLOEDGAS)                              103\n",
       "KALIUM (BLOEDGAS)                                103\n",
       "HCO3 (BLOEDGAS)                                  103\n",
       "BASE EXCESS (BLOEDGAS)                           103\n",
       "PH (BLOEDGAS)                                    103\n",
       "LACTAAT (BLOEDGAS)                               103\n",
       "PCO2 (BLOEDGAS)                                  103\n",
       "PO2 (BLOEDGAS)                                   102\n",
       "dtype: int64"
      ]
     },
     "execution_count": 112,
     "metadata": {},
     "output_type": "execute_result"
    }
   ],
   "source": [
    "s.sort_values()[::-1].head(40)"
   ]
  },
  {
   "cell_type": "code",
   "execution_count": 114,
   "id": "literary-empty",
   "metadata": {},
   "outputs": [
    {
     "data": {
      "text/plain": [
       "95.88"
      ]
     },
     "execution_count": 114,
     "metadata": {},
     "output_type": "execute_result"
    }
   ],
   "source": [
    "799*0.12"
   ]
  },
  {
   "cell_type": "code",
   "execution_count": 100,
   "id": "severe-christopher",
   "metadata": {},
   "outputs": [],
   "source": [
    "cwz = pd.read_pickle('../data/processed/cwz.pkl')"
   ]
  },
  {
   "cell_type": "code",
   "execution_count": 105,
   "id": "australian-voltage",
   "metadata": {},
   "outputs": [
    {
     "data": {
      "text/plain": [
       "adm_hosp                                                   172\n",
       "adm_presenting_symptoms#Shortness_of_breath_dyspnea        172\n",
       "dem_pat_gender                                             172\n",
       "med_hist_other#Cardiovascular                              172\n",
       "med_hist_other#DM                                          172\n",
       "med_hist_other#Obesity                                     172\n",
       "med_hist_other#Pulmonary_Pathology                         172\n",
       "med_hist_other#Immunodeficiency                            172\n",
       "med_hist_other#Malignancy                                  172\n",
       "med_hist_other#Other                                       172\n",
       "adm_presenting_symptoms#Fever__38_C                        172\n",
       "adm_presenting_symptoms#Cough_without_sputum_production    172\n",
       "adm_presenting_symptoms#Chest_pain                         172\n",
       "adm_presenting_symptoms#Abdominal_pain                     172\n",
       "dem_pat_age_at_inclusion                                   172\n",
       "adm_resp_rate                                              170\n",
       "adm_symptoms_duration                                      169\n",
       "adm_crp                                                    168\n",
       "adm_lym                                                    157\n",
       "dem_pat_BMI                                                156\n",
       "adm_LDH                                                    150\n",
       "adm_procalcitonin                                          145\n",
       "adm_sat                                                    126\n",
       "adm_ferritin                                               122\n",
       "adm_case_contact                                            14\n",
       "adm_ddimer                                                  13\n",
       "dtype: int64"
      ]
     },
     "execution_count": 105,
     "metadata": {},
     "output_type": "execute_result"
    }
   ],
   "source": [
    "(~cwz[cwz.Meta.hospital == 'rumc'].Input.Clinical.isna()).sum().sort_values()[::-1]"
   ]
  },
  {
   "cell_type": "code",
   "execution_count": 130,
   "id": "reduced-adoption",
   "metadata": {},
   "outputs": [],
   "source": [
    "from sklearn.ensemble import RandomForestClassifier, RandomForestRegressor"
   ]
  },
  {
   "cell_type": "code",
   "execution_count": 132,
   "id": "biblical-local",
   "metadata": {},
   "outputs": [],
   "source": [
    "rf = RandomForestClassifier().fit(np.random.rand(30, 10), np.round(np.random.rand(30, 3)))"
   ]
  },
  {
   "cell_type": "code",
   "execution_count": 243,
   "id": "mediterranean-router",
   "metadata": {},
   "outputs": [],
   "source": [
    "import joblib\n",
    "import os\n",
    "import yaml\n",
    "import pandas as pd\n",
    "import numpy as np\n",
    "import shap\n",
    "from covidcf.evaluation.base import get_cat_codes\n",
    "dfs = []\n",
    "experiments_path = '../experiments/within_dataset/ictcf/'\n",
    "shap_df = []\n",
    "is_multi = False\n",
    "for f in os.scandir(experiments_path):\n",
    "    if f.name != 'meta.yaml' and f.name.startswith('result_'):\n",
    "        print(f.name)\n",
    "        path_to_file, filename = os.path.split(f.path)\n",
    "        config_path = os.path.join(path_to_file, f'{filename.split(\".\")[0].replace(\"result_\", \"\")}.yaml')\n",
    "        with open(config_path, 'r') as fh:\n",
    "            config_dict = yaml.load(fh, Loader=yaml.SafeLoader)\n",
    "        data = joblib.load(f.path)\n",
    "        print(len(data['preds_proba']))\n",
    "        print(data.keys())\n",
    "        if not isinstance(data['preds_proba'], list):\n",
    "            try:\n",
    "                explainer = shap.TreeExplainer(data['pipeline'].steps[-1][1])\n",
    "                shap_values = explainer(data['X_test'])[:, :, 1]\n",
    "                vis_idx = data['X_test'].columns.str.startswith('Visual')\n",
    "                mean_abs_missing = np.abs(shap_values.values[:, ~vis_idx] * data['X_test'].isna().values[:, ~vis_idx]).mean()\n",
    "                mean_abs_present = np.abs(shap_values.values[:, ~vis_idx] * (~data['X_test'].isna()).values[:, ~vis_idx]).mean()\n",
    "                if np.any(vis_idx):\n",
    "                    mean_abs_vis = np.abs(shap_values.values[:, vis_idx]).mean()\n",
    "                \n",
    "                shap_df.append({'model': config_dict['human_name'], 'type': 'missing', 'value': mean_abs_missing})\n",
    "                shap_df.append({'model': config_dict['human_name'], 'type': 'present', 'value': mean_abs_present})\n",
    "                if np.any(vis_idx):\n",
    "                    shap_df.append({'model': config_dict['human_name'], 'type': 'visual', 'value': mean_abs_vis})\n",
    "                \n",
    "            except:\n",
    "#                 explainer = shap.KernelExplainer(data['pipeline'].predict_proba, data=data['X_test'])\n",
    "                pass\n",
    "            \n",
    "            data = pd.DataFrame({'true_0': get_cat_codes(data['y_test']), 'pred_0': data['preds_proba']})\n",
    "        else:\n",
    "            is_multi = True\n",
    "            preds = data['preds_proba']\n",
    "            print([i for i in range(len(preds)) if preds[i].shape[1] == 1])\n",
    "            data_dict = {f'pred_{i}': preds[i][:, 1] for i in range(len(preds)) if preds[i].shape[1] == 2}\n",
    "            data_dict.update({f'true_{i}': np.array(data['y_test'])[:, i] for i in range(len(preds))})\n",
    "            data = pd.DataFrame(data_dict)\n",
    "        assert all(not (df.model == config_dict['human_name']).any() for df in dfs), f'{[df.model.unique() for df in dfs]}, {config_dict[\"human_name\"]}'\n",
    "        data['model'] = config_dict['human_name']\n",
    "        dfs.append(data)"
   ]
  },
  {
   "cell_type": "code",
   "execution_count": 244,
   "id": "needed-individual",
   "metadata": {},
   "outputs": [
    {
     "ename": "ValueError",
     "evalue": "No objects to concatenate",
     "output_type": "error",
     "traceback": [
      "\u001b[1;31m---------------------------------------------------------------------------\u001b[0m",
      "\u001b[1;31mValueError\u001b[0m                                Traceback (most recent call last)",
      "\u001b[1;32m<ipython-input-244-d14f8df670de>\u001b[0m in \u001b[0;36m<module>\u001b[1;34m\u001b[0m\n\u001b[1;32m----> 1\u001b[1;33m \u001b[0mdf\u001b[0m \u001b[1;33m=\u001b[0m \u001b[0mpd\u001b[0m\u001b[1;33m.\u001b[0m\u001b[0mconcat\u001b[0m\u001b[1;33m(\u001b[0m\u001b[0mdfs\u001b[0m\u001b[1;33m,\u001b[0m \u001b[0mignore_index\u001b[0m\u001b[1;33m=\u001b[0m\u001b[1;32mTrue\u001b[0m\u001b[1;33m)\u001b[0m\u001b[1;33m\u001b[0m\u001b[1;33m\u001b[0m\u001b[0m\n\u001b[0m\u001b[0;32m      2\u001b[0m \u001b[0mdf\u001b[0m\u001b[1;33m\u001b[0m\u001b[1;33m\u001b[0m\u001b[0m\n",
      "\u001b[1;32mc:\\users\\roel\\.virtualenvs\\diagcovid-ckc2berq\\lib\\site-packages\\pandas\\core\\reshape\\concat.py\u001b[0m in \u001b[0;36mconcat\u001b[1;34m(objs, axis, join, ignore_index, keys, levels, names, verify_integrity, sort, copy)\u001b[0m\n\u001b[0;32m    293\u001b[0m         \u001b[0mverify_integrity\u001b[0m\u001b[1;33m=\u001b[0m\u001b[0mverify_integrity\u001b[0m\u001b[1;33m,\u001b[0m\u001b[1;33m\u001b[0m\u001b[1;33m\u001b[0m\u001b[0m\n\u001b[0;32m    294\u001b[0m         \u001b[0mcopy\u001b[0m\u001b[1;33m=\u001b[0m\u001b[0mcopy\u001b[0m\u001b[1;33m,\u001b[0m\u001b[1;33m\u001b[0m\u001b[1;33m\u001b[0m\u001b[0m\n\u001b[1;32m--> 295\u001b[1;33m         \u001b[0msort\u001b[0m\u001b[1;33m=\u001b[0m\u001b[0msort\u001b[0m\u001b[1;33m,\u001b[0m\u001b[1;33m\u001b[0m\u001b[1;33m\u001b[0m\u001b[0m\n\u001b[0m\u001b[0;32m    296\u001b[0m     )\n\u001b[0;32m    297\u001b[0m \u001b[1;33m\u001b[0m\u001b[0m\n",
      "\u001b[1;32mc:\\users\\roel\\.virtualenvs\\diagcovid-ckc2berq\\lib\\site-packages\\pandas\\core\\reshape\\concat.py\u001b[0m in \u001b[0;36m__init__\u001b[1;34m(self, objs, axis, join, keys, levels, names, ignore_index, verify_integrity, copy, sort)\u001b[0m\n\u001b[0;32m    340\u001b[0m \u001b[1;33m\u001b[0m\u001b[0m\n\u001b[0;32m    341\u001b[0m         \u001b[1;32mif\u001b[0m \u001b[0mlen\u001b[0m\u001b[1;33m(\u001b[0m\u001b[0mobjs\u001b[0m\u001b[1;33m)\u001b[0m \u001b[1;33m==\u001b[0m \u001b[1;36m0\u001b[0m\u001b[1;33m:\u001b[0m\u001b[1;33m\u001b[0m\u001b[1;33m\u001b[0m\u001b[0m\n\u001b[1;32m--> 342\u001b[1;33m             \u001b[1;32mraise\u001b[0m \u001b[0mValueError\u001b[0m\u001b[1;33m(\u001b[0m\u001b[1;34m\"No objects to concatenate\"\u001b[0m\u001b[1;33m)\u001b[0m\u001b[1;33m\u001b[0m\u001b[1;33m\u001b[0m\u001b[0m\n\u001b[0m\u001b[0;32m    343\u001b[0m \u001b[1;33m\u001b[0m\u001b[0m\n\u001b[0;32m    344\u001b[0m         \u001b[1;32mif\u001b[0m \u001b[0mkeys\u001b[0m \u001b[1;32mis\u001b[0m \u001b[1;32mNone\u001b[0m\u001b[1;33m:\u001b[0m\u001b[1;33m\u001b[0m\u001b[1;33m\u001b[0m\u001b[0m\n",
      "\u001b[1;31mValueError\u001b[0m: No objects to concatenate"
     ]
    }
   ],
   "source": [
    "df = pd.concat(dfs, ignore_index=True)\n",
    "df"
   ]
  },
  {
   "cell_type": "code",
   "execution_count": 223,
   "id": "formed-institution",
   "metadata": {},
   "outputs": [
    {
     "data": {
      "text/html": [
       "<div>\n",
       "<style scoped>\n",
       "    .dataframe tbody tr th:only-of-type {\n",
       "        vertical-align: middle;\n",
       "    }\n",
       "\n",
       "    .dataframe tbody tr th {\n",
       "        vertical-align: top;\n",
       "    }\n",
       "\n",
       "    .dataframe thead th {\n",
       "        text-align: right;\n",
       "    }\n",
       "</style>\n",
       "<table border=\"1\" class=\"dataframe\">\n",
       "  <thead>\n",
       "    <tr style=\"text-align: right;\">\n",
       "      <th></th>\n",
       "      <th>model</th>\n",
       "      <th>type</th>\n",
       "      <th>value</th>\n",
       "    </tr>\n",
       "  </thead>\n",
       "  <tbody>\n",
       "    <tr>\n",
       "      <th>0</th>\n",
       "      <td>DART</td>\n",
       "      <td>missing</td>\n",
       "      <td>0.007110</td>\n",
       "    </tr>\n",
       "    <tr>\n",
       "      <th>1</th>\n",
       "      <td>DART</td>\n",
       "      <td>present</td>\n",
       "      <td>0.022265</td>\n",
       "    </tr>\n",
       "    <tr>\n",
       "      <th>2</th>\n",
       "      <td>DART</td>\n",
       "      <td>visual</td>\n",
       "      <td>0.050394</td>\n",
       "    </tr>\n",
       "    <tr>\n",
       "      <th>3</th>\n",
       "      <td>GBDT</td>\n",
       "      <td>missing</td>\n",
       "      <td>0.015296</td>\n",
       "    </tr>\n",
       "    <tr>\n",
       "      <th>4</th>\n",
       "      <td>GBDT</td>\n",
       "      <td>present</td>\n",
       "      <td>0.045737</td>\n",
       "    </tr>\n",
       "    <tr>\n",
       "      <th>5</th>\n",
       "      <td>GBDT</td>\n",
       "      <td>visual</td>\n",
       "      <td>0.092899</td>\n",
       "    </tr>\n",
       "    <tr>\n",
       "      <th>6</th>\n",
       "      <td>GOSS</td>\n",
       "      <td>missing</td>\n",
       "      <td>0.014053</td>\n",
       "    </tr>\n",
       "    <tr>\n",
       "      <th>7</th>\n",
       "      <td>GOSS</td>\n",
       "      <td>present</td>\n",
       "      <td>0.041444</td>\n",
       "    </tr>\n",
       "    <tr>\n",
       "      <th>8</th>\n",
       "      <td>GOSS</td>\n",
       "      <td>visual</td>\n",
       "      <td>0.072154</td>\n",
       "    </tr>\n",
       "    <tr>\n",
       "      <th>9</th>\n",
       "      <td>RF</td>\n",
       "      <td>missing</td>\n",
       "      <td>0.010244</td>\n",
       "    </tr>\n",
       "    <tr>\n",
       "      <th>10</th>\n",
       "      <td>RF</td>\n",
       "      <td>present</td>\n",
       "      <td>0.020726</td>\n",
       "    </tr>\n",
       "    <tr>\n",
       "      <th>11</th>\n",
       "      <td>RF</td>\n",
       "      <td>visual</td>\n",
       "      <td>0.070436</td>\n",
       "    </tr>\n",
       "  </tbody>\n",
       "</table>\n",
       "</div>"
      ],
      "text/plain": [
       "   model     type     value\n",
       "0   DART  missing  0.007110\n",
       "1   DART  present  0.022265\n",
       "2   DART   visual  0.050394\n",
       "3   GBDT  missing  0.015296\n",
       "4   GBDT  present  0.045737\n",
       "5   GBDT   visual  0.092899\n",
       "6   GOSS  missing  0.014053\n",
       "7   GOSS  present  0.041444\n",
       "8   GOSS   visual  0.072154\n",
       "9     RF  missing  0.010244\n",
       "10    RF  present  0.020726\n",
       "11    RF   visual  0.070436"
      ]
     },
     "execution_count": 223,
     "metadata": {},
     "output_type": "execute_result"
    }
   ],
   "source": [
    "shap_df = pd.DataFrame(shap_df)\n",
    "shap_df"
   ]
  },
  {
   "cell_type": "code",
   "execution_count": 224,
   "id": "meaningful-gates",
   "metadata": {},
   "outputs": [
    {
     "data": {
      "text/plain": [
       "<AxesSubplot:xlabel='model', ylabel='value'>"
      ]
     },
     "execution_count": 224,
     "metadata": {},
     "output_type": "execute_result"
    },
    {
     "data": {
      "image/png": "[encoded data removed]",
      "text/plain": [
       "<Figure size 432x288 with 1 Axes>"
      ]
     },
     "metadata": {
      "needs_background": "light"
     },
     "output_type": "display_data"
    }
   ],
   "source": [
    "import seaborn as sns\n",
    "sns.barplot(data=shap_df, x='model', y='value', hue='type')"
   ]
  },
  {
   "cell_type": "code",
   "execution_count": 225,
   "id": "smoking-papua",
   "metadata": {},
   "outputs": [
    {
     "data": {
      "image/png": "[encoded data removed]",
      "text/plain": [
       "<Figure size 576x396 with 2 Axes>"
      ]
     },
     "metadata": {
      "needs_background": "light"
     },
     "output_type": "display_data"
    }
   ],
   "source": [
    "shap.plots.beeswarm(shap_values)"
   ]
  },
  {
   "cell_type": "code",
   "execution_count": 226,
   "id": "twelve-broad",
   "metadata": {},
   "outputs": [],
   "source": [
    "def bootstrap(a, n_repeat, n_resample, metric):\n",
    "    values = []\n",
    "#     print(a.shape)\n",
    "    for i in range(n_repeat):\n",
    "        indices = np.random.choice(len(a), size=n_resample)\n",
    "        a_resampled = a[indices]\n",
    "#         print(a_resampled.shape)\n",
    "        values.append(metric(a_resampled))\n",
    "    return values"
   ]
  },
  {
   "cell_type": "code",
   "execution_count": 241,
   "id": "sensitive-property",
   "metadata": {},
   "outputs": [],
   "source": [
    "def compute_metrics(df, metrics, resample=False):\n",
    "    trues = df.columns[df.columns.str.startswith('true')]\n",
    "    preds = trues.str.replace('true', 'pred')\n",
    "\n",
    "    metric_values = []\n",
    "    \n",
    "    for model, model_df in df.groupby('model'):\n",
    "        for col_true, col_pred in zip(trues, preds):\n",
    "            if col_pred not in df.columns:\n",
    "                continue\n",
    "            true = model_df[col_true]\n",
    "            pred = model_df[col_pred]\n",
    "            for metric_name, m in metrics.items():\n",
    "                def safe_m(a):\n",
    "                    try:\n",
    "                        a = a.T\n",
    "                        return m(a[0], a[1])\n",
    "                    except:\n",
    "                        try:\n",
    "                            return m(a[0], np.round(a[1]))\n",
    "                        except:\n",
    "                            return np.nan\n",
    "                a = np.array(list(zip(true.values, pred.values)))\n",
    "                metric_value = safe_m(a)\n",
    "                if np.isnan(metric_value):\n",
    "                    continue\n",
    "    #             print(true.values)\n",
    "    #             metric_value = m(true.values, pred.values)\n",
    "    #             print(np.stack([true.values, pred.values]).shape)\n",
    "                metric_bootstrapped = bootstrap(a, 10000, len(true), safe_m)\n",
    "                if resample:\n",
    "                    for i in range(1500):\n",
    "                        metric_values.append({'model': model, 'metric': metric_name, 'feat': col_true.split('_')[1], 'value': np.random.choice(metric_bootstrapped), \n",
    "                                              'lb': np.nanpercentile(metric_bootstrapped, 2.5), \n",
    "                                              'ub': np.nanpercentile(metric_bootstrapped, 97.5)})\n",
    "                else:\n",
    "                    metric_values.append({'model': model, 'metric': metric_name, 'feat': col_true.split('_')[1], 'value': metric_value, \n",
    "                                              'lb': np.nanpercentile(metric_bootstrapped, 2.5), \n",
    "                                              'ub': np.nanpercentile(metric_bootstrapped, 97.5)})\n",
    "    return pd.DataFrame(metric_values)"
   ]
  },
  {
   "cell_type": "code",
   "execution_count": 242,
   "id": "young-copper",
   "metadata": {},
   "outputs": [
    {
     "ename": "NameError",
     "evalue": "name 'df' is not defined",
     "output_type": "error",
     "traceback": [
      "\u001b[1;31m---------------------------------------------------------------------------\u001b[0m",
      "\u001b[1;31mNameError\u001b[0m                                 Traceback (most recent call last)",
      "\u001b[1;32m<ipython-input-242-00cf07b74dcd>\u001b[0m in \u001b[0;36m<module>\u001b[1;34m\u001b[0m\n\u001b[1;32m----> 1\u001b[1;33m \u001b[0mdf\u001b[0m\u001b[1;33m\u001b[0m\u001b[1;33m\u001b[0m\u001b[0m\n\u001b[0m",
      "\u001b[1;31mNameError\u001b[0m: name 'df' is not defined"
     ]
    }
   ],
   "source": [
    "df"
   ]
  },
  {
   "cell_type": "code",
   "execution_count": 240,
   "id": "representative-communist",
   "metadata": {},
   "outputs": [
    {
     "ename": "NameError",
     "evalue": "name 'compute_metrics' is not defined",
     "output_type": "error",
     "traceback": [
      "\u001b[1;31m---------------------------------------------------------------------------\u001b[0m",
      "\u001b[1;31mNameError\u001b[0m                                 Traceback (most recent call last)",
      "\u001b[1;32m<ipython-input-240-e587b032cf87>\u001b[0m in \u001b[0;36m<module>\u001b[1;34m\u001b[0m\n\u001b[0;32m      1\u001b[0m \u001b[1;32mfrom\u001b[0m \u001b[0msklearn\u001b[0m\u001b[1;33m.\u001b[0m\u001b[0mmetrics\u001b[0m \u001b[1;32mimport\u001b[0m \u001b[0mroc_auc_score\u001b[0m\u001b[1;33m,\u001b[0m \u001b[0maccuracy_score\u001b[0m\u001b[1;33m\u001b[0m\u001b[1;33m\u001b[0m\u001b[0m\n\u001b[1;32m----> 2\u001b[1;33m \u001b[0mr\u001b[0m \u001b[1;33m=\u001b[0m \u001b[0mcompute_metrics\u001b[0m\u001b[1;33m(\u001b[0m\u001b[0mdf\u001b[0m\u001b[1;33m,\u001b[0m \u001b[1;33m{\u001b[0m\u001b[1;34m'AUC'\u001b[0m\u001b[1;33m:\u001b[0m \u001b[0mroc_auc_score\u001b[0m\u001b[1;33m,\u001b[0m \u001b[1;34m'Accuracy'\u001b[0m\u001b[1;33m:\u001b[0m \u001b[0maccuracy_score\u001b[0m\u001b[1;33m}\u001b[0m\u001b[1;33m,\u001b[0m \u001b[0mresample\u001b[0m\u001b[1;33m=\u001b[0m\u001b[1;32mFalse\u001b[0m\u001b[1;33m)\u001b[0m\u001b[1;33m\u001b[0m\u001b[1;33m\u001b[0m\u001b[0m\n\u001b[0m",
      "\u001b[1;31mNameError\u001b[0m: name 'compute_metrics' is not defined"
     ]
    }
   ],
   "source": [
    "from sklearn.metrics import roc_auc_score, accuracy_score\n",
    "r = compute_metrics(df, {'AUC': roc_auc_score, 'Accuracy': accuracy_score}, resample=False)"
   ]
  },
  {
   "cell_type": "code",
   "execution_count": 275,
   "id": "lined-oxygen",
   "metadata": {},
   "outputs": [
    {
     "data": {
      "text/html": [
       "<div>\n",
       "<style scoped>\n",
       "    .dataframe tbody tr th:only-of-type {\n",
       "        vertical-align: middle;\n",
       "    }\n",
       "\n",
       "    .dataframe tbody tr th {\n",
       "        vertical-align: top;\n",
       "    }\n",
       "\n",
       "    .dataframe thead th {\n",
       "        text-align: right;\n",
       "    }\n",
       "</style>\n",
       "<table border=\"1\" class=\"dataframe\">\n",
       "  <thead>\n",
       "    <tr style=\"text-align: right;\">\n",
       "      <th></th>\n",
       "      <th>model</th>\n",
       "      <th>metric</th>\n",
       "      <th>feat</th>\n",
       "      <th>value</th>\n",
       "      <th>lb</th>\n",
       "      <th>ub</th>\n",
       "    </tr>\n",
       "  </thead>\n",
       "  <tbody>\n",
       "    <tr>\n",
       "      <th>0</th>\n",
       "      <td>DART</td>\n",
       "      <td>AUC</td>\n",
       "      <td>0</td>\n",
       "      <td>0.862541</td>\n",
       "      <td>0.797822</td>\n",
       "      <td>0.880194</td>\n",
       "    </tr>\n",
       "    <tr>\n",
       "      <th>1</th>\n",
       "      <td>DART</td>\n",
       "      <td>AUC</td>\n",
       "      <td>0</td>\n",
       "      <td>0.855368</td>\n",
       "      <td>0.797822</td>\n",
       "      <td>0.880194</td>\n",
       "    </tr>\n",
       "    <tr>\n",
       "      <th>2</th>\n",
       "      <td>DART</td>\n",
       "      <td>AUC</td>\n",
       "      <td>0</td>\n",
       "      <td>0.843487</td>\n",
       "      <td>0.797822</td>\n",
       "      <td>0.880194</td>\n",
       "    </tr>\n",
       "    <tr>\n",
       "      <th>3</th>\n",
       "      <td>DART</td>\n",
       "      <td>AUC</td>\n",
       "      <td>0</td>\n",
       "      <td>0.851829</td>\n",
       "      <td>0.797822</td>\n",
       "      <td>0.880194</td>\n",
       "    </tr>\n",
       "    <tr>\n",
       "      <th>4</th>\n",
       "      <td>DART</td>\n",
       "      <td>AUC</td>\n",
       "      <td>0</td>\n",
       "      <td>0.827378</td>\n",
       "      <td>0.797822</td>\n",
       "      <td>0.880194</td>\n",
       "    </tr>\n",
       "    <tr>\n",
       "      <th>...</th>\n",
       "      <td>...</td>\n",
       "      <td>...</td>\n",
       "      <td>...</td>\n",
       "      <td>...</td>\n",
       "      <td>...</td>\n",
       "      <td>...</td>\n",
       "    </tr>\n",
       "    <tr>\n",
       "      <th>14995</th>\n",
       "      <td>RF</td>\n",
       "      <td>Accuracy</td>\n",
       "      <td>0</td>\n",
       "      <td>0.652422</td>\n",
       "      <td>0.649573</td>\n",
       "      <td>0.746439</td>\n",
       "    </tr>\n",
       "    <tr>\n",
       "      <th>14996</th>\n",
       "      <td>RF</td>\n",
       "      <td>Accuracy</td>\n",
       "      <td>0</td>\n",
       "      <td>0.695157</td>\n",
       "      <td>0.649573</td>\n",
       "      <td>0.746439</td>\n",
       "    </tr>\n",
       "    <tr>\n",
       "      <th>14997</th>\n",
       "      <td>RF</td>\n",
       "      <td>Accuracy</td>\n",
       "      <td>0</td>\n",
       "      <td>0.635328</td>\n",
       "      <td>0.649573</td>\n",
       "      <td>0.746439</td>\n",
       "    </tr>\n",
       "    <tr>\n",
       "      <th>14998</th>\n",
       "      <td>RF</td>\n",
       "      <td>Accuracy</td>\n",
       "      <td>0</td>\n",
       "      <td>0.746439</td>\n",
       "      <td>0.649573</td>\n",
       "      <td>0.746439</td>\n",
       "    </tr>\n",
       "    <tr>\n",
       "      <th>14999</th>\n",
       "      <td>RF</td>\n",
       "      <td>Accuracy</td>\n",
       "      <td>0</td>\n",
       "      <td>0.766382</td>\n",
       "      <td>0.649573</td>\n",
       "      <td>0.746439</td>\n",
       "    </tr>\n",
       "  </tbody>\n",
       "</table>\n",
       "<p>15000 rows × 6 columns</p>\n",
       "</div>"
      ],
      "text/plain": [
       "      model    metric feat     value        lb        ub\n",
       "0      DART       AUC    0  0.862541  0.797822  0.880194\n",
       "1      DART       AUC    0  0.855368  0.797822  0.880194\n",
       "2      DART       AUC    0  0.843487  0.797822  0.880194\n",
       "3      DART       AUC    0  0.851829  0.797822  0.880194\n",
       "4      DART       AUC    0  0.827378  0.797822  0.880194\n",
       "...     ...       ...  ...       ...       ...       ...\n",
       "14995    RF  Accuracy    0  0.652422  0.649573  0.746439\n",
       "14996    RF  Accuracy    0  0.695157  0.649573  0.746439\n",
       "14997    RF  Accuracy    0  0.635328  0.649573  0.746439\n",
       "14998    RF  Accuracy    0  0.746439  0.649573  0.746439\n",
       "14999    RF  Accuracy    0  0.766382  0.649573  0.746439\n",
       "\n",
       "[15000 rows x 6 columns]"
      ]
     },
     "execution_count": 275,
     "metadata": {},
     "output_type": "execute_result"
    }
   ],
   "source": [
    "r"
   ]
  },
  {
   "cell_type": "code",
   "execution_count": 277,
   "id": "moderate-henry",
   "metadata": {},
   "outputs": [
    {
     "data": {
      "text/plain": [
       "<AxesSubplot:>"
      ]
     },
     "execution_count": 277,
     "metadata": {},
     "output_type": "execute_result"
    },
    {
     "data": {
      "image/png": "[encoded data removed]",
      "text/plain": [
       "<Figure size 432x288 with 1 Axes>"
      ]
     },
     "metadata": {},
     "output_type": "display_data"
    }
   ],
   "source": [
    "r[(r.model == 'RF') & (r.metric == 'Accuracy')].value.hist()"
   ]
  },
  {
   "cell_type": "code",
   "execution_count": 278,
   "id": "welsh-essay",
   "metadata": {},
   "outputs": [],
   "source": [
    "def grouped_bar_plot(df):\n",
    "    width = 0.8\n",
    "    n_metrics = len(df.metric.unique())\n",
    "    n_models = len(df.model.unique())\n",
    "    x = np.arange(n_models)*(n_metrics*width+0.2)\n",
    "    for i, (metric, metric_df) in enumerate(df.groupby('metric')):\n",
    "        err = np.stack([metric_df.value.values-metric_df.lb.values, metric_df.ub.values-metric_df.value.values])\n",
    "        print(err.shape)\n",
    "        plt.bar(x+i*width, metric_df.value.values, width=width, label=metric, yerr=err)\n",
    "#         plt.errorbar(x+i*width, metric_df.value.values, yerr=np.abs(metric_df.ub-metric_df.value))#, yerr=np.stack([metric_df.lb, metric_df.ub]))\n",
    "#         print(np.stack([metric_df.lb, metric_df.ub]).shape)\n",
    "    plt.xticks(x+(n_metrics*width)/2-width/2, df.model.unique())\n",
    "    plt.xlabel('Model')\n",
    "    plt.ylabel('Metric value')\n",
    "    plt.legend()"
   ]
  },
  {
   "cell_type": "code",
   "execution_count": 279,
   "id": "valuable-ecology",
   "metadata": {},
   "outputs": [
    {
     "data": {
      "image/png": "[encoded data removed]",
      "text/plain": [
       "<Figure size 432x288 with 1 Axes>"
      ]
     },
     "metadata": {},
     "output_type": "display_data"
    }
   ],
   "source": [
    "g = sns.barplot(data=r, x='model', y='value', hue='metric', estimator=lambda x: np.random.choice(np.array(x)))"
   ]
  },
  {
   "cell_type": "code",
   "execution_count": 235,
   "id": "balanced-spirituality",
   "metadata": {},
   "outputs": [
    {
     "data": {
      "text/plain": [
       "[<matplotlib.patches.Rectangle at 0x207994fb688>,\n",
       " <matplotlib.patches.Rectangle at 0x207994fb448>,\n",
       " <matplotlib.patches.Rectangle at 0x207994fbdc8>,\n",
       " <matplotlib.patches.Rectangle at 0x207994fbf88>,\n",
       " <matplotlib.patches.Rectangle at 0x20799504608>,\n",
       " <matplotlib.patches.Rectangle at 0x2079950cfc8>,\n",
       " <matplotlib.patches.Rectangle at 0x207994fb588>,\n",
       " <matplotlib.patches.Rectangle at 0x2079950cdc8>,\n",
       " <matplotlib.patches.Rectangle at 0x20799515a88>,\n",
       " <matplotlib.patches.Rectangle at 0x20799515e88>]"
      ]
     },
     "execution_count": 235,
     "metadata": {},
     "output_type": "execute_result"
    }
   ],
   "source": [
    "g.patches"
   ]
  },
  {
   "cell_type": "code",
   "execution_count": 280,
   "id": "tropical-bottle",
   "metadata": {},
   "outputs": [
    {
     "name": "stdout",
     "output_type": "stream",
     "text": [
      "(2, 5)\n",
      "(2, 5)\n"
     ]
    },
    {
     "data": {
      "image/png": "[encoded data removed]",
      "text/plain": [
       "<Figure size 720x360 with 1 Axes>"
      ]
     },
     "metadata": {},
     "output_type": "display_data"
    }
   ],
   "source": [
    "import matplotlib.pyplot as plt\n",
    "sns.set()\n",
    "r = compute_metrics(df, {'AUC': roc_auc_score, 'Accuracy': accuracy_score}, resample=False)\n",
    "plt.figure(figsize=(10, 5))\n",
    "grouped_bar_plot(r)"
   ]
  },
  {
   "cell_type": "code",
   "execution_count": 319,
   "id": "unlikely-treat",
   "metadata": {},
   "outputs": [
    {
     "name": "stdout",
     "output_type": "stream",
     "text": [
      "0    0.799282\n",
      "Name: lb, dtype: float64\n",
      "1    0.823163\n",
      "Name: lb, dtype: float64\n",
      "2    0.798693\n",
      "Name: lb, dtype: float64\n",
      "3    0.650129\n",
      "Name: lb, dtype: float64\n",
      "4    0.698631\n",
      "Name: lb, dtype: float64\n"
     ]
    },
    {
     "data": {
      "image/png": "[encoded data removed]",
      "text/plain": [
       "<Figure size 432x288 with 1 Axes>"
      ]
     },
     "metadata": {
      "needs_background": "light"
     },
     "output_type": "display_data"
    }
   ],
   "source": [
    "def est(x):\n",
    "    print(r.loc[x.index].lb)\n",
    "    return np.mean(x)\n",
    "\n",
    "bar = sns.barplot(data=r, x='model', y='value', hue='metric', estimator=est)"
   ]
  },
  {
   "cell_type": "code",
   "execution_count": 323,
   "id": "racial-capitol",
   "metadata": {},
   "outputs": [],
   "source": [
    "for b in bar.patches:\n",
    "    x2, y2 = x0,y0+h"
   ]
  },
  {
   "cell_type": "code",
   "execution_count": 314,
   "id": "potential-laundry",
   "metadata": {},
   "outputs": [
    {
     "data": {
      "text/plain": [
       "<AxesSubplot:xlabel='model', ylabel='value'>"
      ]
     },
     "execution_count": 314,
     "metadata": {},
     "output_type": "execute_result"
    },
    {
     "data": {
      "image/png": "[encoded data removed]",
      "text/plain": [
       "<Figure size 432x288 with 1 Axes>"
      ]
     },
     "metadata": {
      "needs_background": "light"
     },
     "output_type": "display_data"
    }
   ],
   "source": [
    "sns.boxplot(data=r, x='model', y='value', hue='metric')"
   ]
  },
  {
   "cell_type": "code",
   "execution_count": 272,
   "id": "finite-aging",
   "metadata": {},
   "outputs": [],
   "source": [
    "import matplotlib.pyplot as plt\n",
    "def plot_estimations(estimations):\n",
    "    if len(list(estimations.values())[0]) > 1:\n",
    "        sns."
   ]
  },
  {
   "cell_type": "code",
   "execution_count": 273,
   "id": "decimal-ballot",
   "metadata": {},
   "outputs": [
    {
     "data": {
      "text/plain": [
       "<AxesSubplot:>"
      ]
     },
     "execution_count": 273,
     "metadata": {},
     "output_type": "execute_result"
    },
    {
     "data": {
      "image/png": "[encoded data removed]",
      "text/plain": [
       "<Figure size 432x288 with 1 Axes>"
      ]
     },
     "metadata": {
      "needs_background": "light"
     },
     "output_type": "display_data"
    }
   ],
   "source": [
    "import seaborn as sns\n",
    "sns.barplot()"
   ]
  },
  {
   "cell_type": "code",
   "execution_count": 268,
   "id": "suburban-repository",
   "metadata": {},
   "outputs": [
    {
     "name": "stdout",
     "output_type": "stream",
     "text": [
      "RF\n"
     ]
    }
   ],
   "source": [
    "for model, group_df in df.groupby('model'):\n",
    "    print(model)"
   ]
  },
  {
   "cell_type": "code",
   "execution_count": 159,
   "id": "adolescent-princess",
   "metadata": {},
   "outputs": [],
   "source": [
    "df = pd.concat(dfs, ignore_index=True)"
   ]
  },
  {
   "cell_type": "code",
   "execution_count": 165,
   "id": "innovative-prerequisite",
   "metadata": {},
   "outputs": [
    {
     "data": {
      "text/plain": [
       "(2, 10)"
      ]
     },
     "execution_count": 165,
     "metadata": {},
     "output_type": "execute_result"
    }
   ],
   "source": [
    "np.stack([np.random.rand(10), np.random.rand(10)]).shape"
   ]
  },
  {
   "cell_type": "code",
   "execution_count": 39,
   "id": "lyric-cardiff",
   "metadata": {},
   "outputs": [],
   "source": [
    "import pandas as pd\n",
    "ictcf = pd.read_pickle('../data/processed/ictcf.pkl')"
   ]
  },
  {
   "cell_type": "code",
   "execution_count": 41,
   "id": "naked-provincial",
   "metadata": {},
   "outputs": [],
   "source": [
    "X = ictcf.Input.Clinical.copy()\n",
    "y = ictcf.Target['pcr'].copy()"
   ]
  },
  {
   "cell_type": "code",
   "execution_count": 163,
   "id": "warming-slave",
   "metadata": {},
   "outputs": [],
   "source": [
    "X['vis'] = ictcf.Input.Visual.mean(axis='columns')"
   ]
  },
  {
   "cell_type": "code",
   "execution_count": 164,
   "id": "fundamental-divorce",
   "metadata": {},
   "outputs": [],
   "source": [
    "X = X[['vis']]"
   ]
  },
  {
   "cell_type": "code",
   "execution_count": 47,
   "id": "computational-sheep",
   "metadata": {},
   "outputs": [],
   "source": [
    "import re\n",
    "for col in X.select_dtypes(include=['category']):\n",
    "    X[col] = X[col].cat.codes\n",
    "    X.loc[X[col] < 0, col] = np.nan\n",
    "y = y.cat.codes\n",
    "X.columns = [re.sub(r'[^0-9a-zA-Z_-]+ ', '', '_'.join(col).strip()) for col in X.columns.values]"
   ]
  },
  {
   "cell_type": "code",
   "execution_count": 84,
   "id": "musical-fleet",
   "metadata": {},
   "outputs": [],
   "source": [
    "# test_idx = ictcf.Meta.cohort == 'c2'\n",
    "test_idx = ictcf.Meta.hospital == 'Union'\n",
    "X_train, X_test = X.loc[~test_idx], X.loc[test_idx]\n",
    "y_train, y_test = y.loc[~test_idx], y.loc[test_idx]"
   ]
  },
  {
   "cell_type": "code",
   "execution_count": 85,
   "id": "substantial-equilibrium",
   "metadata": {},
   "outputs": [],
   "source": [
    "from lightgbm.sklearn import LGBMClassifier"
   ]
  },
  {
   "cell_type": "code",
   "execution_count": 86,
   "id": "portuguese-international",
   "metadata": {},
   "outputs": [
    {
     "name": "stderr",
     "output_type": "stream",
     "text": [
      "c:\\users\\roel\\.virtualenvs\\diagcovid-ckc2berq\\lib\\site-packages\\numpy\\lib\\nanfunctions.py:1390: RuntimeWarning: All-NaN slice encountered\n",
      "  overwrite_input, interpolation)\n"
     ]
    }
   ],
   "source": [
    "from bonsai.ensemble.paloboost import PaloBoost\n",
    "from bonsai.ensemble.paloforest import PaloForest\n",
    "b = PaloForest(n_paloboost=20, n_estimators=400)\n",
    "b.fit(np.array(X_train), np.array(y_train))"
   ]
  },
  {
   "cell_type": "code",
   "execution_count": 87,
   "id": "joint-mount",
   "metadata": {},
   "outputs": [
    {
     "data": {
      "text/plain": [
       "0.6983195298560776"
      ]
     },
     "execution_count": 87,
     "metadata": {},
     "output_type": "execute_result"
    }
   ],
   "source": [
    "from sklearn.metrics import roc_auc_score\n",
    "roc_auc_score(y_test, b.predict_proba(np.array(X_test)))"
   ]
  },
  {
   "cell_type": "code",
   "execution_count": 224,
   "id": "unauthorized-knock",
   "metadata": {},
   "outputs": [
    {
     "data": {
      "text/plain": [
       "BaggingClassifier(base_estimator=LGBMClassifier(max_depth=1, n_estimators=15),\n",
       "                  max_samples=0.8, n_estimators=3000)"
      ]
     },
     "execution_count": 224,
     "metadata": {},
     "output_type": "execute_result"
    }
   ],
   "source": [
    "from sklearn.ensemble import BaggingClassifier\n",
    "from sklearn.model_selection import RandomizedSearchCV\n",
    "from sklearn.ensemble import AdaBoostClassifier, StackingClassifier, VotingClassifier, ExtraTreesClassifier\n",
    "from sklearn.pipeline import make_pipeline\n",
    "from sklearn.impute import SimpleImputer\n",
    "# from sklearn.linear_model import BayesianRidge\n",
    "from scipy.stats import randint\n",
    "\n",
    "clf = BaggingClassifier(LGBMClassifier(n_jobs=-1, n_estimators=15, max_depth=1), n_estimators=3000, max_samples=0.8)\n",
    "# clf2 = LGBMClassifier(n_jobs=-1)\n",
    "# clf = VotingClassifier([('bagging', clf), ('boosting', clf2)], voting='soft')\n",
    "# clf = BaggingClassifier(make_pipeline(SimpleImputer(), ExtraTreesClassifier(n_estimators=20, max_depth=1)), n_estimators=100)\n",
    "rs = RandomizedSearchCV(clf, param_distributions={\n",
    "    'base_estimator__n_estimators': randint(low=2, high=30), \n",
    "#     'base_estimator__max_depth': randint(low=0, high=20)\n",
    "}, cv=4, n_iter=30)\n",
    "clf.fit(X_train, y_train)"
   ]
  },
  {
   "cell_type": "code",
   "execution_count": 225,
   "id": "polar-devon",
   "metadata": {},
   "outputs": [
    {
     "data": {
      "text/plain": [
       "0.7112793615577645"
      ]
     },
     "execution_count": 225,
     "metadata": {},
     "output_type": "execute_result"
    }
   ],
   "source": [
    "from sklearn.metrics import roc_auc_score\n",
    "clf.score(X_test, y_test)\n",
    "roc_auc_score(y_test, clf.predict_proba(X_test)[:, 1])"
   ]
  },
  {
   "cell_type": "code",
   "execution_count": 175,
   "id": "documented-adams",
   "metadata": {},
   "outputs": [
    {
     "data": {
      "text/plain": [
       "LGBMClassifier()"
      ]
     },
     "execution_count": 175,
     "metadata": {},
     "output_type": "execute_result"
    }
   ],
   "source": [
    "from sklearn.ensemble import BaggingClassifier\n",
    "clf = LGBMClassifier(n_jobs=-1)\n",
    "clf.fit(X_train, y_train)"
   ]
  },
  {
   "cell_type": "code",
   "execution_count": 119,
   "id": "married-activity",
   "metadata": {},
   "outputs": [
    {
     "data": {
      "text/plain": [
       "0.6733189016093886"
      ]
     },
     "execution_count": 119,
     "metadata": {},
     "output_type": "execute_result"
    }
   ],
   "source": [
    "from sklearn.metrics import roc_auc_score\n",
    "clf.score(X_test, y_test)\n",
    "roc_auc_score(y_test, clf.predict_proba(X_test)[:, 1])"
   ]
  },
  {
   "cell_type": "code",
   "execution_count": 215,
   "id": "diagnostic-desire",
   "metadata": {},
   "outputs": [
    {
     "data": {
      "text/plain": [
       "0.7478413815158299"
      ]
     },
     "execution_count": 215,
     "metadata": {},
     "output_type": "execute_result"
    }
   ],
   "source": [
    "from sklearn.metrics import accuracy_score\n",
    "idx = (~ictcf.Input.Visual.mean(axis='columns').isna()) & (ictcf.Meta.cohort == 'c2')\n",
    "roc_auc_score(y_test.loc[idx], ictcf.Input.Visual.mean(axis='columns').loc[idx])"
   ]
  },
  {
   "cell_type": "code",
   "execution_count": 219,
   "id": "executive-prospect",
   "metadata": {},
   "outputs": [
    {
     "data": {
      "text/plain": [
       "0.8446775774739937"
      ]
     },
     "execution_count": 219,
     "metadata": {},
     "output_type": "execute_result"
    }
   ],
   "source": [
    "from sklearn.metrics import accuracy_score\n",
    "idx = (~ictcf.Input.Visual.mean(axis='columns').isna()) & (ictcf.Meta.hospital == 'Union')\n",
    "roc_auc_score(y.loc[idx], ictcf.Input.Visual.mean(axis='columns').loc[idx])"
   ]
  },
  {
   "cell_type": "code",
   "execution_count": 214,
   "id": "combined-alias",
   "metadata": {},
   "outputs": [
    {
     "data": {
      "text/plain": [
       "0.5146198830409356"
      ]
     },
     "execution_count": 214,
     "metadata": {},
     "output_type": "execute_result"
    }
   ],
   "source": [
    "from sklearn.metrics import accuracy_score\n",
    "idx = (~ictcf.Input.Visual.mean(axis='columns').isna()) & (ictcf.Meta.cohort == 'c2')\n",
    "preds = ictcf.Input.Visual.mean(axis='columns').loc[idx]\n",
    "accuracy_score(y_test.loc[idx].cat.codes, np.round(((preds-preds.min())/(preds.max()-preds.min()))))"
   ]
  },
  {
   "cell_type": "code",
   "execution_count": 212,
   "id": "champion-facing",
   "metadata": {},
   "outputs": [
    {
     "data": {
      "text/plain": [
       "1170    0.0\n",
       "1171    1.0\n",
       "1172    0.0\n",
       "1173    0.0\n",
       "1174    0.0\n",
       "       ... \n",
       "1516    1.0\n",
       "1517    0.0\n",
       "1518    1.0\n",
       "1519    0.0\n",
       "1520    1.0\n",
       "Length: 342, dtype: float64"
      ]
     },
     "execution_count": 212,
     "metadata": {},
     "output_type": "execute_result"
    }
   ],
   "source": [
    "np.round(((preds-preds.min())/(preds.max()-preds.min())))"
   ]
  },
  {
   "cell_type": "code",
   "execution_count": 205,
   "id": "touched-afghanistan",
   "metadata": {},
   "outputs": [
    {
     "data": {
      "text/plain": [
       "0       1.530727\n",
       "1       2.540437\n",
       "2       1.819481\n",
       "3       1.644178\n",
       "4       2.073250\n",
       "          ...   \n",
       "1516    2.585665\n",
       "1517    2.026200\n",
       "1518    2.383986\n",
       "1519    0.950276\n",
       "1520    3.513498\n",
       "Length: 1521, dtype: float64"
      ]
     },
     "execution_count": 205,
     "metadata": {},
     "output_type": "execute_result"
    }
   ],
   "source": [
    "ictcf.Input.Visual.mean(axis='columns')"
   ]
  },
  {
   "cell_type": "code",
   "execution_count": null,
   "id": "accessory-scheduling",
   "metadata": {},
   "outputs": [],
   "source": []
  }
 ],
 "metadata": {
  "kernelspec": {
   "display_name": "Python 3",
   "language": "python",
   "name": "python3"
  },
  "language_info": {
   "codemirror_mode": {
    "name": "ipython",
    "version": 3
   },
   "file_extension": ".py",
   "mimetype": "text/x-python",
   "name": "python",
   "nbconvert_exporter": "python",
   "pygments_lexer": "ipython3",
   "version": "3.7.9"
  }
 },
 "nbformat": 4,
 "nbformat_minor": 5
}
